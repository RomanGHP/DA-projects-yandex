{
 "cells": [
  {
   "cell_type": "markdown",
   "metadata": {
    "id": "-VFbjcb3Awb7"
   },
   "source": [
    "# Исследование объявлений о продаже квартир\n",
    "\n",
    "В вашем распоряжении данные сервиса Яндекс Недвижимость — архив объявлений о продаже квартир в Санкт-Петербурге и соседних населённых пунктах за несколько лет. Вам нужно научиться определять рыночную стоимость объектов недвижимости. Для этого проведите исследовательский анализ данных и установите параметры, влияющие на цену объектов. Это позволит построить автоматизированную систему: она отследит аномалии и мошенническую деятельность.\n",
    "\n",
    "По каждой квартире на продажу доступны два вида данных. Первые вписаны пользователем, вторые — получены автоматически на основе картографических данных. Например, расстояние до центра, аэропорта и других объектов — эти данные автоматически получены из геосервисов. Количество парков и водоёмов также заполняется без участия пользователя."
   ]
  },
  {
   "cell_type": "markdown",
   "metadata": {
    "id": "aeFLH07FAwb9"
   },
   "source": [
    "### Откройте файл с данными и изучите общую информацию"
   ]
  },
  {
   "cell_type": "code",
   "execution_count": null,
   "metadata": {},
   "outputs": [],
   "source": [
    "import pandas as pd\n",
    "import matplotlib.pyplot as plt\n",
    "import numpy as np"
   ]
  },
  {
   "cell_type": "code",
   "execution_count": null,
   "metadata": {
    "id": "7MZxY65pAwb9",
    "scrolled": false
   },
   "outputs": [
    {
     "name": "stdout",
     "output_type": "stream",
     "text": [
      "<class 'pandas.core.frame.DataFrame'>\n",
      "RangeIndex: 23699 entries, 0 to 23698\n",
      "Data columns (total 22 columns):\n",
      " #   Column                Non-Null Count  Dtype  \n",
      "---  ------                --------------  -----  \n",
      " 0   total_images          23699 non-null  int64  \n",
      " 1   last_price            23699 non-null  float64\n",
      " 2   total_area            23699 non-null  float64\n",
      " 3   first_day_exposition  23699 non-null  object \n",
      " 4   rooms                 23699 non-null  int64  \n",
      " 5   ceiling_height        14504 non-null  float64\n",
      " 6   floors_total          23613 non-null  float64\n",
      " 7   living_area           21796 non-null  float64\n",
      " 8   floor                 23699 non-null  int64  \n",
      " 9   is_apartment          2775 non-null   object \n",
      " 10  studio                23699 non-null  bool   \n",
      " 11  open_plan             23699 non-null  bool   \n",
      " 12  kitchen_area          21421 non-null  float64\n",
      " 13  balcony               12180 non-null  float64\n",
      " 14  locality_name         23650 non-null  object \n",
      " 15  airports_nearest      18157 non-null  float64\n",
      " 16  cityCenters_nearest   18180 non-null  float64\n",
      " 17  parks_around3000      18181 non-null  float64\n",
      " 18  parks_nearest         8079 non-null   float64\n",
      " 19  ponds_around3000      18181 non-null  float64\n",
      " 20  ponds_nearest         9110 non-null   float64\n",
      " 21  days_exposition       20518 non-null  float64\n",
      "dtypes: bool(2), float64(14), int64(3), object(3)\n",
      "memory usage: 3.7+ MB\n"
     ]
    },
    {
     "data": {
      "text/html": [
       "<div>\n",
       "<style scoped>\n",
       "    .dataframe tbody tr th:only-of-type {\n",
       "        vertical-align: middle;\n",
       "    }\n",
       "\n",
       "    .dataframe tbody tr th {\n",
       "        vertical-align: top;\n",
       "    }\n",
       "\n",
       "    .dataframe thead th {\n",
       "        text-align: right;\n",
       "    }\n",
       "</style>\n",
       "<table border=\"1\" class=\"dataframe\">\n",
       "  <thead>\n",
       "    <tr style=\"text-align: right;\">\n",
       "      <th></th>\n",
       "      <th>total_images</th>\n",
       "      <th>last_price</th>\n",
       "      <th>total_area</th>\n",
       "      <th>first_day_exposition</th>\n",
       "      <th>rooms</th>\n",
       "      <th>ceiling_height</th>\n",
       "      <th>floors_total</th>\n",
       "      <th>living_area</th>\n",
       "      <th>floor</th>\n",
       "      <th>is_apartment</th>\n",
       "      <th>...</th>\n",
       "      <th>kitchen_area</th>\n",
       "      <th>balcony</th>\n",
       "      <th>locality_name</th>\n",
       "      <th>airports_nearest</th>\n",
       "      <th>cityCenters_nearest</th>\n",
       "      <th>parks_around3000</th>\n",
       "      <th>parks_nearest</th>\n",
       "      <th>ponds_around3000</th>\n",
       "      <th>ponds_nearest</th>\n",
       "      <th>days_exposition</th>\n",
       "    </tr>\n",
       "  </thead>\n",
       "  <tbody>\n",
       "    <tr>\n",
       "      <th>0</th>\n",
       "      <td>20</td>\n",
       "      <td>13000000.00</td>\n",
       "      <td>108.00</td>\n",
       "      <td>2019-03-07T00:00:00</td>\n",
       "      <td>3</td>\n",
       "      <td>2.70</td>\n",
       "      <td>16.00</td>\n",
       "      <td>51.00</td>\n",
       "      <td>8</td>\n",
       "      <td>NaN</td>\n",
       "      <td>...</td>\n",
       "      <td>25.00</td>\n",
       "      <td>NaN</td>\n",
       "      <td>Санкт-Петербург</td>\n",
       "      <td>18863.00</td>\n",
       "      <td>16028.00</td>\n",
       "      <td>1.00</td>\n",
       "      <td>482.00</td>\n",
       "      <td>2.00</td>\n",
       "      <td>755.00</td>\n",
       "      <td>NaN</td>\n",
       "    </tr>\n",
       "    <tr>\n",
       "      <th>1</th>\n",
       "      <td>7</td>\n",
       "      <td>3350000.00</td>\n",
       "      <td>40.40</td>\n",
       "      <td>2018-12-04T00:00:00</td>\n",
       "      <td>1</td>\n",
       "      <td>NaN</td>\n",
       "      <td>11.00</td>\n",
       "      <td>18.60</td>\n",
       "      <td>1</td>\n",
       "      <td>NaN</td>\n",
       "      <td>...</td>\n",
       "      <td>11.00</td>\n",
       "      <td>2.00</td>\n",
       "      <td>посёлок Шушары</td>\n",
       "      <td>12817.00</td>\n",
       "      <td>18603.00</td>\n",
       "      <td>0.00</td>\n",
       "      <td>NaN</td>\n",
       "      <td>0.00</td>\n",
       "      <td>NaN</td>\n",
       "      <td>81.00</td>\n",
       "    </tr>\n",
       "    <tr>\n",
       "      <th>2</th>\n",
       "      <td>10</td>\n",
       "      <td>5196000.00</td>\n",
       "      <td>56.00</td>\n",
       "      <td>2015-08-20T00:00:00</td>\n",
       "      <td>2</td>\n",
       "      <td>NaN</td>\n",
       "      <td>5.00</td>\n",
       "      <td>34.30</td>\n",
       "      <td>4</td>\n",
       "      <td>NaN</td>\n",
       "      <td>...</td>\n",
       "      <td>8.30</td>\n",
       "      <td>0.00</td>\n",
       "      <td>Санкт-Петербург</td>\n",
       "      <td>21741.00</td>\n",
       "      <td>13933.00</td>\n",
       "      <td>1.00</td>\n",
       "      <td>90.00</td>\n",
       "      <td>2.00</td>\n",
       "      <td>574.00</td>\n",
       "      <td>558.00</td>\n",
       "    </tr>\n",
       "    <tr>\n",
       "      <th>3</th>\n",
       "      <td>0</td>\n",
       "      <td>64900000.00</td>\n",
       "      <td>159.00</td>\n",
       "      <td>2015-07-24T00:00:00</td>\n",
       "      <td>3</td>\n",
       "      <td>NaN</td>\n",
       "      <td>14.00</td>\n",
       "      <td>NaN</td>\n",
       "      <td>9</td>\n",
       "      <td>NaN</td>\n",
       "      <td>...</td>\n",
       "      <td>NaN</td>\n",
       "      <td>0.00</td>\n",
       "      <td>Санкт-Петербург</td>\n",
       "      <td>28098.00</td>\n",
       "      <td>6800.00</td>\n",
       "      <td>2.00</td>\n",
       "      <td>84.00</td>\n",
       "      <td>3.00</td>\n",
       "      <td>234.00</td>\n",
       "      <td>424.00</td>\n",
       "    </tr>\n",
       "    <tr>\n",
       "      <th>4</th>\n",
       "      <td>2</td>\n",
       "      <td>10000000.00</td>\n",
       "      <td>100.00</td>\n",
       "      <td>2018-06-19T00:00:00</td>\n",
       "      <td>2</td>\n",
       "      <td>3.03</td>\n",
       "      <td>14.00</td>\n",
       "      <td>32.00</td>\n",
       "      <td>13</td>\n",
       "      <td>NaN</td>\n",
       "      <td>...</td>\n",
       "      <td>41.00</td>\n",
       "      <td>NaN</td>\n",
       "      <td>Санкт-Петербург</td>\n",
       "      <td>31856.00</td>\n",
       "      <td>8098.00</td>\n",
       "      <td>2.00</td>\n",
       "      <td>112.00</td>\n",
       "      <td>1.00</td>\n",
       "      <td>48.00</td>\n",
       "      <td>121.00</td>\n",
       "    </tr>\n",
       "    <tr>\n",
       "      <th>5</th>\n",
       "      <td>10</td>\n",
       "      <td>2890000.00</td>\n",
       "      <td>30.40</td>\n",
       "      <td>2018-09-10T00:00:00</td>\n",
       "      <td>1</td>\n",
       "      <td>NaN</td>\n",
       "      <td>12.00</td>\n",
       "      <td>14.40</td>\n",
       "      <td>5</td>\n",
       "      <td>NaN</td>\n",
       "      <td>...</td>\n",
       "      <td>9.10</td>\n",
       "      <td>NaN</td>\n",
       "      <td>городской посёлок Янино-1</td>\n",
       "      <td>NaN</td>\n",
       "      <td>NaN</td>\n",
       "      <td>NaN</td>\n",
       "      <td>NaN</td>\n",
       "      <td>NaN</td>\n",
       "      <td>NaN</td>\n",
       "      <td>55.00</td>\n",
       "    </tr>\n",
       "    <tr>\n",
       "      <th>6</th>\n",
       "      <td>6</td>\n",
       "      <td>3700000.00</td>\n",
       "      <td>37.30</td>\n",
       "      <td>2017-11-02T00:00:00</td>\n",
       "      <td>1</td>\n",
       "      <td>NaN</td>\n",
       "      <td>26.00</td>\n",
       "      <td>10.60</td>\n",
       "      <td>6</td>\n",
       "      <td>NaN</td>\n",
       "      <td>...</td>\n",
       "      <td>14.40</td>\n",
       "      <td>1.00</td>\n",
       "      <td>посёлок Парголово</td>\n",
       "      <td>52996.00</td>\n",
       "      <td>19143.00</td>\n",
       "      <td>0.00</td>\n",
       "      <td>NaN</td>\n",
       "      <td>0.00</td>\n",
       "      <td>NaN</td>\n",
       "      <td>155.00</td>\n",
       "    </tr>\n",
       "    <tr>\n",
       "      <th>7</th>\n",
       "      <td>5</td>\n",
       "      <td>7915000.00</td>\n",
       "      <td>71.60</td>\n",
       "      <td>2019-04-18T00:00:00</td>\n",
       "      <td>2</td>\n",
       "      <td>NaN</td>\n",
       "      <td>24.00</td>\n",
       "      <td>NaN</td>\n",
       "      <td>22</td>\n",
       "      <td>NaN</td>\n",
       "      <td>...</td>\n",
       "      <td>18.90</td>\n",
       "      <td>2.00</td>\n",
       "      <td>Санкт-Петербург</td>\n",
       "      <td>23982.00</td>\n",
       "      <td>11634.00</td>\n",
       "      <td>0.00</td>\n",
       "      <td>NaN</td>\n",
       "      <td>0.00</td>\n",
       "      <td>NaN</td>\n",
       "      <td>NaN</td>\n",
       "    </tr>\n",
       "    <tr>\n",
       "      <th>8</th>\n",
       "      <td>20</td>\n",
       "      <td>2900000.00</td>\n",
       "      <td>33.16</td>\n",
       "      <td>2018-05-23T00:00:00</td>\n",
       "      <td>1</td>\n",
       "      <td>NaN</td>\n",
       "      <td>27.00</td>\n",
       "      <td>15.43</td>\n",
       "      <td>26</td>\n",
       "      <td>NaN</td>\n",
       "      <td>...</td>\n",
       "      <td>8.81</td>\n",
       "      <td>NaN</td>\n",
       "      <td>посёлок Мурино</td>\n",
       "      <td>NaN</td>\n",
       "      <td>NaN</td>\n",
       "      <td>NaN</td>\n",
       "      <td>NaN</td>\n",
       "      <td>NaN</td>\n",
       "      <td>NaN</td>\n",
       "      <td>189.00</td>\n",
       "    </tr>\n",
       "    <tr>\n",
       "      <th>9</th>\n",
       "      <td>18</td>\n",
       "      <td>5400000.00</td>\n",
       "      <td>61.00</td>\n",
       "      <td>2017-02-26T00:00:00</td>\n",
       "      <td>3</td>\n",
       "      <td>2.50</td>\n",
       "      <td>9.00</td>\n",
       "      <td>43.60</td>\n",
       "      <td>7</td>\n",
       "      <td>NaN</td>\n",
       "      <td>...</td>\n",
       "      <td>6.50</td>\n",
       "      <td>2.00</td>\n",
       "      <td>Санкт-Петербург</td>\n",
       "      <td>50898.00</td>\n",
       "      <td>15008.00</td>\n",
       "      <td>0.00</td>\n",
       "      <td>NaN</td>\n",
       "      <td>0.00</td>\n",
       "      <td>NaN</td>\n",
       "      <td>289.00</td>\n",
       "    </tr>\n",
       "  </tbody>\n",
       "</table>\n",
       "<p>10 rows × 22 columns</p>\n",
       "</div>"
      ],
      "text/plain": [
       "   total_images  last_price  total_area first_day_exposition  rooms  \\\n",
       "0            20 13000000.00      108.00  2019-03-07T00:00:00      3   \n",
       "1             7  3350000.00       40.40  2018-12-04T00:00:00      1   \n",
       "2            10  5196000.00       56.00  2015-08-20T00:00:00      2   \n",
       "3             0 64900000.00      159.00  2015-07-24T00:00:00      3   \n",
       "4             2 10000000.00      100.00  2018-06-19T00:00:00      2   \n",
       "5            10  2890000.00       30.40  2018-09-10T00:00:00      1   \n",
       "6             6  3700000.00       37.30  2017-11-02T00:00:00      1   \n",
       "7             5  7915000.00       71.60  2019-04-18T00:00:00      2   \n",
       "8            20  2900000.00       33.16  2018-05-23T00:00:00      1   \n",
       "9            18  5400000.00       61.00  2017-02-26T00:00:00      3   \n",
       "\n",
       "   ceiling_height  floors_total  living_area  floor is_apartment  ...  \\\n",
       "0            2.70         16.00        51.00      8          NaN  ...   \n",
       "1             NaN         11.00        18.60      1          NaN  ...   \n",
       "2             NaN          5.00        34.30      4          NaN  ...   \n",
       "3             NaN         14.00          NaN      9          NaN  ...   \n",
       "4            3.03         14.00        32.00     13          NaN  ...   \n",
       "5             NaN         12.00        14.40      5          NaN  ...   \n",
       "6             NaN         26.00        10.60      6          NaN  ...   \n",
       "7             NaN         24.00          NaN     22          NaN  ...   \n",
       "8             NaN         27.00        15.43     26          NaN  ...   \n",
       "9            2.50          9.00        43.60      7          NaN  ...   \n",
       "\n",
       "   kitchen_area  balcony              locality_name  airports_nearest  \\\n",
       "0         25.00      NaN            Санкт-Петербург          18863.00   \n",
       "1         11.00     2.00             посёлок Шушары          12817.00   \n",
       "2          8.30     0.00            Санкт-Петербург          21741.00   \n",
       "3           NaN     0.00            Санкт-Петербург          28098.00   \n",
       "4         41.00      NaN            Санкт-Петербург          31856.00   \n",
       "5          9.10      NaN  городской посёлок Янино-1               NaN   \n",
       "6         14.40     1.00          посёлок Парголово          52996.00   \n",
       "7         18.90     2.00            Санкт-Петербург          23982.00   \n",
       "8          8.81      NaN             посёлок Мурино               NaN   \n",
       "9          6.50     2.00            Санкт-Петербург          50898.00   \n",
       "\n",
       "  cityCenters_nearest  parks_around3000  parks_nearest  ponds_around3000  \\\n",
       "0            16028.00              1.00         482.00              2.00   \n",
       "1            18603.00              0.00            NaN              0.00   \n",
       "2            13933.00              1.00          90.00              2.00   \n",
       "3             6800.00              2.00          84.00              3.00   \n",
       "4             8098.00              2.00         112.00              1.00   \n",
       "5                 NaN               NaN            NaN               NaN   \n",
       "6            19143.00              0.00            NaN              0.00   \n",
       "7            11634.00              0.00            NaN              0.00   \n",
       "8                 NaN               NaN            NaN               NaN   \n",
       "9            15008.00              0.00            NaN              0.00   \n",
       "\n",
       "   ponds_nearest  days_exposition  \n",
       "0         755.00              NaN  \n",
       "1            NaN            81.00  \n",
       "2         574.00           558.00  \n",
       "3         234.00           424.00  \n",
       "4          48.00           121.00  \n",
       "5            NaN            55.00  \n",
       "6            NaN           155.00  \n",
       "7            NaN              NaN  \n",
       "8            NaN           189.00  \n",
       "9            NaN           289.00  \n",
       "\n",
       "[10 rows x 22 columns]"
      ]
     },
     "execution_count": 2,
     "metadata": {},
     "output_type": "execute_result"
    }
   ],
   "source": [
    "re = pd.read_csv('/datasets/real_estate_data.csv', sep='\\t')\n",
    "pd.set_option('display.float_format', '{:.2f}'.format)\n",
    "re.info()\n",
    "re.head(10)"
   ]
  },
  {
   "cell_type": "code",
   "execution_count": null,
   "metadata": {},
   "outputs": [
    {
     "data": {
      "image/png": "[encoded data removed]",
      "text/plain": [
       "<Figure size 1080x1440 with 20 Axes>"
      ]
     },
     "metadata": {
      "needs_background": "light"
     },
     "output_type": "display_data"
    }
   ],
   "source": [
    "re.hist(figsize=(15, 20));"
   ]
  },
  {
   "cell_type": "markdown",
   "metadata": {
    "id": "-O5NtivEAwb9"
   },
   "source": [
    "### Выполните предобработку данных"
   ]
  },
  {
   "cell_type": "markdown",
   "metadata": {},
   "source": [
    "Большая часть столбцов таблицы имеет пропуски, есть столбцы с некорректными типами данных. Всего записей: 23699"
   ]
  },
  {
   "cell_type": "markdown",
   "metadata": {
    "id": "7v3vAeTuAwb-"
   },
   "source": [
    "<b>2.1 Возможные причины возникновения пропусков данных:</b>\n",
    "1. Некоторые хар-ки квартиры могут быть необязательными при заполнении объявления, поэтому их могут не заполнять.\n",
    "2. Некоторые данные могут быть утеряны или не собраны в первоисточнике.\n",
    "3. Некоторые пропуски могут являться систематическими, возникающими из-за особенностей базы данных или алгоритмов сбора информации (полученные автоматически на основе картографических данных, геосервисов и других централизвованных источников информации)."
   ]
  },
  {
   "cell_type": "code",
   "execution_count": null,
   "metadata": {},
   "outputs": [],
   "source": [
    "re['last_price'] = re['last_price'].astype(int)\n",
    "# замена дробного на целое (цена на момент снятия с публикации)\n",
    "\n",
    "re['ceiling_height'] = re['ceiling_height'].fillna(re['ceiling_height'].median())\n",
    "# замена Nan на медианное по столбцу (высота потолков м)\n",
    "\n",
    "re['is_apartment'] = re['is_apartment'].astype(bool)\n",
    "# изменение типа данных с object на bool\n",
    "\n",
    "re['first_day_exposition'] = pd.to_datetime(re['first_day_exposition'], format='%Y-%m-%dT%H:%M:%S')\n",
    "# изменение типа данных с object на datetime\n",
    "\n",
    "re['balcony'] = re['balcony'].fillna(0).astype(int)\n",
    "# замена Nan на 0 (количество балконов), замена дробного на целое\n",
    "\n",
    "# re['rooms'].unique() # по моему мнению в столбце число комнат не может равнятся 0, как минимум должна быть одна.\n",
    "# array([ 3,  1,  2,  4,  5,  6,  0,  7, 11,  8, 14, 10, 15,  9, 19, 16, 12])\n",
    "\n",
    "re.loc[re['rooms'] == 0, 'rooms'] = 1\n",
    "# замена числа комнат = 0 на = 1\n",
    "\n",
    "re['floors_total'] = re['floors_total'].fillna(re['floor']).astype(int)\n",
    "# замена Nan на 0, замена дробного на целое\n",
    "\n",
    "#re.info()"
   ]
  },
  {
   "cell_type": "markdown",
   "metadata": {},
   "source": [
    "<b>2.2 Изменение типов данных:</b>\n",
    "\n",
    "1. last_price   /замена дробного на целое/   целочисленный тип данных (int) более удобен для визуализации данных, построения графиков и анализа, а так же лучше подходит для арифметических операций, без риска потери точности при округлении.\n",
    "\n",
    "2. first_day_exposition   /изменение типа данных с object на datetime/   формат datetime даёт возможность выполнять операции с датами, такие как арифметические действия, сравнение дат, фильтрацию данных по временным диапазонам и т.д.\n",
    "\n",
    "3. is_apartment   /изменение типа данных с object на bool/   согласно условиям проекта - столбец 'is_apartment' апартаменты (булев тип).\n",
    "\n",
    "4. balcony   /замена дробного на целое/   1.5 балкона, возможно самострой.\n",
    "\n",
    "5. floors_total   /замена дробного на целое/ целочисленные этажи в целочисленных домах."
   ]
  },
  {
   "cell_type": "markdown",
   "metadata": {},
   "source": [
    "<b>2.3 Работа с дубликатами</b>"
   ]
  },
  {
   "cell_type": "code",
   "execution_count": null,
   "metadata": {
    "scrolled": false
   },
   "outputs": [],
   "source": [
    "#re['locality_name'].sort_values().unique()\n",
    "#len(re['locality_name'].unique()) # до очистки 365 записей\n",
    "\n",
    "re['cleaned_locality_name'] = ( # новый столбец с очищенными данными\n",
    "    re['locality_name']\n",
    "    .str.replace('ё', 'е')\n",
    "    .replace(['поселок городского типа', 'поселок при железнодорожной станции', 'городской поселок'], 'поселок', regex=True)\n",
    "    .replace(['садоводческое некоммерческое товарищество'], 'садовое товарищество', regex=True)\n",
    ") \n",
    "\n",
    "#re['cleaned_locality_name'].sort_values().unique()\n",
    "#len(re['cleaned_locality_name'].unique()) # после 323 записи"
   ]
  },
  {
   "cell_type": "markdown",
   "metadata": {
    "id": "QCcvyY6YAwb-"
   },
   "source": [
    "### Добавьте в таблицу новые столбцы"
   ]
  },
  {
   "cell_type": "code",
   "execution_count": null,
   "metadata": {
    "id": "Z8eJek3IAwb-"
   },
   "outputs": [],
   "source": [
    "re['price_m2'] = (re['last_price'] / re['total_area']).round(2) \n",
    "# цена одного квадратного метра (новый столбец)\n",
    "\n",
    "re['day'] = re['first_day_exposition'].dt.weekday \n",
    "# номер дня недели публикации объявления (новый столбец)\n",
    "re['month'] = re['first_day_exposition'].dt.month \n",
    "# месяц публикации объявления (новый столбец)\n",
    "re['year'] = re['first_day_exposition'].dt.year \n",
    "# год публикации объявления (новый столбец)\n",
    "\n",
    "re['first_floor'] = (re['floor'] == 1) *1 \n",
    "# первый этаж (новый столбец)\n",
    "re['last_floor'] = (re['floor'] == re['floors_total']) *1 \n",
    "# последний этаж (новый столбец)\n",
    "\n",
    "re['floor_type'] = 'другой' \n",
    "# установка всех значений столбца 'floor_type' на 'другой' \n",
    "re.loc[re['first_floor'] == 1, 'floor_type'] = 'первый' \n",
    "# установка значений 'первый' для первого этажа \n",
    "re.loc[re['last_floor'] == 1, 'floor_type'] = 'последний' \n",
    "# установка значений 'последний' для последнего этажа \n",
    "\n",
    "#re['cityCenters_km'] = (re['cityCenters_nearest'] / 1000).round().fillna(100000).astype(int)\n",
    "\n",
    "re['cityCenters_km'] = (re['cityCenters_nearest'] / 1000)\n",
    "re['cityCenters_km'] = np.floor(pd.to_numeric(re['cityCenters_km'], errors='coerce')).astype('Int64')\n",
    "# расстояние до центра города в километрах (новый столбец)\n",
    "\n",
    "#re['cityCenters_km'].head(30)\n",
    "#re.info()"
   ]
  },
  {
   "cell_type": "markdown",
   "metadata": {
    "id": "pPyxrKWTAwb-"
   },
   "source": [
    "### Проведите исследовательский анализ данных"
   ]
  },
  {
   "cell_type": "markdown",
   "metadata": {},
   "source": [
    "<b>4.1 Изучение параметров объектов и постройка гистограмм </b>"
   ]
  },
  {
   "cell_type": "code",
   "execution_count": null,
   "metadata": {
    "id": "V2f0D3kLAwb-"
   },
   "outputs": [
    {
     "data": {
      "text/plain": [
       "count   23699.00\n",
       "mean       60.00\n",
       "std        36.00\n",
       "min        12.00\n",
       "25%        40.00\n",
       "50%        52.00\n",
       "75%        70.00\n",
       "max       900.00\n",
       "Name: total_area, dtype: float64"
      ]
     },
     "execution_count": 7,
     "metadata": {},
     "output_type": "execute_result"
    },
    {
     "data": {
      "image/png": "[encoded data removed]",
      "text/plain": [
       "<Figure size 432x288 with 1 Axes>"
      ]
     },
     "metadata": {
      "needs_background": "light"
     },
     "output_type": "display_data"
    }
   ],
   "source": [
    "#xy = re['total_area'].plot(kind='hist', bins=50, range=(10,150), grid=True, title='Общая площадь')\n",
    "\n",
    "filtered_total_area = re[(re['total_area'] > 20) & (re['total_area'] <= 130)]['total_area']\n",
    "\n",
    "xy = re['total_area'].plot(kind='hist', bins=50, range=(20,130), grid=True, title='Общая площадь')\n",
    "\n",
    "xy.set_xlabel('Площадь м2')\n",
    "xy.set_ylabel('Квартиры')\n",
    "re['total_area'].describe().round()"
   ]
  },
  {
   "cell_type": "markdown",
   "metadata": {},
   "source": [
    "Общая площадь в выборке имеет значения от 12 до 900 м2, среднее значение 60, а медиана 52 м2. Данные имеют нормальное распределение."
   ]
  },
  {
   "cell_type": "code",
   "execution_count": null,
   "metadata": {},
   "outputs": [
    {
     "data": {
      "text/plain": [
       "count   21796.00\n",
       "mean       34.00\n",
       "std        22.00\n",
       "min         2.00\n",
       "25%        19.00\n",
       "50%        30.00\n",
       "75%        42.00\n",
       "max       410.00\n",
       "Name: living_area, dtype: float64"
      ]
     },
     "execution_count": 8,
     "metadata": {},
     "output_type": "execute_result"
    },
    {
     "data": {
      "image/png": "[encoded data removed]",
      "text/plain": [
       "<Figure size 432x288 with 1 Axes>"
      ]
     },
     "metadata": {
      "needs_background": "light"
     },
     "output_type": "display_data"
    }
   ],
   "source": [
    "xy = re['living_area'].plot(kind='hist', bins=35, range=(2,70), grid=True, title='Жилая площадь')\n",
    "xy.set_xlabel('Площадь м2')\n",
    "xy.set_ylabel('Квартиры')\n",
    "re['living_area'].describe().round()"
   ]
  },
  {
   "cell_type": "markdown",
   "metadata": {},
   "source": [
    "Жилая площадь в выборке имеет значения от 2 до 410 м2, среднее значение 34, а медиана 30 м2. На основе этих данных можно сказать, что распределение жилой площади квартир имеет средне-крупные значения, с достаточно большим разбросом относительно среднего значения, что указывает на наличие как небольших квартир, так и крупных помещений в данных."
   ]
  },
  {
   "cell_type": "code",
   "execution_count": null,
   "metadata": {},
   "outputs": [
    {
     "data": {
      "text/plain": [
       "count   21421.00\n",
       "mean       11.00\n",
       "std         6.00\n",
       "min         1.00\n",
       "25%         7.00\n",
       "50%         9.00\n",
       "75%        12.00\n",
       "max       112.00\n",
       "Name: kitchen_area, dtype: float64"
      ]
     },
     "execution_count": 9,
     "metadata": {},
     "output_type": "execute_result"
    },
    {
     "data": {
      "image/png": "[encoded data removed]",
      "text/plain": [
       "<Figure size 432x288 with 1 Axes>"
      ]
     },
     "metadata": {
      "needs_background": "light"
     },
     "output_type": "display_data"
    }
   ],
   "source": [
    "xy = re['kitchen_area'].plot(kind='hist', bins=20, range=(1,20), grid=True, title='Площадь кухни')\n",
    "xy.set_xlabel('Площадь м2')\n",
    "xy.set_ylabel('Квартиры')\n",
    "re['kitchen_area'].describe().round()"
   ]
  },
  {
   "cell_type": "markdown",
   "metadata": {},
   "source": [
    "Площадь кухни в выборке имеет значения от 1 до 112 м2, среднее значение 11, а медиана 9 м2. Наблюдается большая вариативность площади кухонь, что видно из довольно большого стандартного отклонения и разницы между минимальным и максимальным значениями."
   ]
  },
  {
   "cell_type": "code",
   "execution_count": null,
   "metadata": {},
   "outputs": [
    {
     "data": {
      "text/plain": [
       "count   23699.00\n",
       "mean        6.54\n",
       "std        10.89\n",
       "min         0.01\n",
       "25%         3.40\n",
       "50%         4.65\n",
       "75%         6.80\n",
       "max       763.00\n",
       "Name: last_price, dtype: float64"
      ]
     },
     "execution_count": 10,
     "metadata": {},
     "output_type": "execute_result"
    },
    {
     "data": {
      "image/png": "[encoded data removed]",
      "text/plain": [
       "<Figure size 432x288 with 1 Axes>"
      ]
     },
     "metadata": {
      "needs_background": "light"
     },
     "output_type": "display_data"
    }
   ],
   "source": [
    "#xy = (re['last_price'] / 1000000).plot(kind='hist', bins=20, range=(0,20), grid=True, title='Цена объекта')\n",
    "   \n",
    "filtered_last_price = re[(re['last_price'] > 1000000) & (re['last_price'] <= 15000000)]['last_price']\n",
    "\n",
    "xy = (filtered_last_price / 1000000).plot(kind='hist', bins=15, range=(1,15), grid=True, title='Цена объекта')\n",
    "\n",
    "xy.set_xlabel('Цена')\n",
    "xy.set_ylabel('Квартиры')\n",
    "(re['last_price'] /1000000).describe()"
   ]
  },
  {
   "cell_type": "markdown",
   "metadata": {},
   "source": [
    "Цена объекта в выборке имеет значения от 12190 тысяч до 763 млн., среднее значение 6.54 млн., а медиана 4.65 млн. Исходя из этих данных, можно сказать, что распределение цен продажи квартир имеет существенный разброс, начиная от минимальной цены до очень высоких значений, что видно из большого стандартного отклонения и разницы между минимальным и максимальным значениями. Минимальное значение цены объекта в 12190 тысячи скорее всего являет ошибкой."
   ]
  },
  {
   "cell_type": "code",
   "execution_count": null,
   "metadata": {},
   "outputs": [
    {
     "data": {
      "text/plain": [
       "count   23699.00\n",
       "mean        2.08\n",
       "std         1.07\n",
       "min         1.00\n",
       "25%         1.00\n",
       "50%         2.00\n",
       "75%         3.00\n",
       "max        19.00\n",
       "Name: rooms, dtype: float64"
      ]
     },
     "execution_count": 11,
     "metadata": {},
     "output_type": "execute_result"
    },
    {
     "data": {
      "image/png": "[encoded data removed]",
      "text/plain": [
       "<Figure size 432x288 with 1 Axes>"
      ]
     },
     "metadata": {
      "needs_background": "light"
     },
     "output_type": "display_data"
    }
   ],
   "source": [
    "#xy = re['rooms'].plot(kind='hist', bins=8, range=(1,8), grid=True, title='Количество комнат')\n",
    "\n",
    "filtered_rooms = re[(re['rooms'] <= 6)]['rooms']\n",
    "\n",
    "xy = filtered_rooms.plot(kind='hist', bins=6, range=(1,6), grid=True, title='Количество комнат')\n",
    "xy.set_xlabel('Количество комнат')\n",
    "xy.set_ylabel('Квартиры')\n",
    "re['rooms'].describe()\n",
    "\n",
    "#filtered_rooms.describe()\n",
    "#re['rooms'].unique()"
   ]
  },
  {
   "cell_type": "markdown",
   "metadata": {},
   "source": [
    "Количество комнат в квратирах имеет значение от 1 до 19. Больше всего однокомнатных квартир, возможно из-за замены квартир с 0 значением на 1."
   ]
  },
  {
   "cell_type": "code",
   "execution_count": null,
   "metadata": {},
   "outputs": [
    {
     "data": {
      "text/plain": [
       "count   23699.00\n",
       "mean        2.72\n",
       "std         0.99\n",
       "min         1.00\n",
       "25%         2.60\n",
       "50%         2.65\n",
       "75%         2.70\n",
       "max       100.00\n",
       "Name: ceiling_height, dtype: float64"
      ]
     },
     "execution_count": 12,
     "metadata": {},
     "output_type": "execute_result"
    },
    {
     "data": {
      "image/png": "[encoded data removed]",
      "text/plain": [
       "<Figure size 432x288 with 1 Axes>"
      ]
     },
     "metadata": {
      "needs_background": "light"
     },
     "output_type": "display_data"
    }
   ],
   "source": [
    "#xy = re['ceiling_height'].plot(kind='hist', bins=10, range=(2.5,3.5), grid=True, title='Высота потолков')\n",
    "\n",
    "filtered_ceiling_height = re[(re['ceiling_height'] > 2) & (re['ceiling_height'] <= 4)]['ceiling_height']\n",
    "\n",
    "xy = filtered_ceiling_height.plot(kind='hist', bins=4, range=(2.4,3.4), grid=True, title='Высота потолков')\n",
    "\n",
    "xy.set_xlabel('Высота потолков')\n",
    "xy.set_ylabel('Квартиры')\n",
    "re['ceiling_height'].describe()\n",
    "\n",
    "#filtered_ceiling_height.describe()\n",
    "#re['ceiling_height'].unique()"
   ]
  },
  {
   "cell_type": "markdown",
   "metadata": {},
   "source": [
    "Высота потолков в выборке имеет значения от 1 до 100 м, среднее значение 2.72, а медиана 2.65 м. Все значения с пропусками в данном столбце были заменены на медианные, возможно это повлияло на распределение. Высота потолков 1 и 100 метров вызывают сомнения в достоверноести этих данных."
   ]
  },
  {
   "cell_type": "code",
   "execution_count": null,
   "metadata": {},
   "outputs": [
    {
     "data": {
      "image/png": "[encoded data removed]",
      "text/plain": [
       "<Figure size 432x288 with 1 Axes>"
      ]
     },
     "metadata": {
      "needs_background": "light"
     },
     "output_type": "display_data"
    }
   ],
   "source": [
    "floor_type = re['floor_type'].value_counts()\n",
    "plt.figure(figsize=(6, 4))\n",
    "plt.bar(floor_type.index, floor_type.values)\n",
    "plt.title('Тип этажа квартиры ', fontsize=12)\n",
    "plt.xlabel('Тип этажа', fontsize=10)\n",
    "plt.ylabel('Квартиры', fontsize=10)\n",
    "plt.show()"
   ]
  },
  {
   "cell_type": "markdown",
   "metadata": {},
   "source": [
    "Из этой выборки очевидно что квартир на первом и последнем этаже, гораздо меньше \"промежуточных\". Отсюда такое распредление в объявлениях."
   ]
  },
  {
   "cell_type": "code",
   "execution_count": null,
   "metadata": {},
   "outputs": [
    {
     "data": {
      "text/plain": [
       "count   23699.00\n",
       "mean       11.00\n",
       "std         7.00\n",
       "min         1.00\n",
       "25%         5.00\n",
       "50%         9.00\n",
       "75%        16.00\n",
       "max        60.00\n",
       "Name: floors_total, dtype: float64"
      ]
     },
     "execution_count": 14,
     "metadata": {},
     "output_type": "execute_result"
    },
    {
     "data": {
      "image/png": "[encoded data removed]",
      "text/plain": [
       "<Figure size 432x288 with 1 Axes>"
      ]
     },
     "metadata": {
      "needs_background": "light"
     },
     "output_type": "display_data"
    }
   ],
   "source": [
    "xy = re['floors_total'].plot(kind='hist', bins=10, range=(1,30), grid=True, title='Общее количество этажей в доме')\n",
    "xy.set_xlabel('Этажи')\n",
    "xy.set_ylabel('Квартиры')\n",
    "re['floors_total'].describe().round()"
   ]
  },
  {
   "cell_type": "markdown",
   "metadata": {},
   "source": [
    "Исходя из этих данных, можно сказать, что распределение количества этажей в доме имеет средние значения 11 этажей. Присутствуют как одноэтажные дома , так и многоэтажки (значение > 15). Также видно, что большинство квартир продаются в домах с диапазоном этажей от 5 до 16."
   ]
  },
  {
   "cell_type": "code",
   "execution_count": null,
   "metadata": {},
   "outputs": [
    {
     "data": {
      "text/plain": [
       "count   18180.00\n",
       "mean    14191.00\n",
       "std      8608.00\n",
       "min       181.00\n",
       "25%      9238.00\n",
       "50%     13098.00\n",
       "75%     16293.00\n",
       "max     65968.00\n",
       "Name: cityCenters_nearest, dtype: float64"
      ]
     },
     "execution_count": 15,
     "metadata": {},
     "output_type": "execute_result"
    },
    {
     "data": {
      "image/png": "[encoded data removed]",
      "text/plain": [
       "<Figure size 432x288 with 1 Axes>"
      ]
     },
     "metadata": {
      "needs_background": "light"
     },
     "output_type": "display_data"
    }
   ],
   "source": [
    "xy = re['cityCenters_nearest'].plot(kind='hist', bins=50, range=(3000,31500), grid=True, title='Расстояние до центра города')\n",
    "xy.set_xlabel('Расстояние м')\n",
    "xy.set_ylabel('Квартиры')\n",
    "re['cityCenters_nearest'].describe().round()"
   ]
  },
  {
   "cell_type": "code",
   "execution_count": null,
   "metadata": {},
   "outputs": [
    {
     "data": {
      "text/plain": [
       "(3541.0, 31671.599999999977)"
      ]
     },
     "execution_count": 16,
     "metadata": {},
     "output_type": "execute_result"
    }
   ],
   "source": [
    "re['cityCenters_nearest'].quantile(0.05), re['cityCenters_nearest'].quantile(0.95)"
   ]
  },
  {
   "cell_type": "markdown",
   "metadata": {},
   "source": [
    "Расстояние до центра города в выборке имеет значения от 181 до 65968 м, среднее значение 14191, а медиана 13098 м. Основная часть квартир расположена в пределах 10-16 км от центра вероятно по нескольким причинам: центральные районы часто являются коммерческими и деловыми зонами, что повышает стоимость недвижимости в них, поэтому люди могут выбирать более доступные по цене варианты в более удаленных районах; расширение города может привести к тому, что новые районы за пределами центра предлагают более современные и комфортабельные жилые комплексы."
   ]
  },
  {
   "cell_type": "code",
   "execution_count": null,
   "metadata": {},
   "outputs": [
    {
     "data": {
      "text/plain": [
       "count   8079.00\n",
       "mean     491.00\n",
       "std      342.00\n",
       "min        1.00\n",
       "25%      288.00\n",
       "50%      455.00\n",
       "75%      612.00\n",
       "max     3190.00\n",
       "Name: parks_nearest, dtype: float64"
      ]
     },
     "execution_count": 17,
     "metadata": {},
     "output_type": "execute_result"
    },
    {
     "data": {
      "image/png": "[encoded data removed]",
      "text/plain": [
       "<Figure size 432x288 with 1 Axes>"
      ]
     },
     "metadata": {
      "needs_background": "light"
     },
     "output_type": "display_data"
    }
   ],
   "source": [
    "xy = re['parks_nearest'].plot(kind='hist', bins=50, range=(95,1000), grid=True, title='Расстояние до ближайшего парка')\n",
    "xy.set_xlabel('Расстояние м')\n",
    "xy.set_ylabel('Квартиры')\n",
    "re['parks_nearest'].describe().round()"
   ]
  },
  {
   "cell_type": "code",
   "execution_count": null,
   "metadata": {},
   "outputs": [
    {
     "data": {
      "text/plain": [
       "(95.90000000000003, 968.0)"
      ]
     },
     "execution_count": 18,
     "metadata": {},
     "output_type": "execute_result"
    }
   ],
   "source": [
    "re['parks_nearest'].quantile(0.05), re['parks_nearest'].quantile(0.95)"
   ]
  },
  {
   "cell_type": "markdown",
   "metadata": {},
   "source": [
    "Расстояние до ближайшего парка в выборке имеет значения от 1 до 3190 м, среднее значение 491, а медиана 455 м. В целом, это говорит о том, что у нас в стране, в среднем, через каждые 500 метров по парку."
   ]
  },
  {
   "cell_type": "markdown",
   "metadata": {},
   "source": [
    "<b>4.2 Как быстро продавались квартиры?</b>"
   ]
  },
  {
   "cell_type": "code",
   "execution_count": null,
   "metadata": {},
   "outputs": [
    {
     "data": {
      "text/plain": [
       "count   20518.00\n",
       "mean      181.00\n",
       "std       220.00\n",
       "min         1.00\n",
       "25%        45.00\n",
       "50%        95.00\n",
       "75%       232.00\n",
       "max      1580.00\n",
       "Name: days_exposition, dtype: float64"
      ]
     },
     "execution_count": 19,
     "metadata": {},
     "output_type": "execute_result"
    },
    {
     "data": {
      "image/png": "[encoded data removed]",
      "text/plain": [
       "<Figure size 432x288 with 1 Axes>"
      ]
     },
     "metadata": {
      "needs_background": "light"
     },
     "output_type": "display_data"
    }
   ],
   "source": [
    "xy = re['days_exposition'].plot(kind='hist', bins=50, range=(10,650), grid=True, title='Кол-во дней с размещения объявления до снятия')\n",
    "xy.set_xlabel('Дни')\n",
    "xy.set_ylabel('Проданные квартиры')\n",
    "re['days_exposition'].describe().round()"
   ]
  },
  {
   "cell_type": "code",
   "execution_count": null,
   "metadata": {},
   "outputs": [
    {
     "data": {
      "text/plain": [
       "(180.88863436982163, 95.0)"
      ]
     },
     "execution_count": 20,
     "metadata": {},
     "output_type": "execute_result"
    }
   ],
   "source": [
    "re['days_exposition'].mean(), re['days_exposition'].median()"
   ]
  },
  {
   "cell_type": "code",
   "execution_count": null,
   "metadata": {},
   "outputs": [
    {
     "data": {
      "text/plain": [
       "(9.0, 647.0)"
      ]
     },
     "execution_count": 21,
     "metadata": {},
     "output_type": "execute_result"
    }
   ],
   "source": [
    "re['days_exposition'].quantile(0.05), re['days_exposition'].quantile(0.95)"
   ]
  },
  {
   "cell_type": "markdown",
   "metadata": {},
   "source": [
    "Вывод: как видно из гистограммы - пик продаж приходится на интервал с 1 по 45 день от публикации объявления, в среднем (mean) квартиры продаются за 180 дней, по медиане за 95 дней. К быстрым продажам можно отнести квартиры, проданные в срок до 9 дней, а к необычно долгим, проданные в срок более 640 дней (возможно такие объявления просто не закрыли/ не сняли вовремя)."
   ]
  },
  {
   "cell_type": "code",
   "execution_count": null,
   "metadata": {},
   "outputs": [
    {
     "data": {
      "image/png": "[encoded data removed]",
      "text/plain": [
       "<Figure size 432x288 with 1 Axes>"
      ]
     },
     "metadata": {
      "needs_background": "light"
     },
     "output_type": "display_data"
    }
   ],
   "source": [
    "xy = re['days_exposition'].plot(kind='hist', bins=20, range=(0,100), grid=True, title='Кол-во дней с размещения объявления до снятия')\n",
    "xy.set_xlabel('Дни')\n",
    "xy.set_ylabel('Проданные квартиры');"
   ]
  },
  {
   "cell_type": "markdown",
   "metadata": {},
   "source": [
    "<b>4.3 Факторы, которые больше всего влияют на стоимость объекта.</b>"
   ]
  },
  {
   "cell_type": "code",
   "execution_count": null,
   "metadata": {},
   "outputs": [
    {
     "data": {
      "text/plain": [
       "0.6536750579657242"
      ]
     },
     "execution_count": 23,
     "metadata": {},
     "output_type": "execute_result"
    },
    {
     "data": {
      "image/png": "[encoded data removed]",
      "text/plain": [
       "<Figure size 432x288 with 1 Axes>"
      ]
     },
     "metadata": {
      "needs_background": "light"
     },
     "output_type": "display_data"
    }
   ],
   "source": [
    "total_area_price = re.pivot_table(index = 'total_area', values = 'last_price', aggfunc = ['median'])\n",
    "total_area_price.plot(y = 'median', style = 'o', alpha=0.5)\n",
    "re['total_area'].corr(re['last_price'])"
   ]
  },
  {
   "cell_type": "markdown",
   "metadata": {},
   "source": [
    "Зависимость цены от общей площади квартиры 0.65, согласно коэффициента корреляции Пирсона, является высокой положительной. Т.е. с увеличением общей площади квартиры возрастает и её цена."
   ]
  },
  {
   "cell_type": "code",
   "execution_count": null,
   "metadata": {},
   "outputs": [
    {
     "data": {
      "text/plain": [
       "0.5664915336952651"
      ]
     },
     "execution_count": 24,
     "metadata": {},
     "output_type": "execute_result"
    },
    {
     "data": {
      "image/png": "[encoded data removed]",
      "text/plain": [
       "<Figure size 432x288 with 1 Axes>"
      ]
     },
     "metadata": {
      "needs_background": "light"
     },
     "output_type": "display_data"
    }
   ],
   "source": [
    "living_area_price = re.pivot_table(index = 'living_area', values = 'last_price', aggfunc = ['median'])\n",
    "living_area_price.plot(y = 'median', style = 'o', alpha=0.5)\n",
    "re['living_area'].corr(re['last_price'])"
   ]
  },
  {
   "cell_type": "markdown",
   "metadata": {},
   "source": [
    "Зависимость цены от жилой площади квартиры 0.56, согласно коэффициента корреляции Пирсона, является высокой положительной. Т.е. с увеличением жилой площади квартиры возрастает и её цена."
   ]
  },
  {
   "cell_type": "code",
   "execution_count": null,
   "metadata": {},
   "outputs": [
    {
     "data": {
      "text/plain": [
       "0.5198690130216392"
      ]
     },
     "execution_count": 25,
     "metadata": {},
     "output_type": "execute_result"
    },
    {
     "data": {
      "image/png": "[encoded data removed]",
      "text/plain": [
       "<Figure size 432x288 with 1 Axes>"
      ]
     },
     "metadata": {
      "needs_background": "light"
     },
     "output_type": "display_data"
    }
   ],
   "source": [
    "kitchen_area_price = re.pivot_table(index = 'kitchen_area', values = 'last_price', aggfunc = ['median'])\n",
    "kitchen_area_price.plot(y = 'median', style = 'o', alpha=0.5)\n",
    "re['kitchen_area'].corr(re['last_price'])"
   ]
  },
  {
   "cell_type": "markdown",
   "metadata": {},
   "source": [
    "Зависимость цены от площади кухни 0.51, согласно коэффициента корреляции Пирсона, является высокой положительной. Т.е. с увеличением площади кухни квартиры возрастает и её цена."
   ]
  },
  {
   "cell_type": "code",
   "execution_count": null,
   "metadata": {},
   "outputs": [
    {
     "data": {
      "image/png": "[encoded data removed]",
      "text/plain": [
       "<Figure size 432x288 with 1 Axes>"
      ]
     },
     "metadata": {
      "needs_background": "light"
     },
     "output_type": "display_data"
    }
   ],
   "source": [
    "price_by_floor = re.groupby('floor_type')['last_price'].median().reset_index()\n",
    "plt.figure(figsize=(6, 4))\n",
    "plt.bar(price_by_floor['floor_type'], price_by_floor['last_price'])\n",
    "plt.xlabel('Тип этажа')\n",
    "plt.ylabel('Cтоимость')\n",
    "plt.title('Зависимость стоимости от типа этажа')\n",
    "plt.show()"
   ]
  },
  {
   "cell_type": "markdown",
   "metadata": {},
   "source": [
    "Из графика следует что квартиры на первом этаже стоят дешевле квартир на последнем и иных этажах. Самые дорогие квартиры в категории \"другой\"."
   ]
  },
  {
   "cell_type": "code",
   "execution_count": null,
   "metadata": {},
   "outputs": [
    {
     "data": {
      "image/png": "[encoded data removed]",
      "text/plain": [
       "<Figure size 432x288 with 1 Axes>"
      ]
     },
     "metadata": {
      "needs_background": "light"
     },
     "output_type": "display_data"
    }
   ],
   "source": [
    "day_price = re.pivot_table(index = 'day', values = 'last_price', aggfunc = ['median'])\n",
    "day_price.plot(y = 'median', style = 'o-', alpha=1);"
   ]
  },
  {
   "cell_type": "markdown",
   "metadata": {},
   "source": [
    "Изменения в дне публикации объявления практически не влияют на цену недвижимости. Из графика можно сделать вывод что, квартиры,  объявления о продаже которых разместили будние дни, имеют более высокую цену, чем квартиры с размещением в выходные."
   ]
  },
  {
   "cell_type": "code",
   "execution_count": null,
   "metadata": {},
   "outputs": [
    {
     "data": {
      "image/png": "[encoded data removed]",
      "text/plain": [
       "<Figure size 432x288 with 1 Axes>"
      ]
     },
     "metadata": {
      "needs_background": "light"
     },
     "output_type": "display_data"
    }
   ],
   "source": [
    "month_price = re.pivot_table(index = 'month', values = 'last_price', aggfunc = ['median'])\n",
    "month_price.plot(y = 'median', style = 'o-', alpha=1);"
   ]
  },
  {
   "cell_type": "markdown",
   "metadata": {},
   "source": [
    "Месяц публикации объявления также практически не влияет на цену недвижимости. Из графика видно что в начале лета рынок \"падает\", вероятно это связано с началом отпусков и желанием владельцев побыстрее избавиться от недвижимости. "
   ]
  },
  {
   "cell_type": "code",
   "execution_count": null,
   "metadata": {},
   "outputs": [
    {
     "data": {
      "image/png": "[encoded data removed]",
      "text/plain": [
       "<Figure size 432x288 with 1 Axes>"
      ]
     },
     "metadata": {
      "needs_background": "light"
     },
     "output_type": "display_data"
    }
   ],
   "source": [
    "year_price = re.pivot_table(index = 'year', values = 'last_price', aggfunc = ['median'])\n",
    "year_price.plot(y = 'median', style = 'o-', alpha=1);"
   ]
  },
  {
   "cell_type": "markdown",
   "metadata": {},
   "source": [
    "На графике отчетливо видно резкое падение стоимоисти недвижимости начиная с 2014 года (возможно из геополитических событий), и только к 2019 году начался рост. "
   ]
  },
  {
   "cell_type": "markdown",
   "metadata": {},
   "source": [
    "<b>4.4 Средняя цена одного квадратного метра в 10 населённых пунктах с наибольшим числом объявлений.</b>"
   ]
  },
  {
   "cell_type": "code",
   "execution_count": null,
   "metadata": {},
   "outputs": [
    {
     "data": {
      "text/html": [
       "<div>\n",
       "<style scoped>\n",
       "    .dataframe tbody tr th:only-of-type {\n",
       "        vertical-align: middle;\n",
       "    }\n",
       "\n",
       "    .dataframe tbody tr th {\n",
       "        vertical-align: top;\n",
       "    }\n",
       "\n",
       "    .dataframe thead th {\n",
       "        text-align: right;\n",
       "    }\n",
       "</style>\n",
       "<table border=\"1\" class=\"dataframe\">\n",
       "  <thead>\n",
       "    <tr style=\"text-align: right;\">\n",
       "      <th></th>\n",
       "      <th>Цена за м2</th>\n",
       "      <th>Кол-во объявлений</th>\n",
       "    </tr>\n",
       "  </thead>\n",
       "  <tbody>\n",
       "    <tr>\n",
       "      <th>Санкт-Петербург</th>\n",
       "      <td>114849.01</td>\n",
       "      <td>15721</td>\n",
       "    </tr>\n",
       "    <tr>\n",
       "      <th>Пушкин</th>\n",
       "      <td>103125.82</td>\n",
       "      <td>369</td>\n",
       "    </tr>\n",
       "    <tr>\n",
       "      <th>деревня Кудрово</th>\n",
       "      <td>92473.55</td>\n",
       "      <td>299</td>\n",
       "    </tr>\n",
       "    <tr>\n",
       "      <th>поселок Парголово</th>\n",
       "      <td>90175.91</td>\n",
       "      <td>327</td>\n",
       "    </tr>\n",
       "    <tr>\n",
       "      <th>поселок Мурино</th>\n",
       "      <td>85681.76</td>\n",
       "      <td>556</td>\n",
       "    </tr>\n",
       "    <tr>\n",
       "      <th>поселок Шушары</th>\n",
       "      <td>78677.36</td>\n",
       "      <td>440</td>\n",
       "    </tr>\n",
       "    <tr>\n",
       "      <th>Колпино</th>\n",
       "      <td>75424.58</td>\n",
       "      <td>338</td>\n",
       "    </tr>\n",
       "    <tr>\n",
       "      <th>Гатчина</th>\n",
       "      <td>68746.15</td>\n",
       "      <td>307</td>\n",
       "    </tr>\n",
       "    <tr>\n",
       "      <th>Всеволожск</th>\n",
       "      <td>68654.47</td>\n",
       "      <td>398</td>\n",
       "    </tr>\n",
       "    <tr>\n",
       "      <th>Выборг</th>\n",
       "      <td>58141.91</td>\n",
       "      <td>237</td>\n",
       "    </tr>\n",
       "  </tbody>\n",
       "</table>\n",
       "</div>"
      ],
      "text/plain": [
       "                   Цена за м2  Кол-во объявлений\n",
       "Санкт-Петербург     114849.01              15721\n",
       "Пушкин              103125.82                369\n",
       "деревня Кудрово      92473.55                299\n",
       "поселок Парголово    90175.91                327\n",
       "поселок Мурино       85681.76                556\n",
       "поселок Шушары       78677.36                440\n",
       "Колпино              75424.58                338\n",
       "Гатчина              68746.15                307\n",
       "Всеволожск           68654.47                398\n",
       "Выборг               58141.91                237"
      ]
     },
     "execution_count": 30,
     "metadata": {},
     "output_type": "execute_result"
    }
   ],
   "source": [
    "top_10_localities = re['cleaned_locality_name'].value_counts().head(10)\n",
    "# выборка топ-10 населенных пунктов по количеству объявлений\n",
    "\n",
    "locality_price = re.pivot_table(index='cleaned_locality_name', values='price_m2')\n",
    "\n",
    "top_10 = locality_price.join(top_10_localities, how='right')\n",
    "# скадываем 2 DF — с данными о ценах за м2 по населенным пунктам, и с кол-вом объявлений по топ-10 населенным пунктов\n",
    "\n",
    "top_10 = top_10.rename(columns={'price_m2': 'Цена за м2', 'cleaned_locality_name': 'Кол-во объявлений'})\n",
    "top_10.sort_values(by='Цена за м2', ascending=False).round(2)"
   ]
  },
  {
   "cell_type": "code",
   "execution_count": null,
   "metadata": {},
   "outputs": [
    {
     "data": {
      "image/png": "[encoded data removed]",
      "text/plain": [
       "<Figure size 864x288 with 1 Axes>"
      ]
     },
     "metadata": {
      "needs_background": "light"
     },
     "output_type": "display_data"
    }
   ],
   "source": [
    "top_10.sort_values(by=['Цена за м2'], ascending=False).plot(figsize=(12, 4), kind='bar', grid=True, title='Средняя цена одного квадратного метра в 10 населённых пунктах с наибольшим числом объявлений');"
   ]
  },
  {
   "cell_type": "markdown",
   "metadata": {},
   "source": [
    "Из графика следует что, в Санкт-Петербурге самая высокая цена за м2 - 114849.01\t, а Выборге, смамая низкая цена за м2 из выборки 10 населённных пунктов - 58141.91."
   ]
  },
  {
   "cell_type": "markdown",
   "metadata": {},
   "source": [
    "<b>4.5 Средняя стоимость квартиры в Санкт-Петербурге на разном удалении от центра.</b>"
   ]
  },
  {
   "cell_type": "code",
   "execution_count": null,
   "metadata": {},
   "outputs": [
    {
     "data": {
      "image/png": "[encoded data removed]",
      "text/plain": [
       "<Figure size 864x288 with 1 Axes>"
      ]
     },
     "metadata": {
      "needs_background": "light"
     },
     "output_type": "display_data"
    }
   ],
   "source": [
    "mean_prices_spb = (\n",
    "    re.query('locality_name == \"Санкт-Петербург\"').pivot_table(index = 'cityCenters_km', values = 'last_price', aggfunc = 'mean'))\n",
    "# фильтр для \"Санкт-Петербург\"\n",
    "\n",
    "mean_prices_spb = mean_prices_spb.rename(columns={'last_price': 'Средняя цена квратиры'})\n",
    "mean_prices_spb.plot(figsize=(12, 4), kind='bar', grid=True, title='Средняя стоимость квартиры в Санкт-Петербурге на разном удалении от центра.')\n",
    "plt.xlabel('Расстояние от центра города КМ')\n",
    "plt.ylabel('Cтоимость');"
   ]
  },
  {
   "cell_type": "code",
   "execution_count": null,
   "metadata": {},
   "outputs": [
    {
     "data": {
      "text/html": [
       "<div>\n",
       "<style scoped>\n",
       "    .dataframe tbody tr th:only-of-type {\n",
       "        vertical-align: middle;\n",
       "    }\n",
       "\n",
       "    .dataframe tbody tr th {\n",
       "        vertical-align: top;\n",
       "    }\n",
       "\n",
       "    .dataframe thead th {\n",
       "        text-align: right;\n",
       "    }\n",
       "</style>\n",
       "<table border=\"1\" class=\"dataframe\">\n",
       "  <thead>\n",
       "    <tr style=\"text-align: right;\">\n",
       "      <th></th>\n",
       "      <th>Средняя цена квратиры</th>\n",
       "    </tr>\n",
       "    <tr>\n",
       "      <th>cityCenters_km</th>\n",
       "      <th></th>\n",
       "    </tr>\n",
       "  </thead>\n",
       "  <tbody>\n",
       "    <tr>\n",
       "      <th>0</th>\n",
       "      <td>23442315.44</td>\n",
       "    </tr>\n",
       "    <tr>\n",
       "      <th>1</th>\n",
       "      <td>18850851.66</td>\n",
       "    </tr>\n",
       "    <tr>\n",
       "      <th>2</th>\n",
       "      <td>16163313.62</td>\n",
       "    </tr>\n",
       "    <tr>\n",
       "      <th>3</th>\n",
       "      <td>13436830.55</td>\n",
       "    </tr>\n",
       "    <tr>\n",
       "      <th>4</th>\n",
       "      <td>13632024.64</td>\n",
       "    </tr>\n",
       "    <tr>\n",
       "      <th>5</th>\n",
       "      <td>15306121.12</td>\n",
       "    </tr>\n",
       "    <tr>\n",
       "      <th>6</th>\n",
       "      <td>14389106.19</td>\n",
       "    </tr>\n",
       "    <tr>\n",
       "      <th>7</th>\n",
       "      <td>12797673.74</td>\n",
       "    </tr>\n",
       "    <tr>\n",
       "      <th>8</th>\n",
       "      <td>8445272.00</td>\n",
       "    </tr>\n",
       "    <tr>\n",
       "      <th>9</th>\n",
       "      <td>6426054.86</td>\n",
       "    </tr>\n",
       "  </tbody>\n",
       "</table>\n",
       "</div>"
      ],
      "text/plain": [
       "                Средняя цена квратиры\n",
       "cityCenters_km                       \n",
       "0                         23442315.44\n",
       "1                         18850851.66\n",
       "2                         16163313.62\n",
       "3                         13436830.55\n",
       "4                         13632024.64\n",
       "5                         15306121.12\n",
       "6                         14389106.19\n",
       "7                         12797673.74\n",
       "8                          8445272.00\n",
       "9                          6426054.86"
      ]
     },
     "execution_count": 33,
     "metadata": {},
     "output_type": "execute_result"
    }
   ],
   "source": [
    "mean_prices_spb.head(10)"
   ]
  },
  {
   "cell_type": "markdown",
   "metadata": {},
   "source": [
    "Самые дорогие квартиры находятся ближе к центру города, на расстоянии 8 км от центра города стоимость квартир начинает снижается."
   ]
  },
  {
   "cell_type": "markdown",
   "metadata": {
    "id": "h7VpzkIDAwb-"
   },
   "source": [
    "### Напишите общий вывод"
   ]
  },
  {
   "cell_type": "markdown",
   "metadata": {},
   "source": [
    "По итогам проведенного анализа данных в рамках данного проекта можно сделать следующие выводы:\n",
    "\n",
    "1. После предварительного изучения и предобработки данных, включая заполнение пропущенных значений, установление корректного типа данных, удаление неявных дубликатов и обработку аномалий, данные подготовлены для дальнейшего анализа.\n",
    "\n",
    "2. Были добавлены новые параметры для более детального исследования объявлений о продаже квартир, такие как цена за квадратный метр, день, месяц и год публикации объявления, тип этажа квартиры и расстояние до центра города.\n",
    "\n",
    "3. Проведя анализ основных параметров квартир можно сделать следующие выводы: общая площадь квартир в выборке имеет нормальное распределение со средним значением 60 м2, цена квартиры из в выборки в среднем составляет 6.54 млн, больше всего квартир в выборке с одной и двумя комнатами, средняя высота потолков 2.65 метра. Большинство квартир на продажу находятся в промежутке между первым и последним этажей. Среднее количество этажей в доме составляет 11, преобладают многоэтажные дома. Большинство квартир расположено в радиусе 10-16 км от центра города. Расстояние до ближайшего парка в среднем составляет 491 м.\n",
    "\n",
    "4. Исследов сроки продажи квартир, выявлено что, пик продаж квартир приходится на интервал с 1 по 45 день от публикации объявления, в среднем квартиры продаются за 180 дней. К быстрым продажам можно отнести квартиры, проданные в срок до 9 дней, а к необычно долгим, проданные в срок более 640 дней.\n",
    "\n",
    "5. Изучив факторы, влияющие на общую стоимость объекта, можно сделать вывод, что самые значимые факторы это - общая площадь квартиры (чем больше площадь, тем выше цена), удаленность от центра (чем дальше от центра, тем ниже цена), жилая площадь и площадь кухни, а также тип этажа. Практически не оказывает влияние на стоимость квартиры время размещения объявления. \n",
    "\n",
    "6. Выявлены населенные пункты с наибольшим числом объявлений и с самой высокой и самой низкой стоимостью квадратного метра - это Санкт-Петербург цена за м2 - 114849.01 , и Выборг, смамая низкая цена за м2 - 58141.91.\n",
    "\n",
    "7. Проанализировав зависимость цены квартиры в Санкт-Петербурге от расстояния до центра города, сделан вывод о том что - самые дорогие квартиры находятся ближе к центру города (самые дорогие в радиусе 3км),а на расстоянии 8 км от центра города стоимость квартир начинает снижается."
   ]
  }
 ],
 "metadata": {
  "ExecuteTimeLog": [
   {
    "duration": 988,
    "start_time": "2024-03-10T18:52:09.561Z"
   },
   {
    "duration": 125,
    "start_time": "2024-03-10T18:53:03.262Z"
   },
   {
    "duration": 96,
    "start_time": "2024-03-10T18:53:44.455Z"
   },
   {
    "duration": 112,
    "start_time": "2024-03-10T18:54:15.189Z"
   },
   {
    "duration": 100,
    "start_time": "2024-03-10T18:54:24.760Z"
   },
   {
    "duration": 107,
    "start_time": "2024-03-10T18:54:45.326Z"
   },
   {
    "duration": 13,
    "start_time": "2024-03-10T18:55:12.458Z"
   },
   {
    "duration": 116,
    "start_time": "2024-03-10T18:58:47.137Z"
   },
   {
    "duration": 15,
    "start_time": "2024-03-10T18:58:49.756Z"
   },
   {
    "duration": 1793,
    "start_time": "2024-03-10T18:59:56.155Z"
   },
   {
    "duration": 1872,
    "start_time": "2024-03-10T19:01:16.749Z"
   },
   {
    "duration": 1382,
    "start_time": "2024-03-10T19:03:15.271Z"
   },
   {
    "duration": 932,
    "start_time": "2024-03-10T19:05:18.683Z"
   },
   {
    "duration": 1078,
    "start_time": "2024-03-10T19:05:42.773Z"
   },
   {
    "duration": 766,
    "start_time": "2024-03-10T19:06:09.328Z"
   },
   {
    "duration": 732,
    "start_time": "2024-03-10T19:06:18.654Z"
   },
   {
    "duration": 700,
    "start_time": "2024-03-10T19:06:24.570Z"
   },
   {
    "duration": 801,
    "start_time": "2024-03-10T19:06:30.047Z"
   },
   {
    "duration": 112,
    "start_time": "2024-03-10T19:06:55.439Z"
   },
   {
    "duration": 78,
    "start_time": "2024-03-10T19:09:05.506Z"
   },
   {
    "duration": 15,
    "start_time": "2024-03-10T19:09:18.446Z"
   },
   {
    "duration": 13,
    "start_time": "2024-03-10T19:09:21.435Z"
   },
   {
    "duration": 14,
    "start_time": "2024-03-10T19:09:29.487Z"
   },
   {
    "duration": 35,
    "start_time": "2024-03-10T19:12:31.062Z"
   },
   {
    "duration": 6,
    "start_time": "2024-03-10T19:16:47.591Z"
   },
   {
    "duration": 7,
    "start_time": "2024-03-10T19:17:15.985Z"
   },
   {
    "duration": 2,
    "start_time": "2024-03-10T19:17:22.151Z"
   },
   {
    "duration": 2,
    "start_time": "2024-03-10T19:17:24.171Z"
   },
   {
    "duration": 33,
    "start_time": "2024-03-10T19:17:27.173Z"
   },
   {
    "duration": 45,
    "start_time": "2024-03-10T19:18:06.778Z"
   },
   {
    "duration": 39,
    "start_time": "2024-03-10T19:28:00.936Z"
   },
   {
    "duration": 19,
    "start_time": "2024-03-10T19:28:49.571Z"
   },
   {
    "duration": 16,
    "start_time": "2024-03-10T19:29:19.020Z"
   },
   {
    "duration": 39,
    "start_time": "2024-03-10T19:29:40.724Z"
   },
   {
    "duration": 113,
    "start_time": "2024-03-10T19:30:20.719Z"
   },
   {
    "duration": 14,
    "start_time": "2024-03-10T19:30:25.362Z"
   },
   {
    "duration": 49,
    "start_time": "2024-03-10T19:30:33.634Z"
   },
   {
    "duration": 22,
    "start_time": "2024-03-10T19:30:42.285Z"
   },
   {
    "duration": 23,
    "start_time": "2024-03-10T19:38:00.829Z"
   },
   {
    "duration": 25,
    "start_time": "2024-03-10T19:38:19.721Z"
   },
   {
    "duration": 20,
    "start_time": "2024-03-10T19:39:13.123Z"
   },
   {
    "duration": 13,
    "start_time": "2024-03-10T19:39:26.679Z"
   },
   {
    "duration": 13,
    "start_time": "2024-03-10T19:39:46.049Z"
   },
   {
    "duration": 14,
    "start_time": "2024-03-10T19:39:57.080Z"
   },
   {
    "duration": 19,
    "start_time": "2024-03-10T19:42:49.865Z"
   },
   {
    "duration": 14,
    "start_time": "2024-03-10T19:43:30.620Z"
   },
   {
    "duration": 13,
    "start_time": "2024-03-10T19:49:30.101Z"
   },
   {
    "duration": 14,
    "start_time": "2024-03-10T19:49:45.532Z"
   },
   {
    "duration": 167,
    "start_time": "2024-03-10T19:49:51.409Z"
   },
   {
    "duration": 13,
    "start_time": "2024-03-10T19:50:03.560Z"
   },
   {
    "duration": 14,
    "start_time": "2024-03-10T19:50:10.965Z"
   },
   {
    "duration": 42,
    "start_time": "2024-03-10T19:51:10.686Z"
   },
   {
    "duration": 13,
    "start_time": "2024-03-10T19:51:30.164Z"
   },
   {
    "duration": 14,
    "start_time": "2024-03-10T19:53:05.262Z"
   },
   {
    "duration": 95,
    "start_time": "2024-03-10T19:54:17.616Z"
   },
   {
    "duration": 19,
    "start_time": "2024-03-10T19:54:28.998Z"
   },
   {
    "duration": 18,
    "start_time": "2024-03-10T19:55:37.591Z"
   },
   {
    "duration": 19,
    "start_time": "2024-03-10T19:55:46.488Z"
   },
   {
    "duration": 20,
    "start_time": "2024-03-10T19:57:26.735Z"
   },
   {
    "duration": 22,
    "start_time": "2024-03-10T19:57:58.078Z"
   },
   {
    "duration": 25,
    "start_time": "2024-03-10T20:00:19.921Z"
   },
   {
    "duration": 19,
    "start_time": "2024-03-10T20:00:42.672Z"
   },
   {
    "duration": 18,
    "start_time": "2024-03-10T20:02:36.187Z"
   },
   {
    "duration": 18,
    "start_time": "2024-03-10T20:02:38.740Z"
   },
   {
    "duration": 9,
    "start_time": "2024-03-10T20:03:06.747Z"
   },
   {
    "duration": 702,
    "start_time": "2024-03-10T20:03:17.842Z"
   },
   {
    "duration": 14,
    "start_time": "2024-03-10T20:03:18.545Z"
   },
   {
    "duration": 40,
    "start_time": "2024-03-10T20:03:18.560Z"
   },
   {
    "duration": 9,
    "start_time": "2024-03-10T20:03:54.875Z"
   },
   {
    "duration": 16,
    "start_time": "2024-03-10T20:04:17.245Z"
   },
   {
    "duration": 7,
    "start_time": "2024-03-10T20:04:37.682Z"
   },
   {
    "duration": 7,
    "start_time": "2024-03-10T20:07:18.708Z"
   },
   {
    "duration": 10,
    "start_time": "2024-03-10T20:09:20.444Z"
   },
   {
    "duration": 13,
    "start_time": "2024-03-10T20:09:42.003Z"
   },
   {
    "duration": 15,
    "start_time": "2024-03-10T20:23:23.839Z"
   },
   {
    "duration": 17,
    "start_time": "2024-03-10T20:23:35.881Z"
   },
   {
    "duration": 5,
    "start_time": "2024-03-10T20:23:40.715Z"
   },
   {
    "duration": 6,
    "start_time": "2024-03-10T20:24:08.037Z"
   },
   {
    "duration": 23,
    "start_time": "2024-03-10T20:25:11.986Z"
   },
   {
    "duration": 18,
    "start_time": "2024-03-10T20:26:05.930Z"
   },
   {
    "duration": 17,
    "start_time": "2024-03-10T20:26:13.699Z"
   },
   {
    "duration": 17,
    "start_time": "2024-03-10T20:26:15.795Z"
   },
   {
    "duration": 54,
    "start_time": "2024-03-10T20:26:58.523Z"
   },
   {
    "duration": 732,
    "start_time": "2024-03-10T20:27:03.402Z"
   },
   {
    "duration": 15,
    "start_time": "2024-03-10T20:27:04.135Z"
   },
   {
    "duration": 20,
    "start_time": "2024-03-10T20:27:04.151Z"
   },
   {
    "duration": 18,
    "start_time": "2024-03-10T20:30:15.892Z"
   },
   {
    "duration": 14,
    "start_time": "2024-03-10T20:33:09.828Z"
   },
   {
    "duration": 114,
    "start_time": "2024-03-10T20:33:51.326Z"
   },
   {
    "duration": 13,
    "start_time": "2024-03-10T20:33:54.850Z"
   },
   {
    "duration": 15,
    "start_time": "2024-03-10T20:46:14.558Z"
   },
   {
    "duration": 80,
    "start_time": "2024-03-10T20:50:19.282Z"
   },
   {
    "duration": 33,
    "start_time": "2024-03-10T20:50:44.086Z"
   },
   {
    "duration": 21,
    "start_time": "2024-03-10T20:51:06.551Z"
   },
   {
    "duration": 57,
    "start_time": "2024-03-10T20:51:36.911Z"
   },
   {
    "duration": 19,
    "start_time": "2024-03-10T20:51:43.435Z"
   },
   {
    "duration": 16,
    "start_time": "2024-03-10T20:51:56.548Z"
   },
   {
    "duration": 16,
    "start_time": "2024-03-10T20:51:59.606Z"
   },
   {
    "duration": 686,
    "start_time": "2024-03-10T20:52:08.153Z"
   },
   {
    "duration": 12,
    "start_time": "2024-03-10T20:52:08.841Z"
   },
   {
    "duration": 25,
    "start_time": "2024-03-10T20:52:08.855Z"
   },
   {
    "duration": 767,
    "start_time": "2024-03-10T20:52:22.073Z"
   },
   {
    "duration": 15,
    "start_time": "2024-03-10T20:52:22.841Z"
   },
   {
    "duration": 16,
    "start_time": "2024-03-10T20:52:22.858Z"
   },
   {
    "duration": 15,
    "start_time": "2024-03-10T20:53:46.096Z"
   },
   {
    "duration": 24,
    "start_time": "2024-03-10T20:53:52.905Z"
   },
   {
    "duration": 15,
    "start_time": "2024-03-10T20:55:36.406Z"
   },
   {
    "duration": 761,
    "start_time": "2024-03-10T21:07:04.501Z"
   },
   {
    "duration": 15,
    "start_time": "2024-03-10T21:07:05.263Z"
   },
   {
    "duration": 28,
    "start_time": "2024-03-10T21:07:05.279Z"
   },
   {
    "duration": 6,
    "start_time": "2024-03-10T21:10:43.165Z"
   },
   {
    "duration": 10,
    "start_time": "2024-03-10T21:28:46.892Z"
   },
   {
    "duration": 792,
    "start_time": "2024-03-10T21:28:52.770Z"
   },
   {
    "duration": 15,
    "start_time": "2024-03-10T21:28:53.564Z"
   },
   {
    "duration": 34,
    "start_time": "2024-03-10T21:28:53.581Z"
   },
   {
    "duration": 18,
    "start_time": "2024-03-10T21:28:53.616Z"
   },
   {
    "duration": 36,
    "start_time": "2024-03-10T21:28:53.636Z"
   },
   {
    "duration": 6,
    "start_time": "2024-03-10T21:29:32.744Z"
   },
   {
    "duration": 11,
    "start_time": "2024-03-10T21:29:39.812Z"
   },
   {
    "duration": 67,
    "start_time": "2024-03-10T21:30:20.850Z"
   },
   {
    "duration": 5,
    "start_time": "2024-03-10T21:30:26.837Z"
   },
   {
    "duration": 9,
    "start_time": "2024-03-10T21:30:44.245Z"
   },
   {
    "duration": 5,
    "start_time": "2024-03-10T21:30:50.517Z"
   },
   {
    "duration": 98,
    "start_time": "2024-03-10T21:31:42.416Z"
   },
   {
    "duration": 4,
    "start_time": "2024-03-10T21:31:51.450Z"
   },
   {
    "duration": 9,
    "start_time": "2024-03-10T21:32:00.952Z"
   },
   {
    "duration": 5,
    "start_time": "2024-03-10T21:32:04.768Z"
   },
   {
    "duration": 105,
    "start_time": "2024-03-10T21:33:39.273Z"
   },
   {
    "duration": 9,
    "start_time": "2024-03-10T21:33:51.384Z"
   },
   {
    "duration": 5,
    "start_time": "2024-03-10T21:33:53.956Z"
   },
   {
    "duration": 9,
    "start_time": "2024-03-10T21:33:59.440Z"
   },
   {
    "duration": 5,
    "start_time": "2024-03-10T21:34:01.742Z"
   },
   {
    "duration": 5,
    "start_time": "2024-03-10T21:34:09.213Z"
   },
   {
    "duration": 5,
    "start_time": "2024-03-10T21:34:44.468Z"
   },
   {
    "duration": 716,
    "start_time": "2024-03-10T21:34:55.229Z"
   },
   {
    "duration": 15,
    "start_time": "2024-03-10T21:34:55.947Z"
   },
   {
    "duration": 38,
    "start_time": "2024-03-10T21:34:55.965Z"
   },
   {
    "duration": 12,
    "start_time": "2024-03-10T21:34:56.006Z"
   },
   {
    "duration": 28,
    "start_time": "2024-03-10T21:34:56.020Z"
   },
   {
    "duration": 65,
    "start_time": "2024-03-10T21:37:15.979Z"
   },
   {
    "duration": 7,
    "start_time": "2024-03-10T21:37:27.131Z"
   },
   {
    "duration": 17,
    "start_time": "2024-03-10T21:38:20.110Z"
   },
   {
    "duration": 18,
    "start_time": "2024-03-10T21:38:36.741Z"
   },
   {
    "duration": 12,
    "start_time": "2024-03-10T21:40:01.846Z"
   },
   {
    "duration": 15,
    "start_time": "2024-03-10T21:40:19.114Z"
   },
   {
    "duration": 14,
    "start_time": "2024-03-10T21:40:31.102Z"
   },
   {
    "duration": 20,
    "start_time": "2024-03-10T21:40:42.091Z"
   },
   {
    "duration": 5,
    "start_time": "2024-03-10T21:40:52.853Z"
   },
   {
    "duration": 5,
    "start_time": "2024-03-10T21:41:18.932Z"
   },
   {
    "duration": 102,
    "start_time": "2024-03-10T21:41:21.159Z"
   },
   {
    "duration": 4,
    "start_time": "2024-03-10T21:41:39.266Z"
   },
   {
    "duration": 754,
    "start_time": "2024-03-10T21:41:44.090Z"
   },
   {
    "duration": 14,
    "start_time": "2024-03-10T21:41:44.846Z"
   },
   {
    "duration": 18,
    "start_time": "2024-03-10T21:41:44.861Z"
   },
   {
    "duration": 17,
    "start_time": "2024-03-10T21:41:44.880Z"
   },
   {
    "duration": 6,
    "start_time": "2024-03-10T21:41:44.898Z"
   },
   {
    "duration": 16,
    "start_time": "2024-03-10T21:41:56.712Z"
   },
   {
    "duration": 21,
    "start_time": "2024-03-10T21:42:07.633Z"
   },
   {
    "duration": 4,
    "start_time": "2024-03-10T21:51:00.520Z"
   },
   {
    "duration": 7,
    "start_time": "2024-03-10T21:51:09.925Z"
   },
   {
    "duration": 5,
    "start_time": "2024-03-10T21:51:58.976Z"
   },
   {
    "duration": 5,
    "start_time": "2024-03-10T21:52:01.023Z"
   },
   {
    "duration": 7,
    "start_time": "2024-03-10T21:52:13.098Z"
   },
   {
    "duration": 6,
    "start_time": "2024-03-10T21:52:27.993Z"
   },
   {
    "duration": 6,
    "start_time": "2024-03-10T21:52:36.562Z"
   },
   {
    "duration": 6,
    "start_time": "2024-03-10T21:54:30.200Z"
   },
   {
    "duration": 34,
    "start_time": "2024-03-10T21:58:51.189Z"
   },
   {
    "duration": 37,
    "start_time": "2024-03-10T22:00:24.216Z"
   },
   {
    "duration": 35,
    "start_time": "2024-03-10T22:01:29.866Z"
   },
   {
    "duration": 18,
    "start_time": "2024-03-10T22:07:46.301Z"
   },
   {
    "duration": 16,
    "start_time": "2024-03-10T22:08:06.116Z"
   },
   {
    "duration": 21,
    "start_time": "2024-03-10T22:10:03.462Z"
   },
   {
    "duration": 33,
    "start_time": "2024-03-10T22:12:11.214Z"
   },
   {
    "duration": 32,
    "start_time": "2024-03-10T22:12:43.522Z"
   },
   {
    "duration": 32,
    "start_time": "2024-03-10T22:13:03.690Z"
   },
   {
    "duration": 32,
    "start_time": "2024-03-10T22:13:11.301Z"
   },
   {
    "duration": 741,
    "start_time": "2024-03-10T22:13:15.216Z"
   },
   {
    "duration": 15,
    "start_time": "2024-03-10T22:13:15.959Z"
   },
   {
    "duration": 79,
    "start_time": "2024-03-10T22:13:15.976Z"
   },
   {
    "duration": 19,
    "start_time": "2024-03-10T22:13:16.057Z"
   },
   {
    "duration": 78,
    "start_time": "2024-03-10T22:13:16.078Z"
   },
   {
    "duration": 53,
    "start_time": "2024-03-10T22:13:16.157Z"
   },
   {
    "duration": 33,
    "start_time": "2024-03-10T22:14:36.639Z"
   },
   {
    "duration": 85,
    "start_time": "2024-03-10T22:20:07.978Z"
   },
   {
    "duration": 35,
    "start_time": "2024-03-10T22:20:51.092Z"
   },
   {
    "duration": 35,
    "start_time": "2024-03-10T22:21:33.681Z"
   },
   {
    "duration": 15,
    "start_time": "2024-03-10T22:23:29.578Z"
   },
   {
    "duration": 109,
    "start_time": "2024-03-10T22:32:16.049Z"
   },
   {
    "duration": 100,
    "start_time": "2024-03-10T22:32:22.254Z"
   },
   {
    "duration": 112,
    "start_time": "2024-03-10T22:32:27.125Z"
   },
   {
    "duration": 15,
    "start_time": "2024-03-10T22:32:31.625Z"
   },
   {
    "duration": 25,
    "start_time": "2024-03-10T22:32:39.867Z"
   },
   {
    "duration": 723,
    "start_time": "2024-03-10T22:32:59.656Z"
   },
   {
    "duration": 16,
    "start_time": "2024-03-10T22:33:00.381Z"
   },
   {
    "duration": 190,
    "start_time": "2024-03-10T22:33:00.398Z"
   },
   {
    "duration": 171,
    "start_time": "2024-03-10T22:33:00.590Z"
   },
   {
    "duration": 22,
    "start_time": "2024-03-10T22:33:00.763Z"
   },
   {
    "duration": 44,
    "start_time": "2024-03-11T09:02:28.035Z"
   },
   {
    "duration": 6,
    "start_time": "2024-03-11T09:02:53.402Z"
   },
   {
    "duration": 6,
    "start_time": "2024-03-11T09:03:09.773Z"
   },
   {
    "duration": 1245,
    "start_time": "2024-03-11T09:03:16.523Z"
   },
   {
    "duration": 760,
    "start_time": "2024-03-11T09:03:21.731Z"
   },
   {
    "duration": 2,
    "start_time": "2024-03-11T09:03:22.493Z"
   },
   {
    "duration": 20,
    "start_time": "2024-03-11T09:03:22.497Z"
   },
   {
    "duration": 33,
    "start_time": "2024-03-11T09:03:22.519Z"
   },
   {
    "duration": 18,
    "start_time": "2024-03-11T09:03:22.554Z"
   },
   {
    "duration": 19,
    "start_time": "2024-03-11T09:03:46.806Z"
   },
   {
    "duration": 18,
    "start_time": "2024-03-11T09:03:55.115Z"
   },
   {
    "duration": 91,
    "start_time": "2024-03-11T09:04:37.855Z"
   },
   {
    "duration": 87,
    "start_time": "2024-03-11T09:04:53.414Z"
   },
   {
    "duration": 76,
    "start_time": "2024-03-11T09:04:55.045Z"
   },
   {
    "duration": 87,
    "start_time": "2024-03-11T09:05:07.264Z"
   },
   {
    "duration": 74,
    "start_time": "2024-03-11T09:16:11.037Z"
   },
   {
    "duration": 74,
    "start_time": "2024-03-11T09:16:18.917Z"
   },
   {
    "duration": 89,
    "start_time": "2024-03-11T09:16:28.147Z"
   },
   {
    "duration": 107,
    "start_time": "2024-03-11T09:16:37.395Z"
   },
   {
    "duration": 105,
    "start_time": "2024-03-11T09:16:55.160Z"
   },
   {
    "duration": 89,
    "start_time": "2024-03-11T09:17:05.673Z"
   },
   {
    "duration": 158,
    "start_time": "2024-03-11T09:17:50.364Z"
   },
   {
    "duration": 93,
    "start_time": "2024-03-11T09:19:51.485Z"
   },
   {
    "duration": 719,
    "start_time": "2024-03-11T09:20:04.028Z"
   },
   {
    "duration": 2,
    "start_time": "2024-03-11T09:20:04.749Z"
   },
   {
    "duration": 43,
    "start_time": "2024-03-11T09:20:04.752Z"
   },
   {
    "duration": 140,
    "start_time": "2024-03-11T09:20:04.797Z"
   },
   {
    "duration": 0,
    "start_time": "2024-03-11T09:20:04.939Z"
   },
   {
    "duration": 92,
    "start_time": "2024-03-11T09:20:33.716Z"
   },
   {
    "duration": 58,
    "start_time": "2024-03-11T09:25:11.694Z"
   },
   {
    "duration": 74,
    "start_time": "2024-03-11T09:25:44.724Z"
   },
   {
    "duration": 89,
    "start_time": "2024-03-11T09:27:00.608Z"
   },
   {
    "duration": 118,
    "start_time": "2024-03-11T09:28:47.666Z"
   },
   {
    "duration": 109,
    "start_time": "2024-03-11T09:29:10.707Z"
   },
   {
    "duration": 78,
    "start_time": "2024-03-11T09:30:04.209Z"
   },
   {
    "duration": 687,
    "start_time": "2024-03-11T09:30:20.860Z"
   },
   {
    "duration": 2,
    "start_time": "2024-03-11T09:30:21.549Z"
   },
   {
    "duration": 17,
    "start_time": "2024-03-11T09:30:21.552Z"
   },
   {
    "duration": 68,
    "start_time": "2024-03-11T09:30:21.570Z"
   },
   {
    "duration": 0,
    "start_time": "2024-03-11T09:30:21.639Z"
   },
   {
    "duration": 4,
    "start_time": "2024-03-11T09:30:35.679Z"
   },
   {
    "duration": 20,
    "start_time": "2024-03-11T09:30:41.503Z"
   },
   {
    "duration": 87,
    "start_time": "2024-03-11T09:33:12.646Z"
   },
   {
    "duration": 97,
    "start_time": "2024-03-11T09:33:57.995Z"
   },
   {
    "duration": 186,
    "start_time": "2024-03-11T09:35:27.105Z"
   },
   {
    "duration": 104,
    "start_time": "2024-03-11T09:35:48.714Z"
   },
   {
    "duration": 110,
    "start_time": "2024-03-11T09:36:04.957Z"
   },
   {
    "duration": 5,
    "start_time": "2024-03-11T09:38:29.614Z"
   },
   {
    "duration": 107,
    "start_time": "2024-03-11T09:38:52.959Z"
   },
   {
    "duration": 102,
    "start_time": "2024-03-11T09:39:14.920Z"
   },
   {
    "duration": 90,
    "start_time": "2024-03-11T09:39:48.219Z"
   },
   {
    "duration": 29,
    "start_time": "2024-03-11T09:42:22.116Z"
   },
   {
    "duration": 18,
    "start_time": "2024-03-11T09:43:51.622Z"
   },
   {
    "duration": 28,
    "start_time": "2024-03-11T09:52:02.933Z"
   },
   {
    "duration": 185,
    "start_time": "2024-03-11T09:53:46.854Z"
   },
   {
    "duration": 229,
    "start_time": "2024-03-11T09:54:23.739Z"
   },
   {
    "duration": 179,
    "start_time": "2024-03-11T09:54:28.171Z"
   },
   {
    "duration": 178,
    "start_time": "2024-03-11T09:54:31.151Z"
   },
   {
    "duration": 139,
    "start_time": "2024-03-11T09:55:25.965Z"
   },
   {
    "duration": 150,
    "start_time": "2024-03-11T09:55:36.183Z"
   },
   {
    "duration": 145,
    "start_time": "2024-03-11T09:57:25.245Z"
   },
   {
    "duration": 154,
    "start_time": "2024-03-11T09:58:25.318Z"
   },
   {
    "duration": 139,
    "start_time": "2024-03-11T09:58:45.856Z"
   },
   {
    "duration": 148,
    "start_time": "2024-03-11T09:58:53.740Z"
   },
   {
    "duration": 138,
    "start_time": "2024-03-11T09:58:58.222Z"
   },
   {
    "duration": 140,
    "start_time": "2024-03-11T09:58:59.776Z"
   },
   {
    "duration": 155,
    "start_time": "2024-03-11T09:59:01.494Z"
   },
   {
    "duration": 136,
    "start_time": "2024-03-11T09:59:10.568Z"
   },
   {
    "duration": 218,
    "start_time": "2024-03-11T09:59:29.297Z"
   },
   {
    "duration": 161,
    "start_time": "2024-03-11T09:59:39.714Z"
   },
   {
    "duration": 248,
    "start_time": "2024-03-11T09:59:51.169Z"
   },
   {
    "duration": 221,
    "start_time": "2024-03-11T09:59:59.993Z"
   },
   {
    "duration": 269,
    "start_time": "2024-03-11T10:00:07.295Z"
   },
   {
    "duration": 219,
    "start_time": "2024-03-11T10:01:38.665Z"
   },
   {
    "duration": 317,
    "start_time": "2024-03-11T10:01:40.486Z"
   },
   {
    "duration": 204,
    "start_time": "2024-03-11T10:02:01.608Z"
   },
   {
    "duration": 145,
    "start_time": "2024-03-11T10:02:16.424Z"
   },
   {
    "duration": 180,
    "start_time": "2024-03-11T10:02:21.629Z"
   },
   {
    "duration": 187,
    "start_time": "2024-03-11T10:02:47.014Z"
   },
   {
    "duration": 173,
    "start_time": "2024-03-11T10:03:22.821Z"
   },
   {
    "duration": 159,
    "start_time": "2024-03-11T10:04:27.971Z"
   },
   {
    "duration": 173,
    "start_time": "2024-03-11T10:04:46.537Z"
   },
   {
    "duration": 697,
    "start_time": "2024-03-11T10:05:39.985Z"
   },
   {
    "duration": 3,
    "start_time": "2024-03-11T10:05:40.684Z"
   },
   {
    "duration": 22,
    "start_time": "2024-03-11T10:05:40.688Z"
   },
   {
    "duration": 91,
    "start_time": "2024-03-11T10:05:40.711Z"
   },
   {
    "duration": 29,
    "start_time": "2024-03-11T10:05:40.804Z"
   },
   {
    "duration": 262,
    "start_time": "2024-03-11T10:05:40.835Z"
   },
   {
    "duration": 213,
    "start_time": "2024-03-11T10:05:41.099Z"
   },
   {
    "duration": 228,
    "start_time": "2024-03-11T10:05:41.313Z"
   },
   {
    "duration": 251,
    "start_time": "2024-03-11T10:05:41.544Z"
   },
   {
    "duration": 237,
    "start_time": "2024-03-11T10:10:29.873Z"
   },
   {
    "duration": 235,
    "start_time": "2024-03-11T10:10:36.336Z"
   },
   {
    "duration": 239,
    "start_time": "2024-03-11T10:10:52.019Z"
   },
   {
    "duration": 232,
    "start_time": "2024-03-11T10:11:14.230Z"
   },
   {
    "duration": 297,
    "start_time": "2024-03-11T10:11:33.672Z"
   },
   {
    "duration": 233,
    "start_time": "2024-03-11T10:11:44.380Z"
   },
   {
    "duration": 245,
    "start_time": "2024-03-11T10:12:31.385Z"
   },
   {
    "duration": 256,
    "start_time": "2024-03-11T10:12:41.346Z"
   },
   {
    "duration": 247,
    "start_time": "2024-03-11T10:14:36.063Z"
   },
   {
    "duration": 317,
    "start_time": "2024-03-11T10:14:49.061Z"
   },
   {
    "duration": 237,
    "start_time": "2024-03-11T10:15:00.160Z"
   },
   {
    "duration": 237,
    "start_time": "2024-03-11T10:15:23.257Z"
   },
   {
    "duration": 234,
    "start_time": "2024-03-11T10:15:35.751Z"
   },
   {
    "duration": 251,
    "start_time": "2024-03-11T10:15:53.957Z"
   },
   {
    "duration": 169,
    "start_time": "2024-03-11T10:16:26.357Z"
   },
   {
    "duration": 290,
    "start_time": "2024-03-11T10:16:37.235Z"
   },
   {
    "duration": 201,
    "start_time": "2024-03-11T10:17:00.733Z"
   },
   {
    "duration": 196,
    "start_time": "2024-03-11T10:17:42.830Z"
   },
   {
    "duration": 232,
    "start_time": "2024-03-11T10:17:55.964Z"
   },
   {
    "duration": 220,
    "start_time": "2024-03-11T10:18:50.672Z"
   },
   {
    "duration": 254,
    "start_time": "2024-03-11T10:21:21.338Z"
   },
   {
    "duration": 272,
    "start_time": "2024-03-11T10:21:30.276Z"
   },
   {
    "duration": 144,
    "start_time": "2024-03-11T10:21:42.365Z"
   },
   {
    "duration": 115,
    "start_time": "2024-03-11T10:21:52.053Z"
   },
   {
    "duration": 146,
    "start_time": "2024-03-11T10:22:01.701Z"
   },
   {
    "duration": 174,
    "start_time": "2024-03-11T10:22:04.624Z"
   },
   {
    "duration": 162,
    "start_time": "2024-03-11T10:22:10.123Z"
   },
   {
    "duration": 177,
    "start_time": "2024-03-11T10:22:17.325Z"
   },
   {
    "duration": 160,
    "start_time": "2024-03-11T10:22:22.062Z"
   },
   {
    "duration": 149,
    "start_time": "2024-03-11T10:22:32.829Z"
   },
   {
    "duration": 151,
    "start_time": "2024-03-11T10:22:36.945Z"
   },
   {
    "duration": 242,
    "start_time": "2024-03-11T10:23:02.948Z"
   },
   {
    "duration": 177,
    "start_time": "2024-03-11T10:23:08.104Z"
   },
   {
    "duration": 150,
    "start_time": "2024-03-11T10:23:16.004Z"
   },
   {
    "duration": 139,
    "start_time": "2024-03-11T10:23:20.907Z"
   },
   {
    "duration": 136,
    "start_time": "2024-03-11T10:23:25.495Z"
   },
   {
    "duration": 152,
    "start_time": "2024-03-11T10:23:30.315Z"
   },
   {
    "duration": 125,
    "start_time": "2024-03-11T10:24:13.209Z"
   },
   {
    "duration": 120,
    "start_time": "2024-03-11T10:24:19.694Z"
   },
   {
    "duration": 124,
    "start_time": "2024-03-11T10:24:30.327Z"
   },
   {
    "duration": 132,
    "start_time": "2024-03-11T10:24:34.941Z"
   },
   {
    "duration": 146,
    "start_time": "2024-03-11T10:24:38.731Z"
   },
   {
    "duration": 132,
    "start_time": "2024-03-11T10:24:43.251Z"
   },
   {
    "duration": 210,
    "start_time": "2024-03-11T10:25:42.040Z"
   },
   {
    "duration": 322,
    "start_time": "2024-03-11T10:25:48.201Z"
   },
   {
    "duration": 175,
    "start_time": "2024-03-11T10:25:56.322Z"
   },
   {
    "duration": 236,
    "start_time": "2024-03-11T10:26:04.748Z"
   },
   {
    "duration": 129,
    "start_time": "2024-03-11T10:26:20.216Z"
   },
   {
    "duration": 135,
    "start_time": "2024-03-11T10:28:38.433Z"
   },
   {
    "duration": 123,
    "start_time": "2024-03-11T10:28:52.150Z"
   },
   {
    "duration": 157,
    "start_time": "2024-03-11T10:28:57.364Z"
   },
   {
    "duration": 149,
    "start_time": "2024-03-11T10:29:01.558Z"
   },
   {
    "duration": 143,
    "start_time": "2024-03-11T10:29:06.360Z"
   },
   {
    "duration": 159,
    "start_time": "2024-03-11T10:29:29.308Z"
   },
   {
    "duration": 166,
    "start_time": "2024-03-11T10:30:12.259Z"
   },
   {
    "duration": 176,
    "start_time": "2024-03-11T10:30:20.667Z"
   },
   {
    "duration": 155,
    "start_time": "2024-03-11T10:30:30.827Z"
   },
   {
    "duration": 143,
    "start_time": "2024-03-11T10:30:41.055Z"
   },
   {
    "duration": 153,
    "start_time": "2024-03-11T10:31:00.150Z"
   },
   {
    "duration": 164,
    "start_time": "2024-03-11T10:31:07.214Z"
   },
   {
    "duration": 139,
    "start_time": "2024-03-11T10:31:13.745Z"
   },
   {
    "duration": 140,
    "start_time": "2024-03-11T10:31:23.586Z"
   },
   {
    "duration": 331,
    "start_time": "2024-03-11T10:31:36.793Z"
   },
   {
    "duration": 148,
    "start_time": "2024-03-11T10:31:53.082Z"
   },
   {
    "duration": 129,
    "start_time": "2024-03-11T10:32:00.898Z"
   },
   {
    "duration": 136,
    "start_time": "2024-03-11T10:32:44.615Z"
   },
   {
    "duration": 244,
    "start_time": "2024-03-11T10:33:07.914Z"
   },
   {
    "duration": 245,
    "start_time": "2024-03-11T10:33:14.977Z"
   },
   {
    "duration": 228,
    "start_time": "2024-03-11T10:33:57.518Z"
   },
   {
    "duration": 179,
    "start_time": "2024-03-11T10:34:18.610Z"
   },
   {
    "duration": 196,
    "start_time": "2024-03-11T10:34:31.325Z"
   },
   {
    "duration": 175,
    "start_time": "2024-03-11T10:34:35.879Z"
   },
   {
    "duration": 153,
    "start_time": "2024-03-11T10:34:43.912Z"
   },
   {
    "duration": 170,
    "start_time": "2024-03-11T10:35:02.300Z"
   },
   {
    "duration": 161,
    "start_time": "2024-03-11T10:35:07.451Z"
   },
   {
    "duration": 343,
    "start_time": "2024-03-11T10:35:16.625Z"
   },
   {
    "duration": 216,
    "start_time": "2024-03-11T10:35:36.006Z"
   },
   {
    "duration": 219,
    "start_time": "2024-03-11T10:35:50.726Z"
   },
   {
    "duration": 201,
    "start_time": "2024-03-11T10:36:05.577Z"
   },
   {
    "duration": 188,
    "start_time": "2024-03-11T10:36:08.921Z"
   },
   {
    "duration": 181,
    "start_time": "2024-03-11T10:36:22.471Z"
   },
   {
    "duration": 157,
    "start_time": "2024-03-11T10:36:25.257Z"
   },
   {
    "duration": 168,
    "start_time": "2024-03-11T10:36:43.422Z"
   },
   {
    "duration": 154,
    "start_time": "2024-03-11T10:36:49.019Z"
   },
   {
    "duration": 190,
    "start_time": "2024-03-11T10:36:57.630Z"
   },
   {
    "duration": 163,
    "start_time": "2024-03-11T10:37:00.844Z"
   },
   {
    "duration": 168,
    "start_time": "2024-03-11T10:37:08.102Z"
   },
   {
    "duration": 159,
    "start_time": "2024-03-11T10:37:11.929Z"
   },
   {
    "duration": 165,
    "start_time": "2024-03-11T10:37:15.234Z"
   },
   {
    "duration": 378,
    "start_time": "2024-03-11T10:37:18.509Z"
   },
   {
    "duration": 174,
    "start_time": "2024-03-11T10:37:22.675Z"
   },
   {
    "duration": 227,
    "start_time": "2024-03-11T10:37:45.252Z"
   },
   {
    "duration": 211,
    "start_time": "2024-03-11T10:38:05.689Z"
   },
   {
    "duration": 188,
    "start_time": "2024-03-11T10:38:13.780Z"
   },
   {
    "duration": 156,
    "start_time": "2024-03-11T10:38:45.716Z"
   },
   {
    "duration": 176,
    "start_time": "2024-03-11T10:38:53.720Z"
   },
   {
    "duration": 172,
    "start_time": "2024-03-11T10:39:07.714Z"
   },
   {
    "duration": 173,
    "start_time": "2024-03-11T10:39:11.914Z"
   },
   {
    "duration": 172,
    "start_time": "2024-03-11T10:39:17.924Z"
   },
   {
    "duration": 189,
    "start_time": "2024-03-11T10:39:28.994Z"
   },
   {
    "duration": 146,
    "start_time": "2024-03-11T10:39:58.997Z"
   },
   {
    "duration": 135,
    "start_time": "2024-03-11T10:40:06.029Z"
   },
   {
    "duration": 125,
    "start_time": "2024-03-11T10:40:11.735Z"
   },
   {
    "duration": 124,
    "start_time": "2024-03-11T10:40:15.722Z"
   },
   {
    "duration": 74,
    "start_time": "2024-03-11T10:43:12.136Z"
   },
   {
    "duration": 82,
    "start_time": "2024-03-11T10:52:21.461Z"
   },
   {
    "duration": 10,
    "start_time": "2024-03-11T10:52:33.979Z"
   },
   {
    "duration": 11,
    "start_time": "2024-03-11T10:52:50.113Z"
   },
   {
    "duration": 12,
    "start_time": "2024-03-11T10:52:53.968Z"
   },
   {
    "duration": 783,
    "start_time": "2024-03-11T10:53:42.430Z"
   },
   {
    "duration": 3,
    "start_time": "2024-03-11T10:53:43.215Z"
   },
   {
    "duration": 33,
    "start_time": "2024-03-11T10:53:43.220Z"
   },
   {
    "duration": 97,
    "start_time": "2024-03-11T10:53:43.256Z"
   },
   {
    "duration": 37,
    "start_time": "2024-03-11T10:53:43.354Z"
   },
   {
    "duration": 238,
    "start_time": "2024-03-11T10:53:43.393Z"
   },
   {
    "duration": 186,
    "start_time": "2024-03-11T10:53:43.632Z"
   },
   {
    "duration": 165,
    "start_time": "2024-03-11T10:53:43.820Z"
   },
   {
    "duration": 296,
    "start_time": "2024-03-11T10:53:43.986Z"
   },
   {
    "duration": 153,
    "start_time": "2024-03-11T10:53:44.284Z"
   },
   {
    "duration": 160,
    "start_time": "2024-03-11T10:53:44.438Z"
   },
   {
    "duration": 221,
    "start_time": "2024-03-11T10:53:44.600Z"
   },
   {
    "duration": 720,
    "start_time": "2024-03-11T10:54:32.766Z"
   },
   {
    "duration": 3,
    "start_time": "2024-03-11T10:54:33.489Z"
   },
   {
    "duration": 43,
    "start_time": "2024-03-11T10:54:33.496Z"
   },
   {
    "duration": 107,
    "start_time": "2024-03-11T10:54:33.540Z"
   },
   {
    "duration": 33,
    "start_time": "2024-03-11T10:54:33.649Z"
   },
   {
    "duration": 257,
    "start_time": "2024-03-11T10:54:33.685Z"
   },
   {
    "duration": 191,
    "start_time": "2024-03-11T10:54:33.945Z"
   },
   {
    "duration": 170,
    "start_time": "2024-03-11T10:54:34.144Z"
   },
   {
    "duration": 312,
    "start_time": "2024-03-11T10:54:34.316Z"
   },
   {
    "duration": 136,
    "start_time": "2024-03-11T10:54:34.630Z"
   },
   {
    "duration": 183,
    "start_time": "2024-03-11T10:54:34.768Z"
   },
   {
    "duration": 269,
    "start_time": "2024-03-11T10:54:34.953Z"
   },
   {
    "duration": 128,
    "start_time": "2024-03-11T12:46:24.590Z"
   },
   {
    "duration": 146,
    "start_time": "2024-03-11T12:46:42.456Z"
   },
   {
    "duration": 173,
    "start_time": "2024-03-11T12:46:47.594Z"
   },
   {
    "duration": 164,
    "start_time": "2024-03-11T12:46:51.041Z"
   },
   {
    "duration": 143,
    "start_time": "2024-03-11T12:46:59.515Z"
   },
   {
    "duration": 146,
    "start_time": "2024-03-11T12:47:07.794Z"
   },
   {
    "duration": 203,
    "start_time": "2024-03-11T12:47:24.464Z"
   },
   {
    "duration": 124,
    "start_time": "2024-03-11T12:48:50.678Z"
   },
   {
    "duration": 241,
    "start_time": "2024-03-11T12:49:14.069Z"
   },
   {
    "duration": 191,
    "start_time": "2024-03-11T12:49:33.712Z"
   },
   {
    "duration": 240,
    "start_time": "2024-03-11T12:50:02.610Z"
   },
   {
    "duration": 229,
    "start_time": "2024-03-11T12:50:07.881Z"
   },
   {
    "duration": 285,
    "start_time": "2024-03-11T12:51:47.844Z"
   },
   {
    "duration": 7,
    "start_time": "2024-03-11T12:52:16.878Z"
   },
   {
    "duration": 219,
    "start_time": "2024-03-11T12:52:35.116Z"
   },
   {
    "duration": 244,
    "start_time": "2024-03-11T12:53:36.658Z"
   },
   {
    "duration": 227,
    "start_time": "2024-03-11T12:53:48.069Z"
   },
   {
    "duration": 235,
    "start_time": "2024-03-11T12:57:59.595Z"
   },
   {
    "duration": 7,
    "start_time": "2024-03-11T12:58:28.451Z"
   },
   {
    "duration": 223,
    "start_time": "2024-03-11T12:58:38.666Z"
   },
   {
    "duration": 288,
    "start_time": "2024-03-11T12:58:55.681Z"
   },
   {
    "duration": 197,
    "start_time": "2024-03-11T12:59:33.059Z"
   },
   {
    "duration": 227,
    "start_time": "2024-03-11T13:00:21.686Z"
   },
   {
    "duration": 170,
    "start_time": "2024-03-11T13:00:42.038Z"
   },
   {
    "duration": 247,
    "start_time": "2024-03-11T13:00:50.930Z"
   },
   {
    "duration": 204,
    "start_time": "2024-03-11T13:00:56.996Z"
   },
   {
    "duration": 169,
    "start_time": "2024-03-11T13:01:02.626Z"
   },
   {
    "duration": 180,
    "start_time": "2024-03-11T13:01:56.879Z"
   },
   {
    "duration": 232,
    "start_time": "2024-03-11T13:03:04.435Z"
   },
   {
    "duration": 148,
    "start_time": "2024-03-11T13:05:11.148Z"
   },
   {
    "duration": 129,
    "start_time": "2024-03-11T13:05:53.043Z"
   },
   {
    "duration": 391,
    "start_time": "2024-03-11T13:07:44.558Z"
   },
   {
    "duration": 2,
    "start_time": "2024-03-11T13:09:27.278Z"
   },
   {
    "duration": 122,
    "start_time": "2024-03-11T13:12:52.107Z"
   },
   {
    "duration": 127,
    "start_time": "2024-03-11T13:14:26.769Z"
   },
   {
    "duration": 5,
    "start_time": "2024-03-11T13:16:25.659Z"
   },
   {
    "duration": 5,
    "start_time": "2024-03-11T13:17:17.066Z"
   },
   {
    "duration": 132,
    "start_time": "2024-03-11T13:17:40.485Z"
   },
   {
    "duration": 175,
    "start_time": "2024-03-11T13:17:45.073Z"
   },
   {
    "duration": 314,
    "start_time": "2024-03-11T13:17:52.530Z"
   },
   {
    "duration": 182,
    "start_time": "2024-03-11T13:18:20.405Z"
   },
   {
    "duration": 175,
    "start_time": "2024-03-11T13:20:16.162Z"
   },
   {
    "duration": 1246,
    "start_time": "2024-03-11T13:42:53.304Z"
   },
   {
    "duration": 31,
    "start_time": "2024-03-11T13:43:46.504Z"
   },
   {
    "duration": 37,
    "start_time": "2024-03-11T13:44:06.629Z"
   },
   {
    "duration": 31,
    "start_time": "2024-03-11T13:44:18.030Z"
   },
   {
    "duration": 22,
    "start_time": "2024-03-11T13:44:22.909Z"
   },
   {
    "duration": 22,
    "start_time": "2024-03-11T13:44:38.048Z"
   },
   {
    "duration": 29,
    "start_time": "2024-03-11T13:44:45.524Z"
   },
   {
    "duration": 50,
    "start_time": "2024-03-11T13:46:57.243Z"
   },
   {
    "duration": 46,
    "start_time": "2024-03-11T13:48:14.680Z"
   },
   {
    "duration": 53,
    "start_time": "2024-03-11T13:49:09.431Z"
   },
   {
    "duration": 43,
    "start_time": "2024-03-11T13:49:27.564Z"
   },
   {
    "duration": 695,
    "start_time": "2024-03-11T13:49:47.869Z"
   },
   {
    "duration": 3,
    "start_time": "2024-03-11T13:49:48.566Z"
   },
   {
    "duration": 53,
    "start_time": "2024-03-11T13:49:48.571Z"
   },
   {
    "duration": 86,
    "start_time": "2024-03-11T13:49:48.626Z"
   },
   {
    "duration": 62,
    "start_time": "2024-03-11T13:49:48.714Z"
   },
   {
    "duration": 221,
    "start_time": "2024-03-11T13:49:48.777Z"
   },
   {
    "duration": 180,
    "start_time": "2024-03-11T13:49:49.000Z"
   },
   {
    "duration": 162,
    "start_time": "2024-03-11T13:49:49.181Z"
   },
   {
    "duration": 193,
    "start_time": "2024-03-11T13:49:49.345Z"
   },
   {
    "duration": 203,
    "start_time": "2024-03-11T13:49:49.544Z"
   },
   {
    "duration": 144,
    "start_time": "2024-03-11T13:49:49.749Z"
   },
   {
    "duration": 2,
    "start_time": "2024-03-11T13:49:49.895Z"
   },
   {
    "duration": 162,
    "start_time": "2024-03-11T13:49:49.898Z"
   },
   {
    "duration": 6,
    "start_time": "2024-03-11T13:49:50.062Z"
   },
   {
    "duration": 189,
    "start_time": "2024-03-11T13:49:50.069Z"
   },
   {
    "duration": 7,
    "start_time": "2024-03-11T13:49:50.259Z"
   },
   {
    "duration": 189,
    "start_time": "2024-03-11T13:49:50.267Z"
   },
   {
    "duration": 193,
    "start_time": "2024-03-11T13:49:50.457Z"
   },
   {
    "duration": 6,
    "start_time": "2024-03-11T13:49:50.651Z"
   },
   {
    "duration": 7,
    "start_time": "2024-03-11T13:49:50.658Z"
   },
   {
    "duration": 52,
    "start_time": "2024-03-11T13:52:31.117Z"
   },
   {
    "duration": 55,
    "start_time": "2024-03-11T13:53:31.719Z"
   },
   {
    "duration": 75,
    "start_time": "2024-03-11T13:54:27.446Z"
   },
   {
    "duration": 24,
    "start_time": "2024-03-11T13:55:19.505Z"
   },
   {
    "duration": 18,
    "start_time": "2024-03-11T13:55:30.008Z"
   },
   {
    "duration": 19,
    "start_time": "2024-03-11T13:56:52.490Z"
   },
   {
    "duration": 122,
    "start_time": "2024-03-11T13:57:07.725Z"
   },
   {
    "duration": 106,
    "start_time": "2024-03-11T13:57:58.608Z"
   },
   {
    "duration": 106,
    "start_time": "2024-03-11T13:58:31.374Z"
   },
   {
    "duration": 99,
    "start_time": "2024-03-11T13:58:35.569Z"
   },
   {
    "duration": 158,
    "start_time": "2024-03-11T13:58:57.867Z"
   },
   {
    "duration": 98,
    "start_time": "2024-03-11T13:59:54.915Z"
   },
   {
    "duration": 104,
    "start_time": "2024-03-11T14:00:06.879Z"
   },
   {
    "duration": 105,
    "start_time": "2024-03-11T14:00:13.805Z"
   },
   {
    "duration": 105,
    "start_time": "2024-03-11T14:00:28.291Z"
   },
   {
    "duration": 103,
    "start_time": "2024-03-11T14:03:59.242Z"
   },
   {
    "duration": 32,
    "start_time": "2024-03-11T14:07:58.639Z"
   },
   {
    "duration": 42,
    "start_time": "2024-03-11T14:08:22.565Z"
   },
   {
    "duration": 50,
    "start_time": "2024-03-11T14:08:37.724Z"
   },
   {
    "duration": 20,
    "start_time": "2024-03-11T14:09:12.786Z"
   },
   {
    "duration": 1805,
    "start_time": "2024-03-11T18:12:39.722Z"
   },
   {
    "duration": 1032,
    "start_time": "2024-03-11T18:12:51.292Z"
   },
   {
    "duration": 1687,
    "start_time": "2024-03-11T18:13:13.609Z"
   },
   {
    "duration": 4558,
    "start_time": "2024-03-11T18:13:21.469Z"
   },
   {
    "duration": 2485,
    "start_time": "2024-03-11T18:14:00.478Z"
   },
   {
    "duration": 2800,
    "start_time": "2024-03-11T18:14:13.306Z"
   },
   {
    "duration": 689,
    "start_time": "2024-03-11T18:14:34.976Z"
   },
   {
    "duration": 1887,
    "start_time": "2024-03-11T18:14:35.667Z"
   },
   {
    "duration": 17,
    "start_time": "2024-03-11T18:14:37.556Z"
   },
   {
    "duration": 110,
    "start_time": "2024-03-11T18:14:37.575Z"
   },
   {
    "duration": 21,
    "start_time": "2024-03-11T18:14:37.686Z"
   },
   {
    "duration": 203,
    "start_time": "2024-03-11T18:14:37.709Z"
   },
   {
    "duration": 172,
    "start_time": "2024-03-11T18:14:37.913Z"
   },
   {
    "duration": 170,
    "start_time": "2024-03-11T18:14:38.087Z"
   },
   {
    "duration": 249,
    "start_time": "2024-03-11T18:14:38.258Z"
   },
   {
    "duration": 155,
    "start_time": "2024-03-11T18:14:38.510Z"
   },
   {
    "duration": 138,
    "start_time": "2024-03-11T18:14:38.667Z"
   },
   {
    "duration": 119,
    "start_time": "2024-03-11T18:14:38.807Z"
   },
   {
    "duration": 150,
    "start_time": "2024-03-11T18:14:38.927Z"
   },
   {
    "duration": 175,
    "start_time": "2024-03-11T18:14:39.078Z"
   },
   {
    "duration": 7,
    "start_time": "2024-03-11T18:14:39.254Z"
   },
   {
    "duration": 188,
    "start_time": "2024-03-11T18:14:39.262Z"
   },
   {
    "duration": 6,
    "start_time": "2024-03-11T18:14:39.452Z"
   },
   {
    "duration": 201,
    "start_time": "2024-03-11T18:14:39.460Z"
   },
   {
    "duration": 5,
    "start_time": "2024-03-11T18:14:39.663Z"
   },
   {
    "duration": 39,
    "start_time": "2024-03-11T18:14:39.670Z"
   },
   {
    "duration": 2536,
    "start_time": "2024-03-11T18:15:03.245Z"
   },
   {
    "duration": 2445,
    "start_time": "2024-03-11T18:15:24.350Z"
   },
   {
    "duration": 675,
    "start_time": "2024-03-11T18:15:49.180Z"
   },
   {
    "duration": 1748,
    "start_time": "2024-03-11T18:15:49.857Z"
   },
   {
    "duration": 17,
    "start_time": "2024-03-11T18:15:51.608Z"
   },
   {
    "duration": 86,
    "start_time": "2024-03-11T18:15:51.645Z"
   },
   {
    "duration": 27,
    "start_time": "2024-03-11T18:15:51.733Z"
   },
   {
    "duration": 222,
    "start_time": "2024-03-11T18:15:51.761Z"
   },
   {
    "duration": 176,
    "start_time": "2024-03-11T18:15:51.984Z"
   },
   {
    "duration": 161,
    "start_time": "2024-03-11T18:15:52.162Z"
   },
   {
    "duration": 185,
    "start_time": "2024-03-11T18:15:52.324Z"
   },
   {
    "duration": 148,
    "start_time": "2024-03-11T18:15:52.510Z"
   },
   {
    "duration": 206,
    "start_time": "2024-03-11T18:15:52.659Z"
   },
   {
    "duration": 115,
    "start_time": "2024-03-11T18:15:52.866Z"
   },
   {
    "duration": 165,
    "start_time": "2024-03-11T18:15:52.984Z"
   },
   {
    "duration": 188,
    "start_time": "2024-03-11T18:15:53.151Z"
   },
   {
    "duration": 7,
    "start_time": "2024-03-11T18:15:53.344Z"
   },
   {
    "duration": 204,
    "start_time": "2024-03-11T18:15:53.352Z"
   },
   {
    "duration": 6,
    "start_time": "2024-03-11T18:15:53.558Z"
   },
   {
    "duration": 210,
    "start_time": "2024-03-11T18:15:53.566Z"
   },
   {
    "duration": 5,
    "start_time": "2024-03-11T18:15:53.777Z"
   },
   {
    "duration": 18,
    "start_time": "2024-03-11T18:15:53.784Z"
   },
   {
    "duration": 30,
    "start_time": "2024-03-11T18:22:06.721Z"
   },
   {
    "duration": 15,
    "start_time": "2024-03-11T18:22:37.759Z"
   },
   {
    "duration": 18,
    "start_time": "2024-03-11T18:27:16.332Z"
   },
   {
    "duration": 87,
    "start_time": "2024-03-11T18:27:39.919Z"
   },
   {
    "duration": 17,
    "start_time": "2024-03-11T18:31:24.313Z"
   },
   {
    "duration": 17,
    "start_time": "2024-03-11T18:31:34.869Z"
   },
   {
    "duration": 663,
    "start_time": "2024-03-11T18:31:51.899Z"
   },
   {
    "duration": 1710,
    "start_time": "2024-03-11T18:31:52.564Z"
   },
   {
    "duration": 20,
    "start_time": "2024-03-11T18:31:54.275Z"
   },
   {
    "duration": 122,
    "start_time": "2024-03-11T18:31:54.296Z"
   },
   {
    "duration": 25,
    "start_time": "2024-03-11T18:31:54.420Z"
   },
   {
    "duration": 193,
    "start_time": "2024-03-11T18:31:54.446Z"
   },
   {
    "duration": 159,
    "start_time": "2024-03-11T18:31:54.640Z"
   },
   {
    "duration": 146,
    "start_time": "2024-03-11T18:31:54.801Z"
   },
   {
    "duration": 177,
    "start_time": "2024-03-11T18:31:54.948Z"
   },
   {
    "duration": 147,
    "start_time": "2024-03-11T18:31:55.126Z"
   },
   {
    "duration": 199,
    "start_time": "2024-03-11T18:31:55.274Z"
   },
   {
    "duration": 102,
    "start_time": "2024-03-11T18:31:55.474Z"
   },
   {
    "duration": 147,
    "start_time": "2024-03-11T18:31:55.577Z"
   },
   {
    "duration": 182,
    "start_time": "2024-03-11T18:31:55.726Z"
   },
   {
    "duration": 7,
    "start_time": "2024-03-11T18:31:55.909Z"
   },
   {
    "duration": 186,
    "start_time": "2024-03-11T18:31:55.917Z"
   },
   {
    "duration": 8,
    "start_time": "2024-03-11T18:31:56.104Z"
   },
   {
    "duration": 208,
    "start_time": "2024-03-11T18:31:56.113Z"
   },
   {
    "duration": 6,
    "start_time": "2024-03-11T18:31:56.322Z"
   },
   {
    "duration": 20,
    "start_time": "2024-03-11T18:31:56.330Z"
   },
   {
    "duration": 17,
    "start_time": "2024-03-11T18:32:35.813Z"
   },
   {
    "duration": 699,
    "start_time": "2024-03-11T18:39:15.931Z"
   },
   {
    "duration": 1726,
    "start_time": "2024-03-11T18:39:16.632Z"
   },
   {
    "duration": 20,
    "start_time": "2024-03-11T18:39:18.360Z"
   },
   {
    "duration": 92,
    "start_time": "2024-03-11T18:39:18.382Z"
   },
   {
    "duration": 22,
    "start_time": "2024-03-11T18:39:18.476Z"
   },
   {
    "duration": 201,
    "start_time": "2024-03-11T18:39:18.499Z"
   },
   {
    "duration": 167,
    "start_time": "2024-03-11T18:39:18.702Z"
   },
   {
    "duration": 149,
    "start_time": "2024-03-11T18:39:18.871Z"
   },
   {
    "duration": 184,
    "start_time": "2024-03-11T18:39:19.022Z"
   },
   {
    "duration": 146,
    "start_time": "2024-03-11T18:39:19.208Z"
   },
   {
    "duration": 207,
    "start_time": "2024-03-11T18:39:19.356Z"
   },
   {
    "duration": 122,
    "start_time": "2024-03-11T18:39:19.565Z"
   },
   {
    "duration": 149,
    "start_time": "2024-03-11T18:39:19.688Z"
   },
   {
    "duration": 178,
    "start_time": "2024-03-11T18:39:19.844Z"
   },
   {
    "duration": 6,
    "start_time": "2024-03-11T18:39:20.023Z"
   },
   {
    "duration": 182,
    "start_time": "2024-03-11T18:39:20.030Z"
   },
   {
    "duration": 6,
    "start_time": "2024-03-11T18:39:20.213Z"
   },
   {
    "duration": 202,
    "start_time": "2024-03-11T18:39:20.220Z"
   },
   {
    "duration": 5,
    "start_time": "2024-03-11T18:39:20.423Z"
   },
   {
    "duration": 16,
    "start_time": "2024-03-11T18:39:20.429Z"
   },
   {
    "duration": 728,
    "start_time": "2024-03-11T18:53:31.715Z"
   },
   {
    "duration": 1681,
    "start_time": "2024-03-11T18:53:32.445Z"
   },
   {
    "duration": 82,
    "start_time": "2024-03-11T18:53:34.128Z"
   },
   {
    "duration": 0,
    "start_time": "2024-03-11T18:53:34.212Z"
   },
   {
    "duration": 0,
    "start_time": "2024-03-11T18:53:34.213Z"
   },
   {
    "duration": 0,
    "start_time": "2024-03-11T18:53:34.214Z"
   },
   {
    "duration": 0,
    "start_time": "2024-03-11T18:53:34.215Z"
   },
   {
    "duration": 0,
    "start_time": "2024-03-11T18:53:34.215Z"
   },
   {
    "duration": 0,
    "start_time": "2024-03-11T18:53:34.216Z"
   },
   {
    "duration": 0,
    "start_time": "2024-03-11T18:53:34.217Z"
   },
   {
    "duration": 0,
    "start_time": "2024-03-11T18:53:34.218Z"
   },
   {
    "duration": 0,
    "start_time": "2024-03-11T18:53:34.220Z"
   },
   {
    "duration": 0,
    "start_time": "2024-03-11T18:53:34.220Z"
   },
   {
    "duration": 0,
    "start_time": "2024-03-11T18:53:34.221Z"
   },
   {
    "duration": 0,
    "start_time": "2024-03-11T18:53:34.222Z"
   },
   {
    "duration": 0,
    "start_time": "2024-03-11T18:53:34.223Z"
   },
   {
    "duration": 0,
    "start_time": "2024-03-11T18:53:34.224Z"
   },
   {
    "duration": 0,
    "start_time": "2024-03-11T18:53:34.225Z"
   },
   {
    "duration": 0,
    "start_time": "2024-03-11T18:53:34.226Z"
   },
   {
    "duration": 0,
    "start_time": "2024-03-11T18:53:34.245Z"
   },
   {
    "duration": 28,
    "start_time": "2024-03-11T18:54:02.701Z"
   },
   {
    "duration": 22,
    "start_time": "2024-03-11T18:54:55.907Z"
   },
   {
    "duration": 18,
    "start_time": "2024-03-11T18:55:45.714Z"
   },
   {
    "duration": 16,
    "start_time": "2024-03-11T18:56:58.672Z"
   },
   {
    "duration": 684,
    "start_time": "2024-03-11T18:58:09.912Z"
   },
   {
    "duration": 1776,
    "start_time": "2024-03-11T18:58:10.598Z"
   },
   {
    "duration": 19,
    "start_time": "2024-03-11T18:58:12.376Z"
   },
   {
    "duration": 80,
    "start_time": "2024-03-11T18:58:12.396Z"
   },
   {
    "duration": 18,
    "start_time": "2024-03-11T18:58:12.477Z"
   },
   {
    "duration": 189,
    "start_time": "2024-03-11T18:58:12.497Z"
   },
   {
    "duration": 166,
    "start_time": "2024-03-11T18:58:12.688Z"
   },
   {
    "duration": 148,
    "start_time": "2024-03-11T18:58:12.855Z"
   },
   {
    "duration": 170,
    "start_time": "2024-03-11T18:58:13.005Z"
   },
   {
    "duration": 142,
    "start_time": "2024-03-11T18:58:13.177Z"
   },
   {
    "duration": 217,
    "start_time": "2024-03-11T18:58:13.321Z"
   },
   {
    "duration": 127,
    "start_time": "2024-03-11T18:58:13.539Z"
   },
   {
    "duration": 144,
    "start_time": "2024-03-11T18:58:13.667Z"
   },
   {
    "duration": 179,
    "start_time": "2024-03-11T18:58:13.812Z"
   },
   {
    "duration": 7,
    "start_time": "2024-03-11T18:58:13.992Z"
   },
   {
    "duration": 191,
    "start_time": "2024-03-11T18:58:14.000Z"
   },
   {
    "duration": 8,
    "start_time": "2024-03-11T18:58:14.192Z"
   },
   {
    "duration": 199,
    "start_time": "2024-03-11T18:58:14.201Z"
   },
   {
    "duration": 6,
    "start_time": "2024-03-11T18:58:14.402Z"
   },
   {
    "duration": 9,
    "start_time": "2024-03-11T18:58:14.409Z"
   },
   {
    "duration": 16,
    "start_time": "2024-03-11T19:01:34.121Z"
   },
   {
    "duration": 746,
    "start_time": "2024-03-11T19:01:42.623Z"
   },
   {
    "duration": 1761,
    "start_time": "2024-03-11T19:01:43.370Z"
   },
   {
    "duration": 20,
    "start_time": "2024-03-11T19:01:45.134Z"
   },
   {
    "duration": 160,
    "start_time": "2024-03-11T19:01:45.155Z"
   },
   {
    "duration": 19,
    "start_time": "2024-03-11T19:01:45.317Z"
   },
   {
    "duration": 209,
    "start_time": "2024-03-11T19:01:45.337Z"
   },
   {
    "duration": 170,
    "start_time": "2024-03-11T19:01:45.547Z"
   },
   {
    "duration": 164,
    "start_time": "2024-03-11T19:01:45.718Z"
   },
   {
    "duration": 180,
    "start_time": "2024-03-11T19:01:45.884Z"
   },
   {
    "duration": 146,
    "start_time": "2024-03-11T19:01:46.066Z"
   },
   {
    "duration": 211,
    "start_time": "2024-03-11T19:01:46.214Z"
   },
   {
    "duration": 105,
    "start_time": "2024-03-11T19:01:46.426Z"
   },
   {
    "duration": 164,
    "start_time": "2024-03-11T19:01:46.533Z"
   },
   {
    "duration": 181,
    "start_time": "2024-03-11T19:01:46.698Z"
   },
   {
    "duration": 7,
    "start_time": "2024-03-11T19:01:46.880Z"
   },
   {
    "duration": 189,
    "start_time": "2024-03-11T19:01:46.888Z"
   },
   {
    "duration": 8,
    "start_time": "2024-03-11T19:01:47.078Z"
   },
   {
    "duration": 227,
    "start_time": "2024-03-11T19:01:47.088Z"
   },
   {
    "duration": 6,
    "start_time": "2024-03-11T19:01:47.317Z"
   },
   {
    "duration": 23,
    "start_time": "2024-03-11T19:01:47.325Z"
   },
   {
    "duration": 192,
    "start_time": "2024-03-11T19:07:05.014Z"
   },
   {
    "duration": 192,
    "start_time": "2024-03-11T19:07:12.327Z"
   },
   {
    "duration": 185,
    "start_time": "2024-03-11T19:07:48.790Z"
   },
   {
    "duration": 321,
    "start_time": "2024-03-11T19:09:37.300Z"
   },
   {
    "duration": 161,
    "start_time": "2024-03-11T19:09:43.225Z"
   },
   {
    "duration": 192,
    "start_time": "2024-03-11T19:09:49.702Z"
   },
   {
    "duration": 190,
    "start_time": "2024-03-11T19:09:56.849Z"
   },
   {
    "duration": 162,
    "start_time": "2024-03-11T19:10:28.451Z"
   },
   {
    "duration": 161,
    "start_time": "2024-03-11T19:11:22.544Z"
   },
   {
    "duration": 679,
    "start_time": "2024-03-11T19:16:34.055Z"
   },
   {
    "duration": 1738,
    "start_time": "2024-03-11T19:16:34.736Z"
   },
   {
    "duration": 19,
    "start_time": "2024-03-11T19:16:36.476Z"
   },
   {
    "duration": 122,
    "start_time": "2024-03-11T19:16:36.496Z"
   },
   {
    "duration": 26,
    "start_time": "2024-03-11T19:16:36.620Z"
   },
   {
    "duration": 195,
    "start_time": "2024-03-11T19:16:36.647Z"
   },
   {
    "duration": 168,
    "start_time": "2024-03-11T19:16:36.843Z"
   },
   {
    "duration": 151,
    "start_time": "2024-03-11T19:16:37.013Z"
   },
   {
    "duration": 191,
    "start_time": "2024-03-11T19:16:37.166Z"
   },
   {
    "duration": 145,
    "start_time": "2024-03-11T19:16:37.359Z"
   },
   {
    "duration": 239,
    "start_time": "2024-03-11T19:16:37.506Z"
   },
   {
    "duration": 112,
    "start_time": "2024-03-11T19:16:37.747Z"
   },
   {
    "duration": 151,
    "start_time": "2024-03-11T19:16:37.861Z"
   },
   {
    "duration": 180,
    "start_time": "2024-03-11T19:16:38.015Z"
   },
   {
    "duration": 8,
    "start_time": "2024-03-11T19:16:38.197Z"
   },
   {
    "duration": 199,
    "start_time": "2024-03-11T19:16:38.206Z"
   },
   {
    "duration": 6,
    "start_time": "2024-03-11T19:16:38.406Z"
   },
   {
    "duration": 204,
    "start_time": "2024-03-11T19:16:38.413Z"
   },
   {
    "duration": 4,
    "start_time": "2024-03-11T19:16:38.619Z"
   },
   {
    "duration": 22,
    "start_time": "2024-03-11T19:16:38.625Z"
   },
   {
    "duration": 155,
    "start_time": "2024-03-11T19:25:37.646Z"
   },
   {
    "duration": 135,
    "start_time": "2024-03-11T19:27:45.552Z"
   },
   {
    "duration": 129,
    "start_time": "2024-03-11T19:27:50.462Z"
   },
   {
    "duration": 126,
    "start_time": "2024-03-11T19:27:53.775Z"
   },
   {
    "duration": 208,
    "start_time": "2024-03-11T19:28:12.423Z"
   },
   {
    "duration": 68,
    "start_time": "2024-03-11T19:28:28.272Z"
   },
   {
    "duration": 143,
    "start_time": "2024-03-11T19:29:35.036Z"
   },
   {
    "duration": 142,
    "start_time": "2024-03-11T19:31:34.136Z"
   },
   {
    "duration": 134,
    "start_time": "2024-03-11T19:34:32.195Z"
   },
   {
    "duration": 139,
    "start_time": "2024-03-11T19:37:18.061Z"
   },
   {
    "duration": 127,
    "start_time": "2024-03-11T19:42:08.405Z"
   },
   {
    "duration": 528,
    "start_time": "2024-03-11T19:49:19.442Z"
   },
   {
    "duration": 367,
    "start_time": "2024-03-11T19:50:00.716Z"
   },
   {
    "duration": 1199,
    "start_time": "2024-03-11T19:50:07.205Z"
   },
   {
    "duration": 129,
    "start_time": "2024-03-11T19:50:32.206Z"
   },
   {
    "duration": 1098,
    "start_time": "2024-03-11T19:50:53.290Z"
   },
   {
    "duration": 1126,
    "start_time": "2024-03-11T19:50:58.193Z"
   },
   {
    "duration": 440,
    "start_time": "2024-03-11T19:51:24.837Z"
   },
   {
    "duration": 110,
    "start_time": "2024-03-11T19:53:51.768Z"
   },
   {
    "duration": 111,
    "start_time": "2024-03-11T19:54:04.588Z"
   },
   {
    "duration": 26,
    "start_time": "2024-03-11T20:03:40.972Z"
   },
   {
    "duration": 28,
    "start_time": "2024-03-11T20:03:57.445Z"
   },
   {
    "duration": 25,
    "start_time": "2024-03-11T20:04:02.248Z"
   },
   {
    "duration": 165,
    "start_time": "2024-03-11T20:04:09.991Z"
   },
   {
    "duration": 114,
    "start_time": "2024-03-11T20:04:31.832Z"
   },
   {
    "duration": 461,
    "start_time": "2024-03-11T20:06:59.004Z"
   },
   {
    "duration": 192,
    "start_time": "2024-03-11T20:07:06.104Z"
   },
   {
    "duration": 15,
    "start_time": "2024-03-11T20:08:11.813Z"
   },
   {
    "duration": 10,
    "start_time": "2024-03-11T20:10:10.739Z"
   },
   {
    "duration": 175,
    "start_time": "2024-03-11T20:10:48.403Z"
   },
   {
    "duration": 292,
    "start_time": "2024-03-11T20:15:09.617Z"
   },
   {
    "duration": 153,
    "start_time": "2024-03-11T20:16:44.988Z"
   },
   {
    "duration": 22,
    "start_time": "2024-03-11T20:17:01.675Z"
   },
   {
    "duration": 127,
    "start_time": "2024-03-11T20:17:27.622Z"
   },
   {
    "duration": 160,
    "start_time": "2024-03-11T20:17:49.407Z"
   },
   {
    "duration": 74,
    "start_time": "2024-03-11T20:18:22.586Z"
   },
   {
    "duration": 652,
    "start_time": "2024-03-11T20:21:00.589Z"
   },
   {
    "duration": 1675,
    "start_time": "2024-03-11T20:21:01.243Z"
   },
   {
    "duration": 20,
    "start_time": "2024-03-11T20:21:02.920Z"
   },
   {
    "duration": 83,
    "start_time": "2024-03-11T20:21:02.944Z"
   },
   {
    "duration": 27,
    "start_time": "2024-03-11T20:21:03.029Z"
   },
   {
    "duration": 201,
    "start_time": "2024-03-11T20:21:03.058Z"
   },
   {
    "duration": 164,
    "start_time": "2024-03-11T20:21:03.260Z"
   },
   {
    "duration": 152,
    "start_time": "2024-03-11T20:21:03.426Z"
   },
   {
    "duration": 179,
    "start_time": "2024-03-11T20:21:03.579Z"
   },
   {
    "duration": 131,
    "start_time": "2024-03-11T20:21:03.760Z"
   },
   {
    "duration": 195,
    "start_time": "2024-03-11T20:21:03.893Z"
   },
   {
    "duration": 107,
    "start_time": "2024-03-11T20:21:04.089Z"
   },
   {
    "duration": 155,
    "start_time": "2024-03-11T20:21:04.197Z"
   },
   {
    "duration": 175,
    "start_time": "2024-03-11T20:21:04.355Z"
   },
   {
    "duration": 15,
    "start_time": "2024-03-11T20:21:04.531Z"
   },
   {
    "duration": 175,
    "start_time": "2024-03-11T20:21:04.547Z"
   },
   {
    "duration": 5,
    "start_time": "2024-03-11T20:21:04.723Z"
   },
   {
    "duration": 190,
    "start_time": "2024-03-11T20:21:04.729Z"
   },
   {
    "duration": 5,
    "start_time": "2024-03-11T20:21:04.920Z"
   },
   {
    "duration": 26,
    "start_time": "2024-03-11T20:21:04.927Z"
   },
   {
    "duration": 156,
    "start_time": "2024-03-11T20:21:04.955Z"
   },
   {
    "duration": 145,
    "start_time": "2024-03-11T20:21:05.113Z"
   },
   {
    "duration": 134,
    "start_time": "2024-03-11T20:21:05.260Z"
   },
   {
    "duration": 134,
    "start_time": "2024-03-11T20:21:05.396Z"
   },
   {
    "duration": 165,
    "start_time": "2024-03-11T20:21:05.532Z"
   },
   {
    "duration": 20,
    "start_time": "2024-03-11T20:21:22.799Z"
   },
   {
    "duration": 333,
    "start_time": "2024-03-11T20:21:39.428Z"
   },
   {
    "duration": 296,
    "start_time": "2024-03-11T20:21:50.117Z"
   },
   {
    "duration": 166,
    "start_time": "2024-03-11T20:23:14.821Z"
   },
   {
    "duration": 295,
    "start_time": "2024-03-11T20:23:18.520Z"
   },
   {
    "duration": 165,
    "start_time": "2024-03-11T20:23:32.781Z"
   },
   {
    "duration": 280,
    "start_time": "2024-03-11T20:23:36.876Z"
   },
   {
    "duration": 9,
    "start_time": "2024-03-11T20:28:48.280Z"
   },
   {
    "duration": 1044,
    "start_time": "2024-03-11T20:28:57.791Z"
   },
   {
    "duration": 287,
    "start_time": "2024-03-11T20:30:40.660Z"
   },
   {
    "duration": 143,
    "start_time": "2024-03-11T20:31:21.947Z"
   },
   {
    "duration": 21,
    "start_time": "2024-03-11T20:31:54.410Z"
   },
   {
    "duration": 135,
    "start_time": "2024-03-11T20:32:13.455Z"
   },
   {
    "duration": 147,
    "start_time": "2024-03-11T20:32:19.046Z"
   },
   {
    "duration": 277,
    "start_time": "2024-03-11T20:33:02.178Z"
   },
   {
    "duration": 475,
    "start_time": "2024-03-11T20:33:45.416Z"
   },
   {
    "duration": 131,
    "start_time": "2024-03-11T20:57:40.784Z"
   },
   {
    "duration": 124,
    "start_time": "2024-03-11T20:57:44.013Z"
   },
   {
    "duration": 23,
    "start_time": "2024-03-11T20:57:49.846Z"
   },
   {
    "duration": 128,
    "start_time": "2024-03-11T20:57:53.896Z"
   },
   {
    "duration": 128,
    "start_time": "2024-03-11T20:57:57.876Z"
   },
   {
    "duration": 143,
    "start_time": "2024-03-11T20:58:06.444Z"
   },
   {
    "duration": 130,
    "start_time": "2024-03-11T20:58:19.215Z"
   },
   {
    "duration": 130,
    "start_time": "2024-03-11T20:58:31.874Z"
   },
   {
    "duration": 137,
    "start_time": "2024-03-11T20:58:36.874Z"
   },
   {
    "duration": 433,
    "start_time": "2024-03-11T20:58:59.325Z"
   },
   {
    "duration": 401,
    "start_time": "2024-03-11T20:59:07.729Z"
   },
   {
    "duration": 729,
    "start_time": "2024-03-11T21:00:13.156Z"
   },
   {
    "duration": 1768,
    "start_time": "2024-03-11T21:00:13.887Z"
   },
   {
    "duration": 20,
    "start_time": "2024-03-11T21:00:15.657Z"
   },
   {
    "duration": 90,
    "start_time": "2024-03-11T21:00:15.679Z"
   },
   {
    "duration": 21,
    "start_time": "2024-03-11T21:00:15.770Z"
   },
   {
    "duration": 224,
    "start_time": "2024-03-11T21:00:15.792Z"
   },
   {
    "duration": 183,
    "start_time": "2024-03-11T21:00:16.018Z"
   },
   {
    "duration": 161,
    "start_time": "2024-03-11T21:00:16.202Z"
   },
   {
    "duration": 183,
    "start_time": "2024-03-11T21:00:16.364Z"
   },
   {
    "duration": 141,
    "start_time": "2024-03-11T21:00:16.549Z"
   },
   {
    "duration": 201,
    "start_time": "2024-03-11T21:00:16.692Z"
   },
   {
    "duration": 110,
    "start_time": "2024-03-11T21:00:16.894Z"
   },
   {
    "duration": 150,
    "start_time": "2024-03-11T21:00:17.005Z"
   },
   {
    "duration": 210,
    "start_time": "2024-03-11T21:00:17.157Z"
   },
   {
    "duration": 6,
    "start_time": "2024-03-11T21:00:17.369Z"
   },
   {
    "duration": 224,
    "start_time": "2024-03-11T21:00:17.376Z"
   },
   {
    "duration": 5,
    "start_time": "2024-03-11T21:00:17.602Z"
   },
   {
    "duration": 224,
    "start_time": "2024-03-11T21:00:17.609Z"
   },
   {
    "duration": 11,
    "start_time": "2024-03-11T21:00:17.834Z"
   },
   {
    "duration": 28,
    "start_time": "2024-03-11T21:00:17.847Z"
   },
   {
    "duration": 157,
    "start_time": "2024-03-11T21:00:17.876Z"
   },
   {
    "duration": 147,
    "start_time": "2024-03-11T21:00:18.034Z"
   },
   {
    "duration": 146,
    "start_time": "2024-03-11T21:00:18.182Z"
   },
   {
    "duration": 312,
    "start_time": "2024-03-11T21:00:18.329Z"
   },
   {
    "duration": 501,
    "start_time": "2024-03-11T21:00:18.644Z"
   },
   {
    "duration": 395,
    "start_time": "2024-03-11T21:01:04.430Z"
   },
   {
    "duration": 400,
    "start_time": "2024-03-11T21:01:24.782Z"
   },
   {
    "duration": 398,
    "start_time": "2024-03-11T21:01:45.485Z"
   },
   {
    "duration": 424,
    "start_time": "2024-03-11T21:01:57.360Z"
   },
   {
    "duration": 471,
    "start_time": "2024-03-11T21:02:19.418Z"
   },
   {
    "duration": 420,
    "start_time": "2024-03-11T21:02:35.444Z"
   },
   {
    "duration": 48,
    "start_time": "2024-03-12T13:05:13.029Z"
   },
   {
    "duration": 980,
    "start_time": "2024-03-12T13:11:37.613Z"
   },
   {
    "duration": 1851,
    "start_time": "2024-03-12T13:11:38.595Z"
   },
   {
    "duration": 20,
    "start_time": "2024-03-12T13:11:40.447Z"
   },
   {
    "duration": 104,
    "start_time": "2024-03-12T13:11:40.469Z"
   },
   {
    "duration": 20,
    "start_time": "2024-03-12T13:11:40.575Z"
   },
   {
    "duration": 224,
    "start_time": "2024-03-12T13:11:40.597Z"
   },
   {
    "duration": 207,
    "start_time": "2024-03-12T13:11:40.823Z"
   },
   {
    "duration": 183,
    "start_time": "2024-03-12T13:11:41.031Z"
   },
   {
    "duration": 195,
    "start_time": "2024-03-12T13:11:41.216Z"
   },
   {
    "duration": 164,
    "start_time": "2024-03-12T13:11:41.413Z"
   },
   {
    "duration": 226,
    "start_time": "2024-03-12T13:11:41.579Z"
   },
   {
    "duration": 119,
    "start_time": "2024-03-12T13:11:41.807Z"
   },
   {
    "duration": 175,
    "start_time": "2024-03-12T13:11:41.928Z"
   },
   {
    "duration": 188,
    "start_time": "2024-03-12T13:11:42.105Z"
   },
   {
    "duration": 7,
    "start_time": "2024-03-12T13:11:42.294Z"
   },
   {
    "duration": 193,
    "start_time": "2024-03-12T13:11:42.302Z"
   },
   {
    "duration": 6,
    "start_time": "2024-03-12T13:11:42.496Z"
   },
   {
    "duration": 213,
    "start_time": "2024-03-12T13:11:42.503Z"
   },
   {
    "duration": 5,
    "start_time": "2024-03-12T13:11:42.718Z"
   },
   {
    "duration": 8,
    "start_time": "2024-03-12T13:11:42.724Z"
   },
   {
    "duration": 166,
    "start_time": "2024-03-12T13:11:42.734Z"
   },
   {
    "duration": 174,
    "start_time": "2024-03-12T13:11:42.902Z"
   },
   {
    "duration": 159,
    "start_time": "2024-03-12T13:11:43.078Z"
   },
   {
    "duration": 576,
    "start_time": "2024-03-12T13:11:43.238Z"
   },
   {
    "duration": 462,
    "start_time": "2024-03-12T13:11:43.815Z"
   },
   {
    "duration": 403,
    "start_time": "2024-03-12T13:12:52.872Z"
   },
   {
    "duration": 418,
    "start_time": "2024-03-12T13:13:10.244Z"
   },
   {
    "duration": 119,
    "start_time": "2024-03-12T13:14:23.708Z"
   },
   {
    "duration": 145,
    "start_time": "2024-03-12T13:15:09.586Z"
   },
   {
    "duration": 153,
    "start_time": "2024-03-12T13:15:37.377Z"
   },
   {
    "duration": 458,
    "start_time": "2024-03-12T13:17:01.616Z"
   },
   {
    "duration": 544,
    "start_time": "2024-03-12T13:18:36.867Z"
   },
   {
    "duration": 439,
    "start_time": "2024-03-12T13:18:50.330Z"
   },
   {
    "duration": 446,
    "start_time": "2024-03-12T13:19:09.342Z"
   },
   {
    "duration": 438,
    "start_time": "2024-03-12T13:19:28.290Z"
   },
   {
    "duration": 704,
    "start_time": "2024-03-12T13:19:38.293Z"
   },
   {
    "duration": 1896,
    "start_time": "2024-03-12T13:19:38.999Z"
   },
   {
    "duration": 20,
    "start_time": "2024-03-12T13:19:40.897Z"
   },
   {
    "duration": 87,
    "start_time": "2024-03-12T13:19:40.919Z"
   },
   {
    "duration": 20,
    "start_time": "2024-03-12T13:19:41.008Z"
   },
   {
    "duration": 227,
    "start_time": "2024-03-12T13:19:41.029Z"
   },
   {
    "duration": 179,
    "start_time": "2024-03-12T13:19:41.259Z"
   },
   {
    "duration": 175,
    "start_time": "2024-03-12T13:19:41.440Z"
   },
   {
    "duration": 196,
    "start_time": "2024-03-12T13:19:41.617Z"
   },
   {
    "duration": 157,
    "start_time": "2024-03-12T13:19:41.815Z"
   },
   {
    "duration": 227,
    "start_time": "2024-03-12T13:19:41.974Z"
   },
   {
    "duration": 131,
    "start_time": "2024-03-12T13:19:42.203Z"
   },
   {
    "duration": 162,
    "start_time": "2024-03-12T13:19:42.336Z"
   },
   {
    "duration": 191,
    "start_time": "2024-03-12T13:19:42.501Z"
   },
   {
    "duration": 8,
    "start_time": "2024-03-12T13:19:42.693Z"
   },
   {
    "duration": 209,
    "start_time": "2024-03-12T13:19:42.703Z"
   },
   {
    "duration": 6,
    "start_time": "2024-03-12T13:19:42.914Z"
   },
   {
    "duration": 237,
    "start_time": "2024-03-12T13:19:42.922Z"
   },
   {
    "duration": 5,
    "start_time": "2024-03-12T13:19:43.161Z"
   },
   {
    "duration": 5,
    "start_time": "2024-03-12T13:19:43.168Z"
   },
   {
    "duration": 162,
    "start_time": "2024-03-12T13:19:43.175Z"
   },
   {
    "duration": 162,
    "start_time": "2024-03-12T13:19:43.338Z"
   },
   {
    "duration": 145,
    "start_time": "2024-03-12T13:19:43.502Z"
   },
   {
    "duration": 112,
    "start_time": "2024-03-12T13:19:43.649Z"
   },
   {
    "duration": 546,
    "start_time": "2024-03-12T13:19:43.763Z"
   },
   {
    "duration": 157,
    "start_time": "2024-03-12T13:20:20.469Z"
   },
   {
    "duration": 146,
    "start_time": "2024-03-12T13:20:22.686Z"
   },
   {
    "duration": 154,
    "start_time": "2024-03-12T13:20:24.447Z"
   },
   {
    "duration": 150,
    "start_time": "2024-03-12T13:21:31.280Z"
   },
   {
    "duration": 148,
    "start_time": "2024-03-12T13:21:39.177Z"
   },
   {
    "duration": 145,
    "start_time": "2024-03-12T13:21:55.775Z"
   },
   {
    "duration": 148,
    "start_time": "2024-03-12T13:22:14.979Z"
   },
   {
    "duration": 146,
    "start_time": "2024-03-12T13:22:19.934Z"
   },
   {
    "duration": 143,
    "start_time": "2024-03-12T13:22:21.978Z"
   },
   {
    "duration": 132,
    "start_time": "2024-03-12T13:22:23.925Z"
   },
   {
    "duration": 149,
    "start_time": "2024-03-12T13:22:48.366Z"
   },
   {
    "duration": 241,
    "start_time": "2024-03-12T13:29:47.311Z"
   },
   {
    "duration": 140,
    "start_time": "2024-03-12T13:29:56.848Z"
   },
   {
    "duration": 138,
    "start_time": "2024-03-12T13:30:08.388Z"
   },
   {
    "duration": 127,
    "start_time": "2024-03-12T13:31:42.454Z"
   },
   {
    "duration": 146,
    "start_time": "2024-03-12T13:31:45.609Z"
   },
   {
    "duration": 128,
    "start_time": "2024-03-12T13:31:48.013Z"
   },
   {
    "duration": 101,
    "start_time": "2024-03-12T13:31:49.119Z"
   },
   {
    "duration": 141,
    "start_time": "2024-03-12T13:31:50.027Z"
   },
   {
    "duration": 158,
    "start_time": "2024-03-12T13:31:50.880Z"
   },
   {
    "duration": 134,
    "start_time": "2024-03-12T13:31:51.804Z"
   },
   {
    "duration": 16,
    "start_time": "2024-03-12T13:57:22.509Z"
   },
   {
    "duration": 6,
    "start_time": "2024-03-12T13:59:54.312Z"
   },
   {
    "duration": 9,
    "start_time": "2024-03-12T13:59:56.456Z"
   },
   {
    "duration": 6,
    "start_time": "2024-03-12T14:00:09.524Z"
   },
   {
    "duration": 7,
    "start_time": "2024-03-12T14:00:13.288Z"
   },
   {
    "duration": 11,
    "start_time": "2024-03-12T14:02:47.218Z"
   },
   {
    "duration": 39,
    "start_time": "2024-03-12T14:05:57.988Z"
   },
   {
    "duration": 106,
    "start_time": "2024-03-12T14:08:51.817Z"
   },
   {
    "duration": 102,
    "start_time": "2024-03-12T14:09:05.512Z"
   },
   {
    "duration": 28,
    "start_time": "2024-03-12T14:09:10.428Z"
   },
   {
    "duration": 32,
    "start_time": "2024-03-12T14:09:17.420Z"
   },
   {
    "duration": 35,
    "start_time": "2024-03-12T14:11:59.960Z"
   },
   {
    "duration": 33,
    "start_time": "2024-03-12T14:12:08.576Z"
   },
   {
    "duration": 99,
    "start_time": "2024-03-12T14:12:48.248Z"
   },
   {
    "duration": 30,
    "start_time": "2024-03-12T14:12:58.729Z"
   },
   {
    "duration": 32,
    "start_time": "2024-03-12T14:13:11.832Z"
   },
   {
    "duration": 31,
    "start_time": "2024-03-12T14:13:16.625Z"
   },
   {
    "duration": 30,
    "start_time": "2024-03-12T14:13:27.213Z"
   },
   {
    "duration": 30,
    "start_time": "2024-03-12T14:13:57.278Z"
   },
   {
    "duration": 27,
    "start_time": "2024-03-12T14:14:18.213Z"
   },
   {
    "duration": 27,
    "start_time": "2024-03-12T14:14:31.885Z"
   },
   {
    "duration": 28,
    "start_time": "2024-03-12T14:14:55.886Z"
   },
   {
    "duration": 115,
    "start_time": "2024-03-12T14:14:59.962Z"
   },
   {
    "duration": 29,
    "start_time": "2024-03-12T14:15:16.923Z"
   },
   {
    "duration": 36,
    "start_time": "2024-03-12T14:49:24.666Z"
   },
   {
    "duration": 113,
    "start_time": "2024-03-12T14:49:34.360Z"
   },
   {
    "duration": 30,
    "start_time": "2024-03-12T14:49:44.160Z"
   },
   {
    "duration": 30,
    "start_time": "2024-03-12T14:51:40.378Z"
   },
   {
    "duration": 21,
    "start_time": "2024-03-12T14:53:43.126Z"
   },
   {
    "duration": 31,
    "start_time": "2024-03-12T14:53:56.776Z"
   },
   {
    "duration": 43,
    "start_time": "2024-03-12T14:57:13.629Z"
   },
   {
    "duration": 54,
    "start_time": "2024-03-12T14:57:58.646Z"
   },
   {
    "duration": 100,
    "start_time": "2024-03-12T14:59:23.298Z"
   },
   {
    "duration": 102,
    "start_time": "2024-03-12T14:59:34.975Z"
   },
   {
    "duration": 103,
    "start_time": "2024-03-12T14:59:52.844Z"
   },
   {
    "duration": 42,
    "start_time": "2024-03-12T15:01:24.514Z"
   },
   {
    "duration": 43,
    "start_time": "2024-03-12T15:01:32.136Z"
   },
   {
    "duration": 42,
    "start_time": "2024-03-12T15:01:45.051Z"
   },
   {
    "duration": 38,
    "start_time": "2024-03-12T15:02:06.818Z"
   },
   {
    "duration": 45,
    "start_time": "2024-03-12T15:02:08.485Z"
   },
   {
    "duration": 42,
    "start_time": "2024-03-12T15:02:30.238Z"
   },
   {
    "duration": 43,
    "start_time": "2024-03-12T15:02:43.593Z"
   },
   {
    "duration": 37,
    "start_time": "2024-03-12T15:05:07.276Z"
   },
   {
    "duration": 29,
    "start_time": "2024-03-12T15:05:33.423Z"
   },
   {
    "duration": 33,
    "start_time": "2024-03-12T15:05:52.709Z"
   },
   {
    "duration": 31,
    "start_time": "2024-03-12T15:08:09.634Z"
   },
   {
    "duration": 42,
    "start_time": "2024-03-12T15:08:33.298Z"
   },
   {
    "duration": 1535,
    "start_time": "2024-03-12T15:08:59.234Z"
   },
   {
    "duration": 1605,
    "start_time": "2024-03-12T15:09:21.665Z"
   },
   {
    "duration": 1551,
    "start_time": "2024-03-12T15:09:42.816Z"
   },
   {
    "duration": 1642,
    "start_time": "2024-03-12T15:10:26.526Z"
   },
   {
    "duration": 1723,
    "start_time": "2024-03-12T15:11:39.126Z"
   },
   {
    "duration": 35,
    "start_time": "2024-03-12T15:11:51.587Z"
   },
   {
    "duration": 28,
    "start_time": "2024-03-12T15:12:12.107Z"
   },
   {
    "duration": 31,
    "start_time": "2024-03-12T15:12:35.141Z"
   },
   {
    "duration": 31,
    "start_time": "2024-03-12T15:13:12.215Z"
   },
   {
    "duration": 1682,
    "start_time": "2024-03-12T15:13:33.229Z"
   },
   {
    "duration": 30,
    "start_time": "2024-03-12T15:13:52.990Z"
   },
   {
    "duration": 35,
    "start_time": "2024-03-12T15:14:27.647Z"
   },
   {
    "duration": 30,
    "start_time": "2024-03-12T15:14:55.276Z"
   },
   {
    "duration": 33,
    "start_time": "2024-03-12T15:15:11.468Z"
   },
   {
    "duration": 29,
    "start_time": "2024-03-12T15:15:23.412Z"
   },
   {
    "duration": 32,
    "start_time": "2024-03-12T15:15:42.933Z"
   },
   {
    "duration": 1595,
    "start_time": "2024-03-12T15:17:46.041Z"
   },
   {
    "duration": 39,
    "start_time": "2024-03-12T15:17:58.617Z"
   },
   {
    "duration": 22,
    "start_time": "2024-03-12T15:19:09.254Z"
   },
   {
    "duration": 15,
    "start_time": "2024-03-12T15:19:38.084Z"
   },
   {
    "duration": 11,
    "start_time": "2024-03-12T15:20:51.561Z"
   },
   {
    "duration": 15,
    "start_time": "2024-03-12T15:21:42.156Z"
   },
   {
    "duration": 14,
    "start_time": "2024-03-12T15:21:54.184Z"
   },
   {
    "duration": 21,
    "start_time": "2024-03-12T15:22:24.534Z"
   },
   {
    "duration": 785,
    "start_time": "2024-03-12T15:26:39.731Z"
   },
   {
    "duration": 1594,
    "start_time": "2024-03-12T15:28:25.252Z"
   },
   {
    "duration": 139,
    "start_time": "2024-03-12T15:28:35.523Z"
   },
   {
    "duration": 187,
    "start_time": "2024-03-12T15:29:05.905Z"
   },
   {
    "duration": 106,
    "start_time": "2024-03-12T15:29:54.069Z"
   },
   {
    "duration": 283,
    "start_time": "2024-03-12T15:30:31.453Z"
   },
   {
    "duration": 179,
    "start_time": "2024-03-12T15:30:47.950Z"
   },
   {
    "duration": 209,
    "start_time": "2024-03-12T15:31:21.351Z"
   },
   {
    "duration": 181,
    "start_time": "2024-03-12T15:31:37.914Z"
   },
   {
    "duration": 8,
    "start_time": "2024-03-12T15:32:15.274Z"
   },
   {
    "duration": 139,
    "start_time": "2024-03-12T15:43:28.665Z"
   },
   {
    "duration": 247,
    "start_time": "2024-03-12T15:43:42.769Z"
   },
   {
    "duration": 197,
    "start_time": "2024-03-12T15:46:40.788Z"
   },
   {
    "duration": 103,
    "start_time": "2024-03-12T15:46:53.220Z"
   },
   {
    "duration": 102,
    "start_time": "2024-03-12T15:46:59.152Z"
   },
   {
    "duration": 183,
    "start_time": "2024-03-12T15:47:05.839Z"
   },
   {
    "duration": 203,
    "start_time": "2024-03-12T15:53:17.604Z"
   },
   {
    "duration": 194,
    "start_time": "2024-03-12T15:53:23.971Z"
   },
   {
    "duration": 166,
    "start_time": "2024-03-12T15:53:27.942Z"
   },
   {
    "duration": 211,
    "start_time": "2024-03-12T15:53:35.850Z"
   },
   {
    "duration": 15,
    "start_time": "2024-03-12T15:56:55.592Z"
   },
   {
    "duration": 112,
    "start_time": "2024-03-12T15:57:01.996Z"
   },
   {
    "duration": 102,
    "start_time": "2024-03-12T15:58:17.024Z"
   },
   {
    "duration": 200,
    "start_time": "2024-03-12T15:58:37.767Z"
   },
   {
    "duration": 219,
    "start_time": "2024-03-12T15:59:10.855Z"
   },
   {
    "duration": 121,
    "start_time": "2024-03-12T15:59:46.619Z"
   },
   {
    "duration": 109,
    "start_time": "2024-03-12T16:00:04.298Z"
   },
   {
    "duration": 101,
    "start_time": "2024-03-12T16:00:06.492Z"
   },
   {
    "duration": 94,
    "start_time": "2024-03-12T16:00:24.663Z"
   },
   {
    "duration": 95,
    "start_time": "2024-03-12T16:00:28.869Z"
   },
   {
    "duration": 246,
    "start_time": "2024-03-12T16:00:38.663Z"
   },
   {
    "duration": 23,
    "start_time": "2024-03-12T16:03:11.129Z"
   },
   {
    "duration": 22,
    "start_time": "2024-03-12T16:03:22.062Z"
   },
   {
    "duration": 15,
    "start_time": "2024-03-12T16:04:32.673Z"
   },
   {
    "duration": 20,
    "start_time": "2024-03-12T16:07:52.611Z"
   },
   {
    "duration": 258,
    "start_time": "2024-03-12T16:08:34.293Z"
   },
   {
    "duration": 175,
    "start_time": "2024-03-12T16:09:31.406Z"
   },
   {
    "duration": 165,
    "start_time": "2024-03-12T16:09:37.481Z"
   },
   {
    "duration": 138,
    "start_time": "2024-03-12T16:11:06.319Z"
   },
   {
    "duration": 148,
    "start_time": "2024-03-12T16:11:40.177Z"
   },
   {
    "duration": 124,
    "start_time": "2024-03-12T16:12:15.923Z"
   },
   {
    "duration": 265,
    "start_time": "2024-03-12T16:13:43.637Z"
   },
   {
    "duration": 697,
    "start_time": "2024-03-12T16:15:28.703Z"
   },
   {
    "duration": 1905,
    "start_time": "2024-03-12T16:15:29.402Z"
   },
   {
    "duration": 20,
    "start_time": "2024-03-12T16:15:31.309Z"
   },
   {
    "duration": 93,
    "start_time": "2024-03-12T16:15:31.330Z"
   },
   {
    "duration": 22,
    "start_time": "2024-03-12T16:15:31.425Z"
   },
   {
    "duration": 227,
    "start_time": "2024-03-12T16:15:31.449Z"
   },
   {
    "duration": 177,
    "start_time": "2024-03-12T16:15:31.678Z"
   },
   {
    "duration": 172,
    "start_time": "2024-03-12T16:15:31.858Z"
   },
   {
    "duration": 206,
    "start_time": "2024-03-12T16:15:32.031Z"
   },
   {
    "duration": 163,
    "start_time": "2024-03-12T16:15:32.239Z"
   },
   {
    "duration": 231,
    "start_time": "2024-03-12T16:15:32.404Z"
   },
   {
    "duration": 111,
    "start_time": "2024-03-12T16:15:32.636Z"
   },
   {
    "duration": 167,
    "start_time": "2024-03-12T16:15:32.749Z"
   },
   {
    "duration": 200,
    "start_time": "2024-03-12T16:15:32.920Z"
   },
   {
    "duration": 8,
    "start_time": "2024-03-12T16:15:33.122Z"
   },
   {
    "duration": 203,
    "start_time": "2024-03-12T16:15:33.132Z"
   },
   {
    "duration": 8,
    "start_time": "2024-03-12T16:15:33.337Z"
   },
   {
    "duration": 230,
    "start_time": "2024-03-12T16:15:33.359Z"
   },
   {
    "duration": 5,
    "start_time": "2024-03-12T16:15:33.591Z"
   },
   {
    "duration": 6,
    "start_time": "2024-03-12T16:15:33.597Z"
   },
   {
    "duration": 157,
    "start_time": "2024-03-12T16:15:33.604Z"
   },
   {
    "duration": 151,
    "start_time": "2024-03-12T16:15:33.763Z"
   },
   {
    "duration": 133,
    "start_time": "2024-03-12T16:15:33.915Z"
   },
   {
    "duration": 110,
    "start_time": "2024-03-12T16:15:34.050Z"
   },
   {
    "duration": 226,
    "start_time": "2024-03-12T16:15:34.161Z"
   },
   {
    "duration": 153,
    "start_time": "2024-03-12T16:15:34.388Z"
   },
   {
    "duration": 145,
    "start_time": "2024-03-12T16:15:34.543Z"
   },
   {
    "duration": 23,
    "start_time": "2024-03-12T16:15:34.689Z"
   },
   {
    "duration": 237,
    "start_time": "2024-03-12T16:15:34.713Z"
   },
   {
    "duration": 266,
    "start_time": "2024-03-12T16:15:34.951Z"
   },
   {
    "duration": 358,
    "start_time": "2024-03-12T16:16:20.713Z"
   },
   {
    "duration": 261,
    "start_time": "2024-03-12T16:16:47.530Z"
   },
   {
    "duration": 271,
    "start_time": "2024-03-12T16:19:04.338Z"
   },
   {
    "duration": 3,
    "start_time": "2024-03-12T16:28:48.386Z"
   },
   {
    "duration": 22,
    "start_time": "2024-03-12T16:29:26.644Z"
   },
   {
    "duration": 18,
    "start_time": "2024-03-12T16:30:16.186Z"
   },
   {
    "duration": 1560,
    "start_time": "2024-03-12T16:34:12.657Z"
   },
   {
    "duration": 17,
    "start_time": "2024-03-12T16:36:12.450Z"
   },
   {
    "duration": 4,
    "start_time": "2024-03-12T16:37:35.401Z"
   },
   {
    "duration": 99,
    "start_time": "2024-03-12T16:37:49.524Z"
   },
   {
    "duration": 7,
    "start_time": "2024-03-12T16:37:59.744Z"
   },
   {
    "duration": 6,
    "start_time": "2024-03-12T16:38:22.050Z"
   },
   {
    "duration": 7,
    "start_time": "2024-03-12T16:38:34.485Z"
   },
   {
    "duration": 7,
    "start_time": "2024-03-12T16:39:22.847Z"
   },
   {
    "duration": 9,
    "start_time": "2024-03-12T16:39:33.210Z"
   },
   {
    "duration": 13,
    "start_time": "2024-03-12T16:39:44.285Z"
   },
   {
    "duration": 19,
    "start_time": "2024-03-12T16:39:54.567Z"
   },
   {
    "duration": 17,
    "start_time": "2024-03-12T16:40:39.402Z"
   },
   {
    "duration": 14,
    "start_time": "2024-03-12T16:40:42.712Z"
   },
   {
    "duration": 11,
    "start_time": "2024-03-12T16:40:54.432Z"
   },
   {
    "duration": 261,
    "start_time": "2024-03-12T16:45:07.923Z"
   },
   {
    "duration": 20,
    "start_time": "2024-03-12T16:46:09.683Z"
   },
   {
    "duration": 17,
    "start_time": "2024-03-12T16:47:57.352Z"
   },
   {
    "duration": 193,
    "start_time": "2024-03-12T16:48:31.126Z"
   },
   {
    "duration": 175,
    "start_time": "2024-03-12T16:48:55.369Z"
   },
   {
    "duration": 145,
    "start_time": "2024-03-12T16:50:18.784Z"
   },
   {
    "duration": 5,
    "start_time": "2024-03-12T16:51:16.697Z"
   },
   {
    "duration": 157,
    "start_time": "2024-03-12T16:51:34.752Z"
   },
   {
    "duration": 160,
    "start_time": "2024-03-12T16:51:52.620Z"
   },
   {
    "duration": 146,
    "start_time": "2024-03-12T16:51:56.168Z"
   },
   {
    "duration": 710,
    "start_time": "2024-03-12T16:52:35.103Z"
   },
   {
    "duration": 1921,
    "start_time": "2024-03-12T16:52:35.814Z"
   },
   {
    "duration": 21,
    "start_time": "2024-03-12T16:52:37.737Z"
   },
   {
    "duration": 87,
    "start_time": "2024-03-12T16:52:37.761Z"
   },
   {
    "duration": 19,
    "start_time": "2024-03-12T16:52:37.858Z"
   },
   {
    "duration": 223,
    "start_time": "2024-03-12T16:52:37.879Z"
   },
   {
    "duration": 181,
    "start_time": "2024-03-12T16:52:38.103Z"
   },
   {
    "duration": 168,
    "start_time": "2024-03-12T16:52:38.286Z"
   },
   {
    "duration": 207,
    "start_time": "2024-03-12T16:52:38.455Z"
   },
   {
    "duration": 163,
    "start_time": "2024-03-12T16:52:38.665Z"
   },
   {
    "duration": 214,
    "start_time": "2024-03-12T16:52:38.830Z"
   },
   {
    "duration": 122,
    "start_time": "2024-03-12T16:52:39.045Z"
   },
   {
    "duration": 159,
    "start_time": "2024-03-12T16:52:39.169Z"
   },
   {
    "duration": 202,
    "start_time": "2024-03-12T16:52:39.330Z"
   },
   {
    "duration": 7,
    "start_time": "2024-03-12T16:52:39.533Z"
   },
   {
    "duration": 200,
    "start_time": "2024-03-12T16:52:39.542Z"
   },
   {
    "duration": 21,
    "start_time": "2024-03-12T16:52:39.744Z"
   },
   {
    "duration": 262,
    "start_time": "2024-03-12T16:52:39.766Z"
   },
   {
    "duration": 6,
    "start_time": "2024-03-12T16:52:40.030Z"
   },
   {
    "duration": 24,
    "start_time": "2024-03-12T16:52:40.037Z"
   },
   {
    "duration": 168,
    "start_time": "2024-03-12T16:52:40.063Z"
   },
   {
    "duration": 167,
    "start_time": "2024-03-12T16:52:40.232Z"
   },
   {
    "duration": 143,
    "start_time": "2024-03-12T16:52:40.401Z"
   },
   {
    "duration": 108,
    "start_time": "2024-03-12T16:52:40.546Z"
   },
   {
    "duration": 247,
    "start_time": "2024-03-12T16:52:40.658Z"
   },
   {
    "duration": 159,
    "start_time": "2024-03-12T16:52:40.906Z"
   },
   {
    "duration": 165,
    "start_time": "2024-03-12T16:52:41.067Z"
   },
   {
    "duration": 40,
    "start_time": "2024-03-12T16:52:41.236Z"
   },
   {
    "duration": 241,
    "start_time": "2024-03-12T16:52:41.278Z"
   },
   {
    "duration": 154,
    "start_time": "2024-03-12T16:52:41.521Z"
   },
   {
    "duration": 4,
    "start_time": "2024-03-12T16:52:41.677Z"
   },
   {
    "duration": 734,
    "start_time": "2024-03-12T16:53:18.375Z"
   },
   {
    "duration": 1882,
    "start_time": "2024-03-12T16:53:19.110Z"
   },
   {
    "duration": 20,
    "start_time": "2024-03-12T16:53:20.993Z"
   },
   {
    "duration": 84,
    "start_time": "2024-03-12T16:53:21.015Z"
   },
   {
    "duration": 20,
    "start_time": "2024-03-12T16:53:21.100Z"
   },
   {
    "duration": 217,
    "start_time": "2024-03-12T16:53:21.122Z"
   },
   {
    "duration": 180,
    "start_time": "2024-03-12T16:53:21.341Z"
   },
   {
    "duration": 157,
    "start_time": "2024-03-12T16:53:21.523Z"
   },
   {
    "duration": 194,
    "start_time": "2024-03-12T16:53:21.682Z"
   },
   {
    "duration": 169,
    "start_time": "2024-03-12T16:53:21.879Z"
   },
   {
    "duration": 224,
    "start_time": "2024-03-12T16:53:22.050Z"
   },
   {
    "duration": 115,
    "start_time": "2024-03-12T16:53:22.275Z"
   },
   {
    "duration": 157,
    "start_time": "2024-03-12T16:53:22.392Z"
   },
   {
    "duration": 181,
    "start_time": "2024-03-12T16:53:22.550Z"
   },
   {
    "duration": 7,
    "start_time": "2024-03-12T16:53:22.733Z"
   },
   {
    "duration": 205,
    "start_time": "2024-03-12T16:53:22.742Z"
   },
   {
    "duration": 14,
    "start_time": "2024-03-12T16:53:22.948Z"
   },
   {
    "duration": 209,
    "start_time": "2024-03-12T16:53:22.964Z"
   },
   {
    "duration": 7,
    "start_time": "2024-03-12T16:53:23.175Z"
   },
   {
    "duration": 8,
    "start_time": "2024-03-12T16:53:23.183Z"
   },
   {
    "duration": 160,
    "start_time": "2024-03-12T16:53:23.192Z"
   },
   {
    "duration": 155,
    "start_time": "2024-03-12T16:53:23.359Z"
   },
   {
    "duration": 126,
    "start_time": "2024-03-12T16:53:23.515Z"
   },
   {
    "duration": 109,
    "start_time": "2024-03-12T16:53:23.643Z"
   },
   {
    "duration": 236,
    "start_time": "2024-03-12T16:53:23.759Z"
   },
   {
    "duration": 149,
    "start_time": "2024-03-12T16:53:23.996Z"
   },
   {
    "duration": 157,
    "start_time": "2024-03-12T16:53:24.146Z"
   },
   {
    "duration": 22,
    "start_time": "2024-03-12T16:53:24.306Z"
   },
   {
    "duration": 246,
    "start_time": "2024-03-12T16:53:24.329Z"
   },
   {
    "duration": 157,
    "start_time": "2024-03-12T16:53:24.577Z"
   },
   {
    "duration": 5,
    "start_time": "2024-03-12T16:53:24.735Z"
   },
   {
    "duration": 137,
    "start_time": "2024-03-12T16:54:09.625Z"
   },
   {
    "duration": 21,
    "start_time": "2024-03-12T16:54:28.228Z"
   },
   {
    "duration": 135,
    "start_time": "2024-03-12T16:54:33.707Z"
   },
   {
    "duration": 82,
    "start_time": "2024-03-12T16:57:33.432Z"
   },
   {
    "duration": 14,
    "start_time": "2024-03-12T16:57:42.220Z"
   },
   {
    "duration": 15,
    "start_time": "2024-03-12T16:57:49.902Z"
   },
   {
    "duration": 140,
    "start_time": "2024-03-12T16:57:57.254Z"
   },
   {
    "duration": 302,
    "start_time": "2024-03-12T16:58:22.176Z"
   },
   {
    "duration": 7,
    "start_time": "2024-03-12T16:59:08.963Z"
   },
   {
    "duration": 8,
    "start_time": "2024-03-12T17:00:26.225Z"
   },
   {
    "duration": 760,
    "start_time": "2024-03-12T17:01:30.079Z"
   },
   {
    "duration": 1929,
    "start_time": "2024-03-12T17:01:30.842Z"
   },
   {
    "duration": 22,
    "start_time": "2024-03-12T17:01:32.773Z"
   },
   {
    "duration": 117,
    "start_time": "2024-03-12T17:01:32.797Z"
   },
   {
    "duration": 20,
    "start_time": "2024-03-12T17:01:32.917Z"
   },
   {
    "duration": 233,
    "start_time": "2024-03-12T17:01:32.939Z"
   },
   {
    "duration": 180,
    "start_time": "2024-03-12T17:01:33.174Z"
   },
   {
    "duration": 160,
    "start_time": "2024-03-12T17:01:33.355Z"
   },
   {
    "duration": 195,
    "start_time": "2024-03-12T17:01:33.516Z"
   },
   {
    "duration": 148,
    "start_time": "2024-03-12T17:01:33.712Z"
   },
   {
    "duration": 225,
    "start_time": "2024-03-12T17:01:33.862Z"
   },
   {
    "duration": 135,
    "start_time": "2024-03-12T17:01:34.088Z"
   },
   {
    "duration": 160,
    "start_time": "2024-03-12T17:01:34.225Z"
   },
   {
    "duration": 191,
    "start_time": "2024-03-12T17:01:34.388Z"
   },
   {
    "duration": 6,
    "start_time": "2024-03-12T17:01:34.580Z"
   },
   {
    "duration": 195,
    "start_time": "2024-03-12T17:01:34.588Z"
   },
   {
    "duration": 6,
    "start_time": "2024-03-12T17:01:34.785Z"
   },
   {
    "duration": 215,
    "start_time": "2024-03-12T17:01:34.792Z"
   },
   {
    "duration": 5,
    "start_time": "2024-03-12T17:01:35.009Z"
   },
   {
    "duration": 18,
    "start_time": "2024-03-12T17:01:35.015Z"
   },
   {
    "duration": 147,
    "start_time": "2024-03-12T17:01:35.034Z"
   },
   {
    "duration": 178,
    "start_time": "2024-03-12T17:01:35.182Z"
   },
   {
    "duration": 148,
    "start_time": "2024-03-12T17:01:35.362Z"
   },
   {
    "duration": 120,
    "start_time": "2024-03-12T17:01:35.512Z"
   },
   {
    "duration": 243,
    "start_time": "2024-03-12T17:01:35.634Z"
   },
   {
    "duration": 155,
    "start_time": "2024-03-12T17:01:35.878Z"
   },
   {
    "duration": 147,
    "start_time": "2024-03-12T17:01:36.034Z"
   },
   {
    "duration": 22,
    "start_time": "2024-03-12T17:01:36.183Z"
   },
   {
    "duration": 253,
    "start_time": "2024-03-12T17:01:36.206Z"
   },
   {
    "duration": 306,
    "start_time": "2024-03-12T17:01:36.460Z"
   },
   {
    "duration": 6,
    "start_time": "2024-03-12T17:01:36.768Z"
   },
   {
    "duration": 7,
    "start_time": "2024-03-12T17:02:33.289Z"
   },
   {
    "duration": 280,
    "start_time": "2024-03-12T17:02:35.618Z"
   },
   {
    "duration": 312,
    "start_time": "2024-03-12T17:03:36.802Z"
   },
   {
    "duration": 295,
    "start_time": "2024-03-12T17:04:35.940Z"
   },
   {
    "duration": 378,
    "start_time": "2024-03-12T17:04:56.321Z"
   },
   {
    "duration": 295,
    "start_time": "2024-03-12T17:05:25.143Z"
   },
   {
    "duration": 206,
    "start_time": "2024-03-12T17:05:38.790Z"
   },
   {
    "duration": 130,
    "start_time": "2024-03-12T17:05:46.951Z"
   },
   {
    "duration": 134,
    "start_time": "2024-03-12T17:05:53.280Z"
   },
   {
    "duration": 136,
    "start_time": "2024-03-12T17:05:56.979Z"
   },
   {
    "duration": 104,
    "start_time": "2024-03-12T17:06:11.296Z"
   },
   {
    "duration": 6,
    "start_time": "2024-03-12T17:06:52.781Z"
   },
   {
    "duration": 19,
    "start_time": "2024-03-12T17:12:07.547Z"
   },
   {
    "duration": 103,
    "start_time": "2024-03-12T17:12:14.738Z"
   },
   {
    "duration": 683,
    "start_time": "2024-03-12T17:12:22.706Z"
   },
   {
    "duration": 1856,
    "start_time": "2024-03-12T17:12:23.391Z"
   },
   {
    "duration": 20,
    "start_time": "2024-03-12T17:12:25.249Z"
   },
   {
    "duration": 146,
    "start_time": "2024-03-12T17:12:25.270Z"
   },
   {
    "duration": 20,
    "start_time": "2024-03-12T17:12:25.418Z"
   },
   {
    "duration": 227,
    "start_time": "2024-03-12T17:12:25.440Z"
   },
   {
    "duration": 185,
    "start_time": "2024-03-12T17:12:25.668Z"
   },
   {
    "duration": 170,
    "start_time": "2024-03-12T17:12:25.858Z"
   },
   {
    "duration": 186,
    "start_time": "2024-03-12T17:12:26.029Z"
   },
   {
    "duration": 145,
    "start_time": "2024-03-12T17:12:26.217Z"
   },
   {
    "duration": 222,
    "start_time": "2024-03-12T17:12:26.364Z"
   },
   {
    "duration": 115,
    "start_time": "2024-03-12T17:12:26.588Z"
   },
   {
    "duration": 159,
    "start_time": "2024-03-12T17:12:26.705Z"
   },
   {
    "duration": 193,
    "start_time": "2024-03-12T17:12:26.866Z"
   },
   {
    "duration": 6,
    "start_time": "2024-03-12T17:12:27.061Z"
   },
   {
    "duration": 187,
    "start_time": "2024-03-12T17:12:27.068Z"
   },
   {
    "duration": 6,
    "start_time": "2024-03-12T17:12:27.257Z"
   },
   {
    "duration": 217,
    "start_time": "2024-03-12T17:12:27.264Z"
   },
   {
    "duration": 6,
    "start_time": "2024-03-12T17:12:27.483Z"
   },
   {
    "duration": 18,
    "start_time": "2024-03-12T17:12:27.490Z"
   },
   {
    "duration": 165,
    "start_time": "2024-03-12T17:12:27.509Z"
   },
   {
    "duration": 156,
    "start_time": "2024-03-12T17:12:27.676Z"
   },
   {
    "duration": 141,
    "start_time": "2024-03-12T17:12:27.834Z"
   },
   {
    "duration": 114,
    "start_time": "2024-03-12T17:12:27.976Z"
   },
   {
    "duration": 252,
    "start_time": "2024-03-12T17:12:28.092Z"
   },
   {
    "duration": 153,
    "start_time": "2024-03-12T17:12:28.346Z"
   },
   {
    "duration": 146,
    "start_time": "2024-03-12T17:12:28.500Z"
   },
   {
    "duration": 26,
    "start_time": "2024-03-12T17:12:28.650Z"
   },
   {
    "duration": 237,
    "start_time": "2024-03-12T17:12:28.678Z"
   },
   {
    "duration": 307,
    "start_time": "2024-03-12T17:12:28.917Z"
   },
   {
    "duration": 7,
    "start_time": "2024-03-12T17:12:29.225Z"
   },
   {
    "duration": 7,
    "start_time": "2024-03-12T17:13:21.809Z"
   },
   {
    "duration": 1678,
    "start_time": "2024-03-12T17:15:07.060Z"
   },
   {
    "duration": 20,
    "start_time": "2024-03-12T17:17:14.740Z"
   },
   {
    "duration": 21,
    "start_time": "2024-03-12T17:17:25.380Z"
   },
   {
    "duration": 121,
    "start_time": "2024-03-12T17:37:14.218Z"
   },
   {
    "duration": 151,
    "start_time": "2024-03-12T17:38:04.477Z"
   },
   {
    "duration": 23,
    "start_time": "2024-03-12T18:08:48.948Z"
   },
   {
    "duration": 768,
    "start_time": "2024-03-12T18:27:52.834Z"
   },
   {
    "duration": 1799,
    "start_time": "2024-03-12T18:27:53.604Z"
   },
   {
    "duration": 20,
    "start_time": "2024-03-12T18:27:55.404Z"
   },
   {
    "duration": 91,
    "start_time": "2024-03-12T18:27:55.425Z"
   },
   {
    "duration": 22,
    "start_time": "2024-03-12T18:27:55.517Z"
   },
   {
    "duration": 231,
    "start_time": "2024-03-12T18:27:55.540Z"
   },
   {
    "duration": 184,
    "start_time": "2024-03-12T18:27:55.772Z"
   },
   {
    "duration": 163,
    "start_time": "2024-03-12T18:27:55.959Z"
   },
   {
    "duration": 184,
    "start_time": "2024-03-12T18:27:56.124Z"
   },
   {
    "duration": 151,
    "start_time": "2024-03-12T18:27:56.310Z"
   },
   {
    "duration": 216,
    "start_time": "2024-03-12T18:27:56.463Z"
   },
   {
    "duration": 119,
    "start_time": "2024-03-12T18:27:56.681Z"
   },
   {
    "duration": 162,
    "start_time": "2024-03-12T18:27:56.802Z"
   },
   {
    "duration": 204,
    "start_time": "2024-03-12T18:27:56.967Z"
   },
   {
    "duration": 6,
    "start_time": "2024-03-12T18:27:57.173Z"
   },
   {
    "duration": 198,
    "start_time": "2024-03-12T18:27:57.181Z"
   },
   {
    "duration": 7,
    "start_time": "2024-03-12T18:27:57.381Z"
   },
   {
    "duration": 219,
    "start_time": "2024-03-12T18:27:57.389Z"
   },
   {
    "duration": 6,
    "start_time": "2024-03-12T18:27:57.609Z"
   },
   {
    "duration": 11,
    "start_time": "2024-03-12T18:27:57.617Z"
   },
   {
    "duration": 143,
    "start_time": "2024-03-12T18:27:57.629Z"
   },
   {
    "duration": 149,
    "start_time": "2024-03-12T18:27:57.773Z"
   },
   {
    "duration": 135,
    "start_time": "2024-03-12T18:27:57.924Z"
   },
   {
    "duration": 105,
    "start_time": "2024-03-12T18:27:58.060Z"
   },
   {
    "duration": 239,
    "start_time": "2024-03-12T18:27:58.167Z"
   },
   {
    "duration": 145,
    "start_time": "2024-03-12T18:27:58.407Z"
   },
   {
    "duration": 142,
    "start_time": "2024-03-12T18:27:58.558Z"
   },
   {
    "duration": 22,
    "start_time": "2024-03-12T18:27:58.702Z"
   },
   {
    "duration": 232,
    "start_time": "2024-03-12T18:27:58.726Z"
   },
   {
    "duration": 284,
    "start_time": "2024-03-12T18:27:58.960Z"
   },
   {
    "duration": 12,
    "start_time": "2024-03-12T18:27:59.246Z"
   },
   {
    "duration": 292,
    "start_time": "2024-03-12T18:28:12.029Z"
   },
   {
    "duration": 13,
    "start_time": "2024-03-12T18:58:38.672Z"
   },
   {
    "duration": 241,
    "start_time": "2024-03-12T19:14:56.551Z"
   },
   {
    "duration": 144,
    "start_time": "2024-03-12T19:15:03.615Z"
   },
   {
    "duration": 139,
    "start_time": "2024-03-12T19:15:24.433Z"
   },
   {
    "duration": 114,
    "start_time": "2024-03-12T19:27:21.395Z"
   },
   {
    "duration": 749,
    "start_time": "2024-03-12T19:27:28.828Z"
   },
   {
    "duration": 1956,
    "start_time": "2024-03-12T19:27:29.579Z"
   },
   {
    "duration": 21,
    "start_time": "2024-03-12T19:27:31.537Z"
   },
   {
    "duration": 109,
    "start_time": "2024-03-12T19:27:31.560Z"
   },
   {
    "duration": 22,
    "start_time": "2024-03-12T19:27:31.670Z"
   },
   {
    "duration": 215,
    "start_time": "2024-03-12T19:27:31.693Z"
   },
   {
    "duration": 193,
    "start_time": "2024-03-12T19:27:31.910Z"
   },
   {
    "duration": 164,
    "start_time": "2024-03-12T19:27:32.105Z"
   },
   {
    "duration": 186,
    "start_time": "2024-03-12T19:27:32.270Z"
   },
   {
    "duration": 152,
    "start_time": "2024-03-12T19:27:32.460Z"
   },
   {
    "duration": 220,
    "start_time": "2024-03-12T19:27:32.613Z"
   },
   {
    "duration": 119,
    "start_time": "2024-03-12T19:27:32.835Z"
   },
   {
    "duration": 169,
    "start_time": "2024-03-12T19:27:32.958Z"
   },
   {
    "duration": 207,
    "start_time": "2024-03-12T19:27:33.128Z"
   },
   {
    "duration": 6,
    "start_time": "2024-03-12T19:27:33.337Z"
   },
   {
    "duration": 198,
    "start_time": "2024-03-12T19:27:33.344Z"
   },
   {
    "duration": 16,
    "start_time": "2024-03-12T19:27:33.543Z"
   },
   {
    "duration": 204,
    "start_time": "2024-03-12T19:27:33.561Z"
   },
   {
    "duration": 6,
    "start_time": "2024-03-12T19:27:33.766Z"
   },
   {
    "duration": 6,
    "start_time": "2024-03-12T19:27:33.773Z"
   },
   {
    "duration": 151,
    "start_time": "2024-03-12T19:27:33.781Z"
   },
   {
    "duration": 147,
    "start_time": "2024-03-12T19:27:33.933Z"
   },
   {
    "duration": 140,
    "start_time": "2024-03-12T19:27:34.082Z"
   },
   {
    "duration": 120,
    "start_time": "2024-03-12T19:27:34.223Z"
   },
   {
    "duration": 233,
    "start_time": "2024-03-12T19:27:34.345Z"
   },
   {
    "duration": 156,
    "start_time": "2024-03-12T19:27:34.580Z"
   },
   {
    "duration": 148,
    "start_time": "2024-03-12T19:27:34.738Z"
   },
   {
    "duration": 23,
    "start_time": "2024-03-12T19:27:34.889Z"
   },
   {
    "duration": 228,
    "start_time": "2024-03-12T19:27:34.914Z"
   },
   {
    "duration": 306,
    "start_time": "2024-03-12T19:27:35.144Z"
   },
   {
    "duration": 12,
    "start_time": "2024-03-12T19:27:35.452Z"
   },
   {
    "duration": 772,
    "start_time": "2024-03-12T19:52:06.805Z"
   },
   {
    "duration": 3202,
    "start_time": "2024-03-12T19:52:07.579Z"
   },
   {
    "duration": 19,
    "start_time": "2024-03-12T19:52:10.783Z"
   },
   {
    "duration": 99,
    "start_time": "2024-03-12T19:52:10.804Z"
   },
   {
    "duration": 21,
    "start_time": "2024-03-12T19:52:10.904Z"
   },
   {
    "duration": 222,
    "start_time": "2024-03-12T19:52:10.926Z"
   },
   {
    "duration": 188,
    "start_time": "2024-03-12T19:52:11.150Z"
   },
   {
    "duration": 180,
    "start_time": "2024-03-12T19:52:11.339Z"
   },
   {
    "duration": 197,
    "start_time": "2024-03-12T19:52:11.521Z"
   },
   {
    "duration": 157,
    "start_time": "2024-03-12T19:52:11.721Z"
   },
   {
    "duration": 227,
    "start_time": "2024-03-12T19:52:11.880Z"
   },
   {
    "duration": 145,
    "start_time": "2024-03-12T19:52:12.108Z"
   },
   {
    "duration": 173,
    "start_time": "2024-03-12T19:52:12.255Z"
   },
   {
    "duration": 216,
    "start_time": "2024-03-12T19:52:12.430Z"
   },
   {
    "duration": 7,
    "start_time": "2024-03-12T19:52:12.648Z"
   },
   {
    "duration": 204,
    "start_time": "2024-03-12T19:52:12.657Z"
   },
   {
    "duration": 8,
    "start_time": "2024-03-12T19:52:12.868Z"
   },
   {
    "duration": 243,
    "start_time": "2024-03-12T19:52:12.878Z"
   },
   {
    "duration": 7,
    "start_time": "2024-03-12T19:52:13.123Z"
   },
   {
    "duration": 7,
    "start_time": "2024-03-12T19:52:13.132Z"
   },
   {
    "duration": 174,
    "start_time": "2024-03-12T19:52:13.141Z"
   },
   {
    "duration": 160,
    "start_time": "2024-03-12T19:52:13.317Z"
   },
   {
    "duration": 158,
    "start_time": "2024-03-12T19:52:13.479Z"
   },
   {
    "duration": 112,
    "start_time": "2024-03-12T19:52:13.639Z"
   },
   {
    "duration": 247,
    "start_time": "2024-03-12T19:52:13.753Z"
   },
   {
    "duration": 172,
    "start_time": "2024-03-12T19:52:14.002Z"
   },
   {
    "duration": 156,
    "start_time": "2024-03-12T19:52:14.176Z"
   },
   {
    "duration": 35,
    "start_time": "2024-03-12T19:52:14.335Z"
   },
   {
    "duration": 244,
    "start_time": "2024-03-12T19:52:14.372Z"
   },
   {
    "duration": 325,
    "start_time": "2024-03-12T19:52:14.618Z"
   },
   {
    "duration": 7,
    "start_time": "2024-03-12T19:52:14.944Z"
   },
   {
    "duration": 100,
    "start_time": "2024-03-12T19:53:35.406Z"
   },
   {
    "duration": 5,
    "start_time": "2024-03-12T19:53:37.765Z"
   },
   {
    "duration": 7,
    "start_time": "2024-03-12T19:53:46.952Z"
   },
   {
    "duration": 86,
    "start_time": "2024-03-12T19:54:27.604Z"
   },
   {
    "duration": 55,
    "start_time": "2024-03-13T06:45:33.457Z"
   },
   {
    "duration": 891,
    "start_time": "2024-03-13T06:45:37.549Z"
   },
   {
    "duration": 187,
    "start_time": "2024-03-13T06:45:38.686Z"
   },
   {
    "duration": 121,
    "start_time": "2024-03-13T06:46:10.281Z"
   },
   {
    "duration": 97,
    "start_time": "2024-03-13T06:46:35.332Z"
   },
   {
    "duration": 91,
    "start_time": "2024-03-13T06:46:39.514Z"
   },
   {
    "duration": 35,
    "start_time": "2024-03-13T06:46:46.530Z"
   },
   {
    "duration": 642,
    "start_time": "2024-03-13T06:46:54.289Z"
   },
   {
    "duration": 139,
    "start_time": "2024-03-13T06:46:54.932Z"
   },
   {
    "duration": 71,
    "start_time": "2024-03-13T06:46:55.072Z"
   },
   {
    "duration": 0,
    "start_time": "2024-03-13T06:46:55.145Z"
   },
   {
    "duration": 0,
    "start_time": "2024-03-13T06:46:55.146Z"
   },
   {
    "duration": 0,
    "start_time": "2024-03-13T06:46:55.147Z"
   },
   {
    "duration": 0,
    "start_time": "2024-03-13T06:46:55.148Z"
   },
   {
    "duration": 0,
    "start_time": "2024-03-13T06:46:55.149Z"
   },
   {
    "duration": 1,
    "start_time": "2024-03-13T06:46:55.169Z"
   },
   {
    "duration": 0,
    "start_time": "2024-03-13T06:46:55.171Z"
   },
   {
    "duration": 0,
    "start_time": "2024-03-13T06:46:55.172Z"
   },
   {
    "duration": 0,
    "start_time": "2024-03-13T06:46:55.173Z"
   },
   {
    "duration": 0,
    "start_time": "2024-03-13T06:46:55.174Z"
   },
   {
    "duration": 0,
    "start_time": "2024-03-13T06:46:55.175Z"
   },
   {
    "duration": 0,
    "start_time": "2024-03-13T06:46:55.176Z"
   },
   {
    "duration": 0,
    "start_time": "2024-03-13T06:46:55.177Z"
   },
   {
    "duration": 0,
    "start_time": "2024-03-13T06:46:55.177Z"
   },
   {
    "duration": 0,
    "start_time": "2024-03-13T06:46:55.179Z"
   },
   {
    "duration": 0,
    "start_time": "2024-03-13T06:46:55.180Z"
   },
   {
    "duration": 0,
    "start_time": "2024-03-13T06:46:55.180Z"
   },
   {
    "duration": 0,
    "start_time": "2024-03-13T06:46:55.181Z"
   },
   {
    "duration": 0,
    "start_time": "2024-03-13T06:46:55.182Z"
   },
   {
    "duration": 0,
    "start_time": "2024-03-13T06:46:55.184Z"
   },
   {
    "duration": 0,
    "start_time": "2024-03-13T06:46:55.184Z"
   },
   {
    "duration": 0,
    "start_time": "2024-03-13T06:46:55.185Z"
   },
   {
    "duration": 0,
    "start_time": "2024-03-13T06:46:55.186Z"
   },
   {
    "duration": 0,
    "start_time": "2024-03-13T06:46:55.188Z"
   },
   {
    "duration": 0,
    "start_time": "2024-03-13T06:46:55.189Z"
   },
   {
    "duration": 1,
    "start_time": "2024-03-13T06:46:55.189Z"
   },
   {
    "duration": 0,
    "start_time": "2024-03-13T06:46:55.190Z"
   },
   {
    "duration": 0,
    "start_time": "2024-03-13T06:46:55.191Z"
   },
   {
    "duration": 0,
    "start_time": "2024-03-13T06:46:55.192Z"
   },
   {
    "duration": 1907,
    "start_time": "2024-03-13T06:47:18.138Z"
   },
   {
    "duration": 630,
    "start_time": "2024-03-13T06:50:33.311Z"
   },
   {
    "duration": 133,
    "start_time": "2024-03-13T06:50:33.943Z"
   },
   {
    "duration": 1987,
    "start_time": "2024-03-13T06:50:34.078Z"
   },
   {
    "duration": 20,
    "start_time": "2024-03-13T06:50:36.067Z"
   },
   {
    "duration": 96,
    "start_time": "2024-03-13T06:50:36.089Z"
   },
   {
    "duration": 21,
    "start_time": "2024-03-13T06:50:36.187Z"
   },
   {
    "duration": 231,
    "start_time": "2024-03-13T06:50:36.209Z"
   },
   {
    "duration": 196,
    "start_time": "2024-03-13T06:50:36.442Z"
   },
   {
    "duration": 188,
    "start_time": "2024-03-13T06:50:36.640Z"
   },
   {
    "duration": 200,
    "start_time": "2024-03-13T06:50:36.830Z"
   },
   {
    "duration": 165,
    "start_time": "2024-03-13T06:50:37.032Z"
   },
   {
    "duration": 243,
    "start_time": "2024-03-13T06:50:37.198Z"
   },
   {
    "duration": 132,
    "start_time": "2024-03-13T06:50:37.442Z"
   },
   {
    "duration": 174,
    "start_time": "2024-03-13T06:50:37.575Z"
   },
   {
    "duration": 205,
    "start_time": "2024-03-13T06:50:37.751Z"
   },
   {
    "duration": 11,
    "start_time": "2024-03-13T06:50:37.958Z"
   },
   {
    "duration": 215,
    "start_time": "2024-03-13T06:50:37.971Z"
   },
   {
    "duration": 7,
    "start_time": "2024-03-13T06:50:38.187Z"
   },
   {
    "duration": 233,
    "start_time": "2024-03-13T06:50:38.195Z"
   },
   {
    "duration": 5,
    "start_time": "2024-03-13T06:50:38.430Z"
   },
   {
    "duration": 8,
    "start_time": "2024-03-13T06:50:38.437Z"
   },
   {
    "duration": 169,
    "start_time": "2024-03-13T06:50:38.447Z"
   },
   {
    "duration": 167,
    "start_time": "2024-03-13T06:50:38.617Z"
   },
   {
    "duration": 147,
    "start_time": "2024-03-13T06:50:38.786Z"
   },
   {
    "duration": 118,
    "start_time": "2024-03-13T06:50:38.934Z"
   },
   {
    "duration": 220,
    "start_time": "2024-03-13T06:50:39.053Z"
   },
   {
    "duration": 165,
    "start_time": "2024-03-13T06:50:39.274Z"
   },
   {
    "duration": 160,
    "start_time": "2024-03-13T06:50:39.442Z"
   },
   {
    "duration": 22,
    "start_time": "2024-03-13T06:50:39.603Z"
   },
   {
    "duration": 255,
    "start_time": "2024-03-13T06:50:39.627Z"
   },
   {
    "duration": 338,
    "start_time": "2024-03-13T06:50:39.884Z"
   },
   {
    "duration": 6,
    "start_time": "2024-03-13T06:50:40.224Z"
   },
   {
    "duration": 310,
    "start_time": "2024-03-13T06:50:51.587Z"
   },
   {
    "duration": 300,
    "start_time": "2024-03-13T06:51:08.355Z"
   },
   {
    "duration": 225,
    "start_time": "2024-03-13T06:51:20.890Z"
   },
   {
    "duration": 79,
    "start_time": "2024-03-13T06:53:49.773Z"
   },
   {
    "duration": 607,
    "start_time": "2024-03-13T06:53:58.325Z"
   },
   {
    "duration": 129,
    "start_time": "2024-03-13T06:53:58.933Z"
   },
   {
    "duration": 1938,
    "start_time": "2024-03-13T06:53:59.064Z"
   },
   {
    "duration": 101,
    "start_time": "2024-03-13T06:54:01.004Z"
   },
   {
    "duration": 0,
    "start_time": "2024-03-13T06:54:01.108Z"
   },
   {
    "duration": 0,
    "start_time": "2024-03-13T06:54:01.109Z"
   },
   {
    "duration": 0,
    "start_time": "2024-03-13T06:54:01.110Z"
   },
   {
    "duration": 0,
    "start_time": "2024-03-13T06:54:01.111Z"
   },
   {
    "duration": 0,
    "start_time": "2024-03-13T06:54:01.112Z"
   },
   {
    "duration": 0,
    "start_time": "2024-03-13T06:54:01.114Z"
   },
   {
    "duration": 0,
    "start_time": "2024-03-13T06:54:01.115Z"
   },
   {
    "duration": 0,
    "start_time": "2024-03-13T06:54:01.116Z"
   },
   {
    "duration": 0,
    "start_time": "2024-03-13T06:54:01.117Z"
   },
   {
    "duration": 0,
    "start_time": "2024-03-13T06:54:01.118Z"
   },
   {
    "duration": 0,
    "start_time": "2024-03-13T06:54:01.119Z"
   },
   {
    "duration": 0,
    "start_time": "2024-03-13T06:54:01.120Z"
   },
   {
    "duration": 0,
    "start_time": "2024-03-13T06:54:01.122Z"
   },
   {
    "duration": 0,
    "start_time": "2024-03-13T06:54:01.123Z"
   },
   {
    "duration": 0,
    "start_time": "2024-03-13T06:54:01.124Z"
   },
   {
    "duration": 0,
    "start_time": "2024-03-13T06:54:01.125Z"
   },
   {
    "duration": 0,
    "start_time": "2024-03-13T06:54:01.127Z"
   },
   {
    "duration": 0,
    "start_time": "2024-03-13T06:54:01.128Z"
   },
   {
    "duration": 0,
    "start_time": "2024-03-13T06:54:01.128Z"
   },
   {
    "duration": 0,
    "start_time": "2024-03-13T06:54:01.129Z"
   },
   {
    "duration": 0,
    "start_time": "2024-03-13T06:54:01.130Z"
   },
   {
    "duration": 0,
    "start_time": "2024-03-13T06:54:01.131Z"
   },
   {
    "duration": 0,
    "start_time": "2024-03-13T06:54:01.170Z"
   },
   {
    "duration": 0,
    "start_time": "2024-03-13T06:54:01.171Z"
   },
   {
    "duration": 0,
    "start_time": "2024-03-13T06:54:01.172Z"
   },
   {
    "duration": 0,
    "start_time": "2024-03-13T06:54:01.173Z"
   },
   {
    "duration": 0,
    "start_time": "2024-03-13T06:54:01.174Z"
   },
   {
    "duration": 0,
    "start_time": "2024-03-13T06:54:01.176Z"
   },
   {
    "duration": 688,
    "start_time": "2024-03-13T06:54:15.051Z"
   },
   {
    "duration": 132,
    "start_time": "2024-03-13T06:54:15.740Z"
   },
   {
    "duration": 2072,
    "start_time": "2024-03-13T06:54:15.873Z"
   },
   {
    "duration": 91,
    "start_time": "2024-03-13T06:54:17.947Z"
   },
   {
    "duration": 0,
    "start_time": "2024-03-13T06:54:18.041Z"
   },
   {
    "duration": 0,
    "start_time": "2024-03-13T06:54:18.042Z"
   },
   {
    "duration": 0,
    "start_time": "2024-03-13T06:54:18.043Z"
   },
   {
    "duration": 0,
    "start_time": "2024-03-13T06:54:18.043Z"
   },
   {
    "duration": 0,
    "start_time": "2024-03-13T06:54:18.045Z"
   },
   {
    "duration": 0,
    "start_time": "2024-03-13T06:54:18.045Z"
   },
   {
    "duration": 0,
    "start_time": "2024-03-13T06:54:18.046Z"
   },
   {
    "duration": 0,
    "start_time": "2024-03-13T06:54:18.047Z"
   },
   {
    "duration": 0,
    "start_time": "2024-03-13T06:54:18.048Z"
   },
   {
    "duration": 0,
    "start_time": "2024-03-13T06:54:18.049Z"
   },
   {
    "duration": 0,
    "start_time": "2024-03-13T06:54:18.050Z"
   },
   {
    "duration": 0,
    "start_time": "2024-03-13T06:54:18.051Z"
   },
   {
    "duration": 0,
    "start_time": "2024-03-13T06:54:18.071Z"
   },
   {
    "duration": 0,
    "start_time": "2024-03-13T06:54:18.072Z"
   },
   {
    "duration": 0,
    "start_time": "2024-03-13T06:54:18.073Z"
   },
   {
    "duration": 0,
    "start_time": "2024-03-13T06:54:18.074Z"
   },
   {
    "duration": 0,
    "start_time": "2024-03-13T06:54:18.075Z"
   },
   {
    "duration": 0,
    "start_time": "2024-03-13T06:54:18.076Z"
   },
   {
    "duration": 0,
    "start_time": "2024-03-13T06:54:18.077Z"
   },
   {
    "duration": 0,
    "start_time": "2024-03-13T06:54:18.078Z"
   },
   {
    "duration": 0,
    "start_time": "2024-03-13T06:54:18.079Z"
   },
   {
    "duration": 0,
    "start_time": "2024-03-13T06:54:18.080Z"
   },
   {
    "duration": 0,
    "start_time": "2024-03-13T06:54:18.081Z"
   },
   {
    "duration": 0,
    "start_time": "2024-03-13T06:54:18.081Z"
   },
   {
    "duration": 0,
    "start_time": "2024-03-13T06:54:18.082Z"
   },
   {
    "duration": 0,
    "start_time": "2024-03-13T06:54:18.083Z"
   },
   {
    "duration": 0,
    "start_time": "2024-03-13T06:54:18.084Z"
   },
   {
    "duration": 0,
    "start_time": "2024-03-13T06:54:18.085Z"
   },
   {
    "duration": 20,
    "start_time": "2024-03-13T06:57:20.548Z"
   },
   {
    "duration": 648,
    "start_time": "2024-03-13T06:57:31.095Z"
   },
   {
    "duration": 135,
    "start_time": "2024-03-13T06:57:31.745Z"
   },
   {
    "duration": 1979,
    "start_time": "2024-03-13T06:57:31.882Z"
   },
   {
    "duration": 21,
    "start_time": "2024-03-13T06:57:33.862Z"
   },
   {
    "duration": 98,
    "start_time": "2024-03-13T06:57:33.885Z"
   },
   {
    "duration": 22,
    "start_time": "2024-03-13T06:57:33.984Z"
   },
   {
    "duration": 235,
    "start_time": "2024-03-13T06:57:34.008Z"
   },
   {
    "duration": 202,
    "start_time": "2024-03-13T06:57:34.245Z"
   },
   {
    "duration": 181,
    "start_time": "2024-03-13T06:57:34.448Z"
   },
   {
    "duration": 202,
    "start_time": "2024-03-13T06:57:34.631Z"
   },
   {
    "duration": 167,
    "start_time": "2024-03-13T06:57:34.834Z"
   },
   {
    "duration": 243,
    "start_time": "2024-03-13T06:57:35.002Z"
   },
   {
    "duration": 118,
    "start_time": "2024-03-13T06:57:35.246Z"
   },
   {
    "duration": 187,
    "start_time": "2024-03-13T06:57:35.370Z"
   },
   {
    "duration": 206,
    "start_time": "2024-03-13T06:57:35.558Z"
   },
   {
    "duration": 7,
    "start_time": "2024-03-13T06:57:35.769Z"
   },
   {
    "duration": 209,
    "start_time": "2024-03-13T06:57:35.777Z"
   },
   {
    "duration": 6,
    "start_time": "2024-03-13T06:57:35.988Z"
   },
   {
    "duration": 241,
    "start_time": "2024-03-13T06:57:35.996Z"
   },
   {
    "duration": 6,
    "start_time": "2024-03-13T06:57:36.238Z"
   },
   {
    "duration": 25,
    "start_time": "2024-03-13T06:57:36.245Z"
   },
   {
    "duration": 147,
    "start_time": "2024-03-13T06:57:36.272Z"
   },
   {
    "duration": 165,
    "start_time": "2024-03-13T06:57:36.421Z"
   },
   {
    "duration": 153,
    "start_time": "2024-03-13T06:57:36.587Z"
   },
   {
    "duration": 120,
    "start_time": "2024-03-13T06:57:36.742Z"
   },
   {
    "duration": 226,
    "start_time": "2024-03-13T06:57:36.863Z"
   },
   {
    "duration": 171,
    "start_time": "2024-03-13T06:57:37.091Z"
   },
   {
    "duration": 150,
    "start_time": "2024-03-13T06:57:37.263Z"
   },
   {
    "duration": 22,
    "start_time": "2024-03-13T06:57:37.414Z"
   },
   {
    "duration": 235,
    "start_time": "2024-03-13T06:57:37.438Z"
   },
   {
    "duration": 316,
    "start_time": "2024-03-13T06:57:37.675Z"
   },
   {
    "duration": 6,
    "start_time": "2024-03-13T06:57:37.993Z"
   },
   {
    "duration": 635,
    "start_time": "2024-03-13T06:59:58.604Z"
   },
   {
    "duration": 131,
    "start_time": "2024-03-13T06:59:59.241Z"
   },
   {
    "duration": 2018,
    "start_time": "2024-03-13T06:59:59.374Z"
   },
   {
    "duration": 24,
    "start_time": "2024-03-13T07:00:01.395Z"
   },
   {
    "duration": 381,
    "start_time": "2024-03-13T07:00:01.421Z"
   },
   {
    "duration": 210,
    "start_time": "2024-03-13T07:00:01.804Z"
   },
   {
    "duration": 321,
    "start_time": "2024-03-13T07:00:02.016Z"
   },
   {
    "duration": 196,
    "start_time": "2024-03-13T07:00:02.338Z"
   },
   {
    "duration": 174,
    "start_time": "2024-03-13T07:00:02.536Z"
   },
   {
    "duration": 199,
    "start_time": "2024-03-13T07:00:02.712Z"
   },
   {
    "duration": 163,
    "start_time": "2024-03-13T07:00:02.912Z"
   },
   {
    "duration": 272,
    "start_time": "2024-03-13T07:00:03.077Z"
   },
   {
    "duration": 130,
    "start_time": "2024-03-13T07:00:03.351Z"
   },
   {
    "duration": 187,
    "start_time": "2024-03-13T07:00:03.482Z"
   },
   {
    "duration": 209,
    "start_time": "2024-03-13T07:00:03.671Z"
   },
   {
    "duration": 9,
    "start_time": "2024-03-13T07:00:03.882Z"
   },
   {
    "duration": 237,
    "start_time": "2024-03-13T07:00:03.893Z"
   },
   {
    "duration": 9,
    "start_time": "2024-03-13T07:00:04.132Z"
   },
   {
    "duration": 260,
    "start_time": "2024-03-13T07:00:04.142Z"
   },
   {
    "duration": 5,
    "start_time": "2024-03-13T07:00:04.404Z"
   },
   {
    "duration": 19,
    "start_time": "2024-03-13T07:00:04.411Z"
   },
   {
    "duration": 164,
    "start_time": "2024-03-13T07:00:04.431Z"
   },
   {
    "duration": 168,
    "start_time": "2024-03-13T07:00:04.597Z"
   },
   {
    "duration": 145,
    "start_time": "2024-03-13T07:00:04.769Z"
   },
   {
    "duration": 122,
    "start_time": "2024-03-13T07:00:04.915Z"
   },
   {
    "duration": 230,
    "start_time": "2024-03-13T07:00:05.039Z"
   },
   {
    "duration": 181,
    "start_time": "2024-03-13T07:00:05.271Z"
   },
   {
    "duration": 156,
    "start_time": "2024-03-13T07:00:05.456Z"
   },
   {
    "duration": 22,
    "start_time": "2024-03-13T07:00:05.614Z"
   },
   {
    "duration": 244,
    "start_time": "2024-03-13T07:00:05.637Z"
   },
   {
    "duration": 324,
    "start_time": "2024-03-13T07:00:05.883Z"
   },
   {
    "duration": 6,
    "start_time": "2024-03-13T07:00:06.209Z"
   },
   {
    "duration": 24,
    "start_time": "2024-03-13T07:02:52.076Z"
   },
   {
    "duration": 26,
    "start_time": "2024-03-13T07:04:15.332Z"
   },
   {
    "duration": 92,
    "start_time": "2024-03-13T07:04:24.305Z"
   },
   {
    "duration": 24,
    "start_time": "2024-03-13T07:04:42.568Z"
   },
   {
    "duration": 1615,
    "start_time": "2024-03-13T07:08:07.732Z"
   },
   {
    "duration": 20,
    "start_time": "2024-03-13T07:08:20.543Z"
   },
   {
    "duration": 719,
    "start_time": "2024-03-13T07:09:30.045Z"
   },
   {
    "duration": 136,
    "start_time": "2024-03-13T07:09:30.766Z"
   },
   {
    "duration": 1981,
    "start_time": "2024-03-13T07:09:30.904Z"
   },
   {
    "duration": 21,
    "start_time": "2024-03-13T07:09:32.887Z"
   },
   {
    "duration": 94,
    "start_time": "2024-03-13T07:09:32.910Z"
   },
   {
    "duration": 24,
    "start_time": "2024-03-13T07:09:33.005Z"
   },
   {
    "duration": 241,
    "start_time": "2024-03-13T07:09:33.031Z"
   },
   {
    "duration": 191,
    "start_time": "2024-03-13T07:09:33.274Z"
   },
   {
    "duration": 178,
    "start_time": "2024-03-13T07:09:33.469Z"
   },
   {
    "duration": 210,
    "start_time": "2024-03-13T07:09:33.649Z"
   },
   {
    "duration": 158,
    "start_time": "2024-03-13T07:09:33.861Z"
   },
   {
    "duration": 260,
    "start_time": "2024-03-13T07:09:34.021Z"
   },
   {
    "duration": 119,
    "start_time": "2024-03-13T07:09:34.283Z"
   },
   {
    "duration": 174,
    "start_time": "2024-03-13T07:09:34.404Z"
   },
   {
    "duration": 220,
    "start_time": "2024-03-13T07:09:34.580Z"
   },
   {
    "duration": 7,
    "start_time": "2024-03-13T07:09:34.801Z"
   },
   {
    "duration": 210,
    "start_time": "2024-03-13T07:09:34.810Z"
   },
   {
    "duration": 6,
    "start_time": "2024-03-13T07:09:35.022Z"
   },
   {
    "duration": 226,
    "start_time": "2024-03-13T07:09:35.030Z"
   },
   {
    "duration": 15,
    "start_time": "2024-03-13T07:09:35.258Z"
   },
   {
    "duration": 17,
    "start_time": "2024-03-13T07:09:35.274Z"
   },
   {
    "duration": 172,
    "start_time": "2024-03-13T07:09:35.293Z"
   },
   {
    "duration": 154,
    "start_time": "2024-03-13T07:09:35.466Z"
   },
   {
    "duration": 142,
    "start_time": "2024-03-13T07:09:35.622Z"
   },
   {
    "duration": 114,
    "start_time": "2024-03-13T07:09:35.770Z"
   },
   {
    "duration": 227,
    "start_time": "2024-03-13T07:09:35.886Z"
   },
   {
    "duration": 164,
    "start_time": "2024-03-13T07:09:36.115Z"
   },
   {
    "duration": 152,
    "start_time": "2024-03-13T07:09:36.282Z"
   },
   {
    "duration": 34,
    "start_time": "2024-03-13T07:09:36.436Z"
   },
   {
    "duration": 228,
    "start_time": "2024-03-13T07:09:36.472Z"
   },
   {
    "duration": 46,
    "start_time": "2024-03-13T07:11:02.096Z"
   },
   {
    "duration": 670,
    "start_time": "2024-03-13T07:11:30.280Z"
   },
   {
    "duration": 134,
    "start_time": "2024-03-13T07:11:30.952Z"
   },
   {
    "duration": 2006,
    "start_time": "2024-03-13T07:11:31.087Z"
   },
   {
    "duration": 22,
    "start_time": "2024-03-13T07:11:33.095Z"
   },
   {
    "duration": 101,
    "start_time": "2024-03-13T07:11:33.118Z"
   },
   {
    "duration": 27,
    "start_time": "2024-03-13T07:11:33.221Z"
   },
   {
    "duration": 238,
    "start_time": "2024-03-13T07:11:33.250Z"
   },
   {
    "duration": 197,
    "start_time": "2024-03-13T07:11:33.490Z"
   },
   {
    "duration": 180,
    "start_time": "2024-03-13T07:11:33.689Z"
   },
   {
    "duration": 193,
    "start_time": "2024-03-13T07:11:33.872Z"
   },
   {
    "duration": 168,
    "start_time": "2024-03-13T07:11:34.069Z"
   },
   {
    "duration": 236,
    "start_time": "2024-03-13T07:11:34.239Z"
   },
   {
    "duration": 123,
    "start_time": "2024-03-13T07:11:34.477Z"
   },
   {
    "duration": 173,
    "start_time": "2024-03-13T07:11:34.601Z"
   },
   {
    "duration": 206,
    "start_time": "2024-03-13T07:11:34.776Z"
   },
   {
    "duration": 7,
    "start_time": "2024-03-13T07:11:34.983Z"
   },
   {
    "duration": 212,
    "start_time": "2024-03-13T07:11:34.991Z"
   },
   {
    "duration": 6,
    "start_time": "2024-03-13T07:11:35.205Z"
   },
   {
    "duration": 236,
    "start_time": "2024-03-13T07:11:35.212Z"
   },
   {
    "duration": 6,
    "start_time": "2024-03-13T07:11:35.449Z"
   },
   {
    "duration": 17,
    "start_time": "2024-03-13T07:11:35.457Z"
   },
   {
    "duration": 159,
    "start_time": "2024-03-13T07:11:35.475Z"
   },
   {
    "duration": 159,
    "start_time": "2024-03-13T07:11:35.636Z"
   },
   {
    "duration": 153,
    "start_time": "2024-03-13T07:11:35.796Z"
   },
   {
    "duration": 120,
    "start_time": "2024-03-13T07:11:35.951Z"
   },
   {
    "duration": 224,
    "start_time": "2024-03-13T07:11:36.073Z"
   },
   {
    "duration": 162,
    "start_time": "2024-03-13T07:11:36.298Z"
   },
   {
    "duration": 150,
    "start_time": "2024-03-13T07:11:36.468Z"
   },
   {
    "duration": 24,
    "start_time": "2024-03-13T07:11:36.620Z"
   },
   {
    "duration": 259,
    "start_time": "2024-03-13T07:11:36.646Z"
   },
   {
    "duration": 9,
    "start_time": "2024-03-13T07:13:01.691Z"
   },
   {
    "duration": 683,
    "start_time": "2024-03-13T07:13:53.943Z"
   },
   {
    "duration": 133,
    "start_time": "2024-03-13T07:13:54.629Z"
   },
   {
    "duration": 1941,
    "start_time": "2024-03-13T07:13:54.772Z"
   },
   {
    "duration": 25,
    "start_time": "2024-03-13T07:13:56.715Z"
   },
   {
    "duration": 116,
    "start_time": "2024-03-13T07:13:56.742Z"
   },
   {
    "duration": 25,
    "start_time": "2024-03-13T07:13:56.869Z"
   },
   {
    "duration": 241,
    "start_time": "2024-03-13T07:13:56.896Z"
   },
   {
    "duration": 209,
    "start_time": "2024-03-13T07:13:57.139Z"
   },
   {
    "duration": 182,
    "start_time": "2024-03-13T07:13:57.352Z"
   },
   {
    "duration": 207,
    "start_time": "2024-03-13T07:13:57.536Z"
   },
   {
    "duration": 169,
    "start_time": "2024-03-13T07:13:57.745Z"
   },
   {
    "duration": 257,
    "start_time": "2024-03-13T07:13:57.916Z"
   },
   {
    "duration": 129,
    "start_time": "2024-03-13T07:13:58.175Z"
   },
   {
    "duration": 173,
    "start_time": "2024-03-13T07:13:58.306Z"
   },
   {
    "duration": 214,
    "start_time": "2024-03-13T07:13:58.480Z"
   },
   {
    "duration": 7,
    "start_time": "2024-03-13T07:13:58.695Z"
   },
   {
    "duration": 208,
    "start_time": "2024-03-13T07:13:58.704Z"
   },
   {
    "duration": 7,
    "start_time": "2024-03-13T07:13:58.914Z"
   },
   {
    "duration": 226,
    "start_time": "2024-03-13T07:13:58.922Z"
   },
   {
    "duration": 6,
    "start_time": "2024-03-13T07:13:59.150Z"
   },
   {
    "duration": 11,
    "start_time": "2024-03-13T07:13:59.170Z"
   },
   {
    "duration": 158,
    "start_time": "2024-03-13T07:13:59.183Z"
   },
   {
    "duration": 169,
    "start_time": "2024-03-13T07:13:59.343Z"
   },
   {
    "duration": 155,
    "start_time": "2024-03-13T07:13:59.514Z"
   },
   {
    "duration": 119,
    "start_time": "2024-03-13T07:13:59.671Z"
   },
   {
    "duration": 242,
    "start_time": "2024-03-13T07:13:59.792Z"
   },
   {
    "duration": 164,
    "start_time": "2024-03-13T07:14:00.038Z"
   },
   {
    "duration": 160,
    "start_time": "2024-03-13T07:14:00.204Z"
   },
   {
    "duration": 26,
    "start_time": "2024-03-13T07:14:00.366Z"
   },
   {
    "duration": 270,
    "start_time": "2024-03-13T07:14:00.393Z"
   },
   {
    "duration": 84384,
    "start_time": "2024-03-13T07:14:00.665Z"
   },
   {
    "duration": 7,
    "start_time": "2024-03-13T07:15:25.051Z"
   },
   {
    "duration": 24,
    "start_time": "2024-03-13T07:15:25.097Z"
   },
   {
    "duration": 25,
    "start_time": "2024-03-13T07:16:03.192Z"
   },
   {
    "duration": 648,
    "start_time": "2024-03-13T07:16:16.333Z"
   },
   {
    "duration": 135,
    "start_time": "2024-03-13T07:16:16.983Z"
   },
   {
    "duration": 2037,
    "start_time": "2024-03-13T07:16:17.120Z"
   },
   {
    "duration": 20,
    "start_time": "2024-03-13T07:16:19.158Z"
   },
   {
    "duration": 103,
    "start_time": "2024-03-13T07:16:19.181Z"
   },
   {
    "duration": 27,
    "start_time": "2024-03-13T07:16:19.285Z"
   },
   {
    "duration": 248,
    "start_time": "2024-03-13T07:16:19.314Z"
   },
   {
    "duration": 200,
    "start_time": "2024-03-13T07:16:19.564Z"
   },
   {
    "duration": 183,
    "start_time": "2024-03-13T07:16:19.766Z"
   },
   {
    "duration": 222,
    "start_time": "2024-03-13T07:16:19.951Z"
   },
   {
    "duration": 156,
    "start_time": "2024-03-13T07:16:20.175Z"
   },
   {
    "duration": 277,
    "start_time": "2024-03-13T07:16:20.333Z"
   },
   {
    "duration": 128,
    "start_time": "2024-03-13T07:16:20.612Z"
   },
   {
    "duration": 177,
    "start_time": "2024-03-13T07:16:20.744Z"
   },
   {
    "duration": 212,
    "start_time": "2024-03-13T07:16:20.923Z"
   },
   {
    "duration": 9,
    "start_time": "2024-03-13T07:16:21.137Z"
   },
   {
    "duration": 216,
    "start_time": "2024-03-13T07:16:21.148Z"
   },
   {
    "duration": 8,
    "start_time": "2024-03-13T07:16:21.369Z"
   },
   {
    "duration": 236,
    "start_time": "2024-03-13T07:16:21.378Z"
   },
   {
    "duration": 7,
    "start_time": "2024-03-13T07:16:21.616Z"
   },
   {
    "duration": 8,
    "start_time": "2024-03-13T07:16:21.625Z"
   },
   {
    "duration": 182,
    "start_time": "2024-03-13T07:16:21.635Z"
   },
   {
    "duration": 176,
    "start_time": "2024-03-13T07:16:21.818Z"
   },
   {
    "duration": 148,
    "start_time": "2024-03-13T07:16:21.996Z"
   },
   {
    "duration": 116,
    "start_time": "2024-03-13T07:16:22.146Z"
   },
   {
    "duration": 247,
    "start_time": "2024-03-13T07:16:22.264Z"
   },
   {
    "duration": 170,
    "start_time": "2024-03-13T07:16:22.513Z"
   },
   {
    "duration": 157,
    "start_time": "2024-03-13T07:16:22.685Z"
   },
   {
    "duration": 34,
    "start_time": "2024-03-13T07:16:22.844Z"
   },
   {
    "duration": 244,
    "start_time": "2024-03-13T07:16:22.880Z"
   },
   {
    "duration": 315,
    "start_time": "2024-03-13T07:16:23.126Z"
   },
   {
    "duration": 9,
    "start_time": "2024-03-13T07:16:23.443Z"
   },
   {
    "duration": 22,
    "start_time": "2024-03-13T07:20:01.167Z"
   },
   {
    "duration": 194,
    "start_time": "2024-03-13T07:22:50.529Z"
   },
   {
    "duration": 202,
    "start_time": "2024-03-13T07:23:05.656Z"
   },
   {
    "duration": 200,
    "start_time": "2024-03-13T07:24:22.953Z"
   },
   {
    "duration": 215,
    "start_time": "2024-03-13T07:24:50.272Z"
   },
   {
    "duration": 183,
    "start_time": "2024-03-13T07:25:09.081Z"
   },
   {
    "duration": 253,
    "start_time": "2024-03-13T07:25:26.212Z"
   },
   {
    "duration": 195,
    "start_time": "2024-03-13T07:25:35.791Z"
   },
   {
    "duration": 190,
    "start_time": "2024-03-13T07:25:39.168Z"
   },
   {
    "duration": 197,
    "start_time": "2024-03-13T07:25:53.524Z"
   },
   {
    "duration": 196,
    "start_time": "2024-03-13T07:26:17.203Z"
   },
   {
    "duration": 220,
    "start_time": "2024-03-13T07:26:34.169Z"
   },
   {
    "duration": 170,
    "start_time": "2024-03-13T07:26:41.869Z"
   },
   {
    "duration": 173,
    "start_time": "2024-03-13T07:27:13.274Z"
   },
   {
    "duration": 169,
    "start_time": "2024-03-13T07:27:33.356Z"
   },
   {
    "duration": 180,
    "start_time": "2024-03-13T07:27:40.492Z"
   },
   {
    "duration": 246,
    "start_time": "2024-03-13T07:28:05.727Z"
   },
   {
    "duration": 185,
    "start_time": "2024-03-13T07:28:31.320Z"
   },
   {
    "duration": 172,
    "start_time": "2024-03-13T07:28:54.071Z"
   },
   {
    "duration": 179,
    "start_time": "2024-03-13T07:29:00.450Z"
   },
   {
    "duration": 122,
    "start_time": "2024-03-13T07:30:20.166Z"
   },
   {
    "duration": 104,
    "start_time": "2024-03-13T07:30:26.102Z"
   },
   {
    "duration": 245,
    "start_time": "2024-03-13T07:30:55.967Z"
   },
   {
    "duration": 169,
    "start_time": "2024-03-13T07:31:00.819Z"
   },
   {
    "duration": 163,
    "start_time": "2024-03-13T07:31:12.322Z"
   },
   {
    "duration": 161,
    "start_time": "2024-03-13T07:33:17.385Z"
   },
   {
    "duration": 247,
    "start_time": "2024-03-13T07:33:25.996Z"
   },
   {
    "duration": 106,
    "start_time": "2024-03-13T07:34:05.827Z"
   },
   {
    "duration": 163,
    "start_time": "2024-03-13T07:34:21.400Z"
   },
   {
    "duration": 623,
    "start_time": "2024-03-13T07:35:43.716Z"
   },
   {
    "duration": 130,
    "start_time": "2024-03-13T07:35:44.341Z"
   },
   {
    "duration": 1953,
    "start_time": "2024-03-13T07:35:44.472Z"
   },
   {
    "duration": 22,
    "start_time": "2024-03-13T07:35:46.427Z"
   },
   {
    "duration": 93,
    "start_time": "2024-03-13T07:35:46.450Z"
   },
   {
    "duration": 33,
    "start_time": "2024-03-13T07:35:46.545Z"
   },
   {
    "duration": 221,
    "start_time": "2024-03-13T07:35:46.579Z"
   },
   {
    "duration": 196,
    "start_time": "2024-03-13T07:35:46.801Z"
   },
   {
    "duration": 181,
    "start_time": "2024-03-13T07:35:46.999Z"
   },
   {
    "duration": 179,
    "start_time": "2024-03-13T07:35:47.182Z"
   },
   {
    "duration": 167,
    "start_time": "2024-03-13T07:35:47.362Z"
   },
   {
    "duration": 231,
    "start_time": "2024-03-13T07:35:47.530Z"
   },
   {
    "duration": 128,
    "start_time": "2024-03-13T07:35:47.763Z"
   },
   {
    "duration": 172,
    "start_time": "2024-03-13T07:35:47.893Z"
   },
   {
    "duration": 223,
    "start_time": "2024-03-13T07:35:48.070Z"
   },
   {
    "duration": 9,
    "start_time": "2024-03-13T07:35:48.295Z"
   },
   {
    "duration": 208,
    "start_time": "2024-03-13T07:35:48.306Z"
   },
   {
    "duration": 8,
    "start_time": "2024-03-13T07:35:48.516Z"
   },
   {
    "duration": 233,
    "start_time": "2024-03-13T07:35:48.526Z"
   },
   {
    "duration": 9,
    "start_time": "2024-03-13T07:35:48.761Z"
   },
   {
    "duration": 9,
    "start_time": "2024-03-13T07:35:48.772Z"
   },
   {
    "duration": 193,
    "start_time": "2024-03-13T07:35:48.783Z"
   },
   {
    "duration": 154,
    "start_time": "2024-03-13T07:35:48.978Z"
   },
   {
    "duration": 170,
    "start_time": "2024-03-13T07:35:49.134Z"
   },
   {
    "duration": 153,
    "start_time": "2024-03-13T07:35:49.306Z"
   },
   {
    "duration": 176,
    "start_time": "2024-03-13T07:35:49.469Z"
   },
   {
    "duration": 164,
    "start_time": "2024-03-13T07:35:49.647Z"
   },
   {
    "duration": 175,
    "start_time": "2024-03-13T07:35:49.814Z"
   },
   {
    "duration": 160,
    "start_time": "2024-03-13T07:35:49.990Z"
   },
   {
    "duration": 27,
    "start_time": "2024-03-13T07:35:50.152Z"
   },
   {
    "duration": 246,
    "start_time": "2024-03-13T07:35:50.181Z"
   },
   {
    "duration": 325,
    "start_time": "2024-03-13T07:35:50.429Z"
   },
   {
    "duration": 7,
    "start_time": "2024-03-13T07:35:50.756Z"
   },
   {
    "duration": 166,
    "start_time": "2024-03-13T07:36:16.603Z"
   },
   {
    "duration": 202,
    "start_time": "2024-03-13T07:36:20.409Z"
   },
   {
    "duration": 173,
    "start_time": "2024-03-13T07:36:29.475Z"
   },
   {
    "duration": 314,
    "start_time": "2024-03-13T07:36:50.988Z"
   },
   {
    "duration": 170,
    "start_time": "2024-03-13T07:37:16.057Z"
   },
   {
    "duration": 175,
    "start_time": "2024-03-13T07:37:20.755Z"
   },
   {
    "duration": 181,
    "start_time": "2024-03-13T07:37:34.105Z"
   },
   {
    "duration": 163,
    "start_time": "2024-03-13T07:37:59.809Z"
   },
   {
    "duration": 164,
    "start_time": "2024-03-13T07:38:19.383Z"
   },
   {
    "duration": 143,
    "start_time": "2024-03-13T07:41:29.601Z"
   },
   {
    "duration": 146,
    "start_time": "2024-03-13T07:41:36.821Z"
   },
   {
    "duration": 139,
    "start_time": "2024-03-13T07:41:44.543Z"
   },
   {
    "duration": 136,
    "start_time": "2024-03-13T07:41:51.437Z"
   },
   {
    "duration": 146,
    "start_time": "2024-03-13T09:01:44.222Z"
   },
   {
    "duration": 253,
    "start_time": "2024-03-13T09:09:20.009Z"
   },
   {
    "duration": 93,
    "start_time": "2024-03-13T09:10:53.305Z"
   },
   {
    "duration": 1029,
    "start_time": "2024-03-13T09:11:02.391Z"
   },
   {
    "duration": 79,
    "start_time": "2024-03-13T09:11:31.842Z"
   },
   {
    "duration": 145,
    "start_time": "2024-03-13T09:12:13.113Z"
   },
   {
    "duration": 940,
    "start_time": "2024-03-13T09:16:27.141Z"
   },
   {
    "duration": 186,
    "start_time": "2024-03-13T09:17:18.947Z"
   },
   {
    "duration": 86,
    "start_time": "2024-03-13T09:17:44.527Z"
   },
   {
    "duration": 87,
    "start_time": "2024-03-13T09:17:48.231Z"
   },
   {
    "duration": 159,
    "start_time": "2024-03-13T09:18:02.849Z"
   },
   {
    "duration": 775,
    "start_time": "2024-03-13T09:19:09.031Z"
   },
   {
    "duration": 32,
    "start_time": "2024-03-13T09:19:16.862Z"
   },
   {
    "duration": 11,
    "start_time": "2024-03-13T09:19:41.788Z"
   },
   {
    "duration": 24,
    "start_time": "2024-03-13T09:19:48.260Z"
   },
   {
    "duration": 11,
    "start_time": "2024-03-13T09:20:42.348Z"
   },
   {
    "duration": 17,
    "start_time": "2024-03-13T09:20:51.458Z"
   },
   {
    "duration": 26,
    "start_time": "2024-03-13T09:21:14.703Z"
   },
   {
    "duration": 7,
    "start_time": "2024-03-13T09:21:45.970Z"
   },
   {
    "duration": 6,
    "start_time": "2024-03-13T09:22:53.460Z"
   },
   {
    "duration": 13,
    "start_time": "2024-03-13T09:24:22.548Z"
   },
   {
    "duration": 12,
    "start_time": "2024-03-13T09:24:27.128Z"
   },
   {
    "duration": 13,
    "start_time": "2024-03-13T09:24:45.021Z"
   },
   {
    "duration": 168,
    "start_time": "2024-03-13T09:25:11.028Z"
   },
   {
    "duration": 169,
    "start_time": "2024-03-13T09:25:34.358Z"
   },
   {
    "duration": 2078,
    "start_time": "2024-03-13T09:26:03.278Z"
   },
   {
    "duration": 165,
    "start_time": "2024-03-13T09:26:14.081Z"
   },
   {
    "duration": 163,
    "start_time": "2024-03-13T09:26:54.206Z"
   },
   {
    "duration": 162,
    "start_time": "2024-03-13T09:27:49.187Z"
   },
   {
    "duration": 161,
    "start_time": "2024-03-13T09:28:01.003Z"
   },
   {
    "duration": 145,
    "start_time": "2024-03-13T09:30:56.444Z"
   },
   {
    "duration": 255,
    "start_time": "2024-03-13T09:31:05.882Z"
   },
   {
    "duration": 148,
    "start_time": "2024-03-13T09:31:19.135Z"
   },
   {
    "duration": 160,
    "start_time": "2024-03-13T09:31:28.106Z"
   },
   {
    "duration": 159,
    "start_time": "2024-03-13T09:31:32.369Z"
   },
   {
    "duration": 12,
    "start_time": "2024-03-13T09:32:51.521Z"
   },
   {
    "duration": 166,
    "start_time": "2024-03-13T09:33:15.754Z"
   },
   {
    "duration": 164,
    "start_time": "2024-03-13T09:34:02.036Z"
   },
   {
    "duration": 215,
    "start_time": "2024-03-13T09:38:20.655Z"
   },
   {
    "duration": 209,
    "start_time": "2024-03-13T09:38:38.324Z"
   },
   {
    "duration": 221,
    "start_time": "2024-03-13T09:38:51.065Z"
   },
   {
    "duration": 207,
    "start_time": "2024-03-13T09:39:02.574Z"
   },
   {
    "duration": 348,
    "start_time": "2024-03-13T09:39:08.566Z"
   },
   {
    "duration": 211,
    "start_time": "2024-03-13T09:39:14.163Z"
   },
   {
    "duration": 254,
    "start_time": "2024-03-13T09:39:37.299Z"
   },
   {
    "duration": 165,
    "start_time": "2024-03-13T09:39:45.080Z"
   },
   {
    "duration": 165,
    "start_time": "2024-03-13T09:39:49.034Z"
   },
   {
    "duration": 167,
    "start_time": "2024-03-13T09:39:55.736Z"
   },
   {
    "duration": 209,
    "start_time": "2024-03-13T09:40:08.770Z"
   },
   {
    "duration": 164,
    "start_time": "2024-03-13T09:40:53.856Z"
   },
   {
    "duration": 164,
    "start_time": "2024-03-13T09:40:59.576Z"
   },
   {
    "duration": 4,
    "start_time": "2024-03-13T09:43:32.289Z"
   },
   {
    "duration": 260,
    "start_time": "2024-03-13T09:44:32.392Z"
   },
   {
    "duration": 14,
    "start_time": "2024-03-13T09:46:58.529Z"
   },
   {
    "duration": 14,
    "start_time": "2024-03-13T09:47:01.640Z"
   },
   {
    "duration": 173,
    "start_time": "2024-03-13T09:47:19.736Z"
   },
   {
    "duration": 1611,
    "start_time": "2024-03-13T09:47:33.985Z"
   },
   {
    "duration": 1379,
    "start_time": "2024-03-13T09:47:44.420Z"
   },
   {
    "duration": 16,
    "start_time": "2024-03-13T09:47:55.883Z"
   },
   {
    "duration": 16,
    "start_time": "2024-03-13T09:48:05.107Z"
   },
   {
    "duration": 11,
    "start_time": "2024-03-13T09:48:16.704Z"
   },
   {
    "duration": 180,
    "start_time": "2024-03-13T09:49:21.711Z"
   },
   {
    "duration": 269,
    "start_time": "2024-03-13T09:49:37.286Z"
   },
   {
    "duration": 175,
    "start_time": "2024-03-13T09:49:44.317Z"
   },
   {
    "duration": 182,
    "start_time": "2024-03-13T09:49:56.517Z"
   },
   {
    "duration": 163,
    "start_time": "2024-03-13T09:50:05.251Z"
   },
   {
    "duration": 148,
    "start_time": "2024-03-13T09:50:11.042Z"
   },
   {
    "duration": 166,
    "start_time": "2024-03-13T09:58:04.515Z"
   },
   {
    "duration": 169,
    "start_time": "2024-03-13T09:58:16.525Z"
   },
   {
    "duration": 157,
    "start_time": "2024-03-13T09:58:26.243Z"
   },
   {
    "duration": 159,
    "start_time": "2024-03-13T09:58:29.996Z"
   },
   {
    "duration": 151,
    "start_time": "2024-03-13T09:59:19.378Z"
   },
   {
    "duration": 155,
    "start_time": "2024-03-13T09:59:27.496Z"
   },
   {
    "duration": 252,
    "start_time": "2024-03-13T10:09:04.905Z"
   },
   {
    "duration": 151,
    "start_time": "2024-03-13T10:09:13.134Z"
   },
   {
    "duration": 106,
    "start_time": "2024-03-13T10:15:06.843Z"
   },
   {
    "duration": 107,
    "start_time": "2024-03-13T10:15:12.317Z"
   },
   {
    "duration": 214,
    "start_time": "2024-03-13T10:15:42.564Z"
   },
   {
    "duration": 103,
    "start_time": "2024-03-13T10:15:53.788Z"
   },
   {
    "duration": 204,
    "start_time": "2024-03-13T10:16:03.231Z"
   },
   {
    "duration": 205,
    "start_time": "2024-03-13T10:16:09.654Z"
   },
   {
    "duration": 110,
    "start_time": "2024-03-13T10:17:24.592Z"
   },
   {
    "duration": 235,
    "start_time": "2024-03-13T10:17:55.252Z"
   },
   {
    "duration": 220,
    "start_time": "2024-03-13T10:18:10.433Z"
   },
   {
    "duration": 206,
    "start_time": "2024-03-13T10:18:22.269Z"
   },
   {
    "duration": 211,
    "start_time": "2024-03-13T10:18:28.158Z"
   },
   {
    "duration": 206,
    "start_time": "2024-03-13T10:18:32.228Z"
   },
   {
    "duration": 196,
    "start_time": "2024-03-13T10:19:27.051Z"
   },
   {
    "duration": 286,
    "start_time": "2024-03-13T10:19:38.897Z"
   },
   {
    "duration": 206,
    "start_time": "2024-03-13T10:19:42.699Z"
   },
   {
    "duration": 199,
    "start_time": "2024-03-13T10:19:53.186Z"
   },
   {
    "duration": 209,
    "start_time": "2024-03-13T10:19:56.702Z"
   },
   {
    "duration": 232,
    "start_time": "2024-03-13T10:21:32.215Z"
   },
   {
    "duration": 213,
    "start_time": "2024-03-13T10:22:12.504Z"
   },
   {
    "duration": 215,
    "start_time": "2024-03-13T10:22:51.635Z"
   },
   {
    "duration": 220,
    "start_time": "2024-03-13T10:24:12.245Z"
   },
   {
    "duration": 251,
    "start_time": "2024-03-13T10:24:32.619Z"
   },
   {
    "duration": 238,
    "start_time": "2024-03-13T10:25:14.263Z"
   },
   {
    "duration": 243,
    "start_time": "2024-03-13T10:25:20.353Z"
   },
   {
    "duration": 222,
    "start_time": "2024-03-13T10:26:44.816Z"
   },
   {
    "duration": 318,
    "start_time": "2024-03-13T10:27:22.977Z"
   },
   {
    "duration": 264,
    "start_time": "2024-03-13T10:29:08.698Z"
   },
   {
    "duration": 267,
    "start_time": "2024-03-13T10:29:20.265Z"
   },
   {
    "duration": 276,
    "start_time": "2024-03-13T10:31:33.042Z"
   },
   {
    "duration": 289,
    "start_time": "2024-03-13T10:32:00.331Z"
   },
   {
    "duration": 270,
    "start_time": "2024-03-13T10:32:04.135Z"
   },
   {
    "duration": 302,
    "start_time": "2024-03-13T10:32:49.823Z"
   },
   {
    "duration": 169,
    "start_time": "2024-03-13T10:33:13.254Z"
   },
   {
    "duration": 153,
    "start_time": "2024-03-13T10:33:36.467Z"
   },
   {
    "duration": 690,
    "start_time": "2024-03-13T10:37:03.838Z"
   },
   {
    "duration": 132,
    "start_time": "2024-03-13T10:37:04.532Z"
   },
   {
    "duration": 1975,
    "start_time": "2024-03-13T10:37:04.666Z"
   },
   {
    "duration": 22,
    "start_time": "2024-03-13T10:37:06.643Z"
   },
   {
    "duration": 104,
    "start_time": "2024-03-13T10:37:06.666Z"
   },
   {
    "duration": 24,
    "start_time": "2024-03-13T10:37:06.772Z"
   },
   {
    "duration": 247,
    "start_time": "2024-03-13T10:37:06.798Z"
   },
   {
    "duration": 211,
    "start_time": "2024-03-13T10:37:07.047Z"
   },
   {
    "duration": 181,
    "start_time": "2024-03-13T10:37:07.260Z"
   },
   {
    "duration": 171,
    "start_time": "2024-03-13T10:37:07.443Z"
   },
   {
    "duration": 172,
    "start_time": "2024-03-13T10:37:07.616Z"
   },
   {
    "duration": 254,
    "start_time": "2024-03-13T10:37:07.789Z"
   },
   {
    "duration": 126,
    "start_time": "2024-03-13T10:37:08.044Z"
   },
   {
    "duration": 175,
    "start_time": "2024-03-13T10:37:08.171Z"
   },
   {
    "duration": 212,
    "start_time": "2024-03-13T10:37:08.348Z"
   },
   {
    "duration": 14,
    "start_time": "2024-03-13T10:37:08.562Z"
   },
   {
    "duration": 220,
    "start_time": "2024-03-13T10:37:08.578Z"
   },
   {
    "duration": 8,
    "start_time": "2024-03-13T10:37:08.800Z"
   },
   {
    "duration": 235,
    "start_time": "2024-03-13T10:37:08.810Z"
   },
   {
    "duration": 6,
    "start_time": "2024-03-13T10:37:09.047Z"
   },
   {
    "duration": 20,
    "start_time": "2024-03-13T10:37:09.055Z"
   },
   {
    "duration": 176,
    "start_time": "2024-03-13T10:37:09.077Z"
   },
   {
    "duration": 163,
    "start_time": "2024-03-13T10:37:09.254Z"
   },
   {
    "duration": 166,
    "start_time": "2024-03-13T10:37:09.419Z"
   },
   {
    "duration": 156,
    "start_time": "2024-03-13T10:37:09.587Z"
   },
   {
    "duration": 189,
    "start_time": "2024-03-13T10:37:09.745Z"
   },
   {
    "duration": 167,
    "start_time": "2024-03-13T10:37:09.936Z"
   },
   {
    "duration": 165,
    "start_time": "2024-03-13T10:37:10.106Z"
   },
   {
    "duration": 150,
    "start_time": "2024-03-13T10:37:10.273Z"
   },
   {
    "duration": 23,
    "start_time": "2024-03-13T10:37:10.425Z"
   },
   {
    "duration": 253,
    "start_time": "2024-03-13T10:37:10.450Z"
   },
   {
    "duration": 308,
    "start_time": "2024-03-13T10:37:10.705Z"
   },
   {
    "duration": 7,
    "start_time": "2024-03-13T10:37:11.015Z"
   },
   {
    "duration": 588,
    "start_time": "2024-03-13T19:21:25.130Z"
   },
   {
    "duration": 133,
    "start_time": "2024-03-13T19:21:25.720Z"
   },
   {
    "duration": 2004,
    "start_time": "2024-03-13T19:21:25.854Z"
   },
   {
    "duration": 23,
    "start_time": "2024-03-13T19:21:27.859Z"
   },
   {
    "duration": 96,
    "start_time": "2024-03-13T19:21:27.884Z"
   },
   {
    "duration": 22,
    "start_time": "2024-03-13T19:21:27.981Z"
   },
   {
    "duration": 249,
    "start_time": "2024-03-13T19:21:28.005Z"
   },
   {
    "duration": 183,
    "start_time": "2024-03-13T19:21:28.255Z"
   },
   {
    "duration": 173,
    "start_time": "2024-03-13T19:21:28.440Z"
   },
   {
    "duration": 168,
    "start_time": "2024-03-13T19:21:28.615Z"
   },
   {
    "duration": 160,
    "start_time": "2024-03-13T19:21:28.784Z"
   },
   {
    "duration": 259,
    "start_time": "2024-03-13T19:21:28.946Z"
   },
   {
    "duration": 116,
    "start_time": "2024-03-13T19:21:29.206Z"
   },
   {
    "duration": 161,
    "start_time": "2024-03-13T19:21:29.325Z"
   },
   {
    "duration": 202,
    "start_time": "2024-03-13T19:21:29.487Z"
   },
   {
    "duration": 7,
    "start_time": "2024-03-13T19:21:29.690Z"
   },
   {
    "duration": 200,
    "start_time": "2024-03-13T19:21:29.698Z"
   },
   {
    "duration": 7,
    "start_time": "2024-03-13T19:21:29.899Z"
   },
   {
    "duration": 216,
    "start_time": "2024-03-13T19:21:29.907Z"
   },
   {
    "duration": 4,
    "start_time": "2024-03-13T19:21:30.125Z"
   },
   {
    "duration": 64,
    "start_time": "2024-03-13T19:21:30.131Z"
   },
   {
    "duration": 180,
    "start_time": "2024-03-13T19:21:30.196Z"
   },
   {
    "duration": 134,
    "start_time": "2024-03-13T19:21:30.377Z"
   },
   {
    "duration": 175,
    "start_time": "2024-03-13T19:21:30.513Z"
   },
   {
    "duration": 142,
    "start_time": "2024-03-13T19:21:30.690Z"
   },
   {
    "duration": 189,
    "start_time": "2024-03-13T19:21:30.834Z"
   },
   {
    "duration": 139,
    "start_time": "2024-03-13T19:21:31.025Z"
   },
   {
    "duration": 146,
    "start_time": "2024-03-13T19:21:31.165Z"
   },
   {
    "duration": 140,
    "start_time": "2024-03-13T19:21:31.312Z"
   },
   {
    "duration": 29,
    "start_time": "2024-03-13T19:21:31.453Z"
   },
   {
    "duration": 218,
    "start_time": "2024-03-13T19:21:31.483Z"
   },
   {
    "duration": 298,
    "start_time": "2024-03-13T19:21:31.703Z"
   },
   {
    "duration": 7,
    "start_time": "2024-03-13T19:21:32.003Z"
   },
   {
    "duration": 94,
    "start_time": "2024-03-13T19:22:35.371Z"
   }
  ],
  "colab": {
   "provenance": []
  },
  "kernelspec": {
   "display_name": "Python 3 (ipykernel)",
   "language": "python",
   "name": "python3"
  },
  "language_info": {
   "codemirror_mode": {
    "name": "ipython",
    "version": 3
   },
   "file_extension": ".py",
   "mimetype": "text/x-python",
   "name": "python",
   "nbconvert_exporter": "python",
   "pygments_lexer": "ipython3",
   "version": "3.9.5"
  },
  "toc": {
   "base_numbering": 1,
   "nav_menu": {},
   "number_sections": true,
   "sideBar": true,
   "skip_h1_title": true,
   "title_cell": "Table of Contents",
   "title_sidebar": "Contents",
   "toc_cell": false,
   "toc_position": {},
   "toc_section_display": true,
   "toc_window_display": false
  }
 },
 "nbformat": 4,
 "nbformat_minor": 1
}
