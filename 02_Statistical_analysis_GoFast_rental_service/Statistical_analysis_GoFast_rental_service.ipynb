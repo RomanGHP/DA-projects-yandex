{
 "cells": [
  {
   "cell_type": "markdown",
   "id": "e1a04d13",
   "metadata": {},
   "source": [
    "<h3>Проект: Статистический анализ данных сервиса аренды самокатов GoFast</h3>"
   ]
  },
  {
   "cell_type": "markdown",
   "id": "aa003b5d",
   "metadata": {},
   "source": [
    "<b>Цель проекта:</b> проанализировать данные и проверить гипотезы, которые могут помочь бизнесу вырасти.<br>\n",
    "Чтобы совершать поездки по городу, пользователи сервиса GoFast пользуются мобильным приложением.<br><br>\n",
    "Сервисом можно пользоваться:\n",
    "- <b>без подписки:</b>\n",
    "  - абонентская плата отсутствует;\n",
    "  - стоимость одной минуты поездки — 8 рублей;\n",
    "  - стоимость старта (начала поездки) — 50 рублей;\n",
    "- <b>с подпиской Ultra:</b>\n",
    "  - абонентская плата — 199 рублей в месяц;\n",
    "  - стоимость одной минуты поездки — 6 рублей;\n",
    "  - стоимость старта — бесплатно.  \n",
    "  \n",
    "<b>Описание исходных данных</b><br>\n",
    "В исходных данных есть информация о пользователях, их поездках и подписках.<br>\n",
    "\n",
    "<b>*Пользователи — 'users_go.csv'*:</b><br>\n",
    "  - 'user_id' - уникальный идентификатор пользователя;\n",
    "  - 'name' - имя пользователя;\n",
    "  - 'age' - возраст;'city' - город;\n",
    "  - 'subscription_type' - тип подписки (free, ultra).\n",
    "\n",
    "<b>*Поездки — 'rides_go.csv'*:</b><br>\n",
    "  - 'user_id' - уникальный идентификатор пользователя;\n",
    "  - 'distance' - расстояние, которое пользователь проехал в текущей сессии (в метрах);\n",
    "  - 'duration' - продолжительность сессии (в минутах) — время с того момента, как пользователь нажал кнопку «Начать поездку» до момента, как он нажал кнопку «Завершить поездку»;\n",
    "  - 'date' - дата совершения поездки.\n",
    "\n",
    "<b>*Подписки — 'subscriptions_go.csv'*:</b><br>\n",
    "  - 'subscription_type' - тип подписки;\n",
    "  - 'minute_price' - стоимость одной минуты поездки по данной подписке;\n",
    "  - 'start_ride_price' - стоимость начала поездки;\n",
    "  - 'subscription_fee' - стоимость ежемесячного платёж."
   ]
  },
  {
   "cell_type": "markdown",
   "id": "280f4eaf",
   "metadata": {},
   "source": [
    "<b>План работ:</b><br>\n",
    "1. Загрузить данные о пользователях, поездках и подписках. Посмотреть данные на предмет готовности к анализу.\n",
    "2. Преобразовать столбец с датой, добавить столбец с номером месяца, и проверить данные на наличие пропущенных значений и дубликатов.\n",
    "3. Исследовать данные о пользователях и поездках: частота городов, соотношение пользователей с подпиской, возраст пользователей, расстояние и продолжительность поездок.\n",
    "4. Объединить данные о пользователях, поездках и подписках; создайть датафреймы для пользователей без подписки и с подпиской.\n",
    "5. Подсчитать выручку: агрегировать данные о поездках, найти суммарное расстояние, количество поездок, время и выручку для каждого пользователя.\n",
    "6. Проверить гипотезы."
   ]
  },
  {
   "cell_type": "code",
   "execution_count": null,
   "id": "3f258ab8",
   "metadata": {},
   "outputs": [],
   "source": [
    "import pandas as pd\n",
    "import numpy as np\n",
    "import matplotlib.pyplot as plt\n",
    "from scipy import stats as st\n",
    "from scipy.stats import binom\n",
    "from scipy.stats import norm"
   ]
  },
  {
   "cell_type": "markdown",
   "id": "9c878d0d",
   "metadata": {},
   "source": [
    "#### Шаг 1. Загрузка данных"
   ]
  },
  {
   "cell_type": "code",
   "execution_count": null,
   "id": "c1e2089a",
   "metadata": {},
   "outputs": [],
   "source": [
    "users = pd.read_csv('/datasets/users_go.csv')\n",
    "rides = pd.read_csv('/datasets/rides_go.csv')\n",
    "subs = pd.read_csv('/datasets/subscriptions_go.csv')"
   ]
  },
  {
   "cell_type": "code",
   "execution_count": null,
   "id": "8ae1774c",
   "metadata": {},
   "outputs": [],
   "source": [
    "pd.set_option('display.max_columns', None)"
   ]
  },
  {
   "cell_type": "code",
   "execution_count": null,
   "id": "25765cb5",
   "metadata": {},
   "outputs": [
    {
     "name": "stdout",
     "output_type": "stream",
     "text": [
      "<class 'pandas.core.frame.DataFrame'>\n",
      "RangeIndex: 1565 entries, 0 to 1564\n",
      "Data columns (total 5 columns):\n",
      " #   Column             Non-Null Count  Dtype \n",
      "---  ------             --------------  ----- \n",
      " 0   user_id            1565 non-null   int64 \n",
      " 1   name               1565 non-null   object\n",
      " 2   age                1565 non-null   int64 \n",
      " 3   city               1565 non-null   object\n",
      " 4   subscription_type  1565 non-null   object\n",
      "dtypes: int64(2), object(3)\n",
      "memory usage: 61.3+ KB\n",
      "None\n",
      "           user_id          age\n",
      "count  1565.000000  1565.000000\n",
      "mean    762.633866    24.922045\n",
      "std     443.260155     4.553496\n",
      "min       1.000000    12.000000\n",
      "25%     378.000000    22.000000\n",
      "50%     762.000000    25.000000\n",
      "75%    1146.000000    28.000000\n",
      "max    1534.000000    43.000000\n"
     ]
    },
    {
     "data": {
      "text/html": [
       "<div>\n",
       "<style scoped>\n",
       "    .dataframe tbody tr th:only-of-type {\n",
       "        vertical-align: middle;\n",
       "    }\n",
       "\n",
       "    .dataframe tbody tr th {\n",
       "        vertical-align: top;\n",
       "    }\n",
       "\n",
       "    .dataframe thead th {\n",
       "        text-align: right;\n",
       "    }\n",
       "</style>\n",
       "<table border=\"1\" class=\"dataframe\">\n",
       "  <thead>\n",
       "    <tr style=\"text-align: right;\">\n",
       "      <th></th>\n",
       "      <th>user_id</th>\n",
       "      <th>name</th>\n",
       "      <th>age</th>\n",
       "      <th>city</th>\n",
       "      <th>subscription_type</th>\n",
       "    </tr>\n",
       "  </thead>\n",
       "  <tbody>\n",
       "    <tr>\n",
       "      <th>0</th>\n",
       "      <td>1</td>\n",
       "      <td>Кира</td>\n",
       "      <td>22</td>\n",
       "      <td>Тюмень</td>\n",
       "      <td>ultra</td>\n",
       "    </tr>\n",
       "    <tr>\n",
       "      <th>1</th>\n",
       "      <td>2</td>\n",
       "      <td>Станислав</td>\n",
       "      <td>31</td>\n",
       "      <td>Омск</td>\n",
       "      <td>ultra</td>\n",
       "    </tr>\n",
       "    <tr>\n",
       "      <th>2</th>\n",
       "      <td>3</td>\n",
       "      <td>Алексей</td>\n",
       "      <td>20</td>\n",
       "      <td>Москва</td>\n",
       "      <td>ultra</td>\n",
       "    </tr>\n",
       "    <tr>\n",
       "      <th>3</th>\n",
       "      <td>4</td>\n",
       "      <td>Константин</td>\n",
       "      <td>26</td>\n",
       "      <td>Ростов-на-Дону</td>\n",
       "      <td>ultra</td>\n",
       "    </tr>\n",
       "    <tr>\n",
       "      <th>4</th>\n",
       "      <td>5</td>\n",
       "      <td>Адель</td>\n",
       "      <td>28</td>\n",
       "      <td>Омск</td>\n",
       "      <td>ultra</td>\n",
       "    </tr>\n",
       "    <tr>\n",
       "      <th>5</th>\n",
       "      <td>6</td>\n",
       "      <td>Регина</td>\n",
       "      <td>25</td>\n",
       "      <td>Краснодар</td>\n",
       "      <td>ultra</td>\n",
       "    </tr>\n",
       "    <tr>\n",
       "      <th>6</th>\n",
       "      <td>7</td>\n",
       "      <td>Игорь</td>\n",
       "      <td>23</td>\n",
       "      <td>Омск</td>\n",
       "      <td>ultra</td>\n",
       "    </tr>\n",
       "    <tr>\n",
       "      <th>7</th>\n",
       "      <td>8</td>\n",
       "      <td>Юрий</td>\n",
       "      <td>23</td>\n",
       "      <td>Краснодар</td>\n",
       "      <td>ultra</td>\n",
       "    </tr>\n",
       "    <tr>\n",
       "      <th>8</th>\n",
       "      <td>9</td>\n",
       "      <td>Ян</td>\n",
       "      <td>21</td>\n",
       "      <td>Пятигорск</td>\n",
       "      <td>ultra</td>\n",
       "    </tr>\n",
       "    <tr>\n",
       "      <th>9</th>\n",
       "      <td>10</td>\n",
       "      <td>Валерий</td>\n",
       "      <td>18</td>\n",
       "      <td>Екатеринбург</td>\n",
       "      <td>ultra</td>\n",
       "    </tr>\n",
       "  </tbody>\n",
       "</table>\n",
       "</div>"
      ],
      "text/plain": [
       "   user_id        name  age            city subscription_type\n",
       "0        1        Кира   22          Тюмень             ultra\n",
       "1        2   Станислав   31            Омск             ultra\n",
       "2        3     Алексей   20          Москва             ultra\n",
       "3        4  Константин   26  Ростов-на-Дону             ultra\n",
       "4        5       Адель   28            Омск             ultra\n",
       "5        6      Регина   25       Краснодар             ultra\n",
       "6        7       Игорь   23            Омск             ultra\n",
       "7        8        Юрий   23       Краснодар             ultra\n",
       "8        9          Ян   21       Пятигорск             ultra\n",
       "9       10     Валерий   18    Екатеринбург             ultra"
      ]
     },
     "execution_count": 4,
     "metadata": {},
     "output_type": "execute_result"
    },
    {
     "data": {
      "image/png": "[encoded data removed]",
      "text/plain": [
       "<Figure size 720x432 with 2 Axes>"
      ]
     },
     "metadata": {
      "needs_background": "light"
     },
     "output_type": "display_data"
    }
   ],
   "source": [
    "print(users.info())\n",
    "print(users.describe())\n",
    "users.hist(figsize=(10, 6), bins=30, edgecolor='black')\n",
    "users.head(10)"
   ]
  },
  {
   "cell_type": "markdown",
   "id": "79e1f1fe",
   "metadata": {},
   "source": [
    "DF users имеет 5 столбцов и 1565 строк без пропусков. Типы столбцов в порядке, изменение не требуется. Названия столбцов соответствуют змеиному стилю."
   ]
  },
  {
   "cell_type": "code",
   "execution_count": null,
   "id": "b570383d",
   "metadata": {},
   "outputs": [
    {
     "name": "stdout",
     "output_type": "stream",
     "text": [
      "<class 'pandas.core.frame.DataFrame'>\n",
      "RangeIndex: 18068 entries, 0 to 18067\n",
      "Data columns (total 4 columns):\n",
      " #   Column    Non-Null Count  Dtype  \n",
      "---  ------    --------------  -----  \n",
      " 0   user_id   18068 non-null  int64  \n",
      " 1   distance  18068 non-null  float64\n",
      " 2   duration  18068 non-null  float64\n",
      " 3   date      18068 non-null  object \n",
      "dtypes: float64(2), int64(1), object(1)\n",
      "memory usage: 564.8+ KB\n",
      "None\n",
      "            user_id      distance      duration\n",
      "count  18068.000000  18068.000000  18068.000000\n",
      "mean     842.869936   3070.659976     17.805011\n",
      "std      434.734317   1116.831209      6.091051\n",
      "min        1.000000      0.855683      0.500000\n",
      "25%      487.000000   2543.226360     13.597563\n",
      "50%      889.000000   3133.609994     17.678395\n",
      "75%     1213.250000   3776.222735     21.724800\n",
      "max     1534.000000   7211.007745     40.823963\n"
     ]
    },
    {
     "data": {
      "text/html": [
       "<div>\n",
       "<style scoped>\n",
       "    .dataframe tbody tr th:only-of-type {\n",
       "        vertical-align: middle;\n",
       "    }\n",
       "\n",
       "    .dataframe tbody tr th {\n",
       "        vertical-align: top;\n",
       "    }\n",
       "\n",
       "    .dataframe thead th {\n",
       "        text-align: right;\n",
       "    }\n",
       "</style>\n",
       "<table border=\"1\" class=\"dataframe\">\n",
       "  <thead>\n",
       "    <tr style=\"text-align: right;\">\n",
       "      <th></th>\n",
       "      <th>user_id</th>\n",
       "      <th>distance</th>\n",
       "      <th>duration</th>\n",
       "      <th>date</th>\n",
       "    </tr>\n",
       "  </thead>\n",
       "  <tbody>\n",
       "    <tr>\n",
       "      <th>0</th>\n",
       "      <td>1</td>\n",
       "      <td>4409.919140</td>\n",
       "      <td>25.599769</td>\n",
       "      <td>2021-01-01</td>\n",
       "    </tr>\n",
       "    <tr>\n",
       "      <th>1</th>\n",
       "      <td>1</td>\n",
       "      <td>2617.592153</td>\n",
       "      <td>15.816871</td>\n",
       "      <td>2021-01-18</td>\n",
       "    </tr>\n",
       "    <tr>\n",
       "      <th>2</th>\n",
       "      <td>1</td>\n",
       "      <td>754.159807</td>\n",
       "      <td>6.232113</td>\n",
       "      <td>2021-04-20</td>\n",
       "    </tr>\n",
       "    <tr>\n",
       "      <th>3</th>\n",
       "      <td>1</td>\n",
       "      <td>2694.783254</td>\n",
       "      <td>18.511000</td>\n",
       "      <td>2021-08-11</td>\n",
       "    </tr>\n",
       "    <tr>\n",
       "      <th>4</th>\n",
       "      <td>1</td>\n",
       "      <td>4028.687306</td>\n",
       "      <td>26.265803</td>\n",
       "      <td>2021-08-28</td>\n",
       "    </tr>\n",
       "    <tr>\n",
       "      <th>5</th>\n",
       "      <td>1</td>\n",
       "      <td>2770.890808</td>\n",
       "      <td>16.650138</td>\n",
       "      <td>2021-10-09</td>\n",
       "    </tr>\n",
       "    <tr>\n",
       "      <th>6</th>\n",
       "      <td>1</td>\n",
       "      <td>3039.020292</td>\n",
       "      <td>14.927879</td>\n",
       "      <td>2021-10-19</td>\n",
       "    </tr>\n",
       "    <tr>\n",
       "      <th>7</th>\n",
       "      <td>1</td>\n",
       "      <td>2842.118050</td>\n",
       "      <td>23.117468</td>\n",
       "      <td>2021-11-06</td>\n",
       "    </tr>\n",
       "    <tr>\n",
       "      <th>8</th>\n",
       "      <td>1</td>\n",
       "      <td>3412.690668</td>\n",
       "      <td>15.238072</td>\n",
       "      <td>2021-11-14</td>\n",
       "    </tr>\n",
       "    <tr>\n",
       "      <th>9</th>\n",
       "      <td>1</td>\n",
       "      <td>748.690645</td>\n",
       "      <td>15.041884</td>\n",
       "      <td>2021-11-22</td>\n",
       "    </tr>\n",
       "  </tbody>\n",
       "</table>\n",
       "</div>"
      ],
      "text/plain": [
       "   user_id     distance   duration        date\n",
       "0        1  4409.919140  25.599769  2021-01-01\n",
       "1        1  2617.592153  15.816871  2021-01-18\n",
       "2        1   754.159807   6.232113  2021-04-20\n",
       "3        1  2694.783254  18.511000  2021-08-11\n",
       "4        1  4028.687306  26.265803  2021-08-28\n",
       "5        1  2770.890808  16.650138  2021-10-09\n",
       "6        1  3039.020292  14.927879  2021-10-19\n",
       "7        1  2842.118050  23.117468  2021-11-06\n",
       "8        1  3412.690668  15.238072  2021-11-14\n",
       "9        1   748.690645  15.041884  2021-11-22"
      ]
     },
     "execution_count": 5,
     "metadata": {},
     "output_type": "execute_result"
    },
    {
     "data": {
      "image/png": "[encoded data removed]",
      "text/plain": [
       "<Figure size 720x432 with 4 Axes>"
      ]
     },
     "metadata": {
      "needs_background": "light"
     },
     "output_type": "display_data"
    }
   ],
   "source": [
    "print(rides.info())\n",
    "print(rides.describe())\n",
    "rides.hist(figsize=(10, 6), edgecolor='black')\n",
    "rides.head(10)"
   ]
  },
  {
   "cell_type": "markdown",
   "id": "d4f1fd96",
   "metadata": {},
   "source": [
    "DF rides имеет 4 столбца и 18068 строк без пропусков. Тип столбца 'date'- object следует заменить на datetime. Названия столбцов соответствуют змеиному стилю. "
   ]
  },
  {
   "cell_type": "code",
   "execution_count": null,
   "id": "5153941e",
   "metadata": {},
   "outputs": [
    {
     "name": "stdout",
     "output_type": "stream",
     "text": [
      "<class 'pandas.core.frame.DataFrame'>\n",
      "RangeIndex: 2 entries, 0 to 1\n",
      "Data columns (total 4 columns):\n",
      " #   Column             Non-Null Count  Dtype \n",
      "---  ------             --------------  ----- \n",
      " 0   subscription_type  2 non-null      object\n",
      " 1   minute_price       2 non-null      int64 \n",
      " 2   start_ride_price   2 non-null      int64 \n",
      " 3   subscription_fee   2 non-null      int64 \n",
      "dtypes: int64(3), object(1)\n",
      "memory usage: 192.0+ bytes\n"
     ]
    },
    {
     "data": {
      "text/html": [
       "<div>\n",
       "<style scoped>\n",
       "    .dataframe tbody tr th:only-of-type {\n",
       "        vertical-align: middle;\n",
       "    }\n",
       "\n",
       "    .dataframe tbody tr th {\n",
       "        vertical-align: top;\n",
       "    }\n",
       "\n",
       "    .dataframe thead th {\n",
       "        text-align: right;\n",
       "    }\n",
       "</style>\n",
       "<table border=\"1\" class=\"dataframe\">\n",
       "  <thead>\n",
       "    <tr style=\"text-align: right;\">\n",
       "      <th></th>\n",
       "      <th>subscription_type</th>\n",
       "      <th>minute_price</th>\n",
       "      <th>start_ride_price</th>\n",
       "      <th>subscription_fee</th>\n",
       "    </tr>\n",
       "  </thead>\n",
       "  <tbody>\n",
       "    <tr>\n",
       "      <th>0</th>\n",
       "      <td>free</td>\n",
       "      <td>8</td>\n",
       "      <td>50</td>\n",
       "      <td>0</td>\n",
       "    </tr>\n",
       "    <tr>\n",
       "      <th>1</th>\n",
       "      <td>ultra</td>\n",
       "      <td>6</td>\n",
       "      <td>0</td>\n",
       "      <td>199</td>\n",
       "    </tr>\n",
       "  </tbody>\n",
       "</table>\n",
       "</div>"
      ],
      "text/plain": [
       "  subscription_type  minute_price  start_ride_price  subscription_fee\n",
       "0              free             8                50                 0\n",
       "1             ultra             6                 0               199"
      ]
     },
     "execution_count": 6,
     "metadata": {},
     "output_type": "execute_result"
    }
   ],
   "source": [
    "subs.info()\n",
    "subs.head()"
   ]
  },
  {
   "cell_type": "markdown",
   "id": "846f18f2",
   "metadata": {},
   "source": [
    "DF subs имеет 4 столбца и 2 строки без пропусков и выбросов. Типы столбцов в порядке, изменение не требуется. Названия столбцов соответствуют змеиному стилю."
   ]
  },
  {
   "cell_type": "markdown",
   "id": "bbdc792c",
   "metadata": {},
   "source": [
    "#### Шаг 2. Предобработка данных"
   ]
  },
  {
   "cell_type": "markdown",
   "id": "2f6bb76b",
   "metadata": {},
   "source": [
    "2.1 Приведение столбеца date к типу даты pandas."
   ]
  },
  {
   "cell_type": "code",
   "execution_count": null,
   "id": "78c77069",
   "metadata": {},
   "outputs": [],
   "source": [
    "rides['date'] = pd.to_datetime(rides['date'], format='%Y-%m-%d')\n",
    "# изменение типа данных с object на datetime"
   ]
  },
  {
   "cell_type": "markdown",
   "id": "175e1f04",
   "metadata": {},
   "source": [
    "2.2 Создание нового столбца с номером месяца на основе столбца date."
   ]
  },
  {
   "cell_type": "code",
   "execution_count": null,
   "id": "f432bdc7",
   "metadata": {},
   "outputs": [
    {
     "name": "stdout",
     "output_type": "stream",
     "text": [
      "Диапозон доступных для анализа дат:\n",
      "Минимальная дата: 2021-01-01 00:00:00\n",
      "Максимальная дата: 2021-12-30 00:00:00\n"
     ]
    },
    {
     "data": {
      "image/png": "[encoded data removed]",
      "text/plain": [
       "<Figure size 432x288 with 1 Axes>"
      ]
     },
     "metadata": {
      "needs_background": "light"
     },
     "output_type": "display_data"
    }
   ],
   "source": [
    "print('Диапозон доступных для анализа дат:')\n",
    "print('Минимальная дата:', rides['date'].min())\n",
    "print('Максимальная дата:', rides['date'].max())\n",
    "rides['date'].hist(bins=12, edgecolor='black');"
   ]
  },
  {
   "cell_type": "code",
   "execution_count": null,
   "id": "3d7ad66a",
   "metadata": {},
   "outputs": [
    {
     "data": {
      "image/png": "[encoded data removed]",
      "text/plain": [
       "<Figure size 432x288 with 1 Axes>"
      ]
     },
     "metadata": {
      "needs_background": "light"
     },
     "output_type": "display_data"
    }
   ],
   "source": [
    "rides['month'] = rides['date'].dt.month\n",
    "# 'month' - cтолбец с номером месяца\n",
    "\n",
    "rides['month'].hist(bins=12, edgecolor='black');"
   ]
  },
  {
   "cell_type": "markdown",
   "id": "bb03b116",
   "metadata": {},
   "source": [
    "2.3 Обработка пропущенных значений и дубликатов."
   ]
  },
  {
   "cell_type": "code",
   "execution_count": null,
   "id": "3ba4f224",
   "metadata": {},
   "outputs": [
    {
     "name": "stdout",
     "output_type": "stream",
     "text": [
      "Количество дубликатов: 31\n"
     ]
    }
   ],
   "source": [
    "print('Количество дубликатов:', users.duplicated().sum())"
   ]
  },
  {
   "cell_type": "code",
   "execution_count": null,
   "id": "37b3b480",
   "metadata": {},
   "outputs": [
    {
     "name": "stdout",
     "output_type": "stream",
     "text": [
      "Количество пропусков:\n",
      " user_id              0\n",
      "name                 0\n",
      "age                  0\n",
      "city                 0\n",
      "subscription_type    0\n",
      "dtype: int64\n"
     ]
    }
   ],
   "source": [
    "print('Количество пропусков:\\n', users.isnull().sum())"
   ]
  },
  {
   "cell_type": "code",
   "execution_count": null,
   "id": "91e1e6e5",
   "metadata": {},
   "outputs": [],
   "source": [
    "users.drop_duplicates(subset='user_id', inplace=True) \n",
    "# удаление дубликатов"
   ]
  },
  {
   "cell_type": "code",
   "execution_count": null,
   "id": "605ad197",
   "metadata": {},
   "outputs": [
    {
     "name": "stdout",
     "output_type": "stream",
     "text": [
      "Количество дубликатов после очистки: 0\n"
     ]
    }
   ],
   "source": [
    "print('Количество дубликатов после очистки:', users.duplicated(subset='user_id').sum())"
   ]
  },
  {
   "cell_type": "code",
   "execution_count": null,
   "id": "38dfbca6",
   "metadata": {},
   "outputs": [
    {
     "data": {
      "text/plain": [
       "array(['Тюмень', 'Омск', 'Москва', 'Ростов-на-Дону', 'Краснодар',\n",
       "       'Пятигорск', 'Екатеринбург', 'Сочи'], dtype=object)"
      ]
     },
     "execution_count": 14,
     "metadata": {},
     "output_type": "execute_result"
    }
   ],
   "source": [
    "users['city'].unique() \n",
    "# неявных дубликатов названий городов нет"
   ]
  },
  {
   "cell_type": "code",
   "execution_count": null,
   "id": "e26f3c4f",
   "metadata": {},
   "outputs": [
    {
     "name": "stdout",
     "output_type": "stream",
     "text": [
      "<class 'pandas.core.frame.DataFrame'>\n",
      "Int64Index: 1534 entries, 0 to 1533\n",
      "Data columns (total 5 columns):\n",
      " #   Column             Non-Null Count  Dtype \n",
      "---  ------             --------------  ----- \n",
      " 0   user_id            1534 non-null   int64 \n",
      " 1   name               1534 non-null   object\n",
      " 2   age                1534 non-null   int64 \n",
      " 3   city               1534 non-null   object\n",
      " 4   subscription_type  1534 non-null   object\n",
      "dtypes: int64(2), object(3)\n",
      "memory usage: 71.9+ KB\n"
     ]
    }
   ],
   "source": [
    "users.info()"
   ]
  },
  {
   "cell_type": "markdown",
   "id": "c624f4a5",
   "metadata": {},
   "source": [
    "После предобработки количество строк в DF users уменьшилось с 1565 до 1534, удален 31 дубликат user_id, пропусков нет."
   ]
  },
  {
   "cell_type": "code",
   "execution_count": null,
   "id": "5fa838ef",
   "metadata": {},
   "outputs": [
    {
     "name": "stdout",
     "output_type": "stream",
     "text": [
      "<class 'pandas.core.frame.DataFrame'>\n",
      "RangeIndex: 18068 entries, 0 to 18067\n",
      "Data columns (total 5 columns):\n",
      " #   Column    Non-Null Count  Dtype         \n",
      "---  ------    --------------  -----         \n",
      " 0   user_id   18068 non-null  int64         \n",
      " 1   distance  18068 non-null  float64       \n",
      " 2   duration  18068 non-null  float64       \n",
      " 3   date      18068 non-null  datetime64[ns]\n",
      " 4   month     18068 non-null  int64         \n",
      "dtypes: datetime64[ns](1), float64(2), int64(2)\n",
      "memory usage: 705.9 KB\n",
      "1534 уникальных user_id\n"
     ]
    }
   ],
   "source": [
    "#rides.duplicated().sum() - 0 дубликатов\n",
    "#rides.isnull().sum() - 0 пропусков\n",
    "\n",
    "rides.info()\n",
    "\n",
    "print(len(rides['user_id'].unique()), 'уникальных user_id')"
   ]
  },
  {
   "cell_type": "markdown",
   "id": "b2c2ed79",
   "metadata": {},
   "source": [
    "После предобработки количество строк в DF rides осталось неизменным - 18068. Пропусков нет. Изменен тип данных с object на datetime в столбце date. Добавлен столбец 'month' с номером месяца. Количество уникальных user_id в DF rides соответсвтует этому же значению в DF users. "
   ]
  },
  {
   "cell_type": "markdown",
   "id": "00654bf7",
   "metadata": {},
   "source": [
    "#### Шаг 3. Исследовательский анализ данных"
   ]
  },
  {
   "cell_type": "markdown",
   "id": "890479a6",
   "metadata": {},
   "source": [
    "3.1 Частота встречаемости городов."
   ]
  },
  {
   "cell_type": "code",
   "execution_count": null,
   "id": "7191135d",
   "metadata": {},
   "outputs": [
    {
     "data": {
      "image/png": "[encoded data removed]",
      "text/plain": [
       "<Figure size 720x432 with 1 Axes>"
      ]
     },
     "metadata": {
      "needs_background": "light"
     },
     "output_type": "display_data"
    }
   ],
   "source": [
    "# Подсчет количества пользователей в каждом городе\n",
    "citys_freq = users['city'].value_counts()\n",
    "\n",
    "colors = plt.cm.viridis(citys_freq / float(max(citys_freq)))\n",
    "\n",
    "# Визуализация частоты встречаемости городов\n",
    "plt.figure(figsize=(10, 6))\n",
    "citys_freq.sort_values().plot(kind='barh', color=colors)\n",
    "plt.title('Частота встречаемости городов')\n",
    "plt.ylabel('Город')\n",
    "plt.xlabel('Количество пользователей')\n",
    "plt.grid(axis='x', linestyle='-')\n",
    "plt.show()"
   ]
  },
  {
   "cell_type": "code",
   "execution_count": null,
   "id": "a331d2e8",
   "metadata": {},
   "outputs": [
    {
     "data": {
      "text/html": [
       "<div>\n",
       "<style scoped>\n",
       "    .dataframe tbody tr th:only-of-type {\n",
       "        vertical-align: middle;\n",
       "    }\n",
       "\n",
       "    .dataframe tbody tr th {\n",
       "        vertical-align: top;\n",
       "    }\n",
       "\n",
       "    .dataframe thead th {\n",
       "        text-align: right;\n",
       "    }\n",
       "</style>\n",
       "<table border=\"1\" class=\"dataframe\">\n",
       "  <thead>\n",
       "    <tr style=\"text-align: right;\">\n",
       "      <th></th>\n",
       "      <th>Город</th>\n",
       "      <th>Пользователи</th>\n",
       "      <th>Часть %</th>\n",
       "    </tr>\n",
       "  </thead>\n",
       "  <tbody>\n",
       "    <tr>\n",
       "      <th>0</th>\n",
       "      <td>Пятигорск</td>\n",
       "      <td>219</td>\n",
       "      <td>14.276402</td>\n",
       "    </tr>\n",
       "    <tr>\n",
       "      <th>1</th>\n",
       "      <td>Екатеринбург</td>\n",
       "      <td>204</td>\n",
       "      <td>13.298566</td>\n",
       "    </tr>\n",
       "    <tr>\n",
       "      <th>2</th>\n",
       "      <td>Ростов-на-Дону</td>\n",
       "      <td>198</td>\n",
       "      <td>12.907432</td>\n",
       "    </tr>\n",
       "    <tr>\n",
       "      <th>3</th>\n",
       "      <td>Краснодар</td>\n",
       "      <td>193</td>\n",
       "      <td>12.581486</td>\n",
       "    </tr>\n",
       "    <tr>\n",
       "      <th>4</th>\n",
       "      <td>Сочи</td>\n",
       "      <td>189</td>\n",
       "      <td>12.320730</td>\n",
       "    </tr>\n",
       "    <tr>\n",
       "      <th>5</th>\n",
       "      <td>Омск</td>\n",
       "      <td>183</td>\n",
       "      <td>11.929596</td>\n",
       "    </tr>\n",
       "    <tr>\n",
       "      <th>6</th>\n",
       "      <td>Тюмень</td>\n",
       "      <td>180</td>\n",
       "      <td>11.734029</td>\n",
       "    </tr>\n",
       "    <tr>\n",
       "      <th>7</th>\n",
       "      <td>Москва</td>\n",
       "      <td>168</td>\n",
       "      <td>10.951760</td>\n",
       "    </tr>\n",
       "  </tbody>\n",
       "</table>\n",
       "</div>"
      ],
      "text/plain": [
       "            Город  Пользователи    Часть %\n",
       "0       Пятигорск           219  14.276402\n",
       "1    Екатеринбург           204  13.298566\n",
       "2  Ростов-на-Дону           198  12.907432\n",
       "3       Краснодар           193  12.581486\n",
       "4            Сочи           189  12.320730\n",
       "5            Омск           183  11.929596\n",
       "6          Тюмень           180  11.734029\n",
       "7          Москва           168  10.951760"
      ]
     },
     "execution_count": 18,
     "metadata": {},
     "output_type": "execute_result"
    }
   ],
   "source": [
    "citys_freq = citys_freq.sort_values(ascending=False).reset_index()\n",
    "citys_freq.columns = ['Город', 'Пользователи']\n",
    "total_users = citys_freq['Пользователи'].sum()\n",
    "citys_freq['Часть %'] = (citys_freq['Пользователи'] / total_users) * 100\n",
    "\n",
    "citys_freq"
   ]
  },
  {
   "cell_type": "markdown",
   "id": "f40c653e",
   "metadata": {},
   "source": [
    "Наибольшее количество пользователей сервиса в городе Пятигорск (219 / 14.28%), наименьшее в Москве (168 / 10.95%)."
   ]
  },
  {
   "cell_type": "markdown",
   "id": "8c9c4614",
   "metadata": {},
   "source": [
    "3.2 Соотношение пользователей с подпиской и без подписки."
   ]
  },
  {
   "cell_type": "code",
   "execution_count": null,
   "id": "e72286c7",
   "metadata": {},
   "outputs": [
    {
     "data": {
      "image/png": "[encoded data removed]",
      "text/plain": [
       "<Figure size 576x576 with 1 Axes>"
      ]
     },
     "metadata": {},
     "output_type": "display_data"
    }
   ],
   "source": [
    "# Подсчет количества пользователей с подпиской и без подписки\n",
    "subs_type = users['subscription_type'].value_counts()\n",
    "\n",
    "colors = plt.cm.viridis(subs_type / float(max(subs_type)))\n",
    "\n",
    "# Визуализация соотношения пользователей с подпиской и без подписки\n",
    "#plt.figure(figsize=(10, 4))\n",
    "#subs_type.sort_values().plot(kind='barh', color=colors)\n",
    "#plt.title('Соотношение пользователей с подпиской и без подписки')\n",
    "#plt.ylabel('Вариант подписки')\n",
    "#plt.xlabel('Количество пользователей')\n",
    "#plt.grid(axis='x', linestyle='-')\n",
    "#plt.show()\n",
    "\n",
    "plt.figure(figsize=(8, 8))\n",
    "plt.pie(subs_type, labels=subs_type.index, autopct='%1.1f%%', colors=colors, startangle=140, textprops={'fontsize': 14})\n",
    "plt.title('Соотношение пользователей с подпиской и без подписки')\n",
    "plt.show()"
   ]
  },
  {
   "cell_type": "code",
   "execution_count": null,
   "id": "21b8b556",
   "metadata": {},
   "outputs": [
    {
     "data": {
      "text/html": [
       "<div>\n",
       "<style scoped>\n",
       "    .dataframe tbody tr th:only-of-type {\n",
       "        vertical-align: middle;\n",
       "    }\n",
       "\n",
       "    .dataframe tbody tr th {\n",
       "        vertical-align: top;\n",
       "    }\n",
       "\n",
       "    .dataframe thead th {\n",
       "        text-align: right;\n",
       "    }\n",
       "</style>\n",
       "<table border=\"1\" class=\"dataframe\">\n",
       "  <thead>\n",
       "    <tr style=\"text-align: right;\">\n",
       "      <th></th>\n",
       "      <th>Вариант подписки</th>\n",
       "      <th>Пользователи</th>\n",
       "      <th>Часть %</th>\n",
       "    </tr>\n",
       "  </thead>\n",
       "  <tbody>\n",
       "    <tr>\n",
       "      <th>0</th>\n",
       "      <td>free</td>\n",
       "      <td>835</td>\n",
       "      <td>54.432855</td>\n",
       "    </tr>\n",
       "    <tr>\n",
       "      <th>1</th>\n",
       "      <td>ultra</td>\n",
       "      <td>699</td>\n",
       "      <td>45.567145</td>\n",
       "    </tr>\n",
       "  </tbody>\n",
       "</table>\n",
       "</div>"
      ],
      "text/plain": [
       "  Вариант подписки  Пользователи    Часть %\n",
       "0             free           835  54.432855\n",
       "1            ultra           699  45.567145"
      ]
     },
     "execution_count": 20,
     "metadata": {},
     "output_type": "execute_result"
    }
   ],
   "source": [
    "subs_type = subs_type.sort_values(ascending=False).reset_index()\n",
    "subs_type.columns = ['Вариант подписки', 'Пользователи']\n",
    "total_users = subs_type['Пользователи'].sum()\n",
    "subs_type['Часть %'] = (subs_type['Пользователи'] / total_users) * 100\n",
    "\n",
    "subs_type"
   ]
  },
  {
   "cell_type": "markdown",
   "id": "aed2bca5",
   "metadata": {},
   "source": [
    "Пользователей с подпиской free 835 / 54.43% от общего числа. Подпиской ultra пользуются 699 / 45.57% от общего числа пользователей."
   ]
  },
  {
   "cell_type": "markdown",
   "id": "dec48f8c",
   "metadata": {},
   "source": [
    "3.3 Возраст пользователей."
   ]
  },
  {
   "cell_type": "code",
   "execution_count": null,
   "id": "719b86fb",
   "metadata": {},
   "outputs": [
    {
     "data": {
      "image/png": "[encoded data removed]",
      "text/plain": [
       "<Figure size 720x432 with 1 Axes>"
      ]
     },
     "metadata": {
      "needs_background": "light"
     },
     "output_type": "display_data"
    },
    {
     "name": "stdout",
     "output_type": "stream",
     "text": [
      "count    1534.000000\n",
      "mean       24.903520\n",
      "std         4.572367\n",
      "min        12.000000\n",
      "25%        22.000000\n",
      "50%        25.000000\n",
      "75%        28.000000\n",
      "max        43.000000\n",
      "Name: age, dtype: float64\n"
     ]
    }
   ],
   "source": [
    "# Подсчет количества пользователей с разным возрастом\n",
    "users_age = users['age'].value_counts()\n",
    "\n",
    "# Визуализация возраста пользователей\n",
    "plt.figure(figsize=(10, 6))\n",
    "users['age'].sort_values(ascending=False).plot(kind='hist', bins=30, edgecolor='black') \n",
    "plt.title('Возраст пользователей')\n",
    "plt.ylabel('Количество пользователей')\n",
    "plt.xlabel('Возраст')\n",
    "plt.grid(axis='y', linestyle='-')\n",
    "plt.show()\n",
    "\n",
    "print(users['age'].describe())"
   ]
  },
  {
   "cell_type": "code",
   "execution_count": null,
   "id": "6608a96d",
   "metadata": {},
   "outputs": [
    {
     "data": {
      "text/html": [
       "<div>\n",
       "<style scoped>\n",
       "    .dataframe tbody tr th:only-of-type {\n",
       "        vertical-align: middle;\n",
       "    }\n",
       "\n",
       "    .dataframe tbody tr th {\n",
       "        vertical-align: top;\n",
       "    }\n",
       "\n",
       "    .dataframe thead th {\n",
       "        text-align: right;\n",
       "    }\n",
       "</style>\n",
       "<table border=\"1\" class=\"dataframe\">\n",
       "  <thead>\n",
       "    <tr style=\"text-align: right;\">\n",
       "      <th></th>\n",
       "      <th>Возраст</th>\n",
       "      <th>Пользователи</th>\n",
       "      <th>Часть %</th>\n",
       "    </tr>\n",
       "  </thead>\n",
       "  <tbody>\n",
       "    <tr>\n",
       "      <th>0</th>\n",
       "      <td>25</td>\n",
       "      <td>145</td>\n",
       "      <td>9.452412</td>\n",
       "    </tr>\n",
       "    <tr>\n",
       "      <th>1</th>\n",
       "      <td>24</td>\n",
       "      <td>132</td>\n",
       "      <td>8.604954</td>\n",
       "    </tr>\n",
       "    <tr>\n",
       "      <th>2</th>\n",
       "      <td>26</td>\n",
       "      <td>131</td>\n",
       "      <td>8.539765</td>\n",
       "    </tr>\n",
       "    <tr>\n",
       "      <th>3</th>\n",
       "      <td>23</td>\n",
       "      <td>129</td>\n",
       "      <td>8.409387</td>\n",
       "    </tr>\n",
       "    <tr>\n",
       "      <th>4</th>\n",
       "      <td>27</td>\n",
       "      <td>119</td>\n",
       "      <td>7.757497</td>\n",
       "    </tr>\n",
       "    <tr>\n",
       "      <th>5</th>\n",
       "      <td>22</td>\n",
       "      <td>119</td>\n",
       "      <td>7.757497</td>\n",
       "    </tr>\n",
       "    <tr>\n",
       "      <th>6</th>\n",
       "      <td>28</td>\n",
       "      <td>112</td>\n",
       "      <td>7.301173</td>\n",
       "    </tr>\n",
       "    <tr>\n",
       "      <th>7</th>\n",
       "      <td>21</td>\n",
       "      <td>93</td>\n",
       "      <td>6.062581</td>\n",
       "    </tr>\n",
       "    <tr>\n",
       "      <th>8</th>\n",
       "      <td>20</td>\n",
       "      <td>71</td>\n",
       "      <td>4.628422</td>\n",
       "    </tr>\n",
       "    <tr>\n",
       "      <th>9</th>\n",
       "      <td>30</td>\n",
       "      <td>68</td>\n",
       "      <td>4.432855</td>\n",
       "    </tr>\n",
       "    <tr>\n",
       "      <th>10</th>\n",
       "      <td>29</td>\n",
       "      <td>68</td>\n",
       "      <td>4.432855</td>\n",
       "    </tr>\n",
       "    <tr>\n",
       "      <th>11</th>\n",
       "      <td>31</td>\n",
       "      <td>48</td>\n",
       "      <td>3.129074</td>\n",
       "    </tr>\n",
       "    <tr>\n",
       "      <th>12</th>\n",
       "      <td>19</td>\n",
       "      <td>47</td>\n",
       "      <td>3.063885</td>\n",
       "    </tr>\n",
       "    <tr>\n",
       "      <th>13</th>\n",
       "      <td>18</td>\n",
       "      <td>46</td>\n",
       "      <td>2.998696</td>\n",
       "    </tr>\n",
       "    <tr>\n",
       "      <th>14</th>\n",
       "      <td>32</td>\n",
       "      <td>41</td>\n",
       "      <td>2.672751</td>\n",
       "    </tr>\n",
       "    <tr>\n",
       "      <th>15</th>\n",
       "      <td>33</td>\n",
       "      <td>39</td>\n",
       "      <td>2.542373</td>\n",
       "    </tr>\n",
       "    <tr>\n",
       "      <th>16</th>\n",
       "      <td>17</td>\n",
       "      <td>26</td>\n",
       "      <td>1.694915</td>\n",
       "    </tr>\n",
       "    <tr>\n",
       "      <th>17</th>\n",
       "      <td>34</td>\n",
       "      <td>19</td>\n",
       "      <td>1.238592</td>\n",
       "    </tr>\n",
       "    <tr>\n",
       "      <th>18</th>\n",
       "      <td>16</td>\n",
       "      <td>19</td>\n",
       "      <td>1.238592</td>\n",
       "    </tr>\n",
       "    <tr>\n",
       "      <th>19</th>\n",
       "      <td>35</td>\n",
       "      <td>15</td>\n",
       "      <td>0.977836</td>\n",
       "    </tr>\n",
       "  </tbody>\n",
       "</table>\n",
       "</div>"
      ],
      "text/plain": [
       "    Возраст  Пользователи   Часть %\n",
       "0        25           145  9.452412\n",
       "1        24           132  8.604954\n",
       "2        26           131  8.539765\n",
       "3        23           129  8.409387\n",
       "4        27           119  7.757497\n",
       "5        22           119  7.757497\n",
       "6        28           112  7.301173\n",
       "7        21            93  6.062581\n",
       "8        20            71  4.628422\n",
       "9        30            68  4.432855\n",
       "10       29            68  4.432855\n",
       "11       31            48  3.129074\n",
       "12       19            47  3.063885\n",
       "13       18            46  2.998696\n",
       "14       32            41  2.672751\n",
       "15       33            39  2.542373\n",
       "16       17            26  1.694915\n",
       "17       34            19  1.238592\n",
       "18       16            19  1.238592\n",
       "19       35            15  0.977836"
      ]
     },
     "execution_count": 22,
     "metadata": {},
     "output_type": "execute_result"
    }
   ],
   "source": [
    "users_age = users_age.sort_values(ascending=False).reset_index()\n",
    "users_age.columns = ['Возраст', 'Пользователи']\n",
    "total_users = users_age['Пользователи'].sum()\n",
    "users_age['Часть %'] = (users_age['Пользователи'] / total_users) * 100\n",
    "\n",
    "users_age.head(20)"
   ]
  },
  {
   "cell_type": "code",
   "execution_count": null,
   "id": "f25d38ef",
   "metadata": {},
   "outputs": [
    {
     "data": {
      "text/plain": [
       "77.0"
      ]
     },
     "execution_count": 23,
     "metadata": {},
     "output_type": "execute_result"
    }
   ],
   "source": [
    "users_age['Часть %'].head(11).sum().round()"
   ]
  },
  {
   "cell_type": "markdown",
   "id": "62fd2fba",
   "metadata": {},
   "source": [
    "Согласно данным, услугами сервиса пользуются люди от 12 до 43. Средний возраст пользователя сервиса 25 лет, эта категория так же самая большая часть от общего числа пользователей - 145 / 9.45%. Больше всего пользователей в возрасте от 20 до 30 - это 77% от общего числа."
   ]
  },
  {
   "cell_type": "markdown",
   "id": "efd28e2e",
   "metadata": {},
   "source": [
    "3.4 Расстояние, которое пользователь преодолел за одну поездку."
   ]
  },
  {
   "cell_type": "code",
   "execution_count": null,
   "id": "1eeb28e9",
   "metadata": {},
   "outputs": [
    {
     "data": {
      "image/png": "[encoded data removed]",
      "text/plain": [
       "<Figure size 720x432 with 1 Axes>"
      ]
     },
     "metadata": {
      "needs_background": "light"
     },
     "output_type": "display_data"
    },
    {
     "data": {
      "text/plain": [
       "count    18068.000000\n",
       "mean         3.070660\n",
       "std          1.116831\n",
       "min          0.000856\n",
       "25%          2.543226\n",
       "50%          3.133610\n",
       "75%          3.776223\n",
       "max          7.211008\n",
       "Name: distance, dtype: float64"
      ]
     },
     "execution_count": 24,
     "metadata": {},
     "output_type": "execute_result"
    }
   ],
   "source": [
    "trip = rides['distance'] / 1000\n",
    "\n",
    "plt.figure(figsize=(10, 6))\n",
    "plt.hist(trip, bins=100, edgecolor='black')\n",
    "plt.title('Распределение пройденных расстояний за одну поездку')\n",
    "plt.xlabel('Расстояние КМ')\n",
    "plt.ylabel('Количество поездок')\n",
    "plt.grid()\n",
    "plt.show()\n",
    "\n",
    "trip.describe()"
   ]
  },
  {
   "cell_type": "markdown",
   "id": "2bc20d65",
   "metadata": {},
   "source": [
    "Среднее расстояние преодалеваемое пользователем за одну поезду около 3-ёх километров. Присутствуют пиковые значения в районе 600-700 и 3200 метров."
   ]
  },
  {
   "cell_type": "markdown",
   "id": "33af1c59",
   "metadata": {},
   "source": [
    "3.5 Продолжительность поездок."
   ]
  },
  {
   "cell_type": "code",
   "execution_count": null,
   "id": "ef59d2ba",
   "metadata": {},
   "outputs": [
    {
     "data": {
      "image/png": "[encoded data removed]",
      "text/plain": [
       "<Figure size 720x432 with 1 Axes>"
      ]
     },
     "metadata": {
      "needs_background": "light"
     },
     "output_type": "display_data"
    },
    {
     "data": {
      "text/plain": [
       "count    18068.000000\n",
       "mean        17.805011\n",
       "std          6.091051\n",
       "min          0.500000\n",
       "25%         13.597563\n",
       "50%         17.678395\n",
       "75%         21.724800\n",
       "max         40.823963\n",
       "Name: duration, dtype: float64"
      ]
     },
     "execution_count": 25,
     "metadata": {},
     "output_type": "execute_result"
    }
   ],
   "source": [
    "plt.figure(figsize=(10, 6))\n",
    "plt.hist(rides['duration'], bins=100, edgecolor='black')\n",
    "plt.title('Распределение продолжительности поездок')\n",
    "plt.xlabel('Время поездки МИН')\n",
    "plt.ylabel('Количество поездок')\n",
    "plt.grid()\n",
    "plt.show()\n",
    "\n",
    "rides['duration'].describe()"
   ]
  },
  {
   "cell_type": "code",
   "execution_count": null,
   "id": "6a653960",
   "metadata": {},
   "outputs": [
    {
     "name": "stdout",
     "output_type": "stream",
     "text": [
      "       user_id     distance  duration       date  month\n",
      "6531       701  4196.445201       0.5 2021-08-31      8\n",
      "6570       704  4830.824371       0.5 2021-10-14     10\n",
      "6680       712  4684.004397       0.5 2021-03-04      3\n",
      "6695       713  5215.642710       0.5 2021-02-25      2\n",
      "6768       718  5197.436649       0.5 2021-02-11      2\n",
      "...        ...          ...       ...        ...    ...\n",
      "17004     1460  5531.335845       0.5 2021-01-19      1\n",
      "17242     1477  6724.932981       0.5 2021-01-12      1\n",
      "17314     1483  4445.481070       0.5 2021-03-06      3\n",
      "17505     1496  5722.551787       0.5 2021-02-14      2\n",
      "17909     1524  4103.998874       0.5 2021-06-18      6\n",
      "\n",
      "[95 rows x 5 columns]\n"
     ]
    }
   ],
   "source": [
    "filtered_rides = rides.loc[rides['duration'] <= 1]\n",
    "print(filtered_rides)"
   ]
  },
  {
   "cell_type": "markdown",
   "id": "1430eb06",
   "metadata": {},
   "source": [
    "Средня и медианная продолжительной одной поездки - около 17 минут. Максимальное время поезди в основном не превышает 35 минут.\n",
    "\n",
    "Подозрительный пик в районе 0-1 минута. Данные по расстоянию и дате в порядке. Возможно не записалась продолжительность поездки. Думаю данные не стоит удалять."
   ]
  },
  {
   "cell_type": "markdown",
   "id": "abe65168",
   "metadata": {},
   "source": [
    "#### Шаг 4. Объединение данных"
   ]
  },
  {
   "cell_type": "markdown",
   "id": "fe8a9206",
   "metadata": {},
   "source": [
    "4.1 Объединение данных о пользователях, поездках и подписках в один датафрейм."
   ]
  },
  {
   "cell_type": "code",
   "execution_count": null,
   "id": "20f6436d",
   "metadata": {},
   "outputs": [
    {
     "name": "stdout",
     "output_type": "stream",
     "text": [
      "<class 'pandas.core.frame.DataFrame'>\n",
      "Int64Index: 18068 entries, 0 to 18067\n",
      "Data columns (total 12 columns):\n",
      " #   Column             Non-Null Count  Dtype         \n",
      "---  ------             --------------  -----         \n",
      " 0   user_id            18068 non-null  int64         \n",
      " 1   name               18068 non-null  object        \n",
      " 2   age                18068 non-null  int64         \n",
      " 3   city               18068 non-null  object        \n",
      " 4   subscription_type  18068 non-null  object        \n",
      " 5   distance           18068 non-null  float64       \n",
      " 6   duration           18068 non-null  float64       \n",
      " 7   date               18068 non-null  datetime64[ns]\n",
      " 8   month              18068 non-null  int64         \n",
      " 9   minute_price       18068 non-null  int64         \n",
      " 10  start_ride_price   18068 non-null  int64         \n",
      " 11  subscription_fee   18068 non-null  int64         \n",
      "dtypes: datetime64[ns](1), float64(2), int64(6), object(3)\n",
      "memory usage: 1.8+ MB\n",
      "None\n"
     ]
    },
    {
     "data": {
      "text/html": [
       "<div>\n",
       "<style scoped>\n",
       "    .dataframe tbody tr th:only-of-type {\n",
       "        vertical-align: middle;\n",
       "    }\n",
       "\n",
       "    .dataframe tbody tr th {\n",
       "        vertical-align: top;\n",
       "    }\n",
       "\n",
       "    .dataframe thead th {\n",
       "        text-align: right;\n",
       "    }\n",
       "</style>\n",
       "<table border=\"1\" class=\"dataframe\">\n",
       "  <thead>\n",
       "    <tr style=\"text-align: right;\">\n",
       "      <th></th>\n",
       "      <th>user_id</th>\n",
       "      <th>name</th>\n",
       "      <th>age</th>\n",
       "      <th>city</th>\n",
       "      <th>subscription_type</th>\n",
       "      <th>distance</th>\n",
       "      <th>duration</th>\n",
       "      <th>date</th>\n",
       "      <th>month</th>\n",
       "      <th>minute_price</th>\n",
       "      <th>start_ride_price</th>\n",
       "      <th>subscription_fee</th>\n",
       "    </tr>\n",
       "  </thead>\n",
       "  <tbody>\n",
       "    <tr>\n",
       "      <th>0</th>\n",
       "      <td>1</td>\n",
       "      <td>Кира</td>\n",
       "      <td>22</td>\n",
       "      <td>Тюмень</td>\n",
       "      <td>ultra</td>\n",
       "      <td>4409.919140</td>\n",
       "      <td>25.599769</td>\n",
       "      <td>2021-01-01</td>\n",
       "      <td>1</td>\n",
       "      <td>6</td>\n",
       "      <td>0</td>\n",
       "      <td>199</td>\n",
       "    </tr>\n",
       "    <tr>\n",
       "      <th>1</th>\n",
       "      <td>1</td>\n",
       "      <td>Кира</td>\n",
       "      <td>22</td>\n",
       "      <td>Тюмень</td>\n",
       "      <td>ultra</td>\n",
       "      <td>2617.592153</td>\n",
       "      <td>15.816871</td>\n",
       "      <td>2021-01-18</td>\n",
       "      <td>1</td>\n",
       "      <td>6</td>\n",
       "      <td>0</td>\n",
       "      <td>199</td>\n",
       "    </tr>\n",
       "    <tr>\n",
       "      <th>2</th>\n",
       "      <td>1</td>\n",
       "      <td>Кира</td>\n",
       "      <td>22</td>\n",
       "      <td>Тюмень</td>\n",
       "      <td>ultra</td>\n",
       "      <td>754.159807</td>\n",
       "      <td>6.232113</td>\n",
       "      <td>2021-04-20</td>\n",
       "      <td>4</td>\n",
       "      <td>6</td>\n",
       "      <td>0</td>\n",
       "      <td>199</td>\n",
       "    </tr>\n",
       "    <tr>\n",
       "      <th>3</th>\n",
       "      <td>1</td>\n",
       "      <td>Кира</td>\n",
       "      <td>22</td>\n",
       "      <td>Тюмень</td>\n",
       "      <td>ultra</td>\n",
       "      <td>2694.783254</td>\n",
       "      <td>18.511000</td>\n",
       "      <td>2021-08-11</td>\n",
       "      <td>8</td>\n",
       "      <td>6</td>\n",
       "      <td>0</td>\n",
       "      <td>199</td>\n",
       "    </tr>\n",
       "    <tr>\n",
       "      <th>4</th>\n",
       "      <td>1</td>\n",
       "      <td>Кира</td>\n",
       "      <td>22</td>\n",
       "      <td>Тюмень</td>\n",
       "      <td>ultra</td>\n",
       "      <td>4028.687306</td>\n",
       "      <td>26.265803</td>\n",
       "      <td>2021-08-28</td>\n",
       "      <td>8</td>\n",
       "      <td>6</td>\n",
       "      <td>0</td>\n",
       "      <td>199</td>\n",
       "    </tr>\n",
       "    <tr>\n",
       "      <th>5</th>\n",
       "      <td>1</td>\n",
       "      <td>Кира</td>\n",
       "      <td>22</td>\n",
       "      <td>Тюмень</td>\n",
       "      <td>ultra</td>\n",
       "      <td>2770.890808</td>\n",
       "      <td>16.650138</td>\n",
       "      <td>2021-10-09</td>\n",
       "      <td>10</td>\n",
       "      <td>6</td>\n",
       "      <td>0</td>\n",
       "      <td>199</td>\n",
       "    </tr>\n",
       "    <tr>\n",
       "      <th>6</th>\n",
       "      <td>1</td>\n",
       "      <td>Кира</td>\n",
       "      <td>22</td>\n",
       "      <td>Тюмень</td>\n",
       "      <td>ultra</td>\n",
       "      <td>3039.020292</td>\n",
       "      <td>14.927879</td>\n",
       "      <td>2021-10-19</td>\n",
       "      <td>10</td>\n",
       "      <td>6</td>\n",
       "      <td>0</td>\n",
       "      <td>199</td>\n",
       "    </tr>\n",
       "    <tr>\n",
       "      <th>7</th>\n",
       "      <td>1</td>\n",
       "      <td>Кира</td>\n",
       "      <td>22</td>\n",
       "      <td>Тюмень</td>\n",
       "      <td>ultra</td>\n",
       "      <td>2842.118050</td>\n",
       "      <td>23.117468</td>\n",
       "      <td>2021-11-06</td>\n",
       "      <td>11</td>\n",
       "      <td>6</td>\n",
       "      <td>0</td>\n",
       "      <td>199</td>\n",
       "    </tr>\n",
       "    <tr>\n",
       "      <th>8</th>\n",
       "      <td>1</td>\n",
       "      <td>Кира</td>\n",
       "      <td>22</td>\n",
       "      <td>Тюмень</td>\n",
       "      <td>ultra</td>\n",
       "      <td>3412.690668</td>\n",
       "      <td>15.238072</td>\n",
       "      <td>2021-11-14</td>\n",
       "      <td>11</td>\n",
       "      <td>6</td>\n",
       "      <td>0</td>\n",
       "      <td>199</td>\n",
       "    </tr>\n",
       "    <tr>\n",
       "      <th>9</th>\n",
       "      <td>1</td>\n",
       "      <td>Кира</td>\n",
       "      <td>22</td>\n",
       "      <td>Тюмень</td>\n",
       "      <td>ultra</td>\n",
       "      <td>748.690645</td>\n",
       "      <td>15.041884</td>\n",
       "      <td>2021-11-22</td>\n",
       "      <td>11</td>\n",
       "      <td>6</td>\n",
       "      <td>0</td>\n",
       "      <td>199</td>\n",
       "    </tr>\n",
       "  </tbody>\n",
       "</table>\n",
       "</div>"
      ],
      "text/plain": [
       "   user_id  name  age    city subscription_type     distance   duration  \\\n",
       "0        1  Кира   22  Тюмень             ultra  4409.919140  25.599769   \n",
       "1        1  Кира   22  Тюмень             ultra  2617.592153  15.816871   \n",
       "2        1  Кира   22  Тюмень             ultra   754.159807   6.232113   \n",
       "3        1  Кира   22  Тюмень             ultra  2694.783254  18.511000   \n",
       "4        1  Кира   22  Тюмень             ultra  4028.687306  26.265803   \n",
       "5        1  Кира   22  Тюмень             ultra  2770.890808  16.650138   \n",
       "6        1  Кира   22  Тюмень             ultra  3039.020292  14.927879   \n",
       "7        1  Кира   22  Тюмень             ultra  2842.118050  23.117468   \n",
       "8        1  Кира   22  Тюмень             ultra  3412.690668  15.238072   \n",
       "9        1  Кира   22  Тюмень             ultra   748.690645  15.041884   \n",
       "\n",
       "        date  month  minute_price  start_ride_price  subscription_fee  \n",
       "0 2021-01-01      1             6                 0               199  \n",
       "1 2021-01-18      1             6                 0               199  \n",
       "2 2021-04-20      4             6                 0               199  \n",
       "3 2021-08-11      8             6                 0               199  \n",
       "4 2021-08-28      8             6                 0               199  \n",
       "5 2021-10-09     10             6                 0               199  \n",
       "6 2021-10-19     10             6                 0               199  \n",
       "7 2021-11-06     11             6                 0               199  \n",
       "8 2021-11-14     11             6                 0               199  \n",
       "9 2021-11-22     11             6                 0               199  "
      ]
     },
     "execution_count": 27,
     "metadata": {},
     "output_type": "execute_result"
    }
   ],
   "source": [
    "gofast = users.merge(rides, on='user_id').merge(subs, on='subscription_type')\n",
    "\n",
    "print(gofast.info())\n",
    "gofast.head(10)"
   ]
  },
  {
   "cell_type": "markdown",
   "id": "5f0add5f",
   "metadata": {},
   "source": [
    "Количество строк в rides и gofast: 18068. DF gofast не содержит пропусков."
   ]
  },
  {
   "cell_type": "markdown",
   "id": "321546a5",
   "metadata": {},
   "source": [
    "4.2 Создание 2 DF на основе DF gofast - c данными о пользователях без подписки, с данными о пользователях с подпиской."
   ]
  },
  {
   "cell_type": "code",
   "execution_count": null,
   "id": "748e9566",
   "metadata": {},
   "outputs": [],
   "source": [
    "# DF c данными о пользователях с подпиской free\n",
    "free_sub = gofast.loc[gofast['subscription_type'] == 'free']\n",
    "\n",
    "# DF с данными о пользователях с подпиской ultra\n",
    "ultra_sub = gofast.loc[gofast['subscription_type'] == 'ultra']"
   ]
  },
  {
   "cell_type": "code",
   "execution_count": null,
   "id": "7e2d4fd6",
   "metadata": {},
   "outputs": [
    {
     "data": {
      "text/html": [
       "<div>\n",
       "<style scoped>\n",
       "    .dataframe tbody tr th:only-of-type {\n",
       "        vertical-align: middle;\n",
       "    }\n",
       "\n",
       "    .dataframe tbody tr th {\n",
       "        vertical-align: top;\n",
       "    }\n",
       "\n",
       "    .dataframe thead th {\n",
       "        text-align: right;\n",
       "    }\n",
       "</style>\n",
       "<table border=\"1\" class=\"dataframe\">\n",
       "  <thead>\n",
       "    <tr style=\"text-align: right;\">\n",
       "      <th></th>\n",
       "      <th>user_id</th>\n",
       "      <th>name</th>\n",
       "      <th>age</th>\n",
       "      <th>city</th>\n",
       "      <th>subscription_type</th>\n",
       "      <th>distance</th>\n",
       "      <th>duration</th>\n",
       "      <th>date</th>\n",
       "      <th>month</th>\n",
       "      <th>minute_price</th>\n",
       "      <th>start_ride_price</th>\n",
       "      <th>subscription_fee</th>\n",
       "    </tr>\n",
       "  </thead>\n",
       "  <tbody>\n",
       "    <tr>\n",
       "      <th>6500</th>\n",
       "      <td>700</td>\n",
       "      <td>Айдар</td>\n",
       "      <td>22</td>\n",
       "      <td>Омск</td>\n",
       "      <td>free</td>\n",
       "      <td>2515.690719</td>\n",
       "      <td>14.944286</td>\n",
       "      <td>2021-01-02</td>\n",
       "      <td>1</td>\n",
       "      <td>8</td>\n",
       "      <td>50</td>\n",
       "      <td>0</td>\n",
       "    </tr>\n",
       "    <tr>\n",
       "      <th>6501</th>\n",
       "      <td>700</td>\n",
       "      <td>Айдар</td>\n",
       "      <td>22</td>\n",
       "      <td>Омск</td>\n",
       "      <td>free</td>\n",
       "      <td>846.932642</td>\n",
       "      <td>16.234663</td>\n",
       "      <td>2021-02-01</td>\n",
       "      <td>2</td>\n",
       "      <td>8</td>\n",
       "      <td>50</td>\n",
       "      <td>0</td>\n",
       "    </tr>\n",
       "    <tr>\n",
       "      <th>6502</th>\n",
       "      <td>700</td>\n",
       "      <td>Айдар</td>\n",
       "      <td>22</td>\n",
       "      <td>Омск</td>\n",
       "      <td>free</td>\n",
       "      <td>4004.434142</td>\n",
       "      <td>20.016628</td>\n",
       "      <td>2021-02-04</td>\n",
       "      <td>2</td>\n",
       "      <td>8</td>\n",
       "      <td>50</td>\n",
       "      <td>0</td>\n",
       "    </tr>\n",
       "    <tr>\n",
       "      <th>6503</th>\n",
       "      <td>700</td>\n",
       "      <td>Айдар</td>\n",
       "      <td>22</td>\n",
       "      <td>Омск</td>\n",
       "      <td>free</td>\n",
       "      <td>1205.911290</td>\n",
       "      <td>9.782872</td>\n",
       "      <td>2021-02-10</td>\n",
       "      <td>2</td>\n",
       "      <td>8</td>\n",
       "      <td>50</td>\n",
       "      <td>0</td>\n",
       "    </tr>\n",
       "    <tr>\n",
       "      <th>6504</th>\n",
       "      <td>700</td>\n",
       "      <td>Айдар</td>\n",
       "      <td>22</td>\n",
       "      <td>Омск</td>\n",
       "      <td>free</td>\n",
       "      <td>3047.379435</td>\n",
       "      <td>17.427673</td>\n",
       "      <td>2021-02-14</td>\n",
       "      <td>2</td>\n",
       "      <td>8</td>\n",
       "      <td>50</td>\n",
       "      <td>0</td>\n",
       "    </tr>\n",
       "    <tr>\n",
       "      <th>6505</th>\n",
       "      <td>700</td>\n",
       "      <td>Айдар</td>\n",
       "      <td>22</td>\n",
       "      <td>Омск</td>\n",
       "      <td>free</td>\n",
       "      <td>4342.002254</td>\n",
       "      <td>22.368009</td>\n",
       "      <td>2021-02-23</td>\n",
       "      <td>2</td>\n",
       "      <td>8</td>\n",
       "      <td>50</td>\n",
       "      <td>0</td>\n",
       "    </tr>\n",
       "    <tr>\n",
       "      <th>6506</th>\n",
       "      <td>700</td>\n",
       "      <td>Айдар</td>\n",
       "      <td>22</td>\n",
       "      <td>Омск</td>\n",
       "      <td>free</td>\n",
       "      <td>3798.334905</td>\n",
       "      <td>18.243756</td>\n",
       "      <td>2021-03-03</td>\n",
       "      <td>3</td>\n",
       "      <td>8</td>\n",
       "      <td>50</td>\n",
       "      <td>0</td>\n",
       "    </tr>\n",
       "    <tr>\n",
       "      <th>6507</th>\n",
       "      <td>700</td>\n",
       "      <td>Айдар</td>\n",
       "      <td>22</td>\n",
       "      <td>Омск</td>\n",
       "      <td>free</td>\n",
       "      <td>2984.551206</td>\n",
       "      <td>15.424899</td>\n",
       "      <td>2021-04-09</td>\n",
       "      <td>4</td>\n",
       "      <td>8</td>\n",
       "      <td>50</td>\n",
       "      <td>0</td>\n",
       "    </tr>\n",
       "    <tr>\n",
       "      <th>6508</th>\n",
       "      <td>700</td>\n",
       "      <td>Айдар</td>\n",
       "      <td>22</td>\n",
       "      <td>Омск</td>\n",
       "      <td>free</td>\n",
       "      <td>3360.107141</td>\n",
       "      <td>16.765497</td>\n",
       "      <td>2021-06-12</td>\n",
       "      <td>6</td>\n",
       "      <td>8</td>\n",
       "      <td>50</td>\n",
       "      <td>0</td>\n",
       "    </tr>\n",
       "    <tr>\n",
       "      <th>6509</th>\n",
       "      <td>700</td>\n",
       "      <td>Айдар</td>\n",
       "      <td>22</td>\n",
       "      <td>Омск</td>\n",
       "      <td>free</td>\n",
       "      <td>2567.543847</td>\n",
       "      <td>11.312160</td>\n",
       "      <td>2021-06-23</td>\n",
       "      <td>6</td>\n",
       "      <td>8</td>\n",
       "      <td>50</td>\n",
       "      <td>0</td>\n",
       "    </tr>\n",
       "  </tbody>\n",
       "</table>\n",
       "</div>"
      ],
      "text/plain": [
       "      user_id   name  age  city subscription_type     distance   duration  \\\n",
       "6500      700  Айдар   22  Омск              free  2515.690719  14.944286   \n",
       "6501      700  Айдар   22  Омск              free   846.932642  16.234663   \n",
       "6502      700  Айдар   22  Омск              free  4004.434142  20.016628   \n",
       "6503      700  Айдар   22  Омск              free  1205.911290   9.782872   \n",
       "6504      700  Айдар   22  Омск              free  3047.379435  17.427673   \n",
       "6505      700  Айдар   22  Омск              free  4342.002254  22.368009   \n",
       "6506      700  Айдар   22  Омск              free  3798.334905  18.243756   \n",
       "6507      700  Айдар   22  Омск              free  2984.551206  15.424899   \n",
       "6508      700  Айдар   22  Омск              free  3360.107141  16.765497   \n",
       "6509      700  Айдар   22  Омск              free  2567.543847  11.312160   \n",
       "\n",
       "           date  month  minute_price  start_ride_price  subscription_fee  \n",
       "6500 2021-01-02      1             8                50                 0  \n",
       "6501 2021-02-01      2             8                50                 0  \n",
       "6502 2021-02-04      2             8                50                 0  \n",
       "6503 2021-02-10      2             8                50                 0  \n",
       "6504 2021-02-14      2             8                50                 0  \n",
       "6505 2021-02-23      2             8                50                 0  \n",
       "6506 2021-03-03      3             8                50                 0  \n",
       "6507 2021-04-09      4             8                50                 0  \n",
       "6508 2021-06-12      6             8                50                 0  \n",
       "6509 2021-06-23      6             8                50                 0  "
      ]
     },
     "execution_count": 29,
     "metadata": {},
     "output_type": "execute_result"
    }
   ],
   "source": [
    "free_sub.head(10)"
   ]
  },
  {
   "cell_type": "code",
   "execution_count": null,
   "id": "f08d35fa",
   "metadata": {},
   "outputs": [
    {
     "data": {
      "text/html": [
       "<div>\n",
       "<style scoped>\n",
       "    .dataframe tbody tr th:only-of-type {\n",
       "        vertical-align: middle;\n",
       "    }\n",
       "\n",
       "    .dataframe tbody tr th {\n",
       "        vertical-align: top;\n",
       "    }\n",
       "\n",
       "    .dataframe thead th {\n",
       "        text-align: right;\n",
       "    }\n",
       "</style>\n",
       "<table border=\"1\" class=\"dataframe\">\n",
       "  <thead>\n",
       "    <tr style=\"text-align: right;\">\n",
       "      <th></th>\n",
       "      <th>user_id</th>\n",
       "      <th>name</th>\n",
       "      <th>age</th>\n",
       "      <th>city</th>\n",
       "      <th>subscription_type</th>\n",
       "      <th>distance</th>\n",
       "      <th>duration</th>\n",
       "      <th>date</th>\n",
       "      <th>month</th>\n",
       "      <th>minute_price</th>\n",
       "      <th>start_ride_price</th>\n",
       "      <th>subscription_fee</th>\n",
       "    </tr>\n",
       "  </thead>\n",
       "  <tbody>\n",
       "    <tr>\n",
       "      <th>0</th>\n",
       "      <td>1</td>\n",
       "      <td>Кира</td>\n",
       "      <td>22</td>\n",
       "      <td>Тюмень</td>\n",
       "      <td>ultra</td>\n",
       "      <td>4409.919140</td>\n",
       "      <td>25.599769</td>\n",
       "      <td>2021-01-01</td>\n",
       "      <td>1</td>\n",
       "      <td>6</td>\n",
       "      <td>0</td>\n",
       "      <td>199</td>\n",
       "    </tr>\n",
       "    <tr>\n",
       "      <th>1</th>\n",
       "      <td>1</td>\n",
       "      <td>Кира</td>\n",
       "      <td>22</td>\n",
       "      <td>Тюмень</td>\n",
       "      <td>ultra</td>\n",
       "      <td>2617.592153</td>\n",
       "      <td>15.816871</td>\n",
       "      <td>2021-01-18</td>\n",
       "      <td>1</td>\n",
       "      <td>6</td>\n",
       "      <td>0</td>\n",
       "      <td>199</td>\n",
       "    </tr>\n",
       "    <tr>\n",
       "      <th>2</th>\n",
       "      <td>1</td>\n",
       "      <td>Кира</td>\n",
       "      <td>22</td>\n",
       "      <td>Тюмень</td>\n",
       "      <td>ultra</td>\n",
       "      <td>754.159807</td>\n",
       "      <td>6.232113</td>\n",
       "      <td>2021-04-20</td>\n",
       "      <td>4</td>\n",
       "      <td>6</td>\n",
       "      <td>0</td>\n",
       "      <td>199</td>\n",
       "    </tr>\n",
       "    <tr>\n",
       "      <th>3</th>\n",
       "      <td>1</td>\n",
       "      <td>Кира</td>\n",
       "      <td>22</td>\n",
       "      <td>Тюмень</td>\n",
       "      <td>ultra</td>\n",
       "      <td>2694.783254</td>\n",
       "      <td>18.511000</td>\n",
       "      <td>2021-08-11</td>\n",
       "      <td>8</td>\n",
       "      <td>6</td>\n",
       "      <td>0</td>\n",
       "      <td>199</td>\n",
       "    </tr>\n",
       "    <tr>\n",
       "      <th>4</th>\n",
       "      <td>1</td>\n",
       "      <td>Кира</td>\n",
       "      <td>22</td>\n",
       "      <td>Тюмень</td>\n",
       "      <td>ultra</td>\n",
       "      <td>4028.687306</td>\n",
       "      <td>26.265803</td>\n",
       "      <td>2021-08-28</td>\n",
       "      <td>8</td>\n",
       "      <td>6</td>\n",
       "      <td>0</td>\n",
       "      <td>199</td>\n",
       "    </tr>\n",
       "    <tr>\n",
       "      <th>5</th>\n",
       "      <td>1</td>\n",
       "      <td>Кира</td>\n",
       "      <td>22</td>\n",
       "      <td>Тюмень</td>\n",
       "      <td>ultra</td>\n",
       "      <td>2770.890808</td>\n",
       "      <td>16.650138</td>\n",
       "      <td>2021-10-09</td>\n",
       "      <td>10</td>\n",
       "      <td>6</td>\n",
       "      <td>0</td>\n",
       "      <td>199</td>\n",
       "    </tr>\n",
       "    <tr>\n",
       "      <th>6</th>\n",
       "      <td>1</td>\n",
       "      <td>Кира</td>\n",
       "      <td>22</td>\n",
       "      <td>Тюмень</td>\n",
       "      <td>ultra</td>\n",
       "      <td>3039.020292</td>\n",
       "      <td>14.927879</td>\n",
       "      <td>2021-10-19</td>\n",
       "      <td>10</td>\n",
       "      <td>6</td>\n",
       "      <td>0</td>\n",
       "      <td>199</td>\n",
       "    </tr>\n",
       "    <tr>\n",
       "      <th>7</th>\n",
       "      <td>1</td>\n",
       "      <td>Кира</td>\n",
       "      <td>22</td>\n",
       "      <td>Тюмень</td>\n",
       "      <td>ultra</td>\n",
       "      <td>2842.118050</td>\n",
       "      <td>23.117468</td>\n",
       "      <td>2021-11-06</td>\n",
       "      <td>11</td>\n",
       "      <td>6</td>\n",
       "      <td>0</td>\n",
       "      <td>199</td>\n",
       "    </tr>\n",
       "    <tr>\n",
       "      <th>8</th>\n",
       "      <td>1</td>\n",
       "      <td>Кира</td>\n",
       "      <td>22</td>\n",
       "      <td>Тюмень</td>\n",
       "      <td>ultra</td>\n",
       "      <td>3412.690668</td>\n",
       "      <td>15.238072</td>\n",
       "      <td>2021-11-14</td>\n",
       "      <td>11</td>\n",
       "      <td>6</td>\n",
       "      <td>0</td>\n",
       "      <td>199</td>\n",
       "    </tr>\n",
       "    <tr>\n",
       "      <th>9</th>\n",
       "      <td>1</td>\n",
       "      <td>Кира</td>\n",
       "      <td>22</td>\n",
       "      <td>Тюмень</td>\n",
       "      <td>ultra</td>\n",
       "      <td>748.690645</td>\n",
       "      <td>15.041884</td>\n",
       "      <td>2021-11-22</td>\n",
       "      <td>11</td>\n",
       "      <td>6</td>\n",
       "      <td>0</td>\n",
       "      <td>199</td>\n",
       "    </tr>\n",
       "  </tbody>\n",
       "</table>\n",
       "</div>"
      ],
      "text/plain": [
       "   user_id  name  age    city subscription_type     distance   duration  \\\n",
       "0        1  Кира   22  Тюмень             ultra  4409.919140  25.599769   \n",
       "1        1  Кира   22  Тюмень             ultra  2617.592153  15.816871   \n",
       "2        1  Кира   22  Тюмень             ultra   754.159807   6.232113   \n",
       "3        1  Кира   22  Тюмень             ultra  2694.783254  18.511000   \n",
       "4        1  Кира   22  Тюмень             ultra  4028.687306  26.265803   \n",
       "5        1  Кира   22  Тюмень             ultra  2770.890808  16.650138   \n",
       "6        1  Кира   22  Тюмень             ultra  3039.020292  14.927879   \n",
       "7        1  Кира   22  Тюмень             ultra  2842.118050  23.117468   \n",
       "8        1  Кира   22  Тюмень             ultra  3412.690668  15.238072   \n",
       "9        1  Кира   22  Тюмень             ultra   748.690645  15.041884   \n",
       "\n",
       "        date  month  minute_price  start_ride_price  subscription_fee  \n",
       "0 2021-01-01      1             6                 0               199  \n",
       "1 2021-01-18      1             6                 0               199  \n",
       "2 2021-04-20      4             6                 0               199  \n",
       "3 2021-08-11      8             6                 0               199  \n",
       "4 2021-08-28      8             6                 0               199  \n",
       "5 2021-10-09     10             6                 0               199  \n",
       "6 2021-10-19     10             6                 0               199  \n",
       "7 2021-11-06     11             6                 0               199  \n",
       "8 2021-11-14     11             6                 0               199  \n",
       "9 2021-11-22     11             6                 0               199  "
      ]
     },
     "execution_count": 30,
     "metadata": {},
     "output_type": "execute_result"
    }
   ],
   "source": [
    "ultra_sub.head(10)"
   ]
  },
  {
   "cell_type": "markdown",
   "id": "66dd1991",
   "metadata": {},
   "source": [
    "4.3 Визуализиция информации о расстоянии и времени поездок для пользователей обеих категорий."
   ]
  },
  {
   "cell_type": "code",
   "execution_count": null,
   "id": "fa318ba0",
   "metadata": {},
   "outputs": [
    {
     "data": {
      "image/png": "[encoded data removed]",
      "text/plain": [
       "<Figure size 720x432 with 1 Axes>"
      ]
     },
     "metadata": {
      "needs_background": "light"
     },
     "output_type": "display_data"
    },
    {
     "name": "stdout",
     "output_type": "stream",
     "text": [
      "Подписка free:\n",
      "\n",
      " count    11568.000000\n",
      "mean      3045.495282\n",
      "std       1246.173806\n",
      "min          0.855683\n",
      "25%       2366.562689\n",
      "50%       3114.648465\n",
      "75%       3905.697894\n",
      "max       7211.007745\n",
      "Name: distance, dtype: float64\n",
      "\n",
      " Подписка ultra:\n",
      "\n",
      " count    6500.000000\n",
      "mean     3115.445388\n",
      "std       836.895330\n",
      "min       244.210438\n",
      "25%      2785.444017\n",
      "50%      3148.637229\n",
      "75%      3560.574425\n",
      "max      5699.769662\n",
      "Name: distance, dtype: float64\n",
      "\n",
      " Разница между подписками free и ultra:\n",
      "\n",
      " count    5068.000000\n",
      "mean      -69.950106\n",
      "std       409.278476\n",
      "min      -243.354755\n",
      "25%      -418.881328\n",
      "50%       -33.988764\n",
      "75%       345.123469\n",
      "max      1511.238083\n",
      "Name: distance, dtype: float64\n"
     ]
    }
   ],
   "source": [
    "# Создание гистограммы для пользователей с подпиской free\n",
    "plt.figure(figsize=(10, 6))\n",
    "plt.hist(free_sub['distance'], bins=50, color='purple', alpha=0.7, label='Подписка free', edgecolor='black')\n",
    "\n",
    "# Добавление гистограммы для пользователей с подпиской ultra\n",
    "plt.hist(ultra_sub['distance'], bins=50, color='yellow', alpha=0.7, label='Подписка ultra', edgecolor='black')\n",
    " \n",
    "plt.title('Распределение расстояний поездок для пользователей с разными типами подписок')\n",
    "plt.xlabel('Расстояние поездки М')\n",
    "plt.ylabel('Количество поездок')\n",
    "plt.legend()\n",
    "plt.grid()\n",
    "plt.show()\n",
    "\n",
    "print('Подписка free:\\n\\n', free_sub['distance'].describe())\n",
    "print('\\n Подписка ultra:\\n\\n', ultra_sub['distance'].describe())\n",
    "print('\\n Разница между подписками free и ultra:\\n\\n', free_sub['distance'].describe() - ultra_sub['distance'].describe())"
   ]
  },
  {
   "cell_type": "markdown",
   "id": "11341662",
   "metadata": {},
   "source": [
    "Пользователи с подпиской free имеют практически в 2ое большее число поездок, чем пользователи с подпиской ultra. Среднее расстояние поездки у пользователей с подпиской и без находится в районе 3050 м. (+-70 м.). Пользователи с подпиской free чаще преодалевают большее расстояние чем пользователи с подпиской ultra. Так максимальное значение поездки по подписке free равно 7211 м., а по подписке ultra 5699 м."
   ]
  },
  {
   "cell_type": "code",
   "execution_count": null,
   "id": "a4d38d05",
   "metadata": {},
   "outputs": [
    {
     "data": {
      "image/png": "[encoded data removed]",
      "text/plain": [
       "<Figure size 720x432 with 1 Axes>"
      ]
     },
     "metadata": {
      "needs_background": "light"
     },
     "output_type": "display_data"
    },
    {
     "name": "stdout",
     "output_type": "stream",
     "text": [
      "Подписка free:\n",
      "\n",
      " count    11568.000000\n",
      "mean        17.390909\n",
      "std          6.326803\n",
      "min          0.500000\n",
      "25%         12.958437\n",
      "50%         17.326890\n",
      "75%         21.594071\n",
      "max         34.948498\n",
      "Name: duration, dtype: float64\n",
      "\n",
      " Подписка ultra:\n",
      "\n",
      " count    6500.000000\n",
      "mean       18.541985\n",
      "std         5.572048\n",
      "min         3.760353\n",
      "25%        14.524654\n",
      "50%        18.178153\n",
      "75%        21.884129\n",
      "max        40.823963\n",
      "Name: duration, dtype: float64\n",
      "\n",
      " Разница между подписками free и ultra:\n",
      "\n",
      " count    5068.000000\n",
      "mean       -1.151076\n",
      "std         0.754755\n",
      "min        -3.260353\n",
      "25%        -1.566217\n",
      "50%        -0.851263\n",
      "75%        -0.290058\n",
      "max        -5.875464\n",
      "Name: duration, dtype: float64\n"
     ]
    }
   ],
   "source": [
    "# Создание гистограммы для пользователей с подпиской free\n",
    "plt.figure(figsize=(10, 6))\n",
    "plt.hist(free_sub['duration'], bins=50, color='purple', alpha=0.7, label='Подписка free', edgecolor='black')\n",
    "\n",
    "# Добавление гистограммы для пользователей с подпиской ultra\n",
    "plt.hist(ultra_sub['duration'], bins=50, color='yellow', alpha=0.7, label='Подписка ultra', edgecolor='black')\n",
    "\n",
    "plt.title('Распределение времени поездок для пользователей с разными типами подписок')\n",
    "plt.xlabel('Время поездки МИН')\n",
    "plt.ylabel('Количество поездок')\n",
    "plt.legend()\n",
    "plt.grid()\n",
    "plt.show()\n",
    "\n",
    "print('Подписка free:\\n\\n', free_sub['duration'].describe())\n",
    "print('\\n Подписка ultra:\\n\\n', ultra_sub['duration'].describe())\n",
    "print('\\n Разница между подписками free и ultra:\\n\\n', free_sub['duration'].describe() - ultra_sub['duration'].describe())"
   ]
  },
  {
   "cell_type": "markdown",
   "id": "bf71a5e7",
   "metadata": {},
   "source": [
    "Среднее время поездки у пользователей с подпиской free (17.39) немного меньше, чем у пользователей с подпиской ultra (18.54), такая же ситуация и с медианным временем. Пользователи с подпиской ultra совершают более длительные поездки. Так максимальное значение времени поездки по подписке ultra составляет 41 минуту, против 35 минут по подписке free. У пользователей с подпиской free наблюдается пик в районе 0.50 минуты."
   ]
  },
  {
   "cell_type": "markdown",
   "id": "ed7ec739",
   "metadata": {},
   "source": [
    "#### Шаг 5. Подсчёт выручки"
   ]
  },
  {
   "cell_type": "markdown",
   "id": "60cc352d",
   "metadata": {},
   "source": [
    "5.1 Создание DF с агрегированными данными о поездках на основе DF gofast. Нужной найти: суммарное расстояние, количество поездок и суммарное время для каждого пользователя за каждый месяц."
   ]
  },
  {
   "cell_type": "code",
   "execution_count": null,
   "id": "3a787a0a",
   "metadata": {},
   "outputs": [
    {
     "name": "stdout",
     "output_type": "stream",
     "text": [
      "<class 'pandas.core.frame.DataFrame'>\n",
      "RangeIndex: 11331 entries, 0 to 11330\n",
      "Data columns (total 9 columns):\n",
      " #   Column             Non-Null Count  Dtype  \n",
      "---  ------             --------------  -----  \n",
      " 0   user_id            11331 non-null  int64  \n",
      " 1   month              11331 non-null  int64  \n",
      " 2   total_distance     11331 non-null  float64\n",
      " 3   total_duration     11331 non-null  float64\n",
      " 4   start_ride_price   11331 non-null  float64\n",
      " 5   minute_price       11331 non-null  float64\n",
      " 6   subscription_fee   11331 non-null  float64\n",
      " 7   subscription_type  11331 non-null  object \n",
      " 8   total_trips        11331 non-null  int64  \n",
      "dtypes: float64(5), int64(3), object(1)\n",
      "memory usage: 796.8+ KB\n",
      "None\n"
     ]
    },
    {
     "data": {
      "text/html": [
       "<div>\n",
       "<style scoped>\n",
       "    .dataframe tbody tr th:only-of-type {\n",
       "        vertical-align: middle;\n",
       "    }\n",
       "\n",
       "    .dataframe tbody tr th {\n",
       "        vertical-align: top;\n",
       "    }\n",
       "\n",
       "    .dataframe thead th {\n",
       "        text-align: right;\n",
       "    }\n",
       "</style>\n",
       "<table border=\"1\" class=\"dataframe\">\n",
       "  <thead>\n",
       "    <tr style=\"text-align: right;\">\n",
       "      <th></th>\n",
       "      <th>user_id</th>\n",
       "      <th>month</th>\n",
       "      <th>total_distance</th>\n",
       "      <th>total_duration</th>\n",
       "      <th>start_ride_price</th>\n",
       "      <th>minute_price</th>\n",
       "      <th>subscription_fee</th>\n",
       "      <th>subscription_type</th>\n",
       "      <th>total_trips</th>\n",
       "    </tr>\n",
       "  </thead>\n",
       "  <tbody>\n",
       "    <tr>\n",
       "      <th>0</th>\n",
       "      <td>1</td>\n",
       "      <td>1</td>\n",
       "      <td>7027.511294</td>\n",
       "      <td>42.0</td>\n",
       "      <td>0.0</td>\n",
       "      <td>6.0</td>\n",
       "      <td>199.0</td>\n",
       "      <td>ultra</td>\n",
       "      <td>2</td>\n",
       "    </tr>\n",
       "    <tr>\n",
       "      <th>1</th>\n",
       "      <td>1</td>\n",
       "      <td>4</td>\n",
       "      <td>754.159807</td>\n",
       "      <td>7.0</td>\n",
       "      <td>0.0</td>\n",
       "      <td>6.0</td>\n",
       "      <td>199.0</td>\n",
       "      <td>ultra</td>\n",
       "      <td>1</td>\n",
       "    </tr>\n",
       "    <tr>\n",
       "      <th>2</th>\n",
       "      <td>1</td>\n",
       "      <td>8</td>\n",
       "      <td>6723.470560</td>\n",
       "      <td>46.0</td>\n",
       "      <td>0.0</td>\n",
       "      <td>6.0</td>\n",
       "      <td>199.0</td>\n",
       "      <td>ultra</td>\n",
       "      <td>2</td>\n",
       "    </tr>\n",
       "    <tr>\n",
       "      <th>3</th>\n",
       "      <td>1</td>\n",
       "      <td>10</td>\n",
       "      <td>5809.911100</td>\n",
       "      <td>32.0</td>\n",
       "      <td>0.0</td>\n",
       "      <td>6.0</td>\n",
       "      <td>199.0</td>\n",
       "      <td>ultra</td>\n",
       "      <td>2</td>\n",
       "    </tr>\n",
       "    <tr>\n",
       "      <th>4</th>\n",
       "      <td>1</td>\n",
       "      <td>11</td>\n",
       "      <td>7003.499363</td>\n",
       "      <td>56.0</td>\n",
       "      <td>0.0</td>\n",
       "      <td>6.0</td>\n",
       "      <td>199.0</td>\n",
       "      <td>ultra</td>\n",
       "      <td>3</td>\n",
       "    </tr>\n",
       "    <tr>\n",
       "      <th>5</th>\n",
       "      <td>1</td>\n",
       "      <td>12</td>\n",
       "      <td>6751.629942</td>\n",
       "      <td>28.0</td>\n",
       "      <td>0.0</td>\n",
       "      <td>6.0</td>\n",
       "      <td>199.0</td>\n",
       "      <td>ultra</td>\n",
       "      <td>2</td>\n",
       "    </tr>\n",
       "    <tr>\n",
       "      <th>6</th>\n",
       "      <td>2</td>\n",
       "      <td>3</td>\n",
       "      <td>10187.723006</td>\n",
       "      <td>63.0</td>\n",
       "      <td>0.0</td>\n",
       "      <td>6.0</td>\n",
       "      <td>199.0</td>\n",
       "      <td>ultra</td>\n",
       "      <td>3</td>\n",
       "    </tr>\n",
       "    <tr>\n",
       "      <th>7</th>\n",
       "      <td>2</td>\n",
       "      <td>4</td>\n",
       "      <td>6164.381824</td>\n",
       "      <td>40.0</td>\n",
       "      <td>0.0</td>\n",
       "      <td>6.0</td>\n",
       "      <td>199.0</td>\n",
       "      <td>ultra</td>\n",
       "      <td>2</td>\n",
       "    </tr>\n",
       "    <tr>\n",
       "      <th>8</th>\n",
       "      <td>2</td>\n",
       "      <td>6</td>\n",
       "      <td>3255.338202</td>\n",
       "      <td>14.0</td>\n",
       "      <td>0.0</td>\n",
       "      <td>6.0</td>\n",
       "      <td>199.0</td>\n",
       "      <td>ultra</td>\n",
       "      <td>1</td>\n",
       "    </tr>\n",
       "    <tr>\n",
       "      <th>9</th>\n",
       "      <td>2</td>\n",
       "      <td>7</td>\n",
       "      <td>6780.722964</td>\n",
       "      <td>48.0</td>\n",
       "      <td>0.0</td>\n",
       "      <td>6.0</td>\n",
       "      <td>199.0</td>\n",
       "      <td>ultra</td>\n",
       "      <td>2</td>\n",
       "    </tr>\n",
       "  </tbody>\n",
       "</table>\n",
       "</div>"
      ],
      "text/plain": [
       "   user_id  month  total_distance  total_duration  start_ride_price  \\\n",
       "0        1      1     7027.511294            42.0               0.0   \n",
       "1        1      4      754.159807             7.0               0.0   \n",
       "2        1      8     6723.470560            46.0               0.0   \n",
       "3        1     10     5809.911100            32.0               0.0   \n",
       "4        1     11     7003.499363            56.0               0.0   \n",
       "5        1     12     6751.629942            28.0               0.0   \n",
       "6        2      3    10187.723006            63.0               0.0   \n",
       "7        2      4     6164.381824            40.0               0.0   \n",
       "8        2      6     3255.338202            14.0               0.0   \n",
       "9        2      7     6780.722964            48.0               0.0   \n",
       "\n",
       "   minute_price  subscription_fee subscription_type  total_trips  \n",
       "0           6.0             199.0             ultra            2  \n",
       "1           6.0             199.0             ultra            1  \n",
       "2           6.0             199.0             ultra            2  \n",
       "3           6.0             199.0             ultra            2  \n",
       "4           6.0             199.0             ultra            3  \n",
       "5           6.0             199.0             ultra            2  \n",
       "6           6.0             199.0             ultra            3  \n",
       "7           6.0             199.0             ultra            2  \n",
       "8           6.0             199.0             ultra            1  \n",
       "9           6.0             199.0             ultra            2  "
      ]
     },
     "execution_count": 33,
     "metadata": {},
     "output_type": "execute_result"
    }
   ],
   "source": [
    "# каждое значение из столбца duration округляется с np.ceil \n",
    "gofast['duration'] = np.ceil(gofast['duration']) \n",
    "\n",
    "per_month = gofast.groupby(['user_id', 'month']).agg({'distance': 'sum', 'duration': 'sum', 'start_ride_price': 'sum', 'minute_price': 'sum', 'subscription_fee': 'sum', 'subscription_type': 'first', 'date': 'count'}).reset_index()\n",
    "per_month.columns = ['user_id', 'month', 'total_distance', 'total_duration', 'start_ride_price', 'minute_price', 'subscription_fee', 'subscription_type', 'total_trips']\n",
    "per_month['start_ride_price'] = per_month['start_ride_price'] / per_month['total_trips']\n",
    "per_month['minute_price'] = per_month['minute_price'] / per_month['total_trips']\n",
    "per_month['subscription_fee'] = per_month['subscription_fee'] / per_month['total_trips']\n",
    "\n",
    "print(per_month.info())\n",
    "per_month.head(10)"
   ]
  },
  {
   "cell_type": "markdown",
   "id": "420544bc",
   "metadata": {},
   "source": [
    "5.2 Добавление столбеца с помесячной выручкой в DF per_month. "
   ]
  },
  {
   "cell_type": "code",
   "execution_count": null,
   "id": "b95366b2",
   "metadata": {},
   "outputs": [
    {
     "name": "stdout",
     "output_type": "stream",
     "text": [
      "<class 'pandas.core.frame.DataFrame'>\n",
      "RangeIndex: 11331 entries, 0 to 11330\n",
      "Data columns (total 10 columns):\n",
      " #   Column             Non-Null Count  Dtype  \n",
      "---  ------             --------------  -----  \n",
      " 0   user_id            11331 non-null  int64  \n",
      " 1   month              11331 non-null  int64  \n",
      " 2   total_distance     11331 non-null  float64\n",
      " 3   total_duration     11331 non-null  float64\n",
      " 4   start_ride_price   11331 non-null  float64\n",
      " 5   minute_price       11331 non-null  float64\n",
      " 6   subscription_fee   11331 non-null  float64\n",
      " 7   subscription_type  11331 non-null  object \n",
      " 8   total_trips        11331 non-null  int64  \n",
      " 9   monthly_revenue    11331 non-null  float64\n",
      "dtypes: float64(6), int64(3), object(1)\n",
      "memory usage: 885.4+ KB\n",
      "None\n"
     ]
    },
    {
     "data": {
      "text/html": [
       "<div>\n",
       "<style scoped>\n",
       "    .dataframe tbody tr th:only-of-type {\n",
       "        vertical-align: middle;\n",
       "    }\n",
       "\n",
       "    .dataframe tbody tr th {\n",
       "        vertical-align: top;\n",
       "    }\n",
       "\n",
       "    .dataframe thead th {\n",
       "        text-align: right;\n",
       "    }\n",
       "</style>\n",
       "<table border=\"1\" class=\"dataframe\">\n",
       "  <thead>\n",
       "    <tr style=\"text-align: right;\">\n",
       "      <th></th>\n",
       "      <th>user_id</th>\n",
       "      <th>month</th>\n",
       "      <th>total_distance</th>\n",
       "      <th>total_duration</th>\n",
       "      <th>start_ride_price</th>\n",
       "      <th>minute_price</th>\n",
       "      <th>subscription_fee</th>\n",
       "      <th>subscription_type</th>\n",
       "      <th>total_trips</th>\n",
       "      <th>monthly_revenue</th>\n",
       "    </tr>\n",
       "  </thead>\n",
       "  <tbody>\n",
       "    <tr>\n",
       "      <th>0</th>\n",
       "      <td>1</td>\n",
       "      <td>1</td>\n",
       "      <td>7027.511294</td>\n",
       "      <td>42.0</td>\n",
       "      <td>0.0</td>\n",
       "      <td>6.0</td>\n",
       "      <td>199.0</td>\n",
       "      <td>ultra</td>\n",
       "      <td>2</td>\n",
       "      <td>451.0</td>\n",
       "    </tr>\n",
       "    <tr>\n",
       "      <th>1</th>\n",
       "      <td>1</td>\n",
       "      <td>4</td>\n",
       "      <td>754.159807</td>\n",
       "      <td>7.0</td>\n",
       "      <td>0.0</td>\n",
       "      <td>6.0</td>\n",
       "      <td>199.0</td>\n",
       "      <td>ultra</td>\n",
       "      <td>1</td>\n",
       "      <td>241.0</td>\n",
       "    </tr>\n",
       "    <tr>\n",
       "      <th>2</th>\n",
       "      <td>1</td>\n",
       "      <td>8</td>\n",
       "      <td>6723.470560</td>\n",
       "      <td>46.0</td>\n",
       "      <td>0.0</td>\n",
       "      <td>6.0</td>\n",
       "      <td>199.0</td>\n",
       "      <td>ultra</td>\n",
       "      <td>2</td>\n",
       "      <td>475.0</td>\n",
       "    </tr>\n",
       "    <tr>\n",
       "      <th>3</th>\n",
       "      <td>1</td>\n",
       "      <td>10</td>\n",
       "      <td>5809.911100</td>\n",
       "      <td>32.0</td>\n",
       "      <td>0.0</td>\n",
       "      <td>6.0</td>\n",
       "      <td>199.0</td>\n",
       "      <td>ultra</td>\n",
       "      <td>2</td>\n",
       "      <td>391.0</td>\n",
       "    </tr>\n",
       "    <tr>\n",
       "      <th>4</th>\n",
       "      <td>1</td>\n",
       "      <td>11</td>\n",
       "      <td>7003.499363</td>\n",
       "      <td>56.0</td>\n",
       "      <td>0.0</td>\n",
       "      <td>6.0</td>\n",
       "      <td>199.0</td>\n",
       "      <td>ultra</td>\n",
       "      <td>3</td>\n",
       "      <td>535.0</td>\n",
       "    </tr>\n",
       "    <tr>\n",
       "      <th>5</th>\n",
       "      <td>1</td>\n",
       "      <td>12</td>\n",
       "      <td>6751.629942</td>\n",
       "      <td>28.0</td>\n",
       "      <td>0.0</td>\n",
       "      <td>6.0</td>\n",
       "      <td>199.0</td>\n",
       "      <td>ultra</td>\n",
       "      <td>2</td>\n",
       "      <td>367.0</td>\n",
       "    </tr>\n",
       "    <tr>\n",
       "      <th>6</th>\n",
       "      <td>2</td>\n",
       "      <td>3</td>\n",
       "      <td>10187.723006</td>\n",
       "      <td>63.0</td>\n",
       "      <td>0.0</td>\n",
       "      <td>6.0</td>\n",
       "      <td>199.0</td>\n",
       "      <td>ultra</td>\n",
       "      <td>3</td>\n",
       "      <td>577.0</td>\n",
       "    </tr>\n",
       "    <tr>\n",
       "      <th>7</th>\n",
       "      <td>2</td>\n",
       "      <td>4</td>\n",
       "      <td>6164.381824</td>\n",
       "      <td>40.0</td>\n",
       "      <td>0.0</td>\n",
       "      <td>6.0</td>\n",
       "      <td>199.0</td>\n",
       "      <td>ultra</td>\n",
       "      <td>2</td>\n",
       "      <td>439.0</td>\n",
       "    </tr>\n",
       "    <tr>\n",
       "      <th>8</th>\n",
       "      <td>2</td>\n",
       "      <td>6</td>\n",
       "      <td>3255.338202</td>\n",
       "      <td>14.0</td>\n",
       "      <td>0.0</td>\n",
       "      <td>6.0</td>\n",
       "      <td>199.0</td>\n",
       "      <td>ultra</td>\n",
       "      <td>1</td>\n",
       "      <td>283.0</td>\n",
       "    </tr>\n",
       "    <tr>\n",
       "      <th>9</th>\n",
       "      <td>2</td>\n",
       "      <td>7</td>\n",
       "      <td>6780.722964</td>\n",
       "      <td>48.0</td>\n",
       "      <td>0.0</td>\n",
       "      <td>6.0</td>\n",
       "      <td>199.0</td>\n",
       "      <td>ultra</td>\n",
       "      <td>2</td>\n",
       "      <td>487.0</td>\n",
       "    </tr>\n",
       "  </tbody>\n",
       "</table>\n",
       "</div>"
      ],
      "text/plain": [
       "   user_id  month  total_distance  total_duration  start_ride_price  \\\n",
       "0        1      1     7027.511294            42.0               0.0   \n",
       "1        1      4      754.159807             7.0               0.0   \n",
       "2        1      8     6723.470560            46.0               0.0   \n",
       "3        1     10     5809.911100            32.0               0.0   \n",
       "4        1     11     7003.499363            56.0               0.0   \n",
       "5        1     12     6751.629942            28.0               0.0   \n",
       "6        2      3    10187.723006            63.0               0.0   \n",
       "7        2      4     6164.381824            40.0               0.0   \n",
       "8        2      6     3255.338202            14.0               0.0   \n",
       "9        2      7     6780.722964            48.0               0.0   \n",
       "\n",
       "   minute_price  subscription_fee subscription_type  total_trips  \\\n",
       "0           6.0             199.0             ultra            2   \n",
       "1           6.0             199.0             ultra            1   \n",
       "2           6.0             199.0             ultra            2   \n",
       "3           6.0             199.0             ultra            2   \n",
       "4           6.0             199.0             ultra            3   \n",
       "5           6.0             199.0             ultra            2   \n",
       "6           6.0             199.0             ultra            3   \n",
       "7           6.0             199.0             ultra            2   \n",
       "8           6.0             199.0             ultra            1   \n",
       "9           6.0             199.0             ultra            2   \n",
       "\n",
       "   monthly_revenue  \n",
       "0            451.0  \n",
       "1            241.0  \n",
       "2            475.0  \n",
       "3            391.0  \n",
       "4            535.0  \n",
       "5            367.0  \n",
       "6            577.0  \n",
       "7            439.0  \n",
       "8            283.0  \n",
       "9            487.0  "
      ]
     },
     "execution_count": 34,
     "metadata": {},
     "output_type": "execute_result"
    }
   ],
   "source": [
    "per_month['monthly_revenue'] = (\n",
    "    per_month['start_ride_price'] * per_month['total_trips']\n",
    "    + per_month['minute_price'] * per_month['total_duration'] \n",
    "    + per_month['subscription_fee'])\n",
    "\n",
    "print(per_month.info())\n",
    "per_month.head(10)"
   ]
  },
  {
   "cell_type": "markdown",
   "id": "adfdcc3d",
   "metadata": {},
   "source": [
    "#### Шаг 6. Проверка гипотез"
   ]
  },
  {
   "cell_type": "markdown",
   "id": "32a52f35",
   "metadata": {},
   "source": [
    "6.1 Тратят ли пользователи с подпиской больше времени на поездки?"
   ]
  },
  {
   "cell_type": "markdown",
   "id": "be2e42aa",
   "metadata": {},
   "source": [
    "<b>Гипотеза Н0</b>: Продолжительность поездок для подписчиков ultra равна продолжительности поездок для пользователей без подписки. <br>\n",
    "<b>Гипотеза Н1</b>: Продолжительность поездок для подписчиков ultra больше, чем для пользователей без подписки."
   ]
  },
  {
   "cell_type": "code",
   "execution_count": null,
   "id": "4b3d51d0",
   "metadata": {},
   "outputs": [
    {
     "name": "stdout",
     "output_type": "stream",
     "text": [
      "1.2804098316645618e-34\n",
      "Отвергаем нулевую гипотезу\n"
     ]
    }
   ],
   "source": [
    "result = st.ttest_ind(ultra_sub['duration'], free_sub['duration'], alternative='greater')\n",
    "print(result.pvalue)\n",
    "\n",
    "if result.pvalue < 0.05:\n",
    "    print('Отвергаем нулевую гипотезу')\n",
    "else:\n",
    "    print('Не отвергаем нулевую гипотезу')"
   ]
  },
  {
   "cell_type": "code",
   "execution_count": null,
   "id": "ad929d5e",
   "metadata": {},
   "outputs": [
    {
     "name": "stdout",
     "output_type": "stream",
     "text": [
      "Средняя продолжительность поездок для подписчиков ultra: 19.0\n",
      "Средняя продолжительность поездок для пользователей без подписки: 17.0\n"
     ]
    }
   ],
   "source": [
    "print('Средняя продолжительность поездок для подписчиков ultra:', ultra_sub['duration'].mean().round())\n",
    "print('Средняя продолжительность поездок для пользователей без подписки:', free_sub['duration'].mean().round())"
   ]
  },
  {
   "cell_type": "markdown",
   "id": "97e05f2f",
   "metadata": {},
   "source": [
    "Продолжительность поездок для подписчиков ultra больше, чем для пользователей без подписки."
   ]
  },
  {
   "cell_type": "markdown",
   "id": "4e89e7e1",
   "metadata": {},
   "source": [
    "6.2 Можно ли сказать, что среднее расстояние, которое проезжают пользователи с подпиской за одну поездку, не превышает 3130 метров?"
   ]
  },
  {
   "cell_type": "markdown",
   "id": "7586e75a",
   "metadata": {},
   "source": [
    "<b>Гипотеза Н0</b>: Среднее расстояние, которое проезжают пользователи с подпиской ultra за одну поездку равно 3130 метров. <br>\n",
    "<b>Гипотеза Н1</b>: Среднее расстояние, которое проезжают пользователи с подпиской ultra за одну поездку более 3130 метров."
   ]
  },
  {
   "cell_type": "code",
   "execution_count": null,
   "id": "55fecec3",
   "metadata": {},
   "outputs": [
    {
     "name": "stdout",
     "output_type": "stream",
     "text": [
      "0.9195368847849785\n",
      "Не отвергаем нулевую гипотезу\n"
     ]
    }
   ],
   "source": [
    "result = st.ttest_1samp(ultra_sub['distance'], 3130, alternative='greater')\n",
    "print(result.pvalue)\n",
    "\n",
    "if result.pvalue < 0.05:\n",
    "    print('Отвергаем нулевую гипотезу')\n",
    "else:\n",
    "    print('Не отвергаем нулевую гипотезу')"
   ]
  },
  {
   "cell_type": "code",
   "execution_count": null,
   "id": "52406dbd",
   "metadata": {},
   "outputs": [
    {
     "name": "stdout",
     "output_type": "stream",
     "text": [
      "Средняя расстояние поездок для подписчиков ultra: 3115.0\n"
     ]
    }
   ],
   "source": [
    "print('Средняя расстояние поездок для подписчиков ultra:', ultra_sub['distance'].mean().round())"
   ]
  },
  {
   "cell_type": "markdown",
   "id": "c0c05a93",
   "metadata": {},
   "source": [
    "Не получилось отвергнуть гипотезу о том, что среднее расстояние, которое проезжают пользователи с подпиской за одну поездку, равно 3130 метров."
   ]
  },
  {
   "cell_type": "markdown",
   "id": "7db752ad",
   "metadata": {},
   "source": [
    "6.3 Будет ли помесячная выручка от пользователей с подпиской по месяцам выше, чем выручка от пользователей без подписки. "
   ]
  },
  {
   "cell_type": "markdown",
   "id": "1cce97d4",
   "metadata": {},
   "source": [
    "<b>Гипотеза Н0</b>: Средняя выручка от пользователей с подпиской и пользователей без подписки равна.<br>\n",
    "<b>Гипотеза Н1</b>: Средняя выручка от пользователей с подпиской выше, чем выручка от пользователей без подписки."
   ]
  },
  {
   "cell_type": "code",
   "execution_count": null,
   "id": "77a09b78",
   "metadata": {},
   "outputs": [
    {
     "name": "stdout",
     "output_type": "stream",
     "text": [
      "1.8850394384715216e-31\n",
      "Отвергаем нулевую гипотезу\n"
     ]
    }
   ],
   "source": [
    "# Выбираем данные для подписки free\n",
    "mr_free = per_month[per_month['subscription_type'] == 'free']['monthly_revenue']\n",
    "\n",
    "# Выбираем данные для подписки ultra\n",
    "mr_ultra = per_month[per_month['subscription_type'] == 'ultra']['monthly_revenue']\n",
    "\n",
    "result = st.ttest_ind(mr_ultra, mr_free, alternative='greater')\n",
    "print(result.pvalue)   \n",
    "\n",
    "\n",
    "if result.pvalue < 0.05:\n",
    "    print('Отвергаем нулевую гипотезу')\n",
    "else:\n",
    "    print('Не отвергаем нулевую гипотезу')"
   ]
  },
  {
   "cell_type": "code",
   "execution_count": null,
   "id": "e7978f84",
   "metadata": {},
   "outputs": [
    {
     "name": "stdout",
     "output_type": "stream",
     "text": [
      "Средняя выручка от пользователей с подпиской: subscription_type\n",
      "free     329.0\n",
      "ultra    363.0\n",
      "Name: monthly_revenue, dtype: float64\n"
     ]
    }
   ],
   "source": [
    "print('Средняя выручка от пользователей с подпиской:', per_month.groupby('subscription_type')['monthly_revenue'].mean().round())"
   ]
  },
  {
   "cell_type": "markdown",
   "id": "6b985f8f",
   "metadata": {},
   "source": [
    "Помесячная выручка от пользователей с подпиской по месяцам выше, чем выручка от пользователей без подписки."
   ]
  },
  {
   "cell_type": "markdown",
   "id": "dceb802a",
   "metadata": {},
   "source": [
    "6.4 Техническая команда сервиса обновила сервера, с которыми взаимодействует мобильное приложение. Она надеется, что из-за этого количество обращений в техподдержку значимо снизилось. Некоторый файл содержит для каждого пользователя данные о количестве обращений до обновления и после него. Какой тест вам понадобился бы для проверки этой гипотезы?"
   ]
  },
  {
   "cell_type": "markdown",
   "id": "f4e0a160",
   "metadata": {},
   "source": [
    "Парный t-тест, у нас есть два связанных набора данных, измерения до и после вмешательства на одной и той же выборке. st.ttest_rel(before, after)"
   ]
  },
  {
   "cell_type": "markdown",
   "id": "001a7ee2",
   "metadata": {},
   "source": [
    "#### Шаг 7. Распределения"
   ]
  },
  {
   "cell_type": "markdown",
   "id": "90e72057",
   "metadata": {},
   "source": [
    "7.1 Какое минимальное количество промокодов нужно разослать, чтобы вероятность не выполнить план была примерно 5%."
   ]
  },
  {
   "cell_type": "code",
   "execution_count": null,
   "id": "35162c0b",
   "metadata": {},
   "outputs": [
    {
     "data": {
      "image/png": "[encoded data removed]",
      "text/plain": [
       "<Figure size 720x432 with 1 Axes>"
      ]
     },
     "metadata": {
      "needs_background": "light"
     },
     "output_type": "display_data"
    },
    {
     "name": "stdout",
     "output_type": "stream",
     "text": [
      "Минимальное количество промокодов, которое нужно разослать:  1161\n"
     ]
    }
   ],
   "source": [
    "p = 0.1\n",
    "n = 100\n",
    "\n",
    "# Минимальное количество промокодов, чтобы вероятность не выполнить план была примерно 5%\n",
    "while binom.cdf(100 - 1, n, p) > 0.05:\n",
    "    n += 1\n",
    "\n",
    "x = range(60,180)\n",
    "plt.figure(figsize=(10, 6))\n",
    "plt.plot(x, binom.pmf(x, n, p), 'b-', color='purple')\n",
    "plt.xlabel('Количество клиентов продливших подписку')\n",
    "plt.ylabel('Вероятность')\n",
    "plt.axvline(100, color='yellow')\n",
    "plt.title('Биномиальное распределение для количества клиентов продливших подписку')\n",
    "plt.show()\n",
    "\n",
    "print(\"Минимальное количество промокодов, которое нужно разослать: \", n)"
   ]
  },
  {
   "cell_type": "markdown",
   "id": "71df7248",
   "metadata": {},
   "source": [
    "7.2 Оцените вероятность того, что уведомление откроют не более 399,5 тыс. пользователей."
   ]
  },
  {
   "cell_type": "code",
   "execution_count": null,
   "id": "32943951",
   "metadata": {},
   "outputs": [
    {
     "data": {
      "image/png": "[encoded data removed]",
      "text/plain": [
       "<Figure size 720x432 with 1 Axes>"
      ]
     },
     "metadata": {
      "needs_background": "light"
     },
     "output_type": "display_data"
    },
    {
     "name": "stdout",
     "output_type": "stream",
     "text": [
      "Вероятность того, что уведомление откроют не более 399.5 тыс. пользователей: 15.371708296369768\n"
     ]
    }
   ],
   "source": [
    "p = 0.40\n",
    "n = 1000000\n",
    "users = 399500\n",
    "\n",
    "# Параметры нормального распределения\n",
    "mu = n * p\n",
    "sigma = (n * p * (1 - p))**0.5\n",
    "\n",
    "# Вероятность открытия не более 399.5 тыс. уведомлений\n",
    "result = norm.cdf(users, mu, sigma)\n",
    "\n",
    "plt.figure(figsize=(10, 6))\n",
    "plt.plot(np.arange((mu - 4 * sigma), (mu + 4 * sigma), 1), norm.pdf(np.arange((mu - 4 * sigma), (mu + 4 * sigma), 1), mu, sigma), 'b-', color='purple')\n",
    "plt.axvline(399500, color='yellow')\n",
    "plt.title('Нормальное распределение открытия уведомлений')\n",
    "plt.xlabel('Количество открытых уведомлений')\n",
    "plt.ylabel('Плотность вероятности')\n",
    "plt.show()\n",
    "\n",
    "print(\"Вероятность того, что уведомление откроют не более 399.5 тыс. пользователей:\", result * 100)"
   ]
  },
  {
   "cell_type": "markdown",
   "id": "dd18f85f",
   "metadata": {},
   "source": [
    "<b>Общий вывод:</b><br>\n"
   ]
  },
  {
   "cell_type": "markdown",
   "id": "4e0e8e39",
   "metadata": {},
   "source": [
    "По итогам проведенного анализа данных в рамках данного проекта можно сделать следующие выводы:\n",
    "1. После предварительного изучения и предобработки данных, установления корректного типа данных, удаления дубликатов и добавления необходимого столбца, данные подготовлены для дальнейшего анализа.\n",
    "2. В ходе исследовательского анализа данных было выявлено:\n",
    "- Наибольшее количество пользователей сервиса в городе Пятигорск 219 / 14.28%, наименьшее в Москве 168 / 10.95%.\n",
    "- Пользователей с подпиской free 835 / 54.43% от общего числа. Подпиской ultra пользуются 699 / 45.57% от общего числа пользователей.\n",
    "- Услугами сервиса пользуются люди от 12 до 43 лет. Средний возраст пользователя сервиса - 25 лет, эта категория так же является самой большой частью от общего числа пользователей - 145 / 9.45%. Больше всего пользователей в возрасте от 20 до 30 - это 77% от общего числа.\n",
    "- Среднее расстояние преодалеваемое пользователем за одну поезду около 3-ёх километров. Присутствуют пиковые значения в районе 600-700 и 3200 метров.\n",
    "- Средня и медианная продолжительной одной поездки - около 17 минут. Максимальное время поезди в основном не превышает 35 минут.\n",
    "3. По результату анализа расстоянии и времени поездок для пользователей с подпиской и без выявлено:\n",
    "- Пользователи с подпиской free имеют практически в 2ое большее число поездок, чем пользователи с подпиской ultra. Среднее расстояние поездки у пользователей с подпиской и без находится в районе 3050 м. (+-70 м.). Пользователи с подпиской free чаще преодалевают большее расстояние чем пользователи с подпиской ultra. Так максимальное значение поездки по подписке free равно 7211 м., а по подписке ultra 5699 м.\n",
    "- Среднее время поездки у пользователей с подпиской free 17.39 мин. немного меньше, чем у пользователей с подпиской ultra 18.54 мин., такая же ситуация и с медианным временем. Пользователи с подпиской ultra совершают более длительные поездки. Так максимальное значение времени поездки по подписке ultra составляет 41 минуту, против 35 минут по подписке free. У пользователей с подпиской free наблюдается пик в районе 0.50 минуты.\n",
    "4. В ходе исследования были подтверждены следующие гипотезы:\n",
    "- продолжительность поездок для подписчиков ultra больше, чем для пользователей без подписки;\n",
    "- среднее расстояние, которое проезжают пользователи с подпиской за одну поездку, равно 3130 метров;\n",
    "- помесячная выручка от пользователей с подпиской по месяцам выше, чем выручка от пользователей без подписки.\n",
    "5. Задания на распределения:\n",
    "- Минимальное количество промокодов которое нужно разослать, что бы 100 существующих клиентов продлили подписку, при вероятности не выполнить план 5% - 1161 штук. \n",
    "- Вероятность того, что уведомление откроют не более 399,5 тыс. пользователей из 1000000 - 15.37%\n"
   ]
  }
 ],
 "metadata": {
  "ExecuteTimeLog": [
   {
    "duration": 401,
    "start_time": "2024-03-31T09:39:12.772Z"
   },
   {
    "duration": 209,
    "start_time": "2024-03-31T09:39:14.530Z"
   },
   {
    "duration": 152,
    "start_time": "2024-03-31T09:40:42.847Z"
   },
   {
    "duration": 74,
    "start_time": "2024-03-31T09:40:49.438Z"
   },
   {
    "duration": 89,
    "start_time": "2024-03-31T09:41:11.159Z"
   },
   {
    "duration": 90,
    "start_time": "2024-03-31T09:41:55.218Z"
   },
   {
    "duration": 3,
    "start_time": "2024-03-31T09:42:41.278Z"
   },
   {
    "duration": 68,
    "start_time": "2024-03-31T09:42:44.130Z"
   },
   {
    "duration": 18,
    "start_time": "2024-03-31T09:42:45.955Z"
   },
   {
    "duration": 18,
    "start_time": "2024-03-31T09:42:48.136Z"
   },
   {
    "duration": 15,
    "start_time": "2024-03-31T09:43:13.537Z"
   },
   {
    "duration": 878,
    "start_time": "2024-03-31T09:48:31.283Z"
   },
   {
    "duration": 68,
    "start_time": "2024-03-31T09:48:32.352Z"
   },
   {
    "duration": 18,
    "start_time": "2024-03-31T09:48:34.556Z"
   },
   {
    "duration": 17,
    "start_time": "2024-03-31T09:48:35.294Z"
   },
   {
    "duration": 13,
    "start_time": "2024-03-31T09:48:35.941Z"
   },
   {
    "duration": 14,
    "start_time": "2024-03-31T09:52:26.117Z"
   },
   {
    "duration": 24,
    "start_time": "2024-03-31T09:52:28.481Z"
   },
   {
    "duration": 7,
    "start_time": "2024-03-31T09:54:24.165Z"
   },
   {
    "duration": 13,
    "start_time": "2024-03-31T09:54:57.677Z"
   },
   {
    "duration": 19,
    "start_time": "2024-03-31T09:55:07.332Z"
   },
   {
    "duration": 15,
    "start_time": "2024-03-31T09:56:32.643Z"
   },
   {
    "duration": 14,
    "start_time": "2024-03-31T10:05:34.709Z"
   },
   {
    "duration": 1155,
    "start_time": "2024-03-31T10:05:40.581Z"
   },
   {
    "duration": 67,
    "start_time": "2024-03-31T10:05:41.738Z"
   },
   {
    "duration": 3,
    "start_time": "2024-03-31T10:05:41.806Z"
   },
   {
    "duration": 30,
    "start_time": "2024-03-31T10:05:41.812Z"
   },
   {
    "duration": 16,
    "start_time": "2024-03-31T10:05:41.844Z"
   },
   {
    "duration": 25,
    "start_time": "2024-03-31T10:05:41.861Z"
   },
   {
    "duration": 23,
    "start_time": "2024-03-31T10:05:41.888Z"
   },
   {
    "duration": 23,
    "start_time": "2024-03-31T10:05:41.913Z"
   },
   {
    "duration": 14,
    "start_time": "2024-03-31T10:06:23.623Z"
   },
   {
    "duration": 7,
    "start_time": "2024-03-31T10:06:37.544Z"
   },
   {
    "duration": 118,
    "start_time": "2024-03-31T10:10:06.961Z"
   },
   {
    "duration": 298,
    "start_time": "2024-03-31T10:10:48.344Z"
   },
   {
    "duration": 255,
    "start_time": "2024-03-31T10:11:06.879Z"
   },
   {
    "duration": 268,
    "start_time": "2024-03-31T10:12:15.145Z"
   },
   {
    "duration": 246,
    "start_time": "2024-03-31T10:12:39.703Z"
   },
   {
    "duration": 533,
    "start_time": "2024-03-31T10:13:28.166Z"
   },
   {
    "duration": 332,
    "start_time": "2024-03-31T10:13:36.632Z"
   },
   {
    "duration": 378,
    "start_time": "2024-03-31T10:15:13.645Z"
   },
   {
    "duration": 848,
    "start_time": "2024-03-31T10:15:41.257Z"
   },
   {
    "duration": 580,
    "start_time": "2024-03-31T10:15:54.427Z"
   },
   {
    "duration": 2,
    "start_time": "2024-03-31T10:17:26.265Z"
   },
   {
    "duration": 67,
    "start_time": "2024-03-31T10:17:27.117Z"
   },
   {
    "duration": 3,
    "start_time": "2024-03-31T10:17:27.479Z"
   },
   {
    "duration": 341,
    "start_time": "2024-03-31T10:17:29.601Z"
   },
   {
    "duration": 6,
    "start_time": "2024-03-31T10:17:30.779Z"
   },
   {
    "duration": 11,
    "start_time": "2024-03-31T10:18:10.079Z"
   },
   {
    "duration": 348,
    "start_time": "2024-03-31T10:18:10.720Z"
   },
   {
    "duration": 6,
    "start_time": "2024-03-31T10:18:13.668Z"
   },
   {
    "duration": 3,
    "start_time": "2024-03-31T10:18:23.400Z"
   },
   {
    "duration": 328,
    "start_time": "2024-03-31T10:18:25.434Z"
   },
   {
    "duration": 6,
    "start_time": "2024-03-31T10:18:29.297Z"
   },
   {
    "duration": 392,
    "start_time": "2024-03-31T10:20:46.082Z"
   },
   {
    "duration": 11,
    "start_time": "2024-03-31T10:21:17.008Z"
   },
   {
    "duration": 463,
    "start_time": "2024-03-31T10:21:41.127Z"
   },
   {
    "duration": 294,
    "start_time": "2024-03-31T10:21:57.323Z"
   },
   {
    "duration": 23,
    "start_time": "2024-03-31T10:22:40.643Z"
   },
   {
    "duration": 10,
    "start_time": "2024-03-31T10:23:12.389Z"
   },
   {
    "duration": 13,
    "start_time": "2024-03-31T10:23:19.962Z"
   },
   {
    "duration": 534,
    "start_time": "2024-03-31T10:24:26.038Z"
   },
   {
    "duration": 576,
    "start_time": "2024-03-31T10:24:36.921Z"
   },
   {
    "duration": 643,
    "start_time": "2024-03-31T10:24:51.415Z"
   },
   {
    "duration": 573,
    "start_time": "2024-03-31T10:25:01.665Z"
   },
   {
    "duration": 3,
    "start_time": "2024-03-31T10:25:22.741Z"
   },
   {
    "duration": 65,
    "start_time": "2024-03-31T10:25:23.913Z"
   },
   {
    "duration": 2,
    "start_time": "2024-03-31T10:25:24.450Z"
   },
   {
    "duration": 318,
    "start_time": "2024-03-31T10:25:25.179Z"
   },
   {
    "duration": 7,
    "start_time": "2024-03-31T10:25:28.121Z"
   },
   {
    "duration": 381,
    "start_time": "2024-03-31T10:25:29.945Z"
   },
   {
    "duration": 12,
    "start_time": "2024-03-31T10:25:34.516Z"
   },
   {
    "duration": 378,
    "start_time": "2024-03-31T10:25:50.889Z"
   },
   {
    "duration": 418,
    "start_time": "2024-03-31T10:27:19.351Z"
   },
   {
    "duration": 375,
    "start_time": "2024-03-31T10:27:45.226Z"
   },
   {
    "duration": 381,
    "start_time": "2024-03-31T10:27:50.523Z"
   },
   {
    "duration": 339,
    "start_time": "2024-03-31T10:28:04.423Z"
   },
   {
    "duration": 14,
    "start_time": "2024-03-31T10:29:03.129Z"
   },
   {
    "duration": 3,
    "start_time": "2024-03-31T10:30:09.330Z"
   },
   {
    "duration": 8,
    "start_time": "2024-03-31T10:31:14.761Z"
   },
   {
    "duration": 5,
    "start_time": "2024-03-31T10:32:34.416Z"
   },
   {
    "duration": 10,
    "start_time": "2024-03-31T10:37:10.648Z"
   },
   {
    "duration": 11,
    "start_time": "2024-03-31T10:37:27.056Z"
   },
   {
    "duration": 9,
    "start_time": "2024-03-31T10:39:32.952Z"
   },
   {
    "duration": 7,
    "start_time": "2024-03-31T10:40:17.590Z"
   },
   {
    "duration": 6,
    "start_time": "2024-03-31T10:40:30.617Z"
   },
   {
    "duration": 9,
    "start_time": "2024-03-31T10:41:31.519Z"
   },
   {
    "duration": 13,
    "start_time": "2024-03-31T10:42:05.066Z"
   },
   {
    "duration": 14,
    "start_time": "2024-03-31T10:46:47.465Z"
   },
   {
    "duration": 5,
    "start_time": "2024-03-31T10:47:10.954Z"
   },
   {
    "duration": 14,
    "start_time": "2024-03-31T10:47:14.589Z"
   },
   {
    "duration": 4,
    "start_time": "2024-03-31T10:48:14.064Z"
   },
   {
    "duration": 15,
    "start_time": "2024-03-31T10:48:16.931Z"
   },
   {
    "duration": 6,
    "start_time": "2024-03-31T10:48:21.018Z"
   },
   {
    "duration": 1160,
    "start_time": "2024-03-31T10:48:28.661Z"
   },
   {
    "duration": 68,
    "start_time": "2024-03-31T10:48:29.823Z"
   },
   {
    "duration": 3,
    "start_time": "2024-03-31T10:48:29.892Z"
   },
   {
    "duration": 369,
    "start_time": "2024-03-31T10:48:29.898Z"
   },
   {
    "duration": 6,
    "start_time": "2024-03-31T10:48:30.268Z"
   },
   {
    "duration": 489,
    "start_time": "2024-03-31T10:48:30.276Z"
   },
   {
    "duration": 16,
    "start_time": "2024-03-31T10:48:30.766Z"
   },
   {
    "duration": 87,
    "start_time": "2024-03-31T10:48:30.784Z"
   },
   {
    "duration": 99,
    "start_time": "2024-03-31T10:48:30.873Z"
   },
   {
    "duration": 219,
    "start_time": "2024-03-31T10:48:30.974Z"
   },
   {
    "duration": 11,
    "start_time": "2024-03-31T10:49:05.349Z"
   },
   {
    "duration": 13,
    "start_time": "2024-03-31T10:49:49.106Z"
   },
   {
    "duration": 12,
    "start_time": "2024-03-31T10:52:00.770Z"
   },
   {
    "duration": 9,
    "start_time": "2024-03-31T10:52:26.072Z"
   },
   {
    "duration": 139,
    "start_time": "2024-03-31T10:54:42.702Z"
   },
   {
    "duration": 131,
    "start_time": "2024-03-31T10:54:53.532Z"
   },
   {
    "duration": 165,
    "start_time": "2024-03-31T10:55:13.722Z"
   },
   {
    "duration": 136,
    "start_time": "2024-03-31T11:00:08.425Z"
   },
   {
    "duration": 10,
    "start_time": "2024-03-31T11:04:44.148Z"
   },
   {
    "duration": 11,
    "start_time": "2024-03-31T11:07:21.205Z"
   },
   {
    "duration": 56,
    "start_time": "2024-03-31T11:08:39.502Z"
   },
   {
    "duration": 58,
    "start_time": "2024-03-31T11:09:02.488Z"
   },
   {
    "duration": 3,
    "start_time": "2024-03-31T11:09:13.439Z"
   },
   {
    "duration": 3,
    "start_time": "2024-03-31T11:09:46.500Z"
   },
   {
    "duration": 4,
    "start_time": "2024-03-31T11:12:09.727Z"
   },
   {
    "duration": 7,
    "start_time": "2024-03-31T11:13:38.158Z"
   },
   {
    "duration": 17,
    "start_time": "2024-03-31T11:14:24.920Z"
   },
   {
    "duration": 3,
    "start_time": "2024-03-31T11:15:02.551Z"
   },
   {
    "duration": 1033,
    "start_time": "2024-03-31T11:15:35.092Z"
   },
   {
    "duration": 67,
    "start_time": "2024-03-31T11:15:36.127Z"
   },
   {
    "duration": 4,
    "start_time": "2024-03-31T11:15:36.198Z"
   },
   {
    "duration": 336,
    "start_time": "2024-03-31T11:15:36.203Z"
   },
   {
    "duration": 17,
    "start_time": "2024-03-31T11:15:36.541Z"
   },
   {
    "duration": 430,
    "start_time": "2024-03-31T11:15:36.560Z"
   },
   {
    "duration": 15,
    "start_time": "2024-03-31T11:15:36.992Z"
   },
   {
    "duration": 7,
    "start_time": "2024-03-31T11:15:37.009Z"
   },
   {
    "duration": 182,
    "start_time": "2024-03-31T11:15:37.019Z"
   },
   {
    "duration": 13,
    "start_time": "2024-03-31T11:15:37.203Z"
   },
   {
    "duration": 5,
    "start_time": "2024-03-31T11:15:37.217Z"
   },
   {
    "duration": 11,
    "start_time": "2024-03-31T11:16:48.212Z"
   },
   {
    "duration": 1122,
    "start_time": "2024-03-31T11:18:49.324Z"
   },
   {
    "duration": 67,
    "start_time": "2024-03-31T11:18:50.448Z"
   },
   {
    "duration": 4,
    "start_time": "2024-03-31T11:18:50.519Z"
   },
   {
    "duration": 364,
    "start_time": "2024-03-31T11:18:50.524Z"
   },
   {
    "duration": 387,
    "start_time": "2024-03-31T11:18:50.889Z"
   },
   {
    "duration": 15,
    "start_time": "2024-03-31T11:18:51.277Z"
   },
   {
    "duration": 22,
    "start_time": "2024-03-31T11:18:51.293Z"
   },
   {
    "duration": 149,
    "start_time": "2024-03-31T11:18:51.317Z"
   },
   {
    "duration": 12,
    "start_time": "2024-03-31T11:18:51.469Z"
   },
   {
    "duration": 18,
    "start_time": "2024-03-31T11:18:51.483Z"
   },
   {
    "duration": 14,
    "start_time": "2024-03-31T11:20:13.157Z"
   },
   {
    "duration": 12,
    "start_time": "2024-03-31T11:20:48.726Z"
   },
   {
    "duration": 107,
    "start_time": "2024-03-31T11:27:25.175Z"
   },
   {
    "duration": 177,
    "start_time": "2024-03-31T11:33:03.862Z"
   },
   {
    "duration": 162,
    "start_time": "2024-03-31T11:33:48.698Z"
   },
   {
    "duration": 181,
    "start_time": "2024-03-31T11:33:52.256Z"
   },
   {
    "duration": 160,
    "start_time": "2024-03-31T11:34:05.818Z"
   },
   {
    "duration": 237,
    "start_time": "2024-03-31T11:34:28.597Z"
   },
   {
    "duration": 151,
    "start_time": "2024-03-31T11:34:33.825Z"
   },
   {
    "duration": 160,
    "start_time": "2024-03-31T11:34:38.595Z"
   },
   {
    "duration": 77,
    "start_time": "2024-03-31T11:34:48.530Z"
   },
   {
    "duration": 167,
    "start_time": "2024-03-31T11:34:53.693Z"
   },
   {
    "duration": 175,
    "start_time": "2024-03-31T11:34:57.024Z"
   },
   {
    "duration": 165,
    "start_time": "2024-03-31T11:35:01.239Z"
   },
   {
    "duration": 164,
    "start_time": "2024-03-31T11:35:05.451Z"
   },
   {
    "duration": 173,
    "start_time": "2024-03-31T11:35:16.475Z"
   },
   {
    "duration": 157,
    "start_time": "2024-03-31T11:35:26.007Z"
   },
   {
    "duration": 166,
    "start_time": "2024-03-31T11:35:34.051Z"
   },
   {
    "duration": 244,
    "start_time": "2024-03-31T11:37:12.617Z"
   },
   {
    "duration": 167,
    "start_time": "2024-03-31T11:37:21.006Z"
   },
   {
    "duration": 180,
    "start_time": "2024-03-31T11:39:57.913Z"
   },
   {
    "duration": 185,
    "start_time": "2024-03-31T11:40:06.826Z"
   },
   {
    "duration": 172,
    "start_time": "2024-03-31T11:40:14.335Z"
   },
   {
    "duration": 162,
    "start_time": "2024-03-31T11:40:33.920Z"
   },
   {
    "duration": 166,
    "start_time": "2024-03-31T11:40:49.827Z"
   },
   {
    "duration": 175,
    "start_time": "2024-03-31T11:40:54.395Z"
   },
   {
    "duration": 177,
    "start_time": "2024-03-31T11:41:04.277Z"
   },
   {
    "duration": 155,
    "start_time": "2024-03-31T11:42:34.279Z"
   },
   {
    "duration": 161,
    "start_time": "2024-03-31T11:43:37.499Z"
   },
   {
    "duration": 239,
    "start_time": "2024-03-31T11:44:05.153Z"
   },
   {
    "duration": 160,
    "start_time": "2024-03-31T11:44:13.637Z"
   },
   {
    "duration": 157,
    "start_time": "2024-03-31T11:45:28.821Z"
   },
   {
    "duration": 187,
    "start_time": "2024-03-31T11:47:01.766Z"
   },
   {
    "duration": 167,
    "start_time": "2024-03-31T11:47:16.476Z"
   },
   {
    "duration": 172,
    "start_time": "2024-03-31T11:47:24.525Z"
   },
   {
    "duration": 160,
    "start_time": "2024-03-31T11:47:58.400Z"
   },
   {
    "duration": 160,
    "start_time": "2024-03-31T11:51:11.965Z"
   },
   {
    "duration": 169,
    "start_time": "2024-03-31T11:51:18.599Z"
   },
   {
    "duration": 167,
    "start_time": "2024-03-31T11:51:30.265Z"
   },
   {
    "duration": 156,
    "start_time": "2024-03-31T11:51:35.455Z"
   },
   {
    "duration": 258,
    "start_time": "2024-03-31T11:51:42.601Z"
   },
   {
    "duration": 158,
    "start_time": "2024-03-31T11:53:06.236Z"
   },
   {
    "duration": 163,
    "start_time": "2024-03-31T11:53:16.385Z"
   },
   {
    "duration": 160,
    "start_time": "2024-03-31T11:53:47.241Z"
   },
   {
    "duration": 6,
    "start_time": "2024-03-31T11:53:53.982Z"
   },
   {
    "duration": 4,
    "start_time": "2024-03-31T11:54:05.647Z"
   },
   {
    "duration": 4,
    "start_time": "2024-03-31T11:54:08.955Z"
   },
   {
    "duration": 5,
    "start_time": "2024-03-31T11:54:11.825Z"
   },
   {
    "duration": 166,
    "start_time": "2024-03-31T11:55:56.188Z"
   },
   {
    "duration": 158,
    "start_time": "2024-03-31T11:56:11.891Z"
   },
   {
    "duration": 159,
    "start_time": "2024-03-31T11:56:21.537Z"
   },
   {
    "duration": 10,
    "start_time": "2024-03-31T11:58:26.872Z"
   },
   {
    "duration": 822,
    "start_time": "2024-03-31T11:59:39.142Z"
   },
   {
    "duration": 10,
    "start_time": "2024-03-31T11:59:57.158Z"
   },
   {
    "duration": 220,
    "start_time": "2024-03-31T12:00:38.685Z"
   },
   {
    "duration": 8,
    "start_time": "2024-03-31T12:00:42.344Z"
   },
   {
    "duration": 9,
    "start_time": "2024-03-31T12:00:52.544Z"
   },
   {
    "duration": 179,
    "start_time": "2024-03-31T12:06:58.006Z"
   },
   {
    "duration": 156,
    "start_time": "2024-03-31T12:07:11.516Z"
   },
   {
    "duration": 11,
    "start_time": "2024-03-31T12:22:28.724Z"
   },
   {
    "duration": 14,
    "start_time": "2024-03-31T12:23:00.387Z"
   },
   {
    "duration": 11,
    "start_time": "2024-03-31T12:23:02.425Z"
   },
   {
    "duration": 11,
    "start_time": "2024-03-31T12:23:28.179Z"
   },
   {
    "duration": 13,
    "start_time": "2024-03-31T12:24:09.638Z"
   },
   {
    "duration": 9,
    "start_time": "2024-03-31T12:24:38.424Z"
   },
   {
    "duration": 9,
    "start_time": "2024-03-31T12:24:43.219Z"
   },
   {
    "duration": 9,
    "start_time": "2024-03-31T12:24:45.909Z"
   },
   {
    "duration": 1067,
    "start_time": "2024-03-31T12:24:58.444Z"
   },
   {
    "duration": 67,
    "start_time": "2024-03-31T12:24:59.513Z"
   },
   {
    "duration": 2,
    "start_time": "2024-03-31T12:24:59.582Z"
   },
   {
    "duration": 321,
    "start_time": "2024-03-31T12:24:59.587Z"
   },
   {
    "duration": 393,
    "start_time": "2024-03-31T12:24:59.910Z"
   },
   {
    "duration": 16,
    "start_time": "2024-03-31T12:25:00.305Z"
   },
   {
    "duration": 52,
    "start_time": "2024-03-31T12:25:00.323Z"
   },
   {
    "duration": 188,
    "start_time": "2024-03-31T12:25:00.377Z"
   },
   {
    "duration": 11,
    "start_time": "2024-03-31T12:25:00.567Z"
   },
   {
    "duration": 55,
    "start_time": "2024-03-31T12:25:00.580Z"
   },
   {
    "duration": 225,
    "start_time": "2024-03-31T12:25:00.637Z"
   },
   {
    "duration": 11,
    "start_time": "2024-03-31T12:25:00.863Z"
   },
   {
    "duration": 94,
    "start_time": "2024-03-31T12:25:38.707Z"
   },
   {
    "duration": 9,
    "start_time": "2024-03-31T12:25:42.548Z"
   },
   {
    "duration": 8,
    "start_time": "2024-03-31T12:25:43.816Z"
   },
   {
    "duration": 168,
    "start_time": "2024-03-31T12:25:45.410Z"
   },
   {
    "duration": 12,
    "start_time": "2024-03-31T12:25:47.683Z"
   },
   {
    "duration": 9,
    "start_time": "2024-03-31T12:30:07.652Z"
   },
   {
    "duration": 159,
    "start_time": "2024-03-31T12:30:11.285Z"
   },
   {
    "duration": 20,
    "start_time": "2024-03-31T12:30:13.280Z"
   },
   {
    "duration": 11,
    "start_time": "2024-03-31T12:30:18.937Z"
   },
   {
    "duration": 8,
    "start_time": "2024-03-31T12:30:21.630Z"
   },
   {
    "duration": 160,
    "start_time": "2024-03-31T12:31:37.067Z"
   },
   {
    "duration": 10,
    "start_time": "2024-03-31T12:31:39.365Z"
   },
   {
    "duration": 1071,
    "start_time": "2024-03-31T12:31:45.747Z"
   },
   {
    "duration": 81,
    "start_time": "2024-03-31T12:31:46.819Z"
   },
   {
    "duration": 2,
    "start_time": "2024-03-31T12:31:46.902Z"
   },
   {
    "duration": 339,
    "start_time": "2024-03-31T12:31:46.906Z"
   },
   {
    "duration": 389,
    "start_time": "2024-03-31T12:31:47.247Z"
   },
   {
    "duration": 22,
    "start_time": "2024-03-31T12:31:47.638Z"
   },
   {
    "duration": 9,
    "start_time": "2024-03-31T12:31:47.662Z"
   },
   {
    "duration": 156,
    "start_time": "2024-03-31T12:31:47.673Z"
   },
   {
    "duration": 27,
    "start_time": "2024-03-31T12:31:47.831Z"
   },
   {
    "duration": 13,
    "start_time": "2024-03-31T12:31:47.860Z"
   },
   {
    "duration": 185,
    "start_time": "2024-03-31T12:31:47.875Z"
   },
   {
    "duration": 134,
    "start_time": "2024-03-31T12:31:48.062Z"
   },
   {
    "duration": 12,
    "start_time": "2024-03-31T12:32:15.884Z"
   },
   {
    "duration": 9,
    "start_time": "2024-03-31T12:33:33.299Z"
   },
   {
    "duration": 171,
    "start_time": "2024-03-31T12:33:36.605Z"
   },
   {
    "duration": 11,
    "start_time": "2024-03-31T12:33:38.420Z"
   },
   {
    "duration": 9,
    "start_time": "2024-03-31T12:33:51.105Z"
   },
   {
    "duration": 165,
    "start_time": "2024-03-31T12:33:52.903Z"
   },
   {
    "duration": 11,
    "start_time": "2024-03-31T12:33:54.944Z"
   },
   {
    "duration": 11,
    "start_time": "2024-03-31T12:36:31.273Z"
   },
   {
    "duration": 1118,
    "start_time": "2024-03-31T12:37:30.732Z"
   },
   {
    "duration": 69,
    "start_time": "2024-03-31T12:37:31.852Z"
   },
   {
    "duration": 95,
    "start_time": "2024-03-31T12:37:31.923Z"
   },
   {
    "duration": 0,
    "start_time": "2024-03-31T12:37:32.020Z"
   },
   {
    "duration": 0,
    "start_time": "2024-03-31T12:37:32.021Z"
   },
   {
    "duration": 0,
    "start_time": "2024-03-31T12:37:32.023Z"
   },
   {
    "duration": 0,
    "start_time": "2024-03-31T12:37:32.023Z"
   },
   {
    "duration": 0,
    "start_time": "2024-03-31T12:37:32.024Z"
   },
   {
    "duration": 0,
    "start_time": "2024-03-31T12:37:32.025Z"
   },
   {
    "duration": 0,
    "start_time": "2024-03-31T12:37:32.026Z"
   },
   {
    "duration": 1,
    "start_time": "2024-03-31T12:37:32.027Z"
   },
   {
    "duration": 0,
    "start_time": "2024-03-31T12:37:32.028Z"
   },
   {
    "duration": 0,
    "start_time": "2024-03-31T12:37:32.029Z"
   },
   {
    "duration": 1153,
    "start_time": "2024-03-31T12:38:10.463Z"
   },
   {
    "duration": 69,
    "start_time": "2024-03-31T12:38:11.618Z"
   },
   {
    "duration": 4,
    "start_time": "2024-03-31T12:38:11.688Z"
   },
   {
    "duration": 361,
    "start_time": "2024-03-31T12:38:11.693Z"
   },
   {
    "duration": 409,
    "start_time": "2024-03-31T12:38:12.058Z"
   },
   {
    "duration": 17,
    "start_time": "2024-03-31T12:38:12.468Z"
   },
   {
    "duration": 8,
    "start_time": "2024-03-31T12:38:12.487Z"
   },
   {
    "duration": 166,
    "start_time": "2024-03-31T12:38:12.497Z"
   },
   {
    "duration": 13,
    "start_time": "2024-03-31T12:38:12.664Z"
   },
   {
    "duration": 10,
    "start_time": "2024-03-31T12:38:12.678Z"
   },
   {
    "duration": 192,
    "start_time": "2024-03-31T12:38:12.690Z"
   },
   {
    "duration": 12,
    "start_time": "2024-03-31T12:38:12.884Z"
   },
   {
    "duration": 115,
    "start_time": "2024-03-31T12:38:12.897Z"
   },
   {
    "duration": 147,
    "start_time": "2024-03-31T12:38:28.001Z"
   },
   {
    "duration": 155,
    "start_time": "2024-03-31T12:39:08.767Z"
   },
   {
    "duration": 147,
    "start_time": "2024-03-31T12:40:08.813Z"
   },
   {
    "duration": 15,
    "start_time": "2024-03-31T12:44:08.115Z"
   },
   {
    "duration": 9,
    "start_time": "2024-03-31T12:44:24.388Z"
   },
   {
    "duration": 246,
    "start_time": "2024-03-31T12:44:26.541Z"
   },
   {
    "duration": 12,
    "start_time": "2024-03-31T12:44:29.066Z"
   },
   {
    "duration": 269,
    "start_time": "2024-03-31T12:48:29.920Z"
   },
   {
    "duration": 140,
    "start_time": "2024-03-31T12:49:05.977Z"
   },
   {
    "duration": 303,
    "start_time": "2024-03-31T12:49:16.746Z"
   },
   {
    "duration": 300,
    "start_time": "2024-03-31T12:49:51.286Z"
   },
   {
    "duration": 308,
    "start_time": "2024-03-31T12:50:04.236Z"
   },
   {
    "duration": 148,
    "start_time": "2024-03-31T12:50:19.857Z"
   },
   {
    "duration": 358,
    "start_time": "2024-03-31T12:50:41.784Z"
   },
   {
    "duration": 279,
    "start_time": "2024-03-31T12:51:37.542Z"
   },
   {
    "duration": 290,
    "start_time": "2024-03-31T12:51:56.951Z"
   },
   {
    "duration": 133,
    "start_time": "2024-03-31T12:52:48.379Z"
   },
   {
    "duration": 282,
    "start_time": "2024-03-31T12:52:58.555Z"
   },
   {
    "duration": 11,
    "start_time": "2024-03-31T12:53:35.350Z"
   },
   {
    "duration": 9,
    "start_time": "2024-03-31T12:53:52.914Z"
   },
   {
    "duration": 256,
    "start_time": "2024-03-31T12:53:55.064Z"
   },
   {
    "duration": 12,
    "start_time": "2024-03-31T12:53:57.827Z"
   },
   {
    "duration": 9,
    "start_time": "2024-03-31T12:54:42.034Z"
   },
   {
    "duration": 278,
    "start_time": "2024-03-31T12:54:44.154Z"
   },
   {
    "duration": 17,
    "start_time": "2024-03-31T12:54:46.973Z"
   },
   {
    "duration": 10,
    "start_time": "2024-03-31T12:56:03.334Z"
   },
   {
    "duration": 236,
    "start_time": "2024-03-31T12:56:07.186Z"
   },
   {
    "duration": 11,
    "start_time": "2024-03-31T12:56:08.242Z"
   },
   {
    "duration": 9,
    "start_time": "2024-03-31T12:56:23.185Z"
   },
   {
    "duration": 14,
    "start_time": "2024-03-31T12:57:01.256Z"
   },
   {
    "duration": 1175,
    "start_time": "2024-03-31T12:57:30.655Z"
   },
   {
    "duration": 70,
    "start_time": "2024-03-31T12:57:31.831Z"
   },
   {
    "duration": 4,
    "start_time": "2024-03-31T12:57:31.902Z"
   },
   {
    "duration": 377,
    "start_time": "2024-03-31T12:57:31.910Z"
   },
   {
    "duration": 394,
    "start_time": "2024-03-31T12:57:32.289Z"
   },
   {
    "duration": 15,
    "start_time": "2024-03-31T12:57:32.685Z"
   },
   {
    "duration": 8,
    "start_time": "2024-03-31T12:57:32.701Z"
   },
   {
    "duration": 167,
    "start_time": "2024-03-31T12:57:32.710Z"
   },
   {
    "duration": 15,
    "start_time": "2024-03-31T12:57:32.879Z"
   },
   {
    "duration": 13,
    "start_time": "2024-03-31T12:57:32.897Z"
   },
   {
    "duration": 183,
    "start_time": "2024-03-31T12:57:32.912Z"
   },
   {
    "duration": 11,
    "start_time": "2024-03-31T12:57:33.097Z"
   },
   {
    "duration": 160,
    "start_time": "2024-03-31T12:57:33.109Z"
   },
   {
    "duration": 10,
    "start_time": "2024-03-31T12:57:33.271Z"
   },
   {
    "duration": 312,
    "start_time": "2024-03-31T12:57:33.282Z"
   },
   {
    "duration": 11,
    "start_time": "2024-03-31T12:57:33.596Z"
   },
   {
    "duration": 359,
    "start_time": "2024-03-31T12:58:09.014Z"
   },
   {
    "duration": 139,
    "start_time": "2024-03-31T12:58:38.283Z"
   },
   {
    "duration": 146,
    "start_time": "2024-03-31T12:58:54.221Z"
   },
   {
    "duration": 10,
    "start_time": "2024-03-31T12:58:56.267Z"
   },
   {
    "duration": 268,
    "start_time": "2024-03-31T12:58:58.179Z"
   },
   {
    "duration": 265,
    "start_time": "2024-03-31T12:59:13.777Z"
   },
   {
    "duration": 13,
    "start_time": "2024-03-31T12:59:19.546Z"
   },
   {
    "duration": 117,
    "start_time": "2024-03-31T12:59:26.888Z"
   },
   {
    "duration": 253,
    "start_time": "2024-03-31T12:59:29.870Z"
   },
   {
    "duration": 16,
    "start_time": "2024-03-31T12:59:31.989Z"
   },
   {
    "duration": 9,
    "start_time": "2024-03-31T12:59:47.288Z"
   },
   {
    "duration": 258,
    "start_time": "2024-03-31T12:59:49.200Z"
   },
   {
    "duration": 11,
    "start_time": "2024-03-31T12:59:50.949Z"
   },
   {
    "duration": 9,
    "start_time": "2024-03-31T13:00:06.202Z"
   },
   {
    "duration": 342,
    "start_time": "2024-03-31T13:00:07.774Z"
   },
   {
    "duration": 12,
    "start_time": "2024-03-31T13:00:09.582Z"
   },
   {
    "duration": 273,
    "start_time": "2024-03-31T13:00:16.353Z"
   },
   {
    "duration": 168,
    "start_time": "2024-03-31T13:02:26.434Z"
   },
   {
    "duration": 265,
    "start_time": "2024-03-31T13:02:49.854Z"
   },
   {
    "duration": 9,
    "start_time": "2024-03-31T13:09:17.761Z"
   },
   {
    "duration": 9,
    "start_time": "2024-03-31T13:09:28.337Z"
   },
   {
    "duration": 13,
    "start_time": "2024-03-31T13:09:33.560Z"
   },
   {
    "duration": 274,
    "start_time": "2024-03-31T13:09:36.096Z"
   },
   {
    "duration": 8,
    "start_time": "2024-03-31T13:09:38.918Z"
   },
   {
    "duration": 12,
    "start_time": "2024-03-31T13:10:26.273Z"
   },
   {
    "duration": 266,
    "start_time": "2024-03-31T13:10:28.045Z"
   },
   {
    "duration": 12,
    "start_time": "2024-03-31T13:10:30.484Z"
   },
   {
    "duration": 3,
    "start_time": "2024-03-31T13:10:55.317Z"
   },
   {
    "duration": 6,
    "start_time": "2024-03-31T13:11:14.328Z"
   },
   {
    "duration": 159,
    "start_time": "2024-03-31T13:14:47.567Z"
   },
   {
    "duration": 418,
    "start_time": "2024-03-31T13:15:25.111Z"
   },
   {
    "duration": 166,
    "start_time": "2024-03-31T13:15:34.443Z"
   },
   {
    "duration": 260,
    "start_time": "2024-03-31T13:15:39.766Z"
   },
   {
    "duration": 1099,
    "start_time": "2024-03-31T13:18:17.238Z"
   },
   {
    "duration": 66,
    "start_time": "2024-03-31T13:18:18.339Z"
   },
   {
    "duration": 3,
    "start_time": "2024-03-31T13:18:18.407Z"
   },
   {
    "duration": 347,
    "start_time": "2024-03-31T13:18:18.413Z"
   },
   {
    "duration": 406,
    "start_time": "2024-03-31T13:18:18.761Z"
   },
   {
    "duration": 16,
    "start_time": "2024-03-31T13:18:19.169Z"
   },
   {
    "duration": 12,
    "start_time": "2024-03-31T13:18:19.186Z"
   },
   {
    "duration": 175,
    "start_time": "2024-03-31T13:18:19.200Z"
   },
   {
    "duration": 14,
    "start_time": "2024-03-31T13:18:19.377Z"
   },
   {
    "duration": 11,
    "start_time": "2024-03-31T13:18:19.394Z"
   },
   {
    "duration": 196,
    "start_time": "2024-03-31T13:18:19.407Z"
   },
   {
    "duration": 11,
    "start_time": "2024-03-31T13:18:19.604Z"
   },
   {
    "duration": 159,
    "start_time": "2024-03-31T13:18:19.616Z"
   },
   {
    "duration": 10,
    "start_time": "2024-03-31T13:18:19.777Z"
   },
   {
    "duration": 303,
    "start_time": "2024-03-31T13:18:19.790Z"
   },
   {
    "duration": 13,
    "start_time": "2024-03-31T13:18:20.095Z"
   },
   {
    "duration": 9,
    "start_time": "2024-03-31T13:18:20.110Z"
   },
   {
    "duration": 1120,
    "start_time": "2024-03-31T13:21:15.176Z"
   },
   {
    "duration": 70,
    "start_time": "2024-03-31T13:21:16.298Z"
   },
   {
    "duration": 2,
    "start_time": "2024-03-31T13:21:16.370Z"
   },
   {
    "duration": 352,
    "start_time": "2024-03-31T13:21:16.374Z"
   },
   {
    "duration": 412,
    "start_time": "2024-03-31T13:21:16.728Z"
   },
   {
    "duration": 23,
    "start_time": "2024-03-31T13:21:17.142Z"
   },
   {
    "duration": 6,
    "start_time": "2024-03-31T13:21:17.167Z"
   },
   {
    "duration": 158,
    "start_time": "2024-03-31T13:21:17.175Z"
   },
   {
    "duration": 24,
    "start_time": "2024-03-31T13:21:17.335Z"
   },
   {
    "duration": 11,
    "start_time": "2024-03-31T13:21:17.361Z"
   },
   {
    "duration": 183,
    "start_time": "2024-03-31T13:21:17.374Z"
   },
   {
    "duration": 11,
    "start_time": "2024-03-31T13:21:17.559Z"
   },
   {
    "duration": 158,
    "start_time": "2024-03-31T13:21:17.572Z"
   },
   {
    "duration": 10,
    "start_time": "2024-03-31T13:21:17.732Z"
   },
   {
    "duration": 296,
    "start_time": "2024-03-31T13:21:17.744Z"
   },
   {
    "duration": 23,
    "start_time": "2024-03-31T13:21:18.042Z"
   },
   {
    "duration": 11,
    "start_time": "2024-03-31T13:21:18.067Z"
   },
   {
    "duration": 15,
    "start_time": "2024-03-31T13:21:18.080Z"
   },
   {
    "duration": 10,
    "start_time": "2024-03-31T13:21:43.710Z"
   },
   {
    "duration": 16,
    "start_time": "2024-03-31T13:21:57.773Z"
   },
   {
    "duration": 15,
    "start_time": "2024-03-31T13:24:54.945Z"
   },
   {
    "duration": 257,
    "start_time": "2024-03-31T13:26:22.186Z"
   },
   {
    "duration": 204,
    "start_time": "2024-03-31T13:26:36.638Z"
   },
   {
    "duration": 134,
    "start_time": "2024-03-31T13:26:56.054Z"
   },
   {
    "duration": 199,
    "start_time": "2024-03-31T13:27:01.041Z"
   },
   {
    "duration": 175,
    "start_time": "2024-03-31T13:27:19.879Z"
   },
   {
    "duration": 206,
    "start_time": "2024-03-31T13:29:36.855Z"
   },
   {
    "duration": 175,
    "start_time": "2024-03-31T13:29:45.970Z"
   },
   {
    "duration": 174,
    "start_time": "2024-03-31T13:30:10.890Z"
   },
   {
    "duration": 193,
    "start_time": "2024-03-31T13:30:23.081Z"
   },
   {
    "duration": 174,
    "start_time": "2024-03-31T13:30:57.121Z"
   },
   {
    "duration": 174,
    "start_time": "2024-03-31T13:31:09.940Z"
   },
   {
    "duration": 243,
    "start_time": "2024-03-31T13:31:47.948Z"
   },
   {
    "duration": 188,
    "start_time": "2024-03-31T13:32:07.105Z"
   },
   {
    "duration": 125,
    "start_time": "2024-03-31T13:32:16.217Z"
   },
   {
    "duration": 178,
    "start_time": "2024-03-31T13:32:33.242Z"
   },
   {
    "duration": 215,
    "start_time": "2024-03-31T13:32:54.346Z"
   },
   {
    "duration": 210,
    "start_time": "2024-03-31T13:33:33.067Z"
   },
   {
    "duration": 217,
    "start_time": "2024-03-31T13:34:22.709Z"
   },
   {
    "duration": 227,
    "start_time": "2024-03-31T13:36:01.046Z"
   },
   {
    "duration": 214,
    "start_time": "2024-03-31T13:36:09.107Z"
   },
   {
    "duration": 217,
    "start_time": "2024-03-31T13:36:22.981Z"
   },
   {
    "duration": 216,
    "start_time": "2024-03-31T13:36:32.663Z"
   },
   {
    "duration": 316,
    "start_time": "2024-03-31T13:37:57.495Z"
   },
   {
    "duration": 229,
    "start_time": "2024-03-31T13:39:15.131Z"
   },
   {
    "duration": 274,
    "start_time": "2024-03-31T13:40:09.800Z"
   },
   {
    "duration": 305,
    "start_time": "2024-03-31T13:45:30.971Z"
   },
   {
    "duration": 138,
    "start_time": "2024-03-31T13:46:15.153Z"
   },
   {
    "duration": 635,
    "start_time": "2024-03-31T13:46:28.178Z"
   },
   {
    "duration": 414,
    "start_time": "2024-03-31T13:46:45.902Z"
   },
   {
    "duration": 150,
    "start_time": "2024-03-31T13:49:37.656Z"
   },
   {
    "duration": 150,
    "start_time": "2024-03-31T13:50:31.160Z"
   },
   {
    "duration": 134,
    "start_time": "2024-03-31T13:50:46.035Z"
   },
   {
    "duration": 250,
    "start_time": "2024-03-31T13:51:52.994Z"
   },
   {
    "duration": 277,
    "start_time": "2024-03-31T13:52:55.137Z"
   },
   {
    "duration": 270,
    "start_time": "2024-03-31T13:53:37.332Z"
   },
   {
    "duration": 5,
    "start_time": "2024-03-31T13:56:24.742Z"
   },
   {
    "duration": 10,
    "start_time": "2024-03-31T14:00:58.589Z"
   },
   {
    "duration": 8,
    "start_time": "2024-03-31T14:01:22.743Z"
   },
   {
    "duration": 6,
    "start_time": "2024-03-31T14:01:55.036Z"
   },
   {
    "duration": 7,
    "start_time": "2024-03-31T14:02:06.009Z"
   },
   {
    "duration": 11,
    "start_time": "2024-03-31T14:02:15.764Z"
   },
   {
    "duration": 59,
    "start_time": "2024-03-31T14:02:43.588Z"
   },
   {
    "duration": 8,
    "start_time": "2024-03-31T14:02:49.040Z"
   },
   {
    "duration": 11,
    "start_time": "2024-03-31T14:02:54.840Z"
   },
   {
    "duration": 17,
    "start_time": "2024-03-31T14:16:01.914Z"
   },
   {
    "duration": 30,
    "start_time": "2024-03-31T14:16:16.874Z"
   },
   {
    "duration": 23,
    "start_time": "2024-03-31T14:17:20.024Z"
   },
   {
    "duration": 40,
    "start_time": "2024-03-31T14:17:30.752Z"
   },
   {
    "duration": 11,
    "start_time": "2024-03-31T14:21:59.290Z"
   },
   {
    "duration": 130,
    "start_time": "2024-03-31T14:22:12.125Z"
   },
   {
    "duration": 59,
    "start_time": "2024-03-31T14:22:25.634Z"
   },
   {
    "duration": 9,
    "start_time": "2024-03-31T14:23:02.134Z"
   },
   {
    "duration": 9,
    "start_time": "2024-03-31T14:24:02.497Z"
   },
   {
    "duration": 17,
    "start_time": "2024-03-31T14:24:25.564Z"
   },
   {
    "duration": 16,
    "start_time": "2024-03-31T14:24:33.423Z"
   },
   {
    "duration": 11,
    "start_time": "2024-03-31T14:25:12.083Z"
   },
   {
    "duration": 8,
    "start_time": "2024-03-31T14:25:16.837Z"
   },
   {
    "duration": 25,
    "start_time": "2024-03-31T14:26:54.263Z"
   },
   {
    "duration": 194,
    "start_time": "2024-03-31T14:28:32.856Z"
   },
   {
    "duration": 776,
    "start_time": "2024-03-31T14:32:28.108Z"
   },
   {
    "duration": 1172,
    "start_time": "2024-03-31T14:33:50.950Z"
   },
   {
    "duration": 211,
    "start_time": "2024-03-31T14:33:52.124Z"
   },
   {
    "duration": 3,
    "start_time": "2024-03-31T14:33:52.337Z"
   },
   {
    "duration": 358,
    "start_time": "2024-03-31T14:33:52.342Z"
   },
   {
    "duration": 387,
    "start_time": "2024-03-31T14:33:52.702Z"
   },
   {
    "duration": 14,
    "start_time": "2024-03-31T14:33:53.091Z"
   },
   {
    "duration": 8,
    "start_time": "2024-03-31T14:33:53.106Z"
   },
   {
    "duration": 155,
    "start_time": "2024-03-31T14:33:53.116Z"
   },
   {
    "duration": 12,
    "start_time": "2024-03-31T14:33:53.273Z"
   },
   {
    "duration": 31,
    "start_time": "2024-03-31T14:33:53.286Z"
   },
   {
    "duration": 174,
    "start_time": "2024-03-31T14:33:53.318Z"
   },
   {
    "duration": 11,
    "start_time": "2024-03-31T14:33:53.493Z"
   },
   {
    "duration": 155,
    "start_time": "2024-03-31T14:33:53.505Z"
   },
   {
    "duration": 10,
    "start_time": "2024-03-31T14:33:53.663Z"
   },
   {
    "duration": 289,
    "start_time": "2024-03-31T14:33:53.675Z"
   },
   {
    "duration": 11,
    "start_time": "2024-03-31T14:33:53.966Z"
   },
   {
    "duration": 25,
    "start_time": "2024-03-31T14:33:53.978Z"
   },
   {
    "duration": 369,
    "start_time": "2024-03-31T14:33:54.005Z"
   },
   {
    "duration": 284,
    "start_time": "2024-03-31T14:33:54.375Z"
   },
   {
    "duration": 8,
    "start_time": "2024-03-31T14:33:54.660Z"
   },
   {
    "duration": 40,
    "start_time": "2024-03-31T14:33:54.670Z"
   },
   {
    "duration": 8,
    "start_time": "2024-03-31T14:33:54.712Z"
   },
   {
    "duration": 196,
    "start_time": "2024-03-31T14:33:54.722Z"
   },
   {
    "duration": 183,
    "start_time": "2024-03-31T14:34:12.203Z"
   },
   {
    "duration": 191,
    "start_time": "2024-03-31T14:34:33.749Z"
   },
   {
    "duration": 196,
    "start_time": "2024-03-31T14:34:37.996Z"
   },
   {
    "duration": 179,
    "start_time": "2024-03-31T14:34:43.713Z"
   },
   {
    "duration": 193,
    "start_time": "2024-03-31T14:35:23.830Z"
   },
   {
    "duration": 196,
    "start_time": "2024-03-31T14:36:29.752Z"
   },
   {
    "duration": 269,
    "start_time": "2024-03-31T14:36:36.282Z"
   },
   {
    "duration": 193,
    "start_time": "2024-03-31T14:36:42.970Z"
   },
   {
    "duration": 222,
    "start_time": "2024-03-31T14:37:01.383Z"
   },
   {
    "duration": 370,
    "start_time": "2024-03-31T14:37:34.800Z"
   },
   {
    "duration": 359,
    "start_time": "2024-03-31T14:37:58.225Z"
   },
   {
    "duration": 200,
    "start_time": "2024-03-31T14:38:08.960Z"
   },
   {
    "duration": 206,
    "start_time": "2024-03-31T14:38:39.133Z"
   },
   {
    "duration": 182,
    "start_time": "2024-03-31T14:38:52.337Z"
   },
   {
    "duration": 223,
    "start_time": "2024-03-31T14:41:01.940Z"
   },
   {
    "duration": 217,
    "start_time": "2024-03-31T14:41:17.360Z"
   },
   {
    "duration": 207,
    "start_time": "2024-03-31T14:41:25.443Z"
   },
   {
    "duration": 184,
    "start_time": "2024-03-31T14:42:18.494Z"
   },
   {
    "duration": 221,
    "start_time": "2024-03-31T14:42:26.364Z"
   },
   {
    "duration": 12,
    "start_time": "2024-03-31T14:45:18.981Z"
   },
   {
    "duration": 12,
    "start_time": "2024-03-31T14:45:32.745Z"
   },
   {
    "duration": 1460,
    "start_time": "2024-04-02T08:55:06.540Z"
   },
   {
    "duration": 304,
    "start_time": "2024-04-02T08:55:08.003Z"
   },
   {
    "duration": 4,
    "start_time": "2024-04-02T08:55:08.310Z"
   },
   {
    "duration": 385,
    "start_time": "2024-04-02T08:55:08.318Z"
   },
   {
    "duration": 441,
    "start_time": "2024-04-02T08:55:08.705Z"
   },
   {
    "duration": 16,
    "start_time": "2024-04-02T08:55:09.147Z"
   },
   {
    "duration": 27,
    "start_time": "2024-04-02T08:55:09.165Z"
   },
   {
    "duration": 160,
    "start_time": "2024-04-02T08:55:09.193Z"
   },
   {
    "duration": 12,
    "start_time": "2024-04-02T08:55:09.355Z"
   },
   {
    "duration": 30,
    "start_time": "2024-04-02T08:55:09.370Z"
   },
   {
    "duration": 218,
    "start_time": "2024-04-02T08:55:09.402Z"
   },
   {
    "duration": 12,
    "start_time": "2024-04-02T08:55:09.622Z"
   },
   {
    "duration": 174,
    "start_time": "2024-04-02T08:55:09.635Z"
   },
   {
    "duration": 15,
    "start_time": "2024-04-02T08:55:09.811Z"
   },
   {
    "duration": 346,
    "start_time": "2024-04-02T08:55:09.828Z"
   },
   {
    "duration": 22,
    "start_time": "2024-04-02T08:55:10.175Z"
   },
   {
    "duration": 15,
    "start_time": "2024-04-02T08:55:10.199Z"
   },
   {
    "duration": 397,
    "start_time": "2024-04-02T08:55:10.216Z"
   },
   {
    "duration": 325,
    "start_time": "2024-04-02T08:55:10.615Z"
   },
   {
    "duration": 9,
    "start_time": "2024-04-02T08:55:10.942Z"
   },
   {
    "duration": 48,
    "start_time": "2024-04-02T08:55:10.953Z"
   },
   {
    "duration": 10,
    "start_time": "2024-04-02T08:55:11.003Z"
   },
   {
    "duration": 14,
    "start_time": "2024-04-02T08:55:11.015Z"
   },
   {
    "duration": 16,
    "start_time": "2024-04-02T08:55:11.031Z"
   },
   {
    "duration": 290,
    "start_time": "2024-04-02T08:55:11.048Z"
   },
   {
    "duration": 226,
    "start_time": "2024-04-02T08:55:11.340Z"
   },
   {
    "duration": 7,
    "start_time": "2024-04-02T08:56:12.353Z"
   },
   {
    "duration": 8,
    "start_time": "2024-04-02T08:56:57.034Z"
   },
   {
    "duration": 12,
    "start_time": "2024-04-02T08:56:57.765Z"
   },
   {
    "duration": 322,
    "start_time": "2024-04-02T08:58:59.934Z"
   },
   {
    "duration": 307,
    "start_time": "2024-04-02T08:59:08.243Z"
   },
   {
    "duration": 292,
    "start_time": "2024-04-02T08:59:14.374Z"
   },
   {
    "duration": 263,
    "start_time": "2024-04-02T08:59:22.513Z"
   },
   {
    "duration": 184,
    "start_time": "2024-04-02T08:59:26.853Z"
   },
   {
    "duration": 221,
    "start_time": "2024-04-02T09:00:29.225Z"
   },
   {
    "duration": 283,
    "start_time": "2024-04-02T09:00:36.878Z"
   },
   {
    "duration": 239,
    "start_time": "2024-04-02T09:00:54.452Z"
   },
   {
    "duration": 219,
    "start_time": "2024-04-02T09:01:03.204Z"
   },
   {
    "duration": 229,
    "start_time": "2024-04-02T09:01:40.211Z"
   },
   {
    "duration": 227,
    "start_time": "2024-04-02T09:02:06.514Z"
   },
   {
    "duration": 241,
    "start_time": "2024-04-02T09:02:08.833Z"
   },
   {
    "duration": 448,
    "start_time": "2024-04-02T09:10:58.355Z"
   },
   {
    "duration": 1189,
    "start_time": "2024-04-02T09:12:16.810Z"
   },
   {
    "duration": 72,
    "start_time": "2024-04-02T09:12:18.002Z"
   },
   {
    "duration": 3,
    "start_time": "2024-04-02T09:12:18.075Z"
   },
   {
    "duration": 438,
    "start_time": "2024-04-02T09:12:18.080Z"
   },
   {
    "duration": 466,
    "start_time": "2024-04-02T09:12:18.521Z"
   },
   {
    "duration": 19,
    "start_time": "2024-04-02T09:12:18.989Z"
   },
   {
    "duration": 54,
    "start_time": "2024-04-02T09:12:19.010Z"
   },
   {
    "duration": 172,
    "start_time": "2024-04-02T09:12:19.065Z"
   },
   {
    "duration": 8,
    "start_time": "2024-04-02T09:12:19.239Z"
   },
   {
    "duration": 20,
    "start_time": "2024-04-02T09:12:19.249Z"
   },
   {
    "duration": 29,
    "start_time": "2024-04-02T09:12:19.271Z"
   },
   {
    "duration": 185,
    "start_time": "2024-04-02T09:12:19.301Z"
   },
   {
    "duration": 14,
    "start_time": "2024-04-02T09:12:19.488Z"
   },
   {
    "duration": 176,
    "start_time": "2024-04-02T09:12:19.505Z"
   },
   {
    "duration": 17,
    "start_time": "2024-04-02T09:12:19.683Z"
   },
   {
    "duration": 366,
    "start_time": "2024-04-02T09:12:19.702Z"
   },
   {
    "duration": 22,
    "start_time": "2024-04-02T09:12:20.070Z"
   },
   {
    "duration": 26,
    "start_time": "2024-04-02T09:12:20.094Z"
   },
   {
    "duration": 402,
    "start_time": "2024-04-02T09:12:20.121Z"
   },
   {
    "duration": 308,
    "start_time": "2024-04-02T09:12:20.524Z"
   },
   {
    "duration": 11,
    "start_time": "2024-04-02T09:12:20.834Z"
   },
   {
    "duration": 80,
    "start_time": "2024-04-02T09:12:20.847Z"
   },
   {
    "duration": 13,
    "start_time": "2024-04-02T09:12:20.929Z"
   },
   {
    "duration": 26,
    "start_time": "2024-04-02T09:12:20.944Z"
   },
   {
    "duration": 85,
    "start_time": "2024-04-02T09:12:20.972Z"
   },
   {
    "duration": 1157,
    "start_time": "2024-04-02T09:13:38.748Z"
   },
   {
    "duration": 70,
    "start_time": "2024-04-02T09:13:39.907Z"
   },
   {
    "duration": 2,
    "start_time": "2024-04-02T09:13:39.979Z"
   },
   {
    "duration": 385,
    "start_time": "2024-04-02T09:13:39.984Z"
   },
   {
    "duration": 440,
    "start_time": "2024-04-02T09:13:40.372Z"
   },
   {
    "duration": 17,
    "start_time": "2024-04-02T09:13:40.814Z"
   },
   {
    "duration": 12,
    "start_time": "2024-04-02T09:13:40.833Z"
   },
   {
    "duration": 175,
    "start_time": "2024-04-02T09:13:40.846Z"
   },
   {
    "duration": 8,
    "start_time": "2024-04-02T09:13:41.023Z"
   },
   {
    "duration": 22,
    "start_time": "2024-04-02T09:13:41.033Z"
   },
   {
    "duration": 34,
    "start_time": "2024-04-02T09:13:41.057Z"
   },
   {
    "duration": 221,
    "start_time": "2024-04-02T09:13:41.093Z"
   },
   {
    "duration": 13,
    "start_time": "2024-04-02T09:13:41.316Z"
   },
   {
    "duration": 165,
    "start_time": "2024-04-02T09:13:41.332Z"
   },
   {
    "duration": 11,
    "start_time": "2024-04-02T09:13:41.499Z"
   },
   {
    "duration": 328,
    "start_time": "2024-04-02T09:13:41.512Z"
   },
   {
    "duration": 11,
    "start_time": "2024-04-02T09:13:41.842Z"
   },
   {
    "duration": 5,
    "start_time": "2024-04-02T09:13:41.855Z"
   },
   {
    "duration": 444,
    "start_time": "2024-04-02T09:13:41.862Z"
   },
   {
    "duration": 324,
    "start_time": "2024-04-02T09:13:42.308Z"
   },
   {
    "duration": 11,
    "start_time": "2024-04-02T09:13:42.633Z"
   },
   {
    "duration": 57,
    "start_time": "2024-04-02T09:13:42.646Z"
   },
   {
    "duration": 11,
    "start_time": "2024-04-02T09:13:42.705Z"
   },
   {
    "duration": 15,
    "start_time": "2024-04-02T09:13:42.718Z"
   },
   {
    "duration": 21,
    "start_time": "2024-04-02T09:13:42.735Z"
   },
   {
    "duration": 14,
    "start_time": "2024-04-02T09:14:06.614Z"
   },
   {
    "duration": 25143,
    "start_time": "2024-04-02T09:14:06.630Z"
   },
   {
    "duration": 39766,
    "start_time": "2024-04-02T09:14:58.618Z"
   },
   {
    "duration": 40068,
    "start_time": "2024-04-02T09:17:16.374Z"
   },
   {
    "duration": 109,
    "start_time": "2024-04-02T09:18:18.689Z"
   },
   {
    "duration": 13,
    "start_time": "2024-04-02T09:18:30.900Z"
   },
   {
    "duration": 240,
    "start_time": "2024-04-02T09:19:42.830Z"
   },
   {
    "duration": 345,
    "start_time": "2024-04-02T09:21:11.190Z"
   },
   {
    "duration": 408,
    "start_time": "2024-04-02T09:22:39.639Z"
   },
   {
    "duration": 246,
    "start_time": "2024-04-02T09:23:06.199Z"
   },
   {
    "duration": 319,
    "start_time": "2024-04-02T09:23:14.310Z"
   },
   {
    "duration": 314,
    "start_time": "2024-04-02T09:23:59.904Z"
   },
   {
    "duration": 294,
    "start_time": "2024-04-02T09:24:24.907Z"
   },
   {
    "duration": 302,
    "start_time": "2024-04-02T09:24:35.113Z"
   },
   {
    "duration": 537,
    "start_time": "2024-04-02T09:24:46.785Z"
   },
   {
    "duration": 377,
    "start_time": "2024-04-02T09:24:57.474Z"
   },
   {
    "duration": 373,
    "start_time": "2024-04-02T09:27:41.218Z"
   },
   {
    "duration": 313,
    "start_time": "2024-04-02T09:28:29.262Z"
   },
   {
    "duration": 328,
    "start_time": "2024-04-02T09:28:36.759Z"
   },
   {
    "duration": 367,
    "start_time": "2024-04-02T09:29:04.817Z"
   },
   {
    "duration": 356,
    "start_time": "2024-04-02T09:29:14.265Z"
   },
   {
    "duration": 376,
    "start_time": "2024-04-02T09:29:36.487Z"
   },
   {
    "duration": 378,
    "start_time": "2024-04-02T09:29:41.440Z"
   },
   {
    "duration": 375,
    "start_time": "2024-04-02T09:30:05.177Z"
   },
   {
    "duration": 367,
    "start_time": "2024-04-02T09:30:07.100Z"
   },
   {
    "duration": 375,
    "start_time": "2024-04-02T09:31:24.201Z"
   },
   {
    "duration": 380,
    "start_time": "2024-04-02T09:31:38.182Z"
   },
   {
    "duration": 387,
    "start_time": "2024-04-02T09:31:50.118Z"
   },
   {
    "duration": 406,
    "start_time": "2024-04-02T09:32:31.743Z"
   },
   {
    "duration": 105,
    "start_time": "2024-04-02T09:32:41.342Z"
   },
   {
    "duration": 96,
    "start_time": "2024-04-02T09:32:47.770Z"
   },
   {
    "duration": 374,
    "start_time": "2024-04-02T09:32:55.760Z"
   },
   {
    "duration": 383,
    "start_time": "2024-04-02T09:33:51.212Z"
   },
   {
    "duration": 398,
    "start_time": "2024-04-02T09:33:57.299Z"
   },
   {
    "duration": 93,
    "start_time": "2024-04-02T09:34:18.078Z"
   },
   {
    "duration": 101,
    "start_time": "2024-04-02T09:34:26.793Z"
   },
   {
    "duration": 3169,
    "start_time": "2024-04-02T09:34:34.172Z"
   },
   {
    "duration": 391,
    "start_time": "2024-04-02T09:35:30.591Z"
   },
   {
    "duration": 381,
    "start_time": "2024-04-02T09:36:14.737Z"
   },
   {
    "duration": 402,
    "start_time": "2024-04-02T09:47:53.857Z"
   },
   {
    "duration": 92,
    "start_time": "2024-04-02T10:05:41.468Z"
   },
   {
    "duration": 15,
    "start_time": "2024-04-02T10:06:07.372Z"
   },
   {
    "duration": 17,
    "start_time": "2024-04-02T10:06:18.654Z"
   },
   {
    "duration": 18,
    "start_time": "2024-04-02T10:07:36.446Z"
   },
   {
    "duration": 22,
    "start_time": "2024-04-02T10:07:56.920Z"
   },
   {
    "duration": 22,
    "start_time": "2024-04-02T10:08:17.929Z"
   },
   {
    "duration": 29,
    "start_time": "2024-04-02T10:08:33.878Z"
   },
   {
    "duration": 28,
    "start_time": "2024-04-02T10:10:42.250Z"
   },
   {
    "duration": 1296,
    "start_time": "2024-04-02T10:17:08.365Z"
   },
   {
    "duration": 1250,
    "start_time": "2024-04-02T10:18:05.373Z"
   },
   {
    "duration": 10,
    "start_time": "2024-04-02T10:18:59.693Z"
   },
   {
    "duration": 13,
    "start_time": "2024-04-02T10:19:15.695Z"
   },
   {
    "duration": 14,
    "start_time": "2024-04-02T10:19:24.539Z"
   },
   {
    "duration": 21,
    "start_time": "2024-04-02T10:20:21.521Z"
   },
   {
    "duration": 15,
    "start_time": "2024-04-02T10:20:41.732Z"
   },
   {
    "duration": 20,
    "start_time": "2024-04-02T10:20:50.085Z"
   },
   {
    "duration": 13,
    "start_time": "2024-04-02T10:20:59.000Z"
   },
   {
    "duration": 33,
    "start_time": "2024-04-02T10:24:01.060Z"
   },
   {
    "duration": 12,
    "start_time": "2024-04-02T10:28:32.213Z"
   },
   {
    "duration": 11,
    "start_time": "2024-04-02T10:28:42.966Z"
   },
   {
    "duration": 11,
    "start_time": "2024-04-02T10:29:40.337Z"
   },
   {
    "duration": 11,
    "start_time": "2024-04-02T10:29:59.696Z"
   },
   {
    "duration": 12,
    "start_time": "2024-04-02T10:30:38.150Z"
   },
   {
    "duration": 6,
    "start_time": "2024-04-02T10:30:43.109Z"
   },
   {
    "duration": 11,
    "start_time": "2024-04-02T10:43:07.938Z"
   },
   {
    "duration": 5,
    "start_time": "2024-04-02T10:43:33.769Z"
   },
   {
    "duration": 6,
    "start_time": "2024-04-02T10:44:32.518Z"
   },
   {
    "duration": 6,
    "start_time": "2024-04-02T10:45:47.666Z"
   },
   {
    "duration": 6,
    "start_time": "2024-04-02T10:45:48.823Z"
   },
   {
    "duration": 43,
    "start_time": "2024-04-02T10:51:08.724Z"
   },
   {
    "duration": 1395,
    "start_time": "2024-04-02T10:55:35.357Z"
   },
   {
    "duration": 1249,
    "start_time": "2024-04-02T10:57:02.840Z"
   },
   {
    "duration": 335,
    "start_time": "2024-04-02T10:57:33.646Z"
   },
   {
    "duration": 212,
    "start_time": "2024-04-02T10:58:22.697Z"
   },
   {
    "duration": 85,
    "start_time": "2024-04-02T11:03:23.762Z"
   },
   {
    "duration": 12,
    "start_time": "2024-04-02T11:03:31.160Z"
   },
   {
    "duration": 11,
    "start_time": "2024-04-02T11:03:46.130Z"
   },
   {
    "duration": 30,
    "start_time": "2024-04-02T11:05:09.294Z"
   },
   {
    "duration": 1338,
    "start_time": "2024-04-02T11:09:52.104Z"
   },
   {
    "duration": 1310,
    "start_time": "2024-04-02T11:10:23.088Z"
   },
   {
    "duration": 98,
    "start_time": "2024-04-02T11:11:24.008Z"
   },
   {
    "duration": 14,
    "start_time": "2024-04-02T11:12:01.879Z"
   },
   {
    "duration": 12,
    "start_time": "2024-04-02T11:14:14.784Z"
   },
   {
    "duration": 1300,
    "start_time": "2024-04-02T11:15:05.517Z"
   },
   {
    "duration": 17,
    "start_time": "2024-04-02T11:16:29.686Z"
   },
   {
    "duration": 16,
    "start_time": "2024-04-02T11:16:47.966Z"
   },
   {
    "duration": 10,
    "start_time": "2024-04-02T11:19:47.825Z"
   },
   {
    "duration": 13,
    "start_time": "2024-04-02T11:20:08.893Z"
   },
   {
    "duration": 11,
    "start_time": "2024-04-02T11:20:18.749Z"
   },
   {
    "duration": 1357,
    "start_time": "2024-04-02T11:22:25.673Z"
   },
   {
    "duration": 23,
    "start_time": "2024-04-02T11:23:14.604Z"
   },
   {
    "duration": 1197,
    "start_time": "2024-04-02T11:23:19.630Z"
   },
   {
    "duration": 70,
    "start_time": "2024-04-02T11:23:20.829Z"
   },
   {
    "duration": 3,
    "start_time": "2024-04-02T11:23:20.900Z"
   },
   {
    "duration": 393,
    "start_time": "2024-04-02T11:23:20.906Z"
   },
   {
    "duration": 434,
    "start_time": "2024-04-02T11:23:21.301Z"
   },
   {
    "duration": 19,
    "start_time": "2024-04-02T11:23:21.737Z"
   },
   {
    "duration": 30,
    "start_time": "2024-04-02T11:23:21.758Z"
   },
   {
    "duration": 171,
    "start_time": "2024-04-02T11:23:21.791Z"
   },
   {
    "duration": 7,
    "start_time": "2024-04-02T11:23:21.964Z"
   },
   {
    "duration": 35,
    "start_time": "2024-04-02T11:23:21.973Z"
   },
   {
    "duration": 40,
    "start_time": "2024-04-02T11:23:22.010Z"
   },
   {
    "duration": 174,
    "start_time": "2024-04-02T11:23:22.051Z"
   },
   {
    "duration": 12,
    "start_time": "2024-04-02T11:23:22.227Z"
   },
   {
    "duration": 180,
    "start_time": "2024-04-02T11:23:22.241Z"
   },
   {
    "duration": 12,
    "start_time": "2024-04-02T11:23:22.423Z"
   },
   {
    "duration": 305,
    "start_time": "2024-04-02T11:23:22.437Z"
   },
   {
    "duration": 12,
    "start_time": "2024-04-02T11:23:22.744Z"
   },
   {
    "duration": 7,
    "start_time": "2024-04-02T11:23:22.758Z"
   },
   {
    "duration": 436,
    "start_time": "2024-04-02T11:23:22.766Z"
   },
   {
    "duration": 314,
    "start_time": "2024-04-02T11:23:23.204Z"
   },
   {
    "duration": 9,
    "start_time": "2024-04-02T11:23:23.520Z"
   },
   {
    "duration": 37,
    "start_time": "2024-04-02T11:23:23.531Z"
   },
   {
    "duration": 31,
    "start_time": "2024-04-02T11:23:23.570Z"
   },
   {
    "duration": 42,
    "start_time": "2024-04-02T11:23:23.603Z"
   },
   {
    "duration": 36,
    "start_time": "2024-04-02T11:23:23.647Z"
   },
   {
    "duration": 411,
    "start_time": "2024-04-02T11:23:23.685Z"
   },
   {
    "duration": 400,
    "start_time": "2024-04-02T11:23:24.098Z"
   },
   {
    "duration": 28,
    "start_time": "2024-04-02T11:23:24.501Z"
   },
   {
    "duration": 33,
    "start_time": "2024-04-02T11:23:24.530Z"
   },
   {
    "duration": 28,
    "start_time": "2024-04-02T11:23:24.565Z"
   },
   {
    "duration": 110,
    "start_time": "2024-04-02T11:23:24.595Z"
   },
   {
    "duration": 1427,
    "start_time": "2024-04-02T11:23:24.707Z"
   },
   {
    "duration": 0,
    "start_time": "2024-04-02T11:23:26.136Z"
   },
   {
    "duration": 14,
    "start_time": "2024-04-02T11:25:52.079Z"
   },
   {
    "duration": 15,
    "start_time": "2024-04-02T11:25:54.648Z"
   },
   {
    "duration": 9,
    "start_time": "2024-04-02T11:26:13.200Z"
   },
   {
    "duration": 22,
    "start_time": "2024-04-02T11:26:44.304Z"
   },
   {
    "duration": 24,
    "start_time": "2024-04-02T11:27:10.597Z"
   },
   {
    "duration": 23,
    "start_time": "2024-04-02T11:27:19.892Z"
   },
   {
    "duration": 23,
    "start_time": "2024-04-02T11:27:26.302Z"
   },
   {
    "duration": 1224,
    "start_time": "2024-04-02T11:27:31.192Z"
   },
   {
    "duration": 71,
    "start_time": "2024-04-02T11:27:32.419Z"
   },
   {
    "duration": 3,
    "start_time": "2024-04-02T11:27:32.492Z"
   },
   {
    "duration": 407,
    "start_time": "2024-04-02T11:27:32.497Z"
   },
   {
    "duration": 432,
    "start_time": "2024-04-02T11:27:32.906Z"
   },
   {
    "duration": 15,
    "start_time": "2024-04-02T11:27:33.340Z"
   },
   {
    "duration": 13,
    "start_time": "2024-04-02T11:27:33.357Z"
   },
   {
    "duration": 172,
    "start_time": "2024-04-02T11:27:33.371Z"
   },
   {
    "duration": 8,
    "start_time": "2024-04-02T11:27:33.544Z"
   },
   {
    "duration": 12,
    "start_time": "2024-04-02T11:27:33.554Z"
   },
   {
    "duration": 32,
    "start_time": "2024-04-02T11:27:33.568Z"
   },
   {
    "duration": 193,
    "start_time": "2024-04-02T11:27:33.602Z"
   },
   {
    "duration": 12,
    "start_time": "2024-04-02T11:27:33.797Z"
   },
   {
    "duration": 176,
    "start_time": "2024-04-02T11:27:33.813Z"
   },
   {
    "duration": 13,
    "start_time": "2024-04-02T11:27:33.991Z"
   },
   {
    "duration": 327,
    "start_time": "2024-04-02T11:27:34.006Z"
   },
   {
    "duration": 13,
    "start_time": "2024-04-02T11:27:34.335Z"
   },
   {
    "duration": 7,
    "start_time": "2024-04-02T11:27:34.349Z"
   },
   {
    "duration": 420,
    "start_time": "2024-04-02T11:27:34.358Z"
   },
   {
    "duration": 332,
    "start_time": "2024-04-02T11:27:34.792Z"
   },
   {
    "duration": 11,
    "start_time": "2024-04-02T11:27:35.126Z"
   },
   {
    "duration": 67,
    "start_time": "2024-04-02T11:27:35.139Z"
   },
   {
    "duration": 11,
    "start_time": "2024-04-02T11:27:35.208Z"
   },
   {
    "duration": 13,
    "start_time": "2024-04-02T11:27:35.221Z"
   },
   {
    "duration": 15,
    "start_time": "2024-04-02T11:27:35.235Z"
   },
   {
    "duration": 418,
    "start_time": "2024-04-02T11:27:35.252Z"
   },
   {
    "duration": 409,
    "start_time": "2024-04-02T11:27:35.672Z"
   },
   {
    "duration": 31,
    "start_time": "2024-04-02T11:27:36.095Z"
   },
   {
    "duration": 24,
    "start_time": "2024-04-02T11:27:36.129Z"
   },
   {
    "duration": 6,
    "start_time": "2024-04-02T11:27:36.155Z"
   },
   {
    "duration": 30,
    "start_time": "2024-04-02T11:27:36.163Z"
   },
   {
    "duration": 35,
    "start_time": "2024-04-02T11:27:36.195Z"
   },
   {
    "duration": 24,
    "start_time": "2024-04-02T11:27:36.232Z"
   },
   {
    "duration": 832,
    "start_time": "2024-04-02T11:28:17.475Z"
   },
   {
    "duration": 11,
    "start_time": "2024-04-02T11:28:38.630Z"
   },
   {
    "duration": 8,
    "start_time": "2024-04-02T11:29:09.677Z"
   },
   {
    "duration": 3,
    "start_time": "2024-04-02T11:29:14.559Z"
   },
   {
    "duration": 8,
    "start_time": "2024-04-02T11:30:03.930Z"
   },
   {
    "duration": 8,
    "start_time": "2024-04-02T11:30:30.181Z"
   },
   {
    "duration": 9,
    "start_time": "2024-04-02T11:30:31.948Z"
   },
   {
    "duration": 6,
    "start_time": "2024-04-02T11:42:28.443Z"
   },
   {
    "duration": 6,
    "start_time": "2024-04-02T11:42:33.587Z"
   },
   {
    "duration": 6,
    "start_time": "2024-04-02T11:42:59.403Z"
   },
   {
    "duration": 5,
    "start_time": "2024-04-02T11:43:06.162Z"
   },
   {
    "duration": 8,
    "start_time": "2024-04-02T11:43:13.456Z"
   },
   {
    "duration": 1239,
    "start_time": "2024-04-02T11:53:04.458Z"
   },
   {
    "duration": 71,
    "start_time": "2024-04-02T11:53:05.699Z"
   },
   {
    "duration": 3,
    "start_time": "2024-04-02T11:53:05.771Z"
   },
   {
    "duration": 450,
    "start_time": "2024-04-02T11:53:05.777Z"
   },
   {
    "duration": 467,
    "start_time": "2024-04-02T11:53:06.229Z"
   },
   {
    "duration": 16,
    "start_time": "2024-04-02T11:53:06.697Z"
   },
   {
    "duration": 8,
    "start_time": "2024-04-02T11:53:06.715Z"
   },
   {
    "duration": 173,
    "start_time": "2024-04-02T11:53:06.725Z"
   },
   {
    "duration": 7,
    "start_time": "2024-04-02T11:53:06.900Z"
   },
   {
    "duration": 13,
    "start_time": "2024-04-02T11:53:06.910Z"
   },
   {
    "duration": 12,
    "start_time": "2024-04-02T11:53:06.925Z"
   },
   {
    "duration": 219,
    "start_time": "2024-04-02T11:53:06.938Z"
   },
   {
    "duration": 12,
    "start_time": "2024-04-02T11:53:07.159Z"
   },
   {
    "duration": 193,
    "start_time": "2024-04-02T11:53:07.173Z"
   },
   {
    "duration": 13,
    "start_time": "2024-04-02T11:53:07.368Z"
   },
   {
    "duration": 344,
    "start_time": "2024-04-02T11:53:07.383Z"
   },
   {
    "duration": 13,
    "start_time": "2024-04-02T11:53:07.729Z"
   },
   {
    "duration": 5,
    "start_time": "2024-04-02T11:53:07.744Z"
   },
   {
    "duration": 447,
    "start_time": "2024-04-02T11:53:07.751Z"
   },
   {
    "duration": 314,
    "start_time": "2024-04-02T11:53:08.200Z"
   },
   {
    "duration": 10,
    "start_time": "2024-04-02T11:53:08.516Z"
   },
   {
    "duration": 65,
    "start_time": "2024-04-02T11:53:08.528Z"
   },
   {
    "duration": 12,
    "start_time": "2024-04-02T11:53:08.595Z"
   },
   {
    "duration": 20,
    "start_time": "2024-04-02T11:53:08.609Z"
   },
   {
    "duration": 43,
    "start_time": "2024-04-02T11:53:08.631Z"
   },
   {
    "duration": 431,
    "start_time": "2024-04-02T11:53:08.676Z"
   },
   {
    "duration": 401,
    "start_time": "2024-04-02T11:53:09.109Z"
   },
   {
    "duration": 29,
    "start_time": "2024-04-02T11:53:09.513Z"
   },
   {
    "duration": 48,
    "start_time": "2024-04-02T11:53:09.543Z"
   },
   {
    "duration": 19,
    "start_time": "2024-04-02T11:53:09.593Z"
   },
   {
    "duration": 19,
    "start_time": "2024-04-02T11:53:09.614Z"
   },
   {
    "duration": 17,
    "start_time": "2024-04-02T11:53:09.635Z"
   },
   {
    "duration": 386,
    "start_time": "2024-04-02T11:55:16.765Z"
   },
   {
    "duration": 156,
    "start_time": "2024-04-02T11:55:32.473Z"
   },
   {
    "duration": 10,
    "start_time": "2024-04-02T12:03:14.879Z"
   },
   {
    "duration": 138,
    "start_time": "2024-04-02T12:03:19.580Z"
   },
   {
    "duration": 1222,
    "start_time": "2024-04-02T12:04:13.775Z"
   },
   {
    "duration": 71,
    "start_time": "2024-04-02T12:04:14.999Z"
   },
   {
    "duration": 63,
    "start_time": "2024-04-02T12:04:15.072Z"
   },
   {
    "duration": 493,
    "start_time": "2024-04-02T12:04:15.136Z"
   },
   {
    "duration": 471,
    "start_time": "2024-04-02T12:04:15.632Z"
   },
   {
    "duration": 17,
    "start_time": "2024-04-02T12:04:16.105Z"
   },
   {
    "duration": 12,
    "start_time": "2024-04-02T12:04:16.123Z"
   },
   {
    "duration": 185,
    "start_time": "2024-04-02T12:04:16.137Z"
   },
   {
    "duration": 9,
    "start_time": "2024-04-02T12:04:16.324Z"
   },
   {
    "duration": 37,
    "start_time": "2024-04-02T12:04:16.335Z"
   },
   {
    "duration": 37,
    "start_time": "2024-04-02T12:04:16.374Z"
   },
   {
    "duration": 189,
    "start_time": "2024-04-02T12:04:16.413Z"
   },
   {
    "duration": 13,
    "start_time": "2024-04-02T12:04:16.603Z"
   },
   {
    "duration": 172,
    "start_time": "2024-04-02T12:04:16.619Z"
   },
   {
    "duration": 12,
    "start_time": "2024-04-02T12:04:16.793Z"
   },
   {
    "duration": 320,
    "start_time": "2024-04-02T12:04:16.807Z"
   },
   {
    "duration": 12,
    "start_time": "2024-04-02T12:04:17.129Z"
   },
   {
    "duration": 17,
    "start_time": "2024-04-02T12:04:17.143Z"
   },
   {
    "duration": 433,
    "start_time": "2024-04-02T12:04:17.162Z"
   },
   {
    "duration": 349,
    "start_time": "2024-04-02T12:04:17.597Z"
   },
   {
    "duration": 10,
    "start_time": "2024-04-02T12:04:17.948Z"
   },
   {
    "duration": 67,
    "start_time": "2024-04-02T12:04:17.960Z"
   },
   {
    "duration": 13,
    "start_time": "2024-04-02T12:04:18.029Z"
   },
   {
    "duration": 17,
    "start_time": "2024-04-02T12:04:18.044Z"
   },
   {
    "duration": 60,
    "start_time": "2024-04-02T12:04:18.062Z"
   },
   {
    "duration": 414,
    "start_time": "2024-04-02T12:04:18.124Z"
   },
   {
    "duration": 395,
    "start_time": "2024-04-02T12:04:18.540Z"
   },
   {
    "duration": 28,
    "start_time": "2024-04-02T12:04:18.937Z"
   },
   {
    "duration": 47,
    "start_time": "2024-04-02T12:04:18.966Z"
   },
   {
    "duration": 7,
    "start_time": "2024-04-02T12:04:19.014Z"
   },
   {
    "duration": 37,
    "start_time": "2024-04-02T12:04:19.023Z"
   },
   {
    "duration": 21,
    "start_time": "2024-04-02T12:04:19.062Z"
   },
   {
    "duration": 191,
    "start_time": "2024-04-02T12:04:19.085Z"
   },
   {
    "duration": 3,
    "start_time": "2024-04-02T12:04:23.514Z"
   },
   {
    "duration": 1225,
    "start_time": "2024-04-02T12:04:27.999Z"
   },
   {
    "duration": 74,
    "start_time": "2024-04-02T12:04:29.226Z"
   },
   {
    "duration": 2,
    "start_time": "2024-04-02T12:04:29.302Z"
   },
   {
    "duration": 414,
    "start_time": "2024-04-02T12:04:29.306Z"
   },
   {
    "duration": 468,
    "start_time": "2024-04-02T12:04:29.723Z"
   },
   {
    "duration": 21,
    "start_time": "2024-04-02T12:04:30.193Z"
   },
   {
    "duration": 274,
    "start_time": "2024-04-02T12:04:30.217Z"
   },
   {
    "duration": 478,
    "start_time": "2024-04-02T12:04:30.492Z"
   },
   {
    "duration": 9,
    "start_time": "2024-04-02T12:04:30.971Z"
   },
   {
    "duration": 166,
    "start_time": "2024-04-02T12:04:30.982Z"
   },
   {
    "duration": 200,
    "start_time": "2024-04-02T12:04:31.150Z"
   },
   {
    "duration": 373,
    "start_time": "2024-04-02T12:04:31.351Z"
   },
   {
    "duration": 13,
    "start_time": "2024-04-02T12:04:31.726Z"
   },
   {
    "duration": 194,
    "start_time": "2024-04-02T12:04:31.742Z"
   },
   {
    "duration": 12,
    "start_time": "2024-04-02T12:04:31.938Z"
   },
   {
    "duration": 346,
    "start_time": "2024-04-02T12:04:31.952Z"
   },
   {
    "duration": 14,
    "start_time": "2024-04-02T12:04:32.300Z"
   },
   {
    "duration": 29,
    "start_time": "2024-04-02T12:04:32.316Z"
   },
   {
    "duration": 401,
    "start_time": "2024-04-02T12:04:32.347Z"
   },
   {
    "duration": 325,
    "start_time": "2024-04-02T12:04:32.750Z"
   },
   {
    "duration": 32,
    "start_time": "2024-04-02T12:04:33.077Z"
   },
   {
    "duration": 51,
    "start_time": "2024-04-02T12:04:33.111Z"
   },
   {
    "duration": 10,
    "start_time": "2024-04-02T12:04:33.164Z"
   },
   {
    "duration": 22,
    "start_time": "2024-04-02T12:04:33.177Z"
   },
   {
    "duration": 28,
    "start_time": "2024-04-02T12:04:33.201Z"
   },
   {
    "duration": 417,
    "start_time": "2024-04-02T12:04:33.230Z"
   },
   {
    "duration": 410,
    "start_time": "2024-04-02T12:04:33.648Z"
   },
   {
    "duration": 44,
    "start_time": "2024-04-02T12:04:34.060Z"
   },
   {
    "duration": 24,
    "start_time": "2024-04-02T12:04:34.106Z"
   },
   {
    "duration": 6,
    "start_time": "2024-04-02T12:04:34.132Z"
   },
   {
    "duration": 7,
    "start_time": "2024-04-02T12:04:34.140Z"
   },
   {
    "duration": 47,
    "start_time": "2024-04-02T12:04:34.149Z"
   },
   {
    "duration": 157,
    "start_time": "2024-04-02T12:04:34.198Z"
   },
   {
    "duration": 1949,
    "start_time": "2024-04-02T12:05:41.876Z"
   },
   {
    "duration": 143,
    "start_time": "2024-04-02T12:17:01.820Z"
   },
   {
    "duration": 250,
    "start_time": "2024-04-02T12:17:07.040Z"
   },
   {
    "duration": 327,
    "start_time": "2024-04-02T12:17:28.577Z"
   },
   {
    "duration": 175,
    "start_time": "2024-04-02T12:19:43.004Z"
   },
   {
    "duration": 158,
    "start_time": "2024-04-02T12:23:08.172Z"
   },
   {
    "duration": 129,
    "start_time": "2024-04-02T12:23:58.647Z"
   },
   {
    "duration": 147,
    "start_time": "2024-04-02T12:24:46.998Z"
   },
   {
    "duration": 232,
    "start_time": "2024-04-02T12:25:02.939Z"
   },
   {
    "duration": 164,
    "start_time": "2024-04-02T12:27:15.033Z"
   },
   {
    "duration": 172,
    "start_time": "2024-04-02T12:27:20.666Z"
   },
   {
    "duration": 155,
    "start_time": "2024-04-02T12:27:29.491Z"
   },
   {
    "duration": 138,
    "start_time": "2024-04-02T12:27:34.716Z"
   },
   {
    "duration": 3865,
    "start_time": "2024-04-02T12:30:53.722Z"
   },
   {
    "duration": 3981,
    "start_time": "2024-04-02T12:31:11.395Z"
   },
   {
    "duration": 3949,
    "start_time": "2024-04-02T12:31:35.728Z"
   },
   {
    "duration": 5546,
    "start_time": "2024-04-02T12:31:53.453Z"
   },
   {
    "duration": 5541,
    "start_time": "2024-04-02T12:32:52.030Z"
   },
   {
    "duration": 142,
    "start_time": "2024-04-02T12:33:33.283Z"
   },
   {
    "duration": 5493,
    "start_time": "2024-04-02T12:33:40.233Z"
   },
   {
    "duration": 426,
    "start_time": "2024-04-02T12:34:44.375Z"
   },
   {
    "duration": 462,
    "start_time": "2024-04-02T12:35:32.539Z"
   },
   {
    "duration": 456,
    "start_time": "2024-04-02T12:35:45.962Z"
   },
   {
    "duration": 434,
    "start_time": "2024-04-02T12:35:58.682Z"
   },
   {
    "duration": 432,
    "start_time": "2024-04-02T12:36:24.004Z"
   },
   {
    "duration": 454,
    "start_time": "2024-04-02T12:36:45.708Z"
   },
   {
    "duration": 427,
    "start_time": "2024-04-02T12:36:55.912Z"
   },
   {
    "duration": 776,
    "start_time": "2024-04-02T12:37:14.829Z"
   },
   {
    "duration": 470,
    "start_time": "2024-04-02T12:37:21.610Z"
   },
   {
    "duration": 447,
    "start_time": "2024-04-02T12:37:26.063Z"
   },
   {
    "duration": 432,
    "start_time": "2024-04-02T12:37:30.476Z"
   },
   {
    "duration": 439,
    "start_time": "2024-04-02T12:37:51.876Z"
   },
   {
    "duration": 431,
    "start_time": "2024-04-02T12:37:57.480Z"
   },
   {
    "duration": 444,
    "start_time": "2024-04-02T12:38:08.577Z"
   },
   {
    "duration": 480,
    "start_time": "2024-04-02T12:38:19.441Z"
   },
   {
    "duration": 453,
    "start_time": "2024-04-02T12:38:45.996Z"
   },
   {
    "duration": 417,
    "start_time": "2024-04-02T12:41:56.293Z"
   },
   {
    "duration": 12,
    "start_time": "2024-04-02T12:44:03.709Z"
   },
   {
    "duration": 5,
    "start_time": "2024-04-02T12:44:13.891Z"
   },
   {
    "duration": 6,
    "start_time": "2024-04-02T12:45:02.776Z"
   },
   {
    "duration": 5,
    "start_time": "2024-04-02T12:46:15.855Z"
   },
   {
    "duration": 17,
    "start_time": "2024-04-02T12:46:36.108Z"
   },
   {
    "duration": 916,
    "start_time": "2024-04-02T12:46:43.709Z"
   },
   {
    "duration": 946,
    "start_time": "2024-04-02T12:47:16.178Z"
   },
   {
    "duration": 14,
    "start_time": "2024-04-02T12:48:23.201Z"
   },
   {
    "duration": 344,
    "start_time": "2024-04-02T12:49:06.776Z"
   },
   {
    "duration": 325,
    "start_time": "2024-04-02T12:50:23.433Z"
   },
   {
    "duration": 348,
    "start_time": "2024-04-02T12:50:35.496Z"
   },
   {
    "duration": 313,
    "start_time": "2024-04-02T12:51:15.688Z"
   },
   {
    "duration": 342,
    "start_time": "2024-04-02T12:51:32.493Z"
   },
   {
    "duration": 265,
    "start_time": "2024-04-02T12:51:58.734Z"
   },
   {
    "duration": 319,
    "start_time": "2024-04-02T12:52:03.896Z"
   },
   {
    "duration": 305,
    "start_time": "2024-04-02T12:52:20.076Z"
   },
   {
    "duration": 258,
    "start_time": "2024-04-02T12:53:01.041Z"
   },
   {
    "duration": 332,
    "start_time": "2024-04-02T12:53:46.021Z"
   },
   {
    "duration": 509,
    "start_time": "2024-04-02T12:53:56.812Z"
   },
   {
    "duration": 445,
    "start_time": "2024-04-02T12:54:26.229Z"
   },
   {
    "duration": 90,
    "start_time": "2024-04-02T12:55:37.525Z"
   },
   {
    "duration": 269,
    "start_time": "2024-04-02T12:56:06.327Z"
   },
   {
    "duration": 394,
    "start_time": "2024-04-02T12:56:27.779Z"
   },
   {
    "duration": 325,
    "start_time": "2024-04-02T12:58:25.793Z"
   },
   {
    "duration": 132,
    "start_time": "2024-04-02T12:58:36.558Z"
   },
   {
    "duration": 276,
    "start_time": "2024-04-02T12:58:43.325Z"
   },
   {
    "duration": 272,
    "start_time": "2024-04-02T13:01:06.622Z"
   },
   {
    "duration": 17,
    "start_time": "2024-04-02T13:02:11.460Z"
   },
   {
    "duration": 143,
    "start_time": "2024-04-02T13:02:32.181Z"
   },
   {
    "duration": 271,
    "start_time": "2024-04-02T13:04:31.607Z"
   },
   {
    "duration": 358,
    "start_time": "2024-04-02T13:04:55.788Z"
   },
   {
    "duration": 261,
    "start_time": "2024-04-02T13:41:16.174Z"
   },
   {
    "duration": 335,
    "start_time": "2024-04-02T13:41:27.392Z"
   },
   {
    "duration": 146,
    "start_time": "2024-04-02T14:06:25.696Z"
   },
   {
    "duration": 125,
    "start_time": "2024-04-02T14:06:47.628Z"
   },
   {
    "duration": 325,
    "start_time": "2024-04-02T14:07:00.103Z"
   },
   {
    "duration": 326,
    "start_time": "2024-04-02T14:07:10.100Z"
   },
   {
    "duration": 317,
    "start_time": "2024-04-02T14:37:42.471Z"
   },
   {
    "duration": 413,
    "start_time": "2024-04-02T14:37:50.527Z"
   },
   {
    "duration": 281,
    "start_time": "2024-04-02T14:38:38.680Z"
   },
   {
    "duration": 292,
    "start_time": "2024-04-02T14:38:52.512Z"
   },
   {
    "duration": 350,
    "start_time": "2024-04-02T14:39:46.877Z"
   },
   {
    "duration": 266,
    "start_time": "2024-04-02T14:41:12.126Z"
   },
   {
    "duration": 412,
    "start_time": "2024-04-02T14:42:22.062Z"
   },
   {
    "duration": 372,
    "start_time": "2024-04-02T14:42:47.555Z"
   },
   {
    "duration": 2350,
    "start_time": "2024-04-02T14:44:39.956Z"
   },
   {
    "duration": 468,
    "start_time": "2024-04-02T14:46:40.701Z"
   },
   {
    "duration": 602,
    "start_time": "2024-04-02T14:46:46.456Z"
   },
   {
    "duration": 566,
    "start_time": "2024-04-02T14:46:58.345Z"
   },
   {
    "duration": 487,
    "start_time": "2024-04-02T14:47:21.429Z"
   },
   {
    "duration": 307,
    "start_time": "2024-04-02T14:47:38.706Z"
   },
   {
    "duration": 479,
    "start_time": "2024-04-02T14:48:18.742Z"
   },
   {
    "duration": 461,
    "start_time": "2024-04-02T14:48:38.690Z"
   },
   {
    "duration": 330,
    "start_time": "2024-04-02T14:49:00.993Z"
   },
   {
    "duration": 306,
    "start_time": "2024-04-02T14:49:03.659Z"
   },
   {
    "duration": 366,
    "start_time": "2024-04-02T14:49:22.887Z"
   },
   {
    "duration": 272,
    "start_time": "2024-04-02T14:49:26.721Z"
   },
   {
    "duration": 263,
    "start_time": "2024-04-02T14:49:47.068Z"
   },
   {
    "duration": 423,
    "start_time": "2024-04-02T14:50:03.873Z"
   },
   {
    "duration": 487,
    "start_time": "2024-04-02T14:50:17.009Z"
   },
   {
    "duration": 498,
    "start_time": "2024-04-02T14:50:50.691Z"
   },
   {
    "duration": 405,
    "start_time": "2024-04-02T14:52:49.324Z"
   },
   {
    "duration": 412,
    "start_time": "2024-04-02T14:54:10.583Z"
   },
   {
    "duration": 264,
    "start_time": "2024-04-02T14:56:26.439Z"
   },
   {
    "duration": 417,
    "start_time": "2024-04-02T15:35:35.053Z"
   },
   {
    "duration": 1166,
    "start_time": "2024-04-02T15:35:40.830Z"
   },
   {
    "duration": 70,
    "start_time": "2024-04-02T15:35:41.998Z"
   },
   {
    "duration": 3,
    "start_time": "2024-04-02T15:35:42.069Z"
   },
   {
    "duration": 384,
    "start_time": "2024-04-02T15:35:42.075Z"
   },
   {
    "duration": 432,
    "start_time": "2024-04-02T15:35:42.461Z"
   },
   {
    "duration": 16,
    "start_time": "2024-04-02T15:35:42.895Z"
   },
   {
    "duration": 29,
    "start_time": "2024-04-02T15:35:42.912Z"
   },
   {
    "duration": 163,
    "start_time": "2024-04-02T15:35:42.943Z"
   },
   {
    "duration": 8,
    "start_time": "2024-04-02T15:35:43.107Z"
   },
   {
    "duration": 11,
    "start_time": "2024-04-02T15:35:43.117Z"
   },
   {
    "duration": 14,
    "start_time": "2024-04-02T15:35:43.130Z"
   },
   {
    "duration": 222,
    "start_time": "2024-04-02T15:35:43.146Z"
   },
   {
    "duration": 23,
    "start_time": "2024-04-02T15:35:43.370Z"
   },
   {
    "duration": 151,
    "start_time": "2024-04-02T15:35:43.394Z"
   },
   {
    "duration": 12,
    "start_time": "2024-04-02T15:35:43.547Z"
   },
   {
    "duration": 337,
    "start_time": "2024-04-02T15:35:43.560Z"
   },
   {
    "duration": 13,
    "start_time": "2024-04-02T15:35:43.899Z"
   },
   {
    "duration": 11,
    "start_time": "2024-04-02T15:35:43.913Z"
   },
   {
    "duration": 435,
    "start_time": "2024-04-02T15:35:43.925Z"
   },
   {
    "duration": 333,
    "start_time": "2024-04-02T15:35:44.363Z"
   },
   {
    "duration": 8,
    "start_time": "2024-04-02T15:35:44.698Z"
   },
   {
    "duration": 36,
    "start_time": "2024-04-02T15:35:44.708Z"
   },
   {
    "duration": 11,
    "start_time": "2024-04-02T15:35:44.746Z"
   },
   {
    "duration": 42,
    "start_time": "2024-04-02T15:35:44.759Z"
   },
   {
    "duration": 14,
    "start_time": "2024-04-02T15:35:44.803Z"
   },
   {
    "duration": 386,
    "start_time": "2024-04-02T15:35:44.819Z"
   },
   {
    "duration": 397,
    "start_time": "2024-04-02T15:35:45.207Z"
   },
   {
    "duration": 31,
    "start_time": "2024-04-02T15:35:45.607Z"
   },
   {
    "duration": 65,
    "start_time": "2024-04-02T15:35:45.640Z"
   },
   {
    "duration": 7,
    "start_time": "2024-04-02T15:35:45.707Z"
   },
   {
    "duration": 19,
    "start_time": "2024-04-02T15:35:45.716Z"
   },
   {
    "duration": 22,
    "start_time": "2024-04-02T15:35:45.738Z"
   },
   {
    "duration": 446,
    "start_time": "2024-04-02T15:35:45.763Z"
   },
   {
    "duration": 120,
    "start_time": "2024-04-02T15:35:46.211Z"
   },
   {
    "duration": 14,
    "start_time": "2024-04-02T15:36:46.304Z"
   },
   {
    "duration": 14,
    "start_time": "2024-04-02T15:37:21.987Z"
   },
   {
    "duration": 433,
    "start_time": "2024-04-02T15:37:40.679Z"
   },
   {
    "duration": 135,
    "start_time": "2024-04-02T15:38:07.353Z"
   },
   {
    "duration": 95,
    "start_time": "2024-04-02T15:41:03.497Z"
   },
   {
    "duration": 91,
    "start_time": "2024-04-02T15:41:24.703Z"
   },
   {
    "duration": 1161,
    "start_time": "2024-04-02T15:41:38.513Z"
   },
   {
    "duration": 69,
    "start_time": "2024-04-02T15:41:39.676Z"
   },
   {
    "duration": 2,
    "start_time": "2024-04-02T15:41:39.748Z"
   },
   {
    "duration": 395,
    "start_time": "2024-04-02T15:41:39.752Z"
   },
   {
    "duration": 437,
    "start_time": "2024-04-02T15:41:40.149Z"
   },
   {
    "duration": 15,
    "start_time": "2024-04-02T15:41:40.592Z"
   },
   {
    "duration": 24,
    "start_time": "2024-04-02T15:41:40.609Z"
   },
   {
    "duration": 165,
    "start_time": "2024-04-02T15:41:40.634Z"
   },
   {
    "duration": 6,
    "start_time": "2024-04-02T15:41:40.801Z"
   },
   {
    "duration": 11,
    "start_time": "2024-04-02T15:41:40.809Z"
   },
   {
    "duration": 13,
    "start_time": "2024-04-02T15:41:40.821Z"
   },
   {
    "duration": 198,
    "start_time": "2024-04-02T15:41:40.836Z"
   },
   {
    "duration": 12,
    "start_time": "2024-04-02T15:41:41.036Z"
   },
   {
    "duration": 195,
    "start_time": "2024-04-02T15:41:41.051Z"
   },
   {
    "duration": 13,
    "start_time": "2024-04-02T15:41:41.249Z"
   },
   {
    "duration": 331,
    "start_time": "2024-04-02T15:41:41.264Z"
   },
   {
    "duration": 12,
    "start_time": "2024-04-02T15:41:41.597Z"
   },
   {
    "duration": 6,
    "start_time": "2024-04-02T15:41:41.611Z"
   },
   {
    "duration": 429,
    "start_time": "2024-04-02T15:41:41.619Z"
   },
   {
    "duration": 314,
    "start_time": "2024-04-02T15:41:42.050Z"
   },
   {
    "duration": 28,
    "start_time": "2024-04-02T15:41:42.367Z"
   },
   {
    "duration": 39,
    "start_time": "2024-04-02T15:41:42.397Z"
   },
   {
    "duration": 12,
    "start_time": "2024-04-02T15:41:42.438Z"
   },
   {
    "duration": 41,
    "start_time": "2024-04-02T15:41:42.452Z"
   },
   {
    "duration": 22,
    "start_time": "2024-04-02T15:41:42.495Z"
   },
   {
    "duration": 385,
    "start_time": "2024-04-02T15:41:42.519Z"
   },
   {
    "duration": 416,
    "start_time": "2024-04-02T15:41:42.906Z"
   },
   {
    "duration": 25,
    "start_time": "2024-04-02T15:41:43.324Z"
   },
   {
    "duration": 52,
    "start_time": "2024-04-02T15:41:43.350Z"
   },
   {
    "duration": 6,
    "start_time": "2024-04-02T15:41:43.403Z"
   },
   {
    "duration": 10,
    "start_time": "2024-04-02T15:41:43.410Z"
   },
   {
    "duration": 7,
    "start_time": "2024-04-02T15:41:43.422Z"
   },
   {
    "duration": 435,
    "start_time": "2024-04-02T15:41:43.431Z"
   },
   {
    "duration": 97,
    "start_time": "2024-04-02T15:41:43.868Z"
   },
   {
    "duration": 1291,
    "start_time": "2024-04-02T15:42:42.881Z"
   },
   {
    "duration": 68,
    "start_time": "2024-04-02T15:42:44.174Z"
   },
   {
    "duration": 3,
    "start_time": "2024-04-02T15:42:44.244Z"
   },
   {
    "duration": 411,
    "start_time": "2024-04-02T15:42:44.250Z"
   },
   {
    "duration": 462,
    "start_time": "2024-04-02T15:42:44.662Z"
   },
   {
    "duration": 16,
    "start_time": "2024-04-02T15:42:45.125Z"
   },
   {
    "duration": 184,
    "start_time": "2024-04-02T15:42:45.143Z"
   },
   {
    "duration": 171,
    "start_time": "2024-04-02T15:42:45.329Z"
   },
   {
    "duration": 8,
    "start_time": "2024-04-02T15:42:45.502Z"
   },
   {
    "duration": 29,
    "start_time": "2024-04-02T15:42:45.513Z"
   },
   {
    "duration": 20,
    "start_time": "2024-04-02T15:42:45.545Z"
   },
   {
    "duration": 199,
    "start_time": "2024-04-02T15:42:45.566Z"
   },
   {
    "duration": 25,
    "start_time": "2024-04-02T15:42:45.768Z"
   },
   {
    "duration": 168,
    "start_time": "2024-04-02T15:42:45.795Z"
   },
   {
    "duration": 28,
    "start_time": "2024-04-02T15:42:45.965Z"
   },
   {
    "duration": 360,
    "start_time": "2024-04-02T15:42:45.998Z"
   },
   {
    "duration": 13,
    "start_time": "2024-04-02T15:42:46.360Z"
   },
   {
    "duration": 24,
    "start_time": "2024-04-02T15:42:46.374Z"
   },
   {
    "duration": 418,
    "start_time": "2024-04-02T15:42:46.400Z"
   },
   {
    "duration": 325,
    "start_time": "2024-04-02T15:42:46.820Z"
   },
   {
    "duration": 13,
    "start_time": "2024-04-02T15:42:47.147Z"
   },
   {
    "duration": 64,
    "start_time": "2024-04-02T15:42:47.163Z"
   },
   {
    "duration": 14,
    "start_time": "2024-04-02T15:42:47.229Z"
   },
   {
    "duration": 46,
    "start_time": "2024-04-02T15:42:47.246Z"
   },
   {
    "duration": 19,
    "start_time": "2024-04-02T15:42:47.294Z"
   },
   {
    "duration": 420,
    "start_time": "2024-04-02T15:42:47.315Z"
   },
   {
    "duration": 398,
    "start_time": "2024-04-02T15:42:47.737Z"
   },
   {
    "duration": 27,
    "start_time": "2024-04-02T15:42:48.138Z"
   },
   {
    "duration": 47,
    "start_time": "2024-04-02T15:42:48.167Z"
   },
   {
    "duration": 6,
    "start_time": "2024-04-02T15:42:48.215Z"
   },
   {
    "duration": 9,
    "start_time": "2024-04-02T15:42:48.223Z"
   },
   {
    "duration": 9,
    "start_time": "2024-04-02T15:42:48.234Z"
   },
   {
    "duration": 513,
    "start_time": "2024-04-02T15:42:48.244Z"
   },
   {
    "duration": 87,
    "start_time": "2024-04-02T15:42:48.759Z"
   },
   {
    "duration": 116,
    "start_time": "2024-04-02T15:42:59.116Z"
   },
   {
    "duration": 295,
    "start_time": "2024-04-02T15:43:42.564Z"
   },
   {
    "duration": 102,
    "start_time": "2024-04-02T15:44:28.180Z"
   },
   {
    "duration": 390,
    "start_time": "2024-04-02T15:44:33.092Z"
   },
   {
    "duration": 1139,
    "start_time": "2024-04-02T15:44:42.146Z"
   },
   {
    "duration": 75,
    "start_time": "2024-04-02T15:44:43.287Z"
   },
   {
    "duration": 3,
    "start_time": "2024-04-02T15:44:43.364Z"
   },
   {
    "duration": 370,
    "start_time": "2024-04-02T15:44:43.371Z"
   },
   {
    "duration": 425,
    "start_time": "2024-04-02T15:44:43.743Z"
   },
   {
    "duration": 26,
    "start_time": "2024-04-02T15:44:44.171Z"
   },
   {
    "duration": 24,
    "start_time": "2024-04-02T15:44:44.198Z"
   },
   {
    "duration": 154,
    "start_time": "2024-04-02T15:44:44.224Z"
   },
   {
    "duration": 12,
    "start_time": "2024-04-02T15:44:44.380Z"
   },
   {
    "duration": 11,
    "start_time": "2024-04-02T15:44:44.395Z"
   },
   {
    "duration": 20,
    "start_time": "2024-04-02T15:44:44.408Z"
   },
   {
    "duration": 195,
    "start_time": "2024-04-02T15:44:44.429Z"
   },
   {
    "duration": 12,
    "start_time": "2024-04-02T15:44:44.625Z"
   },
   {
    "duration": 178,
    "start_time": "2024-04-02T15:44:44.639Z"
   },
   {
    "duration": 23,
    "start_time": "2024-04-02T15:44:44.819Z"
   },
   {
    "duration": 340,
    "start_time": "2024-04-02T15:44:44.844Z"
   },
   {
    "duration": 17,
    "start_time": "2024-04-02T15:44:45.186Z"
   },
   {
    "duration": 390,
    "start_time": "2024-04-02T15:44:45.205Z"
   },
   {
    "duration": 398,
    "start_time": "2024-04-02T15:44:45.596Z"
   },
   {
    "duration": 330,
    "start_time": "2024-04-02T15:44:45.996Z"
   },
   {
    "duration": 9,
    "start_time": "2024-04-02T15:44:46.328Z"
   },
   {
    "duration": 59,
    "start_time": "2024-04-02T15:44:46.339Z"
   },
   {
    "duration": 48,
    "start_time": "2024-04-02T15:44:46.400Z"
   },
   {
    "duration": 39,
    "start_time": "2024-04-02T15:44:46.450Z"
   },
   {
    "duration": 47,
    "start_time": "2024-04-02T15:44:46.490Z"
   },
   {
    "duration": 375,
    "start_time": "2024-04-02T15:44:46.538Z"
   },
   {
    "duration": 379,
    "start_time": "2024-04-02T15:44:46.915Z"
   },
   {
    "duration": 26,
    "start_time": "2024-04-02T15:44:47.297Z"
   },
   {
    "duration": 23,
    "start_time": "2024-04-02T15:44:47.324Z"
   },
   {
    "duration": 5,
    "start_time": "2024-04-02T15:44:47.349Z"
   },
   {
    "duration": 38,
    "start_time": "2024-04-02T15:44:47.356Z"
   },
   {
    "duration": 15,
    "start_time": "2024-04-02T15:44:47.396Z"
   },
   {
    "duration": 457,
    "start_time": "2024-04-02T15:44:47.413Z"
   },
   {
    "duration": 329,
    "start_time": "2024-04-02T15:44:47.872Z"
   },
   {
    "duration": 1007,
    "start_time": "2024-04-02T16:02:15.789Z"
   },
   {
    "duration": 64,
    "start_time": "2024-04-02T16:02:16.798Z"
   },
   {
    "duration": 3,
    "start_time": "2024-04-02T16:02:16.864Z"
   },
   {
    "duration": 312,
    "start_time": "2024-04-02T16:02:16.868Z"
   },
   {
    "duration": 386,
    "start_time": "2024-04-02T16:02:17.183Z"
   },
   {
    "duration": 14,
    "start_time": "2024-04-02T16:02:17.571Z"
   },
   {
    "duration": 10,
    "start_time": "2024-04-02T16:02:17.587Z"
   },
   {
    "duration": 143,
    "start_time": "2024-04-02T16:02:17.598Z"
   },
   {
    "duration": 11,
    "start_time": "2024-04-02T16:02:17.742Z"
   },
   {
    "duration": 11,
    "start_time": "2024-04-02T16:02:17.755Z"
   },
   {
    "duration": 12,
    "start_time": "2024-04-02T16:02:17.768Z"
   },
   {
    "duration": 150,
    "start_time": "2024-04-02T16:02:17.781Z"
   },
   {
    "duration": 11,
    "start_time": "2024-04-02T16:02:17.932Z"
   },
   {
    "duration": 140,
    "start_time": "2024-04-02T16:02:17.945Z"
   },
   {
    "duration": 10,
    "start_time": "2024-04-02T16:02:18.087Z"
   },
   {
    "duration": 271,
    "start_time": "2024-04-02T16:02:18.098Z"
   },
   {
    "duration": 10,
    "start_time": "2024-04-02T16:02:18.371Z"
   },
   {
    "duration": 11,
    "start_time": "2024-04-02T16:02:18.383Z"
   },
   {
    "duration": 336,
    "start_time": "2024-04-02T16:02:18.396Z"
   },
   {
    "duration": 258,
    "start_time": "2024-04-02T16:02:18.733Z"
   },
   {
    "duration": 8,
    "start_time": "2024-04-02T16:02:18.992Z"
   },
   {
    "duration": 31,
    "start_time": "2024-04-02T16:02:19.001Z"
   },
   {
    "duration": 30,
    "start_time": "2024-04-02T16:02:19.033Z"
   },
   {
    "duration": 11,
    "start_time": "2024-04-02T16:02:19.065Z"
   },
   {
    "duration": 16,
    "start_time": "2024-04-02T16:02:19.078Z"
   },
   {
    "duration": 332,
    "start_time": "2024-04-02T16:02:19.095Z"
   },
   {
    "duration": 332,
    "start_time": "2024-04-02T16:02:19.428Z"
   },
   {
    "duration": 24,
    "start_time": "2024-04-02T16:02:19.761Z"
   },
   {
    "duration": 20,
    "start_time": "2024-04-02T16:02:19.787Z"
   },
   {
    "duration": 4,
    "start_time": "2024-04-02T16:02:19.809Z"
   },
   {
    "duration": 13,
    "start_time": "2024-04-02T16:02:19.815Z"
   },
   {
    "duration": 30,
    "start_time": "2024-04-02T16:02:19.829Z"
   },
   {
    "duration": 369,
    "start_time": "2024-04-02T16:02:19.860Z"
   },
   {
    "duration": 294,
    "start_time": "2024-04-02T16:02:20.231Z"
   },
   {
    "duration": 5,
    "start_time": "2024-04-02T16:08:29.813Z"
   },
   {
    "duration": 1103,
    "start_time": "2024-04-02T16:14:15.538Z"
   },
   {
    "duration": 66,
    "start_time": "2024-04-02T16:14:16.642Z"
   },
   {
    "duration": 2,
    "start_time": "2024-04-02T16:14:16.710Z"
   },
   {
    "duration": 358,
    "start_time": "2024-04-02T16:14:16.713Z"
   },
   {
    "duration": 350,
    "start_time": "2024-04-02T16:14:17.072Z"
   },
   {
    "duration": 15,
    "start_time": "2024-04-02T16:14:17.424Z"
   },
   {
    "duration": 21,
    "start_time": "2024-04-02T16:14:17.440Z"
   },
   {
    "duration": 167,
    "start_time": "2024-04-02T16:14:17.462Z"
   },
   {
    "duration": 7,
    "start_time": "2024-04-02T16:14:17.630Z"
   },
   {
    "duration": 25,
    "start_time": "2024-04-02T16:14:17.640Z"
   },
   {
    "duration": 11,
    "start_time": "2024-04-02T16:14:17.666Z"
   },
   {
    "duration": 158,
    "start_time": "2024-04-02T16:14:17.679Z"
   },
   {
    "duration": 11,
    "start_time": "2024-04-02T16:14:17.838Z"
   },
   {
    "duration": 136,
    "start_time": "2024-04-02T16:14:17.850Z"
   },
   {
    "duration": 10,
    "start_time": "2024-04-02T16:14:17.987Z"
   },
   {
    "duration": 261,
    "start_time": "2024-04-02T16:14:17.998Z"
   },
   {
    "duration": 11,
    "start_time": "2024-04-02T16:14:18.260Z"
   },
   {
    "duration": 5,
    "start_time": "2024-04-02T16:14:18.272Z"
   },
   {
    "duration": 341,
    "start_time": "2024-04-02T16:14:18.279Z"
   },
   {
    "duration": 265,
    "start_time": "2024-04-02T16:14:18.621Z"
   },
   {
    "duration": 8,
    "start_time": "2024-04-02T16:14:18.888Z"
   },
   {
    "duration": 34,
    "start_time": "2024-04-02T16:14:18.898Z"
   },
   {
    "duration": 25,
    "start_time": "2024-04-02T16:14:18.934Z"
   },
   {
    "duration": 11,
    "start_time": "2024-04-02T16:14:18.960Z"
   },
   {
    "duration": 15,
    "start_time": "2024-04-02T16:14:18.972Z"
   },
   {
    "duration": 326,
    "start_time": "2024-04-02T16:14:18.989Z"
   },
   {
    "duration": 323,
    "start_time": "2024-04-02T16:14:19.316Z"
   },
   {
    "duration": 36,
    "start_time": "2024-04-02T16:14:19.642Z"
   },
   {
    "duration": 23,
    "start_time": "2024-04-02T16:14:19.680Z"
   },
   {
    "duration": 6,
    "start_time": "2024-04-02T16:14:19.705Z"
   },
   {
    "duration": 17,
    "start_time": "2024-04-02T16:14:19.712Z"
   },
   {
    "duration": 7,
    "start_time": "2024-04-02T16:14:19.730Z"
   },
   {
    "duration": 424,
    "start_time": "2024-04-02T16:14:19.738Z"
   },
   {
    "duration": 273,
    "start_time": "2024-04-02T16:14:20.163Z"
   },
   {
    "duration": 70,
    "start_time": "2024-04-03T07:32:24.488Z"
   },
   {
    "duration": 1352,
    "start_time": "2024-04-03T07:35:05.610Z"
   },
   {
    "duration": 217,
    "start_time": "2024-04-03T07:35:06.965Z"
   },
   {
    "duration": 4,
    "start_time": "2024-04-03T07:35:07.184Z"
   },
   {
    "duration": 383,
    "start_time": "2024-04-03T07:35:07.190Z"
   },
   {
    "duration": 406,
    "start_time": "2024-04-03T07:35:07.973Z"
   },
   {
    "duration": 15,
    "start_time": "2024-04-03T07:35:09.356Z"
   },
   {
    "duration": 6,
    "start_time": "2024-04-03T07:37:23.031Z"
   },
   {
    "duration": 2,
    "start_time": "2024-04-03T07:37:24.015Z"
   },
   {
    "duration": 6,
    "start_time": "2024-04-03T07:37:29.568Z"
   },
   {
    "duration": 62,
    "start_time": "2024-04-03T07:37:30.092Z"
   },
   {
    "duration": 6,
    "start_time": "2024-04-03T07:37:35.935Z"
   },
   {
    "duration": 5,
    "start_time": "2024-04-03T07:37:37.182Z"
   },
   {
    "duration": 75,
    "start_time": "2024-04-03T07:37:38.324Z"
   },
   {
    "duration": 5,
    "start_time": "2024-04-03T07:37:42.277Z"
   },
   {
    "duration": 4,
    "start_time": "2024-04-03T07:37:43.648Z"
   },
   {
    "duration": 5,
    "start_time": "2024-04-03T07:39:37.272Z"
   },
   {
    "duration": 8,
    "start_time": "2024-04-03T07:40:12.646Z"
   },
   {
    "duration": 83,
    "start_time": "2024-04-03T07:40:28.615Z"
   },
   {
    "duration": 96,
    "start_time": "2024-04-03T07:40:37.753Z"
   },
   {
    "duration": 5,
    "start_time": "2024-04-03T07:40:46.874Z"
   },
   {
    "duration": 6,
    "start_time": "2024-04-03T07:41:33.494Z"
   },
   {
    "duration": 6,
    "start_time": "2024-04-03T07:41:42.922Z"
   },
   {
    "duration": 7,
    "start_time": "2024-04-03T07:41:45.204Z"
   },
   {
    "duration": 7,
    "start_time": "2024-04-03T07:41:55.605Z"
   },
   {
    "duration": 6,
    "start_time": "2024-04-03T07:42:04.055Z"
   },
   {
    "duration": 5,
    "start_time": "2024-04-03T07:42:17.747Z"
   },
   {
    "duration": 5,
    "start_time": "2024-04-03T07:42:24.514Z"
   },
   {
    "duration": 5,
    "start_time": "2024-04-03T07:43:46.289Z"
   },
   {
    "duration": 6,
    "start_time": "2024-04-03T07:44:03.657Z"
   },
   {
    "duration": 7,
    "start_time": "2024-04-03T07:44:12.962Z"
   },
   {
    "duration": 6,
    "start_time": "2024-04-03T07:44:21.671Z"
   },
   {
    "duration": 6,
    "start_time": "2024-04-03T07:44:57.592Z"
   },
   {
    "duration": 6,
    "start_time": "2024-04-03T07:44:58.417Z"
   },
   {
    "duration": 4,
    "start_time": "2024-04-03T07:45:25.210Z"
   },
   {
    "duration": 5,
    "start_time": "2024-04-03T07:45:28.967Z"
   },
   {
    "duration": 4,
    "start_time": "2024-04-03T07:45:29.714Z"
   },
   {
    "duration": 14,
    "start_time": "2024-04-03T07:46:58.471Z"
   },
   {
    "duration": 1176,
    "start_time": "2024-04-03T07:47:08.662Z"
   },
   {
    "duration": 68,
    "start_time": "2024-04-03T07:47:09.840Z"
   },
   {
    "duration": 4,
    "start_time": "2024-04-03T07:47:09.909Z"
   },
   {
    "duration": 355,
    "start_time": "2024-04-03T07:47:09.915Z"
   },
   {
    "duration": 428,
    "start_time": "2024-04-03T07:47:10.272Z"
   },
   {
    "duration": 15,
    "start_time": "2024-04-03T07:47:10.701Z"
   },
   {
    "duration": 23,
    "start_time": "2024-04-03T07:47:10.718Z"
   },
   {
    "duration": 155,
    "start_time": "2024-04-03T07:47:10.742Z"
   },
   {
    "duration": 6,
    "start_time": "2024-04-03T07:47:10.899Z"
   },
   {
    "duration": 11,
    "start_time": "2024-04-03T07:47:10.907Z"
   },
   {
    "duration": 7,
    "start_time": "2024-04-03T07:47:10.920Z"
   },
   {
    "duration": 6,
    "start_time": "2024-04-03T07:47:10.928Z"
   },
   {
    "duration": 6,
    "start_time": "2024-04-03T07:47:10.935Z"
   },
   {
    "duration": 46,
    "start_time": "2024-04-03T07:47:10.945Z"
   },
   {
    "duration": 22,
    "start_time": "2024-04-03T07:47:10.993Z"
   },
   {
    "duration": 190,
    "start_time": "2024-04-03T07:47:11.017Z"
   },
   {
    "duration": 11,
    "start_time": "2024-04-03T07:47:11.209Z"
   },
   {
    "duration": 162,
    "start_time": "2024-04-03T07:47:11.222Z"
   },
   {
    "duration": 12,
    "start_time": "2024-04-03T07:47:11.386Z"
   },
   {
    "duration": 313,
    "start_time": "2024-04-03T07:47:11.400Z"
   },
   {
    "duration": 18,
    "start_time": "2024-04-03T07:47:11.715Z"
   },
   {
    "duration": 6,
    "start_time": "2024-04-03T07:47:11.734Z"
   },
   {
    "duration": 447,
    "start_time": "2024-04-03T07:47:11.743Z"
   },
   {
    "duration": 299,
    "start_time": "2024-04-03T07:47:12.191Z"
   },
   {
    "duration": 11,
    "start_time": "2024-04-03T07:47:12.492Z"
   },
   {
    "duration": 46,
    "start_time": "2024-04-03T07:47:12.505Z"
   },
   {
    "duration": 35,
    "start_time": "2024-04-03T07:47:12.553Z"
   },
   {
    "duration": 12,
    "start_time": "2024-04-03T07:47:12.590Z"
   },
   {
    "duration": 13,
    "start_time": "2024-04-03T07:47:12.604Z"
   },
   {
    "duration": 380,
    "start_time": "2024-04-03T07:47:12.618Z"
   },
   {
    "duration": 403,
    "start_time": "2024-04-03T07:47:13.000Z"
   },
   {
    "duration": 31,
    "start_time": "2024-04-03T07:47:13.406Z"
   },
   {
    "duration": 48,
    "start_time": "2024-04-03T07:47:13.439Z"
   },
   {
    "duration": 6,
    "start_time": "2024-04-03T07:47:13.488Z"
   },
   {
    "duration": 18,
    "start_time": "2024-04-03T07:47:13.496Z"
   },
   {
    "duration": 9,
    "start_time": "2024-04-03T07:47:13.516Z"
   },
   {
    "duration": 429,
    "start_time": "2024-04-03T07:47:13.527Z"
   },
   {
    "duration": 307,
    "start_time": "2024-04-03T07:47:13.958Z"
   },
   {
    "duration": 318,
    "start_time": "2024-04-03T07:49:36.922Z"
   },
   {
    "duration": 209,
    "start_time": "2024-04-03T07:50:00.950Z"
   },
   {
    "duration": 171,
    "start_time": "2024-04-03T07:51:31.917Z"
   },
   {
    "duration": 118,
    "start_time": "2024-04-03T07:54:47.467Z"
   },
   {
    "duration": 12,
    "start_time": "2024-04-03T07:55:11.668Z"
   },
   {
    "duration": 1121,
    "start_time": "2024-04-03T07:56:00.518Z"
   },
   {
    "duration": 67,
    "start_time": "2024-04-03T07:56:01.641Z"
   },
   {
    "duration": 3,
    "start_time": "2024-04-03T07:56:01.709Z"
   },
   {
    "duration": 419,
    "start_time": "2024-04-03T07:56:01.713Z"
   },
   {
    "duration": 435,
    "start_time": "2024-04-03T07:56:02.134Z"
   },
   {
    "duration": 27,
    "start_time": "2024-04-03T07:56:02.572Z"
   },
   {
    "duration": 28,
    "start_time": "2024-04-03T07:56:02.601Z"
   },
   {
    "duration": 281,
    "start_time": "2024-04-03T07:56:02.632Z"
   },
   {
    "duration": 141,
    "start_time": "2024-04-03T07:56:02.914Z"
   },
   {
    "duration": 5,
    "start_time": "2024-04-03T07:56:03.057Z"
   },
   {
    "duration": 19,
    "start_time": "2024-04-03T07:56:03.064Z"
   },
   {
    "duration": 20,
    "start_time": "2024-04-03T07:56:03.085Z"
   },
   {
    "duration": 15,
    "start_time": "2024-04-03T07:56:03.107Z"
   },
   {
    "duration": 12,
    "start_time": "2024-04-03T07:56:03.127Z"
   },
   {
    "duration": 25,
    "start_time": "2024-04-03T07:56:03.141Z"
   },
   {
    "duration": 33,
    "start_time": "2024-04-03T07:56:03.169Z"
   },
   {
    "duration": 161,
    "start_time": "2024-04-03T07:56:03.204Z"
   },
   {
    "duration": 19,
    "start_time": "2024-04-03T07:56:03.367Z"
   },
   {
    "duration": 110,
    "start_time": "2024-04-03T07:56:03.387Z"
   },
   {
    "duration": 11,
    "start_time": "2024-04-03T07:56:03.498Z"
   },
   {
    "duration": 391,
    "start_time": "2024-04-03T07:56:03.511Z"
   },
   {
    "duration": 11,
    "start_time": "2024-04-03T07:56:03.903Z"
   },
   {
    "duration": 18,
    "start_time": "2024-04-03T07:56:03.916Z"
   },
   {
    "duration": 288,
    "start_time": "2024-04-03T07:56:03.936Z"
   },
   {
    "duration": 286,
    "start_time": "2024-04-03T07:56:04.226Z"
   },
   {
    "duration": 8,
    "start_time": "2024-04-03T07:56:04.513Z"
   },
   {
    "duration": 51,
    "start_time": "2024-04-03T07:56:04.523Z"
   },
   {
    "duration": 9,
    "start_time": "2024-04-03T07:56:04.582Z"
   },
   {
    "duration": 12,
    "start_time": "2024-04-03T07:56:04.592Z"
   },
   {
    "duration": 18,
    "start_time": "2024-04-03T07:56:04.605Z"
   },
   {
    "duration": 366,
    "start_time": "2024-04-03T07:56:04.624Z"
   },
   {
    "duration": 405,
    "start_time": "2024-04-03T07:56:04.993Z"
   },
   {
    "duration": 22,
    "start_time": "2024-04-03T07:56:05.400Z"
   },
   {
    "duration": 20,
    "start_time": "2024-04-03T07:56:05.423Z"
   },
   {
    "duration": 5,
    "start_time": "2024-04-03T07:56:05.444Z"
   },
   {
    "duration": 5,
    "start_time": "2024-04-03T07:56:05.482Z"
   },
   {
    "duration": 13,
    "start_time": "2024-04-03T07:56:05.488Z"
   },
   {
    "duration": 449,
    "start_time": "2024-04-03T07:56:05.502Z"
   },
   {
    "duration": 359,
    "start_time": "2024-04-03T07:56:05.953Z"
   },
   {
    "duration": 95,
    "start_time": "2024-04-03T07:57:32.755Z"
   },
   {
    "duration": 1122,
    "start_time": "2024-04-03T07:57:41.523Z"
   },
   {
    "duration": 68,
    "start_time": "2024-04-03T07:57:42.647Z"
   },
   {
    "duration": 3,
    "start_time": "2024-04-03T07:57:42.716Z"
   },
   {
    "duration": 338,
    "start_time": "2024-04-03T07:57:42.721Z"
   },
   {
    "duration": 426,
    "start_time": "2024-04-03T07:57:43.062Z"
   },
   {
    "duration": 15,
    "start_time": "2024-04-03T07:57:43.490Z"
   },
   {
    "duration": 19,
    "start_time": "2024-04-03T07:57:43.506Z"
   },
   {
    "duration": 257,
    "start_time": "2024-04-03T07:57:43.526Z"
   },
   {
    "duration": 153,
    "start_time": "2024-04-03T07:57:43.785Z"
   },
   {
    "duration": 5,
    "start_time": "2024-04-03T07:57:43.942Z"
   },
   {
    "duration": 31,
    "start_time": "2024-04-03T07:57:43.948Z"
   },
   {
    "duration": 19,
    "start_time": "2024-04-03T07:57:43.980Z"
   },
   {
    "duration": 34,
    "start_time": "2024-04-03T07:57:44.001Z"
   },
   {
    "duration": 18,
    "start_time": "2024-04-03T07:57:44.036Z"
   },
   {
    "duration": 30,
    "start_time": "2024-04-03T07:57:44.056Z"
   },
   {
    "duration": 45,
    "start_time": "2024-04-03T07:57:44.087Z"
   },
   {
    "duration": 156,
    "start_time": "2024-04-03T07:57:44.133Z"
   },
   {
    "duration": 10,
    "start_time": "2024-04-03T07:57:44.291Z"
   },
   {
    "duration": 152,
    "start_time": "2024-04-03T07:57:44.303Z"
   },
   {
    "duration": 10,
    "start_time": "2024-04-03T07:57:44.457Z"
   },
   {
    "duration": 359,
    "start_time": "2024-04-03T07:57:44.482Z"
   },
   {
    "duration": 12,
    "start_time": "2024-04-03T07:57:44.843Z"
   },
   {
    "duration": 25,
    "start_time": "2024-04-03T07:57:44.857Z"
   },
   {
    "duration": 302,
    "start_time": "2024-04-03T07:57:44.884Z"
   },
   {
    "duration": 298,
    "start_time": "2024-04-03T07:57:45.188Z"
   },
   {
    "duration": 8,
    "start_time": "2024-04-03T07:57:45.487Z"
   },
   {
    "duration": 66,
    "start_time": "2024-04-03T07:57:45.497Z"
   },
   {
    "duration": 8,
    "start_time": "2024-04-03T07:57:45.566Z"
   },
   {
    "duration": 39,
    "start_time": "2024-04-03T07:57:45.575Z"
   },
   {
    "duration": 25,
    "start_time": "2024-04-03T07:57:45.615Z"
   },
   {
    "duration": 371,
    "start_time": "2024-04-03T07:57:45.641Z"
   },
   {
    "duration": 378,
    "start_time": "2024-04-03T07:57:46.013Z"
   },
   {
    "duration": 24,
    "start_time": "2024-04-03T07:57:46.392Z"
   },
   {
    "duration": 22,
    "start_time": "2024-04-03T07:57:46.417Z"
   },
   {
    "duration": 6,
    "start_time": "2024-04-03T07:57:46.440Z"
   },
   {
    "duration": 6,
    "start_time": "2024-04-03T07:57:46.482Z"
   },
   {
    "duration": 8,
    "start_time": "2024-04-03T07:57:46.490Z"
   },
   {
    "duration": 453,
    "start_time": "2024-04-03T07:57:46.499Z"
   },
   {
    "duration": 375,
    "start_time": "2024-04-03T07:57:46.954Z"
   },
   {
    "duration": 94,
    "start_time": "2024-04-03T07:59:20.704Z"
   },
   {
    "duration": 1083,
    "start_time": "2024-04-03T08:00:49.053Z"
   },
   {
    "duration": 66,
    "start_time": "2024-04-03T08:00:50.137Z"
   },
   {
    "duration": 3,
    "start_time": "2024-04-03T08:00:50.205Z"
   },
   {
    "duration": 349,
    "start_time": "2024-04-03T08:00:50.211Z"
   },
   {
    "duration": 445,
    "start_time": "2024-04-03T08:00:50.562Z"
   },
   {
    "duration": 16,
    "start_time": "2024-04-03T08:00:51.008Z"
   },
   {
    "duration": 6,
    "start_time": "2024-04-03T08:00:51.026Z"
   },
   {
    "duration": 266,
    "start_time": "2024-04-03T08:00:51.033Z"
   },
   {
    "duration": 140,
    "start_time": "2024-04-03T08:00:51.300Z"
   },
   {
    "duration": 5,
    "start_time": "2024-04-03T08:00:51.443Z"
   },
   {
    "duration": 9,
    "start_time": "2024-04-03T08:00:51.450Z"
   },
   {
    "duration": 23,
    "start_time": "2024-04-03T08:00:51.460Z"
   },
   {
    "duration": 5,
    "start_time": "2024-04-03T08:00:51.485Z"
   },
   {
    "duration": 9,
    "start_time": "2024-04-03T08:00:51.491Z"
   },
   {
    "duration": 20,
    "start_time": "2024-04-03T08:00:51.502Z"
   },
   {
    "duration": 12,
    "start_time": "2024-04-03T08:00:51.523Z"
   },
   {
    "duration": 179,
    "start_time": "2024-04-03T08:00:51.536Z"
   },
   {
    "duration": 12,
    "start_time": "2024-04-03T08:00:51.716Z"
   },
   {
    "duration": 116,
    "start_time": "2024-04-03T08:00:51.729Z"
   },
   {
    "duration": 11,
    "start_time": "2024-04-03T08:00:51.847Z"
   },
   {
    "duration": 375,
    "start_time": "2024-04-03T08:00:51.860Z"
   },
   {
    "duration": 13,
    "start_time": "2024-04-03T08:00:52.237Z"
   },
   {
    "duration": 8,
    "start_time": "2024-04-03T08:00:52.252Z"
   },
   {
    "duration": 324,
    "start_time": "2024-04-03T08:00:52.282Z"
   },
   {
    "duration": 289,
    "start_time": "2024-04-03T08:00:52.608Z"
   },
   {
    "duration": 10,
    "start_time": "2024-04-03T08:00:52.899Z"
   },
   {
    "duration": 38,
    "start_time": "2024-04-03T08:00:52.910Z"
   },
   {
    "duration": 33,
    "start_time": "2024-04-03T08:00:52.951Z"
   },
   {
    "duration": 12,
    "start_time": "2024-04-03T08:00:52.986Z"
   },
   {
    "duration": 14,
    "start_time": "2024-04-03T08:00:53.000Z"
   },
   {
    "duration": 396,
    "start_time": "2024-04-03T08:00:53.016Z"
   },
   {
    "duration": 380,
    "start_time": "2024-04-03T08:00:53.414Z"
   },
   {
    "duration": 40,
    "start_time": "2024-04-03T08:00:53.796Z"
   },
   {
    "duration": 45,
    "start_time": "2024-04-03T08:00:53.838Z"
   },
   {
    "duration": 6,
    "start_time": "2024-04-03T08:00:53.884Z"
   },
   {
    "duration": 7,
    "start_time": "2024-04-03T08:00:53.891Z"
   },
   {
    "duration": 8,
    "start_time": "2024-04-03T08:00:53.899Z"
   },
   {
    "duration": 458,
    "start_time": "2024-04-03T08:00:53.909Z"
   },
   {
    "duration": 418,
    "start_time": "2024-04-03T08:00:54.369Z"
   },
   {
    "duration": 1150,
    "start_time": "2024-04-03T08:04:49.592Z"
   },
   {
    "duration": 67,
    "start_time": "2024-04-03T08:04:50.744Z"
   },
   {
    "duration": 8,
    "start_time": "2024-04-03T08:04:50.814Z"
   },
   {
    "duration": 390,
    "start_time": "2024-04-03T08:04:50.825Z"
   },
   {
    "duration": 397,
    "start_time": "2024-04-03T08:04:51.217Z"
   },
   {
    "duration": 14,
    "start_time": "2024-04-03T08:04:51.615Z"
   },
   {
    "duration": 9,
    "start_time": "2024-04-03T08:04:51.631Z"
   },
   {
    "duration": 265,
    "start_time": "2024-04-03T08:04:51.642Z"
   },
   {
    "duration": 140,
    "start_time": "2024-04-03T08:04:51.908Z"
   },
   {
    "duration": 5,
    "start_time": "2024-04-03T08:04:52.051Z"
   },
   {
    "duration": 24,
    "start_time": "2024-04-03T08:04:52.058Z"
   },
   {
    "duration": 5,
    "start_time": "2024-04-03T08:04:52.083Z"
   },
   {
    "duration": 11,
    "start_time": "2024-04-03T08:04:52.089Z"
   },
   {
    "duration": 14,
    "start_time": "2024-04-03T08:04:52.102Z"
   },
   {
    "duration": 18,
    "start_time": "2024-04-03T08:04:52.118Z"
   },
   {
    "duration": 17,
    "start_time": "2024-04-03T08:04:52.138Z"
   },
   {
    "duration": 198,
    "start_time": "2024-04-03T08:04:52.156Z"
   },
   {
    "duration": 11,
    "start_time": "2024-04-03T08:04:52.356Z"
   },
   {
    "duration": 119,
    "start_time": "2024-04-03T08:04:52.382Z"
   },
   {
    "duration": 11,
    "start_time": "2024-04-03T08:04:52.503Z"
   },
   {
    "duration": 401,
    "start_time": "2024-04-03T08:04:52.515Z"
   },
   {
    "duration": 10,
    "start_time": "2024-04-03T08:04:52.918Z"
   },
   {
    "duration": 20,
    "start_time": "2024-04-03T08:04:52.930Z"
   },
   {
    "duration": 322,
    "start_time": "2024-04-03T08:04:52.952Z"
   },
   {
    "duration": 305,
    "start_time": "2024-04-03T08:04:53.282Z"
   },
   {
    "duration": 12,
    "start_time": "2024-04-03T08:04:53.589Z"
   },
   {
    "duration": 38,
    "start_time": "2024-04-03T08:04:53.603Z"
   },
   {
    "duration": 41,
    "start_time": "2024-04-03T08:04:53.644Z"
   },
   {
    "duration": 19,
    "start_time": "2024-04-03T08:04:53.687Z"
   },
   {
    "duration": 24,
    "start_time": "2024-04-03T08:04:53.708Z"
   },
   {
    "duration": 418,
    "start_time": "2024-04-03T08:04:53.734Z"
   },
   {
    "duration": 381,
    "start_time": "2024-04-03T08:04:54.154Z"
   },
   {
    "duration": 25,
    "start_time": "2024-04-03T08:04:54.537Z"
   },
   {
    "duration": 39,
    "start_time": "2024-04-03T08:04:54.564Z"
   },
   {
    "duration": 5,
    "start_time": "2024-04-03T08:04:54.605Z"
   },
   {
    "duration": 20,
    "start_time": "2024-04-03T08:04:54.612Z"
   },
   {
    "duration": 23,
    "start_time": "2024-04-03T08:04:54.634Z"
   },
   {
    "duration": 401,
    "start_time": "2024-04-03T08:04:54.659Z"
   },
   {
    "duration": 423,
    "start_time": "2024-04-03T08:04:55.062Z"
   },
   {
    "duration": 4,
    "start_time": "2024-04-03T08:08:25.270Z"
   },
   {
    "duration": 97,
    "start_time": "2024-04-03T08:08:33.871Z"
   },
   {
    "duration": 12,
    "start_time": "2024-04-03T08:09:12.300Z"
   },
   {
    "duration": 1060,
    "start_time": "2024-04-03T08:09:34.809Z"
   },
   {
    "duration": 69,
    "start_time": "2024-04-03T08:09:35.871Z"
   },
   {
    "duration": 3,
    "start_time": "2024-04-03T08:09:35.941Z"
   },
   {
    "duration": 351,
    "start_time": "2024-04-03T08:09:35.947Z"
   },
   {
    "duration": 402,
    "start_time": "2024-04-03T08:09:36.300Z"
   },
   {
    "duration": 14,
    "start_time": "2024-04-03T08:09:36.704Z"
   },
   {
    "duration": 7,
    "start_time": "2024-04-03T08:09:36.719Z"
   },
   {
    "duration": 265,
    "start_time": "2024-04-03T08:09:36.728Z"
   },
   {
    "duration": 146,
    "start_time": "2024-04-03T08:09:36.994Z"
   },
   {
    "duration": 5,
    "start_time": "2024-04-03T08:09:37.143Z"
   },
   {
    "duration": 5,
    "start_time": "2024-04-03T08:09:37.149Z"
   },
   {
    "duration": 27,
    "start_time": "2024-04-03T08:09:37.155Z"
   },
   {
    "duration": 5,
    "start_time": "2024-04-03T08:09:37.183Z"
   },
   {
    "duration": 7,
    "start_time": "2024-04-03T08:09:37.189Z"
   },
   {
    "duration": 11,
    "start_time": "2024-04-03T08:09:37.198Z"
   },
   {
    "duration": 12,
    "start_time": "2024-04-03T08:09:37.210Z"
   },
   {
    "duration": 181,
    "start_time": "2024-04-03T08:09:37.224Z"
   },
   {
    "duration": 11,
    "start_time": "2024-04-03T08:09:37.406Z"
   },
   {
    "duration": 109,
    "start_time": "2024-04-03T08:09:37.418Z"
   },
   {
    "duration": 10,
    "start_time": "2024-04-03T08:09:37.529Z"
   },
   {
    "duration": 255,
    "start_time": "2024-04-03T08:09:37.540Z"
   },
   {
    "duration": 12,
    "start_time": "2024-04-03T08:09:37.797Z"
   },
   {
    "duration": 7,
    "start_time": "2024-04-03T08:09:37.810Z"
   },
   {
    "duration": 326,
    "start_time": "2024-04-03T08:09:37.818Z"
   },
   {
    "duration": 311,
    "start_time": "2024-04-03T08:09:38.146Z"
   },
   {
    "duration": 23,
    "start_time": "2024-04-03T08:09:38.459Z"
   },
   {
    "duration": 50,
    "start_time": "2024-04-03T08:09:38.484Z"
   },
   {
    "duration": 9,
    "start_time": "2024-04-03T08:09:38.537Z"
   },
   {
    "duration": 11,
    "start_time": "2024-04-03T08:09:38.548Z"
   },
   {
    "duration": 27,
    "start_time": "2024-04-03T08:09:38.561Z"
   },
   {
    "duration": 366,
    "start_time": "2024-04-03T08:09:38.590Z"
   },
   {
    "duration": 354,
    "start_time": "2024-04-03T08:09:38.957Z"
   },
   {
    "duration": 25,
    "start_time": "2024-04-03T08:09:39.313Z"
   },
   {
    "duration": 54,
    "start_time": "2024-04-03T08:09:39.340Z"
   },
   {
    "duration": 7,
    "start_time": "2024-04-03T08:09:39.396Z"
   },
   {
    "duration": 5,
    "start_time": "2024-04-03T08:09:39.405Z"
   },
   {
    "duration": 9,
    "start_time": "2024-04-03T08:09:39.412Z"
   },
   {
    "duration": 484,
    "start_time": "2024-04-03T08:09:39.423Z"
   },
   {
    "duration": 289,
    "start_time": "2024-04-03T08:09:39.909Z"
   },
   {
    "duration": 121,
    "start_time": "2024-04-03T08:10:01.137Z"
   },
   {
    "duration": 1078,
    "start_time": "2024-04-03T08:10:52.732Z"
   },
   {
    "duration": 79,
    "start_time": "2024-04-03T08:10:53.813Z"
   },
   {
    "duration": 3,
    "start_time": "2024-04-03T08:10:53.893Z"
   },
   {
    "duration": 101,
    "start_time": "2024-04-03T08:10:53.898Z"
   },
   {
    "duration": 0,
    "start_time": "2024-04-03T08:10:54.002Z"
   },
   {
    "duration": 0,
    "start_time": "2024-04-03T08:10:54.003Z"
   },
   {
    "duration": 0,
    "start_time": "2024-04-03T08:10:54.004Z"
   },
   {
    "duration": 0,
    "start_time": "2024-04-03T08:10:54.005Z"
   },
   {
    "duration": 0,
    "start_time": "2024-04-03T08:10:54.006Z"
   },
   {
    "duration": 0,
    "start_time": "2024-04-03T08:10:54.007Z"
   },
   {
    "duration": 0,
    "start_time": "2024-04-03T08:10:54.009Z"
   },
   {
    "duration": 0,
    "start_time": "2024-04-03T08:10:54.009Z"
   },
   {
    "duration": 0,
    "start_time": "2024-04-03T08:10:54.010Z"
   },
   {
    "duration": 0,
    "start_time": "2024-04-03T08:10:54.011Z"
   },
   {
    "duration": 0,
    "start_time": "2024-04-03T08:10:54.012Z"
   },
   {
    "duration": 0,
    "start_time": "2024-04-03T08:10:54.013Z"
   },
   {
    "duration": 0,
    "start_time": "2024-04-03T08:10:54.014Z"
   },
   {
    "duration": 0,
    "start_time": "2024-04-03T08:10:54.015Z"
   },
   {
    "duration": 0,
    "start_time": "2024-04-03T08:10:54.017Z"
   },
   {
    "duration": 0,
    "start_time": "2024-04-03T08:10:54.018Z"
   },
   {
    "duration": 0,
    "start_time": "2024-04-03T08:10:54.019Z"
   },
   {
    "duration": 0,
    "start_time": "2024-04-03T08:10:54.020Z"
   },
   {
    "duration": 0,
    "start_time": "2024-04-03T08:10:54.021Z"
   },
   {
    "duration": 1,
    "start_time": "2024-04-03T08:10:54.022Z"
   },
   {
    "duration": 0,
    "start_time": "2024-04-03T08:10:54.024Z"
   },
   {
    "duration": 0,
    "start_time": "2024-04-03T08:10:54.025Z"
   },
   {
    "duration": 0,
    "start_time": "2024-04-03T08:10:54.026Z"
   },
   {
    "duration": 0,
    "start_time": "2024-04-03T08:10:54.027Z"
   },
   {
    "duration": 0,
    "start_time": "2024-04-03T08:10:54.028Z"
   },
   {
    "duration": 0,
    "start_time": "2024-04-03T08:10:54.029Z"
   },
   {
    "duration": 0,
    "start_time": "2024-04-03T08:10:54.030Z"
   },
   {
    "duration": 0,
    "start_time": "2024-04-03T08:10:54.031Z"
   },
   {
    "duration": 0,
    "start_time": "2024-04-03T08:10:54.082Z"
   },
   {
    "duration": 0,
    "start_time": "2024-04-03T08:10:54.083Z"
   },
   {
    "duration": 1,
    "start_time": "2024-04-03T08:10:54.084Z"
   },
   {
    "duration": 0,
    "start_time": "2024-04-03T08:10:54.086Z"
   },
   {
    "duration": 0,
    "start_time": "2024-04-03T08:10:54.087Z"
   },
   {
    "duration": 0,
    "start_time": "2024-04-03T08:10:54.088Z"
   },
   {
    "duration": 0,
    "start_time": "2024-04-03T08:10:54.089Z"
   },
   {
    "duration": 66,
    "start_time": "2024-04-03T08:11:03.986Z"
   },
   {
    "duration": 2,
    "start_time": "2024-04-03T08:11:04.404Z"
   },
   {
    "duration": 332,
    "start_time": "2024-04-03T08:11:04.850Z"
   },
   {
    "duration": 1120,
    "start_time": "2024-04-03T08:11:10.666Z"
   },
   {
    "duration": 68,
    "start_time": "2024-04-03T08:11:11.788Z"
   },
   {
    "duration": 10,
    "start_time": "2024-04-03T08:11:11.858Z"
   },
   {
    "duration": 343,
    "start_time": "2024-04-03T08:11:11.870Z"
   },
   {
    "duration": 405,
    "start_time": "2024-04-03T08:11:12.214Z"
   },
   {
    "duration": 18,
    "start_time": "2024-04-03T08:11:12.621Z"
   },
   {
    "duration": 9,
    "start_time": "2024-04-03T08:11:12.641Z"
   },
   {
    "duration": 285,
    "start_time": "2024-04-03T08:11:12.652Z"
   },
   {
    "duration": 143,
    "start_time": "2024-04-03T08:11:12.938Z"
   },
   {
    "duration": 6,
    "start_time": "2024-04-03T08:11:13.082Z"
   },
   {
    "duration": 6,
    "start_time": "2024-04-03T08:11:13.089Z"
   },
   {
    "duration": 6,
    "start_time": "2024-04-03T08:11:13.096Z"
   },
   {
    "duration": 19,
    "start_time": "2024-04-03T08:11:13.103Z"
   },
   {
    "duration": 4,
    "start_time": "2024-04-03T08:11:13.125Z"
   },
   {
    "duration": 28,
    "start_time": "2024-04-03T08:11:13.131Z"
   },
   {
    "duration": 29,
    "start_time": "2024-04-03T08:11:13.161Z"
   },
   {
    "duration": 164,
    "start_time": "2024-04-03T08:11:13.191Z"
   },
   {
    "duration": 11,
    "start_time": "2024-04-03T08:11:13.357Z"
   },
   {
    "duration": 95,
    "start_time": "2024-04-03T08:11:13.369Z"
   },
   {
    "duration": 26,
    "start_time": "2024-04-03T08:11:13.465Z"
   },
   {
    "duration": 247,
    "start_time": "2024-04-03T08:11:13.492Z"
   },
   {
    "duration": 10,
    "start_time": "2024-04-03T08:11:13.741Z"
   },
   {
    "duration": 5,
    "start_time": "2024-04-03T08:11:13.753Z"
   },
   {
    "duration": 339,
    "start_time": "2024-04-03T08:11:13.759Z"
   },
   {
    "duration": 300,
    "start_time": "2024-04-03T08:11:14.100Z"
   },
   {
    "duration": 8,
    "start_time": "2024-04-03T08:11:14.402Z"
   },
   {
    "duration": 52,
    "start_time": "2024-04-03T08:11:14.411Z"
   },
   {
    "duration": 21,
    "start_time": "2024-04-03T08:11:14.465Z"
   },
   {
    "duration": 17,
    "start_time": "2024-04-03T08:11:14.488Z"
   },
   {
    "duration": 12,
    "start_time": "2024-04-03T08:11:14.507Z"
   },
   {
    "duration": 406,
    "start_time": "2024-04-03T08:11:14.520Z"
   },
   {
    "duration": 362,
    "start_time": "2024-04-03T08:11:14.928Z"
   },
   {
    "duration": 24,
    "start_time": "2024-04-03T08:11:15.292Z"
   },
   {
    "duration": 45,
    "start_time": "2024-04-03T08:11:15.318Z"
   },
   {
    "duration": 32,
    "start_time": "2024-04-03T08:11:15.364Z"
   },
   {
    "duration": 25,
    "start_time": "2024-04-03T08:11:15.398Z"
   },
   {
    "duration": 25,
    "start_time": "2024-04-03T08:11:15.425Z"
   },
   {
    "duration": 412,
    "start_time": "2024-04-03T08:11:15.451Z"
   },
   {
    "duration": 296,
    "start_time": "2024-04-03T08:11:15.865Z"
   },
   {
    "duration": 95,
    "start_time": "2024-04-03T08:12:08.793Z"
   },
   {
    "duration": 1125,
    "start_time": "2024-04-03T08:12:37.406Z"
   },
   {
    "duration": 67,
    "start_time": "2024-04-03T08:12:38.533Z"
   },
   {
    "duration": 3,
    "start_time": "2024-04-03T08:12:38.602Z"
   },
   {
    "duration": 372,
    "start_time": "2024-04-03T08:12:38.607Z"
   },
   {
    "duration": 395,
    "start_time": "2024-04-03T08:12:38.981Z"
   },
   {
    "duration": 18,
    "start_time": "2024-04-03T08:12:39.377Z"
   },
   {
    "duration": 15,
    "start_time": "2024-04-03T08:12:39.397Z"
   },
   {
    "duration": 262,
    "start_time": "2024-04-03T08:12:39.413Z"
   },
   {
    "duration": 142,
    "start_time": "2024-04-03T08:12:39.681Z"
   },
   {
    "duration": 5,
    "start_time": "2024-04-03T08:12:39.826Z"
   },
   {
    "duration": 6,
    "start_time": "2024-04-03T08:12:39.833Z"
   },
   {
    "duration": 19,
    "start_time": "2024-04-03T08:12:39.840Z"
   },
   {
    "duration": 22,
    "start_time": "2024-04-03T08:12:39.861Z"
   },
   {
    "duration": 4,
    "start_time": "2024-04-03T08:12:39.885Z"
   },
   {
    "duration": 10,
    "start_time": "2024-04-03T08:12:39.891Z"
   },
   {
    "duration": 13,
    "start_time": "2024-04-03T08:12:39.902Z"
   },
   {
    "duration": 183,
    "start_time": "2024-04-03T08:12:39.927Z"
   },
   {
    "duration": 10,
    "start_time": "2024-04-03T08:12:40.111Z"
   },
   {
    "duration": 110,
    "start_time": "2024-04-03T08:12:40.122Z"
   },
   {
    "duration": 10,
    "start_time": "2024-04-03T08:12:40.233Z"
   },
   {
    "duration": 294,
    "start_time": "2024-04-03T08:12:40.245Z"
   },
   {
    "duration": 11,
    "start_time": "2024-04-03T08:12:40.541Z"
   },
   {
    "duration": 6,
    "start_time": "2024-04-03T08:12:40.553Z"
   },
   {
    "duration": 293,
    "start_time": "2024-04-03T08:12:40.582Z"
   },
   {
    "duration": 294,
    "start_time": "2024-04-03T08:12:40.881Z"
   },
   {
    "duration": 13,
    "start_time": "2024-04-03T08:12:41.177Z"
   },
   {
    "duration": 34,
    "start_time": "2024-04-03T08:12:41.192Z"
   },
   {
    "duration": 9,
    "start_time": "2024-04-03T08:12:41.230Z"
   },
   {
    "duration": 43,
    "start_time": "2024-04-03T08:12:41.241Z"
   },
   {
    "duration": 20,
    "start_time": "2024-04-03T08:12:41.285Z"
   },
   {
    "duration": 378,
    "start_time": "2024-04-03T08:12:41.306Z"
   },
   {
    "duration": 368,
    "start_time": "2024-04-03T08:12:41.686Z"
   },
   {
    "duration": 34,
    "start_time": "2024-04-03T08:12:42.056Z"
   },
   {
    "duration": 21,
    "start_time": "2024-04-03T08:12:42.091Z"
   },
   {
    "duration": 8,
    "start_time": "2024-04-03T08:12:42.114Z"
   },
   {
    "duration": 7,
    "start_time": "2024-04-03T08:12:42.123Z"
   },
   {
    "duration": 6,
    "start_time": "2024-04-03T08:12:42.131Z"
   },
   {
    "duration": 459,
    "start_time": "2024-04-03T08:12:42.139Z"
   },
   {
    "duration": 271,
    "start_time": "2024-04-03T08:12:42.599Z"
   },
   {
    "duration": 1068,
    "start_time": "2024-04-03T08:13:06.168Z"
   },
   {
    "duration": 67,
    "start_time": "2024-04-03T08:13:07.238Z"
   },
   {
    "duration": 3,
    "start_time": "2024-04-03T08:13:07.307Z"
   },
   {
    "duration": 357,
    "start_time": "2024-04-03T08:13:07.311Z"
   },
   {
    "duration": 412,
    "start_time": "2024-04-03T08:13:07.670Z"
   },
   {
    "duration": 19,
    "start_time": "2024-04-03T08:13:08.084Z"
   },
   {
    "duration": 9,
    "start_time": "2024-04-03T08:13:08.106Z"
   },
   {
    "duration": 268,
    "start_time": "2024-04-03T08:13:08.117Z"
   },
   {
    "duration": 141,
    "start_time": "2024-04-03T08:13:08.386Z"
   },
   {
    "duration": 7,
    "start_time": "2024-04-03T08:13:08.529Z"
   },
   {
    "duration": 6,
    "start_time": "2024-04-03T08:13:08.538Z"
   },
   {
    "duration": 5,
    "start_time": "2024-04-03T08:13:08.545Z"
   },
   {
    "duration": 33,
    "start_time": "2024-04-03T08:13:08.552Z"
   },
   {
    "duration": 5,
    "start_time": "2024-04-03T08:13:08.590Z"
   },
   {
    "duration": 14,
    "start_time": "2024-04-03T08:13:08.596Z"
   },
   {
    "duration": 12,
    "start_time": "2024-04-03T08:13:08.612Z"
   },
   {
    "duration": 195,
    "start_time": "2024-04-03T08:13:08.626Z"
   },
   {
    "duration": 10,
    "start_time": "2024-04-03T08:13:08.822Z"
   },
   {
    "duration": 105,
    "start_time": "2024-04-03T08:13:08.834Z"
   },
   {
    "duration": 9,
    "start_time": "2024-04-03T08:13:08.941Z"
   },
   {
    "duration": 287,
    "start_time": "2024-04-03T08:13:08.952Z"
   },
   {
    "duration": 23,
    "start_time": "2024-04-03T08:13:09.240Z"
   },
   {
    "duration": 6,
    "start_time": "2024-04-03T08:13:09.264Z"
   },
   {
    "duration": 306,
    "start_time": "2024-04-03T08:13:09.281Z"
   },
   {
    "duration": 288,
    "start_time": "2024-04-03T08:13:09.588Z"
   },
   {
    "duration": 8,
    "start_time": "2024-04-03T08:13:09.881Z"
   },
   {
    "duration": 32,
    "start_time": "2024-04-03T08:13:09.891Z"
   },
   {
    "duration": 8,
    "start_time": "2024-04-03T08:13:09.925Z"
   },
   {
    "duration": 19,
    "start_time": "2024-04-03T08:13:09.935Z"
   },
   {
    "duration": 11,
    "start_time": "2024-04-03T08:13:09.982Z"
   },
   {
    "duration": 354,
    "start_time": "2024-04-03T08:13:09.994Z"
   },
   {
    "duration": 368,
    "start_time": "2024-04-03T08:13:10.350Z"
   },
   {
    "duration": 25,
    "start_time": "2024-04-03T08:13:10.720Z"
   },
   {
    "duration": 48,
    "start_time": "2024-04-03T08:13:10.747Z"
   },
   {
    "duration": 6,
    "start_time": "2024-04-03T08:13:10.797Z"
   },
   {
    "duration": 17,
    "start_time": "2024-04-03T08:13:10.804Z"
   },
   {
    "duration": 36,
    "start_time": "2024-04-03T08:13:10.823Z"
   },
   {
    "duration": 406,
    "start_time": "2024-04-03T08:13:10.860Z"
   },
   {
    "duration": 298,
    "start_time": "2024-04-03T08:13:11.268Z"
   },
   {
    "duration": 126,
    "start_time": "2024-04-03T08:14:16.082Z"
   },
   {
    "duration": 1129,
    "start_time": "2024-04-03T08:14:21.730Z"
   },
   {
    "duration": 69,
    "start_time": "2024-04-03T08:14:22.861Z"
   },
   {
    "duration": 3,
    "start_time": "2024-04-03T08:14:22.931Z"
   },
   {
    "duration": 363,
    "start_time": "2024-04-03T08:14:22.937Z"
   },
   {
    "duration": 395,
    "start_time": "2024-04-03T08:14:23.302Z"
   },
   {
    "duration": 13,
    "start_time": "2024-04-03T08:14:23.699Z"
   },
   {
    "duration": 7,
    "start_time": "2024-04-03T08:14:23.713Z"
   },
   {
    "duration": 264,
    "start_time": "2024-04-03T08:14:23.722Z"
   },
   {
    "duration": 146,
    "start_time": "2024-04-03T08:14:23.987Z"
   },
   {
    "duration": 5,
    "start_time": "2024-04-03T08:14:24.135Z"
   },
   {
    "duration": 6,
    "start_time": "2024-04-03T08:14:24.141Z"
   },
   {
    "duration": 6,
    "start_time": "2024-04-03T08:14:24.149Z"
   },
   {
    "duration": 25,
    "start_time": "2024-04-03T08:14:24.157Z"
   },
   {
    "duration": 10,
    "start_time": "2024-04-03T08:14:24.183Z"
   },
   {
    "duration": 16,
    "start_time": "2024-04-03T08:14:24.195Z"
   },
   {
    "duration": 14,
    "start_time": "2024-04-03T08:14:24.212Z"
   },
   {
    "duration": 193,
    "start_time": "2024-04-03T08:14:24.228Z"
   },
   {
    "duration": 12,
    "start_time": "2024-04-03T08:14:24.422Z"
   },
   {
    "duration": 123,
    "start_time": "2024-04-03T08:14:24.436Z"
   },
   {
    "duration": 23,
    "start_time": "2024-04-03T08:14:24.561Z"
   },
   {
    "duration": 290,
    "start_time": "2024-04-03T08:14:24.585Z"
   },
   {
    "duration": 91,
    "start_time": "2024-04-03T08:14:24.882Z"
   },
   {
    "duration": 0,
    "start_time": "2024-04-03T08:14:24.982Z"
   },
   {
    "duration": 0,
    "start_time": "2024-04-03T08:14:24.983Z"
   },
   {
    "duration": 0,
    "start_time": "2024-04-03T08:14:24.984Z"
   },
   {
    "duration": 0,
    "start_time": "2024-04-03T08:14:24.985Z"
   },
   {
    "duration": 0,
    "start_time": "2024-04-03T08:14:24.987Z"
   },
   {
    "duration": 0,
    "start_time": "2024-04-03T08:14:24.988Z"
   },
   {
    "duration": 0,
    "start_time": "2024-04-03T08:14:24.989Z"
   },
   {
    "duration": 0,
    "start_time": "2024-04-03T08:14:24.990Z"
   },
   {
    "duration": 0,
    "start_time": "2024-04-03T08:14:24.991Z"
   },
   {
    "duration": 0,
    "start_time": "2024-04-03T08:14:24.992Z"
   },
   {
    "duration": 0,
    "start_time": "2024-04-03T08:14:24.993Z"
   },
   {
    "duration": 0,
    "start_time": "2024-04-03T08:14:24.994Z"
   },
   {
    "duration": 0,
    "start_time": "2024-04-03T08:14:24.995Z"
   },
   {
    "duration": 0,
    "start_time": "2024-04-03T08:14:24.996Z"
   },
   {
    "duration": 0,
    "start_time": "2024-04-03T08:14:24.997Z"
   },
   {
    "duration": 1,
    "start_time": "2024-04-03T08:14:24.998Z"
   },
   {
    "duration": 0,
    "start_time": "2024-04-03T08:14:25.000Z"
   },
   {
    "duration": 1134,
    "start_time": "2024-04-03T08:16:39.263Z"
   },
   {
    "duration": 67,
    "start_time": "2024-04-03T08:16:40.399Z"
   },
   {
    "duration": 3,
    "start_time": "2024-04-03T08:16:40.468Z"
   },
   {
    "duration": 379,
    "start_time": "2024-04-03T08:16:40.472Z"
   },
   {
    "duration": 405,
    "start_time": "2024-04-03T08:16:40.853Z"
   },
   {
    "duration": 23,
    "start_time": "2024-04-03T08:16:41.259Z"
   },
   {
    "duration": 6,
    "start_time": "2024-04-03T08:16:41.284Z"
   },
   {
    "duration": 250,
    "start_time": "2024-04-03T08:16:41.292Z"
   },
   {
    "duration": 142,
    "start_time": "2024-04-03T08:16:41.544Z"
   },
   {
    "duration": 5,
    "start_time": "2024-04-03T08:16:41.688Z"
   },
   {
    "duration": 5,
    "start_time": "2024-04-03T08:16:41.695Z"
   },
   {
    "duration": 16,
    "start_time": "2024-04-03T08:16:41.701Z"
   },
   {
    "duration": 7,
    "start_time": "2024-04-03T08:16:41.719Z"
   },
   {
    "duration": 5,
    "start_time": "2024-04-03T08:16:41.729Z"
   },
   {
    "duration": 11,
    "start_time": "2024-04-03T08:16:41.736Z"
   },
   {
    "duration": 13,
    "start_time": "2024-04-03T08:16:41.781Z"
   },
   {
    "duration": 177,
    "start_time": "2024-04-03T08:16:41.796Z"
   },
   {
    "duration": 17,
    "start_time": "2024-04-03T08:16:41.975Z"
   },
   {
    "duration": 146,
    "start_time": "2024-04-03T08:16:41.994Z"
   },
   {
    "duration": 10,
    "start_time": "2024-04-03T08:16:42.142Z"
   },
   {
    "duration": 301,
    "start_time": "2024-04-03T08:16:42.154Z"
   },
   {
    "duration": 13,
    "start_time": "2024-04-03T08:16:42.456Z"
   },
   {
    "duration": 6,
    "start_time": "2024-04-03T08:16:42.482Z"
   },
   {
    "duration": 320,
    "start_time": "2024-04-03T08:16:42.489Z"
   },
   {
    "duration": 287,
    "start_time": "2024-04-03T08:16:42.810Z"
   },
   {
    "duration": 10,
    "start_time": "2024-04-03T08:16:43.098Z"
   },
   {
    "duration": 44,
    "start_time": "2024-04-03T08:16:43.110Z"
   },
   {
    "duration": 33,
    "start_time": "2024-04-03T08:16:43.155Z"
   },
   {
    "duration": 21,
    "start_time": "2024-04-03T08:16:43.190Z"
   },
   {
    "duration": 26,
    "start_time": "2024-04-03T08:16:43.213Z"
   },
   {
    "duration": 377,
    "start_time": "2024-04-03T08:16:43.240Z"
   },
   {
    "duration": 411,
    "start_time": "2024-04-03T08:16:43.618Z"
   },
   {
    "duration": 24,
    "start_time": "2024-04-03T08:16:44.030Z"
   },
   {
    "duration": 40,
    "start_time": "2024-04-03T08:16:44.056Z"
   },
   {
    "duration": 5,
    "start_time": "2024-04-03T08:16:44.098Z"
   },
   {
    "duration": 7,
    "start_time": "2024-04-03T08:16:44.104Z"
   },
   {
    "duration": 7,
    "start_time": "2024-04-03T08:16:44.113Z"
   },
   {
    "duration": 433,
    "start_time": "2024-04-03T08:16:44.122Z"
   },
   {
    "duration": 335,
    "start_time": "2024-04-03T08:16:44.557Z"
   },
   {
    "duration": 98,
    "start_time": "2024-04-03T08:17:34.235Z"
   },
   {
    "duration": 9,
    "start_time": "2024-04-03T08:17:37.896Z"
   },
   {
    "duration": 10,
    "start_time": "2024-04-03T08:17:57.683Z"
   },
   {
    "duration": 9,
    "start_time": "2024-04-03T08:18:01.179Z"
   },
   {
    "duration": 10,
    "start_time": "2024-04-03T08:18:03.969Z"
   },
   {
    "duration": 13,
    "start_time": "2024-04-03T08:18:07.169Z"
   },
   {
    "duration": 1104,
    "start_time": "2024-04-03T08:18:11.271Z"
   },
   {
    "duration": 67,
    "start_time": "2024-04-03T08:18:12.376Z"
   },
   {
    "duration": 4,
    "start_time": "2024-04-03T08:18:12.444Z"
   },
   {
    "duration": 353,
    "start_time": "2024-04-03T08:18:12.449Z"
   },
   {
    "duration": 421,
    "start_time": "2024-04-03T08:18:12.804Z"
   },
   {
    "duration": 14,
    "start_time": "2024-04-03T08:18:13.227Z"
   },
   {
    "duration": 8,
    "start_time": "2024-04-03T08:18:13.242Z"
   },
   {
    "duration": 282,
    "start_time": "2024-04-03T08:18:13.252Z"
   },
   {
    "duration": 139,
    "start_time": "2024-04-03T08:18:13.535Z"
   },
   {
    "duration": 9,
    "start_time": "2024-04-03T08:18:13.676Z"
   },
   {
    "duration": 5,
    "start_time": "2024-04-03T08:18:13.686Z"
   },
   {
    "duration": 9,
    "start_time": "2024-04-03T08:18:13.692Z"
   },
   {
    "duration": 7,
    "start_time": "2024-04-03T08:18:13.703Z"
   },
   {
    "duration": 6,
    "start_time": "2024-04-03T08:18:13.713Z"
   },
   {
    "duration": 12,
    "start_time": "2024-04-03T08:18:13.720Z"
   },
   {
    "duration": 49,
    "start_time": "2024-04-03T08:18:13.733Z"
   },
   {
    "duration": 168,
    "start_time": "2024-04-03T08:18:13.784Z"
   },
   {
    "duration": 10,
    "start_time": "2024-04-03T08:18:13.954Z"
   },
   {
    "duration": 105,
    "start_time": "2024-04-03T08:18:13.965Z"
   },
   {
    "duration": 19,
    "start_time": "2024-04-03T08:18:14.072Z"
   },
   {
    "duration": 281,
    "start_time": "2024-04-03T08:18:14.093Z"
   },
   {
    "duration": 12,
    "start_time": "2024-04-03T08:18:14.382Z"
   },
   {
    "duration": 14,
    "start_time": "2024-04-03T08:18:14.395Z"
   },
   {
    "duration": 297,
    "start_time": "2024-04-03T08:18:14.410Z"
   },
   {
    "duration": 296,
    "start_time": "2024-04-03T08:18:14.708Z"
   },
   {
    "duration": 8,
    "start_time": "2024-04-03T08:18:15.006Z"
   },
   {
    "duration": 74,
    "start_time": "2024-04-03T08:18:15.015Z"
   },
   {
    "duration": 12,
    "start_time": "2024-04-03T08:18:15.091Z"
   },
   {
    "duration": 20,
    "start_time": "2024-04-03T08:18:15.105Z"
   },
   {
    "duration": 54,
    "start_time": "2024-04-03T08:18:15.126Z"
   },
   {
    "duration": 362,
    "start_time": "2024-04-03T08:18:15.181Z"
   },
   {
    "duration": 350,
    "start_time": "2024-04-03T08:18:15.544Z"
   },
   {
    "duration": 24,
    "start_time": "2024-04-03T08:18:15.895Z"
   },
   {
    "duration": 21,
    "start_time": "2024-04-03T08:18:15.921Z"
   },
   {
    "duration": 5,
    "start_time": "2024-04-03T08:18:15.944Z"
   },
   {
    "duration": 40,
    "start_time": "2024-04-03T08:18:15.951Z"
   },
   {
    "duration": 8,
    "start_time": "2024-04-03T08:18:15.992Z"
   },
   {
    "duration": 413,
    "start_time": "2024-04-03T08:18:16.002Z"
   },
   {
    "duration": 268,
    "start_time": "2024-04-03T08:18:16.417Z"
   },
   {
    "duration": 60,
    "start_time": "2024-04-03T08:30:26.269Z"
   },
   {
    "duration": 31,
    "start_time": "2024-04-03T08:49:54.608Z"
   },
   {
    "duration": 30,
    "start_time": "2024-04-03T08:52:17.994Z"
   },
   {
    "duration": 30,
    "start_time": "2024-04-03T08:52:38.528Z"
   },
   {
    "duration": 30,
    "start_time": "2024-04-03T08:52:53.264Z"
   },
   {
    "duration": 124,
    "start_time": "2024-04-03T08:53:49.472Z"
   },
   {
    "duration": 35,
    "start_time": "2024-04-03T08:54:59.182Z"
   },
   {
    "duration": 37,
    "start_time": "2024-04-03T08:55:09.345Z"
   },
   {
    "duration": 35,
    "start_time": "2024-04-03T08:55:17.917Z"
   },
   {
    "duration": 22,
    "start_time": "2024-04-03T08:55:40.620Z"
   },
   {
    "duration": 8,
    "start_time": "2024-04-03T09:13:49.610Z"
   },
   {
    "duration": 6,
    "start_time": "2024-04-03T09:15:07.888Z"
   },
   {
    "duration": 5,
    "start_time": "2024-04-03T09:17:01.543Z"
   },
   {
    "duration": 5,
    "start_time": "2024-04-03T09:17:10.343Z"
   },
   {
    "duration": 1148,
    "start_time": "2024-04-03T09:30:54.206Z"
   },
   {
    "duration": 70,
    "start_time": "2024-04-03T09:30:55.356Z"
   },
   {
    "duration": 3,
    "start_time": "2024-04-03T09:30:55.428Z"
   },
   {
    "duration": 349,
    "start_time": "2024-04-03T09:30:55.433Z"
   },
   {
    "duration": 427,
    "start_time": "2024-04-03T09:30:55.784Z"
   },
   {
    "duration": 17,
    "start_time": "2024-04-03T09:30:56.213Z"
   },
   {
    "duration": 10,
    "start_time": "2024-04-03T09:30:56.232Z"
   },
   {
    "duration": 290,
    "start_time": "2024-04-03T09:30:56.243Z"
   },
   {
    "duration": 150,
    "start_time": "2024-04-03T09:30:56.535Z"
   },
   {
    "duration": 6,
    "start_time": "2024-04-03T09:30:56.686Z"
   },
   {
    "duration": 5,
    "start_time": "2024-04-03T09:30:56.693Z"
   },
   {
    "duration": 5,
    "start_time": "2024-04-03T09:30:56.700Z"
   },
   {
    "duration": 5,
    "start_time": "2024-04-03T09:30:56.706Z"
   },
   {
    "duration": 4,
    "start_time": "2024-04-03T09:30:56.714Z"
   },
   {
    "duration": 9,
    "start_time": "2024-04-03T09:30:56.720Z"
   },
   {
    "duration": 58,
    "start_time": "2024-04-03T09:30:56.731Z"
   },
   {
    "duration": 171,
    "start_time": "2024-04-03T09:30:56.791Z"
   },
   {
    "duration": 19,
    "start_time": "2024-04-03T09:30:56.964Z"
   },
   {
    "duration": 107,
    "start_time": "2024-04-03T09:30:56.985Z"
   },
   {
    "duration": 11,
    "start_time": "2024-04-03T09:30:57.093Z"
   },
   {
    "duration": 277,
    "start_time": "2024-04-03T09:30:57.105Z"
   },
   {
    "duration": 12,
    "start_time": "2024-04-03T09:30:57.384Z"
   },
   {
    "duration": 9,
    "start_time": "2024-04-03T09:30:57.398Z"
   },
   {
    "duration": 336,
    "start_time": "2024-04-03T09:30:57.409Z"
   },
   {
    "duration": 325,
    "start_time": "2024-04-03T09:30:57.746Z"
   },
   {
    "duration": 15,
    "start_time": "2024-04-03T09:30:58.073Z"
   },
   {
    "duration": 35,
    "start_time": "2024-04-03T09:30:58.089Z"
   },
   {
    "duration": 9,
    "start_time": "2024-04-03T09:30:58.125Z"
   },
   {
    "duration": 12,
    "start_time": "2024-04-03T09:30:58.135Z"
   },
   {
    "duration": 44,
    "start_time": "2024-04-03T09:30:58.148Z"
   },
   {
    "duration": 362,
    "start_time": "2024-04-03T09:30:58.193Z"
   },
   {
    "duration": 360,
    "start_time": "2024-04-03T09:30:58.557Z"
   },
   {
    "duration": 38,
    "start_time": "2024-04-03T09:30:58.918Z"
   },
   {
    "duration": 47,
    "start_time": "2024-04-03T09:30:58.958Z"
   },
   {
    "duration": 6,
    "start_time": "2024-04-03T09:30:59.007Z"
   },
   {
    "duration": 9,
    "start_time": "2024-04-03T09:30:59.015Z"
   },
   {
    "duration": 8,
    "start_time": "2024-04-03T09:30:59.027Z"
   },
   {
    "duration": 432,
    "start_time": "2024-04-03T09:30:59.037Z"
   },
   {
    "duration": 305,
    "start_time": "2024-04-03T09:30:59.471Z"
   },
   {
    "duration": 6,
    "start_time": "2024-04-03T09:39:05.547Z"
   },
   {
    "duration": 5,
    "start_time": "2024-04-03T09:39:08.304Z"
   },
   {
    "duration": 7,
    "start_time": "2024-04-03T09:39:10.700Z"
   },
   {
    "duration": 5,
    "start_time": "2024-04-03T09:47:17.402Z"
   },
   {
    "duration": 6,
    "start_time": "2024-04-03T09:48:14.032Z"
   },
   {
    "duration": 7,
    "start_time": "2024-04-03T09:48:45.210Z"
   },
   {
    "duration": 4,
    "start_time": "2024-04-03T09:52:08.443Z"
   },
   {
    "duration": 5,
    "start_time": "2024-04-03T09:52:19.991Z"
   },
   {
    "duration": 6,
    "start_time": "2024-04-03T09:53:48.054Z"
   },
   {
    "duration": 4,
    "start_time": "2024-04-03T09:56:04.759Z"
   },
   {
    "duration": 4,
    "start_time": "2024-04-03T09:58:36.804Z"
   },
   {
    "duration": 7,
    "start_time": "2024-04-03T10:05:49.062Z"
   },
   {
    "duration": 8,
    "start_time": "2024-04-03T10:06:03.615Z"
   },
   {
    "duration": 8,
    "start_time": "2024-04-03T10:06:08.048Z"
   },
   {
    "duration": 7,
    "start_time": "2024-04-03T10:07:02.655Z"
   },
   {
    "duration": 2,
    "start_time": "2024-04-03T10:07:58.120Z"
   },
   {
    "duration": 1152,
    "start_time": "2024-04-03T10:08:03.973Z"
   },
   {
    "duration": 70,
    "start_time": "2024-04-03T10:08:05.128Z"
   },
   {
    "duration": 3,
    "start_time": "2024-04-03T10:08:05.199Z"
   },
   {
    "duration": 356,
    "start_time": "2024-04-03T10:08:05.205Z"
   },
   {
    "duration": 429,
    "start_time": "2024-04-03T10:08:05.563Z"
   },
   {
    "duration": 14,
    "start_time": "2024-04-03T10:08:05.993Z"
   },
   {
    "duration": 6,
    "start_time": "2024-04-03T10:08:06.009Z"
   },
   {
    "duration": 271,
    "start_time": "2024-04-03T10:08:06.016Z"
   },
   {
    "duration": 147,
    "start_time": "2024-04-03T10:08:06.288Z"
   },
   {
    "duration": 5,
    "start_time": "2024-04-03T10:08:06.437Z"
   },
   {
    "duration": 11,
    "start_time": "2024-04-03T10:08:06.444Z"
   },
   {
    "duration": 10,
    "start_time": "2024-04-03T10:08:06.456Z"
   },
   {
    "duration": 15,
    "start_time": "2024-04-03T10:08:06.467Z"
   },
   {
    "duration": 7,
    "start_time": "2024-04-03T10:08:06.484Z"
   },
   {
    "duration": 10,
    "start_time": "2024-04-03T10:08:06.493Z"
   },
   {
    "duration": 14,
    "start_time": "2024-04-03T10:08:06.504Z"
   },
   {
    "duration": 194,
    "start_time": "2024-04-03T10:08:06.520Z"
   },
   {
    "duration": 10,
    "start_time": "2024-04-03T10:08:06.716Z"
   },
   {
    "duration": 106,
    "start_time": "2024-04-03T10:08:06.728Z"
   },
   {
    "duration": 11,
    "start_time": "2024-04-03T10:08:06.835Z"
   },
   {
    "duration": 285,
    "start_time": "2024-04-03T10:08:06.848Z"
   },
   {
    "duration": 11,
    "start_time": "2024-04-03T10:08:07.135Z"
   },
   {
    "duration": 25,
    "start_time": "2024-04-03T10:08:07.148Z"
   },
   {
    "duration": 316,
    "start_time": "2024-04-03T10:08:07.181Z"
   },
   {
    "duration": 299,
    "start_time": "2024-04-03T10:08:07.498Z"
   },
   {
    "duration": 9,
    "start_time": "2024-04-03T10:08:07.799Z"
   },
   {
    "duration": 37,
    "start_time": "2024-04-03T10:08:07.809Z"
   },
   {
    "duration": 36,
    "start_time": "2024-04-03T10:08:07.850Z"
   },
   {
    "duration": 18,
    "start_time": "2024-04-03T10:08:07.888Z"
   },
   {
    "duration": 14,
    "start_time": "2024-04-03T10:08:07.908Z"
   },
   {
    "duration": 375,
    "start_time": "2024-04-03T10:08:07.923Z"
   },
   {
    "duration": 386,
    "start_time": "2024-04-03T10:08:08.299Z"
   },
   {
    "duration": 38,
    "start_time": "2024-04-03T10:08:08.687Z"
   },
   {
    "duration": 25,
    "start_time": "2024-04-03T10:08:08.727Z"
   },
   {
    "duration": 33,
    "start_time": "2024-04-03T10:08:08.753Z"
   },
   {
    "duration": 5,
    "start_time": "2024-04-03T10:08:08.787Z"
   },
   {
    "duration": 7,
    "start_time": "2024-04-03T10:08:08.793Z"
   },
   {
    "duration": 466,
    "start_time": "2024-04-03T10:08:08.801Z"
   },
   {
    "duration": 304,
    "start_time": "2024-04-03T10:08:09.268Z"
   },
   {
    "duration": 69,
    "start_time": "2024-04-03T10:11:00.753Z"
   },
   {
    "duration": 1111,
    "start_time": "2024-04-03T10:15:19.666Z"
   },
   {
    "duration": 69,
    "start_time": "2024-04-03T10:15:20.779Z"
   },
   {
    "duration": 3,
    "start_time": "2024-04-03T10:15:20.849Z"
   },
   {
    "duration": 387,
    "start_time": "2024-04-03T10:15:20.856Z"
   },
   {
    "duration": 411,
    "start_time": "2024-04-03T10:15:21.244Z"
   },
   {
    "duration": 25,
    "start_time": "2024-04-03T10:15:21.657Z"
   },
   {
    "duration": 9,
    "start_time": "2024-04-03T10:15:21.684Z"
   },
   {
    "duration": 289,
    "start_time": "2024-04-03T10:15:21.694Z"
   },
   {
    "duration": 147,
    "start_time": "2024-04-03T10:15:21.985Z"
   },
   {
    "duration": 5,
    "start_time": "2024-04-03T10:15:22.135Z"
   },
   {
    "duration": 6,
    "start_time": "2024-04-03T10:15:22.142Z"
   },
   {
    "duration": 4,
    "start_time": "2024-04-03T10:15:22.150Z"
   },
   {
    "duration": 29,
    "start_time": "2024-04-03T10:15:22.156Z"
   },
   {
    "duration": 5,
    "start_time": "2024-04-03T10:15:22.186Z"
   },
   {
    "duration": 10,
    "start_time": "2024-04-03T10:15:22.193Z"
   },
   {
    "duration": 11,
    "start_time": "2024-04-03T10:15:22.205Z"
   },
   {
    "duration": 203,
    "start_time": "2024-04-03T10:15:22.217Z"
   },
   {
    "duration": 12,
    "start_time": "2024-04-03T10:15:22.422Z"
   },
   {
    "duration": 134,
    "start_time": "2024-04-03T10:15:22.436Z"
   },
   {
    "duration": 18,
    "start_time": "2024-04-03T10:15:22.571Z"
   },
   {
    "duration": 308,
    "start_time": "2024-04-03T10:15:22.591Z"
   },
   {
    "duration": 14,
    "start_time": "2024-04-03T10:15:22.901Z"
   },
   {
    "duration": 7,
    "start_time": "2024-04-03T10:15:22.917Z"
   },
   {
    "duration": 339,
    "start_time": "2024-04-03T10:15:22.925Z"
   },
   {
    "duration": 287,
    "start_time": "2024-04-03T10:15:23.266Z"
   },
   {
    "duration": 9,
    "start_time": "2024-04-03T10:15:23.555Z"
   },
   {
    "duration": 47,
    "start_time": "2024-04-03T10:15:23.565Z"
   },
   {
    "duration": 9,
    "start_time": "2024-04-03T10:15:23.616Z"
   },
   {
    "duration": 12,
    "start_time": "2024-04-03T10:15:23.626Z"
   },
   {
    "duration": 44,
    "start_time": "2024-04-03T10:15:23.640Z"
   },
   {
    "duration": 365,
    "start_time": "2024-04-03T10:15:23.686Z"
   },
   {
    "duration": 380,
    "start_time": "2024-04-03T10:15:24.052Z"
   },
   {
    "duration": 57,
    "start_time": "2024-04-03T10:15:24.434Z"
   },
   {
    "duration": 25,
    "start_time": "2024-04-03T10:15:24.492Z"
   },
   {
    "duration": 6,
    "start_time": "2024-04-03T10:15:24.518Z"
   },
   {
    "duration": 6,
    "start_time": "2024-04-03T10:15:24.525Z"
   },
   {
    "duration": 51,
    "start_time": "2024-04-03T10:15:24.532Z"
   },
   {
    "duration": 385,
    "start_time": "2024-04-03T10:15:24.585Z"
   },
   {
    "duration": 292,
    "start_time": "2024-04-03T10:15:24.982Z"
   },
   {
    "duration": 4,
    "start_time": "2024-04-03T10:18:45.524Z"
   },
   {
    "duration": 6,
    "start_time": "2024-04-03T10:19:47.014Z"
   },
   {
    "duration": 5,
    "start_time": "2024-04-03T10:20:54.634Z"
   },
   {
    "duration": 5,
    "start_time": "2024-04-03T10:21:28.277Z"
   },
   {
    "duration": 4,
    "start_time": "2024-04-03T10:21:55.382Z"
   },
   {
    "duration": 4,
    "start_time": "2024-04-03T10:23:45.287Z"
   },
   {
    "duration": 6,
    "start_time": "2024-04-03T10:28:36.854Z"
   },
   {
    "duration": 6,
    "start_time": "2024-04-03T10:28:55.729Z"
   },
   {
    "duration": 7,
    "start_time": "2024-04-03T10:29:07.509Z"
   },
   {
    "duration": 7,
    "start_time": "2024-04-03T10:30:35.608Z"
   },
   {
    "duration": 9,
    "start_time": "2024-04-03T10:30:53.793Z"
   },
   {
    "duration": 8,
    "start_time": "2024-04-03T10:31:09.189Z"
   },
   {
    "duration": 59,
    "start_time": "2024-04-03T10:32:21.575Z"
   },
   {
    "duration": 62,
    "start_time": "2024-04-03T10:32:29.607Z"
   },
   {
    "duration": 501,
    "start_time": "2024-04-03T10:42:19.362Z"
   },
   {
    "duration": 418,
    "start_time": "2024-04-03T10:45:04.648Z"
   },
   {
    "duration": 446,
    "start_time": "2024-04-03T10:45:52.446Z"
   },
   {
    "duration": 279,
    "start_time": "2024-04-03T10:47:38.330Z"
   },
   {
    "duration": 1119,
    "start_time": "2024-04-03T10:49:05.213Z"
   },
   {
    "duration": 69,
    "start_time": "2024-04-03T10:49:06.335Z"
   },
   {
    "duration": 3,
    "start_time": "2024-04-03T10:49:06.406Z"
   },
   {
    "duration": 372,
    "start_time": "2024-04-03T10:49:06.412Z"
   },
   {
    "duration": 417,
    "start_time": "2024-04-03T10:49:06.786Z"
   },
   {
    "duration": 14,
    "start_time": "2024-04-03T10:49:07.205Z"
   },
   {
    "duration": 20,
    "start_time": "2024-04-03T10:49:07.221Z"
   },
   {
    "duration": 275,
    "start_time": "2024-04-03T10:49:07.242Z"
   },
   {
    "duration": 150,
    "start_time": "2024-04-03T10:49:07.519Z"
   },
   {
    "duration": 15,
    "start_time": "2024-04-03T10:49:07.671Z"
   },
   {
    "duration": 9,
    "start_time": "2024-04-03T10:49:07.688Z"
   },
   {
    "duration": 16,
    "start_time": "2024-04-03T10:49:07.700Z"
   },
   {
    "duration": 23,
    "start_time": "2024-04-03T10:49:07.718Z"
   },
   {
    "duration": 30,
    "start_time": "2024-04-03T10:49:07.743Z"
   },
   {
    "duration": 25,
    "start_time": "2024-04-03T10:49:07.775Z"
   },
   {
    "duration": 20,
    "start_time": "2024-04-03T10:49:07.802Z"
   },
   {
    "duration": 194,
    "start_time": "2024-04-03T10:49:07.824Z"
   },
   {
    "duration": 14,
    "start_time": "2024-04-03T10:49:08.020Z"
   },
   {
    "duration": 126,
    "start_time": "2024-04-03T10:49:08.036Z"
   },
   {
    "duration": 10,
    "start_time": "2024-04-03T10:49:08.164Z"
   },
   {
    "duration": 306,
    "start_time": "2024-04-03T10:49:08.182Z"
   },
   {
    "duration": 13,
    "start_time": "2024-04-03T10:49:08.490Z"
   },
   {
    "duration": 5,
    "start_time": "2024-04-03T10:49:08.504Z"
   },
   {
    "duration": 343,
    "start_time": "2024-04-03T10:49:08.511Z"
   },
   {
    "duration": 305,
    "start_time": "2024-04-03T10:49:08.856Z"
   },
   {
    "duration": 20,
    "start_time": "2024-04-03T10:49:09.163Z"
   },
   {
    "duration": 45,
    "start_time": "2024-04-03T10:49:09.185Z"
   },
   {
    "duration": 9,
    "start_time": "2024-04-03T10:49:09.234Z"
   },
   {
    "duration": 13,
    "start_time": "2024-04-03T10:49:09.244Z"
   },
   {
    "duration": 30,
    "start_time": "2024-04-03T10:49:09.259Z"
   },
   {
    "duration": 394,
    "start_time": "2024-04-03T10:49:09.291Z"
   },
   {
    "duration": 406,
    "start_time": "2024-04-03T10:49:09.687Z"
   },
   {
    "duration": 51,
    "start_time": "2024-04-03T10:49:10.096Z"
   },
   {
    "duration": 54,
    "start_time": "2024-04-03T10:49:10.149Z"
   },
   {
    "duration": 6,
    "start_time": "2024-04-03T10:49:10.205Z"
   },
   {
    "duration": 26,
    "start_time": "2024-04-03T10:49:10.213Z"
   },
   {
    "duration": 17,
    "start_time": "2024-04-03T10:49:10.241Z"
   },
   {
    "duration": 19,
    "start_time": "2024-04-03T10:49:10.260Z"
   },
   {
    "duration": 36,
    "start_time": "2024-04-03T10:49:10.280Z"
   },
   {
    "duration": 7,
    "start_time": "2024-04-03T10:49:10.317Z"
   },
   {
    "duration": 460,
    "start_time": "2024-04-03T10:49:10.326Z"
   },
   {
    "duration": 308,
    "start_time": "2024-04-03T10:49:10.787Z"
   },
   {
    "duration": 1159,
    "start_time": "2024-04-03T10:55:04.805Z"
   },
   {
    "duration": 69,
    "start_time": "2024-04-03T10:55:05.966Z"
   },
   {
    "duration": 4,
    "start_time": "2024-04-03T10:55:06.039Z"
   },
   {
    "duration": 379,
    "start_time": "2024-04-03T10:55:06.045Z"
   },
   {
    "duration": 409,
    "start_time": "2024-04-03T10:55:06.426Z"
   },
   {
    "duration": 15,
    "start_time": "2024-04-03T10:55:06.836Z"
   },
   {
    "duration": 9,
    "start_time": "2024-04-03T10:55:06.853Z"
   },
   {
    "duration": 259,
    "start_time": "2024-04-03T10:55:06.883Z"
   },
   {
    "duration": 149,
    "start_time": "2024-04-03T10:55:07.145Z"
   },
   {
    "duration": 6,
    "start_time": "2024-04-03T10:55:07.296Z"
   },
   {
    "duration": 10,
    "start_time": "2024-04-03T10:55:07.303Z"
   },
   {
    "duration": 14,
    "start_time": "2024-04-03T10:55:07.315Z"
   },
   {
    "duration": 7,
    "start_time": "2024-04-03T10:55:07.330Z"
   },
   {
    "duration": 5,
    "start_time": "2024-04-03T10:55:07.339Z"
   },
   {
    "duration": 40,
    "start_time": "2024-04-03T10:55:07.346Z"
   },
   {
    "duration": 19,
    "start_time": "2024-04-03T10:55:07.388Z"
   },
   {
    "duration": 197,
    "start_time": "2024-04-03T10:55:07.409Z"
   },
   {
    "duration": 12,
    "start_time": "2024-04-03T10:55:07.607Z"
   },
   {
    "duration": 120,
    "start_time": "2024-04-03T10:55:07.620Z"
   },
   {
    "duration": 11,
    "start_time": "2024-04-03T10:55:07.742Z"
   },
   {
    "duration": 312,
    "start_time": "2024-04-03T10:55:07.755Z"
   },
   {
    "duration": 15,
    "start_time": "2024-04-03T10:55:08.069Z"
   },
   {
    "duration": 7,
    "start_time": "2024-04-03T10:55:08.085Z"
   },
   {
    "duration": 318,
    "start_time": "2024-04-03T10:55:08.093Z"
   },
   {
    "duration": 307,
    "start_time": "2024-04-03T10:55:08.413Z"
   },
   {
    "duration": 10,
    "start_time": "2024-04-03T10:55:08.721Z"
   },
   {
    "duration": 55,
    "start_time": "2024-04-03T10:55:08.734Z"
   },
   {
    "duration": 10,
    "start_time": "2024-04-03T10:55:08.791Z"
   },
   {
    "duration": 18,
    "start_time": "2024-04-03T10:55:08.802Z"
   },
   {
    "duration": 15,
    "start_time": "2024-04-03T10:55:08.822Z"
   },
   {
    "duration": 429,
    "start_time": "2024-04-03T10:55:08.839Z"
   },
   {
    "duration": 397,
    "start_time": "2024-04-03T10:55:09.270Z"
   },
   {
    "duration": 50,
    "start_time": "2024-04-03T10:55:09.669Z"
   },
   {
    "duration": 27,
    "start_time": "2024-04-03T10:55:09.721Z"
   },
   {
    "duration": 33,
    "start_time": "2024-04-03T10:55:09.750Z"
   },
   {
    "duration": 5,
    "start_time": "2024-04-03T10:55:09.784Z"
   },
   {
    "duration": 5,
    "start_time": "2024-04-03T10:55:09.791Z"
   },
   {
    "duration": 13,
    "start_time": "2024-04-03T10:55:09.797Z"
   },
   {
    "duration": 9,
    "start_time": "2024-04-03T10:55:09.812Z"
   },
   {
    "duration": 12,
    "start_time": "2024-04-03T10:55:09.823Z"
   },
   {
    "duration": 455,
    "start_time": "2024-04-03T10:55:09.837Z"
   },
   {
    "duration": 306,
    "start_time": "2024-04-03T10:55:10.295Z"
   },
   {
    "duration": 1057,
    "start_time": "2024-04-03T14:33:12.628Z"
   },
   {
    "duration": 202,
    "start_time": "2024-04-03T14:33:13.686Z"
   },
   {
    "duration": 3,
    "start_time": "2024-04-03T14:33:13.889Z"
   },
   {
    "duration": 304,
    "start_time": "2024-04-03T14:33:13.894Z"
   },
   {
    "duration": 356,
    "start_time": "2024-04-03T14:33:14.199Z"
   },
   {
    "duration": 13,
    "start_time": "2024-04-03T14:33:14.556Z"
   },
   {
    "duration": 9,
    "start_time": "2024-04-03T14:33:14.570Z"
   },
   {
    "duration": 241,
    "start_time": "2024-04-03T14:33:14.580Z"
   },
   {
    "duration": 124,
    "start_time": "2024-04-03T14:33:14.823Z"
   },
   {
    "duration": 4,
    "start_time": "2024-04-03T14:33:14.950Z"
   },
   {
    "duration": 10,
    "start_time": "2024-04-03T14:33:14.955Z"
   },
   {
    "duration": 5,
    "start_time": "2024-04-03T14:33:14.966Z"
   },
   {
    "duration": 6,
    "start_time": "2024-04-03T14:33:14.972Z"
   },
   {
    "duration": 5,
    "start_time": "2024-04-03T14:33:14.979Z"
   },
   {
    "duration": 9,
    "start_time": "2024-04-03T14:33:14.985Z"
   },
   {
    "duration": 10,
    "start_time": "2024-04-03T14:33:14.996Z"
   },
   {
    "duration": 176,
    "start_time": "2024-04-03T14:33:15.008Z"
   },
   {
    "duration": 11,
    "start_time": "2024-04-03T14:33:15.186Z"
   },
   {
    "duration": 99,
    "start_time": "2024-04-03T14:33:15.198Z"
   },
   {
    "duration": 9,
    "start_time": "2024-04-03T14:33:15.299Z"
   },
   {
    "duration": 307,
    "start_time": "2024-04-03T14:33:15.309Z"
   },
   {
    "duration": 11,
    "start_time": "2024-04-03T14:33:15.617Z"
   },
   {
    "duration": 15,
    "start_time": "2024-04-03T14:33:15.630Z"
   },
   {
    "duration": 267,
    "start_time": "2024-04-03T14:33:15.647Z"
   },
   {
    "duration": 247,
    "start_time": "2024-04-03T14:33:15.915Z"
   },
   {
    "duration": 8,
    "start_time": "2024-04-03T14:33:16.164Z"
   },
   {
    "duration": 30,
    "start_time": "2024-04-03T14:33:16.173Z"
   },
   {
    "duration": 8,
    "start_time": "2024-04-03T14:33:16.207Z"
   },
   {
    "duration": 37,
    "start_time": "2024-04-03T14:33:16.217Z"
   },
   {
    "duration": 12,
    "start_time": "2024-04-03T14:33:16.256Z"
   },
   {
    "duration": 322,
    "start_time": "2024-04-03T14:33:16.270Z"
   },
   {
    "duration": 310,
    "start_time": "2024-04-03T14:33:16.594Z"
   },
   {
    "duration": 48,
    "start_time": "2024-04-03T14:33:16.906Z"
   },
   {
    "duration": 22,
    "start_time": "2024-04-03T14:33:16.956Z"
   },
   {
    "duration": 7,
    "start_time": "2024-04-03T14:33:16.980Z"
   },
   {
    "duration": 11,
    "start_time": "2024-04-03T14:33:16.988Z"
   },
   {
    "duration": 17,
    "start_time": "2024-04-03T14:33:17.001Z"
   },
   {
    "duration": 5,
    "start_time": "2024-04-03T14:33:17.020Z"
   },
   {
    "duration": 21,
    "start_time": "2024-04-03T14:33:17.026Z"
   },
   {
    "duration": 6,
    "start_time": "2024-04-03T14:33:17.048Z"
   },
   {
    "duration": 372,
    "start_time": "2024-04-03T14:33:17.055Z"
   },
   {
    "duration": 326,
    "start_time": "2024-04-03T14:33:17.428Z"
   },
   {
    "duration": 7,
    "start_time": "2024-04-03T14:43:19.505Z"
   },
   {
    "duration": 20,
    "start_time": "2024-04-03T14:44:07.507Z"
   },
   {
    "duration": 108,
    "start_time": "2024-04-03T14:45:05.172Z"
   },
   {
    "duration": 26,
    "start_time": "2024-04-03T14:45:22.217Z"
   },
   {
    "duration": 5,
    "start_time": "2024-04-03T14:45:38.068Z"
   },
   {
    "duration": 116,
    "start_time": "2024-04-03T14:45:50.485Z"
   },
   {
    "duration": 32,
    "start_time": "2024-04-03T14:46:02.989Z"
   },
   {
    "duration": 7,
    "start_time": "2024-04-03T14:46:16.143Z"
   },
   {
    "duration": 5,
    "start_time": "2024-04-03T14:46:22.582Z"
   },
   {
    "duration": 4,
    "start_time": "2024-04-03T14:48:28.054Z"
   },
   {
    "duration": 4,
    "start_time": "2024-04-03T14:48:37.059Z"
   },
   {
    "duration": 1078,
    "start_time": "2024-04-03T14:49:30.915Z"
   },
   {
    "duration": 36,
    "start_time": "2024-04-03T14:49:40.394Z"
   },
   {
    "duration": 17,
    "start_time": "2024-04-03T14:51:03.565Z"
   },
   {
    "duration": 991,
    "start_time": "2024-04-03T14:57:13.795Z"
   },
   {
    "duration": 65,
    "start_time": "2024-04-03T14:57:14.788Z"
   },
   {
    "duration": 2,
    "start_time": "2024-04-03T14:57:14.855Z"
   },
   {
    "duration": 315,
    "start_time": "2024-04-03T14:57:14.858Z"
   },
   {
    "duration": 374,
    "start_time": "2024-04-03T14:57:15.175Z"
   },
   {
    "duration": 13,
    "start_time": "2024-04-03T14:57:15.551Z"
   },
   {
    "duration": 20,
    "start_time": "2024-04-03T14:57:15.565Z"
   },
   {
    "duration": 252,
    "start_time": "2024-04-03T14:57:15.586Z"
   },
   {
    "duration": 124,
    "start_time": "2024-04-03T14:57:15.844Z"
   },
   {
    "duration": 5,
    "start_time": "2024-04-03T14:57:15.970Z"
   },
   {
    "duration": 9,
    "start_time": "2024-04-03T14:57:15.977Z"
   },
   {
    "duration": 5,
    "start_time": "2024-04-03T14:57:15.988Z"
   },
   {
    "duration": 4,
    "start_time": "2024-04-03T14:57:15.994Z"
   },
   {
    "duration": 4,
    "start_time": "2024-04-03T14:57:16.001Z"
   },
   {
    "duration": 11,
    "start_time": "2024-04-03T14:57:16.006Z"
   },
   {
    "duration": 36,
    "start_time": "2024-04-03T14:57:16.018Z"
   },
   {
    "duration": 158,
    "start_time": "2024-04-03T14:57:16.056Z"
   },
   {
    "duration": 10,
    "start_time": "2024-04-03T14:57:16.216Z"
   },
   {
    "duration": 102,
    "start_time": "2024-04-03T14:57:16.227Z"
   },
   {
    "duration": 9,
    "start_time": "2024-04-03T14:57:16.331Z"
   },
   {
    "duration": 268,
    "start_time": "2024-04-03T14:57:16.344Z"
   },
   {
    "duration": 12,
    "start_time": "2024-04-03T14:57:16.613Z"
   },
   {
    "duration": 19,
    "start_time": "2024-04-03T14:57:16.627Z"
   },
   {
    "duration": 270,
    "start_time": "2024-04-03T14:57:16.647Z"
   },
   {
    "duration": 250,
    "start_time": "2024-04-03T14:57:16.919Z"
   },
   {
    "duration": 9,
    "start_time": "2024-04-03T14:57:17.171Z"
   },
   {
    "duration": 61,
    "start_time": "2024-04-03T14:57:17.182Z"
   },
   {
    "duration": 10,
    "start_time": "2024-04-03T14:57:17.245Z"
   },
   {
    "duration": 12,
    "start_time": "2024-04-03T14:57:17.257Z"
   },
   {
    "duration": 29,
    "start_time": "2024-04-03T14:57:17.271Z"
   },
   {
    "duration": 346,
    "start_time": "2024-04-03T14:57:17.301Z"
   },
   {
    "duration": 358,
    "start_time": "2024-04-03T14:57:17.649Z"
   },
   {
    "duration": 46,
    "start_time": "2024-04-03T14:57:18.008Z"
   },
   {
    "duration": 25,
    "start_time": "2024-04-03T14:57:18.055Z"
   },
   {
    "duration": 6,
    "start_time": "2024-04-03T14:57:18.083Z"
   },
   {
    "duration": 6,
    "start_time": "2024-04-03T14:57:18.091Z"
   },
   {
    "duration": 9,
    "start_time": "2024-04-03T14:57:18.098Z"
   },
   {
    "duration": 5,
    "start_time": "2024-04-03T14:57:18.108Z"
   },
   {
    "duration": 35,
    "start_time": "2024-04-03T14:57:18.114Z"
   },
   {
    "duration": 6,
    "start_time": "2024-04-03T14:57:18.151Z"
   },
   {
    "duration": 450,
    "start_time": "2024-04-03T14:57:18.160Z"
   },
   {
    "duration": 315,
    "start_time": "2024-04-03T14:57:18.611Z"
   },
   {
    "duration": 46,
    "start_time": "2024-04-03T15:31:49.045Z"
   },
   {
    "duration": 1234,
    "start_time": "2024-04-03T15:31:56.303Z"
   },
   {
    "duration": 208,
    "start_time": "2024-04-03T15:31:57.539Z"
   },
   {
    "duration": 2,
    "start_time": "2024-04-03T15:31:57.749Z"
   },
   {
    "duration": 336,
    "start_time": "2024-04-03T15:31:57.754Z"
   },
   {
    "duration": 399,
    "start_time": "2024-04-03T15:31:58.091Z"
   },
   {
    "duration": 15,
    "start_time": "2024-04-03T15:31:58.492Z"
   },
   {
    "duration": 8,
    "start_time": "2024-04-03T15:31:58.509Z"
   },
   {
    "duration": 272,
    "start_time": "2024-04-03T15:31:58.518Z"
   },
   {
    "duration": 139,
    "start_time": "2024-04-03T15:31:58.791Z"
   },
   {
    "duration": 4,
    "start_time": "2024-04-03T15:31:58.933Z"
   },
   {
    "duration": 16,
    "start_time": "2024-04-03T15:31:58.939Z"
   },
   {
    "duration": 19,
    "start_time": "2024-04-03T15:31:58.956Z"
   },
   {
    "duration": 22,
    "start_time": "2024-04-03T15:31:58.976Z"
   },
   {
    "duration": 18,
    "start_time": "2024-04-03T15:31:58.999Z"
   },
   {
    "duration": 37,
    "start_time": "2024-04-03T15:31:59.018Z"
   },
   {
    "duration": 28,
    "start_time": "2024-04-03T15:31:59.057Z"
   },
   {
    "duration": 156,
    "start_time": "2024-04-03T15:31:59.086Z"
   },
   {
    "duration": 22,
    "start_time": "2024-04-03T15:31:59.244Z"
   },
   {
    "duration": 99,
    "start_time": "2024-04-03T15:31:59.267Z"
   },
   {
    "duration": 11,
    "start_time": "2024-04-03T15:31:59.367Z"
   },
   {
    "duration": 278,
    "start_time": "2024-04-03T15:31:59.379Z"
   },
   {
    "duration": 12,
    "start_time": "2024-04-03T15:31:59.665Z"
   },
   {
    "duration": 10,
    "start_time": "2024-04-03T15:31:59.679Z"
   },
   {
    "duration": 292,
    "start_time": "2024-04-03T15:31:59.691Z"
   },
   {
    "duration": 273,
    "start_time": "2024-04-03T15:31:59.985Z"
   },
   {
    "duration": 9,
    "start_time": "2024-04-03T15:32:00.265Z"
   },
   {
    "duration": 80,
    "start_time": "2024-04-03T15:32:00.276Z"
   },
   {
    "duration": 28,
    "start_time": "2024-04-03T15:32:00.359Z"
   },
   {
    "duration": 43,
    "start_time": "2024-04-03T15:32:00.388Z"
   },
   {
    "duration": 108,
    "start_time": "2024-04-03T15:32:00.432Z"
   },
   {
    "duration": 400,
    "start_time": "2024-04-03T15:32:00.542Z"
   },
   {
    "duration": 359,
    "start_time": "2024-04-03T15:32:00.943Z"
   },
   {
    "duration": 354,
    "start_time": "2024-04-03T15:32:01.304Z"
   },
   {
    "duration": 0,
    "start_time": "2024-04-03T15:32:01.660Z"
   },
   {
    "duration": 0,
    "start_time": "2024-04-03T15:32:01.661Z"
   },
   {
    "duration": 0,
    "start_time": "2024-04-03T15:32:01.662Z"
   },
   {
    "duration": 0,
    "start_time": "2024-04-03T15:32:01.664Z"
   },
   {
    "duration": 0,
    "start_time": "2024-04-03T15:32:01.665Z"
   },
   {
    "duration": 0,
    "start_time": "2024-04-03T15:32:01.666Z"
   },
   {
    "duration": 0,
    "start_time": "2024-04-03T15:32:01.667Z"
   },
   {
    "duration": 0,
    "start_time": "2024-04-03T15:32:01.669Z"
   },
   {
    "duration": 0,
    "start_time": "2024-04-03T15:32:01.670Z"
   },
   {
    "duration": 38,
    "start_time": "2024-04-03T15:32:34.707Z"
   },
   {
    "duration": 51,
    "start_time": "2024-04-03T15:33:35.848Z"
   },
   {
    "duration": 46,
    "start_time": "2024-04-03T15:33:42.614Z"
   },
   {
    "duration": 5,
    "start_time": "2024-04-03T15:40:50.629Z"
   },
   {
    "duration": 8,
    "start_time": "2024-04-03T15:49:37.370Z"
   },
   {
    "duration": 6,
    "start_time": "2024-04-03T15:49:54.528Z"
   },
   {
    "duration": 24,
    "start_time": "2024-04-03T15:51:07.382Z"
   },
   {
    "duration": 11,
    "start_time": "2024-04-03T15:54:28.691Z"
   },
   {
    "duration": 1070,
    "start_time": "2024-04-03T15:56:02.752Z"
   },
   {
    "duration": 68,
    "start_time": "2024-04-03T15:56:03.824Z"
   },
   {
    "duration": 4,
    "start_time": "2024-04-03T15:56:03.895Z"
   },
   {
    "duration": 336,
    "start_time": "2024-04-03T15:56:03.900Z"
   },
   {
    "duration": 405,
    "start_time": "2024-04-03T15:56:04.237Z"
   },
   {
    "duration": 13,
    "start_time": "2024-04-03T15:56:04.644Z"
   },
   {
    "duration": 28,
    "start_time": "2024-04-03T15:56:04.666Z"
   },
   {
    "duration": 238,
    "start_time": "2024-04-03T15:56:04.695Z"
   },
   {
    "duration": 134,
    "start_time": "2024-04-03T15:56:04.934Z"
   },
   {
    "duration": 5,
    "start_time": "2024-04-03T15:56:05.070Z"
   },
   {
    "duration": 7,
    "start_time": "2024-04-03T15:56:05.077Z"
   },
   {
    "duration": 5,
    "start_time": "2024-04-03T15:56:05.085Z"
   },
   {
    "duration": 8,
    "start_time": "2024-04-03T15:56:05.092Z"
   },
   {
    "duration": 4,
    "start_time": "2024-04-03T15:56:05.101Z"
   },
   {
    "duration": 9,
    "start_time": "2024-04-03T15:56:05.107Z"
   },
   {
    "duration": 54,
    "start_time": "2024-04-03T15:56:05.118Z"
   },
   {
    "duration": 164,
    "start_time": "2024-04-03T15:56:05.174Z"
   },
   {
    "duration": 12,
    "start_time": "2024-04-03T15:56:05.340Z"
   },
   {
    "duration": 88,
    "start_time": "2024-04-03T15:56:05.366Z"
   },
   {
    "duration": 10,
    "start_time": "2024-04-03T15:56:05.465Z"
   },
   {
    "duration": 281,
    "start_time": "2024-04-03T15:56:05.476Z"
   },
   {
    "duration": 19,
    "start_time": "2024-04-03T15:56:05.758Z"
   },
   {
    "duration": 20,
    "start_time": "2024-04-03T15:56:05.779Z"
   },
   {
    "duration": 313,
    "start_time": "2024-04-03T15:56:05.800Z"
   },
   {
    "duration": 274,
    "start_time": "2024-04-03T15:56:06.115Z"
   },
   {
    "duration": 8,
    "start_time": "2024-04-03T15:56:06.391Z"
   },
   {
    "duration": 42,
    "start_time": "2024-04-03T15:56:06.401Z"
   },
   {
    "duration": 24,
    "start_time": "2024-04-03T15:56:06.445Z"
   },
   {
    "duration": 12,
    "start_time": "2024-04-03T15:56:06.471Z"
   },
   {
    "duration": 15,
    "start_time": "2024-04-03T15:56:06.485Z"
   },
   {
    "duration": 356,
    "start_time": "2024-04-03T15:56:06.501Z"
   },
   {
    "duration": 340,
    "start_time": "2024-04-03T15:56:06.859Z"
   },
   {
    "duration": 37,
    "start_time": "2024-04-03T15:56:07.201Z"
   },
   {
    "duration": 48,
    "start_time": "2024-04-03T15:56:07.239Z"
   },
   {
    "duration": 5,
    "start_time": "2024-04-03T15:56:07.289Z"
   },
   {
    "duration": 5,
    "start_time": "2024-04-03T15:56:07.295Z"
   },
   {
    "duration": 26,
    "start_time": "2024-04-03T15:56:07.302Z"
   },
   {
    "duration": 6,
    "start_time": "2024-04-03T15:56:07.330Z"
   },
   {
    "duration": 29,
    "start_time": "2024-04-03T15:56:07.337Z"
   },
   {
    "duration": 6,
    "start_time": "2024-04-03T15:56:07.369Z"
   },
   {
    "duration": 478,
    "start_time": "2024-04-03T15:56:07.377Z"
   },
   {
    "duration": 296,
    "start_time": "2024-04-03T15:56:07.857Z"
   },
   {
    "duration": 10,
    "start_time": "2024-04-03T15:58:27.973Z"
   },
   {
    "duration": 1131,
    "start_time": "2024-04-03T16:01:06.068Z"
   },
   {
    "duration": 67,
    "start_time": "2024-04-03T16:01:07.201Z"
   },
   {
    "duration": 4,
    "start_time": "2024-04-03T16:01:07.269Z"
   },
   {
    "duration": 350,
    "start_time": "2024-04-03T16:01:07.274Z"
   },
   {
    "duration": 401,
    "start_time": "2024-04-03T16:01:07.627Z"
   },
   {
    "duration": 14,
    "start_time": "2024-04-03T16:01:08.029Z"
   },
   {
    "duration": 27,
    "start_time": "2024-04-03T16:01:08.045Z"
   },
   {
    "duration": 257,
    "start_time": "2024-04-03T16:01:08.074Z"
   },
   {
    "duration": 143,
    "start_time": "2024-04-03T16:01:08.333Z"
   },
   {
    "duration": 5,
    "start_time": "2024-04-03T16:01:08.478Z"
   },
   {
    "duration": 6,
    "start_time": "2024-04-03T16:01:08.485Z"
   },
   {
    "duration": 24,
    "start_time": "2024-04-03T16:01:08.493Z"
   },
   {
    "duration": 10,
    "start_time": "2024-04-03T16:01:08.518Z"
   },
   {
    "duration": 32,
    "start_time": "2024-04-03T16:01:08.531Z"
   },
   {
    "duration": 33,
    "start_time": "2024-04-03T16:01:08.565Z"
   },
   {
    "duration": 28,
    "start_time": "2024-04-03T16:01:08.600Z"
   },
   {
    "duration": 180,
    "start_time": "2024-04-03T16:01:08.630Z"
   },
   {
    "duration": 11,
    "start_time": "2024-04-03T16:01:08.812Z"
   },
   {
    "duration": 110,
    "start_time": "2024-04-03T16:01:08.824Z"
   },
   {
    "duration": 11,
    "start_time": "2024-04-03T16:01:08.935Z"
   },
   {
    "duration": 277,
    "start_time": "2024-04-03T16:01:08.947Z"
   },
   {
    "duration": 11,
    "start_time": "2024-04-03T16:01:09.225Z"
   },
   {
    "duration": 30,
    "start_time": "2024-04-03T16:01:09.237Z"
   },
   {
    "duration": 300,
    "start_time": "2024-04-03T16:01:09.269Z"
   },
   {
    "duration": 313,
    "start_time": "2024-04-03T16:01:09.570Z"
   },
   {
    "duration": 10,
    "start_time": "2024-04-03T16:01:09.884Z"
   },
   {
    "duration": 50,
    "start_time": "2024-04-03T16:01:09.895Z"
   },
   {
    "duration": 25,
    "start_time": "2024-04-03T16:01:09.947Z"
   },
   {
    "duration": 28,
    "start_time": "2024-04-03T16:01:09.974Z"
   },
   {
    "duration": 31,
    "start_time": "2024-04-03T16:01:10.004Z"
   },
   {
    "duration": 370,
    "start_time": "2024-04-03T16:01:10.036Z"
   },
   {
    "duration": 363,
    "start_time": "2024-04-03T16:01:10.408Z"
   },
   {
    "duration": 38,
    "start_time": "2024-04-03T16:01:10.773Z"
   },
   {
    "duration": 54,
    "start_time": "2024-04-03T16:01:10.813Z"
   },
   {
    "duration": 6,
    "start_time": "2024-04-03T16:01:10.869Z"
   },
   {
    "duration": 15,
    "start_time": "2024-04-03T16:01:10.877Z"
   },
   {
    "duration": 14,
    "start_time": "2024-04-03T16:01:10.894Z"
   },
   {
    "duration": 19,
    "start_time": "2024-04-03T16:01:10.910Z"
   },
   {
    "duration": 18,
    "start_time": "2024-04-03T16:01:10.931Z"
   },
   {
    "duration": 24,
    "start_time": "2024-04-03T16:01:10.951Z"
   },
   {
    "duration": 426,
    "start_time": "2024-04-03T16:01:10.979Z"
   },
   {
    "duration": 269,
    "start_time": "2024-04-03T16:01:11.406Z"
   },
   {
    "duration": 1106,
    "start_time": "2024-04-03T16:27:53.035Z"
   },
   {
    "duration": 72,
    "start_time": "2024-04-03T16:27:54.143Z"
   },
   {
    "duration": 3,
    "start_time": "2024-04-03T16:27:54.216Z"
   },
   {
    "duration": 379,
    "start_time": "2024-04-03T16:27:54.221Z"
   },
   {
    "duration": 446,
    "start_time": "2024-04-03T16:27:54.602Z"
   },
   {
    "duration": 25,
    "start_time": "2024-04-03T16:27:55.050Z"
   },
   {
    "duration": 13,
    "start_time": "2024-04-03T16:27:55.078Z"
   },
   {
    "duration": 285,
    "start_time": "2024-04-03T16:27:55.093Z"
   },
   {
    "duration": 154,
    "start_time": "2024-04-03T16:27:55.380Z"
   },
   {
    "duration": 6,
    "start_time": "2024-04-03T16:27:55.536Z"
   },
   {
    "duration": 5,
    "start_time": "2024-04-03T16:27:55.543Z"
   },
   {
    "duration": 7,
    "start_time": "2024-04-03T16:27:55.565Z"
   },
   {
    "duration": 10,
    "start_time": "2024-04-03T16:27:55.574Z"
   },
   {
    "duration": 8,
    "start_time": "2024-04-03T16:27:55.587Z"
   },
   {
    "duration": 10,
    "start_time": "2024-04-03T16:27:55.596Z"
   },
   {
    "duration": 9,
    "start_time": "2024-04-03T16:27:55.608Z"
   },
   {
    "duration": 194,
    "start_time": "2024-04-03T16:27:55.619Z"
   },
   {
    "duration": 12,
    "start_time": "2024-04-03T16:27:55.815Z"
   },
   {
    "duration": 135,
    "start_time": "2024-04-03T16:27:55.829Z"
   },
   {
    "duration": 11,
    "start_time": "2024-04-03T16:27:55.966Z"
   },
   {
    "duration": 290,
    "start_time": "2024-04-03T16:27:55.980Z"
   },
   {
    "duration": 16,
    "start_time": "2024-04-03T16:27:56.272Z"
   },
   {
    "duration": 8,
    "start_time": "2024-04-03T16:27:56.289Z"
   },
   {
    "duration": 308,
    "start_time": "2024-04-03T16:27:56.299Z"
   },
   {
    "duration": 289,
    "start_time": "2024-04-03T16:27:56.609Z"
   },
   {
    "duration": 11,
    "start_time": "2024-04-03T16:27:56.900Z"
   },
   {
    "duration": 54,
    "start_time": "2024-04-03T16:27:56.913Z"
   },
   {
    "duration": 15,
    "start_time": "2024-04-03T16:27:56.973Z"
   },
   {
    "duration": 12,
    "start_time": "2024-04-03T16:27:56.990Z"
   },
   {
    "duration": 14,
    "start_time": "2024-04-03T16:27:57.004Z"
   },
   {
    "duration": 380,
    "start_time": "2024-04-03T16:27:57.020Z"
   },
   {
    "duration": 355,
    "start_time": "2024-04-03T16:27:57.402Z"
   },
   {
    "duration": 50,
    "start_time": "2024-04-03T16:27:57.759Z"
   },
   {
    "duration": 24,
    "start_time": "2024-04-03T16:27:57.811Z"
   },
   {
    "duration": 32,
    "start_time": "2024-04-03T16:27:57.837Z"
   },
   {
    "duration": 6,
    "start_time": "2024-04-03T16:27:57.871Z"
   },
   {
    "duration": 6,
    "start_time": "2024-04-03T16:27:57.879Z"
   },
   {
    "duration": 5,
    "start_time": "2024-04-03T16:27:57.887Z"
   },
   {
    "duration": 16,
    "start_time": "2024-04-03T16:27:57.893Z"
   },
   {
    "duration": 55,
    "start_time": "2024-04-03T16:27:57.911Z"
   },
   {
    "duration": 460,
    "start_time": "2024-04-03T16:27:57.968Z"
   },
   {
    "duration": 299,
    "start_time": "2024-04-03T16:27:58.429Z"
   },
   {
    "duration": 1126,
    "start_time": "2024-04-03T16:39:24.403Z"
   },
   {
    "duration": 69,
    "start_time": "2024-04-03T16:39:25.531Z"
   },
   {
    "duration": 3,
    "start_time": "2024-04-03T16:39:25.601Z"
   },
   {
    "duration": 441,
    "start_time": "2024-04-03T16:39:25.607Z"
   },
   {
    "duration": 466,
    "start_time": "2024-04-03T16:39:26.050Z"
   },
   {
    "duration": 16,
    "start_time": "2024-04-03T16:39:26.518Z"
   },
   {
    "duration": 36,
    "start_time": "2024-04-03T16:39:26.536Z"
   },
   {
    "duration": 264,
    "start_time": "2024-04-03T16:39:26.574Z"
   },
   {
    "duration": 141,
    "start_time": "2024-04-03T16:39:26.840Z"
   },
   {
    "duration": 9,
    "start_time": "2024-04-03T16:39:26.985Z"
   },
   {
    "duration": 14,
    "start_time": "2024-04-03T16:39:26.995Z"
   },
   {
    "duration": 33,
    "start_time": "2024-04-03T16:39:27.011Z"
   },
   {
    "duration": 22,
    "start_time": "2024-04-03T16:39:27.046Z"
   },
   {
    "duration": 32,
    "start_time": "2024-04-03T16:39:27.071Z"
   },
   {
    "duration": 39,
    "start_time": "2024-04-03T16:39:27.105Z"
   },
   {
    "duration": 23,
    "start_time": "2024-04-03T16:39:27.145Z"
   },
   {
    "duration": 168,
    "start_time": "2024-04-03T16:39:27.170Z"
   },
   {
    "duration": 10,
    "start_time": "2024-04-03T16:39:27.340Z"
   },
   {
    "duration": 122,
    "start_time": "2024-04-03T16:39:27.352Z"
   },
   {
    "duration": 15,
    "start_time": "2024-04-03T16:39:27.477Z"
   },
   {
    "duration": 307,
    "start_time": "2024-04-03T16:39:27.494Z"
   },
   {
    "duration": 11,
    "start_time": "2024-04-03T16:39:27.803Z"
   },
   {
    "duration": 17,
    "start_time": "2024-04-03T16:39:27.815Z"
   },
   {
    "duration": 288,
    "start_time": "2024-04-03T16:39:27.834Z"
   },
   {
    "duration": 277,
    "start_time": "2024-04-03T16:39:28.124Z"
   },
   {
    "duration": 9,
    "start_time": "2024-04-03T16:39:28.402Z"
   },
   {
    "duration": 55,
    "start_time": "2024-04-03T16:39:28.412Z"
   },
   {
    "duration": 17,
    "start_time": "2024-04-03T16:39:28.472Z"
   },
   {
    "duration": 13,
    "start_time": "2024-04-03T16:39:28.491Z"
   },
   {
    "duration": 28,
    "start_time": "2024-04-03T16:39:28.505Z"
   },
   {
    "duration": 398,
    "start_time": "2024-04-03T16:39:28.535Z"
   },
   {
    "duration": 402,
    "start_time": "2024-04-03T16:39:28.934Z"
   },
   {
    "duration": 60,
    "start_time": "2024-04-03T16:39:29.338Z"
   },
   {
    "duration": 23,
    "start_time": "2024-04-03T16:39:29.399Z"
   },
   {
    "duration": 12,
    "start_time": "2024-04-03T16:39:29.424Z"
   },
   {
    "duration": 14,
    "start_time": "2024-04-03T16:39:29.438Z"
   },
   {
    "duration": 13,
    "start_time": "2024-04-03T16:39:29.467Z"
   },
   {
    "duration": 33,
    "start_time": "2024-04-03T16:39:29.483Z"
   },
   {
    "duration": 78,
    "start_time": "2024-04-03T16:39:29.518Z"
   },
   {
    "duration": 42,
    "start_time": "2024-04-03T16:39:29.597Z"
   },
   {
    "duration": 433,
    "start_time": "2024-04-03T16:39:29.641Z"
   },
   {
    "duration": 311,
    "start_time": "2024-04-03T16:39:30.076Z"
   },
   {
    "duration": 1034,
    "start_time": "2024-04-04T01:20:54.577Z"
   },
   {
    "duration": 65,
    "start_time": "2024-04-04T01:20:55.613Z"
   },
   {
    "duration": 3,
    "start_time": "2024-04-04T01:20:55.679Z"
   },
   {
    "duration": 305,
    "start_time": "2024-04-04T01:20:55.685Z"
   },
   {
    "duration": 370,
    "start_time": "2024-04-04T01:20:55.992Z"
   },
   {
    "duration": 21,
    "start_time": "2024-04-04T01:20:56.364Z"
   },
   {
    "duration": 9,
    "start_time": "2024-04-04T01:20:56.387Z"
   },
   {
    "duration": 261,
    "start_time": "2024-04-04T01:20:56.398Z"
   },
   {
    "duration": 132,
    "start_time": "2024-04-04T01:20:56.660Z"
   },
   {
    "duration": 5,
    "start_time": "2024-04-04T01:20:56.794Z"
   },
   {
    "duration": 10,
    "start_time": "2024-04-04T01:20:56.801Z"
   },
   {
    "duration": 7,
    "start_time": "2024-04-04T01:20:56.813Z"
   },
   {
    "duration": 5,
    "start_time": "2024-04-04T01:20:56.821Z"
   },
   {
    "duration": 6,
    "start_time": "2024-04-04T01:20:56.827Z"
   },
   {
    "duration": 25,
    "start_time": "2024-04-04T01:20:56.834Z"
   },
   {
    "duration": 17,
    "start_time": "2024-04-04T01:20:56.861Z"
   },
   {
    "duration": 161,
    "start_time": "2024-04-04T01:20:56.879Z"
   },
   {
    "duration": 11,
    "start_time": "2024-04-04T01:20:57.041Z"
   },
   {
    "duration": 99,
    "start_time": "2024-04-04T01:20:57.054Z"
   },
   {
    "duration": 16,
    "start_time": "2024-04-04T01:20:57.154Z"
   },
   {
    "duration": 257,
    "start_time": "2024-04-04T01:20:57.171Z"
   },
   {
    "duration": 10,
    "start_time": "2024-04-04T01:20:57.430Z"
   },
   {
    "duration": 10,
    "start_time": "2024-04-04T01:20:57.442Z"
   },
   {
    "duration": 283,
    "start_time": "2024-04-04T01:20:57.454Z"
   },
   {
    "duration": 262,
    "start_time": "2024-04-04T01:20:57.739Z"
   },
   {
    "duration": 10,
    "start_time": "2024-04-04T01:20:58.002Z"
   },
   {
    "duration": 40,
    "start_time": "2024-04-04T01:20:58.013Z"
   },
   {
    "duration": 19,
    "start_time": "2024-04-04T01:20:58.057Z"
   },
   {
    "duration": 20,
    "start_time": "2024-04-04T01:20:58.077Z"
   },
   {
    "duration": 23,
    "start_time": "2024-04-04T01:20:58.098Z"
   },
   {
    "duration": 336,
    "start_time": "2024-04-04T01:20:58.122Z"
   },
   {
    "duration": 324,
    "start_time": "2024-04-04T01:20:58.459Z"
   },
   {
    "duration": 40,
    "start_time": "2024-04-04T01:20:58.785Z"
   },
   {
    "duration": 22,
    "start_time": "2024-04-04T01:20:58.827Z"
   },
   {
    "duration": 23,
    "start_time": "2024-04-04T01:20:58.850Z"
   },
   {
    "duration": 6,
    "start_time": "2024-04-04T01:20:58.874Z"
   },
   {
    "duration": 7,
    "start_time": "2024-04-04T01:20:58.881Z"
   },
   {
    "duration": 3,
    "start_time": "2024-04-04T01:20:58.889Z"
   },
   {
    "duration": 8,
    "start_time": "2024-04-04T01:20:58.894Z"
   },
   {
    "duration": 5,
    "start_time": "2024-04-04T01:20:58.903Z"
   },
   {
    "duration": 441,
    "start_time": "2024-04-04T01:20:58.909Z"
   },
   {
    "duration": 299,
    "start_time": "2024-04-04T01:20:59.352Z"
   },
   {
    "duration": 7,
    "start_time": "2024-04-04T01:22:07.410Z"
   }
  ],
  "kernelspec": {
   "display_name": "Python 3 (ipykernel)",
   "language": "python",
   "name": "python3"
  },
  "language_info": {
   "codemirror_mode": {
    "name": "ipython",
    "version": 3
   },
   "file_extension": ".py",
   "mimetype": "text/x-python",
   "name": "python",
   "nbconvert_exporter": "python",
   "pygments_lexer": "ipython3",
   "version": "3.9.5"
  },
  "toc": {
   "base_numbering": 1,
   "nav_menu": {},
   "number_sections": true,
   "sideBar": true,
   "skip_h1_title": true,
   "title_cell": "Table of Contents",
   "title_sidebar": "Contents",
   "toc_cell": false,
   "toc_position": {},
   "toc_section_display": true,
   "toc_window_display": false
  }
 },
 "nbformat": 4,
 "nbformat_minor": 5
}
