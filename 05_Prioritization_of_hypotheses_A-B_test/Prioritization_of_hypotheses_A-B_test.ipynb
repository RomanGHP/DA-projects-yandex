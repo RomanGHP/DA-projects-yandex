{
 "cells": [
  {
   "cell_type": "markdown",
   "metadata": {},
   "source": [
    "<h1>Принятие решений в бизнесе. Приоритезация гипотез. A/B тест.</h1>"
   ]
  },
  {
   "cell_type": "markdown",
   "metadata": {},
   "source": [
    "**Описание проекта:**\n",
    "\n",
    "Вы — аналитик крупного интернет-магазина. Вместе с отделом маркетинга вы подготовили список гипотез для увеличения выручки.\n",
    "Приоритизируйте гипотезы, запустите A/B-тест и проанализируйте результаты. \n"
   ]
  },
  {
   "cell_type": "markdown",
   "metadata": {},
   "source": [
    "**Описание данных:**\n",
    "\n",
    "Данные для первой части:\n",
    "\n",
    "*Датасет - hypothesis.csv*\n",
    "* `Hypothesis` — краткое описание гипотезы;\n",
    "* `Reach` — охват пользователей по 10-балльной шкале;\n",
    "* `Impact` — влияние на пользователей по 10-балльной шкале;\n",
    "* `Confidence` — уверенность в гипотезе по 10-балльной шкале;\n",
    "* `Efforts` — затраты ресурсов на проверку гипотезы по 10-балльной шкале. Чем больше значение Efforts, тем дороже проверка гипотезы.\n",
    "\n",
    "Данные для второй части:\n",
    "\n",
    "*Датасет - orders.csv*\n",
    "* `transactionId` — идентификатор заказа;\n",
    "* `visitorId` — идентификатор пользователя, совершившего заказ;\n",
    "* `date` — дата, когда был совершён заказ;\n",
    "* `revenue` — выручка заказа;\n",
    "* `group` — группа A/B-теста, в которую попал заказ.\n",
    "\n",
    "*Датасет - visitors.csv*\n",
    "\n",
    "* `date` — дата;\n",
    "* `group` — группа A/B-теста;\n",
    "* `visitors` — количество пользователей в указанную дату в указанной группе A/B-теста"
   ]
  },
  {
   "cell_type": "markdown",
   "metadata": {},
   "source": [
    "### Загрузгка данных и подготовка их к анализу"
   ]
  },
  {
   "cell_type": "markdown",
   "metadata": {},
   "source": [
    "<h4>Загрузка данных</h4>"
   ]
  },
  {
   "cell_type": "code",
   "execution_count": 1,
   "metadata": {},
   "outputs": [],
   "source": [
    "import pandas as pd\n",
    "import scipy.stats as stats\n",
    "import matplotlib.pyplot as plt\n",
    "import datetime as dt\n",
    "import numpy as np"
   ]
  },
  {
   "cell_type": "code",
   "execution_count": 2,
   "metadata": {},
   "outputs": [],
   "source": [
    "hypothesis = pd.read_csv('https://code.s3.yandex.net/datasets/hypothesis.csv')\n",
    "visitors = pd.read_csv('https://code.s3.yandex.net/datasets/visitors.csv')\n",
    "orders = pd.read_csv('https://code.s3.yandex.net/datasets/orders.csv')"
   ]
  },
  {
   "cell_type": "code",
   "execution_count": 3,
   "metadata": {},
   "outputs": [],
   "source": [
    "pd.set_option('display.max_columns', None)\n",
    "pd.set_option('display.max_colwidth', None)"
   ]
  },
  {
   "cell_type": "code",
   "execution_count": 4,
   "metadata": {},
   "outputs": [
    {
     "name": "stdout",
     "output_type": "stream",
     "text": [
      "<class 'pandas.core.frame.DataFrame'>\n",
      "RangeIndex: 9 entries, 0 to 8\n",
      "Data columns (total 5 columns):\n",
      " #   Column      Non-Null Count  Dtype \n",
      "---  ------      --------------  ----- \n",
      " 0   Hypothesis  9 non-null      object\n",
      " 1   Reach       9 non-null      int64 \n",
      " 2   Impact      9 non-null      int64 \n",
      " 3   Confidence  9 non-null      int64 \n",
      " 4   Efforts     9 non-null      int64 \n",
      "dtypes: int64(4), object(1)\n",
      "memory usage: 488.0+ bytes\n",
      "- - - - - -\n",
      "<class 'pandas.core.frame.DataFrame'>\n",
      "RangeIndex: 62 entries, 0 to 61\n",
      "Data columns (total 3 columns):\n",
      " #   Column    Non-Null Count  Dtype \n",
      "---  ------    --------------  ----- \n",
      " 0   date      62 non-null     object\n",
      " 1   group     62 non-null     object\n",
      " 2   visitors  62 non-null     int64 \n",
      "dtypes: int64(1), object(2)\n",
      "memory usage: 1.6+ KB\n",
      "- - - - - -\n",
      "<class 'pandas.core.frame.DataFrame'>\n",
      "RangeIndex: 1197 entries, 0 to 1196\n",
      "Data columns (total 5 columns):\n",
      " #   Column         Non-Null Count  Dtype \n",
      "---  ------         --------------  ----- \n",
      " 0   transactionId  1197 non-null   int64 \n",
      " 1   visitorId      1197 non-null   int64 \n",
      " 2   date           1197 non-null   object\n",
      " 3   revenue        1197 non-null   int64 \n",
      " 4   group          1197 non-null   object\n",
      "dtypes: int64(3), object(2)\n",
      "memory usage: 46.9+ KB\n"
     ]
    },
    {
     "data": {
      "text/html": [
       "<div>\n",
       "<style scoped>\n",
       "    .dataframe tbody tr th:only-of-type {\n",
       "        vertical-align: middle;\n",
       "    }\n",
       "\n",
       "    .dataframe tbody tr th {\n",
       "        vertical-align: top;\n",
       "    }\n",
       "\n",
       "    .dataframe thead th {\n",
       "        text-align: right;\n",
       "    }\n",
       "</style>\n",
       "<table border=\"1\" class=\"dataframe\">\n",
       "  <thead>\n",
       "    <tr style=\"text-align: right;\">\n",
       "      <th></th>\n",
       "      <th>Hypothesis</th>\n",
       "      <th>Reach</th>\n",
       "      <th>Impact</th>\n",
       "      <th>Confidence</th>\n",
       "      <th>Efforts</th>\n",
       "    </tr>\n",
       "  </thead>\n",
       "  <tbody>\n",
       "    <tr>\n",
       "      <th>0</th>\n",
       "      <td>Добавить два новых канала привлечения трафика, что позволит привлекать на 30% больше пользователей</td>\n",
       "      <td>3</td>\n",
       "      <td>10</td>\n",
       "      <td>8</td>\n",
       "      <td>6</td>\n",
       "    </tr>\n",
       "    <tr>\n",
       "      <th>1</th>\n",
       "      <td>Запустить собственную службу доставки, что сократит срок доставки заказов</td>\n",
       "      <td>2</td>\n",
       "      <td>5</td>\n",
       "      <td>4</td>\n",
       "      <td>10</td>\n",
       "    </tr>\n",
       "    <tr>\n",
       "      <th>2</th>\n",
       "      <td>Добавить блоки рекомендаций товаров на сайт интернет магазина, чтобы повысить конверсию и средний чек заказа</td>\n",
       "      <td>8</td>\n",
       "      <td>3</td>\n",
       "      <td>7</td>\n",
       "      <td>3</td>\n",
       "    </tr>\n",
       "    <tr>\n",
       "      <th>3</th>\n",
       "      <td>Изменить структура категорий, что увеличит конверсию, т.к. пользователи быстрее найдут нужный товар</td>\n",
       "      <td>8</td>\n",
       "      <td>3</td>\n",
       "      <td>3</td>\n",
       "      <td>8</td>\n",
       "    </tr>\n",
       "    <tr>\n",
       "      <th>4</th>\n",
       "      <td>Изменить цвет фона главной страницы, чтобы увеличить вовлеченность пользователей</td>\n",
       "      <td>3</td>\n",
       "      <td>1</td>\n",
       "      <td>1</td>\n",
       "      <td>1</td>\n",
       "    </tr>\n",
       "    <tr>\n",
       "      <th>5</th>\n",
       "      <td>Добавить страницу отзывов клиентов о магазине, что позволит увеличить количество заказов</td>\n",
       "      <td>3</td>\n",
       "      <td>2</td>\n",
       "      <td>2</td>\n",
       "      <td>3</td>\n",
       "    </tr>\n",
       "    <tr>\n",
       "      <th>6</th>\n",
       "      <td>Показать на главной странице баннеры с актуальными акциями и распродажами, чтобы увеличить конверсию</td>\n",
       "      <td>5</td>\n",
       "      <td>3</td>\n",
       "      <td>8</td>\n",
       "      <td>3</td>\n",
       "    </tr>\n",
       "    <tr>\n",
       "      <th>7</th>\n",
       "      <td>Добавить форму подписки на все основные страницы, чтобы собрать базу клиентов для email-рассылок</td>\n",
       "      <td>10</td>\n",
       "      <td>7</td>\n",
       "      <td>8</td>\n",
       "      <td>5</td>\n",
       "    </tr>\n",
       "    <tr>\n",
       "      <th>8</th>\n",
       "      <td>Запустить акцию, дающую скидку на товар в день рождения</td>\n",
       "      <td>1</td>\n",
       "      <td>9</td>\n",
       "      <td>9</td>\n",
       "      <td>5</td>\n",
       "    </tr>\n",
       "  </tbody>\n",
       "</table>\n",
       "</div>"
      ],
      "text/plain": [
       "                                                                                                     Hypothesis  \\\n",
       "0            Добавить два новых канала привлечения трафика, что позволит привлекать на 30% больше пользователей   \n",
       "1                                     Запустить собственную службу доставки, что сократит срок доставки заказов   \n",
       "2  Добавить блоки рекомендаций товаров на сайт интернет магазина, чтобы повысить конверсию и средний чек заказа   \n",
       "3           Изменить структура категорий, что увеличит конверсию, т.к. пользователи быстрее найдут нужный товар   \n",
       "4                              Изменить цвет фона главной страницы, чтобы увеличить вовлеченность пользователей   \n",
       "5                      Добавить страницу отзывов клиентов о магазине, что позволит увеличить количество заказов   \n",
       "6          Показать на главной странице баннеры с актуальными акциями и распродажами, чтобы увеличить конверсию   \n",
       "7              Добавить форму подписки на все основные страницы, чтобы собрать базу клиентов для email-рассылок   \n",
       "8                                                       Запустить акцию, дающую скидку на товар в день рождения   \n",
       "\n",
       "   Reach  Impact  Confidence  Efforts  \n",
       "0      3      10           8        6  \n",
       "1      2       5           4       10  \n",
       "2      8       3           7        3  \n",
       "3      8       3           3        8  \n",
       "4      3       1           1        1  \n",
       "5      3       2           2        3  \n",
       "6      5       3           8        3  \n",
       "7     10       7           8        5  \n",
       "8      1       9           9        5  "
      ]
     },
     "metadata": {},
     "output_type": "display_data"
    },
    {
     "data": {
      "text/html": [
       "<div>\n",
       "<style scoped>\n",
       "    .dataframe tbody tr th:only-of-type {\n",
       "        vertical-align: middle;\n",
       "    }\n",
       "\n",
       "    .dataframe tbody tr th {\n",
       "        vertical-align: top;\n",
       "    }\n",
       "\n",
       "    .dataframe thead th {\n",
       "        text-align: right;\n",
       "    }\n",
       "</style>\n",
       "<table border=\"1\" class=\"dataframe\">\n",
       "  <thead>\n",
       "    <tr style=\"text-align: right;\">\n",
       "      <th></th>\n",
       "      <th>date</th>\n",
       "      <th>group</th>\n",
       "      <th>visitors</th>\n",
       "    </tr>\n",
       "  </thead>\n",
       "  <tbody>\n",
       "    <tr>\n",
       "      <th>0</th>\n",
       "      <td>2019-08-01</td>\n",
       "      <td>A</td>\n",
       "      <td>719</td>\n",
       "    </tr>\n",
       "    <tr>\n",
       "      <th>1</th>\n",
       "      <td>2019-08-02</td>\n",
       "      <td>A</td>\n",
       "      <td>619</td>\n",
       "    </tr>\n",
       "    <tr>\n",
       "      <th>2</th>\n",
       "      <td>2019-08-03</td>\n",
       "      <td>A</td>\n",
       "      <td>507</td>\n",
       "    </tr>\n",
       "    <tr>\n",
       "      <th>3</th>\n",
       "      <td>2019-08-04</td>\n",
       "      <td>A</td>\n",
       "      <td>717</td>\n",
       "    </tr>\n",
       "    <tr>\n",
       "      <th>4</th>\n",
       "      <td>2019-08-05</td>\n",
       "      <td>A</td>\n",
       "      <td>756</td>\n",
       "    </tr>\n",
       "  </tbody>\n",
       "</table>\n",
       "</div>"
      ],
      "text/plain": [
       "         date group  visitors\n",
       "0  2019-08-01     A       719\n",
       "1  2019-08-02     A       619\n",
       "2  2019-08-03     A       507\n",
       "3  2019-08-04     A       717\n",
       "4  2019-08-05     A       756"
      ]
     },
     "metadata": {},
     "output_type": "display_data"
    },
    {
     "data": {
      "text/html": [
       "<div>\n",
       "<style scoped>\n",
       "    .dataframe tbody tr th:only-of-type {\n",
       "        vertical-align: middle;\n",
       "    }\n",
       "\n",
       "    .dataframe tbody tr th {\n",
       "        vertical-align: top;\n",
       "    }\n",
       "\n",
       "    .dataframe thead th {\n",
       "        text-align: right;\n",
       "    }\n",
       "</style>\n",
       "<table border=\"1\" class=\"dataframe\">\n",
       "  <thead>\n",
       "    <tr style=\"text-align: right;\">\n",
       "      <th></th>\n",
       "      <th>transactionId</th>\n",
       "      <th>visitorId</th>\n",
       "      <th>date</th>\n",
       "      <th>revenue</th>\n",
       "      <th>group</th>\n",
       "    </tr>\n",
       "  </thead>\n",
       "  <tbody>\n",
       "    <tr>\n",
       "      <th>0</th>\n",
       "      <td>3667963787</td>\n",
       "      <td>3312258926</td>\n",
       "      <td>2019-08-15</td>\n",
       "      <td>1650</td>\n",
       "      <td>B</td>\n",
       "    </tr>\n",
       "    <tr>\n",
       "      <th>1</th>\n",
       "      <td>2804400009</td>\n",
       "      <td>3642806036</td>\n",
       "      <td>2019-08-15</td>\n",
       "      <td>730</td>\n",
       "      <td>B</td>\n",
       "    </tr>\n",
       "    <tr>\n",
       "      <th>2</th>\n",
       "      <td>2961555356</td>\n",
       "      <td>4069496402</td>\n",
       "      <td>2019-08-15</td>\n",
       "      <td>400</td>\n",
       "      <td>A</td>\n",
       "    </tr>\n",
       "    <tr>\n",
       "      <th>3</th>\n",
       "      <td>3797467345</td>\n",
       "      <td>1196621759</td>\n",
       "      <td>2019-08-15</td>\n",
       "      <td>9759</td>\n",
       "      <td>B</td>\n",
       "    </tr>\n",
       "    <tr>\n",
       "      <th>4</th>\n",
       "      <td>2282983706</td>\n",
       "      <td>2322279887</td>\n",
       "      <td>2019-08-15</td>\n",
       "      <td>2308</td>\n",
       "      <td>B</td>\n",
       "    </tr>\n",
       "  </tbody>\n",
       "</table>\n",
       "</div>"
      ],
      "text/plain": [
       "   transactionId   visitorId        date  revenue group\n",
       "0     3667963787  3312258926  2019-08-15     1650     B\n",
       "1     2804400009  3642806036  2019-08-15      730     B\n",
       "2     2961555356  4069496402  2019-08-15      400     A\n",
       "3     3797467345  1196621759  2019-08-15     9759     B\n",
       "4     2282983706  2322279887  2019-08-15     2308     B"
      ]
     },
     "metadata": {},
     "output_type": "display_data"
    }
   ],
   "source": [
    "hypothesis.info();\n",
    "print('- - - - - -')\n",
    "visitors.info();\n",
    "print('- - - - - -')\n",
    "orders.info()\n",
    "\n",
    "display(hypothesis.head(10))\n",
    "display(visitors.head())\n",
    "display(orders.head())"
   ]
  },
  {
   "cell_type": "markdown",
   "metadata": {},
   "source": [
    "**После загрузки данных:** \n",
    "- DF hypothesis, visitors, orders не имеют пропусков;\n",
    "- названия столбцов не соответствуют змеиному стилю;\n",
    "- есть некорректные типы данных в столбцах."
   ]
  },
  {
   "cell_type": "markdown",
   "metadata": {},
   "source": [
    "<h4>Предобработка данных</h4>"
   ]
  },
  {
   "cell_type": "code",
   "execution_count": 5,
   "metadata": {},
   "outputs": [],
   "source": [
    "# приведение названий столбцов к нижнему регистру\n",
    "hypothesis.columns = hypothesis.columns.str.lower()\n",
    "visitors.columns = visitors.columns.str.lower()\n",
    "orders.columns = orders.columns.str.lower()"
   ]
  },
  {
   "cell_type": "code",
   "execution_count": 6,
   "metadata": {},
   "outputs": [],
   "source": [
    "# приведение к нужному формату данных\n",
    "visitors['date'] = pd.to_datetime(visitors['date'])\n",
    "orders['date'] = pd.to_datetime(orders['date'])"
   ]
  },
  {
   "cell_type": "code",
   "execution_count": 7,
   "metadata": {},
   "outputs": [
    {
     "name": "stdout",
     "output_type": "stream",
     "text": [
      "Количество дубликатов в DF hypothesis: 0\n",
      "Количество дубликатов в DF visitors: 0\n",
      "Количество дубликатов в DF orders: 0\n",
      "\n",
      "Количество пропусков в DF hypothesis:\n",
      "\n",
      "hypothesis    0\n",
      "reach         0\n",
      "impact        0\n",
      "confidence    0\n",
      "efforts       0\n",
      "dtype: int64\n",
      "\n",
      "Количество пропусков в DF visitors:\n",
      "\n",
      "date        0\n",
      "group       0\n",
      "visitors    0\n",
      "dtype: int64\n",
      "\n",
      "Количество пропусков в DF orders:\n",
      "\n",
      "transactionid    0\n",
      "visitorid        0\n",
      "date             0\n",
      "revenue          0\n",
      "group            0\n",
      "dtype: int64\n"
     ]
    }
   ],
   "source": [
    "print('Количество дубликатов в DF hypothesis:', hypothesis.duplicated().sum())\n",
    "print('Количество дубликатов в DF visitors:', visitors.duplicated().sum())\n",
    "print('Количество дубликатов в DF orders:', orders.duplicated().sum())\n",
    "print()\n",
    "print('Количество пропусков в DF hypothesis:\\n')\n",
    "print(hypothesis.isnull().sum().sort_values())\n",
    "print()\n",
    "print('Количество пропусков в DF visitors:\\n')\n",
    "print(visitors.isnull().sum().sort_values())\n",
    "print()\n",
    "print('Количество пропусков в DF orders:\\n')\n",
    "print(orders.isnull().sum().sort_values())"
   ]
  },
  {
   "cell_type": "code",
   "execution_count": 8,
   "metadata": {},
   "outputs": [
    {
     "name": "stdout",
     "output_type": "stream",
     "text": [
      "<class 'pandas.core.frame.DataFrame'>\n",
      "RangeIndex: 9 entries, 0 to 8\n",
      "Data columns (total 5 columns):\n",
      " #   Column      Non-Null Count  Dtype \n",
      "---  ------      --------------  ----- \n",
      " 0   hypothesis  9 non-null      object\n",
      " 1   reach       9 non-null      int64 \n",
      " 2   impact      9 non-null      int64 \n",
      " 3   confidence  9 non-null      int64 \n",
      " 4   efforts     9 non-null      int64 \n",
      "dtypes: int64(4), object(1)\n",
      "memory usage: 488.0+ bytes\n",
      "- - - - - -\n",
      "<class 'pandas.core.frame.DataFrame'>\n",
      "RangeIndex: 62 entries, 0 to 61\n",
      "Data columns (total 3 columns):\n",
      " #   Column    Non-Null Count  Dtype         \n",
      "---  ------    --------------  -----         \n",
      " 0   date      62 non-null     datetime64[ns]\n",
      " 1   group     62 non-null     object        \n",
      " 2   visitors  62 non-null     int64         \n",
      "dtypes: datetime64[ns](1), int64(1), object(1)\n",
      "memory usage: 1.6+ KB\n",
      "- - - - - -\n",
      "<class 'pandas.core.frame.DataFrame'>\n",
      "RangeIndex: 1197 entries, 0 to 1196\n",
      "Data columns (total 5 columns):\n",
      " #   Column         Non-Null Count  Dtype         \n",
      "---  ------         --------------  -----         \n",
      " 0   transactionid  1197 non-null   int64         \n",
      " 1   visitorid      1197 non-null   int64         \n",
      " 2   date           1197 non-null   datetime64[ns]\n",
      " 3   revenue        1197 non-null   int64         \n",
      " 4   group          1197 non-null   object        \n",
      "dtypes: datetime64[ns](1), int64(3), object(1)\n",
      "memory usage: 46.9+ KB\n"
     ]
    },
    {
     "data": {
      "text/html": [
       "<div>\n",
       "<style scoped>\n",
       "    .dataframe tbody tr th:only-of-type {\n",
       "        vertical-align: middle;\n",
       "    }\n",
       "\n",
       "    .dataframe tbody tr th {\n",
       "        vertical-align: top;\n",
       "    }\n",
       "\n",
       "    .dataframe thead th {\n",
       "        text-align: right;\n",
       "    }\n",
       "</style>\n",
       "<table border=\"1\" class=\"dataframe\">\n",
       "  <thead>\n",
       "    <tr style=\"text-align: right;\">\n",
       "      <th></th>\n",
       "      <th>hypothesis</th>\n",
       "      <th>reach</th>\n",
       "      <th>impact</th>\n",
       "      <th>confidence</th>\n",
       "      <th>efforts</th>\n",
       "    </tr>\n",
       "  </thead>\n",
       "  <tbody>\n",
       "    <tr>\n",
       "      <th>0</th>\n",
       "      <td>Добавить два новых канала привлечения трафика, что позволит привлекать на 30% больше пользователей</td>\n",
       "      <td>3</td>\n",
       "      <td>10</td>\n",
       "      <td>8</td>\n",
       "      <td>6</td>\n",
       "    </tr>\n",
       "    <tr>\n",
       "      <th>1</th>\n",
       "      <td>Запустить собственную службу доставки, что сократит срок доставки заказов</td>\n",
       "      <td>2</td>\n",
       "      <td>5</td>\n",
       "      <td>4</td>\n",
       "      <td>10</td>\n",
       "    </tr>\n",
       "    <tr>\n",
       "      <th>2</th>\n",
       "      <td>Добавить блоки рекомендаций товаров на сайт интернет магазина, чтобы повысить конверсию и средний чек заказа</td>\n",
       "      <td>8</td>\n",
       "      <td>3</td>\n",
       "      <td>7</td>\n",
       "      <td>3</td>\n",
       "    </tr>\n",
       "    <tr>\n",
       "      <th>3</th>\n",
       "      <td>Изменить структура категорий, что увеличит конверсию, т.к. пользователи быстрее найдут нужный товар</td>\n",
       "      <td>8</td>\n",
       "      <td>3</td>\n",
       "      <td>3</td>\n",
       "      <td>8</td>\n",
       "    </tr>\n",
       "    <tr>\n",
       "      <th>4</th>\n",
       "      <td>Изменить цвет фона главной страницы, чтобы увеличить вовлеченность пользователей</td>\n",
       "      <td>3</td>\n",
       "      <td>1</td>\n",
       "      <td>1</td>\n",
       "      <td>1</td>\n",
       "    </tr>\n",
       "    <tr>\n",
       "      <th>5</th>\n",
       "      <td>Добавить страницу отзывов клиентов о магазине, что позволит увеличить количество заказов</td>\n",
       "      <td>3</td>\n",
       "      <td>2</td>\n",
       "      <td>2</td>\n",
       "      <td>3</td>\n",
       "    </tr>\n",
       "    <tr>\n",
       "      <th>6</th>\n",
       "      <td>Показать на главной странице баннеры с актуальными акциями и распродажами, чтобы увеличить конверсию</td>\n",
       "      <td>5</td>\n",
       "      <td>3</td>\n",
       "      <td>8</td>\n",
       "      <td>3</td>\n",
       "    </tr>\n",
       "    <tr>\n",
       "      <th>7</th>\n",
       "      <td>Добавить форму подписки на все основные страницы, чтобы собрать базу клиентов для email-рассылок</td>\n",
       "      <td>10</td>\n",
       "      <td>7</td>\n",
       "      <td>8</td>\n",
       "      <td>5</td>\n",
       "    </tr>\n",
       "    <tr>\n",
       "      <th>8</th>\n",
       "      <td>Запустить акцию, дающую скидку на товар в день рождения</td>\n",
       "      <td>1</td>\n",
       "      <td>9</td>\n",
       "      <td>9</td>\n",
       "      <td>5</td>\n",
       "    </tr>\n",
       "  </tbody>\n",
       "</table>\n",
       "</div>"
      ],
      "text/plain": [
       "                                                                                                     hypothesis  \\\n",
       "0            Добавить два новых канала привлечения трафика, что позволит привлекать на 30% больше пользователей   \n",
       "1                                     Запустить собственную службу доставки, что сократит срок доставки заказов   \n",
       "2  Добавить блоки рекомендаций товаров на сайт интернет магазина, чтобы повысить конверсию и средний чек заказа   \n",
       "3           Изменить структура категорий, что увеличит конверсию, т.к. пользователи быстрее найдут нужный товар   \n",
       "4                              Изменить цвет фона главной страницы, чтобы увеличить вовлеченность пользователей   \n",
       "5                      Добавить страницу отзывов клиентов о магазине, что позволит увеличить количество заказов   \n",
       "6          Показать на главной странице баннеры с актуальными акциями и распродажами, чтобы увеличить конверсию   \n",
       "7              Добавить форму подписки на все основные страницы, чтобы собрать базу клиентов для email-рассылок   \n",
       "8                                                       Запустить акцию, дающую скидку на товар в день рождения   \n",
       "\n",
       "   reach  impact  confidence  efforts  \n",
       "0      3      10           8        6  \n",
       "1      2       5           4       10  \n",
       "2      8       3           7        3  \n",
       "3      8       3           3        8  \n",
       "4      3       1           1        1  \n",
       "5      3       2           2        3  \n",
       "6      5       3           8        3  \n",
       "7     10       7           8        5  \n",
       "8      1       9           9        5  "
      ]
     },
     "metadata": {},
     "output_type": "display_data"
    },
    {
     "data": {
      "text/html": [
       "<div>\n",
       "<style scoped>\n",
       "    .dataframe tbody tr th:only-of-type {\n",
       "        vertical-align: middle;\n",
       "    }\n",
       "\n",
       "    .dataframe tbody tr th {\n",
       "        vertical-align: top;\n",
       "    }\n",
       "\n",
       "    .dataframe thead th {\n",
       "        text-align: right;\n",
       "    }\n",
       "</style>\n",
       "<table border=\"1\" class=\"dataframe\">\n",
       "  <thead>\n",
       "    <tr style=\"text-align: right;\">\n",
       "      <th></th>\n",
       "      <th>date</th>\n",
       "      <th>group</th>\n",
       "      <th>visitors</th>\n",
       "    </tr>\n",
       "  </thead>\n",
       "  <tbody>\n",
       "    <tr>\n",
       "      <th>0</th>\n",
       "      <td>2019-08-01</td>\n",
       "      <td>A</td>\n",
       "      <td>719</td>\n",
       "    </tr>\n",
       "    <tr>\n",
       "      <th>1</th>\n",
       "      <td>2019-08-02</td>\n",
       "      <td>A</td>\n",
       "      <td>619</td>\n",
       "    </tr>\n",
       "    <tr>\n",
       "      <th>2</th>\n",
       "      <td>2019-08-03</td>\n",
       "      <td>A</td>\n",
       "      <td>507</td>\n",
       "    </tr>\n",
       "    <tr>\n",
       "      <th>3</th>\n",
       "      <td>2019-08-04</td>\n",
       "      <td>A</td>\n",
       "      <td>717</td>\n",
       "    </tr>\n",
       "    <tr>\n",
       "      <th>4</th>\n",
       "      <td>2019-08-05</td>\n",
       "      <td>A</td>\n",
       "      <td>756</td>\n",
       "    </tr>\n",
       "  </tbody>\n",
       "</table>\n",
       "</div>"
      ],
      "text/plain": [
       "        date group  visitors\n",
       "0 2019-08-01     A       719\n",
       "1 2019-08-02     A       619\n",
       "2 2019-08-03     A       507\n",
       "3 2019-08-04     A       717\n",
       "4 2019-08-05     A       756"
      ]
     },
     "metadata": {},
     "output_type": "display_data"
    },
    {
     "data": {
      "text/html": [
       "<div>\n",
       "<style scoped>\n",
       "    .dataframe tbody tr th:only-of-type {\n",
       "        vertical-align: middle;\n",
       "    }\n",
       "\n",
       "    .dataframe tbody tr th {\n",
       "        vertical-align: top;\n",
       "    }\n",
       "\n",
       "    .dataframe thead th {\n",
       "        text-align: right;\n",
       "    }\n",
       "</style>\n",
       "<table border=\"1\" class=\"dataframe\">\n",
       "  <thead>\n",
       "    <tr style=\"text-align: right;\">\n",
       "      <th></th>\n",
       "      <th>transactionid</th>\n",
       "      <th>visitorid</th>\n",
       "      <th>date</th>\n",
       "      <th>revenue</th>\n",
       "      <th>group</th>\n",
       "    </tr>\n",
       "  </thead>\n",
       "  <tbody>\n",
       "    <tr>\n",
       "      <th>0</th>\n",
       "      <td>3667963787</td>\n",
       "      <td>3312258926</td>\n",
       "      <td>2019-08-15</td>\n",
       "      <td>1650</td>\n",
       "      <td>B</td>\n",
       "    </tr>\n",
       "    <tr>\n",
       "      <th>1</th>\n",
       "      <td>2804400009</td>\n",
       "      <td>3642806036</td>\n",
       "      <td>2019-08-15</td>\n",
       "      <td>730</td>\n",
       "      <td>B</td>\n",
       "    </tr>\n",
       "    <tr>\n",
       "      <th>2</th>\n",
       "      <td>2961555356</td>\n",
       "      <td>4069496402</td>\n",
       "      <td>2019-08-15</td>\n",
       "      <td>400</td>\n",
       "      <td>A</td>\n",
       "    </tr>\n",
       "    <tr>\n",
       "      <th>3</th>\n",
       "      <td>3797467345</td>\n",
       "      <td>1196621759</td>\n",
       "      <td>2019-08-15</td>\n",
       "      <td>9759</td>\n",
       "      <td>B</td>\n",
       "    </tr>\n",
       "    <tr>\n",
       "      <th>4</th>\n",
       "      <td>2282983706</td>\n",
       "      <td>2322279887</td>\n",
       "      <td>2019-08-15</td>\n",
       "      <td>2308</td>\n",
       "      <td>B</td>\n",
       "    </tr>\n",
       "  </tbody>\n",
       "</table>\n",
       "</div>"
      ],
      "text/plain": [
       "   transactionid   visitorid       date  revenue group\n",
       "0     3667963787  3312258926 2019-08-15     1650     B\n",
       "1     2804400009  3642806036 2019-08-15      730     B\n",
       "2     2961555356  4069496402 2019-08-15      400     A\n",
       "3     3797467345  1196621759 2019-08-15     9759     B\n",
       "4     2282983706  2322279887 2019-08-15     2308     B"
      ]
     },
     "metadata": {},
     "output_type": "display_data"
    }
   ],
   "source": [
    "hypothesis.info();\n",
    "print('- - - - - -')\n",
    "visitors.info();\n",
    "print('- - - - - -')\n",
    "orders.info()\n",
    "\n",
    "display(hypothesis.head(10))\n",
    "display(visitors.head())\n",
    "display(orders.head())"
   ]
  },
  {
   "cell_type": "markdown",
   "metadata": {},
   "source": [
    "**Корректность разбиения пользователей на группы:** "
   ]
  },
  {
   "cell_type": "code",
   "execution_count": 9,
   "metadata": {},
   "outputs": [
    {
     "name": "stdout",
     "output_type": "stream",
     "text": [
      "Общее количество пользователей теста: 1197\n",
      "Количество пользователей в обеих группах: 58\n"
     ]
    }
   ],
   "source": [
    "# np.intersect1d - эта функция возвращает только те элементы, которые присутствуют и в первом массиве, и во втором массиве\n",
    "users_in_both_groups = np.intersect1d(orders[orders['group'] =='A']['visitorid'].unique(), orders[orders['group'] =='B']['visitorid'].unique())\n",
    "\n",
    "print('Общее количество пользователей теста:', len(orders['visitorid']))\n",
    "print('Количество пользователей в обеих группах:', len(users_in_both_groups))"
   ]
  },
  {
   "cell_type": "code",
   "execution_count": 10,
   "metadata": {},
   "outputs": [
    {
     "name": "stdout",
     "output_type": "stream",
     "text": [
      "Количество пользователей в после удаления пользователей попавших в обе группы: 1016\n"
     ]
    }
   ],
   "source": [
    "# Удаление пользователей вошедших в обе группы теста\n",
    "orders = orders[np.logical_not(orders['visitorid'].isin(users_in_both_groups))]\n",
    "\n",
    "print('Количество пользователей в после удаления пользователей попавших в обе группы:', len(orders['visitorid']))"
   ]
  },
  {
   "cell_type": "markdown",
   "metadata": {},
   "source": [
    "**После предобработки данных:** \n",
    "- проверено, что DF hypothesis, visitors, orders не имеют пропусков и дубликатов;\n",
    "- названия столбцов приведены к змеиному стилю (убраны заглавные буквы в названиях);\n",
    "- изменен тип данных для столбцов с датами на datetime;\n",
    "- удалены пользователи попавшие в обе группы теста, их количество - 58;\n",
    "- данные готовы к дальнейшему анализу."
   ]
  },
  {
   "cell_type": "markdown",
   "metadata": {},
   "source": [
    "### Приоритизация гипотез"
   ]
  },
  {
   "cell_type": "markdown",
   "metadata": {},
   "source": [
    "<h4>Применение фреймворка ICE для приоритизации гипотез. Сортировка гипотез по убыванию приоритета</h4>"
   ]
  },
  {
   "cell_type": "code",
   "execution_count": 11,
   "metadata": {},
   "outputs": [
    {
     "data": {
      "text/html": [
       "<div>\n",
       "<style scoped>\n",
       "    .dataframe tbody tr th:only-of-type {\n",
       "        vertical-align: middle;\n",
       "    }\n",
       "\n",
       "    .dataframe tbody tr th {\n",
       "        vertical-align: top;\n",
       "    }\n",
       "\n",
       "    .dataframe thead th {\n",
       "        text-align: right;\n",
       "    }\n",
       "</style>\n",
       "<table border=\"1\" class=\"dataframe\">\n",
       "  <thead>\n",
       "    <tr style=\"text-align: right;\">\n",
       "      <th></th>\n",
       "      <th>hypothesis</th>\n",
       "      <th>ice</th>\n",
       "    </tr>\n",
       "  </thead>\n",
       "  <tbody>\n",
       "    <tr>\n",
       "      <th>8</th>\n",
       "      <td>Запустить акцию, дающую скидку на товар в день рождения</td>\n",
       "      <td>16.0</td>\n",
       "    </tr>\n",
       "    <tr>\n",
       "      <th>0</th>\n",
       "      <td>Добавить два новых канала привлечения трафика, что позволит привлекать на 30% больше пользователей</td>\n",
       "      <td>13.0</td>\n",
       "    </tr>\n",
       "    <tr>\n",
       "      <th>7</th>\n",
       "      <td>Добавить форму подписки на все основные страницы, чтобы собрать базу клиентов для email-рассылок</td>\n",
       "      <td>11.0</td>\n",
       "    </tr>\n",
       "    <tr>\n",
       "      <th>6</th>\n",
       "      <td>Показать на главной странице баннеры с актуальными акциями и распродажами, чтобы увеличить конверсию</td>\n",
       "      <td>8.0</td>\n",
       "    </tr>\n",
       "    <tr>\n",
       "      <th>2</th>\n",
       "      <td>Добавить блоки рекомендаций товаров на сайт интернет магазина, чтобы повысить конверсию и средний чек заказа</td>\n",
       "      <td>7.0</td>\n",
       "    </tr>\n",
       "    <tr>\n",
       "      <th>1</th>\n",
       "      <td>Запустить собственную службу доставки, что сократит срок доставки заказов</td>\n",
       "      <td>2.0</td>\n",
       "    </tr>\n",
       "    <tr>\n",
       "      <th>5</th>\n",
       "      <td>Добавить страницу отзывов клиентов о магазине, что позволит увеличить количество заказов</td>\n",
       "      <td>1.0</td>\n",
       "    </tr>\n",
       "    <tr>\n",
       "      <th>3</th>\n",
       "      <td>Изменить структура категорий, что увеличит конверсию, т.к. пользователи быстрее найдут нужный товар</td>\n",
       "      <td>1.0</td>\n",
       "    </tr>\n",
       "    <tr>\n",
       "      <th>4</th>\n",
       "      <td>Изменить цвет фона главной страницы, чтобы увеличить вовлеченность пользователей</td>\n",
       "      <td>1.0</td>\n",
       "    </tr>\n",
       "  </tbody>\n",
       "</table>\n",
       "</div>"
      ],
      "text/plain": [
       "                                                                                                     hypothesis  \\\n",
       "8                                                       Запустить акцию, дающую скидку на товар в день рождения   \n",
       "0            Добавить два новых канала привлечения трафика, что позволит привлекать на 30% больше пользователей   \n",
       "7              Добавить форму подписки на все основные страницы, чтобы собрать базу клиентов для email-рассылок   \n",
       "6          Показать на главной странице баннеры с актуальными акциями и распродажами, чтобы увеличить конверсию   \n",
       "2  Добавить блоки рекомендаций товаров на сайт интернет магазина, чтобы повысить конверсию и средний чек заказа   \n",
       "1                                     Запустить собственную службу доставки, что сократит срок доставки заказов   \n",
       "5                      Добавить страницу отзывов клиентов о магазине, что позволит увеличить количество заказов   \n",
       "3           Изменить структура категорий, что увеличит конверсию, т.к. пользователи быстрее найдут нужный товар   \n",
       "4                              Изменить цвет фона главной страницы, чтобы увеличить вовлеченность пользователей   \n",
       "\n",
       "    ice  \n",
       "8  16.0  \n",
       "0  13.0  \n",
       "7  11.0  \n",
       "6   8.0  \n",
       "2   7.0  \n",
       "1   2.0  \n",
       "5   1.0  \n",
       "3   1.0  \n",
       "4   1.0  "
      ]
     },
     "execution_count": 11,
     "metadata": {},
     "output_type": "execute_result"
    }
   ],
   "source": [
    "# расчет ICE\n",
    "hypothesis['ice'] = (hypothesis['impact']*hypothesis['confidence'])/hypothesis['efforts']\n",
    "hypothesis[['hypothesis', 'ice']].sort_values(by='ice', ascending=False).round()"
   ]
  },
  {
   "cell_type": "markdown",
   "metadata": {},
   "source": [
    "<h4>Применение фреймворка RICE для приоритизации гипотез. Сортировка гипотез по убыванию приоритета</h4>"
   ]
  },
  {
   "cell_type": "code",
   "execution_count": 12,
   "metadata": {},
   "outputs": [
    {
     "data": {
      "text/html": [
       "<div>\n",
       "<style scoped>\n",
       "    .dataframe tbody tr th:only-of-type {\n",
       "        vertical-align: middle;\n",
       "    }\n",
       "\n",
       "    .dataframe tbody tr th {\n",
       "        vertical-align: top;\n",
       "    }\n",
       "\n",
       "    .dataframe thead th {\n",
       "        text-align: right;\n",
       "    }\n",
       "</style>\n",
       "<table border=\"1\" class=\"dataframe\">\n",
       "  <thead>\n",
       "    <tr style=\"text-align: right;\">\n",
       "      <th></th>\n",
       "      <th>hypothesis</th>\n",
       "      <th>rice</th>\n",
       "    </tr>\n",
       "  </thead>\n",
       "  <tbody>\n",
       "    <tr>\n",
       "      <th>7</th>\n",
       "      <td>Добавить форму подписки на все основные страницы, чтобы собрать базу клиентов для email-рассылок</td>\n",
       "      <td>112.0</td>\n",
       "    </tr>\n",
       "    <tr>\n",
       "      <th>2</th>\n",
       "      <td>Добавить блоки рекомендаций товаров на сайт интернет магазина, чтобы повысить конверсию и средний чек заказа</td>\n",
       "      <td>56.0</td>\n",
       "    </tr>\n",
       "    <tr>\n",
       "      <th>0</th>\n",
       "      <td>Добавить два новых канала привлечения трафика, что позволит привлекать на 30% больше пользователей</td>\n",
       "      <td>40.0</td>\n",
       "    </tr>\n",
       "    <tr>\n",
       "      <th>6</th>\n",
       "      <td>Показать на главной странице баннеры с актуальными акциями и распродажами, чтобы увеличить конверсию</td>\n",
       "      <td>40.0</td>\n",
       "    </tr>\n",
       "    <tr>\n",
       "      <th>8</th>\n",
       "      <td>Запустить акцию, дающую скидку на товар в день рождения</td>\n",
       "      <td>16.2</td>\n",
       "    </tr>\n",
       "    <tr>\n",
       "      <th>3</th>\n",
       "      <td>Изменить структура категорий, что увеличит конверсию, т.к. пользователи быстрее найдут нужный товар</td>\n",
       "      <td>9.0</td>\n",
       "    </tr>\n",
       "    <tr>\n",
       "      <th>1</th>\n",
       "      <td>Запустить собственную службу доставки, что сократит срок доставки заказов</td>\n",
       "      <td>4.0</td>\n",
       "    </tr>\n",
       "    <tr>\n",
       "      <th>5</th>\n",
       "      <td>Добавить страницу отзывов клиентов о магазине, что позволит увеличить количество заказов</td>\n",
       "      <td>4.0</td>\n",
       "    </tr>\n",
       "    <tr>\n",
       "      <th>4</th>\n",
       "      <td>Изменить цвет фона главной страницы, чтобы увеличить вовлеченность пользователей</td>\n",
       "      <td>3.0</td>\n",
       "    </tr>\n",
       "  </tbody>\n",
       "</table>\n",
       "</div>"
      ],
      "text/plain": [
       "                                                                                                     hypothesis  \\\n",
       "7              Добавить форму подписки на все основные страницы, чтобы собрать базу клиентов для email-рассылок   \n",
       "2  Добавить блоки рекомендаций товаров на сайт интернет магазина, чтобы повысить конверсию и средний чек заказа   \n",
       "0            Добавить два новых канала привлечения трафика, что позволит привлекать на 30% больше пользователей   \n",
       "6          Показать на главной странице баннеры с актуальными акциями и распродажами, чтобы увеличить конверсию   \n",
       "8                                                       Запустить акцию, дающую скидку на товар в день рождения   \n",
       "3           Изменить структура категорий, что увеличит конверсию, т.к. пользователи быстрее найдут нужный товар   \n",
       "1                                     Запустить собственную службу доставки, что сократит срок доставки заказов   \n",
       "5                      Добавить страницу отзывов клиентов о магазине, что позволит увеличить количество заказов   \n",
       "4                              Изменить цвет фона главной страницы, чтобы увеличить вовлеченность пользователей   \n",
       "\n",
       "    rice  \n",
       "7  112.0  \n",
       "2   56.0  \n",
       "0   40.0  \n",
       "6   40.0  \n",
       "8   16.2  \n",
       "3    9.0  \n",
       "1    4.0  \n",
       "5    4.0  \n",
       "4    3.0  "
      ]
     },
     "execution_count": 12,
     "metadata": {},
     "output_type": "execute_result"
    }
   ],
   "source": [
    "# расчет RICE\n",
    "hypothesis['rice'] = (hypothesis['reach']*hypothesis['impact']*hypothesis['confidence'])/hypothesis['efforts']\n",
    "hypothesis[['hypothesis', 'rice']].sort_values(by='rice', ascending=False)"
   ]
  },
  {
   "cell_type": "markdown",
   "metadata": {},
   "source": [
    "<h4>Изменение приоритизации гипотез при использовании RICE вместо ICE</h4>"
   ]
  },
  {
   "cell_type": "code",
   "execution_count": 13,
   "metadata": {
    "scrolled": true
   },
   "outputs": [
    {
     "data": {
      "text/html": [
       "<style  type=\"text/css\" >\n",
       "#T_be07a_row0_col6,#T_be07a_row4_col5{\n",
       "            color: white;\n",
       "            background-color: orange;\n",
       "        }</style><table id=\"T_be07a_\" ><thead>    <tr>        <th class=\"blank level0\" ></th>        <th class=\"col_heading level0 col0\" >hypothesis</th>        <th class=\"col_heading level0 col1\" >reach</th>        <th class=\"col_heading level0 col2\" >impact</th>        <th class=\"col_heading level0 col3\" >confidence</th>        <th class=\"col_heading level0 col4\" >efforts</th>        <th class=\"col_heading level0 col5\" >ice</th>        <th class=\"col_heading level0 col6\" >rice</th>    </tr></thead><tbody>\n",
       "                <tr>\n",
       "                        <th id=\"T_be07a_level0_row0\" class=\"row_heading level0 row0\" >7</th>\n",
       "                        <td id=\"T_be07a_row0_col0\" class=\"data row0 col0\" >Добавить форму подписки на все основные страницы, чтобы собрать базу клиентов для email-рассылок</td>\n",
       "                        <td id=\"T_be07a_row0_col1\" class=\"data row0 col1\" >10</td>\n",
       "                        <td id=\"T_be07a_row0_col2\" class=\"data row0 col2\" >7</td>\n",
       "                        <td id=\"T_be07a_row0_col3\" class=\"data row0 col3\" >8</td>\n",
       "                        <td id=\"T_be07a_row0_col4\" class=\"data row0 col4\" >5</td>\n",
       "                        <td id=\"T_be07a_row0_col5\" class=\"data row0 col5\" >11.20</td>\n",
       "                        <td id=\"T_be07a_row0_col6\" class=\"data row0 col6\" >112.00</td>\n",
       "            </tr>\n",
       "            <tr>\n",
       "                        <th id=\"T_be07a_level0_row1\" class=\"row_heading level0 row1\" >2</th>\n",
       "                        <td id=\"T_be07a_row1_col0\" class=\"data row1 col0\" >Добавить блоки рекомендаций товаров на сайт интернет магазина, чтобы повысить конверсию и средний чек заказа</td>\n",
       "                        <td id=\"T_be07a_row1_col1\" class=\"data row1 col1\" >8</td>\n",
       "                        <td id=\"T_be07a_row1_col2\" class=\"data row1 col2\" >3</td>\n",
       "                        <td id=\"T_be07a_row1_col3\" class=\"data row1 col3\" >7</td>\n",
       "                        <td id=\"T_be07a_row1_col4\" class=\"data row1 col4\" >3</td>\n",
       "                        <td id=\"T_be07a_row1_col5\" class=\"data row1 col5\" >7.00</td>\n",
       "                        <td id=\"T_be07a_row1_col6\" class=\"data row1 col6\" >56.00</td>\n",
       "            </tr>\n",
       "            <tr>\n",
       "                        <th id=\"T_be07a_level0_row2\" class=\"row_heading level0 row2\" >0</th>\n",
       "                        <td id=\"T_be07a_row2_col0\" class=\"data row2 col0\" >Добавить два новых канала привлечения трафика, что позволит привлекать на 30% больше пользователей</td>\n",
       "                        <td id=\"T_be07a_row2_col1\" class=\"data row2 col1\" >3</td>\n",
       "                        <td id=\"T_be07a_row2_col2\" class=\"data row2 col2\" >10</td>\n",
       "                        <td id=\"T_be07a_row2_col3\" class=\"data row2 col3\" >8</td>\n",
       "                        <td id=\"T_be07a_row2_col4\" class=\"data row2 col4\" >6</td>\n",
       "                        <td id=\"T_be07a_row2_col5\" class=\"data row2 col5\" >13.33</td>\n",
       "                        <td id=\"T_be07a_row2_col6\" class=\"data row2 col6\" >40.00</td>\n",
       "            </tr>\n",
       "            <tr>\n",
       "                        <th id=\"T_be07a_level0_row3\" class=\"row_heading level0 row3\" >6</th>\n",
       "                        <td id=\"T_be07a_row3_col0\" class=\"data row3 col0\" >Показать на главной странице баннеры с актуальными акциями и распродажами, чтобы увеличить конверсию</td>\n",
       "                        <td id=\"T_be07a_row3_col1\" class=\"data row3 col1\" >5</td>\n",
       "                        <td id=\"T_be07a_row3_col2\" class=\"data row3 col2\" >3</td>\n",
       "                        <td id=\"T_be07a_row3_col3\" class=\"data row3 col3\" >8</td>\n",
       "                        <td id=\"T_be07a_row3_col4\" class=\"data row3 col4\" >3</td>\n",
       "                        <td id=\"T_be07a_row3_col5\" class=\"data row3 col5\" >8.00</td>\n",
       "                        <td id=\"T_be07a_row3_col6\" class=\"data row3 col6\" >40.00</td>\n",
       "            </tr>\n",
       "            <tr>\n",
       "                        <th id=\"T_be07a_level0_row4\" class=\"row_heading level0 row4\" >8</th>\n",
       "                        <td id=\"T_be07a_row4_col0\" class=\"data row4 col0\" >Запустить акцию, дающую скидку на товар в день рождения</td>\n",
       "                        <td id=\"T_be07a_row4_col1\" class=\"data row4 col1\" >1</td>\n",
       "                        <td id=\"T_be07a_row4_col2\" class=\"data row4 col2\" >9</td>\n",
       "                        <td id=\"T_be07a_row4_col3\" class=\"data row4 col3\" >9</td>\n",
       "                        <td id=\"T_be07a_row4_col4\" class=\"data row4 col4\" >5</td>\n",
       "                        <td id=\"T_be07a_row4_col5\" class=\"data row4 col5\" >16.20</td>\n",
       "                        <td id=\"T_be07a_row4_col6\" class=\"data row4 col6\" >16.20</td>\n",
       "            </tr>\n",
       "            <tr>\n",
       "                        <th id=\"T_be07a_level0_row5\" class=\"row_heading level0 row5\" >3</th>\n",
       "                        <td id=\"T_be07a_row5_col0\" class=\"data row5 col0\" >Изменить структура категорий, что увеличит конверсию, т.к. пользователи быстрее найдут нужный товар</td>\n",
       "                        <td id=\"T_be07a_row5_col1\" class=\"data row5 col1\" >8</td>\n",
       "                        <td id=\"T_be07a_row5_col2\" class=\"data row5 col2\" >3</td>\n",
       "                        <td id=\"T_be07a_row5_col3\" class=\"data row5 col3\" >3</td>\n",
       "                        <td id=\"T_be07a_row5_col4\" class=\"data row5 col4\" >8</td>\n",
       "                        <td id=\"T_be07a_row5_col5\" class=\"data row5 col5\" >1.12</td>\n",
       "                        <td id=\"T_be07a_row5_col6\" class=\"data row5 col6\" >9.00</td>\n",
       "            </tr>\n",
       "            <tr>\n",
       "                        <th id=\"T_be07a_level0_row6\" class=\"row_heading level0 row6\" >1</th>\n",
       "                        <td id=\"T_be07a_row6_col0\" class=\"data row6 col0\" >Запустить собственную службу доставки, что сократит срок доставки заказов</td>\n",
       "                        <td id=\"T_be07a_row6_col1\" class=\"data row6 col1\" >2</td>\n",
       "                        <td id=\"T_be07a_row6_col2\" class=\"data row6 col2\" >5</td>\n",
       "                        <td id=\"T_be07a_row6_col3\" class=\"data row6 col3\" >4</td>\n",
       "                        <td id=\"T_be07a_row6_col4\" class=\"data row6 col4\" >10</td>\n",
       "                        <td id=\"T_be07a_row6_col5\" class=\"data row6 col5\" >2.00</td>\n",
       "                        <td id=\"T_be07a_row6_col6\" class=\"data row6 col6\" >4.00</td>\n",
       "            </tr>\n",
       "            <tr>\n",
       "                        <th id=\"T_be07a_level0_row7\" class=\"row_heading level0 row7\" >5</th>\n",
       "                        <td id=\"T_be07a_row7_col0\" class=\"data row7 col0\" >Добавить страницу отзывов клиентов о магазине, что позволит увеличить количество заказов</td>\n",
       "                        <td id=\"T_be07a_row7_col1\" class=\"data row7 col1\" >3</td>\n",
       "                        <td id=\"T_be07a_row7_col2\" class=\"data row7 col2\" >2</td>\n",
       "                        <td id=\"T_be07a_row7_col3\" class=\"data row7 col3\" >2</td>\n",
       "                        <td id=\"T_be07a_row7_col4\" class=\"data row7 col4\" >3</td>\n",
       "                        <td id=\"T_be07a_row7_col5\" class=\"data row7 col5\" >1.33</td>\n",
       "                        <td id=\"T_be07a_row7_col6\" class=\"data row7 col6\" >4.00</td>\n",
       "            </tr>\n",
       "            <tr>\n",
       "                        <th id=\"T_be07a_level0_row8\" class=\"row_heading level0 row8\" >4</th>\n",
       "                        <td id=\"T_be07a_row8_col0\" class=\"data row8 col0\" >Изменить цвет фона главной страницы, чтобы увеличить вовлеченность пользователей</td>\n",
       "                        <td id=\"T_be07a_row8_col1\" class=\"data row8 col1\" >3</td>\n",
       "                        <td id=\"T_be07a_row8_col2\" class=\"data row8 col2\" >1</td>\n",
       "                        <td id=\"T_be07a_row8_col3\" class=\"data row8 col3\" >1</td>\n",
       "                        <td id=\"T_be07a_row8_col4\" class=\"data row8 col4\" >1</td>\n",
       "                        <td id=\"T_be07a_row8_col5\" class=\"data row8 col5\" >1.00</td>\n",
       "                        <td id=\"T_be07a_row8_col6\" class=\"data row8 col6\" >3.00</td>\n",
       "            </tr>\n",
       "    </tbody></table>"
      ],
      "text/plain": [
       "<pandas.io.formats.style.Styler at 0x7fece602d9a0>"
      ]
     },
     "execution_count": 13,
     "metadata": {},
     "output_type": "execute_result"
    }
   ],
   "source": [
    "# Сортировка по RICE\n",
    "hypothesis = hypothesis.sort_values(by='rice', ascending=False)\n",
    "\n",
    "# Функция для выделения максимального значения\n",
    "def highlight_max(s, props=''):\n",
    "    return np.where(s == np.nanmax(s.values), props, '')\n",
    "\n",
    "# Применение функции к столбцам\n",
    "styled_hypothesis = hypothesis.style.apply(highlight_max, props='color:white;background-color:orange', axis=0, subset=['ice', 'rice'])\n",
    "\n",
    "# Округление столбцов до 2 знаков после запятой\n",
    "styled_hypothesis = styled_hypothesis.format(formatter={'ice': '{:.2f}', 'rice': '{:.2f}'}) \n",
    "\n",
    "styled_hypothesis"
   ]
  },
  {
   "cell_type": "markdown",
   "metadata": {},
   "source": [
    "**Вывод:**\n",
    "\n",
    "При применении методики RICE вместо ICE приоритеты гипотез могут измениться из-за того, что RICE учитывает дополнительный показатель - охват `reach`. Он определяет, скольких пользователей затронет изменение, что может значительно влиять на общую эффективность гипотезы.\n",
    "\n",
    "**Изменения в приоритезации:**\n",
    "\n",
    "* Гипотеза 7 (добавить форму подписки на все основные страницы, чтобы собрать базу клиентов для email-рассылок) осталась в топ-3, но переместилась с 3-го места в ICE на 1-е место в RICE. Это связано с высоким значением `reach` (10) и `impact` (7), которые показывают, что эта гипотеза может затронуть большое количество пользователей и ее влияение высоко.\n",
    "\n",
    "* Гипотеза 2 (добавить блоки рекомендаций товаров на сайт интернет магазина, чтобы повысить конверсию и средний чек заказа) переместилась с 5-го места в ICE на 2-е место в RICE. Это связано с высоким значением `reach` (8) и `confidence` (7), что говорит о том, что она может охватить большое количество пользователей и иметь успех. \n",
    "\n",
    "* Гипотеза 0 (добавить два новых канала привлечения трафика, что позволит привлекать на 30% больше пользователей) сохранила свое место, так как у нее высокий `impact` (10) и `confidence` (8).\n",
    "\n",
    "* Гипотеза 6 (Показать на главной странице баннеры с актуальными акциями и распродажами, чтобы увеличить конверсию) так же сохранила свое место, так как у нее достаточно высокий `reach` (5) и `confidence` (8) и низкий параметр `efforts` (3).\n",
    " \n",
    "* Гипотеза 8 (запустить акцию, дающую скидку на товар в день рождения) переместилась с 1-го места в ICE на 5-е место в RICE. Это связано с низким значением `reach` (1), что говорит о том, что эта гипотеза не затронет большое количество пользователей.\n"
   ]
  },
  {
   "cell_type": "markdown",
   "metadata": {},
   "source": [
    "### Анализ A/B-теста"
   ]
  },
  {
   "cell_type": "markdown",
   "metadata": {},
   "source": [
    "<h4>Построение графика кумулятивной выручки по группам / Выводы и предположения</h4>"
   ]
  },
  {
   "cell_type": "code",
   "execution_count": 14,
   "metadata": {},
   "outputs": [
    {
     "data": {
      "text/html": [
       "<div>\n",
       "<style scoped>\n",
       "    .dataframe tbody tr th:only-of-type {\n",
       "        vertical-align: middle;\n",
       "    }\n",
       "\n",
       "    .dataframe tbody tr th {\n",
       "        vertical-align: top;\n",
       "    }\n",
       "\n",
       "    .dataframe thead th {\n",
       "        text-align: right;\n",
       "    }\n",
       "</style>\n",
       "<table border=\"1\" class=\"dataframe\">\n",
       "  <thead>\n",
       "    <tr style=\"text-align: right;\">\n",
       "      <th></th>\n",
       "      <th>date</th>\n",
       "      <th>group</th>\n",
       "      <th>orders</th>\n",
       "      <th>buyers</th>\n",
       "      <th>revenue</th>\n",
       "      <th>visitors</th>\n",
       "    </tr>\n",
       "  </thead>\n",
       "  <tbody>\n",
       "    <tr>\n",
       "      <th>0</th>\n",
       "      <td>2019-08-01</td>\n",
       "      <td>A</td>\n",
       "      <td>23</td>\n",
       "      <td>19</td>\n",
       "      <td>142779</td>\n",
       "      <td>719</td>\n",
       "    </tr>\n",
       "    <tr>\n",
       "      <th>1</th>\n",
       "      <td>2019-08-01</td>\n",
       "      <td>B</td>\n",
       "      <td>17</td>\n",
       "      <td>17</td>\n",
       "      <td>59758</td>\n",
       "      <td>713</td>\n",
       "    </tr>\n",
       "    <tr>\n",
       "      <th>2</th>\n",
       "      <td>2019-08-02</td>\n",
       "      <td>A</td>\n",
       "      <td>42</td>\n",
       "      <td>36</td>\n",
       "      <td>234381</td>\n",
       "      <td>1338</td>\n",
       "    </tr>\n",
       "    <tr>\n",
       "      <th>3</th>\n",
       "      <td>2019-08-02</td>\n",
       "      <td>B</td>\n",
       "      <td>40</td>\n",
       "      <td>39</td>\n",
       "      <td>221801</td>\n",
       "      <td>1294</td>\n",
       "    </tr>\n",
       "    <tr>\n",
       "      <th>4</th>\n",
       "      <td>2019-08-03</td>\n",
       "      <td>A</td>\n",
       "      <td>66</td>\n",
       "      <td>60</td>\n",
       "      <td>346854</td>\n",
       "      <td>1845</td>\n",
       "    </tr>\n",
       "  </tbody>\n",
       "</table>\n",
       "</div>"
      ],
      "text/plain": [
       "        date group  orders  buyers  revenue  visitors\n",
       "0 2019-08-01     A      23      19   142779       719\n",
       "1 2019-08-01     B      17      17    59758       713\n",
       "2 2019-08-02     A      42      36   234381      1338\n",
       "3 2019-08-02     B      40      39   221801      1294\n",
       "4 2019-08-03     A      66      60   346854      1845"
      ]
     },
     "execution_count": 14,
     "metadata": {},
     "output_type": "execute_result"
    }
   ],
   "source": [
    "# Создание пар: дата / группа\n",
    "datesgroups = orders[['date', 'group']].drop_duplicates()\n",
    "\n",
    "visitors_agg = datesgroups.apply(lambda x: visitors[np.logical_and(visitors['date'] <= x['date'], visitors['group'] == x['group'])]\n",
    "       .agg({'date': 'max', 'group': 'max', 'visitors': 'sum'})\n",
    "       ,axis=1,).sort_values(by=['date', 'group'])\n",
    "\n",
    "orders_agg = datesgroups.apply(lambda x: orders[np.logical_and( orders['date'] <= x['date'], orders['group'] == x['group'])]\n",
    "       .agg({'date': 'max', 'group': 'max','transactionid': 'nunique','visitorid': 'nunique','revenue': 'sum',})\n",
    "       ,axis=1,).sort_values(by=['date', 'group'])\n",
    "\n",
    "cumul_df = orders_agg.merge(visitors_agg, left_on=['date', 'group'], right_on=['date', 'group'])\n",
    "\n",
    "cumul_df.columns = ['date','group', 'orders', 'buyers', 'revenue', 'visitors']\n",
    "\n",
    "# датафрейм с кумулятивной выручкой по группе А\n",
    "cumul_revenue_a = cumul_df[cumul_df['group']=='A'][['date','revenue', 'orders']]\n",
    "\n",
    "# датафрейм с кумулятивной выручкой по группе B\n",
    "cumul_revenue_b = cumul_df[cumul_df['group']=='B'][['date','revenue', 'orders']]\n",
    "\n",
    "cumul_df.head()"
   ]
  },
  {
   "cell_type": "code",
   "execution_count": 15,
   "metadata": {},
   "outputs": [
    {
     "data": {
      "image/png": "[encoded data removed]",
      "text/plain": [
       "<Figure size 1008x504 with 1 Axes>"
      ]
     },
     "metadata": {
      "needs_background": "light"
     },
     "output_type": "display_data"
    }
   ],
   "source": [
    "plt.figure(figsize=(14, 7))\n",
    "plt.plot(cumul_revenue_a['date'], cumul_revenue_a['revenue'], label='A')\n",
    "plt.plot(cumul_revenue_b['date'], cumul_revenue_b['revenue'], label='B')\n",
    "plt.xlabel('Дата')\n",
    "plt.ylabel('Выручка')\n",
    "plt.title('Кумулятивная выручка по группам A и B')\n",
    "plt.grid(linestyle='--')\n",
    "plt.legend()\n",
    "plt.show()"
   ]
  },
  {
   "cell_type": "markdown",
   "metadata": {},
   "source": [
    "**Вывод:** \n",
    "\n",
    "Анализ данных показал, что кумулятивная выручка группы B превышает выручку группы A, что свидетельствует о положительных изменениях в группе B. Также наблюдается значительный скачок выручки в группе B в период с 2019-08-18 по 2019-08-19, что может быть свидетельством аномалии."
   ]
  },
  {
   "cell_type": "markdown",
   "metadata": {},
   "source": [
    "<h4>Построение графика кумулятивного среднего чека по группам / Выводы и предположения</h4>"
   ]
  },
  {
   "cell_type": "code",
   "execution_count": 16,
   "metadata": {},
   "outputs": [
    {
     "data": {
      "image/png": "[encoded data removed]",
      "text/plain": [
       "<Figure size 1008x504 with 1 Axes>"
      ]
     },
     "metadata": {
      "needs_background": "light"
     },
     "output_type": "display_data"
    }
   ],
   "source": [
    "plt.figure(figsize=(14, 7))\n",
    "plt.plot(cumul_revenue_a['date'], cumul_revenue_a['revenue']/cumul_revenue_a['orders'], label='A')\n",
    "plt.plot(cumul_revenue_b['date'], cumul_revenue_b['revenue']/cumul_revenue_b['orders'], label='B')\n",
    "plt.xlabel('Дата')\n",
    "plt.ylabel('Средний чек')\n",
    "plt.title('Кумулятивный средний чек по группам A и B')\n",
    "plt.grid(linestyle='--')\n",
    "plt.legend()\n",
    "plt.show()"
   ]
  },
  {
   "cell_type": "markdown",
   "metadata": {},
   "source": [
    "**Вывод:**\n",
    "\n",
    "С 2019-08-18 по 2019-08-19 в группе В был обнаружен заметный рост кумулятивного среднего чека. Возможно, это аномальное значение которое может оказать влияние на результаты. Следует подробнее изучить данные по группе B."
   ]
  },
  {
   "cell_type": "markdown",
   "metadata": {},
   "source": [
    "<h4>Построение графика относительного изменения кумулятивного среднего чека группы B к группе A / Выводы и предположения</h4>"
   ]
  },
  {
   "cell_type": "code",
   "execution_count": 17,
   "metadata": {},
   "outputs": [
    {
     "data": {
      "text/html": [
       "<div>\n",
       "<style scoped>\n",
       "    .dataframe tbody tr th:only-of-type {\n",
       "        vertical-align: middle;\n",
       "    }\n",
       "\n",
       "    .dataframe tbody tr th {\n",
       "        vertical-align: top;\n",
       "    }\n",
       "\n",
       "    .dataframe thead th {\n",
       "        text-align: right;\n",
       "    }\n",
       "</style>\n",
       "<table border=\"1\" class=\"dataframe\">\n",
       "  <thead>\n",
       "    <tr style=\"text-align: right;\">\n",
       "      <th></th>\n",
       "      <th>date</th>\n",
       "      <th>revenueA</th>\n",
       "      <th>ordersA</th>\n",
       "      <th>revenueB</th>\n",
       "      <th>ordersB</th>\n",
       "    </tr>\n",
       "  </thead>\n",
       "  <tbody>\n",
       "    <tr>\n",
       "      <th>0</th>\n",
       "      <td>2019-08-01</td>\n",
       "      <td>142779</td>\n",
       "      <td>23</td>\n",
       "      <td>59758</td>\n",
       "      <td>17</td>\n",
       "    </tr>\n",
       "    <tr>\n",
       "      <th>1</th>\n",
       "      <td>2019-08-02</td>\n",
       "      <td>234381</td>\n",
       "      <td>42</td>\n",
       "      <td>221801</td>\n",
       "      <td>40</td>\n",
       "    </tr>\n",
       "    <tr>\n",
       "      <th>2</th>\n",
       "      <td>2019-08-03</td>\n",
       "      <td>346854</td>\n",
       "      <td>66</td>\n",
       "      <td>288850</td>\n",
       "      <td>54</td>\n",
       "    </tr>\n",
       "    <tr>\n",
       "      <th>3</th>\n",
       "      <td>2019-08-04</td>\n",
       "      <td>388030</td>\n",
       "      <td>77</td>\n",
       "      <td>385740</td>\n",
       "      <td>68</td>\n",
       "    </tr>\n",
       "    <tr>\n",
       "      <th>4</th>\n",
       "      <td>2019-08-05</td>\n",
       "      <td>474413</td>\n",
       "      <td>99</td>\n",
       "      <td>475648</td>\n",
       "      <td>89</td>\n",
       "    </tr>\n",
       "  </tbody>\n",
       "</table>\n",
       "</div>"
      ],
      "text/plain": [
       "        date  revenueA  ordersA  revenueB  ordersB\n",
       "0 2019-08-01    142779       23     59758       17\n",
       "1 2019-08-02    234381       42    221801       40\n",
       "2 2019-08-03    346854       66    288850       54\n",
       "3 2019-08-04    388030       77    385740       68\n",
       "4 2019-08-05    474413       99    475648       89"
      ]
     },
     "execution_count": 17,
     "metadata": {},
     "output_type": "execute_result"
    }
   ],
   "source": [
    "# Объединение данных по группам А и B в одном DF\n",
    "merged_сumul_revenue = cumul_revenue_a.merge(cumul_revenue_b, left_on='date', right_on='date', how='left', suffixes=['A', 'B'])\n",
    "\n",
    "merged_сumul_revenue.head()"
   ]
  },
  {
   "cell_type": "code",
   "execution_count": 18,
   "metadata": {},
   "outputs": [
    {
     "data": {
      "image/png": "[encoded data removed]",
      "text/plain": [
       "<Figure size 1008x504 with 1 Axes>"
      ]
     },
     "metadata": {
      "needs_background": "light"
     },
     "output_type": "display_data"
    }
   ],
   "source": [
    "plt.figure(figsize=(14, 7))\n",
    "plt.plot(merged_сumul_revenue['date'], (merged_сumul_revenue['revenueB']/merged_сumul_revenue['ordersB'])/\n",
    "         (merged_сumul_revenue['revenueA']/merged_сumul_revenue['ordersA'])-1)\n",
    "plt.axhline(y=0, color='orange', linestyle='--') \n",
    "plt.xlabel('Дата')\n",
    "plt.ylabel('Относительное изменение кумулятивного среднего чека')\n",
    "plt.title('Относительное изменение кумулятивного среднего чека группы B к группе A')\n",
    "plt.grid(linestyle='--')\n",
    "plt.show()"
   ]
  },
  {
   "cell_type": "markdown",
   "metadata": {},
   "source": [
    "**Вывод:**\n",
    "\n",
    "Кумулятивный средний чек группы B превышает кумулятивный средний чек группы A, практически на протяжении всего теста, однако имеются аномальные пики падения (2019-08-13) и резкого возрастания (в районе 2019-08-19).<br><br>\n",
    "Возможные причины: \n",
    "* В группе B были совершены крупные заказы или заказы с аномально высоким средним чеком;\n",
    "* Технические сбои или ошибки в системе, которые могли изменить данные по заказам и выручке;\n",
    "* Проведение маркетинговых акций (скидок или специальных предложений) в наблюдаемые периоды могло повлиять на результат теста."
   ]
  },
  {
   "cell_type": "markdown",
   "metadata": {},
   "source": [
    "<h4>Построение графика кумулятивного среднего количества заказов на посетителя по группам / Выводы и предположения</h4>"
   ]
  },
  {
   "cell_type": "code",
   "execution_count": 19,
   "metadata": {},
   "outputs": [
    {
     "data": {
      "text/html": [
       "<div>\n",
       "<style scoped>\n",
       "    .dataframe tbody tr th:only-of-type {\n",
       "        vertical-align: middle;\n",
       "    }\n",
       "\n",
       "    .dataframe tbody tr th {\n",
       "        vertical-align: top;\n",
       "    }\n",
       "\n",
       "    .dataframe thead th {\n",
       "        text-align: right;\n",
       "    }\n",
       "</style>\n",
       "<table border=\"1\" class=\"dataframe\">\n",
       "  <thead>\n",
       "    <tr style=\"text-align: right;\">\n",
       "      <th></th>\n",
       "      <th>date</th>\n",
       "      <th>group</th>\n",
       "      <th>orders</th>\n",
       "      <th>buyers</th>\n",
       "      <th>revenue</th>\n",
       "      <th>visitors</th>\n",
       "      <th>avg_oreders</th>\n",
       "    </tr>\n",
       "  </thead>\n",
       "  <tbody>\n",
       "    <tr>\n",
       "      <th>0</th>\n",
       "      <td>2019-08-01</td>\n",
       "      <td>A</td>\n",
       "      <td>23</td>\n",
       "      <td>19</td>\n",
       "      <td>142779</td>\n",
       "      <td>719</td>\n",
       "      <td>0.031989</td>\n",
       "    </tr>\n",
       "    <tr>\n",
       "      <th>2</th>\n",
       "      <td>2019-08-02</td>\n",
       "      <td>A</td>\n",
       "      <td>42</td>\n",
       "      <td>36</td>\n",
       "      <td>234381</td>\n",
       "      <td>1338</td>\n",
       "      <td>0.031390</td>\n",
       "    </tr>\n",
       "    <tr>\n",
       "      <th>4</th>\n",
       "      <td>2019-08-03</td>\n",
       "      <td>A</td>\n",
       "      <td>66</td>\n",
       "      <td>60</td>\n",
       "      <td>346854</td>\n",
       "      <td>1845</td>\n",
       "      <td>0.035772</td>\n",
       "    </tr>\n",
       "    <tr>\n",
       "      <th>6</th>\n",
       "      <td>2019-08-04</td>\n",
       "      <td>A</td>\n",
       "      <td>77</td>\n",
       "      <td>71</td>\n",
       "      <td>388030</td>\n",
       "      <td>2562</td>\n",
       "      <td>0.030055</td>\n",
       "    </tr>\n",
       "    <tr>\n",
       "      <th>8</th>\n",
       "      <td>2019-08-05</td>\n",
       "      <td>A</td>\n",
       "      <td>99</td>\n",
       "      <td>92</td>\n",
       "      <td>474413</td>\n",
       "      <td>3318</td>\n",
       "      <td>0.029837</td>\n",
       "    </tr>\n",
       "  </tbody>\n",
       "</table>\n",
       "</div>"
      ],
      "text/plain": [
       "        date group  orders  buyers  revenue  visitors  avg_oreders\n",
       "0 2019-08-01     A      23      19   142779       719     0.031989\n",
       "2 2019-08-02     A      42      36   234381      1338     0.031390\n",
       "4 2019-08-03     A      66      60   346854      1845     0.035772\n",
       "6 2019-08-04     A      77      71   388030      2562     0.030055\n",
       "8 2019-08-05     A      99      92   474413      3318     0.029837"
      ]
     },
     "metadata": {},
     "output_type": "display_data"
    },
    {
     "data": {
      "text/html": [
       "<div>\n",
       "<style scoped>\n",
       "    .dataframe tbody tr th:only-of-type {\n",
       "        vertical-align: middle;\n",
       "    }\n",
       "\n",
       "    .dataframe tbody tr th {\n",
       "        vertical-align: top;\n",
       "    }\n",
       "\n",
       "    .dataframe thead th {\n",
       "        text-align: right;\n",
       "    }\n",
       "</style>\n",
       "<table border=\"1\" class=\"dataframe\">\n",
       "  <thead>\n",
       "    <tr style=\"text-align: right;\">\n",
       "      <th></th>\n",
       "      <th>date</th>\n",
       "      <th>group</th>\n",
       "      <th>orders</th>\n",
       "      <th>buyers</th>\n",
       "      <th>revenue</th>\n",
       "      <th>visitors</th>\n",
       "      <th>avg_oreders</th>\n",
       "    </tr>\n",
       "  </thead>\n",
       "  <tbody>\n",
       "    <tr>\n",
       "      <th>1</th>\n",
       "      <td>2019-08-01</td>\n",
       "      <td>B</td>\n",
       "      <td>17</td>\n",
       "      <td>17</td>\n",
       "      <td>59758</td>\n",
       "      <td>713</td>\n",
       "      <td>0.023843</td>\n",
       "    </tr>\n",
       "    <tr>\n",
       "      <th>3</th>\n",
       "      <td>2019-08-02</td>\n",
       "      <td>B</td>\n",
       "      <td>40</td>\n",
       "      <td>39</td>\n",
       "      <td>221801</td>\n",
       "      <td>1294</td>\n",
       "      <td>0.030912</td>\n",
       "    </tr>\n",
       "    <tr>\n",
       "      <th>5</th>\n",
       "      <td>2019-08-03</td>\n",
       "      <td>B</td>\n",
       "      <td>54</td>\n",
       "      <td>53</td>\n",
       "      <td>288850</td>\n",
       "      <td>1803</td>\n",
       "      <td>0.029950</td>\n",
       "    </tr>\n",
       "    <tr>\n",
       "      <th>7</th>\n",
       "      <td>2019-08-04</td>\n",
       "      <td>B</td>\n",
       "      <td>68</td>\n",
       "      <td>66</td>\n",
       "      <td>385740</td>\n",
       "      <td>2573</td>\n",
       "      <td>0.026428</td>\n",
       "    </tr>\n",
       "    <tr>\n",
       "      <th>9</th>\n",
       "      <td>2019-08-05</td>\n",
       "      <td>B</td>\n",
       "      <td>89</td>\n",
       "      <td>87</td>\n",
       "      <td>475648</td>\n",
       "      <td>3280</td>\n",
       "      <td>0.027134</td>\n",
       "    </tr>\n",
       "  </tbody>\n",
       "</table>\n",
       "</div>"
      ],
      "text/plain": [
       "        date group  orders  buyers  revenue  visitors  avg_oreders\n",
       "1 2019-08-01     B      17      17    59758       713     0.023843\n",
       "3 2019-08-02     B      40      39   221801      1294     0.030912\n",
       "5 2019-08-03     B      54      53   288850      1803     0.029950\n",
       "7 2019-08-04     B      68      66   385740      2573     0.026428\n",
       "9 2019-08-05     B      89      87   475648      3280     0.027134"
      ]
     },
     "metadata": {},
     "output_type": "display_data"
    }
   ],
   "source": [
    "# Расчет кумулятивного среднего количества заказов на посетителя\n",
    "cumul_df['avg_oreders'] = cumul_df['orders']/cumul_df['visitors']\n",
    "\n",
    "# Разбивка на группы A и B\n",
    "cumul_df_a = cumul_df[cumul_df['group']=='A']\n",
    "cumul_df_b = cumul_df[cumul_df['group']=='B']\n",
    "\n",
    "display(cumul_df_a.head())\n",
    "display(cumul_df_b.head())"
   ]
  },
  {
   "cell_type": "code",
   "execution_count": 20,
   "metadata": {},
   "outputs": [
    {
     "data": {
      "image/png": "[encoded data removed]",
      "text/plain": [
       "<Figure size 1008x504 with 1 Axes>"
      ]
     },
     "metadata": {
      "needs_background": "light"
     },
     "output_type": "display_data"
    }
   ],
   "source": [
    "plt.figure(figsize=(14, 7))\n",
    "plt.plot(cumul_df_a['date'], cumul_df_a['avg_oreders'], label='A')\n",
    "plt.plot(cumul_df_b['date'], cumul_df_b['avg_oreders'], label='B')\n",
    "plt.xlabel('Дата')\n",
    "plt.ylabel('Среднее количество заказов на посетителя')\n",
    "plt.title('Кумулятивное среднее количество заказов на посетителя по группам A и B')\n",
    "plt.grid(linestyle='--')\n",
    "plt.ylim(0.02, 0.05) # измение масштаба графика, чтобы было видно, что абсолютное значение колебания в начале и в конце теста не слишком большое\n",
    "plt.legend()\n",
    "plt.show()"
   ]
  },
  {
   "cell_type": "markdown",
   "metadata": {},
   "source": [
    "**Вывод:**\n",
    "\n",
    "В начале теста группа A имела большее кумулятивное среднее количество заказов, но постепенно группа B выровнялась и зафиксировала примерно одно значение, превышающее значение группы A."
   ]
  },
  {
   "cell_type": "markdown",
   "metadata": {},
   "source": [
    "<h4>Построение графикa относительного изменения кумулятивного среднего количества заказов на посетителя группы B к группе A / Выводы и предположения</h4>"
   ]
  },
  {
   "cell_type": "code",
   "execution_count": 21,
   "metadata": {},
   "outputs": [
    {
     "data": {
      "text/html": [
       "<div>\n",
       "<style scoped>\n",
       "    .dataframe tbody tr th:only-of-type {\n",
       "        vertical-align: middle;\n",
       "    }\n",
       "\n",
       "    .dataframe tbody tr th {\n",
       "        vertical-align: top;\n",
       "    }\n",
       "\n",
       "    .dataframe thead th {\n",
       "        text-align: right;\n",
       "    }\n",
       "</style>\n",
       "<table border=\"1\" class=\"dataframe\">\n",
       "  <thead>\n",
       "    <tr style=\"text-align: right;\">\n",
       "      <th></th>\n",
       "      <th>date</th>\n",
       "      <th>avg_oredersA</th>\n",
       "      <th>avg_oredersB</th>\n",
       "    </tr>\n",
       "  </thead>\n",
       "  <tbody>\n",
       "    <tr>\n",
       "      <th>0</th>\n",
       "      <td>2019-08-01</td>\n",
       "      <td>0.031989</td>\n",
       "      <td>0.023843</td>\n",
       "    </tr>\n",
       "    <tr>\n",
       "      <th>1</th>\n",
       "      <td>2019-08-02</td>\n",
       "      <td>0.031390</td>\n",
       "      <td>0.030912</td>\n",
       "    </tr>\n",
       "    <tr>\n",
       "      <th>2</th>\n",
       "      <td>2019-08-03</td>\n",
       "      <td>0.035772</td>\n",
       "      <td>0.029950</td>\n",
       "    </tr>\n",
       "    <tr>\n",
       "      <th>3</th>\n",
       "      <td>2019-08-04</td>\n",
       "      <td>0.030055</td>\n",
       "      <td>0.026428</td>\n",
       "    </tr>\n",
       "    <tr>\n",
       "      <th>4</th>\n",
       "      <td>2019-08-05</td>\n",
       "      <td>0.029837</td>\n",
       "      <td>0.027134</td>\n",
       "    </tr>\n",
       "  </tbody>\n",
       "</table>\n",
       "</div>"
      ],
      "text/plain": [
       "        date  avg_oredersA  avg_oredersB\n",
       "0 2019-08-01      0.031989      0.023843\n",
       "1 2019-08-02      0.031390      0.030912\n",
       "2 2019-08-03      0.035772      0.029950\n",
       "3 2019-08-04      0.030055      0.026428\n",
       "4 2019-08-05      0.029837      0.027134"
      ]
     },
     "execution_count": 21,
     "metadata": {},
     "output_type": "execute_result"
    }
   ],
   "source": [
    "# Объединение данных кумулятивного среднего количества заказов на посетителя по группам А и B в одном DF\n",
    "merged_cumul_avg_orders = cumul_df_a[['date','avg_oreders']].merge(cumul_df_b[['date','avg_oreders']], left_on='date', right_on='date', how='left', suffixes=['A', 'B'])\n",
    "\n",
    "merged_cumul_avg_orders.head()"
   ]
  },
  {
   "cell_type": "code",
   "execution_count": 22,
   "metadata": {},
   "outputs": [
    {
     "data": {
      "image/png": "[encoded data removed]",
      "text/plain": [
       "<Figure size 1008x504 with 1 Axes>"
      ]
     },
     "metadata": {
      "needs_background": "light"
     },
     "output_type": "display_data"
    }
   ],
   "source": [
    "plt.figure(figsize=(14, 7))\n",
    "plt.plot(merged_cumul_avg_orders['date'], merged_cumul_avg_orders['avg_oredersB']/merged_cumul_avg_orders['avg_oredersA']-1)\n",
    "plt.xlabel('Дата')\n",
    "plt.ylabel('Относительное изменение среднего количества заказов на посетителя')\n",
    "plt.title('Относительное изменение кумулятивного среднего количества заказов на посетителя группы B к группе A')\n",
    "plt.axhline(y=0, color='orange', linestyle='--')\n",
    "plt.axhline(y=0.16, color='red', linestyle='--')\n",
    "plt.ylim(-0.5, 0.5)\n",
    "plt.grid(linestyle='--')\n",
    "plt.show()"
   ]
  },
  {
   "cell_type": "markdown",
   "metadata": {},
   "source": [
    "**Вывод:** \n",
    "\n",
    "График указывает на то, что группа B демонстрирует большее кумулятивное среднее количество заказов по сравнению с группой A. Средняя конверсия в группе B составляет приблизительно 0.15 - 0.16 и остается стабильной. "
   ]
  },
  {
   "cell_type": "markdown",
   "metadata": {},
   "source": [
    "<h4>Построение точечного графика количества заказов по пользователям / Выводы и предположения</h4>"
   ]
  },
  {
   "cell_type": "code",
   "execution_count": 23,
   "metadata": {},
   "outputs": [
    {
     "data": {
      "text/html": [
       "<div>\n",
       "<style scoped>\n",
       "    .dataframe tbody tr th:only-of-type {\n",
       "        vertical-align: middle;\n",
       "    }\n",
       "\n",
       "    .dataframe tbody tr th {\n",
       "        vertical-align: top;\n",
       "    }\n",
       "\n",
       "    .dataframe thead th {\n",
       "        text-align: right;\n",
       "    }\n",
       "</style>\n",
       "<table border=\"1\" class=\"dataframe\">\n",
       "  <thead>\n",
       "    <tr style=\"text-align: right;\">\n",
       "      <th></th>\n",
       "      <th>visitorid</th>\n",
       "      <th>orders</th>\n",
       "    </tr>\n",
       "  </thead>\n",
       "  <tbody>\n",
       "    <tr>\n",
       "      <th>0</th>\n",
       "      <td>5114589</td>\n",
       "      <td>1</td>\n",
       "    </tr>\n",
       "    <tr>\n",
       "      <th>1</th>\n",
       "      <td>6958315</td>\n",
       "      <td>1</td>\n",
       "    </tr>\n",
       "    <tr>\n",
       "      <th>2</th>\n",
       "      <td>11685486</td>\n",
       "      <td>1</td>\n",
       "    </tr>\n",
       "    <tr>\n",
       "      <th>3</th>\n",
       "      <td>39475350</td>\n",
       "      <td>1</td>\n",
       "    </tr>\n",
       "    <tr>\n",
       "      <th>4</th>\n",
       "      <td>47206413</td>\n",
       "      <td>1</td>\n",
       "    </tr>\n",
       "  </tbody>\n",
       "</table>\n",
       "</div>"
      ],
      "text/plain": [
       "   visitorid  orders\n",
       "0    5114589       1\n",
       "1    6958315       1\n",
       "2   11685486       1\n",
       "3   39475350       1\n",
       "4   47206413       1"
      ]
     },
     "execution_count": 23,
     "metadata": {},
     "output_type": "execute_result"
    }
   ],
   "source": [
    "# Расчет количества заказов по пользователям\n",
    "orders_by_users = (orders.groupby('visitorid', as_index=False).agg({'transactionid': 'nunique'}))\n",
    "\n",
    "orders_by_users.columns = ['visitorid', 'orders']\n",
    "\n",
    "orders_by_users.head()"
   ]
  },
  {
   "cell_type": "code",
   "execution_count": 24,
   "metadata": {},
   "outputs": [
    {
     "data": {
      "image/png": "[encoded data removed]",
      "text/plain": [
       "<Figure size 1008x504 with 1 Axes>"
      ]
     },
     "metadata": {
      "needs_background": "light"
     },
     "output_type": "display_data"
    }
   ],
   "source": [
    "# Cерия из чисел от 0 до количества наблюдений в orders_by_users\n",
    "x_values = pd.Series(range(0, len(orders_by_users)))\n",
    "\n",
    "plt.figure(figsize=(14, 7))\n",
    "plt.scatter(x_values, orders_by_users['orders'])\n",
    "plt.title('Количество заказов по пользователям ')\n",
    "plt.xlabel('Пользователи')\n",
    "plt.ylabel('Количество заказов')\n",
    "plt.grid(linestyle='--')\n",
    "plt.show()"
   ]
  },
  {
   "cell_type": "markdown",
   "metadata": {},
   "source": [
    "**Вывод:** \n",
    "\n",
    "Основная часть пользователей сделала только 1 заказ за время теста. Заказов в количестве 2 и более совсем мало. Максимальное количество заказов - 11 штук."
   ]
  },
  {
   "cell_type": "markdown",
   "metadata": {},
   "source": [
    "<h4>Расчет 95-ого и 99-ого перцентиля количества заказов на пользователя / Выбор границы для определения аномальных пользователей</h4>"
   ]
  },
  {
   "cell_type": "code",
   "execution_count": 25,
   "metadata": {},
   "outputs": [
    {
     "name": "stdout",
     "output_type": "stream",
     "text": [
      "[1. 2.]\n",
      "Не более 5% пользователей совершали больше 1 заказов.\n",
      "И не более 1% пользователей совершали больше 2 заказов.\n"
     ]
    }
   ],
   "source": [
    "# Рассчитываем перцентили по количеству заказов пользователей\n",
    "percentiles = np.percentile(orders_by_users['orders'], [95, 99])\n",
    "print(percentiles)\n",
    "\n",
    "print(f\"Не более 5% пользователей совершали больше {int(percentiles[0])} заказов.\")\n",
    "print(f\"И не более 1% пользователей совершали больше {int(percentiles[1])} заказов.\")"
   ]
  },
  {
   "cell_type": "markdown",
   "metadata": {},
   "source": [
    "**Вывод:**   \n",
    "\n",
    "Примем за аномальных пользователей тех, кто совершил 2 заказа и более."
   ]
  },
  {
   "cell_type": "markdown",
   "metadata": {},
   "source": [
    "<h4>Построение точечного графика стоимостей заказов / Выводы и предположения</h4>"
   ]
  },
  {
   "cell_type": "code",
   "execution_count": 26,
   "metadata": {},
   "outputs": [
    {
     "data": {
      "text/html": [
       "<div>\n",
       "<style scoped>\n",
       "    .dataframe tbody tr th:only-of-type {\n",
       "        vertical-align: middle;\n",
       "    }\n",
       "\n",
       "    .dataframe tbody tr th {\n",
       "        vertical-align: top;\n",
       "    }\n",
       "\n",
       "    .dataframe thead th {\n",
       "        text-align: right;\n",
       "    }\n",
       "</style>\n",
       "<table border=\"1\" class=\"dataframe\">\n",
       "  <thead>\n",
       "    <tr style=\"text-align: right;\">\n",
       "      <th></th>\n",
       "      <th>transactionid</th>\n",
       "      <th>visitorid</th>\n",
       "      <th>date</th>\n",
       "      <th>revenue</th>\n",
       "      <th>group</th>\n",
       "    </tr>\n",
       "  </thead>\n",
       "  <tbody>\n",
       "    <tr>\n",
       "      <th>425</th>\n",
       "      <td>590470918</td>\n",
       "      <td>1920142716</td>\n",
       "      <td>2019-08-19</td>\n",
       "      <td>1294500</td>\n",
       "      <td>B</td>\n",
       "    </tr>\n",
       "    <tr>\n",
       "      <th>1196</th>\n",
       "      <td>3936777065</td>\n",
       "      <td>2108080724</td>\n",
       "      <td>2019-08-15</td>\n",
       "      <td>202740</td>\n",
       "      <td>B</td>\n",
       "    </tr>\n",
       "    <tr>\n",
       "      <th>1136</th>\n",
       "      <td>666610489</td>\n",
       "      <td>1307669133</td>\n",
       "      <td>2019-08-13</td>\n",
       "      <td>92550</td>\n",
       "      <td>A</td>\n",
       "    </tr>\n",
       "    <tr>\n",
       "      <th>744</th>\n",
       "      <td>3668308183</td>\n",
       "      <td>888512513</td>\n",
       "      <td>2019-08-27</td>\n",
       "      <td>86620</td>\n",
       "      <td>B</td>\n",
       "    </tr>\n",
       "    <tr>\n",
       "      <th>743</th>\n",
       "      <td>3603576309</td>\n",
       "      <td>4133034833</td>\n",
       "      <td>2019-08-09</td>\n",
       "      <td>67990</td>\n",
       "      <td>A</td>\n",
       "    </tr>\n",
       "  </tbody>\n",
       "</table>\n",
       "</div>"
      ],
      "text/plain": [
       "      transactionid   visitorid       date  revenue group\n",
       "425       590470918  1920142716 2019-08-19  1294500     B\n",
       "1196     3936777065  2108080724 2019-08-15   202740     B\n",
       "1136      666610489  1307669133 2019-08-13    92550     A\n",
       "744      3668308183   888512513 2019-08-27    86620     B\n",
       "743      3603576309  4133034833 2019-08-09    67990     A"
      ]
     },
     "execution_count": 26,
     "metadata": {},
     "output_type": "execute_result"
    }
   ],
   "source": [
    "orders.sort_values(by='revenue', ascending=False).head()"
   ]
  },
  {
   "cell_type": "code",
   "execution_count": 27,
   "metadata": {},
   "outputs": [
    {
     "data": {
      "image/png": "[encoded data removed]",
      "text/plain": [
       "<Figure size 1008x504 with 1 Axes>"
      ]
     },
     "metadata": {
      "needs_background": "light"
     },
     "output_type": "display_data"
    }
   ],
   "source": [
    "x_values = pd.Series(range(0, len(orders['revenue'])))\n",
    "plt.figure(figsize=(14, 7))\n",
    "plt.scatter(x_values, orders['revenue'])\n",
    "plt.title('Стоимость заказов')\n",
    "plt.xlabel('Пользователи')\n",
    "plt.ylabel('Стоимость')\n",
    "plt.grid(linestyle='--')\n",
    "plt.show()"
   ]
  },
  {
   "cell_type": "markdown",
   "metadata": {},
   "source": [
    "**Вывод:** \n",
    "\n",
    "Основная часть заказов имеет стоимость не более 10.000. Заказов с аномальной стоимостью 2 - на 202.740 и на 1.294.500."
   ]
  },
  {
   "cell_type": "markdown",
   "metadata": {},
   "source": [
    "<h4>Расчет 95-ого и 99-ого перцентиля стоимости заказов / Выбор границы для определения аномальных заказов</h4>"
   ]
  },
  {
   "cell_type": "code",
   "execution_count": 28,
   "metadata": {},
   "outputs": [
    {
     "name": "stdout",
     "output_type": "stream",
     "text": [
      "[26785. 53904.]\n",
      "Не более 5% пользователей совершали заказы стоимостью более 26785.\n",
      "И не более 1% пользователей совершали заказы стоимостью более 53904.\n"
     ]
    }
   ],
   "source": [
    "# Рассчитываем перцентили по стоимости заказов\n",
    "percentiles_orders = np.percentile(orders['revenue'], [95, 99])\n",
    "print(percentiles_orders)\n",
    "\n",
    "print(f\"Не более 5% пользователей совершали заказы стоимостью более {int(percentiles_orders [0])}.\")\n",
    "print(f\"И не более 1% пользователей совершали заказы стоимостью более {int(percentiles_orders [1])}.\")"
   ]
  },
  {
   "cell_type": "markdown",
   "metadata": {},
   "source": [
    "**Вывод:** \n",
    "\n",
    "Возьмём за аномальные, заказы стоимостью выше 26.785."
   ]
  },
  {
   "cell_type": "markdown",
   "metadata": {},
   "source": [
    "<h4>Расчет статистической значимости различий в среднем количестве заказов на посетителя между группами по «сырым» данным / Выводы и предположения</h4>"
   ]
  },
  {
   "cell_type": "code",
   "execution_count": 29,
   "metadata": {},
   "outputs": [],
   "source": [
    "visitors_a = visitors[visitors['group'] == 'A'][['date', 'visitors']]\n",
    "visitors_a.columns = ['date', 'visitors_per_date_a']\n",
    "\n",
    "visitors_b = visitors[visitors['group'] == 'B'][['date', 'visitors']]\n",
    "visitors_b.columns = ['date', 'visitors_per_date_b']\n",
    "\n",
    "orders_by_users_a = (orders[orders['group'] == 'A']\n",
    "    .groupby('visitorid', as_index=False)\n",
    "    .agg({'transactionid': pd.Series.nunique}))\n",
    "orders_by_users_a.columns = ['visitorid', 'orders']\n",
    "\n",
    "orders_by_users_b = (orders[orders['group'] == 'B']\n",
    "    .groupby('visitorid', as_index=False)\n",
    "    .agg({'transactionid': pd.Series.nunique}))\n",
    "orders_by_users_b.columns = ['visitorid', 'orders'] \n",
    "\n",
    "orders_group_a = np.zeros(visitors[visitors['group']=='A']['visitors'].sum() - len(orders_by_users_a))\n",
    "orders_a = pd.Series(data=orders_group_a, name='orders')\n",
    "\n",
    "orders_group_b = np.zeros(visitors[visitors['group']=='B']['visitors'].sum() - len(orders_by_users_b))\n",
    "orders_b = pd.Series(data=orders_group_b, name='orders')"
   ]
  },
  {
   "cell_type": "markdown",
   "metadata": {},
   "source": [
    "<b>Гипотеза Н0</b>: Нет статистически значимой разницы в среднем количестве заказов на посетителя между группой A и группой B.<br>\n",
    "<b>Гипотеза Н1</b>: Существует статистически значимая разница в среднем количестве заказов на посетителя между группой A и группой B. "
   ]
  },
  {
   "cell_type": "code",
   "execution_count": 30,
   "metadata": {},
   "outputs": [],
   "source": [
    "test_a = pd.concat([orders_by_users_a['orders'], orders_a], axis=0)\n",
    "test_b = pd.concat([orders_by_users_b['orders'], orders_b], axis=0)"
   ]
  },
  {
   "cell_type": "code",
   "execution_count": 31,
   "metadata": {},
   "outputs": [
    {
     "name": "stdout",
     "output_type": "stream",
     "text": [
      "p-value: 0.011\n",
      "Относительное изменение среднего: 0.160\n"
     ]
    }
   ],
   "source": [
    "print(f\"p-value: {stats.mannwhitneyu(test_a, test_b)[1]:.3f}\")      \n",
    "print(f\"Относительное изменение среднего: {test_b.mean() / test_a.mean() - 1:.3f}\")"
   ]
  },
  {
   "cell_type": "markdown",
   "metadata": {},
   "source": [
    "**Вывод:** Отвергаем нулевую гипотезу.\n",
    "* p-value: 0.011 - это значение ниже стандартного порога значимости (0.05), поэтому, существуют достаточные основания  утверждать, что различия в среднем количестве заказов между группами статистически значимы.\n",
    "* Относительное изменение среднего: 0.160. Среднее количество заказов в группе B на 16 выше, чем в группе A. "
   ]
  },
  {
   "cell_type": "markdown",
   "metadata": {},
   "source": [
    "<h4>Расчет статистической значимости различий в среднем чеке заказа между группами по «сырым» данным / Выводы и предположения</h4>"
   ]
  },
  {
   "cell_type": "markdown",
   "metadata": {},
   "source": [
    "<b>Гипотеза Н0</b>: Нет статистически значимой разницы в среднем чеке заказа между группой A и группой B.<br>\n",
    "<b>Гипотеза Н1</b>: Существует статистически значимая разница в среднем чеке заказа между группой A и группой B."
   ]
  },
  {
   "cell_type": "code",
   "execution_count": 32,
   "metadata": {},
   "outputs": [
    {
     "name": "stdout",
     "output_type": "stream",
     "text": [
      "p-value: 0.829\n",
      "Относительное изменение среднего: 0.287\n"
     ]
    }
   ],
   "source": [
    "print(f\"p-value: {stats.mannwhitneyu(orders[orders['group']=='A']['revenue'], orders[orders['group']=='B']['revenue'])[1]:.3f}\")\n",
    "print(f\"Относительное изменение среднего: {orders[orders['group']=='B']['revenue'].mean()/orders[orders['group']=='A']['revenue'].mean()-1:.3f}\") "
   ]
  },
  {
   "cell_type": "markdown",
   "metadata": {},
   "source": [
    "**Вывод:** Не получилось отвергнуть нулевую гипотезу. "
   ]
  },
  {
   "cell_type": "markdown",
   "metadata": {},
   "source": [
    "В группе B наблюдается увеличение среднего чека на 28.7%, что является существенным изменением. Однако, отсутствие статистической значимости может указывать на то, что это изменение может быть случайным и не связано с тестируемым изменением.\n",
    "\n",
    "* p-value: 0.829 - это значение выше стандартного порога значимости (0.05). Нет достаточных оснований утверждать, что различия  в среднем чеке заказа между группами статистически значимы.\n",
    "* Относительное изменение среднего: 0.287. Средний чек в группе B на 28.7% выше, чем в группе A."
   ]
  },
  {
   "cell_type": "markdown",
   "metadata": {},
   "source": [
    "<h4>Расчет статистической значимости различий в среднем количестве заказов на посетителя между группами по «очищенным» данным / Выводы и предположения</h4>"
   ]
  },
  {
   "cell_type": "code",
   "execution_count": 33,
   "metadata": {},
   "outputs": [
    {
     "name": "stdout",
     "output_type": "stream",
     "text": [
      "Количество аномальных пользователей: 58\n"
     ]
    }
   ],
   "source": [
    "# Группировка аномальных значений\n",
    "lim_orders = 2\n",
    "lim_revenue = 26785\n",
    "\n",
    "anomaly_orders = pd.concat([\n",
    "        orders_by_users_a[orders_by_users_a['orders'] > lim_orders]['visitorid'],\n",
    "        orders_by_users_b[orders_by_users_b['orders'] > lim_orders]['visitorid']], axis=0,)\n",
    "\n",
    "anomaly_users = orders[orders['revenue'] > lim_revenue]['visitorid']\n",
    "\n",
    "anomaly = (pd.concat([anomaly_orders, anomaly_users], axis=0).drop_duplicates().sort_values())\n",
    "\n",
    "print('Количество аномальных пользователей:', len(anomaly))"
   ]
  },
  {
   "cell_type": "markdown",
   "metadata": {},
   "source": [
    "<b>Гипотеза Н0</b>: Нет статистически значимой разницы в среднем количестве заказов на посетителя между группой A и группой B.<br>\n",
    "<b>Гипотеза Н1</b>: Существует статистически значимая разница в среднем количестве заказов на посетителя между группой A и группой B. "
   ]
  },
  {
   "cell_type": "code",
   "execution_count": 34,
   "metadata": {},
   "outputs": [],
   "source": [
    "# Очищенные от аномалий данные\n",
    "test_a_ftl = pd.concat([orders_by_users_a[np.logical_not(orders_by_users_a['visitorid'].isin(anomaly))]['orders'],\n",
    "        pd.Series(0, index=np.arange(visitors_a['visitors_per_date_a'].sum() - len(orders_by_users_a['orders'])), name='orders')], axis=0)\n",
    "\n",
    "test_b_ftl = pd.concat([orders_by_users_b[np.logical_not(orders_by_users_b['visitorid'].isin(anomaly))]['orders'],\n",
    "        pd.Series(0, index=np.arange(visitors_b['visitors_per_date_b'].sum() - len(orders_by_users_b['orders'])), name='orders')], axis=0) "
   ]
  },
  {
   "cell_type": "code",
   "execution_count": 35,
   "metadata": {},
   "outputs": [
    {
     "name": "stdout",
     "output_type": "stream",
     "text": [
      "p-value: 0.012\n",
      "Относительное изменение среднего: 0.182\n"
     ]
    }
   ],
   "source": [
    "print(f\"p-value: {stats.mannwhitneyu(test_a_ftl, test_b_ftl)[1]:.3f}\")\n",
    "print(f\"Относительное изменение среднего: {test_b_ftl.mean()/test_a_ftl.mean()-1:.3f}\") "
   ]
  },
  {
   "cell_type": "markdown",
   "metadata": {},
   "source": [
    "**Вывод:** Отвергаем нулевую гипотезу.\n",
    "\n",
    "После очистки данных от аномальных значений различия в среднем количестве заказов между группами статистически значимы. \n",
    "* p-value: 0.012 - это значение ниже стандартного порога значимости (0.05), поэтому, существуют достаточные основания  утверждать, что различия в среднем количестве заказов между группами статистически значимы.\n",
    "* Относительное изменение среднего: 0.182. Среднее количество заказов в группе B на 18.2% выше, чем в группе A."
   ]
  },
  {
   "cell_type": "markdown",
   "metadata": {},
   "source": [
    "<h4>Расчет статистической значимости различий в среднем чеке заказа между группами по «очищенным» данным / Выводы и предположения</h4>"
   ]
  },
  {
   "cell_type": "markdown",
   "metadata": {},
   "source": [
    "<b>Гипотеза Н0</b>: Нет статистически значимой разницы в среднем чеке заказа между группой A и группой B.<br>\n",
    "<b>Гипотеза Н1</b>: Существует статистически значимая разница в среднем чеке заказа между группой A и группой B."
   ]
  },
  {
   "cell_type": "code",
   "execution_count": 36,
   "metadata": {
    "scrolled": true
   },
   "outputs": [
    {
     "name": "stdout",
     "output_type": "stream",
     "text": [
      "p-value: 0.646\n",
      "Относительное изменение среднего: -0.048\n"
     ]
    }
   ],
   "source": [
    "print(f\"p-value: {stats.mannwhitneyu(orders[np.logical_and(orders['group'] == 'A', np.logical_not(orders['visitorid'].isin(anomaly)))]['revenue'], orders[np.logical_and(orders['group'] == 'B', np.logical_not(orders['visitorid'].isin(anomaly)))] ['revenue'])[1]:.3f}\") \n",
    "print(f\"Относительное изменение среднего: {orders[np.logical_and(orders['group'] == 'B', np.logical_not(orders['visitorid'].isin(anomaly)))]['revenue'].mean() / orders[np.logical_and(orders['group'] == 'A', np.logical_not(orders['visitorid'].isin(anomaly)))]['revenue'].mean() - 1:.3f}\")"
   ]
  },
  {
   "cell_type": "markdown",
   "metadata": {},
   "source": [
    "**Вывод:** Не получилось отвергнуть нулевую гипотезу. \n",
    "\n",
    "По результатам статистического теста Mann-Whitney U на основе очищенных данных, нет статистически значимой разницы в среднем чеке заказа между группами A и B. В целом можно сделать вывод, что проведенные тесты не показали существенного влияния тестируемых факторов на средний чек заказа.\n",
    "* p-value: 0.646 - это значение выше стандартного порога значимости (0.05). Нет достаточных оснований утверждать, что различия  в среднем чеке заказа между группами статистически значимы.\n",
    "* Несмотря на наблюдаемое снижение 4.8%, это различие не является статистически значимым. "
   ]
  },
  {
   "cell_type": "markdown",
   "metadata": {},
   "source": [
    "### Решение по A/B-тесту"
   ]
  },
  {
   "cell_type": "markdown",
   "metadata": {},
   "source": [
    "**По итогам исследования данных можно утверждать:**\n",
    "* Группа B показывает лучшие показатели по сравнению с группой A;\n",
    "\n",
    "* Различия в среднем чеке между группами не имеют статистической значимости, даже после очистки данных от аномальных значений;\n",
    "\n",
    "* В \"сырых\" и \"очищенных\" данных различия в среднем количестве заказов между группами статистически значимы, среднее количество заказов по результатам \"очищенных\" данных в группе B на 18.2% выше, чем в группе A. \n",
    "\n",
    "В связи с этим, рекомендуется завершить тестирование, поскольку продолжение его исполнения не принесет значительных изменений.\n"
   ]
  }
 ],
 "metadata": {
  "ExecuteTimeLog": [
   {
    "duration": 733,
    "start_time": "2024-06-17T10:31:18.149Z"
   },
   {
    "duration": 335,
    "start_time": "2024-06-17T10:31:41.208Z"
   },
   {
    "duration": 239,
    "start_time": "2024-06-17T10:33:20.530Z"
   },
   {
    "duration": 11,
    "start_time": "2024-06-17T10:33:35.399Z"
   },
   {
    "duration": 9,
    "start_time": "2024-06-17T10:33:58.631Z"
   },
   {
    "duration": 2,
    "start_time": "2024-06-17T10:35:26.835Z"
   },
   {
    "duration": 68,
    "start_time": "2024-06-17T10:35:27.925Z"
   },
   {
    "duration": 6,
    "start_time": "2024-06-17T10:35:28.375Z"
   },
   {
    "duration": 978,
    "start_time": "2024-06-17T10:37:13.194Z"
   },
   {
    "duration": 103,
    "start_time": "2024-06-17T10:37:14.174Z"
   },
   {
    "duration": 2,
    "start_time": "2024-06-17T10:37:14.281Z"
   },
   {
    "duration": 24,
    "start_time": "2024-06-17T10:37:14.284Z"
   },
   {
    "duration": 57,
    "start_time": "2024-06-17T10:38:13.340Z"
   },
   {
    "duration": 64,
    "start_time": "2024-06-17T10:38:28.570Z"
   },
   {
    "duration": 98,
    "start_time": "2024-06-17T10:38:38.577Z"
   },
   {
    "duration": 36,
    "start_time": "2024-06-17T10:39:10.326Z"
   },
   {
    "duration": 38,
    "start_time": "2024-06-17T10:42:12.823Z"
   },
   {
    "duration": 3,
    "start_time": "2024-06-17T10:43:33.541Z"
   },
   {
    "duration": 927,
    "start_time": "2024-06-17T10:43:40.410Z"
   },
   {
    "duration": 90,
    "start_time": "2024-06-17T10:43:41.338Z"
   },
   {
    "duration": 3,
    "start_time": "2024-06-17T10:43:41.429Z"
   },
   {
    "duration": 34,
    "start_time": "2024-06-17T10:43:41.433Z"
   },
   {
    "duration": 2,
    "start_time": "2024-06-17T10:44:01.808Z"
   },
   {
    "duration": 911,
    "start_time": "2024-06-17T10:44:07.942Z"
   },
   {
    "duration": 94,
    "start_time": "2024-06-17T10:44:08.855Z"
   },
   {
    "duration": 3,
    "start_time": "2024-06-17T10:44:08.951Z"
   },
   {
    "duration": 51,
    "start_time": "2024-06-17T10:44:08.955Z"
   },
   {
    "duration": 1017,
    "start_time": "2024-06-17T10:44:29.967Z"
   },
   {
    "duration": 89,
    "start_time": "2024-06-17T10:44:30.986Z"
   },
   {
    "duration": 2,
    "start_time": "2024-06-17T10:44:31.077Z"
   },
   {
    "duration": 43,
    "start_time": "2024-06-17T10:44:31.080Z"
   },
   {
    "duration": 934,
    "start_time": "2024-06-17T10:44:41.825Z"
   },
   {
    "duration": 107,
    "start_time": "2024-06-17T10:44:42.761Z"
   },
   {
    "duration": 3,
    "start_time": "2024-06-17T10:44:42.869Z"
   },
   {
    "duration": 56,
    "start_time": "2024-06-17T10:44:42.873Z"
   },
   {
    "duration": 948,
    "start_time": "2024-06-17T10:49:46.756Z"
   },
   {
    "duration": 102,
    "start_time": "2024-06-17T10:49:47.705Z"
   },
   {
    "duration": 2,
    "start_time": "2024-06-17T10:49:47.812Z"
   },
   {
    "duration": 36,
    "start_time": "2024-06-17T10:49:47.816Z"
   },
   {
    "duration": 2,
    "start_time": "2024-06-17T10:49:47.853Z"
   },
   {
    "duration": 7,
    "start_time": "2024-06-17T10:49:47.856Z"
   },
   {
    "duration": 26,
    "start_time": "2024-06-17T10:49:47.865Z"
   },
   {
    "duration": 29,
    "start_time": "2024-06-17T10:50:29.370Z"
   },
   {
    "duration": 933,
    "start_time": "2024-06-17T10:51:37.108Z"
   },
   {
    "duration": 85,
    "start_time": "2024-06-17T10:51:38.043Z"
   },
   {
    "duration": 2,
    "start_time": "2024-06-17T10:51:38.129Z"
   },
   {
    "duration": 31,
    "start_time": "2024-06-17T10:51:38.133Z"
   },
   {
    "duration": 2,
    "start_time": "2024-06-17T10:51:38.165Z"
   },
   {
    "duration": 8,
    "start_time": "2024-06-17T10:51:38.168Z"
   },
   {
    "duration": 13,
    "start_time": "2024-06-17T10:51:38.177Z"
   },
   {
    "duration": 29,
    "start_time": "2024-06-17T10:51:38.191Z"
   },
   {
    "duration": 2,
    "start_time": "2024-06-17T10:52:19.569Z"
   },
   {
    "duration": 2,
    "start_time": "2024-06-17T10:52:21.581Z"
   },
   {
    "duration": 3,
    "start_time": "2024-06-17T10:56:55.088Z"
   },
   {
    "duration": 9,
    "start_time": "2024-06-17T10:57:17.184Z"
   },
   {
    "duration": 85,
    "start_time": "2024-06-17T10:59:16.833Z"
   },
   {
    "duration": 63,
    "start_time": "2024-06-17T10:59:38.984Z"
   },
   {
    "duration": 12,
    "start_time": "2024-06-17T10:59:50.187Z"
   },
   {
    "duration": 8,
    "start_time": "2024-06-17T11:00:00.162Z"
   },
   {
    "duration": 9,
    "start_time": "2024-06-17T11:00:21.308Z"
   },
   {
    "duration": 8,
    "start_time": "2024-06-17T11:00:32.800Z"
   },
   {
    "duration": 12,
    "start_time": "2024-06-17T11:14:13.309Z"
   },
   {
    "duration": 929,
    "start_time": "2024-06-17T11:14:57.328Z"
   },
   {
    "duration": 100,
    "start_time": "2024-06-17T11:14:58.259Z"
   },
   {
    "duration": 2,
    "start_time": "2024-06-17T11:14:58.360Z"
   },
   {
    "duration": 57,
    "start_time": "2024-06-17T11:14:58.364Z"
   },
   {
    "duration": 2,
    "start_time": "2024-06-17T11:14:58.423Z"
   },
   {
    "duration": 13,
    "start_time": "2024-06-17T11:14:58.426Z"
   },
   {
    "duration": 19,
    "start_time": "2024-06-17T11:14:58.440Z"
   },
   {
    "duration": 34,
    "start_time": "2024-06-17T11:14:58.460Z"
   },
   {
    "duration": 10,
    "start_time": "2024-06-17T11:14:58.495Z"
   },
   {
    "duration": 19,
    "start_time": "2024-06-17T11:14:58.507Z"
   },
   {
    "duration": 9,
    "start_time": "2024-06-17T11:15:21.622Z"
   },
   {
    "duration": 8,
    "start_time": "2024-06-17T11:16:13.689Z"
   },
   {
    "duration": 9,
    "start_time": "2024-06-17T11:16:38.127Z"
   },
   {
    "duration": 967,
    "start_time": "2024-06-17T11:18:17.982Z"
   },
   {
    "duration": 80,
    "start_time": "2024-06-17T11:18:18.951Z"
   },
   {
    "duration": 2,
    "start_time": "2024-06-17T11:18:19.033Z"
   },
   {
    "duration": 36,
    "start_time": "2024-06-17T11:18:19.037Z"
   },
   {
    "duration": 2,
    "start_time": "2024-06-17T11:18:19.074Z"
   },
   {
    "duration": 6,
    "start_time": "2024-06-17T11:18:19.077Z"
   },
   {
    "duration": 13,
    "start_time": "2024-06-17T11:18:19.085Z"
   },
   {
    "duration": 29,
    "start_time": "2024-06-17T11:18:19.099Z"
   },
   {
    "duration": 9,
    "start_time": "2024-06-17T11:18:19.130Z"
   },
   {
    "duration": 9,
    "start_time": "2024-06-17T11:18:19.141Z"
   },
   {
    "duration": 39,
    "start_time": "2024-06-17T11:18:19.151Z"
   },
   {
    "duration": 12,
    "start_time": "2024-06-17T11:24:09.926Z"
   },
   {
    "duration": 1284,
    "start_time": "2024-06-18T07:48:17.641Z"
   },
   {
    "duration": 299,
    "start_time": "2024-06-18T07:48:18.927Z"
   },
   {
    "duration": 3,
    "start_time": "2024-06-18T07:48:19.228Z"
   },
   {
    "duration": 61,
    "start_time": "2024-06-18T07:48:19.233Z"
   },
   {
    "duration": 3,
    "start_time": "2024-06-18T07:48:19.296Z"
   },
   {
    "duration": 29,
    "start_time": "2024-06-18T07:48:19.300Z"
   },
   {
    "duration": 54,
    "start_time": "2024-06-18T07:48:19.331Z"
   },
   {
    "duration": 50,
    "start_time": "2024-06-18T07:48:19.387Z"
   },
   {
    "duration": 20,
    "start_time": "2024-06-18T07:48:19.439Z"
   },
   {
    "duration": 17,
    "start_time": "2024-06-18T07:48:19.461Z"
   },
   {
    "duration": 55,
    "start_time": "2024-06-18T07:48:19.480Z"
   },
   {
    "duration": 10,
    "start_time": "2024-06-18T08:08:05.374Z"
   },
   {
    "duration": 14,
    "start_time": "2024-06-18T08:08:14.060Z"
   },
   {
    "duration": 98,
    "start_time": "2024-06-18T08:16:57.134Z"
   },
   {
    "duration": 1145,
    "start_time": "2024-06-18T08:17:11.138Z"
   },
   {
    "duration": 132,
    "start_time": "2024-06-18T08:17:12.285Z"
   },
   {
    "duration": 3,
    "start_time": "2024-06-18T08:17:12.419Z"
   },
   {
    "duration": 65,
    "start_time": "2024-06-18T08:17:12.423Z"
   },
   {
    "duration": 2,
    "start_time": "2024-06-18T08:17:12.490Z"
   },
   {
    "duration": 8,
    "start_time": "2024-06-18T08:17:12.494Z"
   },
   {
    "duration": 21,
    "start_time": "2024-06-18T08:17:12.503Z"
   },
   {
    "duration": 66,
    "start_time": "2024-06-18T08:17:12.527Z"
   },
   {
    "duration": 17,
    "start_time": "2024-06-18T08:17:12.595Z"
   },
   {
    "duration": 42,
    "start_time": "2024-06-18T08:17:12.614Z"
   },
   {
    "duration": 14,
    "start_time": "2024-06-18T08:17:12.658Z"
   },
   {
    "duration": 66,
    "start_time": "2024-06-18T08:24:43.626Z"
   },
   {
    "duration": 139,
    "start_time": "2024-06-18T08:24:55.083Z"
   },
   {
    "duration": 76,
    "start_time": "2024-06-18T08:25:12.101Z"
   },
   {
    "duration": 1207,
    "start_time": "2024-06-18T08:26:25.048Z"
   },
   {
    "duration": 136,
    "start_time": "2024-06-18T08:26:26.257Z"
   },
   {
    "duration": 3,
    "start_time": "2024-06-18T08:26:26.395Z"
   },
   {
    "duration": 97,
    "start_time": "2024-06-18T08:26:26.400Z"
   },
   {
    "duration": 3,
    "start_time": "2024-06-18T08:26:26.499Z"
   },
   {
    "duration": 38,
    "start_time": "2024-06-18T08:26:26.504Z"
   },
   {
    "duration": 25,
    "start_time": "2024-06-18T08:26:26.544Z"
   },
   {
    "duration": 41,
    "start_time": "2024-06-18T08:26:26.571Z"
   },
   {
    "duration": 13,
    "start_time": "2024-06-18T08:26:26.614Z"
   },
   {
    "duration": 37,
    "start_time": "2024-06-18T08:26:26.629Z"
   },
   {
    "duration": 17,
    "start_time": "2024-06-18T08:26:26.667Z"
   },
   {
    "duration": 148,
    "start_time": "2024-06-18T08:26:26.686Z"
   },
   {
    "duration": 624,
    "start_time": "2024-06-18T08:28:42.058Z"
   },
   {
    "duration": 435,
    "start_time": "2024-06-18T08:57:05.414Z"
   },
   {
    "duration": 445,
    "start_time": "2024-06-18T08:57:35.027Z"
   },
   {
    "duration": 12,
    "start_time": "2024-06-18T08:58:26.927Z"
   },
   {
    "duration": 476,
    "start_time": "2024-06-18T09:01:31.495Z"
   },
   {
    "duration": 473,
    "start_time": "2024-06-18T09:01:44.213Z"
   },
   {
    "duration": 484,
    "start_time": "2024-06-18T09:02:54.373Z"
   },
   {
    "duration": 488,
    "start_time": "2024-06-18T09:03:52.732Z"
   },
   {
    "duration": 8,
    "start_time": "2024-06-18T09:04:44.462Z"
   },
   {
    "duration": 14,
    "start_time": "2024-06-18T09:05:46.242Z"
   },
   {
    "duration": 1071,
    "start_time": "2024-06-18T09:08:58.531Z"
   },
   {
    "duration": 103,
    "start_time": "2024-06-18T09:08:59.604Z"
   },
   {
    "duration": 3,
    "start_time": "2024-06-18T09:08:59.708Z"
   },
   {
    "duration": 42,
    "start_time": "2024-06-18T09:08:59.713Z"
   },
   {
    "duration": 2,
    "start_time": "2024-06-18T09:08:59.757Z"
   },
   {
    "duration": 74,
    "start_time": "2024-06-18T09:08:59.761Z"
   },
   {
    "duration": 0,
    "start_time": "2024-06-18T09:08:59.837Z"
   },
   {
    "duration": 0,
    "start_time": "2024-06-18T09:08:59.838Z"
   },
   {
    "duration": 0,
    "start_time": "2024-06-18T09:08:59.839Z"
   },
   {
    "duration": 0,
    "start_time": "2024-06-18T09:08:59.839Z"
   },
   {
    "duration": 0,
    "start_time": "2024-06-18T09:08:59.840Z"
   },
   {
    "duration": 0,
    "start_time": "2024-06-18T09:08:59.841Z"
   },
   {
    "duration": 65,
    "start_time": "2024-06-18T09:09:43.562Z"
   },
   {
    "duration": 1067,
    "start_time": "2024-06-18T09:10:25.641Z"
   },
   {
    "duration": 127,
    "start_time": "2024-06-18T09:10:26.710Z"
   },
   {
    "duration": 2,
    "start_time": "2024-06-18T09:10:26.839Z"
   },
   {
    "duration": 45,
    "start_time": "2024-06-18T09:10:26.843Z"
   },
   {
    "duration": 4,
    "start_time": "2024-06-18T09:10:26.890Z"
   },
   {
    "duration": 7,
    "start_time": "2024-06-18T09:10:26.895Z"
   },
   {
    "duration": 15,
    "start_time": "2024-06-18T09:10:26.904Z"
   },
   {
    "duration": 68,
    "start_time": "2024-06-18T09:10:26.921Z"
   },
   {
    "duration": 13,
    "start_time": "2024-06-18T09:10:26.991Z"
   },
   {
    "duration": 10,
    "start_time": "2024-06-18T09:10:27.006Z"
   },
   {
    "duration": 46,
    "start_time": "2024-06-18T09:10:27.018Z"
   },
   {
    "duration": 576,
    "start_time": "2024-06-18T09:10:27.066Z"
   },
   {
    "duration": 506,
    "start_time": "2024-06-18T09:10:51.785Z"
   },
   {
    "duration": 484,
    "start_time": "2024-06-18T09:10:59.635Z"
   },
   {
    "duration": 223,
    "start_time": "2024-06-18T09:14:00.808Z"
   },
   {
    "duration": 340,
    "start_time": "2024-06-18T09:17:18.418Z"
   },
   {
    "duration": 306,
    "start_time": "2024-06-18T09:17:59.714Z"
   },
   {
    "duration": 369,
    "start_time": "2024-06-18T09:18:18.472Z"
   },
   {
    "duration": 349,
    "start_time": "2024-06-18T09:20:54.558Z"
   },
   {
    "duration": 1078,
    "start_time": "2024-06-18T09:34:13.967Z"
   },
   {
    "duration": 145,
    "start_time": "2024-06-18T09:34:15.047Z"
   },
   {
    "duration": 3,
    "start_time": "2024-06-18T09:34:15.194Z"
   },
   {
    "duration": 93,
    "start_time": "2024-06-18T09:34:15.198Z"
   },
   {
    "duration": 3,
    "start_time": "2024-06-18T09:34:15.293Z"
   },
   {
    "duration": 8,
    "start_time": "2024-06-18T09:34:15.298Z"
   },
   {
    "duration": 15,
    "start_time": "2024-06-18T09:34:15.308Z"
   },
   {
    "duration": 58,
    "start_time": "2024-06-18T09:34:15.325Z"
   },
   {
    "duration": 15,
    "start_time": "2024-06-18T09:34:15.385Z"
   },
   {
    "duration": 12,
    "start_time": "2024-06-18T09:34:15.401Z"
   },
   {
    "duration": 54,
    "start_time": "2024-06-18T09:34:15.414Z"
   },
   {
    "duration": 615,
    "start_time": "2024-06-18T09:34:15.469Z"
   },
   {
    "duration": 258,
    "start_time": "2024-06-18T09:34:16.086Z"
   },
   {
    "duration": 370,
    "start_time": "2024-06-18T09:34:16.354Z"
   },
   {
    "duration": 329,
    "start_time": "2024-06-18T09:34:32.206Z"
   },
   {
    "duration": 262,
    "start_time": "2024-06-18T09:43:39.673Z"
   },
   {
    "duration": 274,
    "start_time": "2024-06-18T09:49:13.957Z"
   },
   {
    "duration": 253,
    "start_time": "2024-06-18T09:49:43.267Z"
   },
   {
    "duration": 249,
    "start_time": "2024-06-18T09:51:07.539Z"
   },
   {
    "duration": 240,
    "start_time": "2024-06-18T09:51:17.172Z"
   },
   {
    "duration": 322,
    "start_time": "2024-06-18T09:51:21.288Z"
   },
   {
    "duration": 244,
    "start_time": "2024-06-18T09:51:36.717Z"
   },
   {
    "duration": 239,
    "start_time": "2024-06-18T09:55:13.679Z"
   },
   {
    "duration": 579,
    "start_time": "2024-06-18T09:55:28.660Z"
   },
   {
    "duration": 332,
    "start_time": "2024-06-18T09:59:06.365Z"
   },
   {
    "duration": 292,
    "start_time": "2024-06-18T09:59:25.650Z"
   },
   {
    "duration": 74,
    "start_time": "2024-06-18T09:59:45.792Z"
   },
   {
    "duration": 64,
    "start_time": "2024-06-18T09:59:52.171Z"
   },
   {
    "duration": 330,
    "start_time": "2024-06-18T10:00:28.131Z"
   },
   {
    "duration": 311,
    "start_time": "2024-06-18T10:00:52.967Z"
   },
   {
    "duration": 399,
    "start_time": "2024-06-18T10:02:18.716Z"
   },
   {
    "duration": 286,
    "start_time": "2024-06-18T10:03:18.790Z"
   },
   {
    "duration": 420,
    "start_time": "2024-06-18T10:04:13.237Z"
   },
   {
    "duration": 350,
    "start_time": "2024-06-18T10:04:22.958Z"
   },
   {
    "duration": 286,
    "start_time": "2024-06-18T10:04:32.682Z"
   },
   {
    "duration": 307,
    "start_time": "2024-06-18T10:04:49.558Z"
   },
   {
    "duration": 355,
    "start_time": "2024-06-18T10:06:50.648Z"
   },
   {
    "duration": 350,
    "start_time": "2024-06-18T10:07:01.757Z"
   },
   {
    "duration": 13,
    "start_time": "2024-06-18T10:19:55.276Z"
   },
   {
    "duration": 11,
    "start_time": "2024-06-18T10:20:59.303Z"
   },
   {
    "duration": 9,
    "start_time": "2024-06-18T10:21:34.783Z"
   },
   {
    "duration": 21,
    "start_time": "2024-06-18T10:21:41.969Z"
   },
   {
    "duration": 1172,
    "start_time": "2024-06-18T10:22:01.756Z"
   },
   {
    "duration": 136,
    "start_time": "2024-06-18T10:22:02.930Z"
   },
   {
    "duration": 2,
    "start_time": "2024-06-18T10:22:03.068Z"
   },
   {
    "duration": 53,
    "start_time": "2024-06-18T10:22:03.072Z"
   },
   {
    "duration": 3,
    "start_time": "2024-06-18T10:22:03.127Z"
   },
   {
    "duration": 10,
    "start_time": "2024-06-18T10:22:03.132Z"
   },
   {
    "duration": 24,
    "start_time": "2024-06-18T10:22:03.144Z"
   },
   {
    "duration": 49,
    "start_time": "2024-06-18T10:22:03.170Z"
   },
   {
    "duration": 38,
    "start_time": "2024-06-18T10:22:03.221Z"
   },
   {
    "duration": 12,
    "start_time": "2024-06-18T10:22:03.261Z"
   },
   {
    "duration": 15,
    "start_time": "2024-06-18T10:22:03.274Z"
   },
   {
    "duration": 654,
    "start_time": "2024-06-18T10:22:03.291Z"
   },
   {
    "duration": 271,
    "start_time": "2024-06-18T10:22:03.947Z"
   },
   {
    "duration": 381,
    "start_time": "2024-06-18T10:22:04.220Z"
   },
   {
    "duration": 256,
    "start_time": "2024-06-18T10:22:04.603Z"
   },
   {
    "duration": 344,
    "start_time": "2024-06-18T10:22:04.860Z"
   },
   {
    "duration": 115,
    "start_time": "2024-06-18T10:22:05.205Z"
   },
   {
    "duration": 0,
    "start_time": "2024-06-18T10:22:05.322Z"
   },
   {
    "duration": 6,
    "start_time": "2024-06-18T10:23:06.232Z"
   },
   {
    "duration": 1086,
    "start_time": "2024-06-18T10:23:09.466Z"
   },
   {
    "duration": 132,
    "start_time": "2024-06-18T10:23:10.554Z"
   },
   {
    "duration": 3,
    "start_time": "2024-06-18T10:23:10.688Z"
   },
   {
    "duration": 50,
    "start_time": "2024-06-18T10:23:10.692Z"
   },
   {
    "duration": 4,
    "start_time": "2024-06-18T10:23:10.744Z"
   },
   {
    "duration": 52,
    "start_time": "2024-06-18T10:23:10.749Z"
   },
   {
    "duration": 23,
    "start_time": "2024-06-18T10:23:10.803Z"
   },
   {
    "duration": 46,
    "start_time": "2024-06-18T10:23:10.828Z"
   },
   {
    "duration": 15,
    "start_time": "2024-06-18T10:23:10.876Z"
   },
   {
    "duration": 30,
    "start_time": "2024-06-18T10:23:10.893Z"
   },
   {
    "duration": 38,
    "start_time": "2024-06-18T10:23:10.925Z"
   },
   {
    "duration": 266,
    "start_time": "2024-06-18T10:23:10.965Z"
   },
   {
    "duration": 0,
    "start_time": "2024-06-18T10:23:11.233Z"
   },
   {
    "duration": 0,
    "start_time": "2024-06-18T10:23:11.234Z"
   },
   {
    "duration": 0,
    "start_time": "2024-06-18T10:23:11.235Z"
   },
   {
    "duration": 0,
    "start_time": "2024-06-18T10:23:11.236Z"
   },
   {
    "duration": 0,
    "start_time": "2024-06-18T10:23:11.237Z"
   },
   {
    "duration": 0,
    "start_time": "2024-06-18T10:23:11.238Z"
   },
   {
    "duration": 1125,
    "start_time": "2024-06-18T10:23:38.022Z"
   },
   {
    "duration": 134,
    "start_time": "2024-06-18T10:23:39.151Z"
   },
   {
    "duration": 3,
    "start_time": "2024-06-18T10:23:39.287Z"
   },
   {
    "duration": 74,
    "start_time": "2024-06-18T10:23:39.292Z"
   },
   {
    "duration": 15,
    "start_time": "2024-06-18T10:23:39.368Z"
   },
   {
    "duration": 31,
    "start_time": "2024-06-18T10:23:39.384Z"
   },
   {
    "duration": 47,
    "start_time": "2024-06-18T10:23:39.417Z"
   },
   {
    "duration": 72,
    "start_time": "2024-06-18T10:23:39.466Z"
   },
   {
    "duration": 19,
    "start_time": "2024-06-18T10:23:39.540Z"
   },
   {
    "duration": 29,
    "start_time": "2024-06-18T10:23:39.561Z"
   },
   {
    "duration": 49,
    "start_time": "2024-06-18T10:23:39.592Z"
   },
   {
    "duration": 644,
    "start_time": "2024-06-18T10:23:39.643Z"
   },
   {
    "duration": 238,
    "start_time": "2024-06-18T10:23:40.289Z"
   },
   {
    "duration": 391,
    "start_time": "2024-06-18T10:23:40.528Z"
   },
   {
    "duration": 268,
    "start_time": "2024-06-18T10:23:40.920Z"
   },
   {
    "duration": 341,
    "start_time": "2024-06-18T10:23:41.190Z"
   },
   {
    "duration": 129,
    "start_time": "2024-06-18T10:23:41.532Z"
   },
   {
    "duration": 13,
    "start_time": "2024-06-18T10:23:41.663Z"
   },
   {
    "duration": 212,
    "start_time": "2024-06-18T10:25:28.539Z"
   },
   {
    "duration": 178,
    "start_time": "2024-06-18T10:25:37.718Z"
   },
   {
    "duration": 165,
    "start_time": "2024-06-18T10:26:54.867Z"
   },
   {
    "duration": 259,
    "start_time": "2024-06-18T10:27:30.411Z"
   },
   {
    "duration": 171,
    "start_time": "2024-06-18T10:28:28.660Z"
   },
   {
    "duration": 1127,
    "start_time": "2024-06-18T10:29:31.114Z"
   },
   {
    "duration": 137,
    "start_time": "2024-06-18T10:29:32.243Z"
   },
   {
    "duration": 3,
    "start_time": "2024-06-18T10:29:32.382Z"
   },
   {
    "duration": 50,
    "start_time": "2024-06-18T10:29:32.387Z"
   },
   {
    "duration": 6,
    "start_time": "2024-06-18T10:29:32.440Z"
   },
   {
    "duration": 13,
    "start_time": "2024-06-18T10:29:32.454Z"
   },
   {
    "duration": 29,
    "start_time": "2024-06-18T10:29:32.469Z"
   },
   {
    "duration": 47,
    "start_time": "2024-06-18T10:29:32.500Z"
   },
   {
    "duration": 29,
    "start_time": "2024-06-18T10:29:32.548Z"
   },
   {
    "duration": 13,
    "start_time": "2024-06-18T10:29:32.579Z"
   },
   {
    "duration": 20,
    "start_time": "2024-06-18T10:29:32.594Z"
   },
   {
    "duration": 670,
    "start_time": "2024-06-18T10:29:32.616Z"
   },
   {
    "duration": 253,
    "start_time": "2024-06-18T10:29:33.287Z"
   },
   {
    "duration": 378,
    "start_time": "2024-06-18T10:29:33.542Z"
   },
   {
    "duration": 266,
    "start_time": "2024-06-18T10:29:33.921Z"
   },
   {
    "duration": 356,
    "start_time": "2024-06-18T10:29:34.189Z"
   },
   {
    "duration": 196,
    "start_time": "2024-06-18T10:29:34.546Z"
   },
   {
    "duration": 9,
    "start_time": "2024-06-18T10:32:35.807Z"
   },
   {
    "duration": 16,
    "start_time": "2024-06-18T10:33:47.934Z"
   },
   {
    "duration": 9,
    "start_time": "2024-06-18T10:34:08.790Z"
   },
   {
    "duration": 6,
    "start_time": "2024-06-18T10:38:29.243Z"
   },
   {
    "duration": 9,
    "start_time": "2024-06-18T10:40:53.298Z"
   },
   {
    "duration": 7,
    "start_time": "2024-06-18T10:40:55.171Z"
   },
   {
    "duration": 7,
    "start_time": "2024-06-18T10:41:11.034Z"
   },
   {
    "duration": 5,
    "start_time": "2024-06-18T10:41:14.263Z"
   },
   {
    "duration": 7,
    "start_time": "2024-06-18T10:41:22.802Z"
   },
   {
    "duration": 5,
    "start_time": "2024-06-18T10:42:10.417Z"
   },
   {
    "duration": 5,
    "start_time": "2024-06-18T10:42:46.366Z"
   },
   {
    "duration": 5,
    "start_time": "2024-06-18T10:45:11.119Z"
   },
   {
    "duration": 5,
    "start_time": "2024-06-18T10:45:39.994Z"
   },
   {
    "duration": 5,
    "start_time": "2024-06-18T10:45:48.021Z"
   },
   {
    "duration": 1107,
    "start_time": "2024-06-18T10:48:37.751Z"
   },
   {
    "duration": 136,
    "start_time": "2024-06-18T10:48:38.860Z"
   },
   {
    "duration": 3,
    "start_time": "2024-06-18T10:48:38.997Z"
   },
   {
    "duration": 46,
    "start_time": "2024-06-18T10:48:39.002Z"
   },
   {
    "duration": 4,
    "start_time": "2024-06-18T10:48:39.049Z"
   },
   {
    "duration": 8,
    "start_time": "2024-06-18T10:48:39.055Z"
   },
   {
    "duration": 16,
    "start_time": "2024-06-18T10:48:39.064Z"
   },
   {
    "duration": 41,
    "start_time": "2024-06-18T10:48:39.081Z"
   },
   {
    "duration": 38,
    "start_time": "2024-06-18T10:48:39.123Z"
   },
   {
    "duration": 12,
    "start_time": "2024-06-18T10:48:39.164Z"
   },
   {
    "duration": 19,
    "start_time": "2024-06-18T10:48:39.177Z"
   },
   {
    "duration": 668,
    "start_time": "2024-06-18T10:48:39.198Z"
   },
   {
    "duration": 267,
    "start_time": "2024-06-18T10:48:39.867Z"
   },
   {
    "duration": 383,
    "start_time": "2024-06-18T10:48:40.136Z"
   },
   {
    "duration": 281,
    "start_time": "2024-06-18T10:48:40.520Z"
   },
   {
    "duration": 343,
    "start_time": "2024-06-18T10:48:40.803Z"
   },
   {
    "duration": 181,
    "start_time": "2024-06-18T10:48:41.155Z"
   },
   {
    "duration": 17,
    "start_time": "2024-06-18T10:48:41.338Z"
   },
   {
    "duration": 5,
    "start_time": "2024-06-18T10:48:41.357Z"
   },
   {
    "duration": 127,
    "start_time": "2024-06-18T10:48:41.364Z"
   },
   {
    "duration": 136,
    "start_time": "2024-06-18T10:48:58.900Z"
   },
   {
    "duration": 140,
    "start_time": "2024-06-18T10:50:02.432Z"
   },
   {
    "duration": 147,
    "start_time": "2024-06-18T10:50:10.503Z"
   },
   {
    "duration": 309,
    "start_time": "2024-06-18T10:50:56.428Z"
   },
   {
    "duration": 197,
    "start_time": "2024-06-18T10:52:13.689Z"
   },
   {
    "duration": 8,
    "start_time": "2024-06-18T10:52:38.844Z"
   },
   {
    "duration": 192,
    "start_time": "2024-06-18T10:54:26.436Z"
   },
   {
    "duration": 226,
    "start_time": "2024-06-18T10:55:00.120Z"
   },
   {
    "duration": 190,
    "start_time": "2024-06-18T10:55:27.727Z"
   },
   {
    "duration": 202,
    "start_time": "2024-06-18T10:55:31.437Z"
   },
   {
    "duration": 193,
    "start_time": "2024-06-18T10:55:39.010Z"
   },
   {
    "duration": 200,
    "start_time": "2024-06-18T10:56:00.621Z"
   },
   {
    "duration": 1087,
    "start_time": "2024-06-18T10:59:36.789Z"
   },
   {
    "duration": 116,
    "start_time": "2024-06-18T10:59:37.878Z"
   },
   {
    "duration": 3,
    "start_time": "2024-06-18T10:59:37.995Z"
   },
   {
    "duration": 52,
    "start_time": "2024-06-18T10:59:38.000Z"
   },
   {
    "duration": 4,
    "start_time": "2024-06-18T10:59:38.054Z"
   },
   {
    "duration": 28,
    "start_time": "2024-06-18T10:59:38.059Z"
   },
   {
    "duration": 72,
    "start_time": "2024-06-18T10:59:38.088Z"
   },
   {
    "duration": 57,
    "start_time": "2024-06-18T10:59:38.162Z"
   },
   {
    "duration": 14,
    "start_time": "2024-06-18T10:59:38.220Z"
   },
   {
    "duration": 23,
    "start_time": "2024-06-18T10:59:38.235Z"
   },
   {
    "duration": 32,
    "start_time": "2024-06-18T10:59:38.259Z"
   },
   {
    "duration": 646,
    "start_time": "2024-06-18T10:59:38.293Z"
   },
   {
    "duration": 261,
    "start_time": "2024-06-18T10:59:38.941Z"
   },
   {
    "duration": 338,
    "start_time": "2024-06-18T10:59:39.205Z"
   },
   {
    "duration": 263,
    "start_time": "2024-06-18T10:59:39.544Z"
   },
   {
    "duration": 409,
    "start_time": "2024-06-18T10:59:39.809Z"
   },
   {
    "duration": 182,
    "start_time": "2024-06-18T10:59:40.220Z"
   },
   {
    "duration": 8,
    "start_time": "2024-06-18T10:59:40.404Z"
   },
   {
    "duration": 15,
    "start_time": "2024-06-18T10:59:40.414Z"
   },
   {
    "duration": 224,
    "start_time": "2024-06-18T10:59:40.431Z"
   },
   {
    "duration": 6,
    "start_time": "2024-06-18T11:01:07.617Z"
   },
   {
    "duration": 6,
    "start_time": "2024-06-18T11:02:21.420Z"
   },
   {
    "duration": 6,
    "start_time": "2024-06-18T11:13:40.235Z"
   },
   {
    "duration": 1120,
    "start_time": "2024-06-18T11:13:56.447Z"
   },
   {
    "duration": 113,
    "start_time": "2024-06-18T11:13:57.569Z"
   },
   {
    "duration": 3,
    "start_time": "2024-06-18T11:13:57.684Z"
   },
   {
    "duration": 51,
    "start_time": "2024-06-18T11:13:57.688Z"
   },
   {
    "duration": 4,
    "start_time": "2024-06-18T11:13:57.741Z"
   },
   {
    "duration": 18,
    "start_time": "2024-06-18T11:13:57.746Z"
   },
   {
    "duration": 40,
    "start_time": "2024-06-18T11:13:57.765Z"
   },
   {
    "duration": 39,
    "start_time": "2024-06-18T11:13:57.806Z"
   },
   {
    "duration": 20,
    "start_time": "2024-06-18T11:13:57.847Z"
   },
   {
    "duration": 28,
    "start_time": "2024-06-18T11:13:57.868Z"
   },
   {
    "duration": 18,
    "start_time": "2024-06-18T11:13:57.897Z"
   },
   {
    "duration": 659,
    "start_time": "2024-06-18T11:13:57.917Z"
   },
   {
    "duration": 255,
    "start_time": "2024-06-18T11:13:58.577Z"
   },
   {
    "duration": 374,
    "start_time": "2024-06-18T11:13:58.835Z"
   },
   {
    "duration": 282,
    "start_time": "2024-06-18T11:13:59.212Z"
   },
   {
    "duration": 357,
    "start_time": "2024-06-18T11:13:59.496Z"
   },
   {
    "duration": 183,
    "start_time": "2024-06-18T11:13:59.855Z"
   },
   {
    "duration": 8,
    "start_time": "2024-06-18T11:14:00.040Z"
   },
   {
    "duration": 129,
    "start_time": "2024-06-18T11:14:00.055Z"
   },
   {
    "duration": 300,
    "start_time": "2024-06-18T11:14:00.186Z"
   },
   {
    "duration": 5,
    "start_time": "2024-06-18T11:14:00.488Z"
   },
   {
    "duration": 1147,
    "start_time": "2024-06-18T11:23:30.425Z"
   },
   {
    "duration": 139,
    "start_time": "2024-06-18T11:23:31.574Z"
   },
   {
    "duration": 3,
    "start_time": "2024-06-18T11:23:31.715Z"
   },
   {
    "duration": 91,
    "start_time": "2024-06-18T11:23:31.719Z"
   },
   {
    "duration": 15,
    "start_time": "2024-06-18T11:23:31.812Z"
   },
   {
    "duration": 139,
    "start_time": "2024-06-18T11:23:31.828Z"
   },
   {
    "duration": 86,
    "start_time": "2024-06-18T11:23:31.969Z"
   },
   {
    "duration": 67,
    "start_time": "2024-06-18T11:23:32.057Z"
   },
   {
    "duration": 14,
    "start_time": "2024-06-18T11:23:32.125Z"
   },
   {
    "duration": 22,
    "start_time": "2024-06-18T11:23:32.141Z"
   },
   {
    "duration": 30,
    "start_time": "2024-06-18T11:23:32.164Z"
   },
   {
    "duration": 662,
    "start_time": "2024-06-18T11:23:32.196Z"
   },
   {
    "duration": 238,
    "start_time": "2024-06-18T11:23:32.860Z"
   },
   {
    "duration": 324,
    "start_time": "2024-06-18T11:23:33.101Z"
   },
   {
    "duration": 250,
    "start_time": "2024-06-18T11:23:33.427Z"
   },
   {
    "duration": 353,
    "start_time": "2024-06-18T11:23:33.679Z"
   },
   {
    "duration": 188,
    "start_time": "2024-06-18T11:23:34.034Z"
   },
   {
    "duration": 9,
    "start_time": "2024-06-18T11:23:34.224Z"
   },
   {
    "duration": 7,
    "start_time": "2024-06-18T11:23:34.255Z"
   },
   {
    "duration": 210,
    "start_time": "2024-06-18T11:23:34.263Z"
   },
   {
    "duration": 5,
    "start_time": "2024-06-18T11:23:34.475Z"
   },
   {
    "duration": 224,
    "start_time": "2024-06-18T11:23:34.482Z"
   },
   {
    "duration": 9,
    "start_time": "2024-06-18T11:38:39.327Z"
   },
   {
    "duration": 23,
    "start_time": "2024-06-18T11:43:56.945Z"
   },
   {
    "duration": 1096,
    "start_time": "2024-06-18T11:44:06.699Z"
   },
   {
    "duration": 136,
    "start_time": "2024-06-18T11:44:07.797Z"
   },
   {
    "duration": 2,
    "start_time": "2024-06-18T11:44:07.937Z"
   },
   {
    "duration": 62,
    "start_time": "2024-06-18T11:44:07.941Z"
   },
   {
    "duration": 4,
    "start_time": "2024-06-18T11:44:08.004Z"
   },
   {
    "duration": 11,
    "start_time": "2024-06-18T11:44:08.010Z"
   },
   {
    "duration": 38,
    "start_time": "2024-06-18T11:44:08.022Z"
   },
   {
    "duration": 42,
    "start_time": "2024-06-18T11:44:08.062Z"
   },
   {
    "duration": 48,
    "start_time": "2024-06-18T11:44:08.108Z"
   },
   {
    "duration": 14,
    "start_time": "2024-06-18T11:44:08.158Z"
   },
   {
    "duration": 18,
    "start_time": "2024-06-18T11:44:08.174Z"
   },
   {
    "duration": 670,
    "start_time": "2024-06-18T11:44:08.194Z"
   },
   {
    "duration": 264,
    "start_time": "2024-06-18T11:44:08.867Z"
   },
   {
    "duration": 378,
    "start_time": "2024-06-18T11:44:09.133Z"
   },
   {
    "duration": 266,
    "start_time": "2024-06-18T11:44:09.513Z"
   },
   {
    "duration": 342,
    "start_time": "2024-06-18T11:44:09.781Z"
   },
   {
    "duration": 205,
    "start_time": "2024-06-18T11:44:10.125Z"
   },
   {
    "duration": 8,
    "start_time": "2024-06-18T11:44:10.332Z"
   },
   {
    "duration": 5,
    "start_time": "2024-06-18T11:44:10.341Z"
   },
   {
    "duration": 214,
    "start_time": "2024-06-18T11:44:10.356Z"
   },
   {
    "duration": 5,
    "start_time": "2024-06-18T11:44:10.572Z"
   },
   {
    "duration": 153,
    "start_time": "2024-06-18T11:44:10.579Z"
   },
   {
    "duration": 1107,
    "start_time": "2024-06-18T11:45:55.531Z"
   },
   {
    "duration": 136,
    "start_time": "2024-06-18T11:45:56.640Z"
   },
   {
    "duration": 3,
    "start_time": "2024-06-18T11:45:56.777Z"
   },
   {
    "duration": 47,
    "start_time": "2024-06-18T11:45:56.781Z"
   },
   {
    "duration": 4,
    "start_time": "2024-06-18T11:45:56.830Z"
   },
   {
    "duration": 10,
    "start_time": "2024-06-18T11:45:56.836Z"
   },
   {
    "duration": 20,
    "start_time": "2024-06-18T11:45:56.847Z"
   },
   {
    "duration": 40,
    "start_time": "2024-06-18T11:45:56.869Z"
   },
   {
    "duration": 52,
    "start_time": "2024-06-18T11:45:56.911Z"
   },
   {
    "duration": 13,
    "start_time": "2024-06-18T11:45:56.965Z"
   },
   {
    "duration": 29,
    "start_time": "2024-06-18T11:45:56.979Z"
   },
   {
    "duration": 658,
    "start_time": "2024-06-18T11:45:57.010Z"
   },
   {
    "duration": 244,
    "start_time": "2024-06-18T11:45:57.669Z"
   },
   {
    "duration": 402,
    "start_time": "2024-06-18T11:45:57.915Z"
   },
   {
    "duration": 266,
    "start_time": "2024-06-18T11:45:58.319Z"
   },
   {
    "duration": 347,
    "start_time": "2024-06-18T11:45:58.587Z"
   },
   {
    "duration": 187,
    "start_time": "2024-06-18T11:45:58.935Z"
   },
   {
    "duration": 9,
    "start_time": "2024-06-18T11:45:59.124Z"
   },
   {
    "duration": 25,
    "start_time": "2024-06-18T11:45:59.135Z"
   },
   {
    "duration": 202,
    "start_time": "2024-06-18T11:45:59.162Z"
   },
   {
    "duration": 5,
    "start_time": "2024-06-18T11:45:59.366Z"
   },
   {
    "duration": 148,
    "start_time": "2024-06-18T11:45:59.373Z"
   },
   {
    "duration": 1110,
    "start_time": "2024-06-18T11:47:50.433Z"
   },
   {
    "duration": 138,
    "start_time": "2024-06-18T11:47:51.544Z"
   },
   {
    "duration": 3,
    "start_time": "2024-06-18T11:47:51.684Z"
   },
   {
    "duration": 60,
    "start_time": "2024-06-18T11:47:51.689Z"
   },
   {
    "duration": 5,
    "start_time": "2024-06-18T11:47:51.752Z"
   },
   {
    "duration": 10,
    "start_time": "2024-06-18T11:47:51.758Z"
   },
   {
    "duration": 24,
    "start_time": "2024-06-18T11:47:51.770Z"
   },
   {
    "duration": 60,
    "start_time": "2024-06-18T11:47:51.796Z"
   },
   {
    "duration": 15,
    "start_time": "2024-06-18T11:47:51.858Z"
   },
   {
    "duration": 12,
    "start_time": "2024-06-18T11:47:51.875Z"
   },
   {
    "duration": 41,
    "start_time": "2024-06-18T11:47:51.888Z"
   },
   {
    "duration": 632,
    "start_time": "2024-06-18T11:47:51.931Z"
   },
   {
    "duration": 267,
    "start_time": "2024-06-18T11:47:52.564Z"
   },
   {
    "duration": 385,
    "start_time": "2024-06-18T11:47:52.834Z"
   },
   {
    "duration": 270,
    "start_time": "2024-06-18T11:47:53.221Z"
   },
   {
    "duration": 320,
    "start_time": "2024-06-18T11:47:53.492Z"
   },
   {
    "duration": 177,
    "start_time": "2024-06-18T11:47:53.813Z"
   },
   {
    "duration": 8,
    "start_time": "2024-06-18T11:47:53.992Z"
   },
   {
    "duration": 10,
    "start_time": "2024-06-18T11:47:54.002Z"
   },
   {
    "duration": 212,
    "start_time": "2024-06-18T11:47:54.014Z"
   },
   {
    "duration": 6,
    "start_time": "2024-06-18T11:47:54.228Z"
   },
   {
    "duration": 250,
    "start_time": "2024-06-18T11:47:54.235Z"
   },
   {
    "duration": 1116,
    "start_time": "2024-06-18T11:49:57.715Z"
   },
   {
    "duration": 134,
    "start_time": "2024-06-18T11:49:58.833Z"
   },
   {
    "duration": 3,
    "start_time": "2024-06-18T11:49:58.969Z"
   },
   {
    "duration": 47,
    "start_time": "2024-06-18T11:49:58.974Z"
   },
   {
    "duration": 4,
    "start_time": "2024-06-18T11:49:59.023Z"
   },
   {
    "duration": 12,
    "start_time": "2024-06-18T11:49:59.029Z"
   },
   {
    "duration": 27,
    "start_time": "2024-06-18T11:49:59.055Z"
   },
   {
    "duration": 38,
    "start_time": "2024-06-18T11:49:59.083Z"
   },
   {
    "duration": 34,
    "start_time": "2024-06-18T11:49:59.122Z"
   },
   {
    "duration": 14,
    "start_time": "2024-06-18T11:49:59.159Z"
   },
   {
    "duration": 28,
    "start_time": "2024-06-18T11:49:59.175Z"
   },
   {
    "duration": 653,
    "start_time": "2024-06-18T11:49:59.205Z"
   },
   {
    "duration": 278,
    "start_time": "2024-06-18T11:49:59.860Z"
   },
   {
    "duration": 376,
    "start_time": "2024-06-18T11:50:00.140Z"
   },
   {
    "duration": 272,
    "start_time": "2024-06-18T11:50:00.518Z"
   },
   {
    "duration": 324,
    "start_time": "2024-06-18T11:50:00.792Z"
   },
   {
    "duration": 188,
    "start_time": "2024-06-18T11:50:01.118Z"
   },
   {
    "duration": 10,
    "start_time": "2024-06-18T11:50:01.308Z"
   },
   {
    "duration": 108,
    "start_time": "2024-06-18T11:50:01.319Z"
   },
   {
    "duration": 325,
    "start_time": "2024-06-18T11:50:01.429Z"
   },
   {
    "duration": 5,
    "start_time": "2024-06-18T11:50:01.756Z"
   },
   {
    "duration": 418,
    "start_time": "2024-06-18T11:50:01.763Z"
   },
   {
    "duration": 1032,
    "start_time": "2024-06-18T11:50:42.813Z"
   },
   {
    "duration": 136,
    "start_time": "2024-06-18T11:50:43.847Z"
   },
   {
    "duration": 4,
    "start_time": "2024-06-18T11:50:43.985Z"
   },
   {
    "duration": 91,
    "start_time": "2024-06-18T11:50:43.991Z"
   },
   {
    "duration": 4,
    "start_time": "2024-06-18T11:50:44.084Z"
   },
   {
    "duration": 9,
    "start_time": "2024-06-18T11:50:44.089Z"
   },
   {
    "duration": 21,
    "start_time": "2024-06-18T11:50:44.099Z"
   },
   {
    "duration": 65,
    "start_time": "2024-06-18T11:50:44.121Z"
   },
   {
    "duration": 14,
    "start_time": "2024-06-18T11:50:44.188Z"
   },
   {
    "duration": 11,
    "start_time": "2024-06-18T11:50:44.204Z"
   },
   {
    "duration": 51,
    "start_time": "2024-06-18T11:50:44.217Z"
   },
   {
    "duration": 642,
    "start_time": "2024-06-18T11:50:44.269Z"
   },
   {
    "duration": 255,
    "start_time": "2024-06-18T11:50:44.914Z"
   },
   {
    "duration": 380,
    "start_time": "2024-06-18T11:50:45.172Z"
   },
   {
    "duration": 267,
    "start_time": "2024-06-18T11:50:45.555Z"
   },
   {
    "duration": 408,
    "start_time": "2024-06-18T11:50:45.824Z"
   },
   {
    "duration": 183,
    "start_time": "2024-06-18T11:50:46.234Z"
   },
   {
    "duration": 8,
    "start_time": "2024-06-18T11:50:46.419Z"
   },
   {
    "duration": 5,
    "start_time": "2024-06-18T11:50:46.429Z"
   },
   {
    "duration": 209,
    "start_time": "2024-06-18T11:50:46.455Z"
   },
   {
    "duration": 6,
    "start_time": "2024-06-18T11:50:46.666Z"
   },
   {
    "duration": 394,
    "start_time": "2024-06-18T11:50:46.674Z"
   },
   {
    "duration": 392,
    "start_time": "2024-06-18T11:51:07.601Z"
   },
   {
    "duration": 1042,
    "start_time": "2024-06-18T11:59:49.105Z"
   },
   {
    "duration": 144,
    "start_time": "2024-06-18T11:59:50.149Z"
   },
   {
    "duration": 4,
    "start_time": "2024-06-18T11:59:50.295Z"
   },
   {
    "duration": 94,
    "start_time": "2024-06-18T11:59:50.301Z"
   },
   {
    "duration": 6,
    "start_time": "2024-06-18T11:59:50.397Z"
   },
   {
    "duration": 9,
    "start_time": "2024-06-18T11:59:50.404Z"
   },
   {
    "duration": 18,
    "start_time": "2024-06-18T11:59:50.415Z"
   },
   {
    "duration": 57,
    "start_time": "2024-06-18T11:59:50.435Z"
   },
   {
    "duration": 13,
    "start_time": "2024-06-18T11:59:50.493Z"
   },
   {
    "duration": 47,
    "start_time": "2024-06-18T11:59:50.509Z"
   },
   {
    "duration": 14,
    "start_time": "2024-06-18T11:59:50.557Z"
   },
   {
    "duration": 625,
    "start_time": "2024-06-18T11:59:50.573Z"
   },
   {
    "duration": 250,
    "start_time": "2024-06-18T11:59:51.199Z"
   },
   {
    "duration": 356,
    "start_time": "2024-06-18T11:59:51.455Z"
   },
   {
    "duration": 276,
    "start_time": "2024-06-18T11:59:51.813Z"
   },
   {
    "duration": 315,
    "start_time": "2024-06-18T11:59:52.091Z"
   },
   {
    "duration": 179,
    "start_time": "2024-06-18T11:59:52.407Z"
   },
   {
    "duration": 8,
    "start_time": "2024-06-18T11:59:52.588Z"
   },
   {
    "duration": 27,
    "start_time": "2024-06-18T11:59:52.598Z"
   },
   {
    "duration": 212,
    "start_time": "2024-06-18T11:59:52.627Z"
   },
   {
    "duration": 16,
    "start_time": "2024-06-18T11:59:52.840Z"
   },
   {
    "duration": 385,
    "start_time": "2024-06-18T11:59:52.857Z"
   },
   {
    "duration": 384,
    "start_time": "2024-06-18T12:00:31.598Z"
   },
   {
    "duration": 14,
    "start_time": "2024-06-18T12:01:39.664Z"
   },
   {
    "duration": 1120,
    "start_time": "2024-06-18T12:03:53.039Z"
   },
   {
    "duration": 112,
    "start_time": "2024-06-18T12:03:54.161Z"
   },
   {
    "duration": 2,
    "start_time": "2024-06-18T12:03:54.275Z"
   },
   {
    "duration": 47,
    "start_time": "2024-06-18T12:03:54.278Z"
   },
   {
    "duration": 5,
    "start_time": "2024-06-18T12:03:54.329Z"
   },
   {
    "duration": 24,
    "start_time": "2024-06-18T12:03:54.337Z"
   },
   {
    "duration": 18,
    "start_time": "2024-06-18T12:03:54.362Z"
   },
   {
    "duration": 73,
    "start_time": "2024-06-18T12:03:54.382Z"
   },
   {
    "duration": 14,
    "start_time": "2024-06-18T12:03:54.457Z"
   },
   {
    "duration": 11,
    "start_time": "2024-06-18T12:03:54.473Z"
   },
   {
    "duration": 14,
    "start_time": "2024-06-18T12:03:54.486Z"
   },
   {
    "duration": 651,
    "start_time": "2024-06-18T12:03:54.501Z"
   },
   {
    "duration": 255,
    "start_time": "2024-06-18T12:03:55.153Z"
   },
   {
    "duration": 385,
    "start_time": "2024-06-18T12:03:55.411Z"
   },
   {
    "duration": 273,
    "start_time": "2024-06-18T12:03:55.797Z"
   },
   {
    "duration": 353,
    "start_time": "2024-06-18T12:03:56.072Z"
   },
   {
    "duration": 183,
    "start_time": "2024-06-18T12:03:56.426Z"
   },
   {
    "duration": 9,
    "start_time": "2024-06-18T12:03:56.611Z"
   },
   {
    "duration": 16,
    "start_time": "2024-06-18T12:03:56.622Z"
   },
   {
    "duration": 193,
    "start_time": "2024-06-18T12:03:56.655Z"
   },
   {
    "duration": 8,
    "start_time": "2024-06-18T12:03:56.850Z"
   },
   {
    "duration": 382,
    "start_time": "2024-06-18T12:03:56.860Z"
   },
   {
    "duration": 15,
    "start_time": "2024-06-18T12:03:57.244Z"
   },
   {
    "duration": 1145,
    "start_time": "2024-06-18T12:04:27.331Z"
   },
   {
    "duration": 135,
    "start_time": "2024-06-18T12:04:28.478Z"
   },
   {
    "duration": 3,
    "start_time": "2024-06-18T12:04:28.616Z"
   },
   {
    "duration": 63,
    "start_time": "2024-06-18T12:04:28.622Z"
   },
   {
    "duration": 6,
    "start_time": "2024-06-18T12:04:28.687Z"
   },
   {
    "duration": 7,
    "start_time": "2024-06-18T12:04:28.695Z"
   },
   {
    "duration": 31,
    "start_time": "2024-06-18T12:04:28.704Z"
   },
   {
    "duration": 45,
    "start_time": "2024-06-18T12:04:28.756Z"
   },
   {
    "duration": 18,
    "start_time": "2024-06-18T12:04:28.803Z"
   },
   {
    "duration": 14,
    "start_time": "2024-06-18T12:04:28.855Z"
   },
   {
    "duration": 25,
    "start_time": "2024-06-18T12:04:28.871Z"
   },
   {
    "duration": 651,
    "start_time": "2024-06-18T12:04:28.898Z"
   },
   {
    "duration": 254,
    "start_time": "2024-06-18T12:04:29.550Z"
   },
   {
    "duration": 357,
    "start_time": "2024-06-18T12:04:29.807Z"
   },
   {
    "duration": 302,
    "start_time": "2024-06-18T12:04:30.166Z"
   },
   {
    "duration": 360,
    "start_time": "2024-06-18T12:04:30.471Z"
   },
   {
    "duration": 197,
    "start_time": "2024-06-18T12:04:30.833Z"
   },
   {
    "duration": 25,
    "start_time": "2024-06-18T12:04:31.031Z"
   },
   {
    "duration": 48,
    "start_time": "2024-06-18T12:04:31.058Z"
   },
   {
    "duration": 268,
    "start_time": "2024-06-18T12:04:31.108Z"
   },
   {
    "duration": 6,
    "start_time": "2024-06-18T12:04:31.378Z"
   },
   {
    "duration": 427,
    "start_time": "2024-06-18T12:04:31.385Z"
   },
   {
    "duration": 51,
    "start_time": "2024-06-18T12:04:31.814Z"
   },
   {
    "duration": 13,
    "start_time": "2024-06-18T12:04:31.867Z"
   },
   {
    "duration": 20,
    "start_time": "2024-06-18T12:05:52.451Z"
   },
   {
    "duration": 26,
    "start_time": "2024-06-18T12:06:33.682Z"
   },
   {
    "duration": 28,
    "start_time": "2024-06-18T12:06:51.885Z"
   },
   {
    "duration": 27,
    "start_time": "2024-06-18T12:06:56.834Z"
   },
   {
    "duration": 12,
    "start_time": "2024-06-18T12:07:19.070Z"
   },
   {
    "duration": 27,
    "start_time": "2024-06-18T12:08:12.816Z"
   },
   {
    "duration": 123,
    "start_time": "2024-06-18T12:10:19.537Z"
   },
   {
    "duration": 32,
    "start_time": "2024-06-18T12:10:26.837Z"
   },
   {
    "duration": 63,
    "start_time": "2024-06-18T12:10:46.426Z"
   },
   {
    "duration": 66,
    "start_time": "2024-06-18T12:10:50.594Z"
   },
   {
    "duration": 91,
    "start_time": "2024-06-18T12:12:14.514Z"
   },
   {
    "duration": 64,
    "start_time": "2024-06-18T12:12:26.450Z"
   },
   {
    "duration": 25,
    "start_time": "2024-06-18T12:12:50.744Z"
   },
   {
    "duration": 70,
    "start_time": "2024-06-18T12:14:04.452Z"
   },
   {
    "duration": 25,
    "start_time": "2024-06-18T12:14:09.602Z"
   },
   {
    "duration": 10,
    "start_time": "2024-06-18T12:15:07.502Z"
   },
   {
    "duration": 74,
    "start_time": "2024-06-18T12:23:46.871Z"
   },
   {
    "duration": 79,
    "start_time": "2024-06-18T12:23:54.358Z"
   },
   {
    "duration": 10,
    "start_time": "2024-06-18T12:23:58.084Z"
   },
   {
    "duration": 784,
    "start_time": "2024-06-18T13:20:18.359Z"
   },
   {
    "duration": 19,
    "start_time": "2024-06-18T13:20:37.175Z"
   },
   {
    "duration": 9,
    "start_time": "2024-06-18T13:20:51.178Z"
   },
   {
    "duration": 10,
    "start_time": "2024-06-18T13:21:00.246Z"
   },
   {
    "duration": 16,
    "start_time": "2024-06-18T13:21:19.990Z"
   },
   {
    "duration": 12,
    "start_time": "2024-06-18T13:21:45.552Z"
   },
   {
    "duration": 10,
    "start_time": "2024-06-18T13:23:08.979Z"
   },
   {
    "duration": 9,
    "start_time": "2024-06-18T13:23:42.402Z"
   },
   {
    "duration": 193,
    "start_time": "2024-06-18T13:23:55.025Z"
   },
   {
    "duration": 8,
    "start_time": "2024-06-18T13:24:09.249Z"
   },
   {
    "duration": 8,
    "start_time": "2024-06-18T13:24:12.743Z"
   },
   {
    "duration": 10,
    "start_time": "2024-06-18T13:25:05.032Z"
   },
   {
    "duration": 9,
    "start_time": "2024-06-18T13:31:18.013Z"
   },
   {
    "duration": 12,
    "start_time": "2024-06-18T13:31:26.121Z"
   },
   {
    "duration": 28,
    "start_time": "2024-06-18T13:31:53.768Z"
   },
   {
    "duration": 8,
    "start_time": "2024-06-18T13:32:30.839Z"
   },
   {
    "duration": 10,
    "start_time": "2024-06-18T13:32:32.656Z"
   },
   {
    "duration": 27,
    "start_time": "2024-06-18T13:33:59.534Z"
   },
   {
    "duration": 9,
    "start_time": "2024-06-18T13:36:35.172Z"
   },
   {
    "duration": 74,
    "start_time": "2024-06-18T13:47:13.300Z"
   },
   {
    "duration": 74,
    "start_time": "2024-06-18T13:48:47.176Z"
   },
   {
    "duration": 16,
    "start_time": "2024-06-18T13:49:37.171Z"
   },
   {
    "duration": 67,
    "start_time": "2024-06-18T13:50:17.458Z"
   },
   {
    "duration": 66,
    "start_time": "2024-06-18T13:50:30.700Z"
   },
   {
    "duration": 67,
    "start_time": "2024-06-18T13:50:36.110Z"
   },
   {
    "duration": 13,
    "start_time": "2024-06-18T13:50:38.945Z"
   },
   {
    "duration": 59,
    "start_time": "2024-06-18T13:51:17.253Z"
   },
   {
    "duration": 13,
    "start_time": "2024-06-18T13:51:29.980Z"
   },
   {
    "duration": 119,
    "start_time": "2024-06-18T13:59:15.005Z"
   },
   {
    "duration": 13,
    "start_time": "2024-06-18T14:15:37.658Z"
   },
   {
    "duration": 63,
    "start_time": "2024-06-18T14:22:42.955Z"
   },
   {
    "duration": 82,
    "start_time": "2024-06-18T14:22:47.795Z"
   },
   {
    "duration": 28,
    "start_time": "2024-06-18T14:22:54.012Z"
   },
   {
    "duration": 1095,
    "start_time": "2024-06-18T14:23:19.485Z"
   },
   {
    "duration": 137,
    "start_time": "2024-06-18T14:23:20.582Z"
   },
   {
    "duration": 3,
    "start_time": "2024-06-18T14:23:20.722Z"
   },
   {
    "duration": 75,
    "start_time": "2024-06-18T14:23:20.727Z"
   },
   {
    "duration": 4,
    "start_time": "2024-06-18T14:23:20.804Z"
   },
   {
    "duration": 11,
    "start_time": "2024-06-18T14:23:20.810Z"
   },
   {
    "duration": 43,
    "start_time": "2024-06-18T14:23:20.823Z"
   },
   {
    "duration": 38,
    "start_time": "2024-06-18T14:23:20.868Z"
   },
   {
    "duration": 50,
    "start_time": "2024-06-18T14:23:20.908Z"
   },
   {
    "duration": 12,
    "start_time": "2024-06-18T14:23:20.960Z"
   },
   {
    "duration": 33,
    "start_time": "2024-06-18T14:23:20.974Z"
   },
   {
    "duration": 657,
    "start_time": "2024-06-18T14:23:21.009Z"
   },
   {
    "duration": 246,
    "start_time": "2024-06-18T14:23:21.668Z"
   },
   {
    "duration": 388,
    "start_time": "2024-06-18T14:23:21.916Z"
   },
   {
    "duration": 275,
    "start_time": "2024-06-18T14:23:22.306Z"
   },
   {
    "duration": 350,
    "start_time": "2024-06-18T14:23:22.583Z"
   },
   {
    "duration": 188,
    "start_time": "2024-06-18T14:23:22.934Z"
   },
   {
    "duration": 8,
    "start_time": "2024-06-18T14:23:23.123Z"
   },
   {
    "duration": 30,
    "start_time": "2024-06-18T14:23:23.133Z"
   },
   {
    "duration": 193,
    "start_time": "2024-06-18T14:23:23.165Z"
   },
   {
    "duration": 5,
    "start_time": "2024-06-18T14:23:23.360Z"
   },
   {
    "duration": 374,
    "start_time": "2024-06-18T14:23:23.367Z"
   },
   {
    "duration": 6,
    "start_time": "2024-06-18T14:23:23.743Z"
   },
   {
    "duration": 41,
    "start_time": "2024-06-18T14:23:23.755Z"
   },
   {
    "duration": 10,
    "start_time": "2024-06-18T14:23:23.798Z"
   },
   {
    "duration": 9,
    "start_time": "2024-06-18T14:23:23.810Z"
   },
   {
    "duration": 35,
    "start_time": "2024-06-18T14:23:23.821Z"
   },
   {
    "duration": 53,
    "start_time": "2024-06-18T14:23:23.857Z"
   },
   {
    "duration": 12,
    "start_time": "2024-06-18T14:23:23.912Z"
   },
   {
    "duration": 1134,
    "start_time": "2024-06-18T14:28:14.692Z"
   },
   {
    "duration": 112,
    "start_time": "2024-06-18T14:28:15.828Z"
   },
   {
    "duration": 3,
    "start_time": "2024-06-18T14:28:15.942Z"
   },
   {
    "duration": 47,
    "start_time": "2024-06-18T14:28:15.946Z"
   },
   {
    "duration": 3,
    "start_time": "2024-06-18T14:28:15.995Z"
   },
   {
    "duration": 19,
    "start_time": "2024-06-18T14:28:16.000Z"
   },
   {
    "duration": 34,
    "start_time": "2024-06-18T14:28:16.021Z"
   },
   {
    "duration": 69,
    "start_time": "2024-06-18T14:28:16.057Z"
   },
   {
    "duration": 15,
    "start_time": "2024-06-18T14:28:16.128Z"
   },
   {
    "duration": 25,
    "start_time": "2024-06-18T14:28:16.147Z"
   },
   {
    "duration": 23,
    "start_time": "2024-06-18T14:28:16.174Z"
   },
   {
    "duration": 651,
    "start_time": "2024-06-18T14:28:16.200Z"
   },
   {
    "duration": 249,
    "start_time": "2024-06-18T14:28:16.852Z"
   },
   {
    "duration": 338,
    "start_time": "2024-06-18T14:28:17.103Z"
   },
   {
    "duration": 268,
    "start_time": "2024-06-18T14:28:17.443Z"
   },
   {
    "duration": 341,
    "start_time": "2024-06-18T14:28:17.712Z"
   },
   {
    "duration": 189,
    "start_time": "2024-06-18T14:28:18.055Z"
   },
   {
    "duration": 18,
    "start_time": "2024-06-18T14:28:18.245Z"
   },
   {
    "duration": 23,
    "start_time": "2024-06-18T14:28:18.265Z"
   },
   {
    "duration": 191,
    "start_time": "2024-06-18T14:28:18.289Z"
   },
   {
    "duration": 4,
    "start_time": "2024-06-18T14:28:18.482Z"
   },
   {
    "duration": 271,
    "start_time": "2024-06-18T14:28:18.488Z"
   },
   {
    "duration": 0,
    "start_time": "2024-06-18T14:28:18.760Z"
   },
   {
    "duration": 0,
    "start_time": "2024-06-18T14:28:18.761Z"
   },
   {
    "duration": 0,
    "start_time": "2024-06-18T14:28:18.763Z"
   },
   {
    "duration": 0,
    "start_time": "2024-06-18T14:28:18.764Z"
   },
   {
    "duration": 0,
    "start_time": "2024-06-18T14:28:18.765Z"
   },
   {
    "duration": 0,
    "start_time": "2024-06-18T14:28:18.766Z"
   },
   {
    "duration": 0,
    "start_time": "2024-06-18T14:28:18.767Z"
   },
   {
    "duration": 1076,
    "start_time": "2024-06-18T14:29:12.075Z"
   },
   {
    "duration": 134,
    "start_time": "2024-06-18T14:29:13.153Z"
   },
   {
    "duration": 3,
    "start_time": "2024-06-18T14:29:13.288Z"
   },
   {
    "duration": 47,
    "start_time": "2024-06-18T14:29:13.293Z"
   },
   {
    "duration": 3,
    "start_time": "2024-06-18T14:29:13.343Z"
   },
   {
    "duration": 7,
    "start_time": "2024-06-18T14:29:13.348Z"
   },
   {
    "duration": 19,
    "start_time": "2024-06-18T14:29:13.357Z"
   },
   {
    "duration": 42,
    "start_time": "2024-06-18T14:29:13.378Z"
   },
   {
    "duration": 44,
    "start_time": "2024-06-18T14:29:13.422Z"
   },
   {
    "duration": 11,
    "start_time": "2024-06-18T14:29:13.468Z"
   },
   {
    "duration": 19,
    "start_time": "2024-06-18T14:29:13.481Z"
   },
   {
    "duration": 680,
    "start_time": "2024-06-18T14:29:13.502Z"
   },
   {
    "duration": 275,
    "start_time": "2024-06-18T14:29:14.184Z"
   },
   {
    "duration": 360,
    "start_time": "2024-06-18T14:29:14.461Z"
   },
   {
    "duration": 252,
    "start_time": "2024-06-18T14:29:14.822Z"
   },
   {
    "duration": 351,
    "start_time": "2024-06-18T14:29:15.076Z"
   },
   {
    "duration": 186,
    "start_time": "2024-06-18T14:29:15.428Z"
   },
   {
    "duration": 9,
    "start_time": "2024-06-18T14:29:15.616Z"
   },
   {
    "duration": 37,
    "start_time": "2024-06-18T14:29:15.626Z"
   },
   {
    "duration": 203,
    "start_time": "2024-06-18T14:29:15.664Z"
   },
   {
    "duration": 5,
    "start_time": "2024-06-18T14:29:15.869Z"
   },
   {
    "duration": 379,
    "start_time": "2024-06-18T14:29:15.876Z"
   },
   {
    "duration": 5,
    "start_time": "2024-06-18T14:29:16.257Z"
   },
   {
    "duration": 32,
    "start_time": "2024-06-18T14:29:16.264Z"
   },
   {
    "duration": 10,
    "start_time": "2024-06-18T14:29:16.297Z"
   },
   {
    "duration": 15,
    "start_time": "2024-06-18T14:29:16.309Z"
   },
   {
    "duration": 7,
    "start_time": "2024-06-18T14:29:16.326Z"
   },
   {
    "duration": 44,
    "start_time": "2024-06-18T14:29:16.334Z"
   },
   {
    "duration": 13,
    "start_time": "2024-06-18T14:29:16.380Z"
   },
   {
    "duration": 375,
    "start_time": "2024-06-18T14:41:19.056Z"
   },
   {
    "duration": 432,
    "start_time": "2024-06-18T14:41:53.774Z"
   },
   {
    "duration": 317,
    "start_time": "2024-06-18T14:42:07.390Z"
   },
   {
    "duration": 1117,
    "start_time": "2024-06-18T14:58:10.132Z"
   },
   {
    "duration": 133,
    "start_time": "2024-06-18T14:58:11.251Z"
   },
   {
    "duration": 3,
    "start_time": "2024-06-18T14:58:11.385Z"
   },
   {
    "duration": 49,
    "start_time": "2024-06-18T14:58:11.389Z"
   },
   {
    "duration": 5,
    "start_time": "2024-06-18T14:58:11.440Z"
   },
   {
    "duration": 28,
    "start_time": "2024-06-18T14:58:11.446Z"
   },
   {
    "duration": 19,
    "start_time": "2024-06-18T14:58:11.476Z"
   },
   {
    "duration": 36,
    "start_time": "2024-06-18T14:58:11.497Z"
   },
   {
    "duration": 30,
    "start_time": "2024-06-18T14:58:11.534Z"
   },
   {
    "duration": 11,
    "start_time": "2024-06-18T14:58:11.566Z"
   },
   {
    "duration": 18,
    "start_time": "2024-06-18T14:58:11.579Z"
   },
   {
    "duration": 635,
    "start_time": "2024-06-18T14:58:11.599Z"
   },
   {
    "duration": 268,
    "start_time": "2024-06-18T14:58:12.236Z"
   },
   {
    "duration": 343,
    "start_time": "2024-06-18T14:58:12.507Z"
   },
   {
    "duration": 259,
    "start_time": "2024-06-18T14:58:12.855Z"
   },
   {
    "duration": 374,
    "start_time": "2024-06-18T14:58:13.116Z"
   },
   {
    "duration": 184,
    "start_time": "2024-06-18T14:58:13.492Z"
   },
   {
    "duration": 8,
    "start_time": "2024-06-18T14:58:13.678Z"
   },
   {
    "duration": 5,
    "start_time": "2024-06-18T14:58:13.688Z"
   },
   {
    "duration": 245,
    "start_time": "2024-06-18T14:58:13.695Z"
   },
   {
    "duration": 19,
    "start_time": "2024-06-18T14:58:13.942Z"
   },
   {
    "duration": 364,
    "start_time": "2024-06-18T14:58:13.964Z"
   },
   {
    "duration": 7,
    "start_time": "2024-06-18T14:58:14.329Z"
   },
   {
    "duration": 44,
    "start_time": "2024-06-18T14:58:14.338Z"
   },
   {
    "duration": 10,
    "start_time": "2024-06-18T14:58:14.384Z"
   },
   {
    "duration": 8,
    "start_time": "2024-06-18T14:58:14.395Z"
   },
   {
    "duration": 11,
    "start_time": "2024-06-18T14:58:14.405Z"
   },
   {
    "duration": 50,
    "start_time": "2024-06-18T14:58:14.418Z"
   },
   {
    "duration": 14,
    "start_time": "2024-06-18T14:58:14.469Z"
   },
   {
    "duration": 1075,
    "start_time": "2024-06-18T14:59:41.496Z"
   },
   {
    "duration": 135,
    "start_time": "2024-06-18T14:59:42.573Z"
   },
   {
    "duration": 3,
    "start_time": "2024-06-18T14:59:42.710Z"
   },
   {
    "duration": 47,
    "start_time": "2024-06-18T14:59:42.715Z"
   },
   {
    "duration": 4,
    "start_time": "2024-06-18T14:59:42.763Z"
   },
   {
    "duration": 15,
    "start_time": "2024-06-18T14:59:42.769Z"
   },
   {
    "duration": 16,
    "start_time": "2024-06-18T14:59:42.786Z"
   },
   {
    "duration": 58,
    "start_time": "2024-06-18T14:59:42.804Z"
   },
   {
    "duration": 17,
    "start_time": "2024-06-18T14:59:42.864Z"
   },
   {
    "duration": 15,
    "start_time": "2024-06-18T14:59:42.885Z"
   },
   {
    "duration": 60,
    "start_time": "2024-06-18T14:59:42.902Z"
   },
   {
    "duration": 636,
    "start_time": "2024-06-18T14:59:42.964Z"
   },
   {
    "duration": 254,
    "start_time": "2024-06-18T14:59:43.602Z"
   },
   {
    "duration": 378,
    "start_time": "2024-06-18T14:59:43.858Z"
   },
   {
    "duration": 278,
    "start_time": "2024-06-18T14:59:44.238Z"
   },
   {
    "duration": 374,
    "start_time": "2024-06-18T14:59:44.518Z"
   },
   {
    "duration": 185,
    "start_time": "2024-06-18T14:59:44.894Z"
   },
   {
    "duration": 9,
    "start_time": "2024-06-18T14:59:45.081Z"
   },
   {
    "duration": 44,
    "start_time": "2024-06-18T14:59:45.091Z"
   },
   {
    "duration": 257,
    "start_time": "2024-06-18T14:59:45.136Z"
   },
   {
    "duration": 6,
    "start_time": "2024-06-18T14:59:45.394Z"
   },
   {
    "duration": 351,
    "start_time": "2024-06-18T14:59:45.401Z"
   },
   {
    "duration": 6,
    "start_time": "2024-06-18T14:59:45.756Z"
   },
   {
    "duration": 31,
    "start_time": "2024-06-18T14:59:45.763Z"
   },
   {
    "duration": 10,
    "start_time": "2024-06-18T14:59:45.796Z"
   },
   {
    "duration": 8,
    "start_time": "2024-06-18T14:59:45.808Z"
   },
   {
    "duration": 44,
    "start_time": "2024-06-18T14:59:45.817Z"
   },
   {
    "duration": 27,
    "start_time": "2024-06-18T14:59:45.864Z"
   },
   {
    "duration": 13,
    "start_time": "2024-06-18T14:59:45.893Z"
   },
   {
    "duration": 357,
    "start_time": "2024-06-18T15:00:58.732Z"
   },
   {
    "duration": 325,
    "start_time": "2024-06-18T15:03:00.884Z"
   },
   {
    "duration": 452,
    "start_time": "2024-06-18T15:03:10.848Z"
   },
   {
    "duration": 79,
    "start_time": "2024-06-18T15:34:03.365Z"
   },
   {
    "duration": 515,
    "start_time": "2024-06-18T15:43:33.274Z"
   },
   {
    "duration": 543,
    "start_time": "2024-06-18T15:43:50.545Z"
   },
   {
    "duration": 290,
    "start_time": "2024-06-18T15:44:28.842Z"
   },
   {
    "duration": 227,
    "start_time": "2024-06-18T15:44:31.472Z"
   },
   {
    "duration": 311,
    "start_time": "2024-06-18T15:44:42.757Z"
   },
   {
    "duration": 12,
    "start_time": "2024-06-18T15:45:47.833Z"
   },
   {
    "duration": 332,
    "start_time": "2024-06-18T15:45:50.379Z"
   },
   {
    "duration": 284,
    "start_time": "2024-06-18T15:46:05.486Z"
   },
   {
    "duration": 9,
    "start_time": "2024-06-18T15:46:49.322Z"
   },
   {
    "duration": 16,
    "start_time": "2024-06-18T15:46:58.473Z"
   },
   {
    "duration": 248,
    "start_time": "2024-06-18T15:47:01.162Z"
   },
   {
    "duration": 18,
    "start_time": "2024-06-18T15:47:22.086Z"
   },
   {
    "duration": 19,
    "start_time": "2024-06-18T15:47:39.487Z"
   },
   {
    "duration": 14,
    "start_time": "2024-06-18T15:48:34.993Z"
   },
   {
    "duration": 333,
    "start_time": "2024-06-18T15:48:36.826Z"
   },
   {
    "duration": 11,
    "start_time": "2024-06-18T15:49:25.696Z"
   },
   {
    "duration": 171,
    "start_time": "2024-06-18T15:49:27.989Z"
   },
   {
    "duration": 9,
    "start_time": "2024-06-18T15:50:41.789Z"
   },
   {
    "duration": 179,
    "start_time": "2024-06-18T15:50:42.412Z"
   },
   {
    "duration": 14,
    "start_time": "2024-06-18T15:52:09.818Z"
   },
   {
    "duration": 6,
    "start_time": "2024-06-18T15:53:02.542Z"
   },
   {
    "duration": 25,
    "start_time": "2024-06-18T15:53:03.572Z"
   },
   {
    "duration": 6,
    "start_time": "2024-06-18T15:53:05.734Z"
   },
   {
    "duration": 26,
    "start_time": "2024-06-18T15:53:06.150Z"
   },
   {
    "duration": 8,
    "start_time": "2024-06-18T15:54:01.582Z"
   },
   {
    "duration": 25,
    "start_time": "2024-06-18T15:54:02.160Z"
   },
   {
    "duration": 8,
    "start_time": "2024-06-18T15:54:03.691Z"
   },
   {
    "duration": 25,
    "start_time": "2024-06-18T15:54:04.091Z"
   },
   {
    "duration": 1080,
    "start_time": "2024-06-18T15:54:48.204Z"
   },
   {
    "duration": 136,
    "start_time": "2024-06-18T15:54:49.286Z"
   },
   {
    "duration": 3,
    "start_time": "2024-06-18T15:54:49.424Z"
   },
   {
    "duration": 48,
    "start_time": "2024-06-18T15:54:49.428Z"
   },
   {
    "duration": 5,
    "start_time": "2024-06-18T15:54:49.478Z"
   },
   {
    "duration": 29,
    "start_time": "2024-06-18T15:54:49.485Z"
   },
   {
    "duration": 25,
    "start_time": "2024-06-18T15:54:49.516Z"
   },
   {
    "duration": 39,
    "start_time": "2024-06-18T15:54:49.543Z"
   },
   {
    "duration": 15,
    "start_time": "2024-06-18T15:54:49.583Z"
   },
   {
    "duration": 11,
    "start_time": "2024-06-18T15:54:49.600Z"
   },
   {
    "duration": 47,
    "start_time": "2024-06-18T15:54:49.613Z"
   },
   {
    "duration": 313,
    "start_time": "2024-06-18T15:54:49.662Z"
   },
   {
    "duration": 369,
    "start_time": "2024-06-18T15:54:49.976Z"
   },
   {
    "duration": 257,
    "start_time": "2024-06-18T15:54:50.357Z"
   },
   {
    "duration": 12,
    "start_time": "2024-06-18T15:54:50.617Z"
   },
   {
    "duration": 379,
    "start_time": "2024-06-18T15:54:50.631Z"
   },
   {
    "duration": 22,
    "start_time": "2024-06-18T15:54:51.012Z"
   },
   {
    "duration": 264,
    "start_time": "2024-06-18T15:54:51.056Z"
   },
   {
    "duration": 16,
    "start_time": "2024-06-18T15:54:51.322Z"
   },
   {
    "duration": 346,
    "start_time": "2024-06-18T15:54:51.356Z"
   },
   {
    "duration": 12,
    "start_time": "2024-06-18T15:54:51.704Z"
   },
   {
    "duration": 210,
    "start_time": "2024-06-18T15:54:51.718Z"
   },
   {
    "duration": 5,
    "start_time": "2024-06-18T15:54:51.930Z"
   },
   {
    "duration": 34,
    "start_time": "2024-06-18T15:54:51.937Z"
   },
   {
    "duration": 201,
    "start_time": "2024-06-18T15:54:51.973Z"
   },
   {
    "duration": 6,
    "start_time": "2024-06-18T15:54:52.176Z"
   },
   {
    "duration": 201,
    "start_time": "2024-06-18T15:54:52.184Z"
   },
   {
    "duration": 6,
    "start_time": "2024-06-18T15:54:52.387Z"
   },
   {
    "duration": 64,
    "start_time": "2024-06-18T15:54:52.394Z"
   },
   {
    "duration": 9,
    "start_time": "2024-06-18T15:54:52.460Z"
   },
   {
    "duration": 14,
    "start_time": "2024-06-18T15:54:52.471Z"
   },
   {
    "duration": 46,
    "start_time": "2024-06-18T15:54:52.486Z"
   },
   {
    "duration": 47,
    "start_time": "2024-06-18T15:54:52.533Z"
   },
   {
    "duration": 27,
    "start_time": "2024-06-18T15:54:52.581Z"
   },
   {
    "duration": 1148,
    "start_time": "2024-06-18T15:55:34.097Z"
   },
   {
    "duration": 114,
    "start_time": "2024-06-18T15:55:35.247Z"
   },
   {
    "duration": 3,
    "start_time": "2024-06-18T15:55:35.363Z"
   },
   {
    "duration": 63,
    "start_time": "2024-06-18T15:55:35.368Z"
   },
   {
    "duration": 3,
    "start_time": "2024-06-18T15:55:35.433Z"
   },
   {
    "duration": 21,
    "start_time": "2024-06-18T15:55:35.438Z"
   },
   {
    "duration": 31,
    "start_time": "2024-06-18T15:55:35.461Z"
   },
   {
    "duration": 51,
    "start_time": "2024-06-18T15:55:35.493Z"
   },
   {
    "duration": 21,
    "start_time": "2024-06-18T15:55:35.546Z"
   },
   {
    "duration": 16,
    "start_time": "2024-06-18T15:55:35.569Z"
   },
   {
    "duration": 34,
    "start_time": "2024-06-18T15:55:35.586Z"
   },
   {
    "duration": 361,
    "start_time": "2024-06-18T15:55:35.622Z"
   },
   {
    "duration": 358,
    "start_time": "2024-06-18T15:55:35.985Z"
   },
   {
    "duration": 258,
    "start_time": "2024-06-18T15:55:36.345Z"
   },
   {
    "duration": 13,
    "start_time": "2024-06-18T15:55:36.605Z"
   },
   {
    "duration": 391,
    "start_time": "2024-06-18T15:55:36.620Z"
   },
   {
    "duration": 20,
    "start_time": "2024-06-18T15:55:37.013Z"
   },
   {
    "duration": 271,
    "start_time": "2024-06-18T15:55:37.035Z"
   },
   {
    "duration": 14,
    "start_time": "2024-06-18T15:55:37.308Z"
   },
   {
    "duration": 379,
    "start_time": "2024-06-18T15:55:37.324Z"
   },
   {
    "duration": 10,
    "start_time": "2024-06-18T15:55:37.705Z"
   },
   {
    "duration": 187,
    "start_time": "2024-06-18T15:55:37.717Z"
   },
   {
    "duration": 5,
    "start_time": "2024-06-18T15:55:37.906Z"
   },
   {
    "duration": 12,
    "start_time": "2024-06-18T15:55:37.912Z"
   },
   {
    "duration": 209,
    "start_time": "2024-06-18T15:55:37.926Z"
   },
   {
    "duration": 5,
    "start_time": "2024-06-18T15:55:38.137Z"
   },
   {
    "duration": 145,
    "start_time": "2024-06-18T15:55:38.156Z"
   },
   {
    "duration": 5,
    "start_time": "2024-06-18T15:55:38.305Z"
   },
   {
    "duration": 37,
    "start_time": "2024-06-18T15:55:38.312Z"
   },
   {
    "duration": 13,
    "start_time": "2024-06-18T15:55:38.355Z"
   },
   {
    "duration": 19,
    "start_time": "2024-06-18T15:55:38.369Z"
   },
   {
    "duration": 30,
    "start_time": "2024-06-18T15:55:38.390Z"
   },
   {
    "duration": 46,
    "start_time": "2024-06-18T15:55:38.422Z"
   },
   {
    "duration": 13,
    "start_time": "2024-06-18T15:55:38.469Z"
   },
   {
    "duration": 933,
    "start_time": "2024-06-18T16:08:24.453Z"
   },
   {
    "duration": 247,
    "start_time": "2024-06-18T16:08:25.388Z"
   },
   {
    "duration": 2,
    "start_time": "2024-06-18T16:08:25.638Z"
   },
   {
    "duration": 34,
    "start_time": "2024-06-18T16:08:25.642Z"
   },
   {
    "duration": 3,
    "start_time": "2024-06-18T16:08:25.677Z"
   },
   {
    "duration": 6,
    "start_time": "2024-06-18T16:08:25.681Z"
   },
   {
    "duration": 16,
    "start_time": "2024-06-18T16:08:25.688Z"
   },
   {
    "duration": 37,
    "start_time": "2024-06-18T16:08:25.706Z"
   },
   {
    "duration": 10,
    "start_time": "2024-06-18T16:08:25.744Z"
   },
   {
    "duration": 9,
    "start_time": "2024-06-18T16:08:25.755Z"
   },
   {
    "duration": 20,
    "start_time": "2024-06-18T16:08:25.765Z"
   },
   {
    "duration": 273,
    "start_time": "2024-06-18T16:08:25.786Z"
   },
   {
    "duration": 374,
    "start_time": "2024-06-18T16:08:26.061Z"
   },
   {
    "duration": 398,
    "start_time": "2024-06-18T16:08:26.436Z"
   },
   {
    "duration": 9,
    "start_time": "2024-06-18T16:08:26.835Z"
   },
   {
    "duration": 419,
    "start_time": "2024-06-18T16:08:26.845Z"
   },
   {
    "duration": 16,
    "start_time": "2024-06-18T16:08:27.319Z"
   },
   {
    "duration": 326,
    "start_time": "2024-06-18T16:08:27.337Z"
   },
   {
    "duration": 11,
    "start_time": "2024-06-18T16:08:27.664Z"
   },
   {
    "duration": 296,
    "start_time": "2024-06-18T16:08:27.676Z"
   },
   {
    "duration": 8,
    "start_time": "2024-06-18T16:08:27.973Z"
   },
   {
    "duration": 154,
    "start_time": "2024-06-18T16:08:27.983Z"
   },
   {
    "duration": 4,
    "start_time": "2024-06-18T16:08:28.138Z"
   },
   {
    "duration": 30,
    "start_time": "2024-06-18T16:08:28.143Z"
   },
   {
    "duration": 163,
    "start_time": "2024-06-18T16:08:28.174Z"
   },
   {
    "duration": 4,
    "start_time": "2024-06-18T16:08:28.338Z"
   },
   {
    "duration": 140,
    "start_time": "2024-06-18T16:08:28.343Z"
   },
   {
    "duration": 5,
    "start_time": "2024-06-18T16:08:28.484Z"
   },
   {
    "duration": 44,
    "start_time": "2024-06-18T16:08:28.491Z"
   },
   {
    "duration": 9,
    "start_time": "2024-06-18T16:08:28.536Z"
   },
   {
    "duration": 6,
    "start_time": "2024-06-18T16:08:28.546Z"
   },
   {
    "duration": 7,
    "start_time": "2024-06-18T16:08:28.553Z"
   },
   {
    "duration": 25,
    "start_time": "2024-06-18T16:08:28.561Z"
   },
   {
    "duration": 10,
    "start_time": "2024-06-18T16:08:28.587Z"
   },
   {
    "duration": 49,
    "start_time": "2024-06-19T06:05:18.760Z"
   },
   {
    "duration": 1311,
    "start_time": "2024-06-19T06:05:30.463Z"
   },
   {
    "duration": 282,
    "start_time": "2024-06-19T06:05:31.776Z"
   },
   {
    "duration": 3,
    "start_time": "2024-06-19T06:05:32.060Z"
   },
   {
    "duration": 95,
    "start_time": "2024-06-19T06:05:32.064Z"
   },
   {
    "duration": 4,
    "start_time": "2024-06-19T06:05:32.161Z"
   },
   {
    "duration": 32,
    "start_time": "2024-06-19T06:05:32.166Z"
   },
   {
    "duration": 33,
    "start_time": "2024-06-19T06:05:32.200Z"
   },
   {
    "duration": 68,
    "start_time": "2024-06-19T06:05:32.235Z"
   },
   {
    "duration": 8,
    "start_time": "2024-06-19T06:05:32.305Z"
   },
   {
    "duration": 19,
    "start_time": "2024-06-19T06:05:32.314Z"
   },
   {
    "duration": 30,
    "start_time": "2024-06-19T06:05:32.334Z"
   },
   {
    "duration": 16,
    "start_time": "2024-06-19T06:05:32.365Z"
   },
   {
    "duration": 349,
    "start_time": "2024-06-19T06:05:32.383Z"
   },
   {
    "duration": 350,
    "start_time": "2024-06-19T06:05:32.736Z"
   },
   {
    "duration": 262,
    "start_time": "2024-06-19T06:05:33.087Z"
   },
   {
    "duration": 14,
    "start_time": "2024-06-19T06:05:33.351Z"
   },
   {
    "duration": 395,
    "start_time": "2024-06-19T06:05:33.367Z"
   },
   {
    "duration": 19,
    "start_time": "2024-06-19T06:05:33.764Z"
   },
   {
    "duration": 273,
    "start_time": "2024-06-19T06:05:33.785Z"
   },
   {
    "duration": 14,
    "start_time": "2024-06-19T06:05:34.060Z"
   },
   {
    "duration": 392,
    "start_time": "2024-06-19T06:05:34.075Z"
   },
   {
    "duration": 10,
    "start_time": "2024-06-19T06:05:34.469Z"
   },
   {
    "duration": 197,
    "start_time": "2024-06-19T06:05:34.481Z"
   },
   {
    "duration": 6,
    "start_time": "2024-06-19T06:05:34.679Z"
   },
   {
    "duration": 50,
    "start_time": "2024-06-19T06:05:34.686Z"
   },
   {
    "duration": 205,
    "start_time": "2024-06-19T06:05:34.737Z"
   },
   {
    "duration": 5,
    "start_time": "2024-06-19T06:05:34.944Z"
   },
   {
    "duration": 191,
    "start_time": "2024-06-19T06:05:34.950Z"
   },
   {
    "duration": 6,
    "start_time": "2024-06-19T06:05:35.143Z"
   },
   {
    "duration": 66,
    "start_time": "2024-06-19T06:05:35.155Z"
   },
   {
    "duration": 19,
    "start_time": "2024-06-19T06:05:35.223Z"
   },
   {
    "duration": 50,
    "start_time": "2024-06-19T06:05:35.244Z"
   },
   {
    "duration": 39,
    "start_time": "2024-06-19T06:05:35.296Z"
   },
   {
    "duration": 65,
    "start_time": "2024-06-19T06:05:35.337Z"
   },
   {
    "duration": 26,
    "start_time": "2024-06-19T06:05:35.404Z"
   },
   {
    "duration": 8,
    "start_time": "2024-06-19T06:07:22.423Z"
   },
   {
    "duration": 880,
    "start_time": "2024-06-19T06:07:23.620Z"
   },
   {
    "duration": 4,
    "start_time": "2024-06-19T06:07:32.726Z"
   },
   {
    "duration": 7,
    "start_time": "2024-06-19T06:07:34.284Z"
   },
   {
    "duration": 1099,
    "start_time": "2024-06-19T06:07:45.444Z"
   },
   {
    "duration": 139,
    "start_time": "2024-06-19T06:07:46.545Z"
   },
   {
    "duration": 2,
    "start_time": "2024-06-19T06:07:46.686Z"
   },
   {
    "duration": 47,
    "start_time": "2024-06-19T06:07:46.690Z"
   },
   {
    "duration": 4,
    "start_time": "2024-06-19T06:07:46.740Z"
   },
   {
    "duration": 8,
    "start_time": "2024-06-19T06:07:46.745Z"
   },
   {
    "duration": 16,
    "start_time": "2024-06-19T06:07:46.754Z"
   },
   {
    "duration": 41,
    "start_time": "2024-06-19T06:07:46.771Z"
   },
   {
    "duration": 13,
    "start_time": "2024-06-19T06:07:46.814Z"
   },
   {
    "duration": 29,
    "start_time": "2024-06-19T06:07:46.829Z"
   },
   {
    "duration": 7,
    "start_time": "2024-06-19T06:07:46.860Z"
   },
   {
    "duration": 40,
    "start_time": "2024-06-19T06:07:46.869Z"
   },
   {
    "duration": 15,
    "start_time": "2024-06-19T06:07:46.911Z"
   },
   {
    "duration": 16,
    "start_time": "2024-06-19T06:07:46.929Z"
   },
   {
    "duration": 332,
    "start_time": "2024-06-19T06:07:46.947Z"
   },
   {
    "duration": 330,
    "start_time": "2024-06-19T06:07:47.281Z"
   },
   {
    "duration": 254,
    "start_time": "2024-06-19T06:07:47.613Z"
   },
   {
    "duration": 12,
    "start_time": "2024-06-19T06:07:47.869Z"
   },
   {
    "duration": 337,
    "start_time": "2024-06-19T06:07:47.882Z"
   },
   {
    "duration": 22,
    "start_time": "2024-06-19T06:07:48.221Z"
   },
   {
    "duration": 252,
    "start_time": "2024-06-19T06:07:48.256Z"
   },
   {
    "duration": 13,
    "start_time": "2024-06-19T06:07:48.510Z"
   },
   {
    "duration": 367,
    "start_time": "2024-06-19T06:07:48.525Z"
   },
   {
    "duration": 12,
    "start_time": "2024-06-19T06:07:48.893Z"
   },
   {
    "duration": 202,
    "start_time": "2024-06-19T06:07:48.906Z"
   },
   {
    "duration": 5,
    "start_time": "2024-06-19T06:07:49.109Z"
   },
   {
    "duration": 13,
    "start_time": "2024-06-19T06:07:49.116Z"
   },
   {
    "duration": 192,
    "start_time": "2024-06-19T06:07:49.131Z"
   },
   {
    "duration": 5,
    "start_time": "2024-06-19T06:07:49.325Z"
   },
   {
    "duration": 143,
    "start_time": "2024-06-19T06:07:49.332Z"
   },
   {
    "duration": 7,
    "start_time": "2024-06-19T06:07:49.477Z"
   },
   {
    "duration": 33,
    "start_time": "2024-06-19T06:07:49.485Z"
   },
   {
    "duration": 10,
    "start_time": "2024-06-19T06:07:49.520Z"
   },
   {
    "duration": 28,
    "start_time": "2024-06-19T06:07:49.532Z"
   },
   {
    "duration": 18,
    "start_time": "2024-06-19T06:07:49.562Z"
   },
   {
    "duration": 41,
    "start_time": "2024-06-19T06:07:49.582Z"
   },
   {
    "duration": 11,
    "start_time": "2024-06-19T06:07:49.625Z"
   },
   {
    "duration": 8,
    "start_time": "2024-06-19T06:14:24.738Z"
   },
   {
    "duration": 8,
    "start_time": "2024-06-19T06:14:49.184Z"
   },
   {
    "duration": 1171,
    "start_time": "2024-06-19T06:15:04.263Z"
   },
   {
    "duration": 132,
    "start_time": "2024-06-19T06:15:05.436Z"
   },
   {
    "duration": 3,
    "start_time": "2024-06-19T06:15:05.570Z"
   },
   {
    "duration": 43,
    "start_time": "2024-06-19T06:15:05.576Z"
   },
   {
    "duration": 4,
    "start_time": "2024-06-19T06:15:05.621Z"
   },
   {
    "duration": 23,
    "start_time": "2024-06-19T06:15:05.626Z"
   },
   {
    "duration": 23,
    "start_time": "2024-06-19T06:15:05.650Z"
   },
   {
    "duration": 44,
    "start_time": "2024-06-19T06:15:05.676Z"
   },
   {
    "duration": 7,
    "start_time": "2024-06-19T06:15:05.722Z"
   },
   {
    "duration": 101,
    "start_time": "2024-06-19T06:15:05.755Z"
   },
   {
    "duration": 0,
    "start_time": "2024-06-19T06:15:05.858Z"
   },
   {
    "duration": 0,
    "start_time": "2024-06-19T06:15:05.860Z"
   },
   {
    "duration": 0,
    "start_time": "2024-06-19T06:15:05.861Z"
   },
   {
    "duration": 0,
    "start_time": "2024-06-19T06:15:05.862Z"
   },
   {
    "duration": 0,
    "start_time": "2024-06-19T06:15:05.863Z"
   },
   {
    "duration": 0,
    "start_time": "2024-06-19T06:15:05.864Z"
   },
   {
    "duration": 0,
    "start_time": "2024-06-19T06:15:05.865Z"
   },
   {
    "duration": 0,
    "start_time": "2024-06-19T06:15:05.866Z"
   },
   {
    "duration": 0,
    "start_time": "2024-06-19T06:15:05.867Z"
   },
   {
    "duration": 1,
    "start_time": "2024-06-19T06:15:05.867Z"
   },
   {
    "duration": 0,
    "start_time": "2024-06-19T06:15:05.868Z"
   },
   {
    "duration": 0,
    "start_time": "2024-06-19T06:15:05.869Z"
   },
   {
    "duration": 0,
    "start_time": "2024-06-19T06:15:05.870Z"
   },
   {
    "duration": 0,
    "start_time": "2024-06-19T06:15:05.871Z"
   },
   {
    "duration": 0,
    "start_time": "2024-06-19T06:15:05.872Z"
   },
   {
    "duration": 0,
    "start_time": "2024-06-19T06:15:05.873Z"
   },
   {
    "duration": 0,
    "start_time": "2024-06-19T06:15:05.874Z"
   },
   {
    "duration": 0,
    "start_time": "2024-06-19T06:15:05.875Z"
   },
   {
    "duration": 0,
    "start_time": "2024-06-19T06:15:05.876Z"
   },
   {
    "duration": 0,
    "start_time": "2024-06-19T06:15:05.877Z"
   },
   {
    "duration": 0,
    "start_time": "2024-06-19T06:15:05.878Z"
   },
   {
    "duration": 0,
    "start_time": "2024-06-19T06:15:05.879Z"
   },
   {
    "duration": 0,
    "start_time": "2024-06-19T06:15:05.880Z"
   },
   {
    "duration": 0,
    "start_time": "2024-06-19T06:15:05.881Z"
   },
   {
    "duration": 0,
    "start_time": "2024-06-19T06:15:05.882Z"
   },
   {
    "duration": 0,
    "start_time": "2024-06-19T06:15:05.883Z"
   },
   {
    "duration": 0,
    "start_time": "2024-06-19T06:15:05.884Z"
   },
   {
    "duration": 8,
    "start_time": "2024-06-19T06:15:23.155Z"
   },
   {
    "duration": 2,
    "start_time": "2024-06-19T06:15:24.541Z"
   },
   {
    "duration": 2,
    "start_time": "2024-06-19T06:15:25.399Z"
   },
   {
    "duration": 9,
    "start_time": "2024-06-19T06:17:00.609Z"
   },
   {
    "duration": 3,
    "start_time": "2024-06-19T06:17:01.039Z"
   },
   {
    "duration": 12,
    "start_time": "2024-06-19T06:17:29.529Z"
   },
   {
    "duration": 8,
    "start_time": "2024-06-19T06:17:36.994Z"
   },
   {
    "duration": 6,
    "start_time": "2024-06-19T06:18:19.203Z"
   },
   {
    "duration": 11,
    "start_time": "2024-06-19T06:18:46.800Z"
   },
   {
    "duration": 1124,
    "start_time": "2024-06-19T06:18:51.869Z"
   },
   {
    "duration": 135,
    "start_time": "2024-06-19T06:18:52.995Z"
   },
   {
    "duration": 3,
    "start_time": "2024-06-19T06:18:53.132Z"
   },
   {
    "duration": 56,
    "start_time": "2024-06-19T06:18:53.136Z"
   },
   {
    "duration": 4,
    "start_time": "2024-06-19T06:18:53.194Z"
   },
   {
    "duration": 23,
    "start_time": "2024-06-19T06:18:53.200Z"
   },
   {
    "duration": 35,
    "start_time": "2024-06-19T06:18:53.225Z"
   },
   {
    "duration": 49,
    "start_time": "2024-06-19T06:18:53.262Z"
   },
   {
    "duration": 7,
    "start_time": "2024-06-19T06:18:53.312Z"
   },
   {
    "duration": 15,
    "start_time": "2024-06-19T06:18:53.321Z"
   },
   {
    "duration": 29,
    "start_time": "2024-06-19T06:18:53.337Z"
   },
   {
    "duration": 19,
    "start_time": "2024-06-19T06:18:53.372Z"
   },
   {
    "duration": 28,
    "start_time": "2024-06-19T06:18:53.392Z"
   },
   {
    "duration": 26,
    "start_time": "2024-06-19T06:18:53.424Z"
   },
   {
    "duration": 293,
    "start_time": "2024-06-19T06:18:53.452Z"
   },
   {
    "duration": 338,
    "start_time": "2024-06-19T06:18:53.746Z"
   },
   {
    "duration": 253,
    "start_time": "2024-06-19T06:18:54.086Z"
   },
   {
    "duration": 20,
    "start_time": "2024-06-19T06:18:54.341Z"
   },
   {
    "duration": 383,
    "start_time": "2024-06-19T06:18:54.363Z"
   },
   {
    "duration": 22,
    "start_time": "2024-06-19T06:18:54.747Z"
   },
   {
    "duration": 298,
    "start_time": "2024-06-19T06:18:54.771Z"
   },
   {
    "duration": 16,
    "start_time": "2024-06-19T06:18:55.071Z"
   },
   {
    "duration": 378,
    "start_time": "2024-06-19T06:18:55.088Z"
   },
   {
    "duration": 10,
    "start_time": "2024-06-19T06:18:55.468Z"
   },
   {
    "duration": 220,
    "start_time": "2024-06-19T06:18:55.480Z"
   },
   {
    "duration": 5,
    "start_time": "2024-06-19T06:18:55.702Z"
   },
   {
    "duration": 16,
    "start_time": "2024-06-19T06:18:55.709Z"
   },
   {
    "duration": 192,
    "start_time": "2024-06-19T06:18:55.726Z"
   },
   {
    "duration": 6,
    "start_time": "2024-06-19T06:18:55.919Z"
   },
   {
    "duration": 189,
    "start_time": "2024-06-19T06:18:55.926Z"
   },
   {
    "duration": 7,
    "start_time": "2024-06-19T06:18:56.117Z"
   },
   {
    "duration": 43,
    "start_time": "2024-06-19T06:18:56.126Z"
   },
   {
    "duration": 14,
    "start_time": "2024-06-19T06:18:56.171Z"
   },
   {
    "duration": 9,
    "start_time": "2024-06-19T06:18:56.188Z"
   },
   {
    "duration": 13,
    "start_time": "2024-06-19T06:18:56.200Z"
   },
   {
    "duration": 44,
    "start_time": "2024-06-19T06:18:56.215Z"
   },
   {
    "duration": 14,
    "start_time": "2024-06-19T06:18:56.261Z"
   },
   {
    "duration": 8,
    "start_time": "2024-06-19T06:23:24.323Z"
   },
   {
    "duration": 1148,
    "start_time": "2024-06-19T06:23:45.351Z"
   },
   {
    "duration": 137,
    "start_time": "2024-06-19T06:23:46.501Z"
   },
   {
    "duration": 3,
    "start_time": "2024-06-19T06:23:46.640Z"
   },
   {
    "duration": 77,
    "start_time": "2024-06-19T06:23:46.644Z"
   },
   {
    "duration": 5,
    "start_time": "2024-06-19T06:23:46.723Z"
   },
   {
    "duration": 19,
    "start_time": "2024-06-19T06:23:46.729Z"
   },
   {
    "duration": 51,
    "start_time": "2024-06-19T06:23:46.749Z"
   },
   {
    "duration": 39,
    "start_time": "2024-06-19T06:23:46.802Z"
   },
   {
    "duration": 7,
    "start_time": "2024-06-19T06:23:46.842Z"
   },
   {
    "duration": 15,
    "start_time": "2024-06-19T06:23:46.851Z"
   },
   {
    "duration": 22,
    "start_time": "2024-06-19T06:23:46.868Z"
   },
   {
    "duration": 11,
    "start_time": "2024-06-19T06:23:46.891Z"
   },
   {
    "duration": 24,
    "start_time": "2024-06-19T06:23:46.903Z"
   },
   {
    "duration": 316,
    "start_time": "2024-06-19T06:23:46.930Z"
   },
   {
    "duration": 332,
    "start_time": "2024-06-19T06:23:47.247Z"
   },
   {
    "duration": 255,
    "start_time": "2024-06-19T06:23:47.581Z"
   },
   {
    "duration": 18,
    "start_time": "2024-06-19T06:23:47.838Z"
   },
   {
    "duration": 376,
    "start_time": "2024-06-19T06:23:47.858Z"
   },
   {
    "duration": 25,
    "start_time": "2024-06-19T06:23:48.236Z"
   },
   {
    "duration": 251,
    "start_time": "2024-06-19T06:23:48.263Z"
   },
   {
    "duration": 13,
    "start_time": "2024-06-19T06:23:48.515Z"
   },
   {
    "duration": 377,
    "start_time": "2024-06-19T06:23:48.530Z"
   },
   {
    "duration": 11,
    "start_time": "2024-06-19T06:23:48.908Z"
   },
   {
    "duration": 205,
    "start_time": "2024-06-19T06:23:48.921Z"
   },
   {
    "duration": 6,
    "start_time": "2024-06-19T06:23:49.128Z"
   },
   {
    "duration": 25,
    "start_time": "2024-06-19T06:23:49.135Z"
   },
   {
    "duration": 224,
    "start_time": "2024-06-19T06:23:49.161Z"
   },
   {
    "duration": 6,
    "start_time": "2024-06-19T06:23:49.388Z"
   },
   {
    "duration": 153,
    "start_time": "2024-06-19T06:23:49.395Z"
   },
   {
    "duration": 8,
    "start_time": "2024-06-19T06:23:49.554Z"
   },
   {
    "duration": 44,
    "start_time": "2024-06-19T06:23:49.564Z"
   },
   {
    "duration": 14,
    "start_time": "2024-06-19T06:23:49.610Z"
   },
   {
    "duration": 38,
    "start_time": "2024-06-19T06:23:49.626Z"
   },
   {
    "duration": 41,
    "start_time": "2024-06-19T06:23:49.666Z"
   },
   {
    "duration": 69,
    "start_time": "2024-06-19T06:23:49.709Z"
   },
   {
    "duration": 16,
    "start_time": "2024-06-19T06:23:49.780Z"
   },
   {
    "duration": 75,
    "start_time": "2024-06-19T06:25:32.192Z"
   },
   {
    "duration": 6,
    "start_time": "2024-06-19T06:25:52.764Z"
   },
   {
    "duration": 7,
    "start_time": "2024-06-19T06:27:00.992Z"
   },
   {
    "duration": 1104,
    "start_time": "2024-06-19T06:28:11.866Z"
   },
   {
    "duration": 113,
    "start_time": "2024-06-19T06:28:12.973Z"
   },
   {
    "duration": 3,
    "start_time": "2024-06-19T06:28:13.088Z"
   },
   {
    "duration": 58,
    "start_time": "2024-06-19T06:28:13.092Z"
   },
   {
    "duration": 4,
    "start_time": "2024-06-19T06:28:13.152Z"
   },
   {
    "duration": 17,
    "start_time": "2024-06-19T06:28:13.157Z"
   },
   {
    "duration": 29,
    "start_time": "2024-06-19T06:28:13.175Z"
   },
   {
    "duration": 54,
    "start_time": "2024-06-19T06:28:13.206Z"
   },
   {
    "duration": 8,
    "start_time": "2024-06-19T06:28:13.262Z"
   },
   {
    "duration": 6,
    "start_time": "2024-06-19T06:28:13.272Z"
   },
   {
    "duration": 21,
    "start_time": "2024-06-19T06:28:13.279Z"
   },
   {
    "duration": 12,
    "start_time": "2024-06-19T06:28:13.302Z"
   },
   {
    "duration": 43,
    "start_time": "2024-06-19T06:28:13.315Z"
   },
   {
    "duration": 311,
    "start_time": "2024-06-19T06:28:13.361Z"
   },
   {
    "duration": 376,
    "start_time": "2024-06-19T06:28:13.674Z"
   },
   {
    "duration": 337,
    "start_time": "2024-06-19T06:28:14.052Z"
   },
   {
    "duration": 12,
    "start_time": "2024-06-19T06:28:14.391Z"
   },
   {
    "duration": 387,
    "start_time": "2024-06-19T06:28:14.404Z"
   },
   {
    "duration": 19,
    "start_time": "2024-06-19T06:28:14.793Z"
   },
   {
    "duration": 255,
    "start_time": "2024-06-19T06:28:14.814Z"
   },
   {
    "duration": 15,
    "start_time": "2024-06-19T06:28:15.071Z"
   },
   {
    "duration": 348,
    "start_time": "2024-06-19T06:28:15.089Z"
   },
   {
    "duration": 17,
    "start_time": "2024-06-19T06:28:15.439Z"
   },
   {
    "duration": 199,
    "start_time": "2024-06-19T06:28:15.458Z"
   },
   {
    "duration": 5,
    "start_time": "2024-06-19T06:28:15.659Z"
   },
   {
    "duration": 11,
    "start_time": "2024-06-19T06:28:15.666Z"
   },
   {
    "duration": 209,
    "start_time": "2024-06-19T06:28:15.679Z"
   },
   {
    "duration": 7,
    "start_time": "2024-06-19T06:28:15.890Z"
   },
   {
    "duration": 194,
    "start_time": "2024-06-19T06:28:15.899Z"
   },
   {
    "duration": 7,
    "start_time": "2024-06-19T06:28:16.095Z"
   },
   {
    "duration": 36,
    "start_time": "2024-06-19T06:28:16.103Z"
   },
   {
    "duration": 28,
    "start_time": "2024-06-19T06:28:16.140Z"
   },
   {
    "duration": 8,
    "start_time": "2024-06-19T06:28:16.170Z"
   },
   {
    "duration": 11,
    "start_time": "2024-06-19T06:28:16.180Z"
   },
   {
    "duration": 26,
    "start_time": "2024-06-19T06:28:16.193Z"
   },
   {
    "duration": 39,
    "start_time": "2024-06-19T06:28:16.221Z"
   },
   {
    "duration": 931,
    "start_time": "2024-06-19T06:29:31.382Z"
   },
   {
    "duration": 5,
    "start_time": "2024-06-19T06:29:44.396Z"
   },
   {
    "duration": 6,
    "start_time": "2024-06-19T06:31:05.228Z"
   },
   {
    "duration": 8,
    "start_time": "2024-06-19T06:31:22.351Z"
   },
   {
    "duration": 7,
    "start_time": "2024-06-19T06:31:33.530Z"
   },
   {
    "duration": 6,
    "start_time": "2024-06-19T06:35:01.225Z"
   },
   {
    "duration": 7,
    "start_time": "2024-06-19T06:37:13.892Z"
   },
   {
    "duration": 9,
    "start_time": "2024-06-19T06:37:24.493Z"
   },
   {
    "duration": 5,
    "start_time": "2024-06-19T06:38:45.859Z"
   },
   {
    "duration": 19,
    "start_time": "2024-06-19T06:48:22.356Z"
   },
   {
    "duration": 12,
    "start_time": "2024-06-19T06:48:40.837Z"
   },
   {
    "duration": 14,
    "start_time": "2024-06-19T06:50:44.770Z"
   },
   {
    "duration": 48,
    "start_time": "2024-06-19T06:58:33.667Z"
   },
   {
    "duration": 34,
    "start_time": "2024-06-19T06:59:00.661Z"
   },
   {
    "duration": 14,
    "start_time": "2024-06-19T06:59:11.233Z"
   },
   {
    "duration": 22,
    "start_time": "2024-06-19T07:01:04.213Z"
   },
   {
    "duration": 25,
    "start_time": "2024-06-19T07:01:10.656Z"
   },
   {
    "duration": 14,
    "start_time": "2024-06-19T07:03:02.880Z"
   },
   {
    "duration": 28,
    "start_time": "2024-06-19T07:03:39.171Z"
   },
   {
    "duration": 14,
    "start_time": "2024-06-19T07:03:57.639Z"
   },
   {
    "duration": 7,
    "start_time": "2024-06-19T07:05:56.383Z"
   },
   {
    "duration": 18,
    "start_time": "2024-06-19T07:06:01.004Z"
   },
   {
    "duration": 14,
    "start_time": "2024-06-19T07:06:45.757Z"
   },
   {
    "duration": 16,
    "start_time": "2024-06-19T07:06:53.154Z"
   },
   {
    "duration": 17,
    "start_time": "2024-06-19T07:07:11.915Z"
   },
   {
    "duration": 18,
    "start_time": "2024-06-19T07:08:41.512Z"
   },
   {
    "duration": 1120,
    "start_time": "2024-06-19T07:08:46.013Z"
   },
   {
    "duration": 135,
    "start_time": "2024-06-19T07:08:47.135Z"
   },
   {
    "duration": 3,
    "start_time": "2024-06-19T07:08:47.271Z"
   },
   {
    "duration": 49,
    "start_time": "2024-06-19T07:08:47.276Z"
   },
   {
    "duration": 4,
    "start_time": "2024-06-19T07:08:47.327Z"
   },
   {
    "duration": 10,
    "start_time": "2024-06-19T07:08:47.332Z"
   },
   {
    "duration": 17,
    "start_time": "2024-06-19T07:08:47.356Z"
   },
   {
    "duration": 39,
    "start_time": "2024-06-19T07:08:47.375Z"
   },
   {
    "duration": 40,
    "start_time": "2024-06-19T07:08:47.416Z"
   },
   {
    "duration": 7,
    "start_time": "2024-06-19T07:08:47.459Z"
   },
   {
    "duration": 15,
    "start_time": "2024-06-19T07:08:47.468Z"
   },
   {
    "duration": 12,
    "start_time": "2024-06-19T07:08:47.484Z"
   },
   {
    "duration": 98,
    "start_time": "2024-06-19T07:08:47.498Z"
   },
   {
    "duration": 346,
    "start_time": "2024-06-19T07:08:47.598Z"
   },
   {
    "duration": 349,
    "start_time": "2024-06-19T07:08:47.946Z"
   },
   {
    "duration": 262,
    "start_time": "2024-06-19T07:08:48.296Z"
   },
   {
    "duration": 12,
    "start_time": "2024-06-19T07:08:48.559Z"
   },
   {
    "duration": 345,
    "start_time": "2024-06-19T07:08:48.573Z"
   },
   {
    "duration": 19,
    "start_time": "2024-06-19T07:08:48.920Z"
   },
   {
    "duration": 272,
    "start_time": "2024-06-19T07:08:48.940Z"
   },
   {
    "duration": 15,
    "start_time": "2024-06-19T07:08:49.213Z"
   },
   {
    "duration": 378,
    "start_time": "2024-06-19T07:08:49.230Z"
   },
   {
    "duration": 48,
    "start_time": "2024-06-19T07:08:49.610Z"
   },
   {
    "duration": 403,
    "start_time": "2024-06-19T07:08:49.660Z"
   },
   {
    "duration": 5,
    "start_time": "2024-06-19T07:08:50.065Z"
   },
   {
    "duration": 87,
    "start_time": "2024-06-19T07:08:50.072Z"
   },
   {
    "duration": 423,
    "start_time": "2024-06-19T07:08:50.161Z"
   },
   {
    "duration": 5,
    "start_time": "2024-06-19T07:08:50.587Z"
   },
   {
    "duration": 373,
    "start_time": "2024-06-19T07:08:50.594Z"
   },
   {
    "duration": 7,
    "start_time": "2024-06-19T07:08:50.969Z"
   },
   {
    "duration": 80,
    "start_time": "2024-06-19T07:08:50.978Z"
   },
   {
    "duration": 10,
    "start_time": "2024-06-19T07:08:51.060Z"
   },
   {
    "duration": 8,
    "start_time": "2024-06-19T07:08:51.072Z"
   },
   {
    "duration": 76,
    "start_time": "2024-06-19T07:08:51.082Z"
   },
   {
    "duration": 28,
    "start_time": "2024-06-19T07:08:51.161Z"
   },
   {
    "duration": 13,
    "start_time": "2024-06-19T07:08:51.191Z"
   },
   {
    "duration": 18,
    "start_time": "2024-06-19T07:09:22.356Z"
   },
   {
    "duration": 23,
    "start_time": "2024-06-19T07:09:35.356Z"
   },
   {
    "duration": 107,
    "start_time": "2024-06-19T07:09:51.569Z"
   },
   {
    "duration": 18,
    "start_time": "2024-06-19T07:10:00.983Z"
   },
   {
    "duration": 18,
    "start_time": "2024-06-19T07:10:20.262Z"
   },
   {
    "duration": 18,
    "start_time": "2024-06-19T07:10:23.682Z"
   },
   {
    "duration": 14,
    "start_time": "2024-06-19T07:10:33.117Z"
   },
   {
    "duration": 17,
    "start_time": "2024-06-19T07:10:36.467Z"
   },
   {
    "duration": 7,
    "start_time": "2024-06-19T07:14:44.495Z"
   },
   {
    "duration": 8,
    "start_time": "2024-06-19T07:14:46.827Z"
   },
   {
    "duration": 12,
    "start_time": "2024-06-19T07:15:11.092Z"
   },
   {
    "duration": 8,
    "start_time": "2024-06-19T07:15:16.752Z"
   },
   {
    "duration": 1107,
    "start_time": "2024-06-19T07:15:20.159Z"
   },
   {
    "duration": 135,
    "start_time": "2024-06-19T07:15:21.268Z"
   },
   {
    "duration": 3,
    "start_time": "2024-06-19T07:15:21.404Z"
   },
   {
    "duration": 46,
    "start_time": "2024-06-19T07:15:21.408Z"
   },
   {
    "duration": 4,
    "start_time": "2024-06-19T07:15:21.456Z"
   },
   {
    "duration": 11,
    "start_time": "2024-06-19T07:15:21.461Z"
   },
   {
    "duration": 17,
    "start_time": "2024-06-19T07:15:21.474Z"
   },
   {
    "duration": 67,
    "start_time": "2024-06-19T07:15:21.493Z"
   },
   {
    "duration": 8,
    "start_time": "2024-06-19T07:15:21.563Z"
   },
   {
    "duration": 5,
    "start_time": "2024-06-19T07:15:21.573Z"
   },
   {
    "duration": 21,
    "start_time": "2024-06-19T07:15:21.580Z"
   },
   {
    "duration": 12,
    "start_time": "2024-06-19T07:15:21.603Z"
   },
   {
    "duration": 46,
    "start_time": "2024-06-19T07:15:21.656Z"
   },
   {
    "duration": 327,
    "start_time": "2024-06-19T07:15:21.705Z"
   },
   {
    "duration": 350,
    "start_time": "2024-06-19T07:15:22.034Z"
   },
   {
    "duration": 265,
    "start_time": "2024-06-19T07:15:22.386Z"
   },
   {
    "duration": 12,
    "start_time": "2024-06-19T07:15:22.655Z"
   },
   {
    "duration": 339,
    "start_time": "2024-06-19T07:15:22.669Z"
   },
   {
    "duration": 19,
    "start_time": "2024-06-19T07:15:23.010Z"
   },
   {
    "duration": 274,
    "start_time": "2024-06-19T07:15:23.031Z"
   },
   {
    "duration": 15,
    "start_time": "2024-06-19T07:15:23.307Z"
   },
   {
    "duration": 457,
    "start_time": "2024-06-19T07:15:23.325Z"
   },
   {
    "duration": 71,
    "start_time": "2024-06-19T07:15:23.784Z"
   },
   {
    "duration": 413,
    "start_time": "2024-06-19T07:15:23.858Z"
   },
   {
    "duration": 5,
    "start_time": "2024-06-19T07:15:24.273Z"
   },
   {
    "duration": 76,
    "start_time": "2024-06-19T07:15:24.280Z"
   },
   {
    "duration": 406,
    "start_time": "2024-06-19T07:15:24.358Z"
   },
   {
    "duration": 5,
    "start_time": "2024-06-19T07:15:24.767Z"
   },
   {
    "duration": 317,
    "start_time": "2024-06-19T07:15:24.774Z"
   },
   {
    "duration": 63,
    "start_time": "2024-06-19T07:15:25.093Z"
   },
   {
    "duration": 38,
    "start_time": "2024-06-19T07:15:25.158Z"
   },
   {
    "duration": 58,
    "start_time": "2024-06-19T07:15:25.198Z"
   },
   {
    "duration": 10,
    "start_time": "2024-06-19T07:15:25.259Z"
   },
   {
    "duration": 11,
    "start_time": "2024-06-19T07:15:25.272Z"
   },
   {
    "duration": 85,
    "start_time": "2024-06-19T07:15:25.284Z"
   },
   {
    "duration": 15,
    "start_time": "2024-06-19T07:15:25.371Z"
   },
   {
    "duration": 18,
    "start_time": "2024-06-19T07:15:34.367Z"
   },
   {
    "duration": 16,
    "start_time": "2024-06-19T07:15:43.775Z"
   },
   {
    "duration": 106,
    "start_time": "2024-06-19T07:18:27.170Z"
   },
   {
    "duration": 13,
    "start_time": "2024-06-19T07:19:26.677Z"
   },
   {
    "duration": 32,
    "start_time": "2024-06-19T07:20:07.579Z"
   },
   {
    "duration": 23,
    "start_time": "2024-06-19T07:20:32.672Z"
   },
   {
    "duration": 18,
    "start_time": "2024-06-19T07:21:03.716Z"
   },
   {
    "duration": 13,
    "start_time": "2024-06-19T07:32:34.582Z"
   },
   {
    "duration": 1129,
    "start_time": "2024-06-19T07:32:38.591Z"
   },
   {
    "duration": 136,
    "start_time": "2024-06-19T07:32:39.722Z"
   },
   {
    "duration": 3,
    "start_time": "2024-06-19T07:32:39.860Z"
   },
   {
    "duration": 72,
    "start_time": "2024-06-19T07:32:39.866Z"
   },
   {
    "duration": 6,
    "start_time": "2024-06-19T07:32:39.960Z"
   },
   {
    "duration": 10,
    "start_time": "2024-06-19T07:32:39.968Z"
   },
   {
    "duration": 31,
    "start_time": "2024-06-19T07:32:39.979Z"
   },
   {
    "duration": 72,
    "start_time": "2024-06-19T07:32:40.011Z"
   },
   {
    "duration": 13,
    "start_time": "2024-06-19T07:32:40.085Z"
   },
   {
    "duration": 24,
    "start_time": "2024-06-19T07:32:40.102Z"
   },
   {
    "duration": 33,
    "start_time": "2024-06-19T07:32:40.128Z"
   },
   {
    "duration": 13,
    "start_time": "2024-06-19T07:32:40.163Z"
   },
   {
    "duration": 87,
    "start_time": "2024-06-19T07:32:40.178Z"
   },
   {
    "duration": 325,
    "start_time": "2024-06-19T07:32:40.267Z"
   },
   {
    "duration": 371,
    "start_time": "2024-06-19T07:32:40.594Z"
   },
   {
    "duration": 320,
    "start_time": "2024-06-19T07:32:40.967Z"
   },
   {
    "duration": 22,
    "start_time": "2024-06-19T07:32:41.290Z"
   },
   {
    "duration": 422,
    "start_time": "2024-06-19T07:32:41.314Z"
   },
   {
    "duration": 32,
    "start_time": "2024-06-19T07:32:41.738Z"
   },
   {
    "duration": 263,
    "start_time": "2024-06-19T07:32:41.772Z"
   },
   {
    "duration": 23,
    "start_time": "2024-06-19T07:32:42.037Z"
   },
   {
    "duration": 361,
    "start_time": "2024-06-19T07:32:42.062Z"
   },
   {
    "duration": 30,
    "start_time": "2024-06-19T07:32:42.425Z"
   },
   {
    "duration": 200,
    "start_time": "2024-06-19T07:32:42.457Z"
   },
   {
    "duration": 5,
    "start_time": "2024-06-19T07:32:42.660Z"
   },
   {
    "duration": 15,
    "start_time": "2024-06-19T07:32:42.667Z"
   },
   {
    "duration": 220,
    "start_time": "2024-06-19T07:32:42.684Z"
   },
   {
    "duration": 5,
    "start_time": "2024-06-19T07:32:42.908Z"
   },
   {
    "duration": 181,
    "start_time": "2024-06-19T07:32:42.915Z"
   },
   {
    "duration": 9,
    "start_time": "2024-06-19T07:32:43.099Z"
   },
   {
    "duration": 47,
    "start_time": "2024-06-19T07:32:43.110Z"
   },
   {
    "duration": 10,
    "start_time": "2024-06-19T07:32:43.159Z"
   },
   {
    "duration": 8,
    "start_time": "2024-06-19T07:32:43.171Z"
   },
   {
    "duration": 10,
    "start_time": "2024-06-19T07:32:43.181Z"
   },
   {
    "duration": 75,
    "start_time": "2024-06-19T07:32:43.193Z"
   },
   {
    "duration": 14,
    "start_time": "2024-06-19T07:32:43.270Z"
   },
   {
    "duration": 12,
    "start_time": "2024-06-19T07:38:52.025Z"
   },
   {
    "duration": 149,
    "start_time": "2024-06-19T07:40:02.128Z"
   },
   {
    "duration": 10,
    "start_time": "2024-06-19T07:40:11.020Z"
   },
   {
    "duration": 23,
    "start_time": "2024-06-19T07:42:03.646Z"
   },
   {
    "duration": 20,
    "start_time": "2024-06-19T07:42:24.411Z"
   },
   {
    "duration": 10,
    "start_time": "2024-06-19T07:43:02.132Z"
   },
   {
    "duration": 13,
    "start_time": "2024-06-19T07:43:04.222Z"
   },
   {
    "duration": 1158,
    "start_time": "2024-06-19T07:47:36.521Z"
   },
   {
    "duration": 113,
    "start_time": "2024-06-19T07:47:37.681Z"
   },
   {
    "duration": 4,
    "start_time": "2024-06-19T07:47:37.796Z"
   },
   {
    "duration": 56,
    "start_time": "2024-06-19T07:47:37.802Z"
   },
   {
    "duration": 8,
    "start_time": "2024-06-19T07:47:37.861Z"
   },
   {
    "duration": 8,
    "start_time": "2024-06-19T07:47:37.873Z"
   },
   {
    "duration": 17,
    "start_time": "2024-06-19T07:47:37.882Z"
   },
   {
    "duration": 92,
    "start_time": "2024-06-19T07:47:37.901Z"
   },
   {
    "duration": 7,
    "start_time": "2024-06-19T07:47:37.995Z"
   },
   {
    "duration": 25,
    "start_time": "2024-06-19T07:47:38.005Z"
   },
   {
    "duration": 28,
    "start_time": "2024-06-19T07:47:38.031Z"
   },
   {
    "duration": 24,
    "start_time": "2024-06-19T07:47:38.062Z"
   },
   {
    "duration": 85,
    "start_time": "2024-06-19T07:47:38.088Z"
   },
   {
    "duration": 354,
    "start_time": "2024-06-19T07:47:38.175Z"
   },
   {
    "duration": 387,
    "start_time": "2024-06-19T07:47:38.531Z"
   },
   {
    "duration": 319,
    "start_time": "2024-06-19T07:47:38.920Z"
   },
   {
    "duration": 22,
    "start_time": "2024-06-19T07:47:39.241Z"
   },
   {
    "duration": 385,
    "start_time": "2024-06-19T07:47:39.265Z"
   },
   {
    "duration": 32,
    "start_time": "2024-06-19T07:47:39.656Z"
   },
   {
    "duration": 275,
    "start_time": "2024-06-19T07:47:39.690Z"
   },
   {
    "duration": 17,
    "start_time": "2024-06-19T07:47:39.967Z"
   },
   {
    "duration": 376,
    "start_time": "2024-06-19T07:47:39.985Z"
   },
   {
    "duration": 17,
    "start_time": "2024-06-19T07:47:40.364Z"
   },
   {
    "duration": 256,
    "start_time": "2024-06-19T07:47:40.383Z"
   },
   {
    "duration": 29,
    "start_time": "2024-06-19T07:47:40.641Z"
   },
   {
    "duration": 42,
    "start_time": "2024-06-19T07:47:40.678Z"
   },
   {
    "duration": 210,
    "start_time": "2024-06-19T07:47:40.723Z"
   },
   {
    "duration": 6,
    "start_time": "2024-06-19T07:47:40.937Z"
   },
   {
    "duration": 193,
    "start_time": "2024-06-19T07:47:40.944Z"
   },
   {
    "duration": 16,
    "start_time": "2024-06-19T07:47:41.139Z"
   },
   {
    "duration": 35,
    "start_time": "2024-06-19T07:47:41.158Z"
   },
   {
    "duration": 14,
    "start_time": "2024-06-19T07:47:41.195Z"
   },
   {
    "duration": 151,
    "start_time": "2024-06-19T07:47:41.210Z"
   },
   {
    "duration": 0,
    "start_time": "2024-06-19T07:47:41.364Z"
   },
   {
    "duration": 0,
    "start_time": "2024-06-19T07:47:41.366Z"
   },
   {
    "duration": 0,
    "start_time": "2024-06-19T07:47:41.371Z"
   },
   {
    "duration": 6,
    "start_time": "2024-06-19T07:54:43.091Z"
   },
   {
    "duration": 13,
    "start_time": "2024-06-19T07:55:00.696Z"
   },
   {
    "duration": 1224,
    "start_time": "2024-06-19T07:55:25.031Z"
   },
   {
    "duration": 134,
    "start_time": "2024-06-19T07:55:26.258Z"
   },
   {
    "duration": 3,
    "start_time": "2024-06-19T07:55:26.394Z"
   },
   {
    "duration": 68,
    "start_time": "2024-06-19T07:55:26.399Z"
   },
   {
    "duration": 5,
    "start_time": "2024-06-19T07:55:26.469Z"
   },
   {
    "duration": 10,
    "start_time": "2024-06-19T07:55:26.476Z"
   },
   {
    "duration": 17,
    "start_time": "2024-06-19T07:55:26.488Z"
   },
   {
    "duration": 88,
    "start_time": "2024-06-19T07:55:26.507Z"
   },
   {
    "duration": 9,
    "start_time": "2024-06-19T07:55:26.597Z"
   },
   {
    "duration": 46,
    "start_time": "2024-06-19T07:55:26.610Z"
   },
   {
    "duration": 34,
    "start_time": "2024-06-19T07:55:26.658Z"
   },
   {
    "duration": 16,
    "start_time": "2024-06-19T07:55:26.694Z"
   },
   {
    "duration": 102,
    "start_time": "2024-06-19T07:55:26.713Z"
   },
   {
    "duration": 344,
    "start_time": "2024-06-19T07:55:26.817Z"
   },
   {
    "duration": 380,
    "start_time": "2024-06-19T07:55:27.164Z"
   },
   {
    "duration": 319,
    "start_time": "2024-06-19T07:55:27.545Z"
   },
   {
    "duration": 19,
    "start_time": "2024-06-19T07:55:27.867Z"
   },
   {
    "duration": 366,
    "start_time": "2024-06-19T07:55:27.888Z"
   },
   {
    "duration": 33,
    "start_time": "2024-06-19T07:55:28.257Z"
   },
   {
    "duration": 301,
    "start_time": "2024-06-19T07:55:28.292Z"
   },
   {
    "duration": 15,
    "start_time": "2024-06-19T07:55:28.595Z"
   },
   {
    "duration": 428,
    "start_time": "2024-06-19T07:55:28.612Z"
   },
   {
    "duration": 21,
    "start_time": "2024-06-19T07:55:29.042Z"
   },
   {
    "duration": 256,
    "start_time": "2024-06-19T07:55:29.067Z"
   },
   {
    "duration": 6,
    "start_time": "2024-06-19T07:55:29.325Z"
   },
   {
    "duration": 44,
    "start_time": "2024-06-19T07:55:29.333Z"
   },
   {
    "duration": 213,
    "start_time": "2024-06-19T07:55:29.380Z"
   },
   {
    "duration": 7,
    "start_time": "2024-06-19T07:55:29.597Z"
   },
   {
    "duration": 173,
    "start_time": "2024-06-19T07:55:29.606Z"
   },
   {
    "duration": 9,
    "start_time": "2024-06-19T07:55:29.781Z"
   },
   {
    "duration": 29,
    "start_time": "2024-06-19T07:55:29.792Z"
   },
   {
    "duration": 34,
    "start_time": "2024-06-19T07:55:29.823Z"
   },
   {
    "duration": 11,
    "start_time": "2024-06-19T07:55:29.859Z"
   },
   {
    "duration": 9,
    "start_time": "2024-06-19T07:55:29.872Z"
   },
   {
    "duration": 27,
    "start_time": "2024-06-19T07:55:29.883Z"
   },
   {
    "duration": 51,
    "start_time": "2024-06-19T07:55:29.912Z"
   },
   {
    "duration": 1203,
    "start_time": "2024-06-19T08:06:43.883Z"
   },
   {
    "duration": 140,
    "start_time": "2024-06-19T08:06:45.088Z"
   },
   {
    "duration": 3,
    "start_time": "2024-06-19T08:06:45.230Z"
   },
   {
    "duration": 76,
    "start_time": "2024-06-19T08:06:45.235Z"
   },
   {
    "duration": 17,
    "start_time": "2024-06-19T08:06:45.312Z"
   },
   {
    "duration": 79,
    "start_time": "2024-06-19T08:06:45.330Z"
   },
   {
    "duration": 23,
    "start_time": "2024-06-19T08:06:45.411Z"
   },
   {
    "duration": 74,
    "start_time": "2024-06-19T08:06:45.435Z"
   },
   {
    "duration": 8,
    "start_time": "2024-06-19T08:06:45.511Z"
   },
   {
    "duration": 13,
    "start_time": "2024-06-19T08:06:45.521Z"
   },
   {
    "duration": 38,
    "start_time": "2024-06-19T08:06:45.535Z"
   },
   {
    "duration": 13,
    "start_time": "2024-06-19T08:06:45.576Z"
   },
   {
    "duration": 86,
    "start_time": "2024-06-19T08:06:45.591Z"
   },
   {
    "duration": 364,
    "start_time": "2024-06-19T08:06:45.679Z"
   },
   {
    "duration": 396,
    "start_time": "2024-06-19T08:06:46.044Z"
   },
   {
    "duration": 294,
    "start_time": "2024-06-19T08:06:46.441Z"
   },
   {
    "duration": 22,
    "start_time": "2024-06-19T08:06:46.737Z"
   },
   {
    "duration": 387,
    "start_time": "2024-06-19T08:06:46.763Z"
   },
   {
    "duration": 34,
    "start_time": "2024-06-19T08:06:47.152Z"
   },
   {
    "duration": 309,
    "start_time": "2024-06-19T08:06:47.188Z"
   },
   {
    "duration": 16,
    "start_time": "2024-06-19T08:06:47.499Z"
   },
   {
    "duration": 405,
    "start_time": "2024-06-19T08:06:47.517Z"
   },
   {
    "duration": 11,
    "start_time": "2024-06-19T08:06:47.924Z"
   },
   {
    "duration": 246,
    "start_time": "2024-06-19T08:06:47.937Z"
   },
   {
    "duration": 5,
    "start_time": "2024-06-19T08:06:48.185Z"
   },
   {
    "duration": 13,
    "start_time": "2024-06-19T08:06:48.191Z"
   },
   {
    "duration": 199,
    "start_time": "2024-06-19T08:06:48.206Z"
   },
   {
    "duration": 5,
    "start_time": "2024-06-19T08:06:48.408Z"
   },
   {
    "duration": 362,
    "start_time": "2024-06-19T08:06:48.415Z"
   },
   {
    "duration": 6,
    "start_time": "2024-06-19T08:06:48.779Z"
   },
   {
    "duration": 33,
    "start_time": "2024-06-19T08:06:48.787Z"
   },
   {
    "duration": 9,
    "start_time": "2024-06-19T08:06:48.821Z"
   },
   {
    "duration": 29,
    "start_time": "2024-06-19T08:06:48.832Z"
   },
   {
    "duration": 20,
    "start_time": "2024-06-19T08:06:48.864Z"
   },
   {
    "duration": 28,
    "start_time": "2024-06-19T08:06:48.885Z"
   },
   {
    "duration": 13,
    "start_time": "2024-06-19T08:06:48.915Z"
   },
   {
    "duration": 19,
    "start_time": "2024-06-19T08:07:52.815Z"
   },
   {
    "duration": 337,
    "start_time": "2024-06-19T08:07:54.378Z"
   },
   {
    "duration": 20,
    "start_time": "2024-06-19T08:07:56.265Z"
   },
   {
    "duration": 530,
    "start_time": "2024-06-19T08:07:56.821Z"
   },
   {
    "duration": 1155,
    "start_time": "2024-06-19T08:08:03.261Z"
   },
   {
    "duration": 121,
    "start_time": "2024-06-19T08:08:04.419Z"
   },
   {
    "duration": 3,
    "start_time": "2024-06-19T08:08:04.542Z"
   },
   {
    "duration": 61,
    "start_time": "2024-06-19T08:08:04.547Z"
   },
   {
    "duration": 4,
    "start_time": "2024-06-19T08:08:04.610Z"
   },
   {
    "duration": 18,
    "start_time": "2024-06-19T08:08:04.615Z"
   },
   {
    "duration": 34,
    "start_time": "2024-06-19T08:08:04.634Z"
   },
   {
    "duration": 43,
    "start_time": "2024-06-19T08:08:04.671Z"
   },
   {
    "duration": 7,
    "start_time": "2024-06-19T08:08:04.716Z"
   },
   {
    "duration": 34,
    "start_time": "2024-06-19T08:08:04.725Z"
   },
   {
    "duration": 15,
    "start_time": "2024-06-19T08:08:04.762Z"
   },
   {
    "duration": 16,
    "start_time": "2024-06-19T08:08:04.779Z"
   },
   {
    "duration": 114,
    "start_time": "2024-06-19T08:08:04.796Z"
   },
   {
    "duration": 370,
    "start_time": "2024-06-19T08:08:04.912Z"
   },
   {
    "duration": 368,
    "start_time": "2024-06-19T08:08:05.284Z"
   },
   {
    "duration": 285,
    "start_time": "2024-06-19T08:08:05.655Z"
   },
   {
    "duration": 32,
    "start_time": "2024-06-19T08:08:05.941Z"
   },
   {
    "duration": 379,
    "start_time": "2024-06-19T08:08:05.975Z"
   },
   {
    "duration": 30,
    "start_time": "2024-06-19T08:08:06.358Z"
   },
   {
    "duration": 325,
    "start_time": "2024-06-19T08:08:06.390Z"
   },
   {
    "duration": 15,
    "start_time": "2024-06-19T08:08:06.717Z"
   },
   {
    "duration": 403,
    "start_time": "2024-06-19T08:08:06.734Z"
   },
   {
    "duration": 20,
    "start_time": "2024-06-19T08:08:07.139Z"
   },
   {
    "duration": 230,
    "start_time": "2024-06-19T08:08:07.162Z"
   },
   {
    "duration": 6,
    "start_time": "2024-06-19T08:08:07.394Z"
   },
   {
    "duration": 16,
    "start_time": "2024-06-19T08:08:07.402Z"
   },
   {
    "duration": 228,
    "start_time": "2024-06-19T08:08:07.420Z"
   },
   {
    "duration": 10,
    "start_time": "2024-06-19T08:08:07.657Z"
   },
   {
    "duration": 372,
    "start_time": "2024-06-19T08:08:07.673Z"
   },
   {
    "duration": 31,
    "start_time": "2024-06-19T08:08:08.047Z"
   },
   {
    "duration": 432,
    "start_time": "2024-06-19T08:08:08.080Z"
   },
   {
    "duration": 11,
    "start_time": "2024-06-19T08:08:08.514Z"
   },
   {
    "duration": 30,
    "start_time": "2024-06-19T08:08:08.528Z"
   },
   {
    "duration": 30,
    "start_time": "2024-06-19T08:08:08.560Z"
   },
   {
    "duration": 43,
    "start_time": "2024-06-19T08:08:08.592Z"
   },
   {
    "duration": 27,
    "start_time": "2024-06-19T08:08:08.637Z"
   },
   {
    "duration": 1174,
    "start_time": "2024-06-19T08:09:51.121Z"
   },
   {
    "duration": 119,
    "start_time": "2024-06-19T08:09:52.297Z"
   },
   {
    "duration": 2,
    "start_time": "2024-06-19T08:09:52.418Z"
   },
   {
    "duration": 72,
    "start_time": "2024-06-19T08:09:52.422Z"
   },
   {
    "duration": 4,
    "start_time": "2024-06-19T08:09:52.495Z"
   },
   {
    "duration": 33,
    "start_time": "2024-06-19T08:09:52.501Z"
   },
   {
    "duration": 36,
    "start_time": "2024-06-19T08:09:52.535Z"
   },
   {
    "duration": 56,
    "start_time": "2024-06-19T08:09:52.574Z"
   },
   {
    "duration": 30,
    "start_time": "2024-06-19T08:09:52.632Z"
   },
   {
    "duration": 25,
    "start_time": "2024-06-19T08:09:52.668Z"
   },
   {
    "duration": 21,
    "start_time": "2024-06-19T08:09:52.695Z"
   },
   {
    "duration": 14,
    "start_time": "2024-06-19T08:09:52.718Z"
   },
   {
    "duration": 83,
    "start_time": "2024-06-19T08:09:52.734Z"
   },
   {
    "duration": 363,
    "start_time": "2024-06-19T08:09:52.818Z"
   },
   {
    "duration": 382,
    "start_time": "2024-06-19T08:09:53.183Z"
   },
   {
    "duration": 327,
    "start_time": "2024-06-19T08:09:53.572Z"
   },
   {
    "duration": 12,
    "start_time": "2024-06-19T08:09:53.900Z"
   },
   {
    "duration": 401,
    "start_time": "2024-06-19T08:09:53.914Z"
   },
   {
    "duration": 21,
    "start_time": "2024-06-19T08:09:54.316Z"
   },
   {
    "duration": 264,
    "start_time": "2024-06-19T08:09:54.355Z"
   },
   {
    "duration": 36,
    "start_time": "2024-06-19T08:09:54.621Z"
   },
   {
    "duration": 375,
    "start_time": "2024-06-19T08:09:54.660Z"
   },
   {
    "duration": 23,
    "start_time": "2024-06-19T08:09:55.037Z"
   },
   {
    "duration": 251,
    "start_time": "2024-06-19T08:09:55.063Z"
   },
   {
    "duration": 16,
    "start_time": "2024-06-19T08:09:55.316Z"
   },
   {
    "duration": 35,
    "start_time": "2024-06-19T08:09:55.334Z"
   },
   {
    "duration": 236,
    "start_time": "2024-06-19T08:09:55.372Z"
   },
   {
    "duration": 6,
    "start_time": "2024-06-19T08:09:55.612Z"
   },
   {
    "duration": 81,
    "start_time": "2024-06-19T08:09:55.620Z"
   },
   {
    "duration": 0,
    "start_time": "2024-06-19T08:09:55.703Z"
   },
   {
    "duration": 0,
    "start_time": "2024-06-19T08:09:55.704Z"
   },
   {
    "duration": 0,
    "start_time": "2024-06-19T08:09:55.704Z"
   },
   {
    "duration": 0,
    "start_time": "2024-06-19T08:09:55.706Z"
   },
   {
    "duration": 0,
    "start_time": "2024-06-19T08:09:55.707Z"
   },
   {
    "duration": 0,
    "start_time": "2024-06-19T08:09:55.708Z"
   },
   {
    "duration": 0,
    "start_time": "2024-06-19T08:09:55.709Z"
   },
   {
    "duration": 140,
    "start_time": "2024-06-19T08:11:00.575Z"
   },
   {
    "duration": 81,
    "start_time": "2024-06-19T08:11:39.273Z"
   },
   {
    "duration": 539,
    "start_time": "2024-06-19T08:11:53.361Z"
   },
   {
    "duration": 388,
    "start_time": "2024-06-19T08:11:57.875Z"
   },
   {
    "duration": 7,
    "start_time": "2024-06-19T08:11:59.716Z"
   },
   {
    "duration": 47,
    "start_time": "2024-06-19T08:12:00.181Z"
   },
   {
    "duration": 1201,
    "start_time": "2024-06-19T08:17:54.209Z"
   },
   {
    "duration": 148,
    "start_time": "2024-06-19T08:17:55.412Z"
   },
   {
    "duration": 4,
    "start_time": "2024-06-19T08:17:55.564Z"
   },
   {
    "duration": 54,
    "start_time": "2024-06-19T08:17:55.572Z"
   },
   {
    "duration": 7,
    "start_time": "2024-06-19T08:17:55.660Z"
   },
   {
    "duration": 30,
    "start_time": "2024-06-19T08:17:55.670Z"
   },
   {
    "duration": 18,
    "start_time": "2024-06-19T08:17:55.702Z"
   },
   {
    "duration": 64,
    "start_time": "2024-06-19T08:17:55.722Z"
   },
   {
    "duration": 9,
    "start_time": "2024-06-19T08:17:55.788Z"
   },
   {
    "duration": 38,
    "start_time": "2024-06-19T08:17:55.799Z"
   },
   {
    "duration": 33,
    "start_time": "2024-06-19T08:17:55.839Z"
   },
   {
    "duration": 18,
    "start_time": "2024-06-19T08:17:55.875Z"
   },
   {
    "duration": 94,
    "start_time": "2024-06-19T08:17:55.894Z"
   },
   {
    "duration": 370,
    "start_time": "2024-06-19T08:17:55.990Z"
   },
   {
    "duration": 393,
    "start_time": "2024-06-19T08:17:56.366Z"
   },
   {
    "duration": 299,
    "start_time": "2024-06-19T08:17:56.762Z"
   },
   {
    "duration": 19,
    "start_time": "2024-06-19T08:17:57.064Z"
   },
   {
    "duration": 340,
    "start_time": "2024-06-19T08:17:57.086Z"
   },
   {
    "duration": 34,
    "start_time": "2024-06-19T08:17:57.427Z"
   },
   {
    "duration": 297,
    "start_time": "2024-06-19T08:17:57.463Z"
   },
   {
    "duration": 21,
    "start_time": "2024-06-19T08:17:57.764Z"
   },
   {
    "duration": 382,
    "start_time": "2024-06-19T08:17:57.787Z"
   },
   {
    "duration": 16,
    "start_time": "2024-06-19T08:17:58.172Z"
   },
   {
    "duration": 246,
    "start_time": "2024-06-19T08:17:58.190Z"
   },
   {
    "duration": 5,
    "start_time": "2024-06-19T08:17:58.438Z"
   },
   {
    "duration": 21,
    "start_time": "2024-06-19T08:17:58.445Z"
   },
   {
    "duration": 275,
    "start_time": "2024-06-19T08:17:58.469Z"
   },
   {
    "duration": 8,
    "start_time": "2024-06-19T08:17:58.748Z"
   },
   {
    "duration": 225,
    "start_time": "2024-06-19T08:17:58.757Z"
   },
   {
    "duration": 116,
    "start_time": "2024-06-19T08:17:58.984Z"
   },
   {
    "duration": 0,
    "start_time": "2024-06-19T08:17:59.102Z"
   },
   {
    "duration": 0,
    "start_time": "2024-06-19T08:17:59.103Z"
   },
   {
    "duration": 0,
    "start_time": "2024-06-19T08:17:59.104Z"
   },
   {
    "duration": 0,
    "start_time": "2024-06-19T08:17:59.105Z"
   },
   {
    "duration": 0,
    "start_time": "2024-06-19T08:17:59.106Z"
   },
   {
    "duration": 0,
    "start_time": "2024-06-19T08:17:59.107Z"
   },
   {
    "duration": 11,
    "start_time": "2024-06-19T08:18:20.075Z"
   },
   {
    "duration": 28,
    "start_time": "2024-06-19T08:18:21.081Z"
   },
   {
    "duration": 161,
    "start_time": "2024-06-19T08:18:51.151Z"
   },
   {
    "duration": 6,
    "start_time": "2024-06-19T08:18:53.367Z"
   },
   {
    "duration": 31,
    "start_time": "2024-06-19T08:18:53.766Z"
   },
   {
    "duration": 188,
    "start_time": "2024-06-19T08:19:19.536Z"
   },
   {
    "duration": 131,
    "start_time": "2024-06-19T08:26:06.366Z"
   },
   {
    "duration": 5,
    "start_time": "2024-06-19T08:26:09.067Z"
   },
   {
    "duration": 27,
    "start_time": "2024-06-19T08:26:09.476Z"
   },
   {
    "duration": 138,
    "start_time": "2024-06-19T08:26:23.278Z"
   },
   {
    "duration": 5,
    "start_time": "2024-06-19T08:26:24.930Z"
   },
   {
    "duration": 27,
    "start_time": "2024-06-19T08:26:25.475Z"
   },
   {
    "duration": 1121,
    "start_time": "2024-06-19T08:27:18.718Z"
   },
   {
    "duration": 133,
    "start_time": "2024-06-19T08:27:19.841Z"
   },
   {
    "duration": 4,
    "start_time": "2024-06-19T08:27:19.976Z"
   },
   {
    "duration": 49,
    "start_time": "2024-06-19T08:27:19.983Z"
   },
   {
    "duration": 5,
    "start_time": "2024-06-19T08:27:20.033Z"
   },
   {
    "duration": 8,
    "start_time": "2024-06-19T08:27:20.055Z"
   },
   {
    "duration": 30,
    "start_time": "2024-06-19T08:27:20.065Z"
   },
   {
    "duration": 74,
    "start_time": "2024-06-19T08:27:20.097Z"
   },
   {
    "duration": 9,
    "start_time": "2024-06-19T08:27:20.173Z"
   },
   {
    "duration": 8,
    "start_time": "2024-06-19T08:27:20.186Z"
   },
   {
    "duration": 40,
    "start_time": "2024-06-19T08:27:20.196Z"
   },
   {
    "duration": 29,
    "start_time": "2024-06-19T08:27:20.238Z"
   },
   {
    "duration": 90,
    "start_time": "2024-06-19T08:27:20.268Z"
   },
   {
    "duration": 399,
    "start_time": "2024-06-19T08:27:20.359Z"
   },
   {
    "duration": 364,
    "start_time": "2024-06-19T08:27:20.761Z"
   },
   {
    "duration": 267,
    "start_time": "2024-06-19T08:27:21.126Z"
   },
   {
    "duration": 11,
    "start_time": "2024-06-19T08:27:21.395Z"
   },
   {
    "duration": 387,
    "start_time": "2024-06-19T08:27:21.408Z"
   },
   {
    "duration": 20,
    "start_time": "2024-06-19T08:27:21.796Z"
   },
   {
    "duration": 310,
    "start_time": "2024-06-19T08:27:21.817Z"
   },
   {
    "duration": 27,
    "start_time": "2024-06-19T08:27:22.129Z"
   },
   {
    "duration": 360,
    "start_time": "2024-06-19T08:27:22.158Z"
   },
   {
    "duration": 16,
    "start_time": "2024-06-19T08:27:22.520Z"
   },
   {
    "duration": 230,
    "start_time": "2024-06-19T08:27:22.537Z"
   },
   {
    "duration": 5,
    "start_time": "2024-06-19T08:27:22.769Z"
   },
   {
    "duration": 39,
    "start_time": "2024-06-19T08:27:22.776Z"
   },
   {
    "duration": 193,
    "start_time": "2024-06-19T08:27:22.817Z"
   },
   {
    "duration": 5,
    "start_time": "2024-06-19T08:27:23.014Z"
   },
   {
    "duration": 155,
    "start_time": "2024-06-19T08:27:23.021Z"
   },
   {
    "duration": 5,
    "start_time": "2024-06-19T08:27:23.178Z"
   },
   {
    "duration": 65,
    "start_time": "2024-06-19T08:27:23.184Z"
   },
   {
    "duration": 14,
    "start_time": "2024-06-19T08:27:23.251Z"
   },
   {
    "duration": 33,
    "start_time": "2024-06-19T08:27:23.267Z"
   },
   {
    "duration": 31,
    "start_time": "2024-06-19T08:27:23.302Z"
   },
   {
    "duration": 50,
    "start_time": "2024-06-19T08:27:23.335Z"
   },
   {
    "duration": 13,
    "start_time": "2024-06-19T08:27:23.387Z"
   },
   {
    "duration": 1125,
    "start_time": "2024-06-19T08:38:32.513Z"
   },
   {
    "duration": 133,
    "start_time": "2024-06-19T08:38:33.640Z"
   },
   {
    "duration": 3,
    "start_time": "2024-06-19T08:38:33.775Z"
   },
   {
    "duration": 52,
    "start_time": "2024-06-19T08:38:33.780Z"
   },
   {
    "duration": 4,
    "start_time": "2024-06-19T08:38:33.834Z"
   },
   {
    "duration": 65,
    "start_time": "2024-06-19T08:38:33.839Z"
   },
   {
    "duration": 24,
    "start_time": "2024-06-19T08:38:33.906Z"
   },
   {
    "duration": 45,
    "start_time": "2024-06-19T08:38:33.932Z"
   },
   {
    "duration": 10,
    "start_time": "2024-06-19T08:38:33.978Z"
   },
   {
    "duration": 30,
    "start_time": "2024-06-19T08:38:33.991Z"
   },
   {
    "duration": 41,
    "start_time": "2024-06-19T08:38:34.023Z"
   },
   {
    "duration": 12,
    "start_time": "2024-06-19T08:38:34.066Z"
   },
   {
    "duration": 86,
    "start_time": "2024-06-19T08:38:34.080Z"
   },
   {
    "duration": 341,
    "start_time": "2024-06-19T08:38:34.167Z"
   },
   {
    "duration": 338,
    "start_time": "2024-06-19T08:38:34.509Z"
   },
   {
    "duration": 253,
    "start_time": "2024-06-19T08:38:34.849Z"
   },
   {
    "duration": 12,
    "start_time": "2024-06-19T08:38:35.104Z"
   },
   {
    "duration": 365,
    "start_time": "2024-06-19T08:38:35.118Z"
   },
   {
    "duration": 20,
    "start_time": "2024-06-19T08:38:35.485Z"
   },
   {
    "duration": 278,
    "start_time": "2024-06-19T08:38:35.507Z"
   },
   {
    "duration": 17,
    "start_time": "2024-06-19T08:38:35.787Z"
   },
   {
    "duration": 407,
    "start_time": "2024-06-19T08:38:35.806Z"
   },
   {
    "duration": 11,
    "start_time": "2024-06-19T08:38:36.215Z"
   },
   {
    "duration": 208,
    "start_time": "2024-06-19T08:38:36.228Z"
   },
   {
    "duration": 5,
    "start_time": "2024-06-19T08:38:36.438Z"
   },
   {
    "duration": 11,
    "start_time": "2024-06-19T08:38:36.455Z"
   },
   {
    "duration": 209,
    "start_time": "2024-06-19T08:38:36.467Z"
   },
   {
    "duration": 6,
    "start_time": "2024-06-19T08:38:36.681Z"
   },
   {
    "duration": 149,
    "start_time": "2024-06-19T08:38:36.689Z"
   },
   {
    "duration": 5,
    "start_time": "2024-06-19T08:38:36.840Z"
   },
   {
    "duration": 28,
    "start_time": "2024-06-19T08:38:36.855Z"
   },
   {
    "duration": 10,
    "start_time": "2024-06-19T08:38:36.885Z"
   },
   {
    "duration": 9,
    "start_time": "2024-06-19T08:38:36.897Z"
   },
   {
    "duration": 8,
    "start_time": "2024-06-19T08:38:36.908Z"
   },
   {
    "duration": 63,
    "start_time": "2024-06-19T08:38:36.917Z"
   },
   {
    "duration": 13,
    "start_time": "2024-06-19T08:38:36.982Z"
   },
   {
    "duration": 1190,
    "start_time": "2024-06-19T08:47:52.444Z"
   },
   {
    "duration": 155,
    "start_time": "2024-06-19T08:47:53.641Z"
   },
   {
    "duration": 4,
    "start_time": "2024-06-19T08:47:53.799Z"
   },
   {
    "duration": 55,
    "start_time": "2024-06-19T08:47:53.805Z"
   },
   {
    "duration": 6,
    "start_time": "2024-06-19T08:47:53.863Z"
   },
   {
    "duration": 18,
    "start_time": "2024-06-19T08:47:53.871Z"
   },
   {
    "duration": 26,
    "start_time": "2024-06-19T08:47:53.892Z"
   },
   {
    "duration": 95,
    "start_time": "2024-06-19T08:47:53.920Z"
   },
   {
    "duration": 10,
    "start_time": "2024-06-19T08:47:54.017Z"
   },
   {
    "duration": 30,
    "start_time": "2024-06-19T08:47:54.029Z"
   },
   {
    "duration": 19,
    "start_time": "2024-06-19T08:47:54.061Z"
   },
   {
    "duration": 15,
    "start_time": "2024-06-19T08:47:54.083Z"
   },
   {
    "duration": 107,
    "start_time": "2024-06-19T08:47:54.100Z"
   },
   {
    "duration": 362,
    "start_time": "2024-06-19T08:47:54.211Z"
   },
   {
    "duration": 465,
    "start_time": "2024-06-19T08:47:54.575Z"
   },
   {
    "duration": 277,
    "start_time": "2024-06-19T08:47:55.042Z"
   },
   {
    "duration": 13,
    "start_time": "2024-06-19T08:47:55.321Z"
   },
   {
    "duration": 473,
    "start_time": "2024-06-19T08:47:55.336Z"
   },
   {
    "duration": 50,
    "start_time": "2024-06-19T08:47:55.811Z"
   },
   {
    "duration": 338,
    "start_time": "2024-06-19T08:47:55.864Z"
   },
   {
    "duration": 19,
    "start_time": "2024-06-19T08:47:56.205Z"
   },
   {
    "duration": 425,
    "start_time": "2024-06-19T08:47:56.226Z"
   },
   {
    "duration": 12,
    "start_time": "2024-06-19T08:47:56.655Z"
   },
   {
    "duration": 222,
    "start_time": "2024-06-19T08:47:56.669Z"
   },
   {
    "duration": 5,
    "start_time": "2024-06-19T08:47:56.893Z"
   },
   {
    "duration": 32,
    "start_time": "2024-06-19T08:47:56.900Z"
   },
   {
    "duration": 213,
    "start_time": "2024-06-19T08:47:56.934Z"
   },
   {
    "duration": 11,
    "start_time": "2024-06-19T08:47:57.149Z"
   },
   {
    "duration": 194,
    "start_time": "2024-06-19T08:47:57.162Z"
   },
   {
    "duration": 6,
    "start_time": "2024-06-19T08:47:57.359Z"
   },
   {
    "duration": 51,
    "start_time": "2024-06-19T08:47:57.367Z"
   },
   {
    "duration": 39,
    "start_time": "2024-06-19T08:47:57.420Z"
   },
   {
    "duration": 14,
    "start_time": "2024-06-19T08:47:57.461Z"
   },
   {
    "duration": 19,
    "start_time": "2024-06-19T08:47:57.477Z"
   },
   {
    "duration": 68,
    "start_time": "2024-06-19T08:47:57.499Z"
   },
   {
    "duration": 20,
    "start_time": "2024-06-19T08:47:57.569Z"
   },
   {
    "duration": 1187,
    "start_time": "2024-06-19T08:55:30.358Z"
   },
   {
    "duration": 139,
    "start_time": "2024-06-19T08:55:31.548Z"
   },
   {
    "duration": 3,
    "start_time": "2024-06-19T08:55:31.689Z"
   },
   {
    "duration": 67,
    "start_time": "2024-06-19T08:55:31.695Z"
   },
   {
    "duration": 6,
    "start_time": "2024-06-19T08:55:31.764Z"
   },
   {
    "duration": 41,
    "start_time": "2024-06-19T08:55:31.772Z"
   },
   {
    "duration": 23,
    "start_time": "2024-06-19T08:55:31.815Z"
   },
   {
    "duration": 54,
    "start_time": "2024-06-19T08:55:31.840Z"
   },
   {
    "duration": 8,
    "start_time": "2024-06-19T08:55:31.895Z"
   },
   {
    "duration": 50,
    "start_time": "2024-06-19T08:55:31.906Z"
   },
   {
    "duration": 21,
    "start_time": "2024-06-19T08:55:31.958Z"
   },
   {
    "duration": 15,
    "start_time": "2024-06-19T08:55:31.981Z"
   },
   {
    "duration": 101,
    "start_time": "2024-06-19T08:55:31.999Z"
   },
   {
    "duration": 342,
    "start_time": "2024-06-19T08:55:32.102Z"
   },
   {
    "duration": 396,
    "start_time": "2024-06-19T08:55:32.445Z"
   },
   {
    "duration": 279,
    "start_time": "2024-06-19T08:55:32.842Z"
   },
   {
    "duration": 14,
    "start_time": "2024-06-19T08:55:33.123Z"
   },
   {
    "duration": 345,
    "start_time": "2024-06-19T08:55:33.155Z"
   },
   {
    "duration": 24,
    "start_time": "2024-06-19T08:55:33.502Z"
   },
   {
    "duration": 334,
    "start_time": "2024-06-19T08:55:33.528Z"
   },
   {
    "duration": 16,
    "start_time": "2024-06-19T08:55:33.863Z"
   },
   {
    "duration": 350,
    "start_time": "2024-06-19T08:55:33.881Z"
   },
   {
    "duration": 27,
    "start_time": "2024-06-19T08:55:34.233Z"
   },
   {
    "duration": 251,
    "start_time": "2024-06-19T08:55:34.262Z"
   },
   {
    "duration": 5,
    "start_time": "2024-06-19T08:55:34.515Z"
   },
   {
    "duration": 33,
    "start_time": "2024-06-19T08:55:34.522Z"
   },
   {
    "duration": 222,
    "start_time": "2024-06-19T08:55:34.557Z"
   },
   {
    "duration": 6,
    "start_time": "2024-06-19T08:55:34.783Z"
   },
   {
    "duration": 176,
    "start_time": "2024-06-19T08:55:34.790Z"
   },
   {
    "duration": 6,
    "start_time": "2024-06-19T08:55:34.968Z"
   },
   {
    "duration": 40,
    "start_time": "2024-06-19T08:55:34.976Z"
   },
   {
    "duration": 40,
    "start_time": "2024-06-19T08:55:35.018Z"
   },
   {
    "duration": 13,
    "start_time": "2024-06-19T08:55:35.059Z"
   },
   {
    "duration": 14,
    "start_time": "2024-06-19T08:55:35.073Z"
   },
   {
    "duration": 68,
    "start_time": "2024-06-19T08:55:35.089Z"
   },
   {
    "duration": 14,
    "start_time": "2024-06-19T08:55:35.159Z"
   },
   {
    "duration": 1144,
    "start_time": "2024-06-19T09:00:05.039Z"
   },
   {
    "duration": 152,
    "start_time": "2024-06-19T09:00:06.186Z"
   },
   {
    "duration": 3,
    "start_time": "2024-06-19T09:00:06.340Z"
   },
   {
    "duration": 54,
    "start_time": "2024-06-19T09:00:06.345Z"
   },
   {
    "duration": 18,
    "start_time": "2024-06-19T09:00:06.402Z"
   },
   {
    "duration": 9,
    "start_time": "2024-06-19T09:00:06.422Z"
   },
   {
    "duration": 22,
    "start_time": "2024-06-19T09:00:06.457Z"
   },
   {
    "duration": 82,
    "start_time": "2024-06-19T09:00:06.481Z"
   },
   {
    "duration": 10,
    "start_time": "2024-06-19T09:00:06.564Z"
   },
   {
    "duration": 8,
    "start_time": "2024-06-19T09:00:06.576Z"
   },
   {
    "duration": 15,
    "start_time": "2024-06-19T09:00:06.587Z"
   },
   {
    "duration": 54,
    "start_time": "2024-06-19T09:00:06.604Z"
   },
   {
    "duration": 66,
    "start_time": "2024-06-19T09:00:06.660Z"
   },
   {
    "duration": 339,
    "start_time": "2024-06-19T09:00:06.730Z"
   },
   {
    "duration": 343,
    "start_time": "2024-06-19T09:00:07.071Z"
   },
   {
    "duration": 260,
    "start_time": "2024-06-19T09:00:07.416Z"
   },
   {
    "duration": 14,
    "start_time": "2024-06-19T09:00:07.677Z"
   },
   {
    "duration": 370,
    "start_time": "2024-06-19T09:00:07.692Z"
   },
   {
    "duration": 27,
    "start_time": "2024-06-19T09:00:08.063Z"
   },
   {
    "duration": 300,
    "start_time": "2024-06-19T09:00:08.093Z"
   },
   {
    "duration": 15,
    "start_time": "2024-06-19T09:00:08.395Z"
   },
   {
    "duration": 421,
    "start_time": "2024-06-19T09:00:08.411Z"
   },
   {
    "duration": 25,
    "start_time": "2024-06-19T09:00:08.834Z"
   },
   {
    "duration": 217,
    "start_time": "2024-06-19T09:00:08.861Z"
   },
   {
    "duration": 5,
    "start_time": "2024-06-19T09:00:09.080Z"
   },
   {
    "duration": 26,
    "start_time": "2024-06-19T09:00:09.086Z"
   },
   {
    "duration": 226,
    "start_time": "2024-06-19T09:00:09.114Z"
   },
   {
    "duration": 17,
    "start_time": "2024-06-19T09:00:09.342Z"
   },
   {
    "duration": 169,
    "start_time": "2024-06-19T09:00:09.361Z"
   },
   {
    "duration": 5,
    "start_time": "2024-06-19T09:00:09.532Z"
   },
   {
    "duration": 40,
    "start_time": "2024-06-19T09:00:09.556Z"
   },
   {
    "duration": 13,
    "start_time": "2024-06-19T09:00:09.598Z"
   },
   {
    "duration": 12,
    "start_time": "2024-06-19T09:00:09.613Z"
   },
   {
    "duration": 10,
    "start_time": "2024-06-19T09:00:09.655Z"
   },
   {
    "duration": 54,
    "start_time": "2024-06-19T09:00:09.667Z"
   },
   {
    "duration": 37,
    "start_time": "2024-06-19T09:00:09.724Z"
   },
   {
    "duration": 1635,
    "start_time": "2024-06-19T11:19:53.742Z"
   },
   {
    "duration": 381,
    "start_time": "2024-06-19T11:19:55.379Z"
   },
   {
    "duration": 4,
    "start_time": "2024-06-19T11:19:55.762Z"
   },
   {
    "duration": 94,
    "start_time": "2024-06-19T11:19:55.768Z"
   },
   {
    "duration": 6,
    "start_time": "2024-06-19T11:19:55.864Z"
   },
   {
    "duration": 10,
    "start_time": "2024-06-19T11:19:55.872Z"
   },
   {
    "duration": 19,
    "start_time": "2024-06-19T11:19:55.883Z"
   },
   {
    "duration": 90,
    "start_time": "2024-06-19T11:19:55.904Z"
   },
   {
    "duration": 7,
    "start_time": "2024-06-19T11:19:55.995Z"
   },
   {
    "duration": 16,
    "start_time": "2024-06-19T11:19:56.005Z"
   },
   {
    "duration": 41,
    "start_time": "2024-06-19T11:19:56.023Z"
   },
   {
    "duration": 12,
    "start_time": "2024-06-19T11:19:56.066Z"
   },
   {
    "duration": 83,
    "start_time": "2024-06-19T11:19:56.079Z"
   },
   {
    "duration": 304,
    "start_time": "2024-06-19T11:19:56.164Z"
   },
   {
    "duration": 316,
    "start_time": "2024-06-19T11:19:56.469Z"
   },
   {
    "duration": 250,
    "start_time": "2024-06-19T11:19:56.787Z"
   },
   {
    "duration": 22,
    "start_time": "2024-06-19T11:19:57.039Z"
   },
   {
    "duration": 373,
    "start_time": "2024-06-19T11:19:57.063Z"
   },
   {
    "duration": 27,
    "start_time": "2024-06-19T11:19:57.438Z"
   },
   {
    "duration": 264,
    "start_time": "2024-06-19T11:19:57.467Z"
   },
   {
    "duration": 13,
    "start_time": "2024-06-19T11:19:57.733Z"
   },
   {
    "duration": 367,
    "start_time": "2024-06-19T11:19:57.748Z"
   },
   {
    "duration": 12,
    "start_time": "2024-06-19T11:19:58.116Z"
   },
   {
    "duration": 199,
    "start_time": "2024-06-19T11:19:58.130Z"
   },
   {
    "duration": 5,
    "start_time": "2024-06-19T11:19:58.331Z"
   },
   {
    "duration": 23,
    "start_time": "2024-06-19T11:19:58.338Z"
   },
   {
    "duration": 178,
    "start_time": "2024-06-19T11:19:58.362Z"
   },
   {
    "duration": 5,
    "start_time": "2024-06-19T11:19:58.543Z"
   },
   {
    "duration": 144,
    "start_time": "2024-06-19T11:19:58.560Z"
   },
   {
    "duration": 5,
    "start_time": "2024-06-19T11:19:58.706Z"
   },
   {
    "duration": 40,
    "start_time": "2024-06-19T11:19:58.713Z"
   },
   {
    "duration": 12,
    "start_time": "2024-06-19T11:19:58.755Z"
   },
   {
    "duration": 22,
    "start_time": "2024-06-19T11:19:58.768Z"
   },
   {
    "duration": 12,
    "start_time": "2024-06-19T11:19:58.792Z"
   },
   {
    "duration": 26,
    "start_time": "2024-06-19T11:19:58.806Z"
   },
   {
    "duration": 12,
    "start_time": "2024-06-19T11:19:58.834Z"
   },
   {
    "duration": 946,
    "start_time": "2024-06-25T10:50:46.622Z"
   },
   {
    "duration": 230,
    "start_time": "2024-06-25T10:50:47.570Z"
   },
   {
    "duration": 3,
    "start_time": "2024-06-25T10:50:47.802Z"
   },
   {
    "duration": 53,
    "start_time": "2024-06-25T10:50:47.807Z"
   },
   {
    "duration": 3,
    "start_time": "2024-06-25T10:50:47.862Z"
   },
   {
    "duration": 18,
    "start_time": "2024-06-25T10:50:47.867Z"
   },
   {
    "duration": 24,
    "start_time": "2024-06-25T10:50:47.887Z"
   },
   {
    "duration": 40,
    "start_time": "2024-06-25T10:50:47.913Z"
   },
   {
    "duration": 6,
    "start_time": "2024-06-25T10:50:47.954Z"
   },
   {
    "duration": 11,
    "start_time": "2024-06-25T10:50:47.961Z"
   },
   {
    "duration": 15,
    "start_time": "2024-06-25T10:50:47.973Z"
   },
   {
    "duration": 12,
    "start_time": "2024-06-25T10:50:47.990Z"
   },
   {
    "duration": 50,
    "start_time": "2024-06-25T10:50:48.003Z"
   },
   {
    "duration": 263,
    "start_time": "2024-06-25T10:50:48.056Z"
   },
   {
    "duration": 267,
    "start_time": "2024-06-25T10:50:48.320Z"
   },
   {
    "duration": 204,
    "start_time": "2024-06-25T10:50:48.588Z"
   },
   {
    "duration": 10,
    "start_time": "2024-06-25T10:50:48.793Z"
   },
   {
    "duration": 287,
    "start_time": "2024-06-25T10:50:48.804Z"
   },
   {
    "duration": 23,
    "start_time": "2024-06-25T10:50:49.093Z"
   },
   {
    "duration": 293,
    "start_time": "2024-06-25T10:50:49.117Z"
   },
   {
    "duration": 11,
    "start_time": "2024-06-25T10:50:49.412Z"
   },
   {
    "duration": 283,
    "start_time": "2024-06-25T10:50:49.424Z"
   },
   {
    "duration": 9,
    "start_time": "2024-06-25T10:50:49.708Z"
   },
   {
    "duration": 168,
    "start_time": "2024-06-25T10:50:49.718Z"
   },
   {
    "duration": 4,
    "start_time": "2024-06-25T10:50:49.887Z"
   },
   {
    "duration": 23,
    "start_time": "2024-06-25T10:50:49.893Z"
   },
   {
    "duration": 153,
    "start_time": "2024-06-25T10:50:49.918Z"
   },
   {
    "duration": 5,
    "start_time": "2024-06-25T10:50:50.072Z"
   },
   {
    "duration": 127,
    "start_time": "2024-06-25T10:50:50.078Z"
   },
   {
    "duration": 4,
    "start_time": "2024-06-25T10:50:50.206Z"
   },
   {
    "duration": 25,
    "start_time": "2024-06-25T10:50:50.211Z"
   },
   {
    "duration": 7,
    "start_time": "2024-06-25T10:50:50.237Z"
   },
   {
    "duration": 14,
    "start_time": "2024-06-25T10:50:50.245Z"
   },
   {
    "duration": 12,
    "start_time": "2024-06-25T10:50:50.260Z"
   },
   {
    "duration": 26,
    "start_time": "2024-06-25T10:50:50.273Z"
   },
   {
    "duration": 9,
    "start_time": "2024-06-25T10:50:50.300Z"
   }
  ],
  "kernelspec": {
   "display_name": "Python 3 (ipykernel)",
   "language": "python",
   "name": "python3"
  },
  "language_info": {
   "codemirror_mode": {
    "name": "ipython",
    "version": 3
   },
   "file_extension": ".py",
   "mimetype": "text/x-python",
   "name": "python",
   "nbconvert_exporter": "python",
   "pygments_lexer": "ipython3",
   "version": "3.9.5"
  },
  "toc": {
   "base_numbering": 1,
   "nav_menu": {},
   "number_sections": true,
   "sideBar": true,
   "skip_h1_title": true,
   "title_cell": "Оглавление",
   "title_sidebar": "Contents",
   "toc_cell": true,
   "toc_position": {
    "height": "calc(100% - 180px)",
    "left": "10px",
    "top": "150px",
    "width": "470px"
   },
   "toc_section_display": true,
   "toc_window_display": false
  }
 },
 "nbformat": 4,
 "nbformat_minor": 2
}
