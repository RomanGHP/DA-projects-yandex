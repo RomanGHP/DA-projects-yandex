{
 "cells": [
  {
   "cell_type": "markdown",
   "metadata": {},
   "source": [
    "<h1>Анализ базы данных книжного сервиса</h1>"
   ]
  },
  {
   "cell_type": "markdown",
   "metadata": {},
   "source": [
    "**Описание проекта:**\n",
    "\n",
    "Коронавирус застал мир врасплох, изменив привычный порядок вещей. На какое-то время жители городов перестали выходить на улицу, посещать кафе и торговые центры. Зато стало больше времени для книг. Это заметили стартаперы — и бросились создавать приложения для тех, кто любит читать. Ваша компания решила быть на волне и купила крупный сервис для чтения книг по подписке. Ваша первая задача как аналитика — проанализировать базу данных.\n",
    "В ней — информация о книгах, издательствах, авторах, а также пользовательские обзоры книг. Эти данные помогут сформулировать ценностное предложение для нового продукта."
   ]
  },
  {
   "cell_type": "markdown",
   "metadata": {},
   "source": [
    "**Задачи проекта:**\n",
    "\n",
    "1. Посчитать, сколько книг вышло после 1 января 2000 года;\n",
    "2. Для каждой книги посчитать количество обзоров и среднюю оценку;\n",
    "3. Определить издательство, которое выпустило наибольшее число книг толще 50 страниц (исключить из анализа брошюры);\n",
    "4. Определить автора с самой высокой средней оценкой книг (только книги с 50 и более оценками);\n",
    "5. Посчитайть среднее количество обзоров от пользователей, которые поставили больше 48 оценок."
   ]
  },
  {
   "cell_type": "markdown",
   "metadata": {},
   "source": [
    "**Описание данных:**\n",
    "\n",
    "Таблица **`books`** содержит данные о книгах:\n",
    "\n",
    "* `book_id` — идентификатор книги;\n",
    "* `author_id` — идентификатор автора;\n",
    "* `title` — название книги;\n",
    "* `num_pages` — количество страниц;\n",
    "* `publication_date` — дата публикации книги;\n",
    "* `publisher_id` — идентификатор издателя.\n",
    "\n",
    "Таблица **`authors`** cодержит данные об авторах\n",
    "\n",
    "* `author_id` — идентификатор автора;\n",
    "* `author` — имя автора.\n",
    "\n",
    "Таблица **`publishers`** cодержит данные об издательствах:\n",
    "\n",
    "* `publisher_id` — идентификатор издательства;\n",
    "* `publisher` — название издательства;\n",
    "\n",
    "Таблица **`ratings`** cодержит данные о пользовательских оценках книг:\n",
    "\n",
    "* `rating_id` — идентификатор оценки;\n",
    "* `book_id` — идентификатор книги;\n",
    "* `username` — имя пользователя, оставившего оценку;\n",
    "* `rating` — оценка книги.\n",
    "\n",
    "Таблица **`reviews`** cодержит данные о пользовательских обзорах:\n",
    "\n",
    "* `review_id` — идентификатор обзора;\n",
    "* `book_id` — идентификатор книги;\n",
    "* `username` — имя автора обзора;\n",
    "* `text` — текст обзора."
   ]
  },
  {
   "cell_type": "markdown",
   "metadata": {},
   "source": [
    "### Подключение к базе данных"
   ]
  },
  {
   "cell_type": "code",
   "execution_count": null,
   "metadata": {},
   "outputs": [],
   "source": [
    "# импортируем библиотеки\n",
    "import pandas as pd\n",
    "from sqlalchemy import text, create_engine\n",
    "from IPython.display import Image, display"
   ]
  },
  {
   "cell_type": "code",
   "execution_count": null,
   "metadata": {},
   "outputs": [],
   "source": [
    "# устанавливаем параметры\n",
    "db_config = {'user': 'praktikum_student', # имя пользователя\n",
    "'pwd': 'Sdf4$2;d-d30pp', # пароль\n",
    "'host': 'rc1b-wcoijxj3yxfsf3fs.mdb.yandexcloud.net',\n",
    "'port': 6432, # порт подключения\n",
    "'db': 'data-analyst-final-project-db'} # название базы данных\n",
    "connection_string = 'postgresql://{user}:{pwd}@{host}:{port}/{db}'.format(**db_config)\n",
    "\n",
    "# сохраняем коннектор\n",
    "engine = create_engine(connection_string, connect_args = {'sslmode':'require'})"
   ]
  },
  {
   "cell_type": "markdown",
   "metadata": {},
   "source": [
    "**Схема данных:**"
   ]
  },
  {
   "cell_type": "code",
   "execution_count": null,
   "metadata": {},
   "outputs": [
    {
     "data": {
      "text/html": [
       "<img src=\"https://pictures.s3.yandex.net/resources/scheme_1589269096.png\"/>"
      ],
      "text/plain": [
       "<IPython.core.display.Image object>"
      ]
     },
     "metadata": {},
     "output_type": "display_data"
    }
   ],
   "source": [
    "display(Image(url = 'https://pictures.s3.yandex.net/resources/scheme_1589269096.png'))    "
   ]
  },
  {
   "cell_type": "markdown",
   "metadata": {},
   "source": [
    "### Исследование данных по таблицам"
   ]
  },
  {
   "cell_type": "code",
   "execution_count": null,
   "metadata": {},
   "outputs": [
    {
     "data": {
      "text/html": [
       "<div>\n",
       "<style scoped>\n",
       "    .dataframe tbody tr th:only-of-type {\n",
       "        vertical-align: middle;\n",
       "    }\n",
       "\n",
       "    .dataframe tbody tr th {\n",
       "        vertical-align: top;\n",
       "    }\n",
       "\n",
       "    .dataframe thead th {\n",
       "        text-align: right;\n",
       "    }\n",
       "</style>\n",
       "<table border=\"1\" class=\"dataframe\">\n",
       "  <thead>\n",
       "    <tr style=\"text-align: right;\">\n",
       "      <th></th>\n",
       "      <th>book_id</th>\n",
       "      <th>author_id</th>\n",
       "      <th>title</th>\n",
       "      <th>num_pages</th>\n",
       "      <th>publication_date</th>\n",
       "      <th>publisher_id</th>\n",
       "    </tr>\n",
       "  </thead>\n",
       "  <tbody>\n",
       "    <tr>\n",
       "      <th>0</th>\n",
       "      <td>1</td>\n",
       "      <td>546</td>\n",
       "      <td>'Salem's Lot</td>\n",
       "      <td>594</td>\n",
       "      <td>2005-11-01</td>\n",
       "      <td>93</td>\n",
       "    </tr>\n",
       "    <tr>\n",
       "      <th>1</th>\n",
       "      <td>2</td>\n",
       "      <td>465</td>\n",
       "      <td>1 000 Places to See Before You Die</td>\n",
       "      <td>992</td>\n",
       "      <td>2003-05-22</td>\n",
       "      <td>336</td>\n",
       "    </tr>\n",
       "    <tr>\n",
       "      <th>2</th>\n",
       "      <td>3</td>\n",
       "      <td>407</td>\n",
       "      <td>13 Little Blue Envelopes (Little Blue Envelope...</td>\n",
       "      <td>322</td>\n",
       "      <td>2010-12-21</td>\n",
       "      <td>135</td>\n",
       "    </tr>\n",
       "    <tr>\n",
       "      <th>3</th>\n",
       "      <td>4</td>\n",
       "      <td>82</td>\n",
       "      <td>1491: New Revelations of the Americas Before C...</td>\n",
       "      <td>541</td>\n",
       "      <td>2006-10-10</td>\n",
       "      <td>309</td>\n",
       "    </tr>\n",
       "    <tr>\n",
       "      <th>4</th>\n",
       "      <td>5</td>\n",
       "      <td>125</td>\n",
       "      <td>1776</td>\n",
       "      <td>386</td>\n",
       "      <td>2006-07-04</td>\n",
       "      <td>268</td>\n",
       "    </tr>\n",
       "    <tr>\n",
       "      <th>5</th>\n",
       "      <td>6</td>\n",
       "      <td>257</td>\n",
       "      <td>1st to Die (Women's Murder Club  #1)</td>\n",
       "      <td>424</td>\n",
       "      <td>2005-05-20</td>\n",
       "      <td>116</td>\n",
       "    </tr>\n",
       "    <tr>\n",
       "      <th>6</th>\n",
       "      <td>7</td>\n",
       "      <td>258</td>\n",
       "      <td>2nd Chance (Women's Murder Club  #2)</td>\n",
       "      <td>400</td>\n",
       "      <td>2005-05-20</td>\n",
       "      <td>116</td>\n",
       "    </tr>\n",
       "    <tr>\n",
       "      <th>7</th>\n",
       "      <td>8</td>\n",
       "      <td>260</td>\n",
       "      <td>4th of July (Women's Murder Club  #4)</td>\n",
       "      <td>448</td>\n",
       "      <td>2006-06-01</td>\n",
       "      <td>318</td>\n",
       "    </tr>\n",
       "    <tr>\n",
       "      <th>8</th>\n",
       "      <td>9</td>\n",
       "      <td>563</td>\n",
       "      <td>A Beautiful Mind</td>\n",
       "      <td>461</td>\n",
       "      <td>2002-02-04</td>\n",
       "      <td>104</td>\n",
       "    </tr>\n",
       "    <tr>\n",
       "      <th>9</th>\n",
       "      <td>10</td>\n",
       "      <td>445</td>\n",
       "      <td>A Bend in the Road</td>\n",
       "      <td>341</td>\n",
       "      <td>2005-04-01</td>\n",
       "      <td>116</td>\n",
       "    </tr>\n",
       "  </tbody>\n",
       "</table>\n",
       "</div>"
      ],
      "text/plain": [
       "   book_id  author_id                                              title  \\\n",
       "0        1        546                                       'Salem's Lot   \n",
       "1        2        465                 1 000 Places to See Before You Die   \n",
       "2        3        407  13 Little Blue Envelopes (Little Blue Envelope...   \n",
       "3        4         82  1491: New Revelations of the Americas Before C...   \n",
       "4        5        125                                               1776   \n",
       "5        6        257               1st to Die (Women's Murder Club  #1)   \n",
       "6        7        258               2nd Chance (Women's Murder Club  #2)   \n",
       "7        8        260              4th of July (Women's Murder Club  #4)   \n",
       "8        9        563                                   A Beautiful Mind   \n",
       "9       10        445                                 A Bend in the Road   \n",
       "\n",
       "   num_pages publication_date  publisher_id  \n",
       "0        594       2005-11-01            93  \n",
       "1        992       2003-05-22           336  \n",
       "2        322       2010-12-21           135  \n",
       "3        541       2006-10-10           309  \n",
       "4        386       2006-07-04           268  \n",
       "5        424       2005-05-20           116  \n",
       "6        400       2005-05-20           116  \n",
       "7        448       2006-06-01           318  \n",
       "8        461       2002-02-04           104  \n",
       "9        341       2005-04-01           116  "
      ]
     },
     "execution_count": 4,
     "metadata": {},
     "output_type": "execute_result"
    }
   ],
   "source": [
    "query = '''SELECT * FROM books LIMIT 10'''\n",
    "con = engine.connect()\n",
    "pd.io.sql.read_sql(sql = text(query), con = con)"
   ]
  },
  {
   "cell_type": "code",
   "execution_count": null,
   "metadata": {},
   "outputs": [
    {
     "data": {
      "text/html": [
       "<div>\n",
       "<style scoped>\n",
       "    .dataframe tbody tr th:only-of-type {\n",
       "        vertical-align: middle;\n",
       "    }\n",
       "\n",
       "    .dataframe tbody tr th {\n",
       "        vertical-align: top;\n",
       "    }\n",
       "\n",
       "    .dataframe thead th {\n",
       "        text-align: right;\n",
       "    }\n",
       "</style>\n",
       "<table border=\"1\" class=\"dataframe\">\n",
       "  <thead>\n",
       "    <tr style=\"text-align: right;\">\n",
       "      <th></th>\n",
       "      <th>author_id</th>\n",
       "      <th>author</th>\n",
       "    </tr>\n",
       "  </thead>\n",
       "  <tbody>\n",
       "    <tr>\n",
       "      <th>0</th>\n",
       "      <td>1</td>\n",
       "      <td>A.S. Byatt</td>\n",
       "    </tr>\n",
       "    <tr>\n",
       "      <th>1</th>\n",
       "      <td>2</td>\n",
       "      <td>Aesop/Laura Harris/Laura Gibbs</td>\n",
       "    </tr>\n",
       "    <tr>\n",
       "      <th>2</th>\n",
       "      <td>3</td>\n",
       "      <td>Agatha Christie</td>\n",
       "    </tr>\n",
       "    <tr>\n",
       "      <th>3</th>\n",
       "      <td>4</td>\n",
       "      <td>Alan Brennert</td>\n",
       "    </tr>\n",
       "    <tr>\n",
       "      <th>4</th>\n",
       "      <td>5</td>\n",
       "      <td>Alan Moore/David   Lloyd</td>\n",
       "    </tr>\n",
       "    <tr>\n",
       "      <th>5</th>\n",
       "      <td>6</td>\n",
       "      <td>Alan Paton</td>\n",
       "    </tr>\n",
       "    <tr>\n",
       "      <th>6</th>\n",
       "      <td>7</td>\n",
       "      <td>Albert Camus/Justin O'Brien</td>\n",
       "    </tr>\n",
       "    <tr>\n",
       "      <th>7</th>\n",
       "      <td>8</td>\n",
       "      <td>Aldous Huxley</td>\n",
       "    </tr>\n",
       "    <tr>\n",
       "      <th>8</th>\n",
       "      <td>9</td>\n",
       "      <td>Aldous Huxley/Christopher Hitchens</td>\n",
       "    </tr>\n",
       "    <tr>\n",
       "      <th>9</th>\n",
       "      <td>10</td>\n",
       "      <td>Aleksandr Solzhenitsyn/H.T. Willetts</td>\n",
       "    </tr>\n",
       "  </tbody>\n",
       "</table>\n",
       "</div>"
      ],
      "text/plain": [
       "   author_id                                author\n",
       "0          1                            A.S. Byatt\n",
       "1          2        Aesop/Laura Harris/Laura Gibbs\n",
       "2          3                       Agatha Christie\n",
       "3          4                         Alan Brennert\n",
       "4          5              Alan Moore/David   Lloyd\n",
       "5          6                            Alan Paton\n",
       "6          7           Albert Camus/Justin O'Brien\n",
       "7          8                         Aldous Huxley\n",
       "8          9    Aldous Huxley/Christopher Hitchens\n",
       "9         10  Aleksandr Solzhenitsyn/H.T. Willetts"
      ]
     },
     "execution_count": 5,
     "metadata": {},
     "output_type": "execute_result"
    }
   ],
   "source": [
    "query = '''SELECT * FROM authors LIMIT 10'''\n",
    "con = engine.connect()\n",
    "pd.io.sql.read_sql(sql = text(query), con = con)"
   ]
  },
  {
   "cell_type": "code",
   "execution_count": null,
   "metadata": {},
   "outputs": [
    {
     "data": {
      "text/html": [
       "<div>\n",
       "<style scoped>\n",
       "    .dataframe tbody tr th:only-of-type {\n",
       "        vertical-align: middle;\n",
       "    }\n",
       "\n",
       "    .dataframe tbody tr th {\n",
       "        vertical-align: top;\n",
       "    }\n",
       "\n",
       "    .dataframe thead th {\n",
       "        text-align: right;\n",
       "    }\n",
       "</style>\n",
       "<table border=\"1\" class=\"dataframe\">\n",
       "  <thead>\n",
       "    <tr style=\"text-align: right;\">\n",
       "      <th></th>\n",
       "      <th>publisher_id</th>\n",
       "      <th>publisher</th>\n",
       "    </tr>\n",
       "  </thead>\n",
       "  <tbody>\n",
       "    <tr>\n",
       "      <th>0</th>\n",
       "      <td>1</td>\n",
       "      <td>Ace</td>\n",
       "    </tr>\n",
       "    <tr>\n",
       "      <th>1</th>\n",
       "      <td>2</td>\n",
       "      <td>Ace Book</td>\n",
       "    </tr>\n",
       "    <tr>\n",
       "      <th>2</th>\n",
       "      <td>3</td>\n",
       "      <td>Ace Books</td>\n",
       "    </tr>\n",
       "    <tr>\n",
       "      <th>3</th>\n",
       "      <td>4</td>\n",
       "      <td>Ace Hardcover</td>\n",
       "    </tr>\n",
       "    <tr>\n",
       "      <th>4</th>\n",
       "      <td>5</td>\n",
       "      <td>Addison Wesley Publishing Company</td>\n",
       "    </tr>\n",
       "    <tr>\n",
       "      <th>5</th>\n",
       "      <td>6</td>\n",
       "      <td>Aladdin</td>\n",
       "    </tr>\n",
       "    <tr>\n",
       "      <th>6</th>\n",
       "      <td>7</td>\n",
       "      <td>Aladdin Paperbacks</td>\n",
       "    </tr>\n",
       "    <tr>\n",
       "      <th>7</th>\n",
       "      <td>8</td>\n",
       "      <td>Albin Michel</td>\n",
       "    </tr>\n",
       "    <tr>\n",
       "      <th>8</th>\n",
       "      <td>9</td>\n",
       "      <td>Alfred A. Knopf</td>\n",
       "    </tr>\n",
       "    <tr>\n",
       "      <th>9</th>\n",
       "      <td>10</td>\n",
       "      <td>Alfred A. Knopf Books for Young Readers</td>\n",
       "    </tr>\n",
       "  </tbody>\n",
       "</table>\n",
       "</div>"
      ],
      "text/plain": [
       "   publisher_id                                publisher\n",
       "0             1                                      Ace\n",
       "1             2                                 Ace Book\n",
       "2             3                                Ace Books\n",
       "3             4                            Ace Hardcover\n",
       "4             5        Addison Wesley Publishing Company\n",
       "5             6                                  Aladdin\n",
       "6             7                       Aladdin Paperbacks\n",
       "7             8                             Albin Michel\n",
       "8             9                          Alfred A. Knopf\n",
       "9            10  Alfred A. Knopf Books for Young Readers"
      ]
     },
     "execution_count": 6,
     "metadata": {},
     "output_type": "execute_result"
    }
   ],
   "source": [
    "query = '''SELECT * FROM publishers LIMIT 10'''\n",
    "con = engine.connect()\n",
    "pd.io.sql.read_sql(sql = text(query), con = con)"
   ]
  },
  {
   "cell_type": "code",
   "execution_count": null,
   "metadata": {},
   "outputs": [
    {
     "data": {
      "text/html": [
       "<div>\n",
       "<style scoped>\n",
       "    .dataframe tbody tr th:only-of-type {\n",
       "        vertical-align: middle;\n",
       "    }\n",
       "\n",
       "    .dataframe tbody tr th {\n",
       "        vertical-align: top;\n",
       "    }\n",
       "\n",
       "    .dataframe thead th {\n",
       "        text-align: right;\n",
       "    }\n",
       "</style>\n",
       "<table border=\"1\" class=\"dataframe\">\n",
       "  <thead>\n",
       "    <tr style=\"text-align: right;\">\n",
       "      <th></th>\n",
       "      <th>rating_id</th>\n",
       "      <th>book_id</th>\n",
       "      <th>username</th>\n",
       "      <th>rating</th>\n",
       "    </tr>\n",
       "  </thead>\n",
       "  <tbody>\n",
       "    <tr>\n",
       "      <th>0</th>\n",
       "      <td>1</td>\n",
       "      <td>1</td>\n",
       "      <td>ryanfranco</td>\n",
       "      <td>4</td>\n",
       "    </tr>\n",
       "    <tr>\n",
       "      <th>1</th>\n",
       "      <td>2</td>\n",
       "      <td>1</td>\n",
       "      <td>grantpatricia</td>\n",
       "      <td>2</td>\n",
       "    </tr>\n",
       "    <tr>\n",
       "      <th>2</th>\n",
       "      <td>3</td>\n",
       "      <td>1</td>\n",
       "      <td>brandtandrea</td>\n",
       "      <td>5</td>\n",
       "    </tr>\n",
       "    <tr>\n",
       "      <th>3</th>\n",
       "      <td>4</td>\n",
       "      <td>2</td>\n",
       "      <td>lorichen</td>\n",
       "      <td>3</td>\n",
       "    </tr>\n",
       "    <tr>\n",
       "      <th>4</th>\n",
       "      <td>5</td>\n",
       "      <td>2</td>\n",
       "      <td>mariokeller</td>\n",
       "      <td>2</td>\n",
       "    </tr>\n",
       "    <tr>\n",
       "      <th>5</th>\n",
       "      <td>6</td>\n",
       "      <td>3</td>\n",
       "      <td>johnsonamanda</td>\n",
       "      <td>4</td>\n",
       "    </tr>\n",
       "    <tr>\n",
       "      <th>6</th>\n",
       "      <td>7</td>\n",
       "      <td>3</td>\n",
       "      <td>scotttamara</td>\n",
       "      <td>5</td>\n",
       "    </tr>\n",
       "    <tr>\n",
       "      <th>7</th>\n",
       "      <td>8</td>\n",
       "      <td>3</td>\n",
       "      <td>lesliegibbs</td>\n",
       "      <td>5</td>\n",
       "    </tr>\n",
       "    <tr>\n",
       "      <th>8</th>\n",
       "      <td>9</td>\n",
       "      <td>4</td>\n",
       "      <td>abbottjames</td>\n",
       "      <td>5</td>\n",
       "    </tr>\n",
       "    <tr>\n",
       "      <th>9</th>\n",
       "      <td>10</td>\n",
       "      <td>4</td>\n",
       "      <td>valenciaanne</td>\n",
       "      <td>4</td>\n",
       "    </tr>\n",
       "  </tbody>\n",
       "</table>\n",
       "</div>"
      ],
      "text/plain": [
       "   rating_id  book_id       username  rating\n",
       "0          1        1     ryanfranco       4\n",
       "1          2        1  grantpatricia       2\n",
       "2          3        1   brandtandrea       5\n",
       "3          4        2       lorichen       3\n",
       "4          5        2    mariokeller       2\n",
       "5          6        3  johnsonamanda       4\n",
       "6          7        3    scotttamara       5\n",
       "7          8        3    lesliegibbs       5\n",
       "8          9        4    abbottjames       5\n",
       "9         10        4   valenciaanne       4"
      ]
     },
     "execution_count": 7,
     "metadata": {},
     "output_type": "execute_result"
    }
   ],
   "source": [
    "query = '''SELECT * FROM ratings LIMIT 10'''\n",
    "con = engine.connect()\n",
    "pd.io.sql.read_sql(sql = text(query), con = con)"
   ]
  },
  {
   "cell_type": "code",
   "execution_count": null,
   "metadata": {},
   "outputs": [
    {
     "data": {
      "text/html": [
       "<div>\n",
       "<style scoped>\n",
       "    .dataframe tbody tr th:only-of-type {\n",
       "        vertical-align: middle;\n",
       "    }\n",
       "\n",
       "    .dataframe tbody tr th {\n",
       "        vertical-align: top;\n",
       "    }\n",
       "\n",
       "    .dataframe thead th {\n",
       "        text-align: right;\n",
       "    }\n",
       "</style>\n",
       "<table border=\"1\" class=\"dataframe\">\n",
       "  <thead>\n",
       "    <tr style=\"text-align: right;\">\n",
       "      <th></th>\n",
       "      <th>review_id</th>\n",
       "      <th>book_id</th>\n",
       "      <th>username</th>\n",
       "      <th>text</th>\n",
       "    </tr>\n",
       "  </thead>\n",
       "  <tbody>\n",
       "    <tr>\n",
       "      <th>0</th>\n",
       "      <td>1</td>\n",
       "      <td>1</td>\n",
       "      <td>brandtandrea</td>\n",
       "      <td>Mention society tell send professor analysis. ...</td>\n",
       "    </tr>\n",
       "    <tr>\n",
       "      <th>1</th>\n",
       "      <td>2</td>\n",
       "      <td>1</td>\n",
       "      <td>ryanfranco</td>\n",
       "      <td>Foot glass pretty audience hit themselves. Amo...</td>\n",
       "    </tr>\n",
       "    <tr>\n",
       "      <th>2</th>\n",
       "      <td>3</td>\n",
       "      <td>2</td>\n",
       "      <td>lorichen</td>\n",
       "      <td>Listen treat keep worry. Miss husband tax but ...</td>\n",
       "    </tr>\n",
       "    <tr>\n",
       "      <th>3</th>\n",
       "      <td>4</td>\n",
       "      <td>3</td>\n",
       "      <td>johnsonamanda</td>\n",
       "      <td>Finally month interesting blue could nature cu...</td>\n",
       "    </tr>\n",
       "    <tr>\n",
       "      <th>4</th>\n",
       "      <td>5</td>\n",
       "      <td>3</td>\n",
       "      <td>scotttamara</td>\n",
       "      <td>Nation purpose heavy give wait song will. List...</td>\n",
       "    </tr>\n",
       "    <tr>\n",
       "      <th>5</th>\n",
       "      <td>6</td>\n",
       "      <td>3</td>\n",
       "      <td>lesliegibbs</td>\n",
       "      <td>Analysis no several cause international.</td>\n",
       "    </tr>\n",
       "    <tr>\n",
       "      <th>6</th>\n",
       "      <td>7</td>\n",
       "      <td>4</td>\n",
       "      <td>valenciaanne</td>\n",
       "      <td>One there cost another. Say type save. With pe...</td>\n",
       "    </tr>\n",
       "    <tr>\n",
       "      <th>7</th>\n",
       "      <td>8</td>\n",
       "      <td>4</td>\n",
       "      <td>abbottjames</td>\n",
       "      <td>Within enough mother. There at system full rec...</td>\n",
       "    </tr>\n",
       "    <tr>\n",
       "      <th>8</th>\n",
       "      <td>9</td>\n",
       "      <td>5</td>\n",
       "      <td>npowers</td>\n",
       "      <td>Thank now focus realize economy focus fly. Ite...</td>\n",
       "    </tr>\n",
       "    <tr>\n",
       "      <th>9</th>\n",
       "      <td>10</td>\n",
       "      <td>5</td>\n",
       "      <td>staylor</td>\n",
       "      <td>Game push lot reduce where remember. Including...</td>\n",
       "    </tr>\n",
       "  </tbody>\n",
       "</table>\n",
       "</div>"
      ],
      "text/plain": [
       "   review_id  book_id       username  \\\n",
       "0          1        1   brandtandrea   \n",
       "1          2        1     ryanfranco   \n",
       "2          3        2       lorichen   \n",
       "3          4        3  johnsonamanda   \n",
       "4          5        3    scotttamara   \n",
       "5          6        3    lesliegibbs   \n",
       "6          7        4   valenciaanne   \n",
       "7          8        4    abbottjames   \n",
       "8          9        5        npowers   \n",
       "9         10        5        staylor   \n",
       "\n",
       "                                                text  \n",
       "0  Mention society tell send professor analysis. ...  \n",
       "1  Foot glass pretty audience hit themselves. Amo...  \n",
       "2  Listen treat keep worry. Miss husband tax but ...  \n",
       "3  Finally month interesting blue could nature cu...  \n",
       "4  Nation purpose heavy give wait song will. List...  \n",
       "5           Analysis no several cause international.  \n",
       "6  One there cost another. Say type save. With pe...  \n",
       "7  Within enough mother. There at system full rec...  \n",
       "8  Thank now focus realize economy focus fly. Ite...  \n",
       "9  Game push lot reduce where remember. Including...  "
      ]
     },
     "execution_count": 8,
     "metadata": {},
     "output_type": "execute_result"
    }
   ],
   "source": [
    "query = '''SELECT * FROM reviews LIMIT 10'''\n",
    "con = engine.connect()\n",
    "pd.io.sql.read_sql(sql = text(query), con = con)"
   ]
  },
  {
   "cell_type": "markdown",
   "metadata": {},
   "source": [
    "### Подсчет количества книг вышедших после 1 января 2000 года"
   ]
  },
  {
   "cell_type": "code",
   "execution_count": null,
   "metadata": {},
   "outputs": [
    {
     "data": {
      "text/html": [
       "<div>\n",
       "<style scoped>\n",
       "    .dataframe tbody tr th:only-of-type {\n",
       "        vertical-align: middle;\n",
       "    }\n",
       "\n",
       "    .dataframe tbody tr th {\n",
       "        vertical-align: top;\n",
       "    }\n",
       "\n",
       "    .dataframe thead th {\n",
       "        text-align: right;\n",
       "    }\n",
       "</style>\n",
       "<table border=\"1\" class=\"dataframe\">\n",
       "  <thead>\n",
       "    <tr style=\"text-align: right;\">\n",
       "      <th></th>\n",
       "      <th>count</th>\n",
       "    </tr>\n",
       "  </thead>\n",
       "  <tbody>\n",
       "    <tr>\n",
       "      <th>0</th>\n",
       "      <td>819</td>\n",
       "    </tr>\n",
       "  </tbody>\n",
       "</table>\n",
       "</div>"
      ],
      "text/plain": [
       "   count\n",
       "0    819"
      ]
     },
     "execution_count": 9,
     "metadata": {},
     "output_type": "execute_result"
    }
   ],
   "source": [
    "query = '''SELECT COUNT(book_id)\n",
    "           FROM books\n",
    "           WHERE publication_date > CAST('2000-01-01' as date)'''\n",
    "con = engine.connect()\n",
    "pd.io.sql.read_sql(sql = text(query), con = con)"
   ]
  },
  {
   "cell_type": "markdown",
   "metadata": {},
   "source": [
    "* Количество книг вышедших после 1 января 2000 года - **819**"
   ]
  },
  {
   "cell_type": "markdown",
   "metadata": {},
   "source": [
    "### Расчет количества обзоров и средней оценки для каждой книги"
   ]
  },
  {
   "cell_type": "code",
   "execution_count": null,
   "metadata": {},
   "outputs": [
    {
     "data": {
      "text/html": [
       "<div>\n",
       "<style scoped>\n",
       "    .dataframe tbody tr th:only-of-type {\n",
       "        vertical-align: middle;\n",
       "    }\n",
       "\n",
       "    .dataframe tbody tr th {\n",
       "        vertical-align: top;\n",
       "    }\n",
       "\n",
       "    .dataframe thead th {\n",
       "        text-align: right;\n",
       "    }\n",
       "</style>\n",
       "<table border=\"1\" class=\"dataframe\">\n",
       "  <thead>\n",
       "    <tr style=\"text-align: right;\">\n",
       "      <th></th>\n",
       "      <th>title</th>\n",
       "      <th>review_count</th>\n",
       "      <th>average_rating</th>\n",
       "    </tr>\n",
       "  </thead>\n",
       "  <tbody>\n",
       "    <tr>\n",
       "      <th>0</th>\n",
       "      <td>Anne Rice's The Vampire Lestat: A Graphic Novel</td>\n",
       "      <td>0</td>\n",
       "      <td>3.666667</td>\n",
       "    </tr>\n",
       "    <tr>\n",
       "      <th>1</th>\n",
       "      <td>The Cat in the Hat and Other Dr. Seuss Favorites</td>\n",
       "      <td>0</td>\n",
       "      <td>5.000000</td>\n",
       "    </tr>\n",
       "    <tr>\n",
       "      <th>2</th>\n",
       "      <td>Essential Tales and Poems</td>\n",
       "      <td>0</td>\n",
       "      <td>4.000000</td>\n",
       "    </tr>\n",
       "    <tr>\n",
       "      <th>3</th>\n",
       "      <td>The Natural Way to Draw</td>\n",
       "      <td>0</td>\n",
       "      <td>3.000000</td>\n",
       "    </tr>\n",
       "    <tr>\n",
       "      <th>4</th>\n",
       "      <td>Disney's Beauty and the Beast (A Little Golden...</td>\n",
       "      <td>0</td>\n",
       "      <td>4.000000</td>\n",
       "    </tr>\n",
       "    <tr>\n",
       "      <th>...</th>\n",
       "      <td>...</td>\n",
       "      <td>...</td>\n",
       "      <td>...</td>\n",
       "    </tr>\n",
       "    <tr>\n",
       "      <th>995</th>\n",
       "      <td>The Giver (The Giver  #1)</td>\n",
       "      <td>6</td>\n",
       "      <td>3.750000</td>\n",
       "    </tr>\n",
       "    <tr>\n",
       "      <th>996</th>\n",
       "      <td>The Road</td>\n",
       "      <td>6</td>\n",
       "      <td>3.772727</td>\n",
       "    </tr>\n",
       "    <tr>\n",
       "      <th>997</th>\n",
       "      <td>The Curious Incident of the Dog in the Night-Time</td>\n",
       "      <td>6</td>\n",
       "      <td>4.081081</td>\n",
       "    </tr>\n",
       "    <tr>\n",
       "      <th>998</th>\n",
       "      <td>The Da Vinci Code (Robert Langdon  #2)</td>\n",
       "      <td>6</td>\n",
       "      <td>3.830508</td>\n",
       "    </tr>\n",
       "    <tr>\n",
       "      <th>999</th>\n",
       "      <td>Twilight (Twilight  #1)</td>\n",
       "      <td>7</td>\n",
       "      <td>3.662500</td>\n",
       "    </tr>\n",
       "  </tbody>\n",
       "</table>\n",
       "<p>1000 rows × 3 columns</p>\n",
       "</div>"
      ],
      "text/plain": [
       "                                                 title  review_count  \\\n",
       "0      Anne Rice's The Vampire Lestat: A Graphic Novel             0   \n",
       "1     The Cat in the Hat and Other Dr. Seuss Favorites             0   \n",
       "2                            Essential Tales and Poems             0   \n",
       "3                              The Natural Way to Draw             0   \n",
       "4    Disney's Beauty and the Beast (A Little Golden...             0   \n",
       "..                                                 ...           ...   \n",
       "995                          The Giver (The Giver  #1)             6   \n",
       "996                                           The Road             6   \n",
       "997  The Curious Incident of the Dog in the Night-Time             6   \n",
       "998             The Da Vinci Code (Robert Langdon  #2)             6   \n",
       "999                            Twilight (Twilight  #1)             7   \n",
       "\n",
       "     average_rating  \n",
       "0          3.666667  \n",
       "1          5.000000  \n",
       "2          4.000000  \n",
       "3          3.000000  \n",
       "4          4.000000  \n",
       "..              ...  \n",
       "995        3.750000  \n",
       "996        3.772727  \n",
       "997        4.081081  \n",
       "998        3.830508  \n",
       "999        3.662500  \n",
       "\n",
       "[1000 rows x 3 columns]"
      ]
     },
     "execution_count": 10,
     "metadata": {},
     "output_type": "execute_result"
    }
   ],
   "source": [
    "query = '''WITH br AS (\n",
    "SELECT b.book_id,\n",
    "       b.title,\n",
    "       COUNT(DISTINCT rw.review_id) AS review_count,\n",
    "       AVG(rt.rating) AS average_rating\n",
    "FROM books b\n",
    "LEFT JOIN reviews rw ON b.book_id = rw.book_id\n",
    "LEFT JOIN ratings rt ON b.book_id = rt.book_id\n",
    "GROUP BY b.book_id, b.title\n",
    ")\n",
    "SELECT br.title, \n",
    "       br.review_count, \n",
    "       br.average_rating\n",
    "FROM br\n",
    "ORDER BY br.review_count'''\n",
    "con = engine.connect()\n",
    "pd.io.sql.read_sql(sql = text(query), con = con)"
   ]
  },
  {
   "cell_type": "markdown",
   "metadata": {},
   "source": [
    "* Для каждой книги посчитано количество обзоров и средний рейтинг. Больше всего обзоров на книгу - Twilight (Twilight #1).\t"
   ]
  },
  {
   "cell_type": "markdown",
   "metadata": {},
   "source": [
    "### Опредение издательства, с наибольшим числом книг толще 50 страниц"
   ]
  },
  {
   "cell_type": "code",
   "execution_count": null,
   "metadata": {},
   "outputs": [
    {
     "data": {
      "text/html": [
       "<div>\n",
       "<style scoped>\n",
       "    .dataframe tbody tr th:only-of-type {\n",
       "        vertical-align: middle;\n",
       "    }\n",
       "\n",
       "    .dataframe tbody tr th {\n",
       "        vertical-align: top;\n",
       "    }\n",
       "\n",
       "    .dataframe thead th {\n",
       "        text-align: right;\n",
       "    }\n",
       "</style>\n",
       "<table border=\"1\" class=\"dataframe\">\n",
       "  <thead>\n",
       "    <tr style=\"text-align: right;\">\n",
       "      <th></th>\n",
       "      <th>publisher</th>\n",
       "      <th>book_count</th>\n",
       "    </tr>\n",
       "  </thead>\n",
       "  <tbody>\n",
       "    <tr>\n",
       "      <th>0</th>\n",
       "      <td>Penguin Books</td>\n",
       "      <td>42</td>\n",
       "    </tr>\n",
       "  </tbody>\n",
       "</table>\n",
       "</div>"
      ],
      "text/plain": [
       "       publisher  book_count\n",
       "0  Penguin Books          42"
      ]
     },
     "execution_count": 11,
     "metadata": {},
     "output_type": "execute_result"
    }
   ],
   "source": [
    "query = '''\n",
    "SELECT p.publisher,\n",
    "       COUNT(b.book_id) AS book_count\n",
    "FROM books b\n",
    "JOIN publishers p ON b.publisher_id = p.publisher_id\n",
    "WHERE b.num_pages > 50\n",
    "GROUP BY p.publisher\n",
    "ORDER BY book_count DESC\n",
    "LIMIT 1'''\n",
    "con = engine.connect()\n",
    "pd.io.sql.read_sql(sql = text(query), con = con)"
   ]
  },
  {
   "cell_type": "markdown",
   "metadata": {},
   "source": [
    "* Издательство **Penguin Books** выпустило наибольшее число книг толщиной больше 50 страниц - **42** книги."
   ]
  },
  {
   "cell_type": "markdown",
   "metadata": {},
   "source": [
    "### Определение автора, с самой высокой средней оценкой книг (только книги с 50 и более оценками)"
   ]
  },
  {
   "cell_type": "code",
   "execution_count": null,
   "metadata": {},
   "outputs": [
    {
     "data": {
      "text/html": [
       "<div>\n",
       "<style scoped>\n",
       "    .dataframe tbody tr th:only-of-type {\n",
       "        vertical-align: middle;\n",
       "    }\n",
       "\n",
       "    .dataframe tbody tr th {\n",
       "        vertical-align: top;\n",
       "    }\n",
       "\n",
       "    .dataframe thead th {\n",
       "        text-align: right;\n",
       "    }\n",
       "</style>\n",
       "<table border=\"1\" class=\"dataframe\">\n",
       "  <thead>\n",
       "    <tr style=\"text-align: right;\">\n",
       "      <th></th>\n",
       "      <th>author</th>\n",
       "      <th>average_rating</th>\n",
       "    </tr>\n",
       "  </thead>\n",
       "  <tbody>\n",
       "    <tr>\n",
       "      <th>0</th>\n",
       "      <td>J.K. Rowling/Mary GrandPré</td>\n",
       "      <td>4.287097</td>\n",
       "    </tr>\n",
       "  </tbody>\n",
       "</table>\n",
       "</div>"
      ],
      "text/plain": [
       "                       author  average_rating\n",
       "0  J.K. Rowling/Mary GrandPré        4.287097"
      ]
     },
     "execution_count": 12,
     "metadata": {},
     "output_type": "execute_result"
    }
   ],
   "source": [
    "query = '''WITH ar AS ( \n",
    "SELECT book_id,\n",
    "       COUNT(rating_id) \n",
    "FROM ratings\n",
    "GROUP BY book_id\n",
    "HAVING COUNT(rating_id) >= 50\n",
    ")\n",
    "SELECT author,\n",
    "       AVG(rating) AS average_rating\n",
    "FROM books b\n",
    "JOIN ratings r ON b.book_id = r.book_id \n",
    "JOIN authors a ON b.author_id = a.author_id\n",
    "WHERE b.book_id IN (SELECT book_id FROM ar)\n",
    "GROUP BY a.author\n",
    "ORDER BY average_rating DESC\n",
    "LIMIT 1'''\n",
    "con = engine.connect()\n",
    "pd.io.sql.read_sql(sql = text(query), con = con)\n"
   ]
  },
  {
   "cell_type": "markdown",
   "metadata": {},
   "source": [
    "* Автор c самой высокой средней оценкой книг - **J.K. Rowling/Mary GrandPré**, средняя оценка книг автора - **4.28** балла."
   ]
  },
  {
   "cell_type": "markdown",
   "metadata": {},
   "source": [
    "### Подсчет среднего количества обзоров от пользователей, которые поставили больше 48 оценок"
   ]
  },
  {
   "cell_type": "code",
   "execution_count": null,
   "metadata": {},
   "outputs": [
    {
     "data": {
      "text/html": [
       "<div>\n",
       "<style scoped>\n",
       "    .dataframe tbody tr th:only-of-type {\n",
       "        vertical-align: middle;\n",
       "    }\n",
       "\n",
       "    .dataframe tbody tr th {\n",
       "        vertical-align: top;\n",
       "    }\n",
       "\n",
       "    .dataframe thead th {\n",
       "        text-align: right;\n",
       "    }\n",
       "</style>\n",
       "<table border=\"1\" class=\"dataframe\">\n",
       "  <thead>\n",
       "    <tr style=\"text-align: right;\">\n",
       "      <th></th>\n",
       "      <th>avg_rw_per_user</th>\n",
       "    </tr>\n",
       "  </thead>\n",
       "  <tbody>\n",
       "    <tr>\n",
       "      <th>0</th>\n",
       "      <td>24.0</td>\n",
       "    </tr>\n",
       "  </tbody>\n",
       "</table>\n",
       "</div>"
      ],
      "text/plain": [
       "   avg_rw_per_user\n",
       "0             24.0"
      ]
     },
     "execution_count": 13,
     "metadata": {},
     "output_type": "execute_result"
    }
   ],
   "source": [
    "query = '''WITH users_48 AS (\n",
    "SELECT username\n",
    "FROM ratings\n",
    "GROUP BY username\n",
    "HAVING COUNT(rating_id) > 48\n",
    ")\n",
    "SELECT AVG(rw_count) AS avg_rw_per_user\n",
    "FROM (SELECT COUNT(review_id) AS rw_count\n",
    "      FROM reviews\n",
    "      WHERE username IN (SELECT username FROM users_48)\n",
    "      GROUP BY username\n",
    ") AS user_rw'''\n",
    "con = engine.connect()\n",
    "pd.io.sql.read_sql(sql = text(query), con = con)"
   ]
  },
  {
   "cell_type": "markdown",
   "metadata": {},
   "source": [
    "* Cреднее количество обзоров от пользователей, которые поставили больше 48 оценок - **24** обзора."
   ]
  },
  {
   "cell_type": "markdown",
   "metadata": {},
   "source": [
    "### Результаты анализа базы данных книжного сервиса:"
   ]
  },
  {
   "cell_type": "markdown",
   "metadata": {},
   "source": [
    "1. Количество книг вышедших после 1 января 2000 года - **819**.\n",
    "2. Для каждой книги посчитано количество обзоров и средний рейтинг. Больше всего обзоров на книгу - Twilight (Twilight #1).\n",
    "3. Издательство **Penguin Books** выпустило наибольшее число книг толщиной больше 50 страниц - **42 книги**.\n",
    "4. Автор c самой высокой средней оценкой книг - **J.K. Rowling/Mary GrandPré**, средняя оценка книг автора - **4.28 балла**.\n",
    "5. Cреднее количество обзоров от пользователей, которые поставили больше 48 оценок - **24 обзора**."
   ]
  }
 ],
 "metadata": {
  "ExecuteTimeLog": [
   {
    "duration": 8169,
    "start_time": "2024-08-15T19:18:21.872Z"
   },
   {
    "duration": 496,
    "start_time": "2024-08-15T19:19:18.587Z"
   },
   {
    "duration": 7076,
    "start_time": "2024-08-15T19:19:19.085Z"
   },
   {
    "duration": 226,
    "start_time": "2024-08-15T19:19:26.163Z"
   },
   {
    "duration": 169,
    "start_time": "2024-08-15T19:43:05.348Z"
   },
   {
    "duration": 74,
    "start_time": "2024-08-15T19:43:20.328Z"
   },
   {
    "duration": 80,
    "start_time": "2024-08-15T19:43:23.680Z"
   },
   {
    "duration": 74,
    "start_time": "2024-08-15T19:43:26.386Z"
   },
   {
    "duration": 516,
    "start_time": "2024-08-15T19:44:10.185Z"
   },
   {
    "duration": 7265,
    "start_time": "2024-08-15T19:44:10.703Z"
   },
   {
    "duration": 225,
    "start_time": "2024-08-15T19:44:17.970Z"
   },
   {
    "duration": 151,
    "start_time": "2024-08-15T19:44:18.198Z"
   },
   {
    "duration": 75,
    "start_time": "2024-08-15T19:44:18.350Z"
   },
   {
    "duration": 76,
    "start_time": "2024-08-15T19:44:18.427Z"
   },
   {
    "duration": 76,
    "start_time": "2024-08-15T19:44:18.504Z"
   },
   {
    "duration": 76,
    "start_time": "2024-08-15T19:44:18.582Z"
   },
   {
    "duration": 55,
    "start_time": "2024-08-15T20:07:53.801Z"
   },
   {
    "duration": 495,
    "start_time": "2024-08-16T08:24:37.414Z"
   },
   {
    "duration": 5059,
    "start_time": "2024-08-16T08:24:37.911Z"
   },
   {
    "duration": 54,
    "start_time": "2024-08-16T08:24:42.972Z"
   },
   {
    "duration": 48,
    "start_time": "2024-08-16T08:24:43.027Z"
   },
   {
    "duration": 9,
    "start_time": "2024-08-16T08:24:43.076Z"
   },
   {
    "duration": 10,
    "start_time": "2024-08-16T08:24:43.086Z"
   },
   {
    "duration": 10,
    "start_time": "2024-08-16T08:24:43.098Z"
   },
   {
    "duration": 71,
    "start_time": "2024-08-16T08:29:46.467Z"
   },
   {
    "duration": 63,
    "start_time": "2024-08-16T08:30:44.805Z"
   },
   {
    "duration": 4,
    "start_time": "2024-08-16T08:31:21.939Z"
   },
   {
    "duration": 4,
    "start_time": "2024-08-16T08:31:46.553Z"
   },
   {
    "duration": 3,
    "start_time": "2024-08-16T08:32:04.672Z"
   },
   {
    "duration": 4,
    "start_time": "2024-08-16T08:32:38.338Z"
   },
   {
    "duration": 516,
    "start_time": "2024-08-16T08:33:17.518Z"
   },
   {
    "duration": 4893,
    "start_time": "2024-08-16T08:33:18.035Z"
   },
   {
    "duration": 8,
    "start_time": "2024-08-16T08:33:22.929Z"
   },
   {
    "duration": 61,
    "start_time": "2024-08-16T08:33:22.939Z"
   },
   {
    "duration": 65,
    "start_time": "2024-08-16T08:33:23.001Z"
   },
   {
    "duration": 14,
    "start_time": "2024-08-16T08:33:23.068Z"
   },
   {
    "duration": 10,
    "start_time": "2024-08-16T08:33:23.083Z"
   },
   {
    "duration": 9,
    "start_time": "2024-08-16T08:33:23.094Z"
   },
   {
    "duration": 3,
    "start_time": "2024-08-16T08:41:13.868Z"
   },
   {
    "duration": 11,
    "start_time": "2024-08-16T08:42:06.113Z"
   },
   {
    "duration": 2,
    "start_time": "2024-08-16T08:43:28.564Z"
   },
   {
    "duration": 9,
    "start_time": "2024-08-16T08:45:07.133Z"
   },
   {
    "duration": 12,
    "start_time": "2024-08-16T08:49:41.482Z"
   },
   {
    "duration": 9,
    "start_time": "2024-08-16T08:49:41.911Z"
   },
   {
    "duration": 27,
    "start_time": "2024-08-16T08:53:42.244Z"
   },
   {
    "duration": 78,
    "start_time": "2024-08-16T08:57:26.291Z"
   },
   {
    "duration": 28,
    "start_time": "2024-08-16T08:57:35.285Z"
   },
   {
    "duration": 41,
    "start_time": "2024-08-16T08:57:50.471Z"
   },
   {
    "duration": 72,
    "start_time": "2024-08-16T08:58:47.787Z"
   },
   {
    "duration": 54,
    "start_time": "2024-08-16T08:58:53.546Z"
   },
   {
    "duration": 27,
    "start_time": "2024-08-16T08:58:59.832Z"
   },
   {
    "duration": 26,
    "start_time": "2024-08-16T09:00:18.565Z"
   },
   {
    "duration": 25,
    "start_time": "2024-08-16T09:00:33.811Z"
   },
   {
    "duration": 11,
    "start_time": "2024-08-16T09:07:36.625Z"
   },
   {
    "duration": 19,
    "start_time": "2024-08-16T09:08:23.811Z"
   },
   {
    "duration": 10,
    "start_time": "2024-08-16T09:09:11.738Z"
   },
   {
    "duration": 10,
    "start_time": "2024-08-16T09:09:47.371Z"
   },
   {
    "duration": 10,
    "start_time": "2024-08-16T09:09:48.926Z"
   },
   {
    "duration": 526,
    "start_time": "2024-08-16T09:09:52.031Z"
   },
   {
    "duration": 5713,
    "start_time": "2024-08-16T09:09:52.558Z"
   },
   {
    "duration": 7,
    "start_time": "2024-08-16T09:09:58.273Z"
   },
   {
    "duration": 50,
    "start_time": "2024-08-16T09:09:58.281Z"
   },
   {
    "duration": 39,
    "start_time": "2024-08-16T09:09:58.332Z"
   },
   {
    "duration": 9,
    "start_time": "2024-08-16T09:09:58.373Z"
   },
   {
    "duration": 20,
    "start_time": "2024-08-16T09:09:58.384Z"
   },
   {
    "duration": 12,
    "start_time": "2024-08-16T09:09:58.405Z"
   },
   {
    "duration": 10,
    "start_time": "2024-08-16T09:09:58.418Z"
   },
   {
    "duration": 24,
    "start_time": "2024-08-16T09:09:58.429Z"
   },
   {
    "duration": 9,
    "start_time": "2024-08-16T09:09:58.455Z"
   },
   {
    "duration": 18,
    "start_time": "2024-08-16T09:13:37.931Z"
   },
   {
    "duration": 17,
    "start_time": "2024-08-16T09:14:30.227Z"
   },
   {
    "duration": 12,
    "start_time": "2024-08-16T09:14:42.669Z"
   },
   {
    "duration": 16,
    "start_time": "2024-08-16T09:14:44.683Z"
   },
   {
    "duration": 27,
    "start_time": "2024-08-16T09:15:30.026Z"
   },
   {
    "duration": 25,
    "start_time": "2024-08-16T09:15:44.314Z"
   },
   {
    "duration": 22,
    "start_time": "2024-08-16T09:16:09.073Z"
   },
   {
    "duration": 20,
    "start_time": "2024-08-16T09:16:13.550Z"
   },
   {
    "duration": 26,
    "start_time": "2024-08-16T09:16:25.491Z"
   },
   {
    "duration": 15,
    "start_time": "2024-08-16T09:17:27.260Z"
   },
   {
    "duration": 15,
    "start_time": "2024-08-16T09:17:30.913Z"
   },
   {
    "duration": 513,
    "start_time": "2024-08-16T09:18:15.657Z"
   },
   {
    "duration": 5807,
    "start_time": "2024-08-16T09:18:16.172Z"
   },
   {
    "duration": 7,
    "start_time": "2024-08-16T09:18:21.981Z"
   },
   {
    "duration": 45,
    "start_time": "2024-08-16T09:18:21.990Z"
   },
   {
    "duration": 44,
    "start_time": "2024-08-16T09:18:22.036Z"
   },
   {
    "duration": 10,
    "start_time": "2024-08-16T09:18:22.081Z"
   },
   {
    "duration": 10,
    "start_time": "2024-08-16T09:18:22.092Z"
   },
   {
    "duration": 10,
    "start_time": "2024-08-16T09:18:22.104Z"
   },
   {
    "duration": 8,
    "start_time": "2024-08-16T09:18:22.116Z"
   },
   {
    "duration": 26,
    "start_time": "2024-08-16T09:18:22.126Z"
   },
   {
    "duration": 10,
    "start_time": "2024-08-16T09:18:22.153Z"
   },
   {
    "duration": 15,
    "start_time": "2024-08-16T09:18:22.164Z"
   },
   {
    "duration": 14,
    "start_time": "2024-08-16T09:18:27.952Z"
   },
   {
    "duration": 14,
    "start_time": "2024-08-16T09:18:53.626Z"
   },
   {
    "duration": 15,
    "start_time": "2024-08-16T09:21:00.018Z"
   },
   {
    "duration": 15,
    "start_time": "2024-08-16T09:21:05.247Z"
   },
   {
    "duration": 15,
    "start_time": "2024-08-16T09:21:26.433Z"
   },
   {
    "duration": 14,
    "start_time": "2024-08-16T09:21:35.856Z"
   },
   {
    "duration": 2,
    "start_time": "2024-08-16T09:22:12.982Z"
   },
   {
    "duration": 75,
    "start_time": "2024-08-16T09:25:02.042Z"
   },
   {
    "duration": 11,
    "start_time": "2024-08-16T09:26:44.436Z"
   },
   {
    "duration": 49,
    "start_time": "2024-08-16T09:29:30.230Z"
   },
   {
    "duration": 24,
    "start_time": "2024-08-16T09:29:48.977Z"
   },
   {
    "duration": 18,
    "start_time": "2024-08-16T09:29:54.232Z"
   },
   {
    "duration": 39,
    "start_time": "2024-08-16T09:30:08.319Z"
   },
   {
    "duration": 50,
    "start_time": "2024-08-16T09:32:01.199Z"
   },
   {
    "duration": 25,
    "start_time": "2024-08-16T09:32:22.539Z"
   },
   {
    "duration": 24,
    "start_time": "2024-08-16T09:32:39.776Z"
   },
   {
    "duration": 12,
    "start_time": "2024-08-16T09:32:42.695Z"
   },
   {
    "duration": 15,
    "start_time": "2024-08-16T09:32:44.093Z"
   },
   {
    "duration": 11,
    "start_time": "2024-08-16T09:33:17.127Z"
   },
   {
    "duration": 23,
    "start_time": "2024-08-16T09:33:33.900Z"
   },
   {
    "duration": 15,
    "start_time": "2024-08-16T09:33:53.432Z"
   },
   {
    "duration": 15,
    "start_time": "2024-08-16T09:33:58.177Z"
   },
   {
    "duration": 19,
    "start_time": "2024-08-16T09:34:05.293Z"
   },
   {
    "duration": 19,
    "start_time": "2024-08-16T09:34:09.911Z"
   },
   {
    "duration": 42,
    "start_time": "2024-08-16T09:34:12.259Z"
   },
   {
    "duration": 43,
    "start_time": "2024-08-16T09:34:22.303Z"
   },
   {
    "duration": 34,
    "start_time": "2024-08-16T09:34:45.287Z"
   },
   {
    "duration": 509,
    "start_time": "2024-08-16T09:34:49.331Z"
   },
   {
    "duration": 5817,
    "start_time": "2024-08-16T09:34:49.842Z"
   },
   {
    "duration": 7,
    "start_time": "2024-08-16T09:34:55.660Z"
   },
   {
    "duration": 88,
    "start_time": "2024-08-16T09:34:55.668Z"
   },
   {
    "duration": 42,
    "start_time": "2024-08-16T09:34:55.757Z"
   },
   {
    "duration": 10,
    "start_time": "2024-08-16T09:34:55.800Z"
   },
   {
    "duration": 9,
    "start_time": "2024-08-16T09:34:55.812Z"
   },
   {
    "duration": 11,
    "start_time": "2024-08-16T09:34:55.822Z"
   },
   {
    "duration": 26,
    "start_time": "2024-08-16T09:34:55.834Z"
   },
   {
    "duration": 61,
    "start_time": "2024-08-16T09:34:55.861Z"
   },
   {
    "duration": 10,
    "start_time": "2024-08-16T09:34:55.923Z"
   },
   {
    "duration": 19,
    "start_time": "2024-08-16T09:34:55.934Z"
   },
   {
    "duration": 21,
    "start_time": "2024-08-16T09:34:55.954Z"
   },
   {
    "duration": 12,
    "start_time": "2024-08-16T09:35:16.667Z"
   },
   {
    "duration": 12,
    "start_time": "2024-08-16T09:35:55.978Z"
   },
   {
    "duration": 75,
    "start_time": "2024-08-16T09:36:17.443Z"
   },
   {
    "duration": 13,
    "start_time": "2024-08-16T09:36:34.817Z"
   },
   {
    "duration": 49,
    "start_time": "2024-08-16T09:41:56.533Z"
   },
   {
    "duration": 12,
    "start_time": "2024-08-16T09:41:58.691Z"
   },
   {
    "duration": 473,
    "start_time": "2024-08-16T09:42:01.507Z"
   },
   {
    "duration": 5904,
    "start_time": "2024-08-16T09:42:01.982Z"
   },
   {
    "duration": 7,
    "start_time": "2024-08-16T09:42:07.888Z"
   },
   {
    "duration": 51,
    "start_time": "2024-08-16T09:42:07.896Z"
   },
   {
    "duration": 41,
    "start_time": "2024-08-16T09:42:07.950Z"
   },
   {
    "duration": 9,
    "start_time": "2024-08-16T09:42:07.993Z"
   },
   {
    "duration": 10,
    "start_time": "2024-08-16T09:42:08.003Z"
   },
   {
    "duration": 10,
    "start_time": "2024-08-16T09:42:08.014Z"
   },
   {
    "duration": 9,
    "start_time": "2024-08-16T09:42:08.025Z"
   },
   {
    "duration": 25,
    "start_time": "2024-08-16T09:42:08.035Z"
   },
   {
    "duration": 11,
    "start_time": "2024-08-16T09:42:08.061Z"
   },
   {
    "duration": 15,
    "start_time": "2024-08-16T09:42:08.074Z"
   },
   {
    "duration": 10,
    "start_time": "2024-08-16T09:42:08.091Z"
   },
   {
    "duration": 10,
    "start_time": "2024-08-16T09:43:22.796Z"
   },
   {
    "duration": 492,
    "start_time": "2024-08-16T09:43:48.372Z"
   },
   {
    "duration": 5272,
    "start_time": "2024-08-16T09:43:48.866Z"
   },
   {
    "duration": 8,
    "start_time": "2024-08-16T09:43:54.139Z"
   },
   {
    "duration": 37,
    "start_time": "2024-08-16T09:43:54.148Z"
   },
   {
    "duration": 49,
    "start_time": "2024-08-16T09:43:54.186Z"
   },
   {
    "duration": 9,
    "start_time": "2024-08-16T09:43:54.236Z"
   },
   {
    "duration": 17,
    "start_time": "2024-08-16T09:43:54.246Z"
   },
   {
    "duration": 17,
    "start_time": "2024-08-16T09:43:54.265Z"
   },
   {
    "duration": 8,
    "start_time": "2024-08-16T09:43:54.283Z"
   },
   {
    "duration": 24,
    "start_time": "2024-08-16T09:43:54.294Z"
   },
   {
    "duration": 10,
    "start_time": "2024-08-16T09:43:54.319Z"
   },
   {
    "duration": 64,
    "start_time": "2024-08-16T09:43:54.330Z"
   },
   {
    "duration": 11,
    "start_time": "2024-08-16T09:43:54.396Z"
   },
   {
    "duration": 12,
    "start_time": "2024-08-16T09:44:05.745Z"
   },
   {
    "duration": 75,
    "start_time": "2024-08-16T09:45:59.401Z"
   },
   {
    "duration": 20,
    "start_time": "2024-08-16T09:46:39.108Z"
   },
   {
    "duration": 67,
    "start_time": "2024-08-16T09:47:44.139Z"
   },
   {
    "duration": 48,
    "start_time": "2024-08-16T09:47:58.920Z"
   },
   {
    "duration": 45,
    "start_time": "2024-08-16T09:48:23.717Z"
   },
   {
    "duration": 55,
    "start_time": "2024-08-16T09:48:26.719Z"
   },
   {
    "duration": 483,
    "start_time": "2024-08-16T09:48:30.095Z"
   },
   {
    "duration": 4772,
    "start_time": "2024-08-16T09:48:30.580Z"
   },
   {
    "duration": 7,
    "start_time": "2024-08-16T09:48:35.354Z"
   },
   {
    "duration": 56,
    "start_time": "2024-08-16T09:48:35.363Z"
   },
   {
    "duration": 38,
    "start_time": "2024-08-16T09:48:35.421Z"
   },
   {
    "duration": 10,
    "start_time": "2024-08-16T09:48:35.460Z"
   },
   {
    "duration": 10,
    "start_time": "2024-08-16T09:48:35.471Z"
   },
   {
    "duration": 10,
    "start_time": "2024-08-16T09:48:35.482Z"
   },
   {
    "duration": 7,
    "start_time": "2024-08-16T09:48:35.494Z"
   },
   {
    "duration": 38,
    "start_time": "2024-08-16T09:48:35.503Z"
   },
   {
    "duration": 10,
    "start_time": "2024-08-16T09:48:35.542Z"
   },
   {
    "duration": 15,
    "start_time": "2024-08-16T09:48:35.554Z"
   },
   {
    "duration": 12,
    "start_time": "2024-08-16T09:48:35.570Z"
   },
   {
    "duration": 16,
    "start_time": "2024-08-16T09:49:19.967Z"
   },
   {
    "duration": 522,
    "start_time": "2024-08-16T09:49:51.737Z"
   },
   {
    "duration": 6672,
    "start_time": "2024-08-16T09:49:52.261Z"
   },
   {
    "duration": 7,
    "start_time": "2024-08-16T09:49:58.935Z"
   },
   {
    "duration": 49,
    "start_time": "2024-08-16T09:49:58.944Z"
   },
   {
    "duration": 41,
    "start_time": "2024-08-16T09:49:58.994Z"
   },
   {
    "duration": 10,
    "start_time": "2024-08-16T09:49:59.037Z"
   },
   {
    "duration": 16,
    "start_time": "2024-08-16T09:49:59.048Z"
   },
   {
    "duration": 15,
    "start_time": "2024-08-16T09:49:59.066Z"
   },
   {
    "duration": 9,
    "start_time": "2024-08-16T09:49:59.083Z"
   },
   {
    "duration": 25,
    "start_time": "2024-08-16T09:49:59.095Z"
   },
   {
    "duration": 11,
    "start_time": "2024-08-16T09:49:59.122Z"
   },
   {
    "duration": 30,
    "start_time": "2024-08-16T09:49:59.134Z"
   },
   {
    "duration": 11,
    "start_time": "2024-08-16T09:49:59.165Z"
   },
   {
    "duration": 15,
    "start_time": "2024-08-16T09:50:51.300Z"
   },
   {
    "duration": 548,
    "start_time": "2024-08-16T09:51:32.027Z"
   },
   {
    "duration": 4753,
    "start_time": "2024-08-16T09:51:32.577Z"
   },
   {
    "duration": 7,
    "start_time": "2024-08-16T09:51:37.332Z"
   },
   {
    "duration": 57,
    "start_time": "2024-08-16T09:51:37.341Z"
   },
   {
    "duration": 30,
    "start_time": "2024-08-16T09:51:37.400Z"
   },
   {
    "duration": 10,
    "start_time": "2024-08-16T09:51:37.432Z"
   },
   {
    "duration": 12,
    "start_time": "2024-08-16T09:51:37.443Z"
   },
   {
    "duration": 10,
    "start_time": "2024-08-16T09:51:37.457Z"
   },
   {
    "duration": 8,
    "start_time": "2024-08-16T09:51:37.469Z"
   },
   {
    "duration": 23,
    "start_time": "2024-08-16T09:51:37.479Z"
   },
   {
    "duration": 11,
    "start_time": "2024-08-16T09:51:37.504Z"
   },
   {
    "duration": 14,
    "start_time": "2024-08-16T09:51:37.516Z"
   },
   {
    "duration": 30,
    "start_time": "2024-08-16T09:51:37.531Z"
   },
   {
    "duration": 608,
    "start_time": "2024-08-16T12:10:57.848Z"
   },
   {
    "duration": 5003,
    "start_time": "2024-08-16T12:10:58.458Z"
   },
   {
    "duration": 9,
    "start_time": "2024-08-16T12:11:03.462Z"
   },
   {
    "duration": 77,
    "start_time": "2024-08-16T12:11:03.473Z"
   },
   {
    "duration": 25,
    "start_time": "2024-08-16T12:11:03.552Z"
   },
   {
    "duration": 10,
    "start_time": "2024-08-16T12:11:03.578Z"
   },
   {
    "duration": 12,
    "start_time": "2024-08-16T12:11:03.590Z"
   },
   {
    "duration": 11,
    "start_time": "2024-08-16T12:11:03.604Z"
   },
   {
    "duration": 9,
    "start_time": "2024-08-16T12:11:03.616Z"
   },
   {
    "duration": 27,
    "start_time": "2024-08-16T12:11:03.627Z"
   },
   {
    "duration": 30,
    "start_time": "2024-08-16T12:11:03.655Z"
   },
   {
    "duration": 17,
    "start_time": "2024-08-16T12:11:03.687Z"
   },
   {
    "duration": 14,
    "start_time": "2024-08-16T12:11:03.706Z"
   },
   {
    "duration": 528,
    "start_time": "2024-08-16T12:27:22.834Z"
   },
   {
    "duration": 4691,
    "start_time": "2024-08-16T12:27:23.364Z"
   },
   {
    "duration": 8,
    "start_time": "2024-08-16T12:27:28.056Z"
   },
   {
    "duration": 58,
    "start_time": "2024-08-16T12:27:28.065Z"
   },
   {
    "duration": 36,
    "start_time": "2024-08-16T12:27:28.125Z"
   },
   {
    "duration": 10,
    "start_time": "2024-08-16T12:27:28.163Z"
   },
   {
    "duration": 41,
    "start_time": "2024-08-16T12:27:28.175Z"
   },
   {
    "duration": 26,
    "start_time": "2024-08-16T12:27:28.217Z"
   },
   {
    "duration": 22,
    "start_time": "2024-08-16T12:27:28.245Z"
   },
   {
    "duration": 30,
    "start_time": "2024-08-16T12:27:28.269Z"
   },
   {
    "duration": 33,
    "start_time": "2024-08-16T12:27:28.300Z"
   },
   {
    "duration": 49,
    "start_time": "2024-08-16T12:27:28.334Z"
   },
   {
    "duration": 47,
    "start_time": "2024-08-16T12:27:28.384Z"
   },
   {
    "duration": 26,
    "start_time": "2024-08-16T12:28:16.509Z"
   },
   {
    "duration": 25,
    "start_time": "2024-08-16T12:28:38.456Z"
   },
   {
    "duration": 26,
    "start_time": "2024-08-16T12:28:58.866Z"
   },
   {
    "duration": 76,
    "start_time": "2024-08-16T12:30:03.452Z"
   },
   {
    "duration": 25,
    "start_time": "2024-08-16T12:30:10.970Z"
   },
   {
    "duration": 51,
    "start_time": "2024-08-16T12:31:29.304Z"
   },
   {
    "duration": 24,
    "start_time": "2024-08-16T12:31:43.135Z"
   },
   {
    "duration": 42,
    "start_time": "2024-08-16T12:32:37.826Z"
   },
   {
    "duration": 24,
    "start_time": "2024-08-16T12:33:39.320Z"
   },
   {
    "duration": 16,
    "start_time": "2024-08-16T12:34:30.585Z"
   },
   {
    "duration": 21,
    "start_time": "2024-08-16T12:47:56.502Z"
   },
   {
    "duration": 11,
    "start_time": "2024-08-16T12:47:59.925Z"
   },
   {
    "duration": 26,
    "start_time": "2024-08-16T12:48:17.707Z"
   },
   {
    "duration": 15,
    "start_time": "2024-08-16T12:48:33.032Z"
   },
   {
    "duration": 18,
    "start_time": "2024-08-16T12:49:51.999Z"
   },
   {
    "duration": 17,
    "start_time": "2024-08-16T12:50:28.927Z"
   },
   {
    "duration": 14,
    "start_time": "2024-08-16T12:54:44.851Z"
   },
   {
    "duration": 15,
    "start_time": "2024-08-16T12:55:56.003Z"
   },
   {
    "duration": 14,
    "start_time": "2024-08-16T12:55:59.311Z"
   },
   {
    "duration": 473,
    "start_time": "2024-08-16T12:56:46.180Z"
   },
   {
    "duration": 5265,
    "start_time": "2024-08-16T12:56:46.654Z"
   },
   {
    "duration": 8,
    "start_time": "2024-08-16T12:56:51.920Z"
   },
   {
    "duration": 53,
    "start_time": "2024-08-16T12:56:51.930Z"
   },
   {
    "duration": 52,
    "start_time": "2024-08-16T12:56:51.984Z"
   },
   {
    "duration": 9,
    "start_time": "2024-08-16T12:56:52.037Z"
   },
   {
    "duration": 16,
    "start_time": "2024-08-16T12:56:52.047Z"
   },
   {
    "duration": 11,
    "start_time": "2024-08-16T12:56:52.064Z"
   },
   {
    "duration": 19,
    "start_time": "2024-08-16T12:56:52.077Z"
   },
   {
    "duration": 26,
    "start_time": "2024-08-16T12:56:52.098Z"
   },
   {
    "duration": 11,
    "start_time": "2024-08-16T12:56:52.125Z"
   },
   {
    "duration": 16,
    "start_time": "2024-08-16T12:56:52.137Z"
   },
   {
    "duration": 11,
    "start_time": "2024-08-16T12:56:52.154Z"
   },
   {
    "duration": 77,
    "start_time": "2024-08-16T12:57:21.315Z"
   },
   {
    "duration": 19,
    "start_time": "2024-08-16T12:57:40.244Z"
   },
   {
    "duration": 37,
    "start_time": "2024-08-16T12:57:57.826Z"
   },
   {
    "duration": 19,
    "start_time": "2024-08-16T12:58:05.200Z"
   },
   {
    "duration": 497,
    "start_time": "2024-08-16T12:58:08.588Z"
   },
   {
    "duration": 4654,
    "start_time": "2024-08-16T12:58:09.087Z"
   },
   {
    "duration": 7,
    "start_time": "2024-08-16T12:58:13.743Z"
   },
   {
    "duration": 41,
    "start_time": "2024-08-16T12:58:13.752Z"
   },
   {
    "duration": 37,
    "start_time": "2024-08-16T12:58:13.794Z"
   },
   {
    "duration": 9,
    "start_time": "2024-08-16T12:58:13.833Z"
   },
   {
    "duration": 10,
    "start_time": "2024-08-16T12:58:13.843Z"
   },
   {
    "duration": 12,
    "start_time": "2024-08-16T12:58:13.854Z"
   },
   {
    "duration": 12,
    "start_time": "2024-08-16T12:58:13.868Z"
   },
   {
    "duration": 118,
    "start_time": "2024-08-16T12:58:13.884Z"
   },
   {
    "duration": 0,
    "start_time": "2024-08-16T12:58:14.004Z"
   },
   {
    "duration": 0,
    "start_time": "2024-08-16T12:58:14.005Z"
   },
   {
    "duration": 0,
    "start_time": "2024-08-16T12:58:14.006Z"
   },
   {
    "duration": 26,
    "start_time": "2024-08-16T12:58:25.939Z"
   },
   {
    "duration": 40,
    "start_time": "2024-08-16T12:58:37.707Z"
   },
   {
    "duration": 27,
    "start_time": "2024-08-16T12:58:42.506Z"
   },
   {
    "duration": 27,
    "start_time": "2024-08-16T12:59:17.203Z"
   },
   {
    "duration": 19,
    "start_time": "2024-08-16T12:59:40.531Z"
   },
   {
    "duration": 19,
    "start_time": "2024-08-16T12:59:47.784Z"
   },
   {
    "duration": 41,
    "start_time": "2024-08-16T12:59:53.716Z"
   },
   {
    "duration": 496,
    "start_time": "2024-08-16T13:00:04.414Z"
   },
   {
    "duration": 5027,
    "start_time": "2024-08-16T13:00:04.912Z"
   },
   {
    "duration": 8,
    "start_time": "2024-08-16T13:00:09.940Z"
   },
   {
    "duration": 43,
    "start_time": "2024-08-16T13:00:09.950Z"
   },
   {
    "duration": 53,
    "start_time": "2024-08-16T13:00:09.994Z"
   },
   {
    "duration": 10,
    "start_time": "2024-08-16T13:00:10.048Z"
   },
   {
    "duration": 10,
    "start_time": "2024-08-16T13:00:10.060Z"
   },
   {
    "duration": 23,
    "start_time": "2024-08-16T13:00:10.072Z"
   },
   {
    "duration": 8,
    "start_time": "2024-08-16T13:00:10.097Z"
   },
   {
    "duration": 88,
    "start_time": "2024-08-16T13:00:10.107Z"
   },
   {
    "duration": 0,
    "start_time": "2024-08-16T13:00:10.197Z"
   },
   {
    "duration": 0,
    "start_time": "2024-08-16T13:00:10.198Z"
   },
   {
    "duration": 0,
    "start_time": "2024-08-16T13:00:10.199Z"
   },
   {
    "duration": 28,
    "start_time": "2024-08-16T13:00:16.553Z"
   },
   {
    "duration": 483,
    "start_time": "2024-08-16T13:00:40.762Z"
   },
   {
    "duration": 4759,
    "start_time": "2024-08-16T13:00:41.246Z"
   },
   {
    "duration": 8,
    "start_time": "2024-08-16T13:00:46.007Z"
   },
   {
    "duration": 35,
    "start_time": "2024-08-16T13:00:46.016Z"
   },
   {
    "duration": 50,
    "start_time": "2024-08-16T13:00:46.053Z"
   },
   {
    "duration": 9,
    "start_time": "2024-08-16T13:00:46.105Z"
   },
   {
    "duration": 16,
    "start_time": "2024-08-16T13:00:46.115Z"
   },
   {
    "duration": 10,
    "start_time": "2024-08-16T13:00:46.132Z"
   },
   {
    "duration": 7,
    "start_time": "2024-08-16T13:00:46.144Z"
   },
   {
    "duration": 40,
    "start_time": "2024-08-16T13:00:46.153Z"
   },
   {
    "duration": 10,
    "start_time": "2024-08-16T13:00:46.194Z"
   },
   {
    "duration": 14,
    "start_time": "2024-08-16T13:00:46.205Z"
   },
   {
    "duration": 10,
    "start_time": "2024-08-16T13:00:46.220Z"
   },
   {
    "duration": 78,
    "start_time": "2024-08-16T13:02:35.891Z"
   },
   {
    "duration": 15,
    "start_time": "2024-08-16T13:02:47.510Z"
   },
   {
    "duration": 13,
    "start_time": "2024-08-16T13:02:52.101Z"
   },
   {
    "duration": 14,
    "start_time": "2024-08-16T13:07:31.454Z"
   },
   {
    "duration": 14,
    "start_time": "2024-08-16T13:07:38.362Z"
   },
   {
    "duration": 74,
    "start_time": "2024-08-16T13:07:53.403Z"
   },
   {
    "duration": 12,
    "start_time": "2024-08-16T13:07:57.696Z"
   },
   {
    "duration": 42,
    "start_time": "2024-08-16T13:08:43.077Z"
   },
   {
    "duration": 13,
    "start_time": "2024-08-16T13:08:57.268Z"
   },
   {
    "duration": 15,
    "start_time": "2024-08-16T13:09:08.612Z"
   },
   {
    "duration": 13,
    "start_time": "2024-08-16T13:09:28.573Z"
   },
   {
    "duration": 14,
    "start_time": "2024-08-16T13:09:40.026Z"
   },
   {
    "duration": 520,
    "start_time": "2024-08-16T13:09:51.520Z"
   },
   {
    "duration": 4978,
    "start_time": "2024-08-16T13:09:52.042Z"
   },
   {
    "duration": 7,
    "start_time": "2024-08-16T13:09:57.021Z"
   },
   {
    "duration": 42,
    "start_time": "2024-08-16T13:09:57.030Z"
   },
   {
    "duration": 41,
    "start_time": "2024-08-16T13:09:57.074Z"
   },
   {
    "duration": 9,
    "start_time": "2024-08-16T13:09:57.116Z"
   },
   {
    "duration": 10,
    "start_time": "2024-08-16T13:09:57.127Z"
   },
   {
    "duration": 10,
    "start_time": "2024-08-16T13:09:57.138Z"
   },
   {
    "duration": 7,
    "start_time": "2024-08-16T13:09:57.150Z"
   },
   {
    "duration": 26,
    "start_time": "2024-08-16T13:09:57.159Z"
   },
   {
    "duration": 9,
    "start_time": "2024-08-16T13:09:57.186Z"
   },
   {
    "duration": 15,
    "start_time": "2024-08-16T13:09:57.197Z"
   },
   {
    "duration": 11,
    "start_time": "2024-08-16T13:09:57.213Z"
   },
   {
    "duration": 454,
    "start_time": "2024-08-16T13:11:35.098Z"
   },
   {
    "duration": 4908,
    "start_time": "2024-08-16T13:11:35.554Z"
   },
   {
    "duration": 8,
    "start_time": "2024-08-16T13:11:40.463Z"
   },
   {
    "duration": 44,
    "start_time": "2024-08-16T13:11:40.473Z"
   },
   {
    "duration": 43,
    "start_time": "2024-08-16T13:11:40.519Z"
   },
   {
    "duration": 9,
    "start_time": "2024-08-16T13:11:40.563Z"
   },
   {
    "duration": 9,
    "start_time": "2024-08-16T13:11:40.574Z"
   },
   {
    "duration": 11,
    "start_time": "2024-08-16T13:11:40.584Z"
   },
   {
    "duration": 8,
    "start_time": "2024-08-16T13:11:40.597Z"
   },
   {
    "duration": 37,
    "start_time": "2024-08-16T13:11:40.606Z"
   },
   {
    "duration": 11,
    "start_time": "2024-08-16T13:11:40.652Z"
   },
   {
    "duration": 13,
    "start_time": "2024-08-16T13:11:40.664Z"
   },
   {
    "duration": 11,
    "start_time": "2024-08-16T13:11:40.678Z"
   }
  ],
  "kernelspec": {
   "display_name": "Python 3 (ipykernel)",
   "language": "python",
   "name": "python3"
  },
  "language_info": {
   "codemirror_mode": {
    "name": "ipython",
    "version": 3
   },
   "file_extension": ".py",
   "mimetype": "text/x-python",
   "name": "python",
   "nbconvert_exporter": "python",
   "pygments_lexer": "ipython3",
   "version": "3.9.5"
  },
  "toc": {
   "base_numbering": 1,
   "nav_menu": {},
   "number_sections": true,
   "sideBar": true,
   "skip_h1_title": true,
   "title_cell": "Table of Contents",
   "title_sidebar": "Contents",
   "toc_cell": false,
   "toc_position": {},
   "toc_section_display": true,
   "toc_window_display": true
  }
 },
 "nbformat": 4,
 "nbformat_minor": 2
}
